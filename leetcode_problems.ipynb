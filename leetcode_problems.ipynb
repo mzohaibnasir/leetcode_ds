{
 "cells": [
  {
   "cell_type": "markdown",
   "metadata": {},
   "source": [
    "# leetcode 33: Search in Rotated Sorted Array\n"
   ]
  },
  {
   "cell_type": "code",
   "execution_count": 1,
   "metadata": {},
   "outputs": [
    {
     "name": "stdout",
     "output_type": "stream",
     "text": [
      "nums:  [4, 5, 6, 7, 0, 1, 2] target:  2\n"
     ]
    },
    {
     "data": {
      "text/plain": [
       "6"
      ]
     },
     "execution_count": 1,
     "metadata": {},
     "output_type": "execute_result"
    }
   ],
   "source": [
    "def search(nums, target):\n",
    "    \"\"\"\n",
    "    :type nums: List[int]\n",
    "    :type target: int\n",
    "    :rtype: int\n",
    "    \"\"\"\n",
    "    print(\"nums: \", nums, \"target: \", target)\n",
    "\n",
    "    left = 0\n",
    "    right = len(nums) - 1\n",
    "    i = 0\n",
    "\n",
    "    while left <= right:\n",
    "\n",
    "        # avoid overflow\n",
    "        mid = left + (right - left) // 2\n",
    "\n",
    "        if target == nums[mid]:\n",
    "            return mid\n",
    "        # one part must be sorted\n",
    "        if nums[left] <= nums[mid]:\n",
    "            # if right half is sorted\n",
    "            if nums[left] <= target and target <= nums[mid]:\n",
    "                print(\"key is in left half\")\n",
    "\n",
    "                right = mid - 1\n",
    "\n",
    "            else:\n",
    "                left = mid + 1\n",
    "\n",
    "        else:\n",
    "            # if right half is sorted\n",
    "\n",
    "            print(\"right - half is sorted\")\n",
    "            if nums[mid] <= target and target <= nums[right]:\n",
    "                # if key is in left half\n",
    "                left = mid + 1\n",
    "            else:\n",
    "                right = mid - 1\n",
    "\n",
    "    return -1\n",
    "\n",
    "\n",
    "nums = [4, 5, 6, 7, 0, 1, 2]\n",
    "search(nums, target=2)"
   ]
  },
  {
   "cell_type": "code",
   "execution_count": 2,
   "metadata": {},
   "outputs": [
    {
     "data": {
      "text/plain": [
       "6"
      ]
     },
     "execution_count": 2,
     "metadata": {},
     "output_type": "execute_result"
    }
   ],
   "source": [
    "def search(nums, target):\n",
    "    left, right = 0, len(nums) - 1\n",
    "\n",
    "    while left <= right:\n",
    "        mid = left + (right - left) // 2\n",
    "        if nums[mid] == target:\n",
    "            return mid\n",
    "\n",
    "        # one of side must be sorted\n",
    "\n",
    "        # bisecting fo rbinary tree search\n",
    "        if nums[left] <= nums[mid]:\n",
    "            #\n",
    "\n",
    "            # if target is on left\n",
    "            if nums[left] <= target <= nums[mid]:\n",
    "                right = mid - 1\n",
    "            else:\n",
    "                left = mid + 1  # switch to other side\n",
    "        else:\n",
    "\n",
    "            if nums[mid] <= target <= nums[right]:\n",
    "                left = mid + 1\n",
    "            else:\n",
    "                right = mid - 1\n",
    "\n",
    "    return -1\n",
    "\n",
    "\n",
    "nums = [4, 5, 6, 7, 0, 1, 2]\n",
    "search(nums, target=2)"
   ]
  },
  {
   "cell_type": "code",
   "execution_count": null,
   "metadata": {},
   "outputs": [],
   "source": []
  },
  {
   "cell_type": "markdown",
   "metadata": {},
   "source": [
    "# Refined\n"
   ]
  },
  {
   "cell_type": "code",
   "execution_count": 3,
   "metadata": {},
   "outputs": [
    {
     "name": "stdout",
     "output_type": "stream",
     "text": [
      "nums: [4, 5, 6, 7, 0, 1, 2], target:2\n",
      "left: 0, right:6, nums:mid:7\n",
      "going to left bcz target is less than/equal to middle\n",
      "shifting: target is in right part\n",
      "left: 4, right:6, nums:mid:1\n",
      "going to right bcz target is greater than middle\n",
      "confirmed: target is in right part and right part is ordered\n",
      "left: 6, right:6, nums:mid:2\n"
     ]
    },
    {
     "data": {
      "text/plain": [
       "6"
      ]
     },
     "execution_count": 3,
     "metadata": {},
     "output_type": "execute_result"
    }
   ],
   "source": [
    "def search(nums, target):\n",
    "    print(f\"nums: {nums}, target:{target}\")\n",
    "\n",
    "    left = 0\n",
    "    right = len(nums) - 1\n",
    "\n",
    "    while left <= right:\n",
    "        mid = left + (right - left) // 2\n",
    "        print(f\"left: {left}, right:{right}, nums:mid:{nums[mid]}\")\n",
    "        if nums[mid] == target:\n",
    "            return mid\n",
    "\n",
    "        # left side\n",
    "        if target <= nums[mid]:\n",
    "            print(f\"going to left bcz target is less than/equal to middle\")\n",
    "\n",
    "            if nums[left] <= target <= nums[mid]:\n",
    "                print(\"confirmed: target is in left part and left part is ordered\")\n",
    "                right = mid - 1\n",
    "            else:\n",
    "                print(\"shifting: target is in right part\")\n",
    "                left = mid + 1\n",
    "\n",
    "        else:\n",
    "            print(f\"going to right bcz target is greater than middle\")\n",
    "\n",
    "            if nums[mid] <= target <= nums[right]:\n",
    "                print(\"confirmed: target is in right part and right part is ordered\")\n",
    "                left = mid + 1\n",
    "            else:\n",
    "                print(\"shifting: target is in left part\")\n",
    "                right = mid - 1\n",
    "\n",
    "    return -1\n",
    "\n",
    "\n",
    "nums = [4, 5, 6, 7, 0, 1, 2]\n",
    "search(nums, target=2)"
   ]
  },
  {
   "cell_type": "code",
   "execution_count": null,
   "metadata": {},
   "outputs": [],
   "source": []
  },
  {
   "cell_type": "code",
   "execution_count": 4,
   "metadata": {},
   "outputs": [
    {
     "name": "stdout",
     "output_type": "stream",
     "text": [
      "1\n",
      "2\n",
      "3\n",
      "2\n",
      "1\n"
     ]
    }
   ],
   "source": [
    "s = \"dfa12321afd\"\n",
    "s.split()\n",
    "\n",
    "\n",
    "for i in s:\n",
    "    # print(i)\n",
    "    if i.isdigit():\n",
    "        print(i)"
   ]
  },
  {
   "cell_type": "markdown",
   "metadata": {},
   "source": [
    "## 1796. Second Largest Digit in a String\n"
   ]
  },
  {
   "cell_type": "code",
   "execution_count": 5,
   "metadata": {},
   "outputs": [
    {
     "name": "stdout",
     "output_type": "stream",
     "text": [
      "2\n"
     ]
    }
   ],
   "source": [
    "s = \"abc1123\"\n",
    "numeric = [int(i) for i in s if i.isdigit()]\n",
    "\n",
    "\n",
    "max = -1\n",
    "secondMax = -1\n",
    "for n in numeric:\n",
    "    if n > max:\n",
    "        secondMax = max\n",
    "        max = n\n",
    "    elif n > secondMax and n < max:\n",
    "        secondMax = n\n",
    "print(secondMax)"
   ]
  },
  {
   "cell_type": "code",
   "execution_count": null,
   "metadata": {},
   "outputs": [],
   "source": []
  },
  {
   "cell_type": "markdown",
   "metadata": {},
   "source": [
    "## 283. Move Zeroes\n"
   ]
  },
  {
   "cell_type": "code",
   "execution_count": 6,
   "metadata": {},
   "outputs": [],
   "source": [
    "# swap(nums, 1, 3)"
   ]
  },
  {
   "cell_type": "code",
   "execution_count": 7,
   "metadata": {},
   "outputs": [
    {
     "name": "stdout",
     "output_type": "stream",
     "text": [
      "[1, 3, 12, 0, 0, 0, 0]\n"
     ]
    }
   ],
   "source": [
    "nums = [0, 0, 1, 0, 0, 3, 12]\n",
    "\n",
    "\n",
    "def move_zeros_to_end(arr):\n",
    "    non_zero_pos = 0  # Position to place the next non-zero element\n",
    "\n",
    "    # Iterate through the array\n",
    "    for current in range(len(arr)):\n",
    "        if arr[current] != 0:\n",
    "            # Swap the elements at non_zero_pos and current\n",
    "            arr[non_zero_pos], arr[current] = arr[current], arr[non_zero_pos]\n",
    "            non_zero_pos += 1  # Move the non-zero position to the right\n",
    "\n",
    "    print(arr)\n",
    "\n",
    "\n",
    "move_zeros_to_end(nums)"
   ]
  },
  {
   "cell_type": "code",
   "execution_count": 8,
   "metadata": {},
   "outputs": [],
   "source": [
    "# nums = [0, 0, 1, 0, 0, 3, 12]\n",
    "\n",
    "\n",
    "# non_zero_pos = 0\n",
    "\n",
    "\n",
    "# for current in range(len(nums)):\n",
    "\n",
    "#     print(\n",
    "#         f\"idx: {current}, non_zero_pos: {nums[non_zero_pos]}, current: {nums[current]}\"\n",
    "#     )\n",
    "\n",
    "#     if nums[current] != 0:\n",
    "#         # print(current)\n",
    "#         print(f\"non_zero_pos: {nums[non_zero_pos]}, current: {nums[current]}\")\n",
    "#         print(\"\\t entered\")\n",
    "\n",
    "#         print(f\"\\t non_zero_pos: {nums[non_zero_pos]}, current: {nums[current]}\")\n",
    "#         nums[non_zero_pos], nums[current] = nums[current], nums[non_zero_pos]\n",
    "#         non_zero_pos += 1\n",
    "\n",
    "# print(nums)"
   ]
  },
  {
   "cell_type": "code",
   "execution_count": 9,
   "metadata": {},
   "outputs": [
    {
     "name": "stdout",
     "output_type": "stream",
     "text": [
      "0\n",
      "0\n",
      "1\n",
      "0\n",
      "0\n",
      "3\n",
      "12\n",
      "[1, 3, 12, 0, 0, 0, 0]\n"
     ]
    }
   ],
   "source": [
    "nums = [0, 0, 1, 0, 0, 3, 12]\n",
    "\n",
    "left = 0  # permanent\n",
    "current = 0\n",
    "\n",
    "\n",
    "while current < len(nums):\n",
    "    print(nums[current])\n",
    "\n",
    "    if nums[current] != 0:\n",
    "        nums[left], nums[current] = nums[current], nums[left]\n",
    "        left += 1\n",
    "\n",
    "    current += 1\n",
    "\n",
    "\n",
    "print(nums)"
   ]
  },
  {
   "cell_type": "code",
   "execution_count": 10,
   "metadata": {},
   "outputs": [
    {
     "data": {
      "text/plain": [
       "[1, 3, 12, 0, 0, 0, 0]"
      ]
     },
     "execution_count": 10,
     "metadata": {},
     "output_type": "execute_result"
    }
   ],
   "source": [
    "def moveZeroes(nums):\n",
    "    \"\"\"\n",
    "    :type nums: List[int]\n",
    "    :rtype: None Do not return anything, modify nums in-place instead.\n",
    "    \"\"\"\n",
    "    zero_count = nums.count(0)\n",
    "    l = 0\n",
    "    for n in nums:\n",
    "        if n != 0:\n",
    "            nums[l] = n\n",
    "            l += 1\n",
    "    for zero in range(1, zero_count + 1):\n",
    "        nums[-zero] = 0\n",
    "\n",
    "    return nums\n",
    "\n",
    "\n",
    "moveZeroes(nums)"
   ]
  },
  {
   "cell_type": "code",
   "execution_count": null,
   "metadata": {},
   "outputs": [],
   "source": []
  },
  {
   "cell_type": "code",
   "execution_count": null,
   "metadata": {},
   "outputs": [],
   "source": []
  },
  {
   "cell_type": "code",
   "execution_count": null,
   "metadata": {},
   "outputs": [],
   "source": []
  },
  {
   "cell_type": "code",
   "execution_count": null,
   "metadata": {},
   "outputs": [],
   "source": []
  },
  {
   "cell_type": "code",
   "execution_count": null,
   "metadata": {},
   "outputs": [],
   "source": []
  },
  {
   "cell_type": "markdown",
   "metadata": {},
   "source": [
    "# 7: Given a signed 32-bit integer x, return x with its digits reversed. If reversing x causes the value to go outside the signed 32-bit integer range [-231, 231 - 1], then return 0.\n"
   ]
  },
  {
   "cell_type": "code",
   "execution_count": 11,
   "metadata": {},
   "outputs": [
    {
     "data": {
      "text/plain": [
       "-321"
      ]
     },
     "execution_count": 11,
     "metadata": {},
     "output_type": "execute_result"
    }
   ],
   "source": [
    "def reverseInt(x):\n",
    "    sign = 1 if x > 0 else -1\n",
    "    reversed_no = 0\n",
    "    x = abs(x)\n",
    "\n",
    "    while x > 0:\n",
    "        digit = x % 10\n",
    "        x = x // 10\n",
    "        reversed_no = reversed_no * 10 + digit  # 32 = 3 *10 +2\n",
    "\n",
    "    return sign * reversed_no\n",
    "\n",
    "\n",
    "x = -123\n",
    "\n",
    "reverseInt(x)"
   ]
  },
  {
   "cell_type": "code",
   "execution_count": 12,
   "metadata": {},
   "outputs": [
    {
     "data": {
      "text/plain": [
       "0"
      ]
     },
     "execution_count": 12,
     "metadata": {},
     "output_type": "execute_result"
    }
   ],
   "source": [
    "def reverseInt(x):\n",
    "\n",
    "    MAX_INT = 2**31 - 1  # 2,147,483,647\n",
    "    MIN_INT = -(2**31)  # -2,147,483,648\n",
    "\n",
    "    sign = 1 if x > 0 else -1\n",
    "    reversed_no = 0\n",
    "    x = abs(x)\n",
    "\n",
    "    while x > 0:\n",
    "        if (\n",
    "            reversed_no > MAX_INT / 10 or reversed_no < MIN_INT / 10\n",
    "        ):  # MIN_INT / 10: not including units place\n",
    "            return 0\n",
    "        digit = x % 10\n",
    "        x = x // 10\n",
    "        reversed_no = reversed_no * 10 + digit\n",
    "\n",
    "    return sign * reversed_no\n",
    "\n",
    "\n",
    "x = -123123123312313123\n",
    "\n",
    "reverseInt(x)"
   ]
  },
  {
   "cell_type": "code",
   "execution_count": null,
   "metadata": {},
   "outputs": [],
   "source": []
  },
  {
   "cell_type": "code",
   "execution_count": null,
   "metadata": {},
   "outputs": [],
   "source": []
  },
  {
   "cell_type": "markdown",
   "metadata": {},
   "source": [
    "# revserse an array\n"
   ]
  },
  {
   "cell_type": "code",
   "execution_count": 13,
   "metadata": {},
   "outputs": [
    {
     "data": {
      "text/plain": [
       "[3, 2, 1]"
      ]
     },
     "execution_count": 13,
     "metadata": {},
     "output_type": "execute_result"
    }
   ],
   "source": [
    "def reverseArray(array):\n",
    "    left = 0\n",
    "    right = len(nums) - 1\n",
    "    while left < right:\n",
    "        nums[left], nums[right] = nums[right], nums[left]\n",
    "        left += 1\n",
    "        right -= 1\n",
    "\n",
    "    return nums\n",
    "\n",
    "\n",
    "nums = [1, 2, 3]\n",
    "reverseArray(nums)"
   ]
  },
  {
   "cell_type": "code",
   "execution_count": 14,
   "metadata": {},
   "outputs": [
    {
     "data": {
      "text/plain": [
       "'ers'"
      ]
     },
     "execution_count": 14,
     "metadata": {},
     "output_type": "execute_result"
    }
   ],
   "source": [
    "s = \"sre\"\n",
    "\n",
    "s[::-1]"
   ]
  },
  {
   "cell_type": "code",
   "execution_count": 15,
   "metadata": {},
   "outputs": [
    {
     "data": {
      "text/plain": [
       "[]"
      ]
     },
     "execution_count": 15,
     "metadata": {},
     "output_type": "execute_result"
    }
   ],
   "source": [
    "my_list = [[1, 2, 3], [4, 5, 6], [7, 8, 9]]\n",
    "\n",
    "\n",
    "my_list[0:0:-1]"
   ]
  },
  {
   "cell_type": "code",
   "execution_count": null,
   "metadata": {},
   "outputs": [],
   "source": []
  },
  {
   "cell_type": "markdown",
   "metadata": {},
   "source": [
    "## 268. Missing Number\n",
    "\n",
    "Given an array nums containing n distinct numbers in the range [0, n], return the only number in the range that is missing from the array.\n"
   ]
  },
  {
   "cell_type": "code",
   "execution_count": 16,
   "metadata": {},
   "outputs": [
    {
     "data": {
      "text/plain": [
       "8"
      ]
     },
     "execution_count": 16,
     "metadata": {},
     "output_type": "execute_result"
    }
   ],
   "source": [
    "def missingNumber(nums):\n",
    "    n = len(nums)\n",
    "    expected_sum = n * (n + 1) // 2\n",
    "    return expected_sum - sum(nums)\n",
    "\n",
    "\n",
    "nums = [9, 6, 4, 2, 3, 5, 7, 0, 1]\n",
    "\n",
    "missingNumber(nums)"
   ]
  },
  {
   "cell_type": "code",
   "execution_count": null,
   "metadata": {},
   "outputs": [],
   "source": []
  },
  {
   "cell_type": "code",
   "execution_count": null,
   "metadata": {},
   "outputs": [],
   "source": []
  },
  {
   "cell_type": "code",
   "execution_count": 17,
   "metadata": {},
   "outputs": [],
   "source": [
    "def gcdOfStrings(str1: str, str2: str) -> str:\n",
    "    # Check if concatenated strings are equal or not, if not return \"\"\n",
    "    if str1 + str2 != str2 + str1:\n",
    "        return \"\"\n",
    "    # If strings are equal than return the substring from 0 to gcd of size(str1), size(str2)\n",
    "    from math import gcd\n",
    "\n",
    "    print(f\"s1: {len(str1)}, s2: {len(str2)}\")\n",
    "    return str1[: gcd(len(str1), len(str2))]"
   ]
  },
  {
   "cell_type": "code",
   "execution_count": 18,
   "metadata": {},
   "outputs": [
    {
     "data": {
      "text/plain": [
       "2"
      ]
     },
     "execution_count": 18,
     "metadata": {},
     "output_type": "execute_result"
    }
   ],
   "source": [
    "import math\n",
    "from math import gcd\n",
    "\n",
    "gcd(10, 12)"
   ]
  },
  {
   "cell_type": "code",
   "execution_count": 19,
   "metadata": {},
   "outputs": [
    {
     "name": "stdout",
     "output_type": "stream",
     "text": [
      "s1: 6, s2: 2\n"
     ]
    },
    {
     "data": {
      "text/plain": [
       "'AB'"
      ]
     },
     "execution_count": 19,
     "metadata": {},
     "output_type": "execute_result"
    }
   ],
   "source": [
    "gcdOfStrings(\"ABABAB\", \"AB\")"
   ]
  },
  {
   "cell_type": "code",
   "execution_count": null,
   "metadata": {},
   "outputs": [],
   "source": []
  },
  {
   "cell_type": "code",
   "execution_count": null,
   "metadata": {},
   "outputs": [],
   "source": []
  },
  {
   "cell_type": "markdown",
   "metadata": {},
   "source": [
    "# sumsTwo\n"
   ]
  },
  {
   "cell_type": "code",
   "execution_count": 20,
   "metadata": {},
   "outputs": [],
   "source": [
    "nums = [16, 4, 23, 8, 15, 42, 1, 2]\n",
    "target = 19"
   ]
  },
  {
   "cell_type": "code",
   "execution_count": 21,
   "metadata": {},
   "outputs": [
    {
     "name": "stdout",
     "output_type": "stream",
     "text": [
      "[1, 2, 4, 8, 15, 16, 23, 42]\n"
     ]
    }
   ],
   "source": [
    "nums.sort()\n",
    "print(nums)"
   ]
  },
  {
   "cell_type": "code",
   "execution_count": 22,
   "metadata": {},
   "outputs": [],
   "source": [
    "p = 0\n",
    "q = len(nums) - 1"
   ]
  },
  {
   "cell_type": "code",
   "execution_count": 23,
   "metadata": {},
   "outputs": [
    {
     "data": {
      "text/plain": [
       "42"
      ]
     },
     "execution_count": 23,
     "metadata": {},
     "output_type": "execute_result"
    }
   ],
   "source": [
    "nums[q]"
   ]
  },
  {
   "cell_type": "code",
   "execution_count": 24,
   "metadata": {},
   "outputs": [],
   "source": [
    "# if( nums[p] + nums[q] > target) and nums[q] > target :\n",
    "#     q-=1"
   ]
  },
  {
   "cell_type": "code",
   "execution_count": 25,
   "metadata": {},
   "outputs": [
    {
     "name": "stdout",
     "output_type": "stream",
     "text": [
      "2 + 16  = 18\n",
      "4 + 16  = 20\n",
      "8 + 15  = 23\n",
      "15 + 8  = 23\n",
      "16 + 4  = 20\n",
      "23 + 2  = 25\n",
      "42 + 1  = 43\n",
      "42 + 23  = 65\n"
     ]
    },
    {
     "ename": "IndexError",
     "evalue": "list index out of range",
     "output_type": "error",
     "traceback": [
      "\u001b[0;31m---------------------------------------------------------------------------\u001b[0m",
      "\u001b[0;31mIndexError\u001b[0m                                Traceback (most recent call last)",
      "Cell \u001b[0;32mIn[25], line 14\u001b[0m\n\u001b[1;32m     11\u001b[0m \u001b[38;5;28;01mif\u001b[39;00m nums[q] \u001b[38;5;241m<\u001b[39m target:\n\u001b[1;32m     12\u001b[0m     p \u001b[38;5;241m+\u001b[39m\u001b[38;5;241m=\u001b[39m \u001b[38;5;241m1\u001b[39m\n\u001b[0;32m---> 14\u001b[0m \u001b[38;5;28mprint\u001b[39m(\u001b[38;5;124mf\u001b[39m\u001b[38;5;124m\"\u001b[39m\u001b[38;5;132;01m{\u001b[39;00m\u001b[43mnums\u001b[49m\u001b[43m[\u001b[49m\u001b[43mp\u001b[49m\u001b[43m]\u001b[49m\u001b[38;5;132;01m}\u001b[39;00m\u001b[38;5;124m + \u001b[39m\u001b[38;5;132;01m{\u001b[39;00mnums[q]\u001b[38;5;132;01m}\u001b[39;00m\u001b[38;5;124m  = \u001b[39m\u001b[38;5;132;01m{\u001b[39;00mnums[p]\u001b[38;5;250m \u001b[39m\u001b[38;5;241m+\u001b[39m\u001b[38;5;250m \u001b[39mnums[q]\u001b[38;5;132;01m}\u001b[39;00m\u001b[38;5;124m\"\u001b[39m)\n",
      "\u001b[0;31mIndexError\u001b[0m: list index out of range"
     ]
    }
   ],
   "source": [
    "while nums[p] + nums[q] != target:\n",
    "    #     if( nums[p] + nums[q] > target) and nums[q] > target :\n",
    "    #         q-=1\n",
    "    #     if( nums[p] + nums[q] > target) and nums[q] < target :\n",
    "    #         p+=1\n",
    "    if nums[p] + nums[q] > target:\n",
    "        q -= 1\n",
    "\n",
    "    if nums[q] > target:\n",
    "        q -= 1\n",
    "    if nums[q] < target:\n",
    "        p += 1\n",
    "\n",
    "    print(f\"{nums[p]} + {nums[q]}  = {nums[p] + nums[q]}\")"
   ]
  },
  {
   "cell_type": "code",
   "execution_count": null,
   "metadata": {},
   "outputs": [],
   "source": [
    "if (nums[p] + nums[q] > target) and p < 10:\n",
    "    p += 1"
   ]
  },
  {
   "cell_type": "code",
   "execution_count": null,
   "metadata": {},
   "outputs": [],
   "source": [
    "dict = {}"
   ]
  },
  {
   "cell_type": "code",
   "execution_count": null,
   "metadata": {},
   "outputs": [],
   "source": [
    "nums = [16, 4, 23, 8, 15, 42, 1, 2]\n",
    "target = 58"
   ]
  },
  {
   "cell_type": "code",
   "execution_count": null,
   "metadata": {},
   "outputs": [],
   "source": [
    "nums.sort()\n",
    "print(nums)"
   ]
  },
  {
   "cell_type": "code",
   "execution_count": null,
   "metadata": {},
   "outputs": [],
   "source": [
    "def fn(nums):\n",
    "    for i, val in enumerate(nums):\n",
    "        print([(i, j) for i, j in dict.items()])\n",
    "        if (target - val) in dict.keys():\n",
    "            return (i, dict[target - val])\n",
    "        else:\n",
    "            dict[val] = i\n",
    "\n",
    "\n",
    "fn(nums)"
   ]
  },
  {
   "cell_type": "code",
   "execution_count": null,
   "metadata": {},
   "outputs": [],
   "source": [
    "%%time"
   ]
  },
  {
   "cell_type": "code",
   "execution_count": null,
   "metadata": {},
   "outputs": [],
   "source": [
    "nums = [16, 4, 23, 8, 15, 42, 1, 2]\n",
    "target = 58\n",
    "nums.sort()\n",
    "print(nums)"
   ]
  },
  {
   "cell_type": "code",
   "execution_count": null,
   "metadata": {},
   "outputs": [],
   "source": [
    "%%time\n",
    "\n",
    "\n",
    "def fn(nums):\n",
    "    dic=dict()\n",
    "\n",
    "    for i in range(len(nums)):\n",
    "        if( (target - nums[i]) in dic.keys() ):\n",
    "            return (dic[target - nums[i]], i)\n",
    "        else:\n",
    "            dic[nums[i]] = i\n",
    "fn(nums)        "
   ]
  },
  {
   "cell_type": "code",
   "execution_count": null,
   "metadata": {},
   "outputs": [],
   "source": [
    "%%time\n",
    "\n",
    "\n",
    "def fn(nums):\n",
    "    dic=dict()\n",
    "\n",
    "    for i in range(len(nums)):\n",
    "\n",
    "        rem = target - nums[i]\n",
    "        if( (rem) in dic.keys() ):\n",
    "            return (dic[rem], i)\n",
    "        else:\n",
    "            dic[nums[i]] = i\n",
    "fn(nums)        "
   ]
  },
  {
   "cell_type": "code",
   "execution_count": null,
   "metadata": {},
   "outputs": [],
   "source": [
    "%%time\n",
    "prices = [7,1,5,3,6,4]\n",
    "prices =[1,2]\n",
    "def maxProfit(prices):\n",
    "    buy = prices.index(min(prices))\n",
    "#     print(f\"BUY| day:{buy} , value:{prices[buy]}\")\n",
    "    maxProfit = max(prices[buy:])\n",
    "    sell =  prices.index(maxProfit)+1 if(maxProfit>prices[buy])  else 0   # +1 for 0 indexing\n",
    "#     print(f\"SELL| day:{sell} , value:{prices[sell]}\")\n",
    "    \n",
    "#     \n",
    "    return sell\n",
    "\n",
    "maxProfit(prices) "
   ]
  },
  {
   "cell_type": "code",
   "execution_count": null,
   "metadata": {},
   "outputs": [],
   "source": [
    "%%time\n",
    "prices = [7,1,5,3,6,4]\n",
    "prices =[1,2]\n",
    "def maxProfit(prices):\n",
    "    buy = prices.index(min(prices))\n",
    "    print(f\"BUY| day:{buy} , value:{prices[buy]}\")\n",
    "    sell = prices.index(max(prices[buy:]))\n",
    "#     sell =  prices.index(maxProfit)+1 if(maxProfit>prices[buy])  else 0   # +1 for 0 indexing\n",
    "    print(buy,sell)\n",
    "    profit = prices[sell] - prices[buy]\n",
    "    return profit if(profit) > 0 else 0\n",
    "#     print(f\"SELL| day:{sell} , value:{prices[sell]}\")\n",
    "    \n",
    "#     \n",
    "#     return sell\n",
    "\n",
    "maxProfit(prices) "
   ]
  },
  {
   "cell_type": "code",
   "execution_count": null,
   "metadata": {},
   "outputs": [],
   "source": [
    "# from memory_profiler import profile\n",
    "# @profile(precision=4)\n",
    "\n",
    "\n",
    "prices = [7, 1, 5, 3, 6, 4]\n",
    "prices = [1, 2]\n",
    "margin = 0\n",
    "left = 0\n",
    "right = 1\n",
    "\n",
    "while right < len(prices):\n",
    "    if prices[right] < prices[left]:  # buy at min\n",
    "        left = right\n",
    "    if prices[right] >= prices[left]:\n",
    "        margin = (\n",
    "            prices[right] - prices[left]\n",
    "            if prices[right] - prices[left] > margin\n",
    "            else margin\n",
    "        )\n",
    "\n",
    "        right += 1\n",
    "margin"
   ]
  },
  {
   "cell_type": "code",
   "execution_count": null,
   "metadata": {},
   "outputs": [],
   "source": [
    "# from memory_profiler import profile\n",
    "# @profile(precision=4)\n",
    "\n",
    "\n",
    "prices = [7, 1, 5, 3, 6, 4]\n",
    "prices = [1, 2]\n",
    "margin = 0\n",
    "left = 0\n",
    "right = 1\n",
    "\n",
    "while right < len(prices):\n",
    "    if prices[right] > prices[left]:\n",
    "        margin = max(margin, prices[right] - prices[left])\n",
    "    else:\n",
    "        left += 1\n",
    "    right += 1\n",
    "margin"
   ]
  },
  {
   "cell_type": "code",
   "execution_count": null,
   "metadata": {},
   "outputs": [],
   "source": []
  },
  {
   "cell_type": "code",
   "execution_count": null,
   "metadata": {},
   "outputs": [],
   "source": []
  },
  {
   "cell_type": "code",
   "execution_count": null,
   "metadata": {},
   "outputs": [],
   "source": []
  },
  {
   "cell_type": "markdown",
   "metadata": {},
   "source": [
    "# X\n"
   ]
  },
  {
   "cell_type": "code",
   "execution_count": null,
   "metadata": {},
   "outputs": [],
   "source": []
  },
  {
   "cell_type": "code",
   "execution_count": null,
   "metadata": {},
   "outputs": [],
   "source": [
    "txt = \"A shallow copy creates a new object, but it does not create copies of the objects that the original object referencesddd.\"\n",
    "txt = txt.lower().replace(',', \"\").replace('.', \"\").replace(' ', \"\")"
   ]
  },
  {
   "cell_type": "code",
   "execution_count": null,
   "metadata": {},
   "outputs": [],
   "source": [
    "alphabets = ['a', 'b', 'c', 'd', 'e', 'f', 'g', 'h', 'i', 'j', 'k', 'l', 'm', 'n', 'o', 'p', 'q', 'r', 's', 't', 'u', 'v', 'w', 'x', 'y', 'z']\n",
    "\n",
    "for i, c in enumerate(alpahabets):\n",
    "    print(f\"char:{c}, index:{i}, count:{txt.count(c)}\") if txt.count(c) == i+1 else \"\"\n",
    "    # print(f\"c:{c}, i:{i}, count:{txt.count(c)}\")\n",
    "    "
   ]
  },
  {
   "cell_type": "code",
   "execution_count": null,
   "metadata": {},
   "outputs": [],
   "source": [
    "txt = \"A shallow copy creates a new object, but it does not create copies of the objects that the original object referencesddd.\"\n",
    "txt = txt.lower().replace(',', \"\").replace('.', \"\").replace(' ', \"\")\n",
    "alphabets = ['a', 'b', 'c', 'd', 'e', 'f', 'g', 'h', 'i', 'j', 'k', 'l', 'm', 'n', 'o', 'p', 'q', 'r', 's', 't', 'u', 'v', 'w', 'x', 'y', 'z']\n",
    "\n",
    "\n",
    "dict={}\n",
    "for i, c in enumerate(alphabets):\n",
    "    dict[c] = txt.count(c) if txt.count(c) == i+1 else None\n",
    "    # print(f\"c:{c}, i:{i}, count:{txt.count(c)}\")\n",
    "print(dict)"
   ]
  },
  {
   "cell_type": "code",
   "execution_count": null,
   "metadata": {},
   "outputs": [],
   "source": []
  },
  {
   "cell_type": "code",
   "execution_count": null,
   "metadata": {},
   "outputs": [],
   "source": [
    "txt = \"A shallow copy creates a new object, but it does not create copies of the objects that the original object referencesddd.\"\n",
    "alphabets = ['a', 'b', 'c', 'd', 'e', 'f', 'g', 'h', 'i', 'j', 'k', 'l', 'm', 'n', 'o', 'p', 'q', 'r', 's', 't', 'u', 'v', 'w', 'x', 'y', 'z']\n",
    "txt = txt.lower().replace(',', \"\").replace('.', \"\").replace(' ', \"\")\n",
    "{ c: txt.count(c) for i,c in enumerate(alphabets) if txt.count(c) == i+1}\n"
   ]
  },
  {
   "cell_type": "code",
   "execution_count": null,
   "metadata": {},
   "outputs": [],
   "source": [
    "ord('a')"
   ]
  },
  {
   "cell_type": "code",
   "execution_count": null,
   "metadata": {},
   "outputs": [],
   "source": [
    "chr(97)"
   ]
  },
  {
   "cell_type": "markdown",
   "metadata": {},
   "source": [
    "#\n"
   ]
  },
  {
   "cell_type": "code",
   "execution_count": null,
   "metadata": {},
   "outputs": [],
   "source": [
    "# final\n",
    "alphabets = [chr(i) for i in range(ord('a'), ord('z')+1)]\n",
    "txt = \"A shallow copy creates a new object, but it does not create copies of the objects that the original object referencesddd.\"\n",
    "txt = txt.lower().replace(',', \"\").replace('.', \"\").replace(' ', \"\")\n",
    "{ c: txt.count(c) for i,c in enumerate(alphabets) if txt.count(c) == i+1}\n"
   ]
  },
  {
   "cell_type": "code",
   "execution_count": null,
   "metadata": {},
   "outputs": [],
   "source": []
  },
  {
   "cell_type": "code",
   "execution_count": null,
   "metadata": {},
   "outputs": [],
   "source": []
  },
  {
   "cell_type": "markdown",
   "metadata": {},
   "source": [
    "# 451. Sort Characters By Frequency\n"
   ]
  },
  {
   "cell_type": "code",
   "execution_count": null,
   "metadata": {},
   "outputs": [],
   "source": []
  },
  {
   "cell_type": "code",
   "execution_count": null,
   "metadata": {},
   "outputs": [],
   "source": [
    "txt= \"treefffftzzzzz\"\n",
    "\n",
    "unique = set(txt)\n",
    "unique\n",
    "\n",
    "# x = { s.count(char) for char in unique} # set\n",
    "\n",
    "dic = { char:txt.count(char) for char in unique} # dict\n",
    "dic"
   ]
  },
  {
   "cell_type": "code",
   "execution_count": null,
   "metadata": {},
   "outputs": [],
   "source": [
    "# sorted(dic,  key = lambda item: dic[item])  # sorted but only keys\n",
    "\n"
   ]
  },
  {
   "cell_type": "code",
   "execution_count": null,
   "metadata": {},
   "outputs": [],
   "source": [
    "sorted_dic = sorted(dic.items(), key = lambda item: item[1], reverse = True)\n",
    "sorted_dic = dict(sorted_dic)\n",
    "sorted_dic"
   ]
  },
  {
   "cell_type": "code",
   "execution_count": null,
   "metadata": {},
   "outputs": [],
   "source": []
  },
  {
   "cell_type": "code",
   "execution_count": null,
   "metadata": {},
   "outputs": [],
   "source": [
    "result = \"\"\n",
    "for index, value in sorted_dic.items():\n",
    "    # print(f\"index: {index} value: {value}\")\n",
    "    result += index*value\n",
    "print(result) "
   ]
  },
  {
   "cell_type": "code",
   "execution_count": null,
   "metadata": {},
   "outputs": [],
   "source": []
  },
  {
   "cell_type": "code",
   "execution_count": null,
   "metadata": {},
   "outputs": [],
   "source": [
    "''.join(['1','2','3'])"
   ]
  },
  {
   "cell_type": "code",
   "execution_count": null,
   "metadata": {},
   "outputs": [],
   "source": [
    "''.join(sorted_dic.keys())"
   ]
  },
  {
   "cell_type": "code",
   "execution_count": null,
   "metadata": {},
   "outputs": [],
   "source": [
    "# final\n",
    "txt= \"treefffftzzzzz\"\n",
    "# result = \"\"\n",
    "\n",
    "unique = set(txt)\n",
    "dic = { char:txt.count(char) for char in unique} # dict\n",
    "sorted_dic = sorted(dic.items(), key = lambda item: item[1], reverse = True)\n",
    "sorted_dic = dict(sorted_dic)\n",
    "# for index, value in sorted_dic.items():\n",
    "#     result += index*value\n",
    "''.join(key*value for key, value in sorted_dic.items())\n",
    "print(result) "
   ]
  },
  {
   "cell_type": "code",
   "execution_count": null,
   "metadata": {},
   "outputs": [],
   "source": []
  },
  {
   "cell_type": "code",
   "execution_count": null,
   "metadata": {},
   "outputs": [],
   "source": [
    "dic"
   ]
  },
  {
   "cell_type": "markdown",
   "metadata": {},
   "source": []
  },
  {
   "cell_type": "code",
   "execution_count": null,
   "metadata": {},
   "outputs": [],
   "source": [
    "# final\n",
    "txt= \"tree\"\n",
    "\n",
    "unique = set(txt)\n",
    "dic = { char:txt.count(char) for char in unique} # dict\n",
    "sorted_dic = sorted(dic.items(), key = lambda item: item[1], reverse = True)\n",
    "print(sorted_dic)\n",
    "# sorted_dic = dict(sorted_dic)\n",
    "# ''.join(key*value for key, value in sorted_dic.items())\n",
    "''.join(char*count for char, count in sorted_dic)\n"
   ]
  },
  {
   "cell_type": "code",
   "execution_count": null,
   "metadata": {},
   "outputs": [],
   "source": [
    "class Solution(object):\n",
    "    def frequencySort(self, s):\n",
    "        \"\"\"\n",
    "        :type s: str\n",
    "        :rtype: str\n",
    "        \"\"\"\n",
    "        unique = set(s)\n",
    "        dic = { char:s.count(char) for char in unique} # dict\n",
    "        sorted_dic = sorted(dic.items(), key = lambda item: item[1], reverse = True)\n",
    "        s = ''.join(char*count for char, count in sorted_dic)\n",
    "        return ''.join(char*count for char, count in sorted_dic)\n",
    "\n"
   ]
  },
  {
   "cell_type": "code",
   "execution_count": null,
   "metadata": {},
   "outputs": [],
   "source": []
  },
  {
   "cell_type": "code",
   "execution_count": null,
   "metadata": {},
   "outputs": [],
   "source": []
  },
  {
   "cell_type": "code",
   "execution_count": null,
   "metadata": {},
   "outputs": [],
   "source": []
  },
  {
   "cell_type": "code",
   "execution_count": null,
   "metadata": {},
   "outputs": [],
   "source": []
  },
  {
   "cell_type": "markdown",
   "metadata": {},
   "source": [
    "# 647. Palindromic Substrings\n"
   ]
  },
  {
   "cell_type": "code",
   "execution_count": null,
   "metadata": {},
   "outputs": [],
   "source": [
    "\n",
    "str= \"abcde\"\n",
    "\n",
    "# for i in range(len(\"abcde\")//2):\n",
    "i=0\n",
    "while(i< len(str)//2):\n",
    "      print(i)\n",
    "      \n",
    "      i+=1"
   ]
  },
  {
   "cell_type": "code",
   "execution_count": null,
   "metadata": {},
   "outputs": [],
   "source": [
    "round(len(\"abc\"))//2, len(\"abc\")//2"
   ]
  },
  {
   "cell_type": "code",
   "execution_count": null,
   "metadata": {},
   "outputs": [],
   "source": []
  },
  {
   "cell_type": "code",
   "execution_count": null,
   "metadata": {},
   "outputs": [],
   "source": [
    "def palindrome(s, i=0, j=None):\n",
    "    \n",
    "    if j is None:\n",
    "        j=len(s)-1\n",
    "    print(f\"s:{s}, i:{i}, j:{j}, s[i]:{s[i]}, s[j]:{s[j]}\")\n",
    "    if(i>=j):\n",
    "        return True\n",
    "    if(s[i] != s[j]): \n",
    "        return False\n",
    "    # i+=1;j-=1\n",
    "    # print(s, i, j)\n",
    "    return palindrome(s, i+1, j-1)   # necessary to return True   otherwise result will be lost\n",
    " \n",
    "s = \"abcba\"\n",
    "palindrome(s)"
   ]
  },
  {
   "cell_type": "code",
   "execution_count": null,
   "metadata": {},
   "outputs": [],
   "source": []
  },
  {
   "cell_type": "code",
   "execution_count": null,
   "metadata": {},
   "outputs": [],
   "source": []
  },
  {
   "cell_type": "code",
   "execution_count": null,
   "metadata": {},
   "outputs": [],
   "source": []
  },
  {
   "cell_type": "code",
   "execution_count": null,
   "metadata": {},
   "outputs": [],
   "source": []
  },
  {
   "cell_type": "code",
   "execution_count": null,
   "metadata": {},
   "outputs": [],
   "source": []
  },
  {
   "cell_type": "code",
   "execution_count": null,
   "metadata": {},
   "outputs": [],
   "source": []
  },
  {
   "cell_type": "code",
   "execution_count": null,
   "metadata": {},
   "outputs": [],
   "source": []
  },
  {
   "cell_type": "markdown",
   "metadata": {},
   "source": [
    "# Hckerrank: breaking the recored"
   ]
  },
  {
   "cell_type": "code",
   "execution_count": null,
   "metadata": {},
   "outputs": [],
   "source": []
  },
  {
   "cell_type": "code",
   "execution_count": null,
   "metadata": {},
   "outputs": [],
   "source": [
    "min_scores = max_scores = scores[0]\n",
    "min_scores ,max_scores\n",
    "\n",
    "\n",
    "count_min_record_broke = 0\n",
    "count_max_record_broke = 0"
   ]
  },
  {
   "cell_type": "code",
   "execution_count": null,
   "metadata": {},
   "outputs": [],
   "source": [
    "scores = [10, 5, 20, 20, 4, 5, 2, 25, 1]\n",
    "\n",
    "min_scores = max_scores = scores[0]\n",
    "\n",
    "\n",
    "\n",
    "count_min_record_broke = 0\n",
    "count_max_record_broke = 0\n",
    "\n",
    "\n",
    "for index in range(len(scores)):\n",
    "\n",
    "    if scores[index]<min_scores:\n",
    "        min_scores = scores[index]\n",
    "        count_min_record_broke+=1\n",
    "    if scores[index]>max_scores:\n",
    "        max_scores = scores[index]\n",
    "        count_max_record_broke+=1\n",
    "\n",
    "    print(f\"index: {index}, min_scores: {min_scores} , max_scores: {max_scores}\")\n",
    "\n",
    "count_max_record_broke, count_min_record_broke"
   ]
  },
  {
   "cell_type": "code",
   "execution_count": null,
   "metadata": {},
   "outputs": [],
   "source": [
    "scores = [10, 5, 20, 20, 4, 5, 2, 25, 1]\n",
    "\n",
    "min_scores = max_scores = scores[0]\n",
    "\n",
    "count_min_record_broke = 0\n",
    "count_max_record_broke = 0\n",
    "\n",
    "for index, score in enumerate(scores):\n",
    "    if score < min_scores:\n",
    "        min_scores = score\n",
    "        count_min_record_broke += 1\n",
    "    elif score > max_scores:  # Use 'elif' since a score can't be both min and max in the same iteration\n",
    "        max_scores = score\n",
    "        count_max_record_broke += 1\n",
    "\n",
    "    print(f\"index: {index}, min_scores: {min_scores}, max_scores: {max_scores}\")\n",
    "\n",
    "count_max_record_broke, count_min_record_broke\n"
   ]
  },
  {
   "cell_type": "code",
   "execution_count": null,
   "metadata": {},
   "outputs": [],
   "source": []
  },
  {
   "cell_type": "code",
   "execution_count": null,
   "metadata": {},
   "outputs": [],
   "source": []
  },
  {
   "cell_type": "markdown",
   "metadata": {},
   "source": [
    "# 739. Daily Temperatures\n",
    "\n",
    "\n",
    "Given an array of integers temperatures represents the daily temperatures, return an array answer such that answer[i] is the number of days you have to wait after the ith day to get a warmer temperature. If there is no future day for which this is possible, keep answer[i] == 0 instead.\n",
    "\n",
    " \n",
    "\n",
    "Example 1:\n",
    "\n",
    "Input: temperatures = [73,74,75,71,69,72,76,73]\n",
    "\n",
    "Output: [1,1,4,2,1,1,0,0]\n",
    "\n",
    "Example 2:\n",
    "\n",
    "Input: temperatures = [30,40,50,60]\n",
    "\n",
    "Output: [1,1,1,0]\n",
    "\n",
    "Example 3:\n",
    "\n",
    "Input: temperatures = [30,60,90]\n",
    "\n",
    "Output: [1,1,0]\n"
   ]
  },
  {
   "cell_type": "code",
   "execution_count": null,
   "metadata": {},
   "outputs": [],
   "source": [
    "# daily_tempratures = [73,74,75,71,69,72,76,73]\n",
    "\n",
    "days_to_wait= [\"0\"] * len(daily_tempratures)\n",
    "\n",
    "for dailyIndex, dailyT in enumerate(daily_tempratures):\n",
    "\n",
    "    for index in range(dailyIndex , len(daily_tempratures)):\n",
    "        print(f\"index: {index}, dailyIndex:{dailyIndex}\")\n",
    "\n"
   ]
  },
  {
   "cell_type": "code",
   "execution_count": null,
   "metadata": {},
   "outputs": [],
   "source": [
    "def next_hotter(lst, ind):\n",
    "    # print(lst[0])\n",
    "    current = lst[ind]\n",
    "    for i in range(ind, len(lst)):\n",
    "        if(current< lst[i]):\n",
    "            # print(f\"current:{current}, i:{i}, lst[i]:{lst[i]}\")\n",
    "            hotter = i-ind\n",
    "            print(f\"current:{current}, i:{i}, lst[i]:{lst[i]}, hotter:{hotter}\")\n",
    "            return hotter\n",
    "\n",
    "\n",
    "\n",
    "daily_tempratures = [73,70,49,74,75]\n",
    "print(daily_tempratures)\n",
    "next_hotter(daily_tempratures,0)"
   ]
  },
  {
   "cell_type": "code",
   "execution_count": null,
   "metadata": {},
   "outputs": [],
   "source": [
    "def next_hotter_whole(lst):\n",
    "    changes = [0] * len(lst)\n",
    "    # print(changes)\n",
    "    # print(lst[0])\n",
    "    for index, value in enumerate(lst):\n",
    "        print(f\"\\nindex:{index}, value:{value}\")\n",
    "\n",
    "        for i in range(index, len(lst)):\n",
    "            if(value < lst[i]):\n",
    "                # print(f\"current:{current}, i:{i}, lst[i]:{lst[i]}\")\n",
    "                # hotter = i-index-1\n",
    "                print(f\"\\t\\t\\tcurrent:{value}, i:{i}, lst[i]:{lst[i]}, hotter:{i-index}\")\n",
    "                changes[index] = i-index\n",
    "                break;\n",
    "\n",
    "    return changes\n",
    "\n",
    "                \n",
    "\n",
    "\n",
    "\n",
    "daily_tempratures = [73,74,75,71,69,72,76,73]\n",
    "print(daily_tempratures)\n",
    "next_hotter_whole(daily_tempratures)"
   ]
  },
  {
   "cell_type": "code",
   "execution_count": null,
   "metadata": {},
   "outputs": [],
   "source": []
  },
  {
   "cell_type": "code",
   "execution_count": null,
   "metadata": {},
   "outputs": [],
   "source": []
  },
  {
   "cell_type": "code",
   "execution_count": null,
   "metadata": {},
   "outputs": [],
   "source": [
    "daily_tempratures\n",
    "\n"
   ]
  },
  {
   "cell_type": "code",
   "execution_count": null,
   "metadata": {},
   "outputs": [],
   "source": []
  },
  {
   "cell_type": "code",
   "execution_count": null,
   "metadata": {},
   "outputs": [],
   "source": [
    "daily_tempratures = [73, 74, 75, 71, 69, 72, 76, 73]\n",
    "\n",
    "\n",
    "st=[]\n",
    "\n",
    "res = [0] * len(daily_tempratures)\n",
    " \n",
    "for i in range(len(daily_tempratures)):\n",
    "\n",
    "    while st and daily_tempratures[i]  > daily_tempratures[st[-1]]:\n",
    "        print(f\"\\t\\tdaily_tempratures[i]: {daily_tempratures[i]}, daily_tempratures[st[-1]]: {daily_tempratures[st[-1]]}, \\t\\tst: {st}\")\n",
    "        idx = st.pop()\n",
    "        res[idx] = i - idx\n",
    "        print(f\"\\t\\tidx:pop():{idx}, {daily_tempratures[idx]}\\t||, res:{res}\")\n",
    "    st.append(i)\n",
    "    \n",
    "    print(\"status :st:\",st)\n",
    "    print(\"--\")\n"
   ]
  },
  {
   "cell_type": "code",
   "execution_count": null,
   "metadata": {},
   "outputs": [],
   "source": [
    "st"
   ]
  },
  {
   "cell_type": "code",
   "execution_count": null,
   "metadata": {},
   "outputs": [],
   "source": [
    "st.pop()"
   ]
  },
  {
   "cell_type": "code",
   "execution_count": null,
   "metadata": {},
   "outputs": [],
   "source": [
    "st"
   ]
  },
  {
   "cell_type": "code",
   "execution_count": null,
   "metadata": {},
   "outputs": [],
   "source": [
    "st[1], st[-1]"
   ]
  },
  {
   "cell_type": "code",
   "execution_count": null,
   "metadata": {},
   "outputs": [],
   "source": []
  },
  {
   "cell_type": "code",
   "execution_count": null,
   "metadata": {},
   "outputs": [],
   "source": []
  },
  {
   "cell_type": "code",
   "execution_count": null,
   "metadata": {},
   "outputs": [],
   "source": []
  },
  {
   "cell_type": "code",
   "execution_count": null,
   "metadata": {},
   "outputs": [],
   "source": []
  },
  {
   "cell_type": "code",
   "execution_count": null,
   "metadata": {},
   "outputs": [],
   "source": []
  },
  {
   "cell_type": "markdown",
   "metadata": {},
   "source": [
    "# sorting using stack\n"
   ]
  },
  {
   "cell_type": "code",
   "execution_count": null,
   "metadata": {},
   "outputs": [],
   "source": [
    "\n",
    "\n",
    "input_stack = [1,2,3,4,5]\n",
    "input_stack = sorted(input_stack, reverse=True)\n",
    "sorted_stack =[] \n",
    "\n",
    "\n",
    "while(input_stack):\n",
    "    current = input_stack.pop()\n",
    "\n",
    "    while sorted_stack and sorted_stack[-1] > current:\n",
    "        input_stack.append(sorted_stack.pop())\n",
    "    sorted_stack.append(current)\n",
    "    # print(current)\n",
    "\n",
    "\n",
    "    print(f\"Status:\\n\\t\\tinput_stack:{input_stack}, sorted_stack:{sorted_stack}, current:{current}\")\n",
    "\n",
    "\n",
    "\n",
    "# while()"
   ]
  },
  {
   "cell_type": "code",
   "execution_count": null,
   "metadata": {},
   "outputs": [],
   "source": [
    "\n"
   ]
  },
  {
   "cell_type": "code",
   "execution_count": null,
   "metadata": {},
   "outputs": [],
   "source": []
  },
  {
   "cell_type": "code",
   "execution_count": null,
   "metadata": {},
   "outputs": [],
   "source": [
    "\n",
    "\n",
    "input_stack = [1,2,3,4,5]\n",
    "input_stack = sorted(input_stack, reverse=True)\n",
    "sorted_stack =[] \n",
    "\n",
    "\n",
    "while(input_stack):\n",
    "    current = input_stack.pop()\n",
    "\n",
    "    while sorted_stack and sorted_stack[-1] > current:\n",
    "        input_stack.append(sorted_stack.pop())\n",
    "    sorted_stack.append(current)\n",
    "    # print(current)\n",
    "\n",
    "\n",
    "    print(f\"Status:\\n\\t\\tinput_stack:{input_stack}, sorted_stack:{sorted_stack}, current:{current}\")\n",
    "\n",
    "\n",
    "\n",
    "# while()"
   ]
  },
  {
   "cell_type": "code",
   "execution_count": null,
   "metadata": {},
   "outputs": [],
   "source": []
  },
  {
   "cell_type": "markdown",
   "metadata": {},
   "source": [
    "# 739. Daily Temperatures - with stack\n"
   ]
  },
  {
   "cell_type": "code",
   "execution_count": null,
   "metadata": {},
   "outputs": [],
   "source": [
    "\n",
    "# final\n",
    "daily_tempratures = [73, 74, 75, 71, 69, 72, 76, 73]\n",
    "\n",
    "print(f\"daily_tempratures: {daily_tempratures}\")\n",
    "\n",
    "st=[]\n",
    "\n",
    "res = [0] * len(daily_tempratures)\n",
    "\n",
    "for i in range(len(daily_tempratures)):\n",
    "    current = daily_tempratures[i]\n",
    "    # print(f\"\\tcurrent: {current}, i:{i}\")\n",
    "    while(st and daily_tempratures[i]>daily_tempratures[st[-1]]):# current bigger than top of stack\n",
    "        # print(f\"Status:\\t\\tst:{st}, curret:{ daily_tempratures[i]}, top of stack:{daily_tempratures[st[-1]]}\")\n",
    "        idx = st.pop()  # diifernce between \n",
    "        difference = i - idx\n",
    "        res[idx] = difference\n",
    "\n",
    "    st.append(i)\n",
    "\n",
    "print(res)\n",
    "\n",
    "\n"
   ]
  },
  {
   "cell_type": "code",
   "execution_count": null,
   "metadata": {},
   "outputs": [],
   "source": [
    "# optimized\n",
    "answer = [0] * len(daily_tempratures)\n",
    "stack = []\n",
    "\n",
    "for index, current_temp in enumerate(daily_tempratures):\n",
    "    while stack and daily_tempratures[stack[-1]] < current_temp:\n",
    "        previous_index = stack.pop()\n",
    "        answer[previous_index] = index - previous_index\n",
    "    stack.append(index)\n",
    "answer"
   ]
  },
  {
   "cell_type": "code",
   "execution_count": null,
   "metadata": {},
   "outputs": [],
   "source": [
    "\n",
    "# final\n",
    "daily_tempratures = [73, 74, 75, 71, 69, 72, 76, 73]\n",
    "\n",
    "print(f\"daily_tempratures: {daily_tempratures}\")\n",
    "st=[]\n",
    "res = [0] * len(daily_tempratures)\n",
    "for index, current in enumerate(daily_tempratures):\n",
    "    while(st and current>daily_tempratures[st[-1]]):# current bigger than top of stack\n",
    "        prev_index = st.pop()  # diifernce between \n",
    "        res[prev_index] = index - prev_index\n",
    "    st.append(index)\n",
    "\n",
    "print(res)\n",
    "\n",
    "\n"
   ]
  },
  {
   "cell_type": "code",
   "execution_count": null,
   "metadata": {},
   "outputs": [],
   "source": []
  },
  {
   "cell_type": "code",
   "execution_count": null,
   "metadata": {},
   "outputs": [],
   "source": []
  },
  {
   "cell_type": "code",
   "execution_count": null,
   "metadata": {},
   "outputs": [],
   "source": []
  },
  {
   "cell_type": "markdown",
   "metadata": {},
   "source": [
    "# Camel Case: 04"
   ]
  },
  {
   "cell_type": "code",
   "execution_count": null,
   "metadata": {},
   "outputs": [],
   "source": [
    "def splitting(input_txt_name, input_txt_type):\n",
    "        print(\"We'll be spliting...\", input_txt_name)\n",
    "\n",
    "        names = []\n",
    "        prev_index = 0\n",
    "        length = len(input_txt_name)\n",
    "        for current in range(length):\n",
    "              if input_txt_name[current].isupper():\n",
    "                    names.append(input_txt_name[prev_index:current].lower())\n",
    "                    # print(input_txt_name[prev_index:current].lower())\n",
    "                    prev_index = current\n",
    "                    \n",
    "        \n",
    "        # print(\"input_txt_type\", input_txt_type)\n",
    "        \n",
    "        lastportion = input_txt_name[prev_index:-2] if input_txt_type == 'M' else input_txt_name[prev_index:]\n",
    "        names.append(lastportion.lower())\n",
    "        return \" \".join(names).strip()\n",
    "        \n",
    "\n",
    "\n",
    "\n",
    "def combining(input_txt_name, input_txt_type):\n",
    "        print(\"We'll be combining...\", input_txt_name)\n",
    "        input_txt_name = input_txt_name.split(\" \")\n",
    "        print(input_txt_name)\n",
    "        \n",
    "\n",
    "\n",
    "        # for current in input_txt_name:\n",
    "        #       current = curr\n",
    "\n",
    "        for current in range(len(input_txt_name)):\n",
    "            input_txt_name[current] = input_txt_name[current].title()\n",
    "        \n",
    "        print(input_txt_name)\n",
    "        name = \"\".join(input_txt_name)\n",
    "        \n",
    "        \n",
    "        if input_txt_type == 'C':\n",
    "            return name\n",
    "        return name.lower() + \"()\" if input_txt_type == 'M' else name.lower() \n",
    "        \n",
    "        \n",
    "\n",
    "\n",
    "def parsingInputString(input_txt):\n",
    "    print(f\"input_text: {input_txt}\")\n",
    "\n",
    "\n",
    "    input_txt_operation = input_txt[0:1]\n",
    "    print(f\"input_txt_operation: {input_txt_operation}\")\n",
    "\n",
    "    input_txt_type = input_txt[2:3]\n",
    "    print(f\"input_txt_type: {input_txt_type}\")\n",
    "\n",
    "    input_txt_name = input_txt[4:]\n",
    "    print(f\"input_txt_name: {input_txt_name}\")\n",
    "\n",
    "\n",
    "\n",
    "    if input_txt_operation == 'C':\n",
    "        return combining(input_txt_name, input_txt_type)\n",
    "    if input_txt_operation == 'S':\n",
    "        return splitting(input_txt_name, input_txt_type)\n",
    "    \n",
    "\n",
    "\n",
    "# S;M;plasticCup()\n",
    "# C;V;mobile phone\n",
    "# C;C;coffee machine\n",
    "# S;C;LargeSoftwareBook\n",
    "# C;M;white sheet of paper\n",
    "\n",
    "\n",
    "\n",
    "\n",
    "# input_txt =  \"S;V;pictureFrameNice\"\n",
    "# input_txt = \"S;M;plasticCup()\"\n",
    "# input_txt = \"S;V;pictureFrame\"\n",
    "# input_txt = \"S;C;LargeSoftwareBook\"\n",
    "# input_txt = \"S;V;pictureFrame\"\n",
    "\n",
    "\n",
    "# input_txt = \"C;V;mobile phone\" # mobilePhone\n",
    "input_txt = \"C;C;coffee machine\" # CoffeeMachine\n",
    "# input_txt = \"C;M;white sheet of paper\" # whiteSheetOfPaper()\n",
    "\n",
    "\n",
    "\n",
    "\n",
    "\n",
    "parsingInputString(input_txt)"
   ]
  },
  {
   "cell_type": "code",
   "execution_count": null,
   "metadata": {},
   "outputs": [],
   "source": []
  },
  {
   "cell_type": "code",
   "execution_count": null,
   "metadata": {},
   "outputs": [],
   "source": [
    "def splitting(input_txt_name, input_txt_type):\n",
    "        print(\"We'll be spliting...\", input_txt_name)\n",
    "\n",
    "        names = []\n",
    "        prev_index = 0\n",
    "        length = len(input_txt_name)\n",
    "        for current in range(length):\n",
    "              if input_txt_name[current].isupper():\n",
    "                    names.append(input_txt_name[prev_index:current].lower())\n",
    "                    prev_index = current\n",
    "                    \n",
    "        lastportion = input_txt_name[prev_index:-2] if input_txt_type == 'M' else input_txt_name[prev_index:]\n",
    "        names.append(lastportion.lower())\n",
    "        return \" \".join(names).strip()\n",
    "        \n",
    "\n",
    "def combining(input_txt_name, input_txt_type):\n",
    "        input_txt_name = input_txt_name.split(\" \")\n",
    "        for current in range(len(input_txt_name)):\n",
    "            input_txt_name[current] = input_txt_name[current].title()\n",
    "        \n",
    "        print(input_txt_name)\n",
    "        \n",
    "        \n",
    "        \n",
    "        if input_txt_type == 'C':\n",
    "            return \"\".join(input_txt_name)\n",
    "        \n",
    "\n",
    "        input_txt_name[0] = input_txt_name[0].lower()\n",
    "        name = \"\".join(input_txt_name)\n",
    "        # print(name)\n",
    "\n",
    "        # new_name = name[0].lower + name[1:]\n",
    "        # print(new_name)\n",
    "        \n",
    "        return name + \"()\" if input_txt_type == 'M' else name() \n",
    "        \n",
    "\n",
    "def parsingInputString(input_txt):\n",
    "    input_txt_operation = input_txt[0:1]\n",
    "    input_txt_type = input_txt[2:3]\n",
    "    input_txt_name = input_txt[4:]\n",
    "    if input_txt_operation == 'C':\n",
    "        return combining(input_txt_name, input_txt_type)\n",
    "    if input_txt_operation == 'S':\n",
    "        return splitting(input_txt_name, input_txt_type)\n",
    "\n",
    "\n",
    "input_txt = \"C;M;mouse pad\"\n",
    " # CoffeeMachine\n",
    "\n",
    "\n",
    "\n",
    "\n",
    "\n",
    "parsingInputString(input_txt)"
   ]
  },
  {
   "cell_type": "code",
   "execution_count": null,
   "metadata": {},
   "outputs": [],
   "source": [
    "# for hackerrank \n",
    "\n",
    "import sys\n",
    "\n",
    "\n",
    "\n",
    "def splitting(input_txt_name, input_txt_type):\n",
    "        \n",
    "        names = []\n",
    "        prev_index = 0\n",
    "        length = len(input_txt_name)\n",
    "        for current in range(length):\n",
    "              if input_txt_name[current].isupper():\n",
    "                    names.append(input_txt_name[prev_index:current].lower())\n",
    "                    prev_index = current\n",
    "                    \n",
    "        lastportion = input_txt_name[prev_index:-2] if input_txt_type == 'M' else input_txt_name[prev_index:]\n",
    "        names.append(lastportion.lower())\n",
    "        name =  \" \".join(names).strip()\n",
    "        print(name)\n",
    "        return name\n",
    "        \n",
    "\n",
    "def combining(input_txt_name, input_txt_type):\n",
    "        input_txt_name = input_txt_name.split(\" \")\n",
    "        for current in range(len(input_txt_name)):\n",
    "            input_txt_name[current] = input_txt_name[current].title()\n",
    "        \n",
    "        \n",
    "        \n",
    "        if input_txt_type == 'C':\n",
    "            name = \"\".join(input_txt_name)\n",
    "            print(name)\n",
    "            return name\n",
    "        \n",
    "        input_txt_name[0] = input_txt_name[0].lower()\n",
    "        name = \"\".join(input_txt_name)\n",
    "        name = name + \"()\" if input_txt_type == 'M' else name()\n",
    "        print(name)\n",
    "        return name\n",
    "        \n",
    "\n",
    "def parsingInputString(input_txt):\n",
    "    input_txt_operation = input_txt[0:1]\n",
    "    input_txt_type = input_txt[2:3]\n",
    "    input_txt_name = input_txt[4:]\n",
    "    if input_txt_operation == 'C':\n",
    "        return combining(input_txt_name, input_txt_type)\n",
    "    if input_txt_operation == 'S':\n",
    "        return splitting(input_txt_name, input_txt_type)\n",
    "\n",
    "\n",
    "\n",
    "\n",
    "\n",
    "for line in sys.stdin:\n",
    "    line = line.strip()\n",
    "    parsingInputString(line)"
   ]
  },
  {
   "cell_type": "code",
   "execution_count": null,
   "metadata": {},
   "outputs": [],
   "source": [
    "# submiited \n",
    "\n",
    "import sys\n",
    "\n",
    "def splitting(input_txt_name, input_txt_type):\n",
    "    names = []\n",
    "    start = 0\n",
    "    for i, char in enumerate(input_txt_name):\n",
    "        if char.isupper() and i > 0:\n",
    "            names.append(input_txt_name[start:i].lower())\n",
    "            start = i\n",
    "    \n",
    "    last_part = input_txt_name[start:-2] if input_txt_type == 'M' else input_txt_name[start:]\n",
    "    names.append(last_part.lower())\n",
    "    \n",
    "    name = \" \".join(names).strip()\n",
    "    print(name)\n",
    "    return name\n",
    "\n",
    "def combining(input_txt_name, input_txt_type):\n",
    "    words = input_txt_name.split()\n",
    "    if input_txt_type == 'C':\n",
    "        name = \"\".join(word.capitalize() for word in words)\n",
    "    else:\n",
    "        print(words)\n",
    "        name = words[0].lower() + \"\".join(word.capitalize() for word in words[1:])\n",
    "        name += \"()\" if input_txt_type == 'M' else \"\"\n",
    "    \n",
    "    print(name)\n",
    "    return name\n",
    "\n",
    "def parsingInputString(input_txt):\n",
    "    input_txt_operation = input_txt[0]\n",
    "    input_txt_type = input_txt[2]\n",
    "    input_txt_name = input_txt[4:]\n",
    "    \n",
    "    if input_txt_operation == 'C':\n",
    "        return combining(input_txt_name, input_txt_type)\n",
    "    if input_txt_operation == 'S':\n",
    "        return splitting(input_txt_name, input_txt_type)\n",
    "\n",
    "\n",
    "\n",
    "input_txt = \"C;M;mouse pad\"\n",
    " # CoffeeMachine\n",
    "\n",
    "\n",
    "\n",
    "\n",
    "\n",
    "parsingInputString(input_txt)"
   ]
  },
  {
   "cell_type": "code",
   "execution_count": null,
   "metadata": {},
   "outputs": [],
   "source": [
    "\"mousepad\".capitalize()"
   ]
  },
  {
   "cell_type": "code",
   "execution_count": null,
   "metadata": {},
   "outputs": [],
   "source": [
    "\"mousepad\".title()"
   ]
  },
  {
   "cell_type": "code",
   "execution_count": null,
   "metadata": {},
   "outputs": [],
   "source": []
  },
  {
   "cell_type": "code",
   "execution_count": null,
   "metadata": {},
   "outputs": [],
   "source": []
  },
  {
   "cell_type": "code",
   "execution_count": null,
   "metadata": {},
   "outputs": [],
   "source": []
  },
  {
   "cell_type": "markdown",
   "metadata": {},
   "source": [
    "# hackerrank:  divisble sums pairs"
   ]
  },
  {
   "cell_type": "code",
   "execution_count": null,
   "metadata": {},
   "outputs": [],
   "source": [
    "arr = [1, 3, 2, 6, 1, 2]\n",
    "n = 6; k = 3\n",
    "arr"
   ]
  },
  {
   "cell_type": "code",
   "execution_count": null,
   "metadata": {},
   "outputs": [],
   "source": [
    "\n",
    "# arr = sorted(arr)\n",
    "\n",
    "count =0\n",
    "for index, value in enumerate(arr):\n",
    "    for i in range(index+1, len(arr)):\n",
    "        # print(\"i:{0}, value:{1}, index:{2}\".format( i, value, index))\n",
    "\n",
    "        if ( True and (value + arr[i])%k==0 ):\n",
    "            # print(value, arr[i])\n",
    "            count+=1\n",
    "\n",
    "\n",
    "print(count)"
   ]
  },
  {
   "cell_type": "code",
   "execution_count": null,
   "metadata": {},
   "outputs": [],
   "source": []
  },
  {
   "cell_type": "code",
   "execution_count": null,
   "metadata": {},
   "outputs": [],
   "source": []
  },
  {
   "cell_type": "code",
   "execution_count": null,
   "metadata": {},
   "outputs": [],
   "source": []
  },
  {
   "cell_type": "markdown",
   "metadata": {},
   "source": [
    "# Sparse arrays\n",
    "\n",
    "There is a collection of input strings and a collection of query strings. For each query string, determine how many times it occurs in the list of input strings. Return an array of the results.\n"
   ]
  },
  {
   "cell_type": "code",
   "execution_count": null,
   "metadata": {},
   "outputs": [],
   "source": [
    "# strings = ['aba' ,'baba' ,'aba' ,'xzxb']\n",
    "# query = ['aba', 'xzxb', 'ab']\n",
    "\n",
    "strings = ['abcde','sdaklfj','asdjf','na','basdn','sdaklfj','asdjf','na','asdjf','na','basdn','sdaklfj','asdjf']\n",
    "query = ['abcde','sdaklfj','asdjf','na','basdn']\n",
    "count = [0] * len(query)\n",
    "\n",
    "strings, query, count"
   ]
  },
  {
   "cell_type": "code",
   "execution_count": null,
   "metadata": {},
   "outputs": [],
   "source": [
    "for qindex, query in enumerate(query):\n",
    "\n",
    "    for string in strings:\n",
    "        if query == string:\n",
    "            count[qindex]+=1\n",
    "\n",
    "\n",
    "count"
   ]
  },
  {
   "cell_type": "code",
   "execution_count": null,
   "metadata": {},
   "outputs": [],
   "source": []
  },
  {
   "cell_type": "code",
   "execution_count": null,
   "metadata": {},
   "outputs": [],
   "source": []
  },
  {
   "cell_type": "markdown",
   "metadata": {},
   "source": [
    "# 347. Top K Frequent Elements\n",
    "Given an integer array nums and an integer k, return the k most frequent elements. You may return the answer in any order.\n",
    "\n",
    "Input: nums = [1,1,1,2,2,3], k = 2\n",
    "Output: [1,2]"
   ]
  },
  {
   "cell_type": "code",
   "execution_count": null,
   "metadata": {},
   "outputs": [],
   "source": [
    "# nums = [1,1,1,2,2,3,3,3,3,3]; k = 2\n",
    "# Output: [1,2]\n",
    "nums = [-1,2,2] \n",
    "k=1\n",
    "\n",
    "result=[]\n",
    "\n",
    "for index, value in enumerate(set(nums)):\n",
    "    result.append(nums.count(value))\n",
    "    print(result)\n",
    "# result = sorted(result)\n",
    "print(result)\n",
    "result[:k]"
   ]
  },
  {
   "cell_type": "code",
   "execution_count": null,
   "metadata": {},
   "outputs": [],
   "source": [
    "# nums = [1,1,1,2,2,3,3,3,3,3]; k = 2\n",
    "# Output: [1,2]\n",
    "nums = [1,1,1,2,2,3]\n",
    "k=2\n",
    "\n",
    "result={}\n",
    "\n",
    "for value in set(nums):\n",
    "    # result.append(nums.count(value))\n",
    "    result[value] = nums.count(value)\n",
    "    # print(result)\n",
    "# result = sorted(result)\n",
    "print(result)\n",
    "\n",
    "\n",
    "sorted_result = sorted(result.items(), key=lambda item: item[1], reverse=True)\n",
    "sorted_result\n",
    "\n",
    "\n",
    "\n",
    "\n",
    "sorted_keys = [ keys for keys, v in sorted_result]\n",
    "sorted_keys[:k]\n"
   ]
  },
  {
   "cell_type": "code",
   "execution_count": null,
   "metadata": {},
   "outputs": [],
   "source": [
    "# nums = [1,1,1,2,2,3,3,3,3,3]; k = 2\n",
    "# Output: [1,2]\n",
    "\n",
    "#beats 86%\n",
    "nums = [1,1,1,2,2,3]\n",
    "k=2\n",
    "\n",
    "result={}\n",
    "\n",
    "\n",
    "for number in nums:\n",
    "    if number in result:\n",
    "        result[number] +=1\n",
    "    else:\n",
    "        result[number] = 1\n",
    "\n",
    "\n",
    "print(result)\n",
    "\n",
    "sorted_result = sorted(result.items(), key=lambda item: item[1], reverse=True)\n",
    "sorted_result\n",
    "\n",
    "\n",
    "\n",
    "\n",
    "sorted_keys = [ keys for keys, v in sorted_result]\n",
    "sorted_keys[:k]\n"
   ]
  },
  {
   "cell_type": "code",
   "execution_count": null,
   "metadata": {},
   "outputs": [],
   "source": [
    "\"aabc\".count(\"a\")"
   ]
  },
  {
   "cell_type": "code",
   "execution_count": null,
   "metadata": {},
   "outputs": [],
   "source": []
  },
  {
   "cell_type": "code",
   "execution_count": null,
   "metadata": {},
   "outputs": [],
   "source": [
    "# optimal \n",
    "import heapq\n",
    "freq_map = {}\n",
    "for num in nums:\n",
    "    if num in freq_map:\n",
    "        freq_map[num] += 1\n",
    "    else:\n",
    "        freq_map[num] = 1\n",
    "\n",
    "# Step 2: Use a heap to find the k most frequent elements\n",
    "# The heap will store elements as (-frequency, element) to create a max heap\n",
    "heap = []\n",
    "for num, freq in freq_map.items():\n",
    "    heapq.heappush(heap, (-freq, num))\n",
    "\n",
    "# Step 3: Extract the top k elements from the heap\n",
    "top_k = []\n",
    "for _ in range(k):\n",
    "    top_k.append(heapq.heappop(heap)[1])\n",
    "\n",
    "top_k"
   ]
  },
  {
   "cell_type": "code",
   "execution_count": null,
   "metadata": {},
   "outputs": [],
   "source": []
  },
  {
   "cell_type": "code",
   "execution_count": null,
   "metadata": {},
   "outputs": [],
   "source": []
  },
  {
   "cell_type": "markdown",
   "metadata": {},
   "source": [
    "# String Encode and Decode\n",
    "\n",
    "Input: [\"neet\",\"code\",\"love\",\"you\"]\n",
    "\n",
    "Output:[\"neet\",\"code\",\"love\",\"you\"]\n"
   ]
  },
  {
   "cell_type": "code",
   "execution_count": null,
   "metadata": {},
   "outputs": [],
   "source": [
    "input = [\"\"]\n",
    "\n",
    "encoded = \"#\".join(input)\n",
    "print(\"encoded\", encoded)\n",
    "# decoded = encoded.split(\"#\") if encoded!=\"\" else []\n",
    "\n",
    "decoded = encoded.split(\"#\")\n",
    "print(decoded)\n",
    "\n"
   ]
  },
  {
   "cell_type": "code",
   "execution_count": null,
   "metadata": {},
   "outputs": [],
   "source": [
    "\"#\".join([\"\"]), \"#\".join([])"
   ]
  },
  {
   "cell_type": "markdown",
   "metadata": {},
   "source": [
    "### (len)#(string)"
   ]
  },
  {
   "cell_type": "code",
   "execution_count": null,
   "metadata": {},
   "outputs": [],
   "source": [
    "input = [\"neet\",\"code\",\"love\",\"you\"]\n",
    "# input=[]\n",
    "string=\"\"\n",
    "for i in input:\n",
    "    string+=str(len(i))+'#' + i\n",
    "string\n"
   ]
  },
  {
   "cell_type": "code",
   "execution_count": null,
   "metadata": {},
   "outputs": [],
   "source": [
    "\n",
    "output =[]\n",
    "i=0\n",
    "while(i<len(string)):\n",
    "    length = int(string[i])\n",
    "    print(\"length:\", length)\n",
    "    print(string[i+1+1:i+1+1+length])\n",
    "    output.append(string[i+1+1:i+1+1+length])\n",
    "    i = i+ 1+length+1\n",
    "\n",
    "output\n"
   ]
  },
  {
   "cell_type": "code",
   "execution_count": null,
   "metadata": {},
   "outputs": [],
   "source": []
  },
  {
   "cell_type": "code",
   "execution_count": null,
   "metadata": {},
   "outputs": [],
   "source": [
    "# accepted\n",
    "# input = [\"neet\",\"code\",\"love\",\"you\"]\n",
    "input=[\"\"]\n",
    "string=\"\"\n",
    "for i in input:\n",
    "    string+=str(len(i))+'#' + i\n",
    "string\n",
    "\n",
    "print(string)\n",
    "res =[]\n",
    "i=0\n",
    "while(i<len(string)):\n",
    "    j=i\n",
    "    while(string[j]!='#'):\n",
    "        j+=1\n",
    "    length=int(string[i:j])\n",
    "\n",
    "    print(string[j+1:j+1+length])\n",
    "    res.append(string[j+1:j+1+length])\n",
    "    i = j+1+length\n",
    "res\n",
    "\n"
   ]
  },
  {
   "cell_type": "code",
   "execution_count": null,
   "metadata": {},
   "outputs": [],
   "source": []
  },
  {
   "cell_type": "code",
   "execution_count": null,
   "metadata": {},
   "outputs": [],
   "source": []
  },
  {
   "cell_type": "code",
   "execution_count": null,
   "metadata": {},
   "outputs": [],
   "source": []
  },
  {
   "cell_type": "code",
   "execution_count": null,
   "metadata": {},
   "outputs": [],
   "source": [
    "\n",
    "Input:\n",
    "\n",
    "[\"\"]\n",
    "\n",
    "Your Output:\n",
    "\n",
    "[]\n",
    "\n",
    "Expected output:\n",
    "\n",
    "[\"\"]"
   ]
  },
  {
   "cell_type": "code",
   "execution_count": null,
   "metadata": {},
   "outputs": [],
   "source": []
  },
  {
   "cell_type": "code",
   "execution_count": null,
   "metadata": {},
   "outputs": [],
   "source": []
  },
  {
   "cell_type": "code",
   "execution_count": null,
   "metadata": {},
   "outputs": [],
   "source": []
  },
  {
   "cell_type": "code",
   "execution_count": null,
   "metadata": {},
   "outputs": [],
   "source": []
  },
  {
   "cell_type": "code",
   "execution_count": null,
   "metadata": {},
   "outputs": [],
   "source": []
  },
  {
   "cell_type": "markdown",
   "metadata": {},
   "source": [
    "## median"
   ]
  },
  {
   "cell_type": "code",
   "execution_count": null,
   "metadata": {},
   "outputs": [],
   "source": [
    "arr  = [5,1,2,3,4,6]\n",
    "\n",
    "arr = sorted(arr)\n",
    "arr\n",
    "length =len(arr)\n",
    "\n",
    "if length%2 ==0:\n",
    "    print(length//2)\n",
    "    print((arr[length//2 -1] +  arr[length//2]) / 2)\n",
    "\n",
    "else:\n",
    "    print((length//2))\n",
    "\n",
    "\n",
    "\n"
   ]
  },
  {
   "cell_type": "code",
   "execution_count": null,
   "metadata": {},
   "outputs": [],
   "source": [
    "# fina\n",
    "arr  = [5,1,2,3,4,6,7]\n",
    "\n",
    "arr = sorted(arr)\n",
    "arr\n",
    "length =len(arr)\n",
    "\n",
    "if length%2 ==0:\n",
    "    print((arr[length//2 -1] +  arr[length//2]) / 2)\n",
    "\n",
    "else:\n",
    "    print(length//2)\n",
    "\n"
   ]
  },
  {
   "cell_type": "code",
   "execution_count": null,
   "metadata": {},
   "outputs": [],
   "source": [
    "7/3, 7//3, 7%3"
   ]
  },
  {
   "cell_type": "code",
   "execution_count": null,
   "metadata": {},
   "outputs": [],
   "source": [
    "\n",
    "\n"
   ]
  },
  {
   "cell_type": "code",
   "execution_count": null,
   "metadata": {},
   "outputs": [],
   "source": []
  },
  {
   "cell_type": "markdown",
   "metadata": {},
   "source": [
    "## Lonely Integer"
   ]
  },
  {
   "cell_type": "code",
   "execution_count": null,
   "metadata": {},
   "outputs": [],
   "source": [
    "a =[1,2,3,4,3,2,1]   # all lements but one occur twixe\n",
    "a\n"
   ]
  },
  {
   "cell_type": "code",
   "execution_count": null,
   "metadata": {},
   "outputs": [],
   "source": [
    "def lonelyinteger(a):\n",
    "    result = 0\n",
    "    for num in a:\n",
    "        result ^= num  # XOR each element\n",
    "        print(result)\n",
    "    return result\n",
    "lonelyinteger(a)"
   ]
  },
  {
   "cell_type": "code",
   "execution_count": null,
   "metadata": {},
   "outputs": [],
   "source": [
    "a = [1,2,3]\n",
    "a =[1,2,3,4,3,2,1]   # all lements but one occur twixe\n",
    "\n",
    "# final\n",
    "\n",
    "def lonelyInter(a):\n",
    "    sum_of_arr = sum(set(a)) \n",
    "    # print(sum_of_arr)\n",
    "\n",
    "    return sum_of_arr*2 - sum(a)\n",
    "\n",
    "lonelyInter(a)\n"
   ]
  },
  {
   "cell_type": "code",
   "execution_count": null,
   "metadata": {},
   "outputs": [],
   "source": [
    "5**2"
   ]
  },
  {
   "cell_type": "markdown",
   "metadata": {},
   "source": [
    "## Grading Students\n",
    "\n",
    "\n",
    "\n",
    "1. If the difference between the grade and the next multiple of 5 is less than 3, round grade up to the next multiple of 5.\n",
    "\n",
    "2. If the value of grade is less than 38, no rounding occurs\n"
   ]
  },
  {
   "cell_type": "code",
   "execution_count": null,
   "metadata": {},
   "outputs": [],
   "source": [
    "grades = [4, 73, 67, 38, 33]\n",
    "def gradingStudents(grades):\n",
    "    for index, value in enumerate(grades):\n",
    "        if value>=38:\n",
    "            remainder =value%5\n",
    "            if remainder>2:\n",
    "                grades[index] = value + (5 - remainder)\n",
    "    return grades\n",
    "gradingStudents(grades)"
   ]
  },
  {
   "cell_type": "code",
   "execution_count": null,
   "metadata": {},
   "outputs": [],
   "source": []
  },
  {
   "cell_type": "code",
   "execution_count": null,
   "metadata": {},
   "outputs": [],
   "source": []
  },
  {
   "cell_type": "code",
   "execution_count": null,
   "metadata": {},
   "outputs": [],
   "source": []
  },
  {
   "cell_type": "code",
   "execution_count": null,
   "metadata": {},
   "outputs": [],
   "source": []
  },
  {
   "cell_type": "markdown",
   "metadata": {},
   "source": [
    "## diagonal difference \n"
   ]
  },
  {
   "cell_type": "code",
   "execution_count": null,
   "metadata": {},
   "outputs": [],
   "source": []
  },
  {
   "cell_type": "code",
   "execution_count": null,
   "metadata": {},
   "outputs": [],
   "source": [
    "# O(n**2)\n",
    "\n",
    "x= [[1, 2 ,3],  \n",
    "     [4 ,5, 6],\n",
    "     [9 ,8, 9 ],]\n",
    "\n",
    "x\n",
    "columns = len(x[0])\n",
    "rows = len(x)\n",
    "# print(columns, rows)\n",
    "\n",
    "\n",
    "diagonal_difference =0\n",
    "for r in range(rows):\n",
    "    for c in range(columns):\n",
    "        if r==c:\n",
    "            print(x[r][c], x[r][columns - r-1])\n",
    "            diagonal_difference+= x[r][c]- x[r][columns - r-1]\n",
    "            # print(\"\\tf:\",r,c, \"r:\", r, columns - r-1])\n",
    "        \n",
    "abs(diagonal_difference)"
   ]
  },
  {
   "cell_type": "code",
   "execution_count": null,
   "metadata": {},
   "outputs": [],
   "source": [
    "# O(n)\n",
    "def diagonal_difference(matrix):\n",
    "  n = len(matrix)\n",
    "  primary_sum = sum(matrix[i][i] for i in range(n))\n",
    "  secondary_sum = sum(matrix[i][n - i - 1] for i in range(n))\n",
    "  return abs(primary_sum - secondary_sum)\n",
    "\n",
    "diagonal_difference(x)"
   ]
  },
  {
   "cell_type": "code",
   "execution_count": null,
   "metadata": {},
   "outputs": [],
   "source": []
  },
  {
   "cell_type": "code",
   "execution_count": null,
   "metadata": {},
   "outputs": [],
   "source": []
  },
  {
   "cell_type": "markdown",
   "metadata": {},
   "source": [
    "# Counting sort 1"
   ]
  },
  {
   "cell_type": "code",
   "execution_count": null,
   "metadata": {},
   "outputs": [],
   "source": [
    "arr=[1,1,3,2,1,0]\n",
    "count = [0] * (len(set(arr)))\n",
    "\n",
    "arr, count"
   ]
  },
  {
   "cell_type": "code",
   "execution_count": null,
   "metadata": {},
   "outputs": [],
   "source": [
    "arr=[1,1,3,2,1]\n",
    "# arr = [63, 54, 17, 78, 43, 70, 32, 97, 16, 94, 74, 18, 60, 61, 35, 83, 13, 56, 75, 52, 70, 12, 24, 37, 17, 0, 16, 64, 34, 81, 82, 24, 69, 2, 30, 61, 83, 37, 97, 16, 70, 53, 0, 61, 12, 17, 97, 67, 33, 30, 49, 70, 11, 40, 67, 94, 84, 60, 35, 58, 19, 81, 16, 14, 68, 46, 42, 81, 75, 87, 13, 84, 33, 34, 14, 96, 7, 59, 17, 98, 79, 47, 71, 75, 8, 27, 73, 66, 64, 12, 29, 35, 80, 78, 80, 6, 5, 24, 49, 82]\n",
    "\n",
    "count = [0] * (max(arr)+1)\n",
    "print(max(arr))\n",
    "for v in arr:\n",
    "  count[v] += 1\n",
    "\n",
    "count"
   ]
  },
  {
   "cell_type": "code",
   "execution_count": null,
   "metadata": {},
   "outputs": [],
   "source": []
  },
  {
   "cell_type": "code",
   "execution_count": null,
   "metadata": {},
   "outputs": [],
   "source": [
    "[i for i,v in enumerate(count) for _ in range(v)]"
   ]
  },
  {
   "cell_type": "code",
   "execution_count": null,
   "metadata": {},
   "outputs": [],
   "source": [
    "count\n",
    "lst=[]\n",
    "for i, v in enumerate(count):\n",
    "    for _ in range(v):\n",
    "        lst.append(i)\n",
    "lst"
   ]
  },
  {
   "cell_type": "code",
   "execution_count": null,
   "metadata": {},
   "outputs": [],
   "source": []
  },
  {
   "cell_type": "code",
   "execution_count": null,
   "metadata": {},
   "outputs": [],
   "source": []
  },
  {
   "cell_type": "code",
   "execution_count": null,
   "metadata": {},
   "outputs": [],
   "source": [
    "# sorted\n",
    "arr=[1,1,3,2,1]\n",
    "\n",
    "count = [0] * (max(arr)+1)\n",
    "print(max(arr))\n",
    "for v in arr:\n",
    "  count[v] += 1\n",
    "\n",
    "\n",
    "[i for i,v in enumerate(count) for _ in range(v)]"
   ]
  },
  {
   "cell_type": "code",
   "execution_count": null,
   "metadata": {},
   "outputs": [],
   "source": []
  },
  {
   "cell_type": "code",
   "execution_count": null,
   "metadata": {},
   "outputs": [],
   "source": []
  },
  {
   "cell_type": "code",
   "execution_count": null,
   "metadata": {},
   "outputs": [],
   "source": []
  },
  {
   "cell_type": "code",
   "execution_count": null,
   "metadata": {},
   "outputs": [],
   "source": []
  },
  {
   "cell_type": "code",
   "execution_count": null,
   "metadata": {},
   "outputs": [],
   "source": []
  },
  {
   "cell_type": "code",
   "execution_count": null,
   "metadata": {},
   "outputs": [],
   "source": []
  },
  {
   "cell_type": "code",
   "execution_count": null,
   "metadata": {},
   "outputs": [],
   "source": []
  },
  {
   "cell_type": "code",
   "execution_count": null,
   "metadata": {},
   "outputs": [],
   "source": []
  },
  {
   "cell_type": "code",
   "execution_count": null,
   "metadata": {},
   "outputs": [],
   "source": []
  },
  {
   "cell_type": "code",
   "execution_count": null,
   "metadata": {},
   "outputs": [],
   "source": []
  },
  {
   "cell_type": "code",
   "execution_count": null,
   "metadata": {},
   "outputs": [],
   "source": []
  },
  {
   "cell_type": "code",
   "execution_count": null,
   "metadata": {},
   "outputs": [],
   "source": []
  },
  {
   "cell_type": "code",
   "execution_count": null,
   "metadata": {},
   "outputs": [],
   "source": []
  },
  {
   "cell_type": "code",
   "execution_count": null,
   "metadata": {},
   "outputs": [],
   "source": []
  },
  {
   "cell_type": "code",
   "execution_count": null,
   "metadata": {},
   "outputs": [],
   "source": []
  },
  {
   "cell_type": "code",
   "execution_count": null,
   "metadata": {},
   "outputs": [],
   "source": []
  },
  {
   "cell_type": "code",
   "execution_count": null,
   "metadata": {},
   "outputs": [],
   "source": []
  },
  {
   "cell_type": "code",
   "execution_count": null,
   "metadata": {},
   "outputs": [],
   "source": []
  },
  {
   "cell_type": "markdown",
   "metadata": {},
   "source": [
    "# Panagram"
   ]
  },
  {
   "cell_type": "code",
   "execution_count": null,
   "metadata": {},
   "outputs": [],
   "source": [
    "s = \"We promptly judged antique ivory buckles for the next prize\"\n",
    "# s =s.split()\n",
    "result = \"pagram\" if 26 == len(set(\"\".join(s.lower().split()))) else \"non pangram\"\n",
    "result"
   ]
  },
  {
   "cell_type": "markdown",
   "metadata": {},
   "source": []
  },
  {
   "cell_type": "code",
   "execution_count": null,
   "metadata": {},
   "outputs": [],
   "source": []
  },
  {
   "cell_type": "code",
   "execution_count": null,
   "metadata": {},
   "outputs": [],
   "source": []
  },
  {
   "cell_type": "markdown",
   "metadata": {},
   "source": [
    "# Mars exploration\n",
    "A space explorer's ship crashed on Mars! They send a series of SOS messages to Earth for help. "
   ]
  },
  {
   "cell_type": "code",
   "execution_count": null,
   "metadata": {},
   "outputs": [],
   "source": []
  },
  {
   "cell_type": "code",
   "execution_count": null,
   "metadata": {},
   "outputs": [],
   "source": [
    "S = \"SOSSPSSQSSOR\"\n",
    "target_string = \"SOS\" * (len(S)//3)\n",
    "S, target_string"
   ]
  },
  {
   "cell_type": "code",
   "execution_count": null,
   "metadata": {},
   "outputs": [],
   "source": [
    "discrepancy = 0\n",
    "for current, target in zip(S, target_string):\n",
    "    if target != current:\n",
    "        discrepancy+=1\n",
    "discrepancy"
   ]
  },
  {
   "cell_type": "code",
   "execution_count": null,
   "metadata": {},
   "outputs": [],
   "source": [
    "'a'*4"
   ]
  },
  {
   "cell_type": "code",
   "execution_count": null,
   "metadata": {},
   "outputs": [],
   "source": []
  },
  {
   "cell_type": "code",
   "execution_count": null,
   "metadata": {},
   "outputs": [],
   "source": []
  },
  {
   "cell_type": "markdown",
   "metadata": {},
   "source": [
    "# Counting Valleys\n",
    "\n",
    "An avid hiker keeps meticulous records of their hikes. During the last hike that took exactly steps, for every step it was noted if it was an uphill, , or a downhill, step. Hikes always start and end at sea level, and each step up or down represents a\n",
    "\n",
    "unit change in altitude. We define the following terms:\n",
    "\n",
    "    A mountain is a sequence of consecutive steps above sea level, starting with a step up from sea level and ending with a step down to sea level.\n",
    "    A valley is a sequence of consecutive steps below sea level, starting with a step down from sea level and ending with a step up to sea level.\n",
    "\n",
    "Given the sequence of up and down steps during a hike, find and print the number of valleys walked through. "
   ]
  },
  {
   "cell_type": "code",
   "execution_count": null,
   "metadata": {},
   "outputs": [],
   "source": [
    "number_of_steps = 8\n",
    "steps = \"UDDDUDUU\"\n",
    "\n",
    "number_of_steps, steps"
   ]
  },
  {
   "cell_type": "code",
   "execution_count": null,
   "metadata": {},
   "outputs": [],
   "source": [
    "number_of_steps = 8\n",
    "steps = \"UDDDUDUU\"\n",
    "\n",
    "number_of_steps, steps\n",
    "downstate = 0\n",
    "upstate = 0\n",
    "in_valley =False\n",
    "for i, value in enumerate(steps):\n",
    "    if value == 'U':\n",
    "        upstate+=1\n",
    "    if value == 'D':\n",
    "        downstate+=1\n",
    "\n",
    "\n",
    "    if downstate > upstate and not in_valley:\n",
    "        in_valley=True\n",
    "        print(\"valley-entered\")\n",
    "    if upstate == downstate and in_valley:\n",
    "\n",
    "        print(\"valley-exit\")  \n",
    "        in_valley = False  \n",
    "\n",
    "    # print(f\"upstate:{upstate}, downstate:{downstate}, in_valley: {in_valley}\")\n",
    "\n",
    "    \n"
   ]
  },
  {
   "cell_type": "code",
   "execution_count": null,
   "metadata": {},
   "outputs": [],
   "source": [
    "number_of_steps = 8\n",
    "steps = \"UDDDUDUU\"\n",
    "\n",
    "number_of_steps, steps\n",
    "elevation = 0\n",
    "in_valley =False\n",
    "for i, value in enumerate(steps):\n",
    "    if value == 'U':\n",
    "        elevation +=1\n",
    "    if value == 'D':\n",
    "        elevation -=1\n",
    "\n",
    "\n",
    "    if elevation< 0 and not in_valley:\n",
    "        in_valley=True\n",
    "        print(\"valley-entered\")\n",
    "    if elevation == 0 and in_valley:\n",
    "\n",
    "        print(\"valley-exit\")  \n",
    "        in_valley = False  \n",
    "\n",
    "    # print(f\"elevation:{elevation}, in_valley: {in_valley}\")\n",
    "\n",
    "    \n"
   ]
  },
  {
   "cell_type": "code",
   "execution_count": null,
   "metadata": {},
   "outputs": [],
   "source": [
    "number_of_steps = 8\n",
    "steps = \"UDDDUDUU\"\n",
    "\n",
    "number_of_steps, steps\n",
    "elevation = valleys = 0\n",
    "for i, value in enumerate(steps):\n",
    "    elevation+= 1 if value == 'U' else -1\n",
    "\n",
    "    if elevation == 0 and value == 'U':\n",
    "        valleys += 1\n",
    "\n",
    "    # print(f\"elevation:{elevation}, in_valley: {in_valley}\")\n",
    "\n",
    "    \n",
    "valleys"
   ]
  },
  {
   "cell_type": "code",
   "execution_count": null,
   "metadata": {},
   "outputs": [],
   "source": [
    "def countingValleys(steps, path):\n",
    "    elevation = valleys = 0\n",
    "    for step in path:\n",
    "        elevation += 1 if step == 'U' else -1\n",
    "        if elevation == 0 and step == 'U':\n",
    "            valleys += 1\n",
    "    return valleys"
   ]
  },
  {
   "cell_type": "code",
   "execution_count": null,
   "metadata": {},
   "outputs": [],
   "source": []
  },
  {
   "cell_type": "code",
   "execution_count": null,
   "metadata": {},
   "outputs": [],
   "source": []
  },
  {
   "cell_type": "code",
   "execution_count": null,
   "metadata": {},
   "outputs": [],
   "source": []
  },
  {
   "cell_type": "code",
   "execution_count": null,
   "metadata": {},
   "outputs": [],
   "source": []
  },
  {
   "cell_type": "code",
   "execution_count": null,
   "metadata": {},
   "outputs": [],
   "source": []
  },
  {
   "cell_type": "code",
   "execution_count": null,
   "metadata": {},
   "outputs": [],
   "source": []
  },
  {
   "cell_type": "code",
   "execution_count": null,
   "metadata": {},
   "outputs": [],
   "source": []
  },
  {
   "cell_type": "code",
   "execution_count": null,
   "metadata": {},
   "outputs": [],
   "source": []
  },
  {
   "cell_type": "code",
   "execution_count": null,
   "metadata": {},
   "outputs": [],
   "source": []
  },
  {
   "cell_type": "markdown",
   "metadata": {},
   "source": [
    "# permuting two arrays"
   ]
  },
  {
   "cell_type": "code",
   "execution_count": null,
   "metadata": {},
   "outputs": [],
   "source": []
  },
  {
   "cell_type": "code",
   "execution_count": null,
   "metadata": {},
   "outputs": [],
   "source": [
    "k = 10\n",
    "A = [2, 1, 3]\n",
    "B = [7, 8, 9]\n",
    "\n",
    "def checking_sum(k, A, B):\n",
    "    A.sort()\n",
    "    B.sort(reverse=True)\n",
    "    for a, b in zip(A,B):\n",
    "        if a + b < k:\n",
    "            print(a+b)\n",
    "            return False\n",
    "        \n",
    "    return True\n",
    "\n",
    "\n",
    "checking_sum(k, A, B)"
   ]
  },
  {
   "cell_type": "code",
   "execution_count": null,
   "metadata": {},
   "outputs": [],
   "source": []
  },
  {
   "cell_type": "code",
   "execution_count": null,
   "metadata": {},
   "outputs": [],
   "source": []
  },
  {
   "cell_type": "code",
   "execution_count": null,
   "metadata": {},
   "outputs": [],
   "source": []
  },
  {
   "cell_type": "code",
   "execution_count": null,
   "metadata": {},
   "outputs": [],
   "source": []
  },
  {
   "cell_type": "markdown",
   "metadata": {},
   "source": [
    "# Subarray Division 2\n",
    "Two children, Lily and Ron, want to share a chocolate bar. Each of the squares has an integer on it. "
   ]
  },
  {
   "cell_type": "code",
   "execution_count": null,
   "metadata": {},
   "outputs": [],
   "source": [
    "s= [2,2,1,3,2]\n",
    "d= 4\n",
    "m=2\n",
    "\n",
    "for i in range(len(s) -m +1):\n",
    "    # print(i)\n",
    "    # sum loop\n",
    "    temp_sum =0\n",
    "    \n",
    "    for t in range(m):\n",
    "        temp_sum += s[i+t]\n",
    "        # print(temp_sum)\n",
    "    if temp_sum == d:\n",
    "        print(i, i+m, s[i:i+m])\n",
    "    "
   ]
  },
  {
   "cell_type": "code",
   "execution_count": null,
   "metadata": {},
   "outputs": [],
   "source": [
    "s= [2,2,1,3,2]\n",
    "d= 4\n",
    "m=2\n",
    "count=0\n",
    "\n",
    "\n",
    "for i in range(len(s) -m +1):\n",
    "    current_sum =sum(s[i:i+m])\n",
    "    if(current_sum) == d: \n",
    "        count+=1\n",
    "        print(s[i:i+m])\n",
    "\n",
    "count"
   ]
  },
  {
   "cell_type": "code",
   "execution_count": null,
   "metadata": {},
   "outputs": [],
   "source": [
    "s[0:0+2]"
   ]
  },
  {
   "cell_type": "code",
   "execution_count": null,
   "metadata": {},
   "outputs": [],
   "source": []
  },
  {
   "cell_type": "code",
   "execution_count": null,
   "metadata": {},
   "outputs": [],
   "source": []
  },
  {
   "cell_type": "code",
   "execution_count": null,
   "metadata": {},
   "outputs": [],
   "source": []
  },
  {
   "cell_type": "code",
   "execution_count": null,
   "metadata": {},
   "outputs": [],
   "source": []
  },
  {
   "cell_type": "code",
   "execution_count": null,
   "metadata": {},
   "outputs": [],
   "source": []
  },
  {
   "cell_type": "code",
   "execution_count": null,
   "metadata": {},
   "outputs": [],
   "source": []
  },
  {
   "cell_type": "markdown",
   "metadata": {},
   "source": []
  },
  {
   "cell_type": "markdown",
   "metadata": {},
   "source": [
    "# Sales by Match"
   ]
  },
  {
   "cell_type": "code",
   "execution_count": null,
   "metadata": {},
   "outputs": [],
   "source": [
    "ar = [10, 20, 20, 10, 10, 30, 50, 10, 20]\n",
    "\n",
    "color_count={}\n",
    "pairs =0\n",
    "for i in ar:\n",
    "    # print(i)\n",
    "    if i in color_count:\n",
    "        color_count[i] +=1\n",
    "    else:\n",
    "        color_count[i] =1\n",
    "print(color_count)\n",
    "# for count in color_count.values():\n",
    "#     pairs += count//2\n",
    "#     print(count//2)\n",
    "# pairs"
   ]
  },
  {
   "cell_type": "code",
   "execution_count": null,
   "metadata": {},
   "outputs": [],
   "source": []
  },
  {
   "cell_type": "code",
   "execution_count": null,
   "metadata": {},
   "outputs": [],
   "source": []
  },
  {
   "cell_type": "markdown",
   "metadata": {},
   "source": [
    "# Migratory Birds"
   ]
  },
  {
   "cell_type": "code",
   "execution_count": null,
   "metadata": {},
   "outputs": [],
   "source": [
    "arr = [1,1,2,2,3,7]\n",
    "\n",
    "{i:v for i,v in enumerate(arr) if i in }\n",
    "\n",
    "# for i in "
   ]
  },
  {
   "cell_type": "code",
   "execution_count": null,
   "metadata": {},
   "outputs": [],
   "source": [
    "arr = [1,1,2,2,3, 7,7]\n",
    "\n",
    "count_dict = {}\n",
    "\n",
    "for value in arr:\n",
    "    if value in count_dict:\n",
    "        count_dict[value] += 1\n",
    "    else:\n",
    "        count_dict[value] = 1\n",
    "\n",
    "print(count_dict) \n",
    "\n",
    "sorted_items = sorted(count_dict.items(), key= lambda x: x[1], reverse=True)\n",
    "sorted_items[0][0]"
   ]
  },
  {
   "cell_type": "code",
   "execution_count": null,
   "metadata": {},
   "outputs": [],
   "source": [
    "{k:v for k,v in sorted_items}"
   ]
  },
  {
   "cell_type": "code",
   "execution_count": null,
   "metadata": {},
   "outputs": [],
   "source": [
    "arr = [1,1,2,2,3, 7,7,7, 6,6,6]\n",
    "\n",
    "bird_count = {}\n",
    "\n",
    "for value in arr:\n",
    "    if value in bird_count:\n",
    "        bird_count[value] += 1\n",
    "    else:\n",
    "        bird_count[value] = 1\n",
    "        \n",
    "    # Find the bird type with the maximum count\n",
    "print(bird_count)\n",
    "max_count = max(bird_count.values())\n",
    "print(max_count)\n",
    "\n",
    "# Initialize a variable to hold the smallest bird type ID with the max count\n",
    "smallest_bird_id = float('inf')\n",
    "\n",
    "\n",
    "smallest_bird_id = float('inf')\n",
    "for bird_id, count in bird_count.items():\n",
    "    if count == max_count and bird_id<smallest_bird_id:\n",
    "        smallest_bird_id = bird_id\n",
    "\n",
    "print(smallest_bird_id)"
   ]
  },
  {
   "cell_type": "code",
   "execution_count": null,
   "metadata": {},
   "outputs": [],
   "source": []
  },
  {
   "cell_type": "code",
   "execution_count": null,
   "metadata": {},
   "outputs": [],
   "source": []
  },
  {
   "cell_type": "code",
   "execution_count": null,
   "metadata": {},
   "outputs": [],
   "source": []
  },
  {
   "cell_type": "code",
   "execution_count": null,
   "metadata": {},
   "outputs": [],
   "source": []
  },
  {
   "cell_type": "code",
   "execution_count": null,
   "metadata": {},
   "outputs": [],
   "source": []
  },
  {
   "cell_type": "code",
   "execution_count": null,
   "metadata": {},
   "outputs": [],
   "source": []
  },
  {
   "cell_type": "code",
   "execution_count": null,
   "metadata": {},
   "outputs": [],
   "source": []
  },
  {
   "cell_type": "code",
   "execution_count": null,
   "metadata": {},
   "outputs": [],
   "source": []
  },
  {
   "cell_type": "markdown",
   "metadata": {},
   "source": [
    "# XOR strings 3"
   ]
  },
  {
   "cell_type": "code",
   "execution_count": null,
   "metadata": {},
   "outputs": [],
   "source": [
    "s = \"10101\"\n",
    "t = \"00101\"\n"
   ]
  },
  {
   "cell_type": "code",
   "execution_count": null,
   "metadata": {},
   "outputs": [],
   "source": [
    "length = max(len(s), len(t))\n",
    "length    "
   ]
  },
  {
   "cell_type": "code",
   "execution_count": null,
   "metadata": {},
   "outputs": [],
   "source": [
    "[0 if s[i] == t[i] else 1 for i in range(len(s))]"
   ]
  },
  {
   "cell_type": "code",
   "execution_count": null,
   "metadata": {},
   "outputs": [],
   "source": []
  },
  {
   "cell_type": "code",
   "execution_count": null,
   "metadata": {},
   "outputs": [],
   "source": []
  },
  {
   "cell_type": "code",
   "execution_count": null,
   "metadata": {},
   "outputs": [],
   "source": []
  },
  {
   "cell_type": "markdown",
   "metadata": {},
   "source": [
    "# Drawing Book\n",
    "A teacher asks the class to open their books to a page number. A student can either start turning pages from the front of the book or from the back of the book. They always turn pages one at a time. When they open the book, page is always on the right side:\n",
    "\n",
    "\n",
    "    int n: the number of pages in the book\n",
    "    int p: the page number to turn to\n"
   ]
  },
  {
   "cell_type": "code",
   "execution_count": null,
   "metadata": {},
   "outputs": [],
   "source": [
    "def pageCount(n, p):\n",
    "    from_front = p//2\n",
    "    from_back = (n//2) - (p//2)\n",
    "    return min(from_front, from_back)\n",
    "# Example usage:\n",
    "n = 6  # Total pages\n",
    "p = 4  # Target page\n",
    "print(pageCount(n, p))  # Output: 1\n"
   ]
  },
  {
   "cell_type": "code",
   "execution_count": null,
   "metadata": {},
   "outputs": [],
   "source": []
  },
  {
   "cell_type": "code",
   "execution_count": null,
   "metadata": {},
   "outputs": [],
   "source": []
  },
  {
   "cell_type": "code",
   "execution_count": null,
   "metadata": {},
   "outputs": [],
   "source": []
  },
  {
   "cell_type": "code",
   "execution_count": null,
   "metadata": {},
   "outputs": [],
   "source": []
  },
  {
   "cell_type": "code",
   "execution_count": null,
   "metadata": {},
   "outputs": [],
   "source": []
  },
  {
   "cell_type": "code",
   "execution_count": null,
   "metadata": {},
   "outputs": [],
   "source": []
  },
  {
   "cell_type": "code",
   "execution_count": null,
   "metadata": {},
   "outputs": [],
   "source": []
  },
  {
   "cell_type": "markdown",
   "metadata": {},
   "source": [
    "# Flipping bits"
   ]
  },
  {
   "cell_type": "markdown",
   "metadata": {},
   "source": [
    "You will be given a list of 32 bit unsigned integers. Flip all the bits ( and ) and return the result as an unsigned integer. "
   ]
  },
  {
   "cell_type": "code",
   "execution_count": null,
   "metadata": {},
   "outputs": [],
   "source": [
    "def flipping_bits(n):\n",
    "    bit32='{:032b}'.format(n)\n",
    "    print(bit32)\n",
    "\n",
    "    mutated = \"\".join(['1' if value=='0' else '0' for value in bit32])\n",
    "    # print(mutated)\n",
    "\n",
    "    flipped_numer = ''.join(mutated)\n",
    "    print(flipped_numer)\n",
    "    print(int(flipped_numer,2))\n",
    "    \n",
    "\n",
    "\n",
    "n = 12\n",
    "flipping_bits(n)"
   ]
  },
  {
   "cell_type": "code",
   "execution_count": null,
   "metadata": {},
   "outputs": [],
   "source": [
    "def flipping_bits(n):\n",
    "    bit32 = '{:032b}'.format(n)  # Convert to 32-bit binary string\n",
    "    print(f\"Original 32-bit binary: {bit32}\")\n",
    "\n",
    "    # Flip bits using list comprehension\n",
    "    mutated = ['1' if value == '0' else '0' for value in bit32]\n",
    "    print(f\"Flipped bits: {''.join(mutated)}\")\n",
    "\n",
    "    # Convert back to integer\n",
    "    flipped_number = int(''.join(mutated), 2) #int(..., 2): Converts the binary string back to an integer. The 2 indicates that the string is in base 2 (binary).\n",
    "    print(f\"Flipped integer: {flipped_number}\")\n",
    "\n",
    "    return flipped_number\n",
    "\n",
    "# Example usage\n",
    "n = 2147483647\n",
    "flipping_bits(n)\n"
   ]
  },
  {
   "cell_type": "code",
   "execution_count": null,
   "metadata": {},
   "outputs": [],
   "source": [
    "def flipping_bits(n):\n",
    "   return n ^ 0xFFFFFFFFF  # 32-BIT\n",
    "\n",
    "# Example usage\n",
    "n = 2147483647\n",
    "flipping_bits(n)\n"
   ]
  },
  {
   "cell_type": "code",
   "execution_count": null,
   "metadata": {},
   "outputs": [],
   "source": [
    "def flipping_bits(n):\n",
    "    bit32 = '{:032b}'.format(n)  # Convert to 32-bit binary string\n",
    "    print(f\"Original 32-bit binary: {bit32}\")\n",
    "\n",
    "    flipped_number = n ^ 0xFFFFFFFF\n",
    "    # Flip bits using list comprehension\n",
    "    \n",
    "    # Convert back to integer from \n",
    "    # flipped_number = int(''.join(mutated), 2) #int(..., 2): Converts the binary string back to an integer. The 2 indicates that the string is in base 2 (binary).\n",
    "    \n",
    "    flippedbit32 = '{:032b}'.format(flipped_number)  # Convert to 32-bit binary string\n",
    "    print(f\"Original 32-bit binary: {flippedbit32}\")\n",
    "    print(f\"Flipped integer: {flipped_number}\")\n",
    "\n",
    "    return flipped_number\n",
    "\n",
    "# Example usage\n",
    "n = 2147083647\n",
    "flipping_bits(n)\n"
   ]
  },
  {
   "cell_type": "code",
   "execution_count": null,
   "metadata": {},
   "outputs": [],
   "source": [
    "2^7"
   ]
  },
  {
   "cell_type": "code",
   "execution_count": null,
   "metadata": {},
   "outputs": [],
   "source": [
    "    bit32 = '{:04b}'.format(2)  # Convert to 32-bit binary string\n",
    "    print(f\"Original 32-bit binary: {bit32}\")\n",
    "    bit32 = '{:04b}'.format(7)  # Convert to 32-bit binary string\n",
    "    print(f\"Original 32-bit binary: {bit32}\")\n",
    "    x = 2^7\n",
    "    bit32 = '{:04b}'.format(x)  # Convert to 32-bit binary string\n",
    "    print(f\"Original 32-bit binary: {bit32}\")\n",
    "     \n"
   ]
  },
  {
   "cell_type": "markdown",
   "metadata": {},
   "source": [
    "##### XOR\n",
    "1. different:1\n",
    "2. same:0"
   ]
  },
  {
   "cell_type": "code",
   "execution_count": null,
   "metadata": {},
   "outputs": [],
   "source": []
  },
  {
   "cell_type": "code",
   "execution_count": null,
   "metadata": {},
   "outputs": [],
   "source": []
  },
  {
   "cell_type": "code",
   "execution_count": null,
   "metadata": {},
   "outputs": [],
   "source": []
  },
  {
   "cell_type": "code",
   "execution_count": null,
   "metadata": {},
   "outputs": [],
   "source": [
    "#"
   ]
  },
  {
   "cell_type": "markdown",
   "metadata": {},
   "source": [
    "# swapping variables using bit"
   ]
  },
  {
   "cell_type": "code",
   "execution_count": null,
   "metadata": {},
   "outputs": [],
   "source": [
    "a=5;b= 7\n",
    "bit32 = '{:08b}'.format(a)  # Convert to 32-bit binary string\n",
    "print(f\"{a} - 8-bit binary: {bit32}\")\n",
    "\n",
    "bit32 = '{:08b}'.format(b)  # Convert to 32-bit binary string\n",
    "print(f\"{b} - 8-bit binary: {bit32}\")\n",
    "\n",
    "a = a^b # a contains a^b and b is unchanged a:a^b\n",
    "bit32 = '{:08b}'.format(a)  # Convert to 32-bit binary string\n",
    "print(f\"{a} - 8-bit binary: {bit32}\")\n",
    "bit32 = '{:08b}'.format(b)  # Convert to 32-bit binary string\n",
    "print(f\"{b} - 8-bit binary: {bit32}\")\n",
    "\n",
    "b = a^b  # b:(a^b)^b  ; b^b=0\n",
    "\n",
    "bit32 = '{:08b}'.format(a)  # Convert to 32-bit binary string\n",
    "print(f\"{a} - 8-bit binary: {bit32}\")\n",
    "bit32 = '{:08b}'.format(b)  # Convert to 32-bit binary string\n",
    "print(f\"{b} - 8-bit binary: {bit32}\")\n",
    "\n",
    "a = a ^ b # (a^(a^b)) ; a^a=0 = b\n",
    "\n",
    "bit32 = '{:08b}'.format(a)  # Convert to 32-bit binary string\n",
    "print(f\"{a} - 8-bit binary: {bit32}\")\n",
    "bit32 = '{:08b}'.format(b)  # Convert to 32-bit binary string\n",
    "print(f\"{b} - 8-bit binary: {bit32}\")\n"
   ]
  },
  {
   "cell_type": "code",
   "execution_count": null,
   "metadata": {},
   "outputs": [],
   "source": [
    "a, b = 5,7 \n",
    "\n",
    "a = a ^ b\n",
    "b = a^b # a^ a ^b\n",
    "a = a^b # a^b ^b \n",
    "a,b"
   ]
  },
  {
   "cell_type": "code",
   "execution_count": null,
   "metadata": {},
   "outputs": [],
   "source": [
    "a=5\n",
    "b=7\n",
    "x = a^b\n",
    "x^b"
   ]
  },
  {
   "cell_type": "code",
   "execution_count": null,
   "metadata": {},
   "outputs": [],
   "source": []
  },
  {
   "cell_type": "code",
   "execution_count": null,
   "metadata": {},
   "outputs": [],
   "source": [
    "# Initial value\n",
    "a = 7\n",
    "print(f\"Original value: {a} (Binary: {a:08b})\")\n",
    "\n",
    "# XOR with itself results in 0\n",
    "a = a ^ a\n",
    "print(f\"After a ^ a: {a} (Binary: {a:08b})\")\n",
    "\n",
    "# XOR with the original number restores the original value\n",
    "a = a ^ 7\n",
    "print(f\"After a ^ 7: {a} (Binary: {a:08b})\")\n"
   ]
  },
  {
   "cell_type": "code",
   "execution_count": null,
   "metadata": {},
   "outputs": [],
   "source": []
  },
  {
   "cell_type": "markdown",
   "metadata": {},
   "source": [
    "# leetcode reverse bits"
   ]
  },
  {
   "cell_type": "code",
   "execution_count": null,
   "metadata": {},
   "outputs": [],
   "source": [
    "def reverseBits( n):\n",
    "    bit32 = '{:032b}'.format(n)  # Convert to 32-bit binary string\n",
    "    \n",
    "    # Flip bits using list comprehension\n",
    "    reversed_bits = bit32[::-1]\n",
    "\n",
    "    flipped_number = int(''.join(reversed_bits), 2) #int(..., 2): Converts the binary string back to an integer. \n",
    "    \n",
    "    return flipped_number\n",
    "\n",
    "reverseBits(43261596)"
   ]
  },
  {
   "cell_type": "code",
   "execution_count": null,
   "metadata": {},
   "outputs": [],
   "source": []
  },
  {
   "cell_type": "code",
   "execution_count": null,
   "metadata": {},
   "outputs": [],
   "source": []
  },
  {
   "cell_type": "code",
   "execution_count": null,
   "metadata": {},
   "outputs": [],
   "source": []
  },
  {
   "cell_type": "code",
   "execution_count": null,
   "metadata": {},
   "outputs": [],
   "source": []
  },
  {
   "cell_type": "code",
   "execution_count": null,
   "metadata": {},
   "outputs": [],
   "source": []
  },
  {
   "cell_type": "code",
   "execution_count": null,
   "metadata": {},
   "outputs": [],
   "source": []
  },
  {
   "cell_type": "markdown",
   "metadata": {},
   "source": [
    "# 136 single number"
   ]
  },
  {
   "cell_type": "code",
   "execution_count": null,
   "metadata": {},
   "outputs": [],
   "source": []
  },
  {
   "cell_type": "code",
   "execution_count": null,
   "metadata": {},
   "outputs": [],
   "source": [
    "n = [4,1,2,2,1]\n",
    "x=0\n",
    "for i in n:\n",
    "    x= x^i\n",
    "    print(f\"{i} in bits: {i:08b} | {x} in bits: {x:08b}\")\n",
    "\n",
    "print(x)"
   ]
  },
  {
   "cell_type": "code",
   "execution_count": null,
   "metadata": {},
   "outputs": [],
   "source": [
    "# \n",
    "from functools import reduce\n",
    "\n",
    "class Solution:\n",
    "    def singleNumber(self, nums):\n",
    "        \"\"\"\n",
    "        Find the single number in a list where every other number appears exactly twice.\n",
    "        \n",
    "        :type nums: List[int]\n",
    "        :rtype: int\n",
    "        \"\"\"\n",
    "        return reduce(lambda x, y: x ^ y, nums)"
   ]
  },
  {
   "cell_type": "markdown",
   "metadata": {},
   "source": [
    "### The reduce(fun,seq) function is used to apply a particular function passed in its argument to all of the list elements mentioned in the sequence passed along.This function is defined in “functools” module."
   ]
  },
  {
   "cell_type": "code",
   "execution_count": null,
   "metadata": {},
   "outputs": [],
   "source": []
  },
  {
   "cell_type": "markdown",
   "metadata": {},
   "source": [
    "# flipping matrix"
   ]
  },
  {
   "cell_type": "code",
   "execution_count": null,
   "metadata": {},
   "outputs": [],
   "source": [
    "import torch\n",
    "torch.arange(1,5).reshape(2,2)\n",
    "sample_input = torch.tensor([[112,42, 83, 119],[56, 125, 56, 49],[15,78,101,43],[62,98,114,108]])\n",
    "sample_input"
   ]
  },
  {
   "cell_type": "code",
   "execution_count": null,
   "metadata": {},
   "outputs": [],
   "source": []
  },
  {
   "cell_type": "code",
   "execution_count": null,
   "metadata": {},
   "outputs": [],
   "source": [
    "# for i in range(len(sample_input)):\n",
    "#     # print(f\"{sample_input[i,:]}: {sum(sample_input[i,:])}  ; {sample_input[:,i]}: {sum(sample_input[:,i])}\")\n",
    "#     print(f\"{sample_input[i,:]}: {torch.max(sample_input[i,:])}  ; {sample_input[:,i]}: {torch.max(sample_input[:,i])}\")\n",
    "    "
   ]
  },
  {
   "cell_type": "code",
   "execution_count": null,
   "metadata": {},
   "outputs": [],
   "source": [
    "\n",
    "sum = 0\n",
    "length = len(sample_input)\n",
    "\n",
    "for r in range(length//2):\n",
    "    for c in range(length//2):\n",
    "\n",
    "        sum+= max(\n",
    "            sample_input[r,c],\n",
    "            sample_input[r, length-1-c],\n",
    "            sample_input[length - 1- r, c ],\n",
    "            sample_input[length - 1 -r , length -1 -c]   \n",
    "            )\n",
    "        print(sample_input[r,c],\"|\",\n",
    "            sample_input[r, length-1-c],\"\\n\",\n",
    "            sample_input[length - 1- r, c ],\"|\",\n",
    "            sample_input[length - 1 -r , length -1 -c],\"\\t\", sum,\"\\n\",\n",
    "            )\n",
    "print(sum)"
   ]
  },
  {
   "cell_type": "code",
   "execution_count": null,
   "metadata": {},
   "outputs": [],
   "source": []
  },
  {
   "cell_type": "markdown",
   "metadata": {},
   "source": [
    "To maximize the sum of the `n x n` top-left quadrant of a `2n x 2n` matrix, we need to carefully consider each element `(i, j)` in this quadrant. For each such element, you can potentially place any one of four elements into this position by flipping rows and/or columns. \n",
    "\n",
    "### Step-by-Step Explanation:\n",
    "\n",
    "For each position `(i, j)` in the top-left `n x n` submatrix, the four potential candidates are:\n",
    "1. **Top-left element**: The element at `(i, j)` itself.\n",
    "2. **Top-right element**: The element at `(i, 2n-1-j)`. This element is found by flipping the column that contains `(i, j)`.\n",
    "3. **Bottom-left element**: The element at `(2n-1-i, j)`. This element is found by flipping the row that contains `(i, j)`.\n",
    "4. **Bottom-right element**: The element at `(2n-1-i, 2n-1-j)`. This element is found by flipping both the row and column that contain `(i, j)`.\n",
    "\n",
    "![alt text](flipping_matrix.png)\n",
    "\n",
    "\n",
    "\n",
    "\n",
    "\n",
    "### Example Matrix\n",
    "Let's take a `4x4` matrix (for `n=2`) as an example:\n",
    "```plaintext\n",
    "Matrix:\n",
    "112  42  83 119\n",
    " 56 125  56  49\n",
    " 15  78 101  43\n",
    " 62  98 114 108\n",
    "```\n",
    "\n",
    "### Analyze Each Position in the Top-Left `2x2` Submatrix:\n",
    "\n",
    "#### Position (0, 0)\n",
    "- Candidates:\n",
    "  1. Top-left: `matrix[0][0] = 112`\n",
    "  2. Top-right: `matrix[0][3] = 119`\n",
    "  3. Bottom-left: `matrix[3][0] = 62`\n",
    "  4. Bottom-right: `matrix[3][3] = 108`\n",
    "- **Maximum Value**: `max(112, 119, 62, 108) = 119`\n",
    "\n",
    "#### Position (0, 1)\n",
    "- Candidates:\n",
    "  1. Top-left: `matrix[0][1] = 42`\n",
    "  2. Top-right: `matrix[0][2] = 83`\n",
    "  3. Bottom-left: `matrix[3][1] = 98`\n",
    "  4. Bottom-right: `matrix[3][2] = 114`\n",
    "- **Maximum Value**: `max(42, 83, 98, 114) = 114`\n",
    "\n",
    "#### Position (1, 0)\n",
    "- Candidates:\n",
    "  1. Top-left: `matrix[1][0] = 56`\n",
    "  2. Top-right: `matrix[1][3] = 49`\n",
    "  3. Bottom-left: `matrix[2][0] = 15`\n",
    "  4. Bottom-right: `matrix[2][3] = 43`\n",
    "- **Maximum Value**: `max(56, 49, 15, 43) = 56`\n",
    "\n",
    "#### Position (1, 1)\n",
    "- Candidates:\n",
    "  1. Top-left: `matrix[1][1] = 125`\n",
    "  2. Top-right: `matrix[1][2] = 56`\n",
    "  3. Bottom-left: `matrix[2][1] = 78`\n",
    "  4. Bottom-right: `matrix[2][2] = 101`\n",
    "- **Maximum Value**: `max(125, 56, 78, 101) = 125`\n",
    "\n",
    "### Resulting Maximum Top-Left Quadrant\n",
    "- The top-left quadrant after choosing the maximum possible values:\n",
    "```plaintext\n",
    "119  114\n",
    " 56  125\n",
    "```\n",
    "\n",
    "### Final Sum\n",
    "- The sum of this quadrant is `119 + 114 + 56 + 125 = 414`.\n",
    "\n",
    "This approach ensures that the sum of the elements in the top-left quadrant of the matrix is maximized after any number of flips."
   ]
  },
  {
   "cell_type": "code",
   "execution_count": null,
   "metadata": {},
   "outputs": [],
   "source": []
  },
  {
   "cell_type": "code",
   "execution_count": null,
   "metadata": {},
   "outputs": [],
   "source": [
    "torch.arange(1,36+1).reshape(6,6)\n"
   ]
  },
  {
   "cell_type": "code",
   "execution_count": null,
   "metadata": {},
   "outputs": [],
   "source": [
    "import torch\n",
    "sample_input = torch.arange(1,36+1).reshape(6,6)\n",
    "# sample_input = torch.tensor([[1,2, 3, 119,2,4],[56, 125, 56, 49],[15,78,101,43],[62,98,114,108]])\n",
    "print(sample_input)\n",
    "\n",
    "sum = 0\n",
    "length = len(sample_input)\n",
    "\n",
    "for r in range(length//2):\n",
    "    for c in range(length//2):\n",
    "\n",
    "        sum+= max(\n",
    "            sample_input[r,c],\n",
    "            sample_input[r, length-1-c],\n",
    "            sample_input[length - 1- r, c ],\n",
    "            sample_input[length - 1 -r , length -1 -c]   \n",
    "            )\n",
    "        print(sample_input[r,c],\"|\",\n",
    "            sample_input[r, length-1-c],\"\\n\",\n",
    "            sample_input[length - 1- r, c ],\"|\",\n",
    "            sample_input[length - 1 -r , length -1 -c],\"\\t\", sum,\"\\n\",\n",
    "            )\n",
    "print(sum)"
   ]
  },
  {
   "cell_type": "code",
   "execution_count": null,
   "metadata": {},
   "outputs": [],
   "source": []
  },
  {
   "cell_type": "code",
   "execution_count": null,
   "metadata": {},
   "outputs": [],
   "source": []
  },
  {
   "cell_type": "code",
   "execution_count": null,
   "metadata": {},
   "outputs": [],
   "source": [
    "# sample_output = torch.tensor([[4,2],[1,3]])\n",
    "# sample_output"
   ]
  },
  {
   "cell_type": "markdown",
   "metadata": {},
   "source": []
  },
  {
   "cell_type": "code",
   "execution_count": null,
   "metadata": {},
   "outputs": [],
   "source": []
  },
  {
   "cell_type": "code",
   "execution_count": null,
   "metadata": {},
   "outputs": [],
   "source": []
  },
  {
   "cell_type": "code",
   "execution_count": null,
   "metadata": {},
   "outputs": [],
   "source": []
  },
  {
   "cell_type": "code",
   "execution_count": null,
   "metadata": {},
   "outputs": [],
   "source": []
  },
  {
   "cell_type": "code",
   "execution_count": null,
   "metadata": {},
   "outputs": [],
   "source": []
  },
  {
   "cell_type": "code",
   "execution_count": null,
   "metadata": {},
   "outputs": [],
   "source": []
  },
  {
   "cell_type": "code",
   "execution_count": null,
   "metadata": {},
   "outputs": [],
   "source": []
  },
  {
   "cell_type": "markdown",
   "metadata": {},
   "source": [
    "# Zig-Zag sequence"
   ]
  },
  {
   "cell_type": "code",
   "execution_count": null,
   "metadata": {},
   "outputs": [],
   "source": [
    "input = [2, 3, 5, 1, 4]\n",
    "\n",
    "\n",
    "target = [1, 4, 5, 3, 2]\n",
    "input,target"
   ]
  },
  {
   "cell_type": "code",
   "execution_count": null,
   "metadata": {},
   "outputs": [],
   "source": [
    "def findZigZagSequence(a, n):\n",
    "    \n",
    "    a.sort()\n",
    "    print(f\"list:{a}, n: {n}\")\n",
    "    \n",
    "    mid = int((n + 1)/2)\n",
    "    print(f\"mid: {mid}\")\n",
    "    print(f\"before\\ta[mid]: {a[mid]}, a[n-1]]: {a[n-1]} | list:{a}\")\n",
    "    \n",
    "    a[mid], a[n-1] = a[n-1], a[mid]\n",
    "    print(f\"swapped\\ta[mid]: {a[mid]}, a[n-1]]: {a[n-1]} | list:{a}\")\n",
    "\n",
    "\n",
    "    st = mid + 1\n",
    "    ed = n - 1\n",
    "    while(st <= ed):\n",
    "        a[st], a[ed] = a[ed], a[st]\n",
    "        st = st + 1\n",
    "        ed = ed + 1\n",
    "\n",
    "    for i in range (n):\n",
    "        if i == n-1:\n",
    "            print(a[i])\n",
    "        else:\n",
    "            print(a[i], end = ' ')\n",
    "    return\n",
    "findZigZagSequence(input, len(input))"
   ]
  },
  {
   "cell_type": "code",
   "execution_count": null,
   "metadata": {},
   "outputs": [],
   "source": [
    "n=5\n",
    "int((n + 1)/2),(n+1)//2 "
   ]
  },
  {
   "cell_type": "code",
   "execution_count": null,
   "metadata": {},
   "outputs": [],
   "source": []
  },
  {
   "cell_type": "code",
   "execution_count": null,
   "metadata": {},
   "outputs": [],
   "source": [
    "\n",
    "\n"
   ]
  },
  {
   "cell_type": "code",
   "execution_count": null,
   "metadata": {},
   "outputs": [],
   "source": [
    "\n",
    "# Initialize the input list and sort it\n",
    "input = [9, 8, 7, 6, 2, 3, 5, 1, 4]\n",
    "a = sorted(input)  # Sort the list\n",
    "n = len(a)\n",
    "\n",
    "# Find the midpoint\n",
    "mid = n // 2\n",
    "print(f\"Sorted list:\\033[1m {a}\\033[0m, n: \\033[1m{n}\\033[0m, mid: \\033[1m{mid}\\033[0m\")\n",
    "\n",
    "# Initialize the range for swapping\n",
    "initial = mid + 1\n",
    "end = n - 1\n",
    "print(f\"To be swapped: {a[initial:end + 1]}\")\n",
    "\n",
    "# Perform the swapping\n",
    "while initial < end:\n",
    "    a[initial], a[end] = a[end], a[initial]\n",
    "    print(f\"\\tafter swapping: {a[mid + 1:end + 1]}\")\n",
    "    print(f\"\\tinitial: {initial}; end: {end}\")\n",
    "    initial += 1\n",
    "    end -= 1\n",
    "\n",
    "# Print the final result\n",
    "print(f\"Final list: {a}\")\n"
   ]
  },
  {
   "cell_type": "code",
   "execution_count": null,
   "metadata": {},
   "outputs": [],
   "source": [
    "# print(\"\\033[1m\" + \"This text will be bold\" + \"\\033[0m\")"
   ]
  },
  {
   "cell_type": "code",
   "execution_count": null,
   "metadata": {},
   "outputs": [],
   "source": [
    "def findZigZagSequence(a, n):\n",
    "    a.sort()  # Sort the array\n",
    "    mid = n // 2  # Find the midpoint\n",
    "    \n",
    "    # Reverse the second half of the array to ensure decreasing order\n",
    "    a[mid+1:] = reversed(a[mid+1:])\n",
    "    \n",
    "    # Print the result\n",
    "    for i in range(n):\n",
    "        if i == n - 1:\n",
    "            print(a[i])\n",
    "        else:\n",
    "            print(a[i], end=' ')\n",
    "    return\n",
    "\n",
    "# Read number of test cases\n",
    "test_cases = int(input())\n",
    "for _ in range(test_cases):\n",
    "    n = int(input())\n",
    "    a = list(map(int, input().split()))\n",
    "    findZigZagSequence(a, n)\n"
   ]
  },
  {
   "cell_type": "code",
   "execution_count": null,
   "metadata": {},
   "outputs": [],
   "source": []
  },
  {
   "cell_type": "code",
   "execution_count": null,
   "metadata": {},
   "outputs": [],
   "source": []
  },
  {
   "cell_type": "code",
   "execution_count": null,
   "metadata": {},
   "outputs": [],
   "source": []
  },
  {
   "cell_type": "code",
   "execution_count": null,
   "metadata": {},
   "outputs": [],
   "source": []
  },
  {
   "cell_type": "code",
   "execution_count": null,
   "metadata": {},
   "outputs": [],
   "source": []
  },
  {
   "cell_type": "markdown",
   "metadata": {},
   "source": [
    "# Picking numbers\n",
    "Given an array of integers, find the longest subarray where the absolute difference between any two elements is less than or equal to . "
   ]
  },
  {
   "cell_type": "code",
   "execution_count": null,
   "metadata": {},
   "outputs": [],
   "source": [
    "a= [1,1,2,2,4,4,5,5,5]\n",
    "\n",
    "print(a)\n",
    "freq = [0] * 101  # Since the problem constraints say the elements are between 0 and 100\n",
    "\n",
    "for i in range(len(a)):\n",
    "    freq[a[i]]+=1\n",
    "print(freq)"
   ]
  },
  {
   "cell_type": "code",
   "execution_count": null,
   "metadata": {},
   "outputs": [],
   "source": [
    "max_len = 0\n",
    "\n",
    "for i in range(0, len(freq)-1):\n",
    "    max_len = max(max_len, freq[i]+freq[i+1])\n",
    "print(max_len)"
   ]
  },
  {
   "cell_type": "code",
   "execution_count": null,
   "metadata": {},
   "outputs": [],
   "source": []
  },
  {
   "cell_type": "markdown",
   "metadata": {},
   "source": [
    "#### list comprehensions are typically used for creating lists rather than mutating them"
   ]
  },
  {
   "cell_type": "code",
   "execution_count": null,
   "metadata": {},
   "outputs": [],
   "source": []
  },
  {
   "cell_type": "markdown",
   "metadata": {},
   "source": [
    "# 1144. Decrease Elements To Make Array Zigzag\n",
    "Given an array nums of integers, a move consists of choosing any element and decreasing it by 1.\n",
    "\n",
    "An array A is a zigzag array if either:\n",
    "\n",
    "    1. Every even-indexed element is greater than adjacent elements, ie. A[0] > A[1] < A[2] > A[3] < A[4] > ...\n",
    "    OR, every odd-indexed element is greater than adjacent elements, ie. A[0] < A[1] > A[2] < A[3] > A[4] < ...\n",
    "\n",
    "Return the minimum number of moves to transform the given array nums into a zigzag array."
   ]
  },
  {
   "cell_type": "code",
   "execution_count": null,
   "metadata": {},
   "outputs": [],
   "source": [
    "nums = [9,6,1,6,2]\n",
    "nums"
   ]
  },
  {
   "cell_type": "code",
   "execution_count": null,
   "metadata": {},
   "outputs": [],
   "source": [
    "nums = [9,6,1,6,2]\n",
    "\n",
    "# def evenOrOdd(nums):\n",
    "count = 0\n",
    "# [0] is lower\n",
    "for i in range(0, len(nums)):\n",
    "    if i%2 == 0:\n",
    "        if nums [i] > nums[i+1]:\n",
    "            #nums[i+1]-=1\n",
    "            count+=1\n",
    "print(count)\n",
    "\n",
    "\n",
    "\n",
    "print(nums)"
   ]
  },
  {
   "cell_type": "code",
   "execution_count": null,
   "metadata": {},
   "outputs": [],
   "source": [
    "ar = [4,3,7,8,2,6, 1]\n",
    "# inout format:{a, b, c, d, e, f ,g}\n",
    "# resultant format:{a < b > c < d > e < f > g}\n",
    "\n",
    "# resultant_ar =[ 3 < 7 > 4 < 8 > 2 < 6 > 1] \n",
    "# # all even-indexed elements are greater than their neighboring elements\n",
    "# so we sould be traversing even number(odd indexes) and make sue neighbiuring elements are smaller\n",
    "# if i is not greater than i-1 or i+1, swap them\n",
    "\n",
    "resultant_ar =[ 3 , 7 , 4 , 8 , 2 , 6 , 1]\n",
    "ar, resultant_ar"
   ]
  },
  {
   "cell_type": "code",
   "execution_count": null,
   "metadata": {},
   "outputs": [],
   "source": []
  },
  {
   "cell_type": "code",
   "execution_count": null,
   "metadata": {},
   "outputs": [],
   "source": []
  },
  {
   "cell_type": "code",
   "execution_count": null,
   "metadata": {},
   "outputs": [],
   "source": []
  },
  {
   "cell_type": "code",
   "execution_count": null,
   "metadata": {},
   "outputs": [],
   "source": [
    "ar = [11,3,7,8,2,6,1]; print(ar)\n",
    "\n",
    "\n",
    "# odd -indexed\n",
    "for i in range(1, len(ar), 2):\n",
    "    difference = 0\n",
    "    if i > 0 and ar[i] < ar[i-1]: # left\n",
    "        # difference += (ar[i] - ar[i-1])  \n",
    "\n",
    "        print(\"\\t\", ar[i], \" is greater than \", ar[i-1], \"; difference: \", difference)\n",
    "        ar[i], ar[i-1] = ar[i-1], ar[i]\n",
    "        print(ar)\n",
    "    #     # break;\n",
    "\n",
    "    if i< len(ar) -1 and ar[i] < ar[i+1]:   \n",
    "        print(\"\\t\", ar[i], \" is greater than \", ar[i+1], \"; difference: \", difference)\n",
    "        ar[i] , ar[i+1] = ar[i+1], ar[i]\n",
    "    \n",
    "\n",
    "    print(ar)\n",
    "# print(difference)\n",
    "\n",
    "\n",
    "        \n",
    "\n"
   ]
  },
  {
   "cell_type": "code",
   "execution_count": null,
   "metadata": {},
   "outputs": [],
   "source": []
  },
  {
   "cell_type": "code",
   "execution_count": null,
   "metadata": {},
   "outputs": [],
   "source": []
  },
  {
   "cell_type": "code",
   "execution_count": null,
   "metadata": {},
   "outputs": [],
   "source": []
  },
  {
   "cell_type": "code",
   "execution_count": null,
   "metadata": {},
   "outputs": [],
   "source": []
  },
  {
   "cell_type": "code",
   "execution_count": null,
   "metadata": {},
   "outputs": [],
   "source": [
    "\n",
    "\n"
   ]
  },
  {
   "cell_type": "code",
   "execution_count": null,
   "metadata": {},
   "outputs": [],
   "source": []
  },
  {
   "cell_type": "code",
   "execution_count": null,
   "metadata": {},
   "outputs": [],
   "source": []
  },
  {
   "cell_type": "code",
   "execution_count": null,
   "metadata": {},
   "outputs": [],
   "source": []
  },
  {
   "cell_type": "code",
   "execution_count": 64,
   "metadata": {},
   "outputs": [],
   "source": [
    "assert ar == resultant_ar,\" not same\""
   ]
  },
  {
   "cell_type": "code",
   "execution_count": 1,
   "metadata": {},
   "outputs": [],
   "source": [
    "\n",
    "i  = [ 1,1,2]\n",
    "# assert i == resultant_ar,\"note same\""
   ]
  },
  {
   "cell_type": "code",
   "execution_count": null,
   "metadata": {},
   "outputs": [],
   "source": [
    "def moves_to_make_zigzag(nums):\n",
    "    n = len(nums)\n",
    "    \n",
    "    def count_moves(start):\n",
    "        moves = 0\n",
    "        for i in range(start, n, 2):\n",
    "            left = nums[i-1] if i > 0 else float('inf')\n",
    "            right = nums[i+1] if i < n-1 else float('inf')\n",
    "            if nums[i] >= min(left, right):\n",
    "                moves += nums[i] - min(left, right) + 1\n",
    "        return moves\n",
    "    \n",
    "    return min(count_moves(0), count_moves(1))\n",
    "\n",
    "# Example usage:\n",
    "nums1 = [1, 2, 3]\n",
    "nums2 = [9, 6, 1, 6, 2]\n",
    "\n",
    "print(moves_to_make_zigzag(nums1))  # Output: 2\n",
    "print(moves_to_make_zigzag(nums2))  # Output: 4\n"
   ]
  },
  {
   "cell_type": "code",
   "execution_count": null,
   "metadata": {},
   "outputs": [],
   "source": []
  },
  {
   "cell_type": "code",
   "execution_count": null,
   "metadata": {},
   "outputs": [],
   "source": []
  },
  {
   "cell_type": "code",
   "execution_count": null,
   "metadata": {},
   "outputs": [],
   "source": []
  },
  {
   "cell_type": "code",
   "execution_count": null,
   "metadata": {},
   "outputs": [],
   "source": [
    "\n",
    "\n",
    "\n",
    "# wokring code odd-oven zagg\n",
    "ar = [11,3,7,8,2,6,1]; print(ar)\n",
    "\n",
    "for start in range(2):\n",
    "    \n",
    "    # odd -indexed\n",
    "    for i in range(start, len(ar), 2):\n",
    "        difference = 0\n",
    "        if i > 0 and ar[i] < ar[i-1]: # left\n",
    "            # difference += (ar[i] - ar[i-1])  \n",
    "\n",
    "            # print(\"\\t\", ar[i], \" is greater than \", ar[i-1], \"; difference: \", difference)\n",
    "            ar[i], ar[i-1] = ar[i-1], ar[i]\n",
    "            # print(ar)\n",
    "        #     # break;\n",
    "\n",
    "        if i< len(ar) -1 and ar[i] < ar[i+1]:   \n",
    "            # print(\"\\t\", ar[i], \" is greater than \", ar[i+1], \"; difference: \", difference)\n",
    "            ar[i] , ar[i+1] = ar[i+1], ar[i]\n",
    "        \n",
    "\n",
    "    print(ar)\n",
    "    # print(difference)\n",
    "\n",
    "\n",
    "        \n",
    "\n"
   ]
  },
  {
   "cell_type": "code",
   "execution_count": null,
   "metadata": {},
   "outputs": [],
   "source": [
    "\n",
    "# wokring code odd-oven zagg = difference = difference\n",
    "ar = [11,3,7,8,2,6,1]; print(ar)\n",
    "\n",
    "moves_required = [0] *2\n",
    "print(moves_required)\n",
    "for start in range(2):\n",
    "    \n",
    "    # odd -indexed\n",
    "    for i in range(start, len(ar), 2):\n",
    "        difference = 0\n",
    "        if i > 0 and ar[i] < ar[i-1]: # left\n",
    "            # difference += (ar[i] - ar[i-1])  \n",
    "\n",
    "            # print(\"\\t\", ar[i], \" is greater than \", ar[i-1], \"; difference: \", difference)\n",
    "            ar[i], ar[i-1] = ar[i-1], ar[i]\n",
    "            # print(ar)\n",
    "        #     # break;\n",
    "\n",
    "        if i< len(ar) -1 and ar[i] < ar[i+1]:   \n",
    "            # print(\"\\t\", ar[i], \" is greater than \", ar[i+1], \"; difference: \", difference)\n",
    "            ar[i] , ar[i+1] = ar[i+1], ar[i]\n",
    "        \n",
    "    moves_required[start] = difference\n",
    "        \n",
    "\n",
    "    print(ar)\n",
    "    # print(difference)\n"
   ]
  },
  {
   "cell_type": "code",
   "execution_count": null,
   "metadata": {},
   "outputs": [],
   "source": []
  },
  {
   "cell_type": "code",
   "execution_count": null,
   "metadata": {},
   "outputs": [],
   "source": [
    "ar = [11, 3, 7, 8, 2, 6, 1]\n",
    "ar = [1,2,3]\n",
    "print(\"Original array:\", ar)\n",
    "\n",
    "moves_required = [0, 0]\n",
    "\n",
    "for start in range(2):\n",
    "    temp_ar = ar[:]  # Copy the original array to apply changes for each scenario\n",
    "    for i in range(start, len(temp_ar), 2):\n",
    "        difference = 0\n",
    "        \n",
    "        # Compare with the left neighbor\n",
    "        if i > 0 and temp_ar[i] >= temp_ar[i - 1]:\n",
    "            difference = temp_ar[i] - temp_ar[i - 1] + 1\n",
    "            moves_required[start] += difference\n",
    "            temp_ar[i] -= difference  # Decrease the current element\n",
    "        \n",
    "        # Compare with the right neighbor\n",
    "        if i < len(temp_ar) - 1 and temp_ar[i] >= temp_ar[i + 1]:\n",
    "            difference = temp_ar[i] - temp_ar[i + 1] + 1\n",
    "            moves_required[start] += difference\n",
    "            temp_ar[i] -= difference  # Decrease the current element\n",
    "    \n",
    "    print(f\"Array after processing scenario {start}: {temp_ar}\")\n",
    "    print(f\"Moves required for scenario {start}: {moves_required[start]}\")\n",
    "\n",
    "# Output the minimum number of moves required between the two scenarios\n",
    "min_moves = min(moves_required)\n",
    "print(\"Minimum moves required to make the array zigzag:\", min_moves)\n"
   ]
  },
  {
   "cell_type": "code",
   "execution_count": null,
   "metadata": {},
   "outputs": [],
   "source": []
  },
  {
   "cell_type": "code",
   "execution_count": 39,
   "metadata": {},
   "outputs": [],
   "source": [
    "class Solution(object):\n",
    "    def movesToMakeZigzag(self, nums):\n",
    "        print(\"Original array:\", nums)\n",
    "\n",
    "        moves_required = [0, 0]\n",
    "\n",
    "        for start in range(2):\n",
    "            for i in range(start, len(nums), 2):\n",
    "                difference = 0\n",
    "                \n",
    "                # Compare with the left neighbor\n",
    "                if i > 0 and nums[i] <= nums[i - 1]:\n",
    "                    difference = nums[i - 1] - nums[i] + 1\n",
    "                    moves_required[start] += difference\n",
    "                \n",
    "                # Compare with the right neighbor\n",
    "                if i < len(nums) - 1 and nums[i] <= nums[i + 1]:\n",
    "                    difference = nums[i + 1] - nums[i] + 1\n",
    "                    moves_required[start] += difference\n",
    "            \n",
    "        # Output the minimum number of moves required between the two scenarios\n",
    "        min_moves = min(moves_required)\n",
    "        print(\"Minimum moves required to make the array zigzag:\", min_moves)\n",
    "        return min_moves\n",
    "\n"
   ]
  },
  {
   "cell_type": "code",
   "execution_count": null,
   "metadata": {},
   "outputs": [],
   "source": []
  },
  {
   "cell_type": "code",
   "execution_count": null,
   "metadata": {},
   "outputs": [],
   "source": [
    "def movesToMakeZigzag( nums):\n",
    "    def calculate_moves(nums, start):\n",
    "        moves = 0\n",
    "        n = len(nums)\n",
    "        \n",
    "        for i in range(start, n, 2):\n",
    "            # For the current element, check if it's smaller or equal to the previous element\n",
    "            if i > 0 and nums[i] <= nums[i - 1]:\n",
    "                moves += (nums[i - 1] - nums[i] + 1)\n",
    "            \n",
    "            # For the current element, check if it's smaller or equal to the next element\n",
    "            if i < n - 1 and nums[i] <= nums[i + 1]:\n",
    "                moves += (nums[i + 1] - nums[i] + 1)\n",
    "            \n",
    "        return moves\n",
    "\n",
    "    # Calculate the moves required for both scenarios\n",
    "    moves_even_start = calculate_moves(nums, 0)\n",
    "    moves_odd_start = calculate_moves(nums, 1)\n",
    "    \n",
    "    # Return the minimum of the two scenarios\n",
    "    return min(moves_even_start, moves_odd_start)\n",
    "ar = [2,7,10,9,8,9]\n",
    "print(ar)\n",
    "\n",
    "movesToMakeZigzag(ar)\n"
   ]
  },
  {
   "cell_type": "code",
   "execution_count": null,
   "metadata": {},
   "outputs": [],
   "source": [
    "def movesToMakeZigzag(nums):\n",
    "    def calculate_moves(nums, start):\n",
    "        moves = 0\n",
    "        n = len(nums)\n",
    "        \n",
    "        for i in range(start, n, 2):\n",
    "            left_diff = 0\n",
    "            right_diff = 0\n",
    "            \n",
    "            # Check if the current element is greater than the previous element\n",
    "            if i > 0:\n",
    "                left_diff = max(0, nums[i] - nums[i - 1] + 1)\n",
    "            \n",
    "            # Check if the current element is greater than the next element\n",
    "            if i < n - 1:\n",
    "                right_diff = max(0, nums[i] - nums[i + 1] + 1)\n",
    "            \n",
    "            # The number of moves required is the maximum of the two differences\n",
    "            moves += max(left_diff, right_diff)\n",
    "        \n",
    "        return moves\n",
    "\n",
    "    # Calculate the moves required for both scenarios\n",
    "    moves_even_start = calculate_moves(nums, 0)\n",
    "    moves_odd_start = calculate_moves(nums, 1)\n",
    "    \n",
    "    # Return the minimum of the two scenarios\n",
    "    return min(moves_even_start, moves_odd_start)\n",
    "\n",
    "# Test the function\n",
    "ar = [2, 7, 10, 9, 8, 9]\n",
    "movesToMakeZigzag(ar)  # Output should be 4\n"
   ]
  },
  {
   "cell_type": "code",
   "execution_count": null,
   "metadata": {},
   "outputs": [],
   "source": [
    "# optimized \n",
    "\n",
    "def movesToMakeZigzag(nums):\n",
    "    def calculate_moves(start):\n",
    "        moves = 0\n",
    "        n = len(nums)\n",
    "        \n",
    "        for i in range(start, n, 2):\n",
    "            left_diff = right_diff = 0\n",
    "            \n",
    "            if i > 0:\n",
    "                left_diff = max(0, nums[i] - nums[i - 1] + 1)\n",
    "            \n",
    "            if i < n - 1:\n",
    "                right_diff = max(0, nums[i] - nums[i + 1] + 1)\n",
    "            \n",
    "            moves += max(left_diff, right_diff)\n",
    "        \n",
    "        return moves\n",
    "\n",
    "    return min(calculate_moves(0), calculate_moves(1))\n",
    "\n",
    "# Test the function\n",
    "ar = [2, 7, 10, 9, 8, 9]\n",
    "print(movesToMakeZigzag(ar))  # Output should be 4\n"
   ]
  },
  {
   "cell_type": "code",
   "execution_count": null,
   "metadata": {},
   "outputs": [],
   "source": []
  },
  {
   "cell_type": "code",
   "execution_count": null,
   "metadata": {},
   "outputs": [],
   "source": []
  },
  {
   "cell_type": "code",
   "execution_count": null,
   "metadata": {},
   "outputs": [],
   "source": []
  },
  {
   "cell_type": "code",
   "execution_count": null,
   "metadata": {},
   "outputs": [],
   "source": []
  },
  {
   "cell_type": "code",
   "execution_count": null,
   "metadata": {},
   "outputs": [],
   "source": []
  },
  {
   "cell_type": "code",
   "execution_count": null,
   "metadata": {},
   "outputs": [],
   "source": []
  },
  {
   "cell_type": "code",
   "execution_count": null,
   "metadata": {},
   "outputs": [],
   "source": []
  },
  {
   "cell_type": "markdown",
   "metadata": {},
   "source": []
  },
  {
   "cell_type": "markdown",
   "metadata": {},
   "source": [
    "# left rotation\n",
    "\n",
    "A left rotation operation on an array of size shifts each of the array's elements unit to the left. Given an integer, , rotate the array that many steps left and return the result. "
   ]
  },
  {
   "cell_type": "code",
   "execution_count": null,
   "metadata": {},
   "outputs": [],
   "source": [
    "d=2; arr= [ 3,4,5,1,2]\n",
    "arr,d"
   ]
  },
  {
   "cell_type": "code",
   "execution_count": null,
   "metadata": {},
   "outputs": [],
   "source": [
    "id=2; arr= [ 3,4,5,1,2]\n",
    "arr,d\n",
    "\n",
    "print(arr)\n",
    "n = len(arr)\n",
    "for i in range(n):\n",
    "    j = ((i+d)%(n))\n",
    "    print(f\"{i=}, i+d: {i+d}, {j=}\")\n",
    "    # if i+d <len(arr):\n",
    "        # print(arr[i], arr[i+d])\n",
    "        # pass\n",
    "    arr[i], arr[j] = arr[j], arr[i]\n",
    "print(arr)\n"
   ]
  },
  {
   "cell_type": "code",
   "execution_count": null,
   "metadata": {},
   "outputs": [],
   "source": [
    "d=4; arr= [ 1, 2, 3, 4, 5]\n",
    "arr,d\n",
    "\n",
    "print(arr)\n",
    "n = len(arr)\n",
    "temp = [0]* n \n",
    "print(f\"{temp=}\")\n",
    "for i in range(n):\n",
    "    j = abs((i-d)%(n))\n",
    "    # print(f\"{i=}, i+d: {i+d}, {j=}\")\n",
    "    # if i+d <len(arr):\n",
    "        # print(arr[i], arr[i+d])\n",
    "        # pass\n",
    "    temp[j] = arr[i]\n",
    "print(temp)"
   ]
  },
  {
   "cell_type": "code",
   "execution_count": null,
   "metadata": {},
   "outputs": [],
   "source": []
  },
  {
   "cell_type": "code",
   "execution_count": null,
   "metadata": {},
   "outputs": [],
   "source": [
    "def rotate_array(arr, d):\n",
    "    n = len(arr)\n",
    "    d = d % n  # Ensure d is within the bounds of the array size\n",
    "    rotated_arr = arr[d:] + arr[:d]\n",
    "    return rotated_arr\n",
    "\n",
    "# Test\n",
    "arr = [3, 4, 5, 1, 2]\n",
    "d = 2\n",
    "print(\"Original array:\", arr)\n",
    "rotated_arr = rotate_array(arr, d)\n",
    "print(\"Rotated array:\", rotated_arr)\n"
   ]
  },
  {
   "cell_type": "code",
   "execution_count": null,
   "metadata": {},
   "outputs": [],
   "source": []
  },
  {
   "cell_type": "code",
   "execution_count": null,
   "metadata": {},
   "outputs": [],
   "source": []
  },
  {
   "cell_type": "markdown",
   "metadata": {},
   "source": [
    "# Closest Numbers\n",
    "Sorting is useful as the first step in many different tasks. The most common task is to make finding things easier, but there are other uses as well. In this case, it will make it easier to determine which pair or pairs of elements have the smallest absolute difference between them."
   ]
  },
  {
   "cell_type": "code",
   "execution_count": null,
   "metadata": {},
   "outputs": [],
   "source": [
    "arr= [5,4,3,2]    \n",
    "arr= sorted(arr)\n",
    "arr"
   ]
  },
  {
   "cell_type": "code",
   "execution_count": null,
   "metadata": {},
   "outputs": [],
   "source": [
    "temp={}\n",
    "for i in range(len(arr)-1):\n",
    "    diff = arr[i+1]-arr[i]\n",
    "    print(f\"{arr[i]=};  {arr[i+1]=}; {diff=}\")\n",
    "    \n",
    "    if diff in temp:\n",
    "        temp[diff].extend([arr[i], arr[i+1]])\n",
    "    else:\n",
    "        temp[diff] = [arr[i], arr[i+1]]\n",
    "print(temp)"
   ]
  },
  {
   "cell_type": "code",
   "execution_count": null,
   "metadata": {},
   "outputs": [],
   "source": [
    "temps={}\n",
    "temps.get(\"x\", 3)\n",
    "temps"
   ]
  },
  {
   "cell_type": "code",
   "execution_count": null,
   "metadata": {},
   "outputs": [],
   "source": []
  },
  {
   "cell_type": "code",
   "execution_count": null,
   "metadata": {},
   "outputs": [],
   "source": [
    "from collections import defaultdict\n",
    "\n",
    "# Initialize the defaultdict with a list as the default factory\n",
    "temp = defaultdict(list)\n",
    "\n",
    "arr = [3, 4, 5, 1, 2]\n",
    "\n",
    "# Iterate through the array to calculate differences and populate the dictionary\n",
    "for i in range(len(arr) - 1):\n",
    "    diff = arr[i + 1] - arr[i]\n",
    "    print(f\"{arr[i]=}; {arr[i+1]=}; {diff=}\")\n",
    "\n",
    "    # Use defaultdict to handle initialization and updates automatically\n",
    "    temp[diff].extend([arr[i], arr[i + 1]])\n",
    "\n",
    "print(temp)"
   ]
  },
  {
   "cell_type": "code",
   "execution_count": null,
   "metadata": {},
   "outputs": [],
   "source": []
  },
  {
   "cell_type": "code",
   "execution_count": null,
   "metadata": {},
   "outputs": [],
   "source": []
  },
  {
   "cell_type": "code",
   "execution_count": null,
   "metadata": {},
   "outputs": [],
   "source": [
    "# Initialize an empty dictionary\n",
    "temp = {}\n",
    "\n",
    "arr = [5,4,3,2]\n",
    "arr = sorted(arr)\n",
    "# Iterate through the array to calculate differences and populate the dictionary\n",
    "for i in range(len(arr) - 1):\n",
    "    diff = arr[i + 1] - arr[i]\n",
    "    print(f\"{arr[i]=}; {arr[i+1]=}; {diff=}\")\n",
    "    \n",
    "    # Use dict.get() to initialize the list if the key doesn't exist\n",
    "    if diff not in temp:\n",
    "        temp[diff] = []\n",
    "    temp[diff].extend([arr[i], arr[i + 1]])\n",
    "\n",
    "result = sorted(temp.items(), key=lambda x: x[0])[0][1]\n",
    "\n",
    "result"
   ]
  },
  {
   "cell_type": "code",
   "execution_count": null,
   "metadata": {},
   "outputs": [],
   "source": []
  },
  {
   "cell_type": "code",
   "execution_count": null,
   "metadata": {},
   "outputs": [],
   "source": []
  },
  {
   "cell_type": "code",
   "execution_count": null,
   "metadata": {},
   "outputs": [],
   "source": [
    "\n",
    "temp = {'e':0,'a': 1, 'b': 2, 'c': 3}\n",
    "sorted(temp), sorted(temp.items(), key=lambda x: x[0])"
   ]
  },
  {
   "cell_type": "code",
   "execution_count": null,
   "metadata": {},
   "outputs": [],
   "source": []
  },
  {
   "cell_type": "code",
   "execution_count": null,
   "metadata": {},
   "outputs": [],
   "source": []
  },
  {
   "cell_type": "code",
   "execution_count": null,
   "metadata": {},
   "outputs": [],
   "source": []
  },
  {
   "cell_type": "code",
   "execution_count": null,
   "metadata": {},
   "outputs": [],
   "source": []
  },
  {
   "cell_type": "code",
   "execution_count": null,
   "metadata": {},
   "outputs": [],
   "source": []
  },
  {
   "cell_type": "markdown",
   "metadata": {},
   "source": [
    "# separate numbers\n",
    "\n",
    "A numeric string, , is beautiful if it can be split into a sequence of two or more positive integers, satisfying the following conditions:\n",
    "\n",
    "for any (i.e., each element in the sequence is\n",
    "more than the previous element).\n",
    "No\n",
    "contains a leading zero. For example, we can split into the sequence , but it is not beautiful because and\n",
    "have leading zeroes.\n",
    "The contents of the sequence cannot be rearranged. For example, we can split\n",
    "into the sequence , but it is not beautiful because it breaks our first constraint (i.e., )."
   ]
  },
  {
   "cell_type": "code",
   "execution_count": null,
   "metadata": {},
   "outputs": [],
   "source": [
    "s=\"91011\"\n",
    "print(s)\n"
   ]
  },
  {
   "cell_type": "code",
   "execution_count": null,
   "metadata": {},
   "outputs": [],
   "source": [
    "temp =\"\"\n",
    "for i in range(len(s),0,  -1):\n",
    "    print(s[i])\n"
   ]
  },
  {
   "cell_type": "code",
   "execution_count": null,
   "metadata": {},
   "outputs": [],
   "source": [
    "s.split('0')"
   ]
  },
  {
   "cell_type": "code",
   "execution_count": null,
   "metadata": {},
   "outputs": [],
   "source": [
    "s=\"91011\"; ls=[]\n",
    "print(s);j=len(s)\n",
    "for i in range(len(s)-1, -1, -1): # halt at -1 so 0 index could be reached\n",
    "    if s[i] != '0':\n",
    "        print(f\"{s[i:j]=} {i=} {j=}\")\n",
    "        ls.append(s[i:j])\n",
    "        j=i\n",
    "    \n",
    "print(ls)\n",
    "ls.reverse()\n",
    "print(ls)"
   ]
  },
  {
   "cell_type": "code",
   "execution_count": null,
   "metadata": {},
   "outputs": [],
   "source": [
    "s=\"99100\"; ls=[]\n",
    "print(s);j=len(s)\n",
    "for i in range(len(s)-1, -1, -1): # halt at -1 so 0 index could be reached\n",
    "    if s[i] != '0':\n",
    "        print(f\"{s[i:j]=} {i=} {j=}\")\n",
    "        print(abs(ls[-1] - int(s[i:j])))\n",
    "        if ls and (abs(ls[-1] - int(s[i:j]))<2): \n",
    "            ls.append(int(s[i:j]))\n",
    "            j=i\n",
    "    \n",
    "print(ls)\n",
    "ls.reverse()\n",
    "print(ls)\n",
    "\n"
   ]
  },
  {
   "cell_type": "code",
   "execution_count": null,
   "metadata": {},
   "outputs": [],
   "source": [
    "s = \"91011\"\n",
    "ls = []\n",
    "\n",
    "print(s)\n",
    "j = len(s)\n",
    "\n",
    "for i in range(len(s)-1, -1, -1): \n",
    "    if s[i] != '0':\n",
    "        current_number = int(s[i:j])\n",
    "        print(f\"{s[i:j]=} {i=} {j=}\")\n",
    "        \n",
    "        if not ls:  # If ls is empty, add the first number\n",
    "            ls.append(current_number)\n",
    "            j = i\n",
    "        elif ls[-1] == current_number + 1:  # Check if the current number is 1 less than the last added number\n",
    "            ls.append(current_number)\n",
    "            j = i\n",
    "\n",
    "print(ls)\n",
    "ls.reverse()  # Reverse the list to get numbers in the original order\n",
    "print(ls)\n"
   ]
  },
  {
   "cell_type": "code",
   "execution_count": null,
   "metadata": {},
   "outputs": [],
   "source": []
  },
  {
   "cell_type": "code",
   "execution_count": null,
   "metadata": {},
   "outputs": [],
   "source": []
  },
  {
   "cell_type": "code",
   "execution_count": null,
   "metadata": {},
   "outputs": [],
   "source": [
    "# new day\n",
    "s= \"1234\"\n",
    "# s=\"8899100\"\n",
    "\n",
    "\n",
    "# appproach is to check if a[0] and a[1] are consecutive; that's why we ony need to traverse half of string\n",
    "print(len(s))\n",
    "i = 0; d=1\n",
    "while(i<len(s)):\n",
    "    first_digit = s[i:i+d]\n",
    "    print(first_digit)\n",
    "\n",
    "    while(i<len(s)):\n",
    "\n",
    "\n",
    "        i+=d\n",
    "    i+=1;\n"
   ]
  },
  {
   "cell_type": "code",
   "execution_count": null,
   "metadata": {},
   "outputs": [],
   "source": [
    "first_digit =int('1')\n",
    "ls = []\n",
    "d = 1\n",
    "i=0\n",
    "\n",
    "while(i < len(\"1234\")):\n",
    "    ls.append(first_digit+i)\n",
    "    i=i+1\n",
    "    print(ls)\n"
   ]
  },
  {
   "cell_type": "code",
   "execution_count": null,
   "metadata": {},
   "outputs": [],
   "source": [
    "s='979899100101'\n",
    "s= \"91011\"\n",
    "d=1\n",
    "first_digit =int(s[0:0+d])\n",
    "ls = []\n",
    "# d = 1\n",
    "i=0\n",
    "\n",
    "while(i < len(s)):\n",
    "    # first_digit+=1\n",
    "    ls.append(str(first_digit))\n",
    "    first_digit+=1\n",
    "    i=i+d\n",
    "    print(ls)\n",
    "    if \"\".join(ls) == s:\n",
    "        print(\"DONE\");break;"
   ]
  },
  {
   "cell_type": "code",
   "execution_count": null,
   "metadata": {},
   "outputs": [],
   "source": [
    "str(int('1')+1)"
   ]
  },
  {
   "cell_type": "code",
   "execution_count": null,
   "metadata": {},
   "outputs": [],
   "source": [
    "\n",
    "\n",
    "\n",
    "\n"
   ]
  },
  {
   "cell_type": "code",
   "execution_count": null,
   "metadata": {},
   "outputs": [],
   "source": []
  },
  {
   "cell_type": "code",
   "execution_count": null,
   "metadata": {},
   "outputs": [],
   "source": []
  },
  {
   "cell_type": "code",
   "execution_count": null,
   "metadata": {},
   "outputs": [],
   "source": [
    "def separateNumbers(s):\n",
    "    for d in range(1, len(s)//2 + 1):\n",
    "        is_valid = True\n",
    "        x = 0\n",
    "        current = int(s[x:x+d])\n",
    "        \n",
    "        while x + d < len(s):\n",
    "            next_num = current + 1\n",
    "            next_str = str(next_num)\n",
    "            len_next_num = len(next_str)\n",
    "\n",
    "            if s[x+d:x+d+len_next_num] != next_str:\n",
    "                is_valid = False\n",
    "                break\n",
    "\n",
    "            x += len_next_num\n",
    "            current = next_num\n",
    "        \n",
    "        if is_valid and x + d == len(s):\n",
    "            print(f\"YES {s[:d]}\")\n",
    "            return\n",
    "    \n",
    "    print(\"NO\")\n",
    "\n",
    "if __name__ == '__main__':\n",
    "    q = int(input().strip())\n",
    "\n",
    "    for q_itr in range(q):\n",
    "        s = input().strip()\n",
    "        separateNumbers(s)\n"
   ]
  },
  {
   "cell_type": "code",
   "execution_count": null,
   "metadata": {},
   "outputs": [],
   "source": []
  },
  {
   "cell_type": "code",
   "execution_count": null,
   "metadata": {},
   "outputs": [],
   "source": []
  },
  {
   "cell_type": "code",
   "execution_count": null,
   "metadata": {},
   "outputs": [],
   "source": [
    "\n",
    "#\n",
    "# Complete the 'separateNumbers' function below.\n",
    "#\n",
    "# The function accepts STRING s as parameter.\n",
    "#\n",
    "def separateNumbers(s):\n",
    "    for d in range(1, len(s)//2 + 1):\n",
    "        is_valid = True\n",
    "        x = 0\n",
    "        current = int(s[x:x+d])\n",
    "        \n",
    "        while x + d < len(s):\n",
    "            next_num = current + 1\n",
    "            next_str = str(next_num)\n",
    "            len_next_num = len(next_str)\n",
    "\n",
    "            if s[x+d:x+d+len_next_num] != next_str:\n",
    "                is_valid = False\n",
    "                break\n",
    "\n",
    "            x += len_next_num\n",
    "            current = next_num\n",
    "        \n",
    "        if is_valid and x + d == len(s):\n",
    "            print(f\"YES {s[:d]}\")\n",
    "            return\n",
    "    \n",
    "    print(\"NO\")\n",
    "\n",
    "separateNumbers(\"979899100101\")"
   ]
  },
  {
   "cell_type": "code",
   "execution_count": null,
   "metadata": {},
   "outputs": [],
   "source": []
  },
  {
   "cell_type": "code",
   "execution_count": null,
   "metadata": {},
   "outputs": [],
   "source": []
  },
  {
   "cell_type": "code",
   "execution_count": null,
   "metadata": {},
   "outputs": [],
   "source": []
  },
  {
   "cell_type": "code",
   "execution_count": null,
   "metadata": {},
   "outputs": [],
   "source": []
  },
  {
   "cell_type": "code",
   "execution_count": null,
   "metadata": {},
   "outputs": [],
   "source": []
  },
  {
   "cell_type": "code",
   "execution_count": null,
   "metadata": {},
   "outputs": [],
   "source": []
  },
  {
   "cell_type": "code",
   "execution_count": null,
   "metadata": {},
   "outputs": [],
   "source": []
  },
  {
   "cell_type": "code",
   "execution_count": null,
   "metadata": {},
   "outputs": [],
   "source": []
  },
  {
   "cell_type": "markdown",
   "metadata": {},
   "source": [
    "# Minimum Absolute Difference in an Array"
   ]
  },
  {
   "cell_type": "code",
   "execution_count": null,
   "metadata": {},
   "outputs": [],
   "source": []
  },
  {
   "cell_type": "code",
   "execution_count": null,
   "metadata": {},
   "outputs": [],
   "source": [
    "def minimumAbsoluteDifference(arr):\n",
    "    # Step 1: Sort the array\n",
    "    arr.sort()\n",
    "    \n",
    "    # Step 2: Initialize a variable to store the minimum difference\n",
    "    min_diff = float('inf')\n",
    "    \n",
    "    # Step 3: Iterate through the sorted array and find the minimum difference\n",
    "    for i in range(1, len(arr)):\n",
    "        diff = abs(arr[i] - arr[i - 1])\n",
    "        if diff < min_diff:\n",
    "            min_diff = diff\n",
    "    \n",
    "    # Step 4: Return the minimum difference found\n",
    "    return min_diff\n",
    "\n",
    "# Example usage:\n",
    "arr = [3, -7, 0]\n",
    "print(minimumAbsoluteDifference(arr))  # Output: 3\n"
   ]
  },
  {
   "cell_type": "code",
   "execution_count": null,
   "metadata": {},
   "outputs": [],
   "source": []
  },
  {
   "cell_type": "code",
   "execution_count": null,
   "metadata": {},
   "outputs": [],
   "source": []
  },
  {
   "cell_type": "code",
   "execution_count": null,
   "metadata": {},
   "outputs": [],
   "source": []
  },
  {
   "cell_type": "code",
   "execution_count": null,
   "metadata": {},
   "outputs": [],
   "source": []
  },
  {
   "cell_type": "markdown",
   "metadata": {},
   "source": [
    "# Ceaser Cipher \n",
    "Julius Caesar protected his confidential information by encrypting it using a cipher. Caesar's cipher shifts each letter by a number of letters. If the shift takes you past the end of the alphabet, just rotate back to the front of the alphabet. In the case of a rotation by 3, w, x, y and z would map to z, a, b and c.\n",
    "\n"
   ]
  },
  {
   "cell_type": "code",
   "execution_count": null,
   "metadata": {},
   "outputs": [],
   "source": [
    "original  = \"abcdefghijklmnopqrstuvwxyz\"\n",
    "target = \"defghijklmnopqrstuvwxyzabc\" # +3\n",
    "rotated = list(\"0\"*len(original))\n",
    "rotated\n"
   ]
  },
  {
   "cell_type": "code",
   "execution_count": 30,
   "metadata": {},
   "outputs": [],
   "source": [
    "itos = { i: chr(v) for i,v in enumerate(range(ord('a'), ord('z')+1))}\n",
    "stoi = {v:k for k,v in itos.items()}"
   ]
  },
  {
   "cell_type": "code",
   "execution_count": null,
   "metadata": {},
   "outputs": [],
   "source": [
    "for i in range(len(original)):\n",
    "    index = stoi[original[i]]\n",
    "    new_index = (index+3)%26\n",
    "    rotated[i] = itos[new_index]\n",
    "    print(original[i], rotated[i])\n",
    "\n",
    "rotated = \"\".join(rotated)\n",
    "assert rotated==target, \"not matched\"\n",
    "\n"
   ]
  },
  {
   "cell_type": "code",
   "execution_count": null,
   "metadata": {},
   "outputs": [],
   "source": [
    "for i,y in zip(target, rotated):\n",
    "    print(i,y)"
   ]
  },
  {
   "cell_type": "code",
   "execution_count": null,
   "metadata": {},
   "outputs": [],
   "source": []
  },
  {
   "cell_type": "code",
   "execution_count": null,
   "metadata": {},
   "outputs": [],
   "source": []
  },
  {
   "cell_type": "code",
   "execution_count": null,
   "metadata": {},
   "outputs": [],
   "source": []
  },
  {
   "cell_type": "code",
   "execution_count": null,
   "metadata": {},
   "outputs": [],
   "source": []
  },
  {
   "cell_type": "code",
   "execution_count": null,
   "metadata": {},
   "outputs": [],
   "source": [
    "original  = \"middle-Outz\"\n",
    "target = \"okffng-Qwvb\" # +3\n",
    "rotated = ['0']* len(original)\n",
    "rotated\n",
    "k=2\n",
    "itos = { i: chr(v) for i,v in enumerate(range(ord('A'), ord('z')+1))}\n",
    "stoi = {v:k for k,v in itos.items()}\n",
    "\n",
    "\n",
    "\n",
    "for i in range(len(original)):\n",
    "    if original[i] in stoi:\n",
    "        index = stoi[original[i]]\n",
    "        new_index = (index+k)%58\n",
    "        rotated[i] = itos[new_index]\n",
    "    else:\n",
    "        rotated[i] = original[i]\n",
    "        # print(original[i], rotated[i])\n",
    "\n",
    "rotated = \"\".join(rotated)\n",
    "# assert rotated==target, \"not matched\"\n",
    "original, target, rotated"
   ]
  },
  {
   "cell_type": "code",
   "execution_count": null,
   "metadata": {},
   "outputs": [],
   "source": []
  },
  {
   "cell_type": "code",
   "execution_count": null,
   "metadata": {},
   "outputs": [],
   "source": [
    "'a'<'b'"
   ]
  },
  {
   "cell_type": "code",
   "execution_count": null,
   "metadata": {},
   "outputs": [],
   "source": []
  },
  {
   "cell_type": "code",
   "execution_count": null,
   "metadata": {},
   "outputs": [],
   "source": [
    "itos, stoi"
   ]
  },
  {
   "cell_type": "code",
   "execution_count": null,
   "metadata": {},
   "outputs": [],
   "source": []
  },
  {
   "cell_type": "code",
   "execution_count": null,
   "metadata": {},
   "outputs": [],
   "source": [
    "\n",
    "original  = \"abcdefghijklmnopqrstuvwxyz\"\n",
    "target = \"defghijklmnopqrstuvwxyzabc\" # +3\n",
    "rotated = \"\"\n",
    "rotated\n",
    "\n",
    "itos = { i: chr(v) for i,v in enumerate(range(ord('a'), ord('z')+1))}\n",
    "stoi = {v:k for k,v in itos.items()}\n",
    "\n",
    "\n",
    "\n",
    "for i in range(len(original)):\n",
    "    index = stoi[original[i]]\n",
    "    new_index = (index+3)%26\n",
    "    rotated += itos[new_index]\n",
    "    print(original[i], rotated[i])\n",
    "\n",
    "# rotated = \"\".join(rotated)\n",
    "assert rotated==target, \"not matched\""
   ]
  },
  {
   "cell_type": "code",
   "execution_count": null,
   "metadata": {},
   "outputs": [],
   "source": []
  },
  {
   "cell_type": "code",
   "execution_count": null,
   "metadata": {},
   "outputs": [],
   "source": []
  },
  {
   "cell_type": "code",
   "execution_count": null,
   "metadata": {},
   "outputs": [],
   "source": [
    "original = \"middle-Outz\"\n",
    "target = \"okffng-Qwvb\"  # +2\n",
    "rotated = []\n",
    "\n",
    "k = 2  # shift by 2\n",
    "\n",
    "for char in original:\n",
    "    if 'a' <= char <= 'z':  # Handle lowercase\n",
    "        new_char = chr((ord(char) - ord('a') + k) % 26 + ord('a'))\n",
    "        rotated.append(new_char)\n",
    "    elif 'A' <= char <= 'Z':  # Handle uppercase\n",
    "        new_char = chr((ord(char) - ord('A') + k) % 26 + ord('A'))\n",
    "        rotated.append(new_char)\n",
    "    else:\n",
    "        rotated.append(char)  # Keep non-alphabet characters unchanged\n",
    "\n",
    "rotated = \"\".join(rotated)\n",
    "\n",
    "print(f\"Original: {original}\")\n",
    "print(f\"Target:   {target}\")\n",
    "print(f\"Rotated:  {rotated}\")\n",
    "assert rotated == target, \"not matched\"\n"
   ]
  },
  {
   "cell_type": "code",
   "execution_count": null,
   "metadata": {},
   "outputs": [],
   "source": []
  },
  {
   "cell_type": "code",
   "execution_count": null,
   "metadata": {},
   "outputs": [],
   "source": []
  },
  {
   "cell_type": "code",
   "execution_count": null,
   "metadata": {},
   "outputs": [],
   "source": []
  },
  {
   "cell_type": "code",
   "execution_count": null,
   "metadata": {},
   "outputs": [],
   "source": []
  },
  {
   "cell_type": "code",
   "execution_count": null,
   "metadata": {},
   "outputs": [],
   "source": []
  },
  {
   "cell_type": "code",
   "execution_count": null,
   "metadata": {},
   "outputs": [],
   "source": []
  },
  {
   "cell_type": "markdown",
   "metadata": {},
   "source": [
    "# min-max sum\n",
    " Given five positive integers, find the minimum and maximum values that can be calculated by summing exactly four of the five integers. Then print the respective minimum and maximum values as a single line of two space-separated long integers.\n",
    "\n"
   ]
  },
  {
   "cell_type": "markdown",
   "metadata": {},
   "source": []
  },
  {
   "cell_type": "code",
   "execution_count": null,
   "metadata": {},
   "outputs": [],
   "source": [
    "a = [1,3,5,7,9]\n",
    "a.sort()\n",
    "sum(a[:-1]), sum(a[1:])"
   ]
  },
  {
   "cell_type": "code",
   "execution_count": null,
   "metadata": {},
   "outputs": [],
   "source": []
  },
  {
   "cell_type": "code",
   "execution_count": null,
   "metadata": {},
   "outputs": [],
   "source": []
  },
  {
   "cell_type": "code",
   "execution_count": null,
   "metadata": {},
   "outputs": [],
   "source": []
  },
  {
   "cell_type": "code",
   "execution_count": null,
   "metadata": {},
   "outputs": [],
   "source": []
  },
  {
   "cell_type": "markdown",
   "metadata": {},
   "source": [
    "# Between two sets\n",
    "\n",
    "There will be two arrays of integers. Determine all integers that satisfy the following two conditions:\n",
    "\n",
    "    The elements of the first array are all factors of the integer being considered\n",
    "    The integer being considered is a factor of all elements of the second array\n",
    "\n",
    "These numbers are referred to as being between the two arrays. Determine how many such numbers exist."
   ]
  },
  {
   "cell_type": "code",
   "execution_count": null,
   "metadata": {},
   "outputs": [],
   "source": [
    "a= [2,6] \n",
    "b = [24, 36]\n",
    "\n",
    "x = 128; y=70\n",
    "while( y):\n",
    "    print(f\"{x=}; {y=}; {x%y=}\")\n",
    "    x,y = y, x % y \n",
    "\n",
    "print(x)"
   ]
  },
  {
   "cell_type": "code",
   "execution_count": null,
   "metadata": {},
   "outputs": [],
   "source": []
  },
  {
   "cell_type": "code",
   "execution_count": null,
   "metadata": {},
   "outputs": [],
   "source": []
  },
  {
   "cell_type": "markdown",
   "metadata": {},
   "source": [
    "We will use the following steps to find the greatest common divisor of (13, 48).\n",
    "\n",
    "Divisors of 13 = 1, and 13.\n",
    "Divisors of 48 = 1, 2, 3, 4, 6, 8, 12, 16, 24 and 48.\n",
    "\n",
    "The common divisor of 13 and 48 is 1.\n",
    "The greatest common divisor of 13 and 48 is 1.\n",
    "\n",
    "Therefore, GCD(13, 48) = 1"
   ]
  },
  {
   "cell_type": "code",
   "execution_count": null,
   "metadata": {},
   "outputs": [],
   "source": [
    "a = 128; b=78\n",
    "f'dividers_of_{a}' "
   ]
  },
  {
   "cell_type": "code",
   "execution_count": 34,
   "metadata": {},
   "outputs": [],
   "source": [
    "reminder = float('inf')\n",
    "a = 128\n",
    "# while reminder:\n",
    "#     x % "
   ]
  },
  {
   "cell_type": "code",
   "execution_count": null,
   "metadata": {},
   "outputs": [],
   "source": [
    "a = 48\n",
    "\n",
    "for i in range(1,a+1):\n",
    "    # print(i)\n",
    "    if a % i == 0:\n",
    "        print(i)\n",
    "print(\"\\t--\\t--\\t **\")\n",
    "\n",
    "b = 26\n",
    "for i in range(1,b+1):\n",
    "    # print(i)\n",
    "    if b % i == 0:\n",
    "        print(i)\n",
    "    \n",
    "\n",
    "    "
   ]
  },
  {
   "cell_type": "code",
   "execution_count": null,
   "metadata": {},
   "outputs": [],
   "source": []
  },
  {
   "cell_type": "code",
   "execution_count": null,
   "metadata": {},
   "outputs": [],
   "source": [
    "list1 = [1, 2, 3, 4, 5]\n",
    "list2 = [4, 5, 6, 7, 8]\n",
    "\n",
    "# Convert lists to sets and find the intersection\n",
    "common_elements = list(set(list1) & set(list2))\n",
    "\n",
    "print(common_elements)  # Output: [4, 5]\n",
    "\n",
    "\n",
    "common_elements = [element for element in list1 if element in list2]\n",
    "\n",
    "print(common_elements)  # Output: [4, 5, 4]"
   ]
  },
  {
   "cell_type": "code",
   "execution_count": null,
   "metadata": {},
   "outputs": [],
   "source": [
    "set(list1) & set(list2)"
   ]
  },
  {
   "cell_type": "code",
   "execution_count": null,
   "metadata": {},
   "outputs": [],
   "source": []
  },
  {
   "cell_type": "code",
   "execution_count": null,
   "metadata": {},
   "outputs": [],
   "source": [
    "a= [2,6] \n",
    "b = [24, 36]\n",
    "\n",
    "x = 128; y=13\n",
    "x = 46; y = 128\n",
    "while( y):\n",
    "    print(f\"{x=}; {y=}\")\n",
    "    x,y = y, x % y \n",
    "    print(f\"{x=}; {y=} \\n\\n\")  # f\"x:{x}\"\"\n",
    "\n",
    "\n",
    "print(x)"
   ]
  },
  {
   "cell_type": "code",
   "execution_count": null,
   "metadata": {},
   "outputs": [],
   "source": []
  },
  {
   "cell_type": "code",
   "execution_count": null,
   "metadata": {},
   "outputs": [],
   "source": []
  },
  {
   "cell_type": "markdown",
   "metadata": {},
   "source": [
    "To explain this code using a more mathematical approach, let's dive into the Euclidean algorithm, which is used to find the greatest common divisor (GCD) of two integers.\n",
    "\n",
    "### Problem Setup:\n",
    "\n",
    "Given two positive integers \\( x \\) and \\( y \\), we want to find their GCD. The GCD is the largest positive integer that divides both \\( x \\) and \\( y \\) without leaving a remainder.\n",
    "\n",
    "### Euclidean Algorithm:\n",
    "\n",
    "The Euclidean algorithm is based on two key observations:\n",
    "\n",
    "1. **If \\( y \\) divides \\( x \\) (i.e., \\( x \\mod y = 0 \\)), then \\( \\text{GCD}(x, y) = y \\).**\n",
    "2. **If \\( y \\) does not divide \\( x \\), then \\( \\text{GCD}(x, y) = \\text{GCD}(y, x \\mod y) \\).**\n",
    "\n",
    "This leads to the recursive definition:\n",
    "\\[\n",
    "\\text{GCD}(x, y) = \\text{GCD}(y, x \\mod y)\n",
    "\\]\n",
    "until \\( y = 0 \\), at which point \\( x \\) is the GCD.\n",
    "\n",
    "### Step-by-Step Explanation of the Code:\n",
    "\n",
    "Given \\( x = 46 \\) and \\( y = 128 \\):\n",
    "\n",
    "1. **Initialization:**\n",
    "   - \\( x = 46 \\)\n",
    "   - \\( y = 128 \\)\n",
    "\n",
    "2. **Iteration Process:**\n",
    "\n",
    "   **First Iteration:**\n",
    "   - Compute \\( x \\mod y \\), which is \\( 46 \\mod 128 = 46 \\).\n",
    "   - Update \\( x \\) to \\( y \\) (i.e., \\( x = 128 \\)).\n",
    "   - Update \\( y \\) to \\( x \\mod y \\) (i.e., \\( y = 46 \\)).\n",
    "\n",
    "   **Second Iteration:**\n",
    "   - Compute \\( x \\mod y \\), which is \\( 128 \\mod 46 = 36 \\).\n",
    "   - Update \\( x \\) to \\( y \\) (i.e., \\( x = 46 \\)).\n",
    "   - Update \\( y \\) to \\( x \\mod y \\) (i.e., \\( y = 36 \\)).\n",
    "\n",
    "   **Third Iteration:**\n",
    "   - Compute \\( x \\mod y \\), which is \\( 46 \\mod 36 = 10 \\).\n",
    "   - Update \\( x \\) to \\( y \\) (i.e., \\( x = 36 \\)).\n",
    "   - Update \\( y \\) to \\( x \\mod y \\) (i.e., \\( y = 10 \\)).\n",
    "\n",
    "   **Fourth Iteration:**\n",
    "   - Compute \\( x \\mod y \\), which is \\( 36 \\mod 10 = 6 \\).\n",
    "   - Update \\( x \\) to \\( y \\) (i.e., \\( x = 10 \\)).\n",
    "   - Update \\( y \\) to \\( x \\mod y \\) (i.e., \\( y = 6 \\)).\n",
    "\n",
    "   **Fifth Iteration:**\n",
    "   - Compute \\( x \\mod y \\), which is \\( 10 \\mod 6 = 4 \\).\n",
    "   - Update \\( x \\) to \\( y \\) (i.e., \\( x = 6 \\)).\n",
    "   - Update \\( y \\) to \\( x \\mod y \\) (i.e., \\( y = 4 \\)).\n",
    "\n",
    "   **Sixth Iteration:**\n",
    "   - Compute \\( x \\mod y \\), which is \\( 6 \\mod 4 = 2 \\).\n",
    "   - Update \\( x \\) to \\( y \\) (i.e., \\( x = 4 \\)).\n",
    "   - Update \\( y \\) to \\( x \\mod y \\) (i.e., \\( y = 2 \\)).\n",
    "\n",
    "   **Seventh Iteration:**\n",
    "   - Compute \\( x \\mod y \\), which is \\( 4 \\mod 2 = 0 \\).\n",
    "   - Update \\( x \\) to \\( y \\) (i.e., \\( x = 2 \\)).\n",
    "   - Update \\( y \\) to \\( x \\mod y \\) (i.e., \\( y = 0 \\)).\n",
    "\n",
    "   Since \\( y \\) is now \\( 0 \\), the algorithm terminates, and the value of \\( x \\) at this point, which is \\( 2 \\), is the GCD.\n",
    "\n",
    "### Mathematical Summary:\n",
    "\n",
    "The Euclidean algorithm repeatedly applies the relation:\n",
    "\\[\n",
    "\\text{GCD}(x, y) = \\text{GCD}(y, x \\mod y)\n",
    "\\]\n",
    "until \\( y = 0 \\). The final non-zero \\( x \\) is the GCD of the original numbers. This algorithm efficiently reduces the problem size in each step and eventually converges to the GCD.\n",
    "\n",
    "In our case:\n",
    "\\[\n",
    "\\text{GCD}(46, 128) = 2\n",
    "\\]"
   ]
  },
  {
   "cell_type": "code",
   "execution_count": null,
   "metadata": {},
   "outputs": [],
   "source": []
  },
  {
   "cell_type": "code",
   "execution_count": null,
   "metadata": {},
   "outputs": [],
   "source": [
    "a= [2,6] \n",
    "b = [24, 36]\n",
    "\n",
    "# a = [2,4]\n",
    "# b = [16, 32, 96]\n",
    "\n",
    "\n",
    "def product_of_list(lst):\n",
    "    product = 1\n",
    "    for num in lst:\n",
    "        product *= num\n",
    "    return product\n",
    "\n",
    "\n",
    "\n",
    "for i in range(2, product_of_list(a)+1):\n",
    "    # check if i is product of 6,2\n",
    "    if all(i % num == 0 for num in a):\n",
    "\n",
    "        # and factor of 24, 36\n",
    "        # print([j for j in b if j%i==0], i)\n",
    "        print(i)\n"
   ]
  },
  {
   "cell_type": "code",
   "execution_count": null,
   "metadata": {},
   "outputs": [],
   "source": [
    "all(2 % num == 0 for num in a)"
   ]
  },
  {
   "cell_type": "code",
   "execution_count": null,
   "metadata": {},
   "outputs": [],
   "source": []
  },
  {
   "cell_type": "code",
   "execution_count": null,
   "metadata": {},
   "outputs": [],
   "source": [
    "a, b"
   ]
  },
  {
   "cell_type": "code",
   "execution_count": 82,
   "metadata": {},
   "outputs": [],
   "source": [
    "a = [2,4]\n",
    "b = [16, 32, 96]\n",
    "\n",
    "# to find all mulitples of first array\n",
    "# lowest common multiple of first array: 4\n",
    "\n",
    "\n",
    "\n",
    "# greatest common divioir\n",
    "# higest number than will divide any number in b : 16\n",
    "\n",
    "\n",
    "\n",
    "# then you need to find out common multiples of lcm that also divides gcd"
   ]
  },
  {
   "cell_type": "code",
   "execution_count": null,
   "metadata": {},
   "outputs": [],
   "source": []
  },
  {
   "cell_type": "code",
   "execution_count": null,
   "metadata": {},
   "outputs": [],
   "source": []
  },
  {
   "cell_type": "code",
   "execution_count": null,
   "metadata": {},
   "outputs": [],
   "source": [
    "res = 0\n",
    "for i in range(max(a), min(b) + 1):\n",
    "    res += (all([i % aa == 0 for aa in a]) and all([bb % i == 0 for bb in b]))\n",
    "res\n"
   ]
  },
  {
   "cell_type": "code",
   "execution_count": null,
   "metadata": {},
   "outputs": [],
   "source": []
  },
  {
   "cell_type": "code",
   "execution_count": null,
   "metadata": {},
   "outputs": [],
   "source": []
  },
  {
   "cell_type": "code",
   "execution_count": null,
   "metadata": {},
   "outputs": [],
   "source": []
  },
  {
   "cell_type": "markdown",
   "metadata": {},
   "source": [
    "# Dynamic Array\n",
    "Declare a 2-dimensional array, , of\n",
    "empty arrays. All arrays are zero indexed.\n",
    "\n",
    "Declare an integer,\n",
    ", and initialize it to\n",
    "\n",
    ".\n",
    "\n",
    "There are\n",
    "\n",
    "types of queries, given as an array of strings for you to parse:\n",
    "\n",
    "    Query: 1 x y\n",
    "        Let \n",
    "\n",
    ".\n",
    "Append the integer\n",
    "to\n",
    "\n",
    "    .\n",
    "\n",
    "Query: 2 x y\n",
    "\n",
    "    Let \n",
    "\n",
    ".\n",
    "Assign the value\n",
    "to\n",
    ".\n",
    "Store the new value of\n",
    "to an answers array."
   ]
  },
  {
   "cell_type": "code",
   "execution_count": null,
   "metadata": {},
   "outputs": [],
   "source": [
    "import numpy as np\n",
    "n = 2 # shape\n",
    "\n",
    "[0 for h in range(n)], [ [ 0 for cols in range(n)] for rows in range(n) ], np.zeros((3,3))\n",
    "arr = np.zeros((n,n))\n",
    "print(arr.shape)\n",
    "last_answer = 0\n",
    "answer_lsit = []\n",
    "\n",
    "\n",
    "for i in range(len())\n",
    "\n",
    "\n"
   ]
  },
  {
   "cell_type": "code",
   "execution_count": null,
   "metadata": {},
   "outputs": [],
   "source": [
    "def dynamicArray(n, queries):\n",
    "    arrays = [[] for _ in range(n)]\n",
    "    results=[]\n",
    "    last_ans = 0\n",
    "    for q in queries:\n",
    "        parts = q.split()\n",
    "        parts = map(int, parts)\n",
    "        # print(q, q.split())\n",
    "        query_type, x, y = parts\n",
    "        print(f\"{query_type=}         {x=}   {y=}\")\n",
    "        \n",
    "        idx = (x ^ last_ans) % n\n",
    "        print(f\"{idx=}\")\n",
    "\n",
    "        if query_type==1:\n",
    "            # append y to aray at index idx\n",
    "            arrays[idx].append(y)\n",
    "        \n",
    "        if query_type==2:\n",
    "            # Type 2 query: Find the value at index y of array at index idx\n",
    "            last_ans = arrays[idx][y% len(arrays[idx])]\n",
    "            results.append(last_ans)\n",
    "    return results\n",
    "    \n",
    "\n",
    "\n",
    "n = 2\n",
    "queries = [\n",
    "    \"1 0 5\",\n",
    "    \"1 1 7\",\n",
    "    \"1 0 3\",\n",
    "    \"2 1 0\",\n",
    "    \"2 1 1\"\n",
    "]\n",
    "\n",
    "print(dynamicArray(n, queries))"
   ]
  },
  {
   "cell_type": "code",
   "execution_count": null,
   "metadata": {},
   "outputs": [],
   "source": []
  },
  {
   "cell_type": "code",
   "execution_count": null,
   "metadata": {},
   "outputs": [],
   "source": []
  },
  {
   "cell_type": "code",
   "execution_count": null,
   "metadata": {},
   "outputs": [],
   "source": []
  },
  {
   "cell_type": "markdown",
   "metadata": {},
   "source": [
    "# Missing Numbers \n",
    "Given two arrays of integers, find which elements in the second array are missing from the first array."
   ]
  },
  {
   "cell_type": "code",
   "execution_count": 1,
   "metadata": {},
   "outputs": [],
   "source": [
    "arr = [7, 2, 5, 3, 5, 3]\n",
    "brr = [7, 2, 5, 4, 6, 3, 5, 3]\n",
    "\n",
    "missing_numbers = [4,6]"
   ]
  },
  {
   "cell_type": "code",
   "execution_count": null,
   "metadata": {},
   "outputs": [],
   "source": [
    "def missingNumbers(arr, brr):\n",
    "    # Manually count the frequency of elements in arr\n",
    "    arr_count = {}\n",
    "    for num in arr:\n",
    "        if num in arr_count:\n",
    "            arr_count[num] += 1\n",
    "        else:\n",
    "            arr_count[num] = 1\n",
    "    \n",
    "    # Manually count the frequency of elements in brr\n",
    "    brr_count = {}\n",
    "    for num in brr:\n",
    "        if num in brr_count:\n",
    "            brr_count[num] += 1\n",
    "        else:\n",
    "            brr_count[num] = 1\n",
    "    \n",
    "    # List to store missing numbers\n",
    "    missing = []\n",
    "    \n",
    "    # Compare the frequencies of numbers in brr_count and arr_count\n",
    "    for num in brr_count:\n",
    "        if brr_count[num] > arr_count.get(num, 0):\n",
    "            missing.append(num)\n",
    "    \n",
    "    # Return the missing numbers sorted in ascending order\n",
    "    return sorted(missing)\n",
    "\n",
    "\n",
    "# Function Call\n",
    "result = missingNumbers(arr, brr)\n",
    "\n",
    "# Output the result\n",
    "print(\" \".join(map(str, result)))\n",
    "\n"
   ]
  },
  {
   "cell_type": "code",
   "execution_count": null,
   "metadata": {},
   "outputs": [],
   "source": []
  },
  {
   "cell_type": "code",
   "execution_count": null,
   "metadata": {},
   "outputs": [],
   "source": []
  },
  {
   "cell_type": "markdown",
   "metadata": {},
   "source": [
    "# Apple and orange\n",
    "\n",
    "Sam's house has an apple tree and an orange tree that yield an abundance of fruit. Using the information given below, determine the number of apples and oranges that land on Sam's house.\n",
    "\n",
    "In the diagram below:\n",
    "\n",
    "    The red region denotes the house, where \n",
    "\n",
    "is the start point, and\n",
    "is the endpoint. The apple tree is to the left of the house, and the orange tree is to its right.\n",
    "Assume the trees are located on a single point, where the apple tree is at point\n",
    ", and the orange tree is at point\n",
    ".\n",
    "When a fruit falls from its tree, it lands\n",
    "units of distance from its tree of origin along the -axis. *A negative value of means the fruit fell units to the tree's left, and a positive value of means it falls units to the tree's right. *"
   ]
  },
  {
   "cell_type": "code",
   "execution_count": null,
   "metadata": {},
   "outputs": [],
   "source": [
    "\n",
    "# s: integer, starting point of Sam's house location.\n",
    "# t: integer, ending location of Sam's house location.\n",
    "# a: integer, location of the Apple tree.\n",
    "# b: integer, location of the Orange tree.\n",
    "# apples: integer array, distances at which each apple falls from the tree.\n",
    "# oranges: integer array, distances at which each orange falls from the tree.\n",
    "\n",
    "\n",
    "# house_region\n",
    "s=7;t=10\n",
    "print(f\"house region: {s=}:{t=}\")\n",
    "# apple tree \n",
    "a=4\n",
    "# orange trree\n",
    "b=12\n",
    "\n",
    "print(f\"apple location:{a=}; orange location:{b=}\")\n",
    "\n",
    "\n",
    "# apples \n",
    "m= 3\n",
    "\n",
    "# oranges \n",
    "n=3\n",
    "\n",
    "print(f\"apples: {m=}; oranges: {n=}\")\n",
    "\n",
    "\n",
    "apples_distance = [2, 3, -4]\n",
    "orange_distances = [3, -2, -4]\n",
    "\n",
    "print(f\"{apples_distance=};  {orange_distances=}\")\n",
    "\n",
    "\n",
    "len([ i+a for i in apples_distance if (i+a>=s )]), len([i+b for i in orange_distances if (i+b) >=t])"
   ]
  },
  {
   "cell_type": "code",
   "execution_count": null,
   "metadata": {},
   "outputs": [],
   "source": [
    "# Input variables (example values for s, t, a, and b)\n",
    "s = 7  # Starting point of the house\n",
    "t = 11 # Ending point of the house\n",
    "a = 5  # Position of the apple tree\n",
    "b = 15 # Position of the orange tree\n",
    "\n",
    "# Distance arrays\n",
    "apples_distance = [2, 3, -4]\n",
    "orange_distances = [3, -2, -4]\n",
    "\n",
    "# Calculate the actual positions where apples and oranges fall\n",
    "apples_fall_positions = [a + d for d in apples_distance]\n",
    "oranges_fall_positions = [b + d for d in orange_distances]\n",
    "\n",
    "# Count how many apples and oranges fall within the house boundaries [s, t]\n",
    "apples_in_range = sum(1 for pos in apples_fall_positions if s <= pos <= t)\n",
    "oranges_in_range = sum(1 for pos in oranges_fall_positions if s <= pos <= t)\n",
    "\n",
    "# Output the results\n",
    "print(f\"Apples falling within range: {apples_in_range}\")\n",
    "print(f\"Oranges falling within range: {oranges_in_range}\")\n"
   ]
  },
  {
   "cell_type": "code",
   "execution_count": null,
   "metadata": {},
   "outputs": [],
   "source": [
    "# Input variables (example values for s, t, a, and b)\n",
    "s = 7  # Starting point of the house\n",
    "t = 11 # Ending point of the house\n",
    "a = 5  # Position of the apple tree\n",
    "b = 15 # Position of the orange tree\n",
    "\n",
    "# Distance arrays\n",
    "apples_distance = [2, 3, -4]\n",
    "orange_distances = [3, -2, -4]\n",
    "\n",
    "# Directly count apples and oranges within the range without creating new lists\n",
    "apples_in_range = sum(s <= (a + d) <= t for d in apples_distance)\n",
    "oranges_in_range = sum(s <= (b + d) <= t for d in orange_distances)\n",
    "\n",
    "\n",
    "# Output the results\n",
    "print(f\"Apples falling within range: {apples_in_range}\")\n",
    "print(f\"Oranges falling within range: {oranges_in_range}\")\n"
   ]
  },
  {
   "cell_type": "code",
   "execution_count": null,
   "metadata": {},
   "outputs": [],
   "source": []
  },
  {
   "cell_type": "code",
   "execution_count": 1,
   "metadata": {},
   "outputs": [],
   "source": [
    "# NUMBER LINE JUMPS\n",
    "\n"
   ]
  },
  {
   "cell_type": "code",
   "execution_count": null,
   "metadata": {},
   "outputs": [],
   "source": [
    "x1,x2,v1,v2 = [0 ,2, 5, 3]\n",
    "def kangaroo(x1, v1, x2, v2):\n",
    "\n",
    "    if x1 < x2 and v1 < v2:\n",
    "        return 'NO'    \n",
    "    else:\n",
    "        if v1!=v2 and (x2-x1)%(v2-v1)==0:\n",
    "            return 'YES' \n",
    "        else:\n",
    "            return 'NO'\n",
    "kangaroo(x1, v1, x2, v2)\n"
   ]
  },
  {
   "cell_type": "code",
   "execution_count": null,
   "metadata": {},
   "outputs": [],
   "source": []
  },
  {
   "cell_type": "code",
   "execution_count": null,
   "metadata": {},
   "outputs": [],
   "source": []
  },
  {
   "cell_type": "code",
   "execution_count": null,
   "metadata": {},
   "outputs": [],
   "source": []
  },
  {
   "cell_type": "code",
   "execution_count": null,
   "metadata": {},
   "outputs": [],
   "source": []
  },
  {
   "cell_type": "code",
   "execution_count": null,
   "metadata": {},
   "outputs": [],
   "source": []
  },
  {
   "cell_type": "code",
   "execution_count": null,
   "metadata": {},
   "outputs": [],
   "source": []
  },
  {
   "cell_type": "code",
   "execution_count": null,
   "metadata": {},
   "outputs": [],
   "source": []
  },
  {
   "cell_type": "markdown",
   "metadata": {},
   "source": [
    "# 997. Find the Town Judge\n"
   ]
  },
  {
   "cell_type": "markdown",
   "metadata": {},
   "source": []
  },
  {
   "cell_type": "code",
   "execution_count": null,
   "metadata": {},
   "outputs": [],
   "source": [
    "n = 3; trust = [[1,3],[2,3],[3,1]]\n",
    "trust = [[[1,3],[2,3]]]\n",
    "\n",
    "\n",
    "([x for x,y in trust]), [y for x,y in trust]\n",
    "\n"
   ]
  },
  {
   "cell_type": "code",
   "execution_count": null,
   "metadata": {},
   "outputs": [],
   "source": [
    "def judge(n, trust):\n",
    "   \n",
    "    a = [x for x,y in trust] ;b = {y for x,y in trust}\n",
    "\n",
    "    print(f\"{a} trusts {b}\")\n",
    "\n",
    "\n",
    "    judges = []\n",
    "    judge_found = False\n",
    "    for i in b:\n",
    "        if i not in a:\n",
    "            print(\"judge\",i)\n",
    "            judge_found = True\n",
    "            judges.append(i)\n",
    "        \n",
    "\n",
    "    if not judge_found:\n",
    "        return -1\n",
    "    return judges\n",
    "n = 3; trust = [[1,3],[2,3],[3,1]]\n",
    "\n",
    "# n = 3; trust = [[1,3],[2,3]]\n",
    "judge(n, trust)\n"
   ]
  },
  {
   "cell_type": "code",
   "execution_count": null,
   "metadata": {},
   "outputs": [],
   "source": []
  },
  {
   "cell_type": "code",
   "execution_count": null,
   "metadata": {},
   "outputs": [],
   "source": [
    "n = 3; trust = [[1,3],[2,3],[3,1]]\n",
    "trust = [[1,3],[2,3]]\n",
    "\n",
    "\n",
    "def judge(n, trust):\n",
    "    count = [0] * (n+1)\n",
    "    print(f\"{count=}\")\n",
    "\n",
    "    for truster, trustee in trust:\n",
    "        count[truster]-=1\n",
    "        count[trustee]+=1\n",
    "\n",
    "    print(count)\n",
    "\n",
    "    # for i in range(1, len(count)):\n",
    "    #     if count[i] == (n-1):\n",
    "    #         return i\n",
    "    # return -1\n",
    "\n",
    "\n",
    "\n",
    "    return [ i for i in range(1,len(count)) if count[i]==(n-1)][0]\n",
    "\n",
    "\n",
    "judge(3, trust)\n"
   ]
  },
  {
   "cell_type": "code",
   "execution_count": null,
   "metadata": {},
   "outputs": [],
   "source": [
    "n+1, len(count)"
   ]
  },
  {
   "cell_type": "code",
   "execution_count": 23,
   "metadata": {},
   "outputs": [],
   "source": [
    "class Solution(object):\n",
    "    def findJudge(self, n, trust):\n",
    "        count = [0] * (n+1)\n",
    "        for truster, trustee in trust:\n",
    "            count[truster]-=1\n",
    "            count[trustee]+=1\n",
    "        for i in range(1, len(count)):\n",
    "            if count[i] == (n-1):\n",
    "                return i\n",
    "        return -1\n",
    "\n"
   ]
  },
  {
   "cell_type": "code",
   "execution_count": null,
   "metadata": {},
   "outputs": [],
   "source": []
  },
  {
   "cell_type": "code",
   "execution_count": null,
   "metadata": {},
   "outputs": [],
   "source": []
  },
  {
   "cell_type": "code",
   "execution_count": null,
   "metadata": {},
   "outputs": [],
   "source": []
  },
  {
   "cell_type": "markdown",
   "metadata": {},
   "source": [
    "# 80. Remove Duplicates from Sorted Array II\n",
    "Given an integer array nums sorted in non-decreasing order, remove some duplicates in-place such that each unique element appears at most twice. The relative order of the elements should be kept the same.\n",
    "\n",
    "Since it is impossible to change the length of the array in some languages, you must instead have the result be placed in the first part of the array nums. More formally, if there are k elements after removing the duplicates, then the first k elements of nums should hold the final result. It does not matter what you leave beyond the first k elements.\n",
    "\n",
    "Return k after placing the final result in the first k slots of nums.\n",
    "\n",
    "Do not allocate extra space for another array. You must do this by modifying the input array in-place with O(1) extra memory.\n",
    "\n",
    "Custom Judge:\n",
    "\n",
    "The judge will test your solution with the following code:"
   ]
  },
  {
   "cell_type": "code",
   "execution_count": null,
   "metadata": {},
   "outputs": [],
   "source": [
    "nums = [1,1,1,2,2,3]\n",
    "Output =  5, \n",
    "target= [1,1,2,2,3,_]\n",
    "\n",
    "outputs = (len(set(nums)))*2\n",
    "outputs"
   ]
  },
  {
   "cell_type": "code",
   "execution_count": null,
   "metadata": {},
   "outputs": [],
   "source": [
    "for i in range(0, len(nums), 2):\n",
    "    if nums"
   ]
  },
  {
   "cell_type": "code",
   "execution_count": null,
   "metadata": {},
   "outputs": [],
   "source": [
    "nums = [1,1,1,2,2,3]\n",
    "\n",
    "p1 = 0\n",
    "for i,j in zip(nums, nums[1:]):\n",
    "    if i==j:\n",
    "        print(f\"same {i=};  {j=};  {p1=}\")\n",
    "        nums[p1] =i ; nums[p1+1]=j\n",
    "        p1+=2\n",
    "    else: \n",
    "        print(f\"different {i=};  {j=};  {p1=}\")\n",
    "nums"
   ]
  },
  {
   "cell_type": "code",
   "execution_count": null,
   "metadata": {},
   "outputs": [],
   "source": [
    "for i,j in zip(nums, nums[1:]):\n",
    "    print(f\"same {i=};  {j=}; \")\n",
    "    "
   ]
  },
  {
   "cell_type": "code",
   "execution_count": null,
   "metadata": {},
   "outputs": [],
   "source": [
    "nums = [1,1,1,2,2,3]\n",
    "nums = [0,0,1,1,1,1,2,3,3]\n",
    "for i in range(0, len(nums)-1, 1):\n",
    "    if nums[i] == nums[i+1]:\n",
    "        print(f\"{nums[i]=};  {nums[i+1]=}\")\n",
    "        i+=1"
   ]
  },
  {
   "cell_type": "code",
   "execution_count": null,
   "metadata": {},
   "outputs": [],
   "source": [
    "nums = [1,1,1,2,2,3]\n",
    "\n",
    "# nums = [0,0,1,1,1,1,2,3,3]\n",
    "nums = [-1,0,0,0,0,3,3]\n",
    "\n",
    "dict_count={}\n",
    "for i in nums:\n",
    "    dict_count[i] = dict_count.get(i, 0)+1\n",
    "print(f\"{dict_count=}\")\n",
    "\n",
    "\n",
    "i=0\n",
    "for k, v in dict_count.items():\n",
    "    if v==1:\n",
    "        nums[i] = k\n",
    "        i+=1\n",
    "    elif v>=2:\n",
    "        nums[i] = nums[i+1] = k\n",
    "        i+=2\n",
    "\n",
    "nums\n",
    "print(f\"{nums=}; {i=}\")\n",
    "\n"
   ]
  },
  {
   "cell_type": "code",
   "execution_count": null,
   "metadata": {},
   "outputs": [],
   "source": []
  },
  {
   "cell_type": "code",
   "execution_count": null,
   "metadata": {},
   "outputs": [],
   "source": []
  },
  {
   "cell_type": "code",
   "execution_count": null,
   "metadata": {},
   "outputs": [],
   "source": []
  },
  {
   "cell_type": "code",
   "execution_count": null,
   "metadata": {},
   "outputs": [],
   "source": [
    "dict_count, sorted(dict_count)"
   ]
  },
  {
   "cell_type": "code",
   "execution_count": null,
   "metadata": {},
   "outputs": [],
   "source": []
  },
  {
   "cell_type": "code",
   "execution_count": null,
   "metadata": {},
   "outputs": [],
   "source": []
  },
  {
   "cell_type": "code",
   "execution_count": null,
   "metadata": {},
   "outputs": [],
   "source": [
    "class Solution(object):\n",
    "    def removeDuplicates(self, nums):\n",
    "        \"\"\"\n",
    "        :type nums: List[int]\n",
    "        :rtype: int\n",
    "        \"\"\"\n",
    "\n",
    "        # Step 1: Create a dictionary to count occurrences of each element\n",
    "        dict_count = {}\n",
    "        for num in nums:\n",
    "            dict_count[num] = dict_count.get(num, 0) + 1\n",
    "\n",
    "        i = 0  # Index to modify the list in-place\n",
    "\n",
    "        # Step 2: Iterate over the sorted keys of the dictionary\n",
    "        for k, v in dict_count.items():\n",
    "            if v == 1:  # If the element appears once\n",
    "                nums[i] = k\n",
    "                i += 1\n",
    "            elif v >= 2:  # If the element appears more than once, allow it twice\n",
    "                nums[i] = k\n",
    "                nums[i + 1] = k\n",
    "                i += 2\n",
    "\n",
    "        return i  # Return the new length of the modified list\n",
    "    \n",
    "r = Solution()\n",
    "r.removeDuplicates(nums)\n"
   ]
  },
  {
   "cell_type": "code",
   "execution_count": null,
   "metadata": {},
   "outputs": [],
   "source": [
    "class Solution(object):\n",
    "    def removeDuplicates(self, nums):\n",
    "        \"\"\"\n",
    "        :type nums: List[int]\n",
    "        :rtype: int\n",
    "        \"\"\"\n",
    "\n",
    "        # Ensure the list is sorted\n",
    "        nums.sort()\n",
    "\n",
    "        i = 0  # Index to place the next element in the modified list\n",
    "        for num in nums:\n",
    "            # If the first two occurrences of each element, add to nums\n",
    "            if i < 2 or nums[i - 2] != num:\n",
    "                nums[i] = num\n",
    "                i += 1\n",
    "\n",
    "        return i \n",
    "    \n",
    "\n",
    "r = Solution()\n",
    "r.removeDuplicates(nums)"
   ]
  },
  {
   "cell_type": "code",
   "execution_count": null,
   "metadata": {},
   "outputs": [],
   "source": []
  },
  {
   "cell_type": "code",
   "execution_count": null,
   "metadata": {},
   "outputs": [],
   "source": []
  },
  {
   "cell_type": "code",
   "execution_count": null,
   "metadata": {},
   "outputs": [],
   "source": [
    "print(nums)\n",
    "i = 0  # Index to place the next element in the modified list\n",
    "for num in nums:\n",
    "    # If the first two occurrences of each element, add to nums\n",
    "    if i < 2 or nums[i - 2] != num:\n",
    "        nums[i] = num\n",
    "        i += 1\n",
    "\n",
    "i "
   ]
  },
  {
   "cell_type": "code",
   "execution_count": null,
   "metadata": {},
   "outputs": [],
   "source": [
    "nums = [1,1,1,2,2,3]\n",
    "\n",
    "# nums = [0,0,1,1,1,1,2,3,3]\n",
    "nums = [-1,0,0,0,0,3,3]\n",
    "\n",
    "\n",
    "print(nums)\n",
    "\n",
    "\n",
    "for i in range(2,len(nums)):\n",
    "    if nums[i] != nums[i-2]\n",
    "    print(f\"{nums[i]=}; {nums[i-2]}\")\n",
    "    # nums[i]"
   ]
  },
  {
   "cell_type": "code",
   "execution_count": null,
   "metadata": {},
   "outputs": [],
   "source": [
    "i =0 \n",
    "for n in nums:\n",
    "    if i<2 or nums[i-2] != n:\n",
    "        nums[i] = n \n",
    "        i+=1\n",
    "nums, i\n",
    "\n"
   ]
  },
  {
   "cell_type": "code",
   "execution_count": null,
   "metadata": {},
   "outputs": [],
   "source": []
  },
  {
   "cell_type": "code",
   "execution_count": null,
   "metadata": {},
   "outputs": [],
   "source": []
  },
  {
   "cell_type": "markdown",
   "metadata": {},
   "source": [
    "# 189. Rotate Array\n"
   ]
  },
  {
   "cell_type": "code",
   "execution_count": null,
   "metadata": {},
   "outputs": [],
   "source": []
  },
  {
   "cell_type": "code",
   "execution_count": 83,
   "metadata": {},
   "outputs": [],
   "source": [
    "nums = [1,2,3,4,5,6,7]; k = 3\n",
    "target = [5,6,7,1,2,3,4]\n",
    "s = len(nums)\n",
    "x = [0]* s\n",
    "\n",
    "for i in range(s):\n",
    "    # print(f\"{i=}; {nums[i]=} || {(i+k)%len(nums)=}; {nums[(i-k)%len(nums)]=}\")\n",
    "    # print(f\"{nums[(i-k)%len(nums)]=}; {(i-k)%len(nums)=}; {i=}\")\n",
    "    x[i] = nums[(i-k)%s]\n",
    "\n",
    "\n",
    "\n",
    "x\n",
    "\n",
    "assert target==x, \"NOO\""
   ]
  },
  {
   "cell_type": "code",
   "execution_count": null,
   "metadata": {},
   "outputs": [],
   "source": [
    "nums = [1,2,3,4,5,6,7]; k = 3\n",
    "target = [5,6,7,1,2,3,4]\n",
    "s = len(nums)\n",
    "x = [0]* s\n",
    "\n",
    "for i in range(s):\n",
    "    # print(f\"{i=}; {nums[i]=} || {(i+k)%len(nums)=}; {nums[(i-k)%len(nums)]=}\")\n",
    "    # print(f\"{nums[(i-k)%len(nums)]=}; {(i-k)%len(nums)=}; {i=}\")\n",
    "    x[i] = nums[(i-k)%s]\n",
    "\n",
    "\n",
    "\n",
    "x\n"
   ]
  },
  {
   "cell_type": "code",
   "execution_count": null,
   "metadata": {},
   "outputs": [],
   "source": [
    "def rotate(nums, k):\n",
    "    n = len(nums)\n",
    "    k %= n  # Normalize k to be within the range of the array length\n",
    "    # return nums[-k:] + nums[:-k]\n",
    "    print(f\"{nums[-k:]=}; {k=};  {nums[k]=};   {nums[:-k]=}\")  \n",
    "    # nums[-k:] gives the last k elements of the list (which will move to the front).\n",
    "    # nums[:-k] gives the rest of the elements before the last k elements.\n",
    "\n",
    "nums = [1, 2, 3, 4, 5, 6, 7]\n",
    "k = 3\n",
    "result = rotate(nums, k)\n",
    "print(result)"
   ]
  },
  {
   "cell_type": "code",
   "execution_count": null,
   "metadata": {},
   "outputs": [],
   "source": []
  },
  {
   "cell_type": "code",
   "execution_count": null,
   "metadata": {},
   "outputs": [],
   "source": []
  },
  {
   "cell_type": "code",
   "execution_count": null,
   "metadata": {},
   "outputs": [],
   "source": []
  },
  {
   "cell_type": "code",
   "execution_count": null,
   "metadata": {},
   "outputs": [],
   "source": []
  },
  {
   "cell_type": "code",
   "execution_count": null,
   "metadata": {},
   "outputs": [],
   "source": []
  },
  {
   "cell_type": "markdown",
   "metadata": {},
   "source": [
    "# 169. Majority Element\n",
    "The majority element is the element that appears more than ⌊n / 2⌋ times. **You may assume that the majority element always exists in the array.**"
   ]
  },
  {
   "cell_type": "code",
   "execution_count": null,
   "metadata": {},
   "outputs": [],
   "source": [
    "def majorityElement(nums) -> int:\n",
    "    count={}\n",
    "    for n in nums:\n",
    "        count[n] = count.get(n, 0 ) + 1\n",
    "    \n",
    "    return sorted(count.items(), key= lambda x: x[1], reverse=True)[0][0]\n",
    "    # print(count)\n",
    "\n",
    "\n",
    "nums = [3,2,3]\n",
    "majorityElement(nums)\n"
   ]
  },
  {
   "cell_type": "code",
   "execution_count": null,
   "metadata": {},
   "outputs": [],
   "source": [
    "nums = [ 3,2,3]\n",
    "nums=[2,2,1,1,1,2,2]\n",
    "\n",
    "count = 0\n",
    "\n",
    "candidate =0 \n",
    "\n",
    "for n in nums:\n",
    "    if count==0:\n",
    "        candidate=n\n",
    "\n",
    "\n",
    "    count += (1 if candidate==n else -1)\n",
    "    print(f\"{candidate=};   {count=}\")\n",
    "\n",
    "\n",
    "print(candidate)"
   ]
  },
  {
   "cell_type": "code",
   "execution_count": null,
   "metadata": {},
   "outputs": [],
   "source": []
  },
  {
   "cell_type": "code",
   "execution_count": null,
   "metadata": {},
   "outputs": [],
   "source": []
  },
  {
   "cell_type": "code",
   "execution_count": null,
   "metadata": {},
   "outputs": [],
   "source": []
  },
  {
   "cell_type": "markdown",
   "metadata": {},
   "source": [
    "# 151. Reverse Words in a String\n"
   ]
  },
  {
   "cell_type": "code",
   "execution_count": 1,
   "metadata": {},
   "outputs": [],
   "source": [
    "class Solution(object):\n",
    "    def reverseWords(self, s):\n",
    "        \"\"\"\n",
    "        :type s: str\n",
    "        :rtype: str\n",
    "        \"\"\"\n",
    "\n",
    "\n",
    "\n",
    "    # Split the string into words using the split() method\n",
    "        s = s.split()\n",
    "\n",
    "        # Reverse the list of words using slicing\n",
    "        reversed_words = s[::-1]\n",
    "\n",
    "        # Join the reversed list of words into a string using join()\n",
    "        return \" \".join(reversed_words)"
   ]
  },
  {
   "cell_type": "code",
   "execution_count": null,
   "metadata": {},
   "outputs": [],
   "source": []
  },
  {
   "cell_type": "code",
   "execution_count": null,
   "metadata": {},
   "outputs": [],
   "source": []
  },
  {
   "cell_type": "code",
   "execution_count": null,
   "metadata": {},
   "outputs": [],
   "source": []
  },
  {
   "cell_type": "markdown",
   "metadata": {},
   "source": [
    "# 55. Jump Game\n",
    "You are given an integer array nums. You are initially positioned at the array's first index, and each element in the array represents your maximum jump length at that position.\n",
    "\n",
    "Return true if you can reach the last index, or false otherwise."
   ]
  },
  {
   "cell_type": "code",
   "execution_count": null,
   "metadata": {},
   "outputs": [],
   "source": [
    "nums = [2,3,1,1,4]\n",
    "nums = [3,2,1,0,4]\n",
    "\n",
    "\n",
    "goal = len(nums) -1\n",
    "\n",
    "# greedy approach\n",
    "for i in range(len(nums)-2, -1, -1): # reverse\n",
    "    # goal  = i+1\n",
    "    # n=nums[i]\n",
    "    if(i + nums[i])>= goal:\n",
    "        goal = i\n",
    "        # print(f\"{nums[i]=};  {i=}   ===  {(i+nums[i])=}; {goal=};  {goal_index=}\")\n",
    "\n",
    "print(f\"{True if goal == 0 else False}\")    "
   ]
  },
  {
   "cell_type": "code",
   "execution_count": null,
   "metadata": {},
   "outputs": [],
   "source": []
  },
  {
   "cell_type": "code",
   "execution_count": null,
   "metadata": {},
   "outputs": [],
   "source": [
    "nums.index(nums[2])"
   ]
  },
  {
   "cell_type": "code",
   "execution_count": null,
   "metadata": {},
   "outputs": [],
   "source": [
    "goal = len(nums) - 1\n",
    "\n",
    "for i in range(len(nums) - 2, -1, -1):  # Reverse loop\n",
    "    if i + nums[i] >= goal:\n",
    "        goal = i\n",
    "\n",
    "# Directly return or print the result\n",
    "print(goal == 0)"
   ]
  },
  {
   "cell_type": "code",
   "execution_count": null,
   "metadata": {},
   "outputs": [],
   "source": [
    "goal == 0"
   ]
  },
  {
   "cell_type": "code",
   "execution_count": null,
   "metadata": {},
   "outputs": [],
   "source": []
  },
  {
   "cell_type": "code",
   "execution_count": null,
   "metadata": {},
   "outputs": [],
   "source": []
  },
  {
   "cell_type": "code",
   "execution_count": null,
   "metadata": {},
   "outputs": [],
   "source": []
  },
  {
   "cell_type": "markdown",
   "metadata": {},
   "source": [
    "# 27. Remove Element\n"
   ]
  },
  {
   "cell_type": "code",
   "execution_count": null,
   "metadata": {},
   "outputs": [],
   "source": []
  },
  {
   "cell_type": "code",
   "execution_count": null,
   "metadata": {},
   "outputs": [],
   "source": []
  },
  {
   "cell_type": "code",
   "execution_count": null,
   "metadata": {},
   "outputs": [],
   "source": [
    "nums = [3,2,2,3]; n = 3\n",
    "\n",
    "\n",
    "for i in range(0,len(nums)):\n",
    "    if nums[i]==2:\n",
    "        nums[i] ,nums[i+1]\n",
    "print(nums)\n",
    "\n"
   ]
  },
  {
   "cell_type": "code",
   "execution_count": null,
   "metadata": {},
   "outputs": [],
   "source": [
    "nums = [3,2,2,3]; val = 3\n",
    "nums = [0,1,2,2,3,0,4,2]; val = 2\n",
    "k= 0 \n",
    "for i in range(0,len(nums)):\n",
    "    if nums[i]!=val:\n",
    "        nums[k] =nums[i]\n",
    "        k+=1\n",
    "nums[k:]= ['x'] *  (len(nums) -k)\n",
    "    \n",
    "nums, k"
   ]
  },
  {
   "cell_type": "markdown",
   "metadata": {},
   "source": [
    "# 28. Find the Index of the First Occurrence in a String\n"
   ]
  },
  {
   "cell_type": "code",
   "execution_count": null,
   "metadata": {},
   "outputs": [],
   "source": []
  },
  {
   "cell_type": "code",
   "execution_count": null,
   "metadata": {},
   "outputs": [],
   "source": [
    "    haystack = \"hello\"; needle = \"ll\"\n",
    "\n",
    "\n",
    "    # if needle in haystack:\n",
    "    #     print(\"x\")\n",
    "\n",
    "    def strStr(haystack, needle):\n",
    "        s = len(needle)\n",
    "        for i in range(len(haystack)):\n",
    "            print(f\"{haystack[i:i+s]=}\")\n",
    "            if haystack[i:i+s]==needle:\n",
    "                return i\n",
    "        return -1\n",
    "        # print(haystack[i:i+s])\n",
    "\n",
    "    strStr(haystack, needle)"
   ]
  },
  {
   "cell_type": "code",
   "execution_count": null,
   "metadata": {},
   "outputs": [],
   "source": [
    "\"ll\" in \"hello\""
   ]
  },
  {
   "cell_type": "code",
   "execution_count": null,
   "metadata": {},
   "outputs": [],
   "source": []
  },
  {
   "cell_type": "code",
   "execution_count": null,
   "metadata": {},
   "outputs": [],
   "source": []
  },
  {
   "cell_type": "code",
   "execution_count": null,
   "metadata": {},
   "outputs": [],
   "source": []
  },
  {
   "cell_type": "code",
   "execution_count": null,
   "metadata": {},
   "outputs": [],
   "source": []
  },
  {
   "cell_type": "code",
   "execution_count": null,
   "metadata": {},
   "outputs": [],
   "source": []
  },
  {
   "cell_type": "markdown",
   "metadata": {},
   "source": [
    "# 30. Substring with Concatenation of All Words"
   ]
  },
  {
   "cell_type": "code",
   "execution_count": null,
   "metadata": {},
   "outputs": [],
   "source": [
    "s = \"barfoothefoobarman\"\n",
    "words = [\"foo\",\"bar\"]\n",
    "s, words"
   ]
  },
  {
   "cell_type": "code",
   "execution_count": null,
   "metadata": {},
   "outputs": [],
   "source": [
    "s = \"barfoothefoobarman\"\n",
    "s =  \"wordgoodgoodgoodbestword\"; words = [\"word\",\"good\",\"best\",\"word\"]\n",
    "s = \"barfoofoobarthefoobarman\"; words = [\"bar\",\"foo\",\"the\"]\n",
    "# words = [\"foo\",\"bar\"]\n",
    "indexes = []\n",
    "word_available=[False]* len(words)\n",
    "s, words\n",
    "word_size = len(words[0])\n",
    "total_words_size = word_size * len(words)\n",
    "print(f\"{word_size=}; {s=}; {words=}\")\n",
    "for i in range(len(s) - total_words_size + 1):\n",
    "    word_dict = { i: 1 for i in words}\n",
    "    # print(f\"{word_dict=}\")\n",
    "\n",
    "\n",
    "    # print(s[i: i+ word_size * len(words)])\n",
    "\n",
    "    for j in range(i, i+ total_words_size, word_size):\n",
    "        # print(f\"\\t,{i=}, {j=}: {(i+j)=};     {s[j:j+word_size]}\")\n",
    "        w = s[j:j+word_size]\n",
    "        if w in words:\n",
    "            # print(f\"\\t\\t{i=}; {w=}\")\n",
    "            word_dict[w]-=1\n",
    "    # print(f\"{word_dict=}\")\n",
    "    if all( v==0 for v in word_dict.values()):\n",
    "        indexes.append(i)\n",
    "        \n",
    "indexes\n",
    "    "
   ]
  },
  {
   "cell_type": "code",
   "execution_count": 44,
   "metadata": {},
   "outputs": [],
   "source": [
    "def findSubstring(s, words):\n",
    "    indexes = []\n",
    "    word_size = len(words[0])\n",
    "    total_words_size = word_size * len(words)\n",
    "    \n",
    "    # Create the initial word count dictionary\n",
    "    word_dict = {}\n",
    "    for word in words:\n",
    "        word_dict[word] = word_dict.get(word, 0) + 1\n",
    "\n",
    "    # Loop through the string 's' with a sliding window\n",
    "    for i in range(len(s) - total_words_size + 1):\n",
    "        current_count = word_dict.copy()  # Copy the word count for each sliding window \n",
    "        \n",
    "        # Check the substring of size total_words_size starting at index 'i'\n",
    "        for j in range(i, i + total_words_size, word_size):\n",
    "            word = s[j:j + word_size]  # Extract a word from the string\n",
    "\n",
    "            if word in current_count:\n",
    "                current_count[word] -= 1  # Decrement the count\n",
    "                if current_count[word] == 0:\n",
    "                    del current_count[word]  # Remove word if count reaches zero\n",
    "            else:\n",
    "                break  # If the word is not in words, break early\n",
    "\n",
    "        # If all words have been matched, add the start index to the result\n",
    "        if not current_count:\n",
    "            indexes.append(i)\n",
    "\n",
    "    return indexes\n"
   ]
  },
  {
   "cell_type": "code",
   "execution_count": null,
   "metadata": {},
   "outputs": [],
   "source": []
  },
  {
   "cell_type": "code",
   "execution_count": null,
   "metadata": {},
   "outputs": [],
   "source": []
  },
  {
   "cell_type": "code",
   "execution_count": null,
   "metadata": {},
   "outputs": [],
   "source": []
  },
  {
   "cell_type": "markdown",
   "metadata": {},
   "source": [
    "# 26. Remove Duplicates from Sorted Array\n",
    "Given an integer array nums sorted in non-decreasing order, remove the duplicates in-place such that each unique element appears only once. The relative order of the elements should be kept the same. Then return the number of unique elements in nums.\n",
    "\n",
    "Consider the number of unique elements of nums to be k, to get accepted, you need to do the following things:\n",
    "\n",
    "    Change the array nums such that the first k elements of nums contain the unique elements in the order they were present in nums initially. The remaining elements of nums are not important as well as the size of nums.\n",
    "    Return k.\n",
    "\n"
   ]
  },
  {
   "cell_type": "code",
   "execution_count": null,
   "metadata": {},
   "outputs": [],
   "source": [
    "nums = [1,1,2]\n",
    "nums = [0,0,1,1,1,2,2,3,3,4]\n",
    "# Output: 2, nums = [1,2,_]\n",
    "ind = 0\n",
    "x= []\n",
    "print(f'{x=}')\n",
    "for i in range(len(nums)):\n",
    "    print(nums[i])\n",
    "    if nums[i] not in x:\n",
    "        x.append(nums[i])\n",
    "        nums[ind] = nums[i]\n",
    "        ind+=1  \n",
    "\n",
    "print(f\"{x=}; {nums=}; {ind=}\")"
   ]
  },
  {
   "cell_type": "code",
   "execution_count": null,
   "metadata": {},
   "outputs": [],
   "source": [
    "nums = [1,1,2]\n",
    "nums = [0,0,1,1,1,2,2,3,3,4]\n",
    "# Output: 2, nums = [1,2,_]\n",
    "ind = 1\n",
    "for i in range(1, len(nums)):\n",
    "    print(nums[i])\n",
    "    if nums[i] not in nums[:ind]:\n",
    "        nums[ind] = nums[i]\n",
    "        ind+=1  \n",
    "\n",
    "print(f\"{nums=}; {ind=}\")"
   ]
  },
  {
   "cell_type": "code",
   "execution_count": null,
   "metadata": {},
   "outputs": [],
   "source": [
    "class Solution:\n",
    "    def removeDuplicates(self, nums) -> int:\n",
    "        if (len(nums) == 1):\n",
    "            return 1\n",
    "        \n",
    "        a = 0\n",
    "\n",
    "        for i in range(1, len(nums)):\n",
    "            if (nums[i] > nums[a]):\n",
    "                a+=1\n",
    "                nums[a] = nums[i]\n",
    "\n",
    "        return a + 1\n",
    "    \n",
    "l = Solution()\n",
    "l.removeDuplicates(nums)"
   ]
  },
  {
   "cell_type": "code",
   "execution_count": 80,
   "metadata": {},
   "outputs": [],
   "source": [
    "class Solution:\n",
    "    def removeDuplicates(self, nums) -> int:\n",
    "        if not nums:\n",
    "            return 0\n",
    "        ind = 1\n",
    "        for i in range(1, len(nums)):\n",
    "            # if nums[i] not in nums[:ind]:\n",
    "\n",
    "            if nums[i] != nums[ind-1]: # because list is in order\n",
    "                nums[ind] = nums[i]\n",
    "                ind+=1  \n",
    "\n",
    "        return ind"
   ]
  },
  {
   "cell_type": "code",
   "execution_count": null,
   "metadata": {},
   "outputs": [],
   "source": []
  },
  {
   "cell_type": "code",
   "execution_count": null,
   "metadata": {},
   "outputs": [],
   "source": []
  },
  {
   "cell_type": "code",
   "execution_count": null,
   "metadata": {},
   "outputs": [],
   "source": []
  },
  {
   "cell_type": "code",
   "execution_count": null,
   "metadata": {},
   "outputs": [],
   "source": []
  },
  {
   "cell_type": "code",
   "execution_count": null,
   "metadata": {},
   "outputs": [],
   "source": []
  },
  {
   "cell_type": "markdown",
   "metadata": {},
   "source": [
    "# 6. Zigzag Conversion\n",
    "\n",
    "The string \"PAYPALISHIRING\" is written in a zigzag pattern on a given number of rows like this: (you may want to display this pattern in a fixed font for better legibility)"
   ]
  },
  {
   "cell_type": "markdown",
   "metadata": {},
   "source": []
  },
  {
   "cell_type": "code",
   "execution_count": null,
   "metadata": {},
   "outputs": [],
   "source": [
    "s = \"PAYPALISHIRING\"; numRows = 4\n",
    "t = \"PAHNAPLSIIGYIR\"\n",
    "\n",
    "\n",
    "print(f\"{list(s)=}; {numRows=}\")\n",
    "\n",
    "# top, middle, bottom = [[]]*numRows\n",
    "# print(floors)\n",
    "\n",
    "\n",
    "# current_floor = 0\n",
    "\n",
    "jump = (numRows-1)*2 if numRows>2 else numRows\n",
    "\n",
    "i=0\n",
    "upper = [s[i] for i in range(i,len(s), jump)]\n",
    "# print()\n",
    "\n",
    "\n",
    "# print(f\"jump:{numRows+1}; {numRows=}\")\n",
    "print(f\"{jump=}; {upper=}\")\n",
    "\n",
    "\n",
    "jump = (numRows-1)*2 if numRows>4 else numRows\n",
    "\n",
    "second = [s[i] for i in range(i+1,len(s), jump)]\n",
    "\n",
    "# for i in range(0,len(s), numRows+1):\n",
    "#     print(s[i], i, end=\"\\t \")\n",
    "print(f\"{second=}; {jump=}\")\n",
    "# s = \"PAYPALISHIRING\"; numRows = 4\n",
    "\n",
    "third = [s[i] for i in range(i+2,len(s), jump)]\n",
    "\n",
    "print(f\"{third=}; {jump=}\")\n",
    "\n",
    "# print(f\"jump:{numRows+2}; {numRows=}\")\n",
    "# for i in range(0,len(s), numRows+2):\n",
    "#     print(s[i], i, end=\"\\t\")\n",
    "\n"
   ]
  },
  {
   "cell_type": "code",
   "execution_count": null,
   "metadata": {},
   "outputs": [],
   "source": [
    "\n",
    "s = \"PAYPALISHIRING\"; numRows = 4\n",
    "\n",
    "first = []\n",
    "second=[]\n",
    "third=[]\n",
    "\n",
    "jump = (numRows-1)*2 if numRows>2 else numRows\n",
    "\n",
    "floors = [[] for _ in range(numRows)]\n",
    "print(f\"{floors=}; {jump=}\")\n",
    "\n",
    "\n",
    "for i in range(0, len(s), jump):\n",
    "    print(i, s[i])\n",
    "    for floor in range(0,numRows):\n",
    "        floors[floor].append(s[i+floor])\n",
    "\n",
    "        print(f\"\\t{floor=}; {i=}; {s[i+floor]}; {floors[floor]=}\")\n",
    "\n",
    "        \n",
    "        \n",
    "\n",
    "# first, second, \n",
    "\n",
    "# print(f\"{floors}\")\n",
    "floors\n",
    "\n",
    "\n",
    "\n"
   ]
  },
  {
   "cell_type": "code",
   "execution_count": null,
   "metadata": {},
   "outputs": [],
   "source": [
    "\n",
    "s = \"PAYPALISHIRING\"; numRows = 4\n",
    "\n",
    "first = []\n",
    "second=[]\n",
    "third=[]\n",
    "\n",
    "\n",
    "floors = [[] for _ in range(numRows)]\n",
    "print(f\"{floors=}; {jump=}\")\n",
    "\n",
    "res = \"\"\n",
    "for r in range(0, numRows):\n",
    "    jump = (numRows-1)*2\n",
    "\n",
    "    for i in range(r, len(s), jump):\n",
    "        res+=s[i]\n",
    "        if r> 0 and r< numRows-1 and i+jump -2*r<len(s):\n",
    "             # in middle rows: i+jump-2*r  to check bounds and as we go lower and loswer size of v decreases  it subtracts by 2 so, goes down each row, we 'll subtract by two\n",
    "            res+=s[i+jump-2*r]\n",
    "\n",
    "     \n",
    "print(res)\n",
    "        \n",
    "\n",
    "# first, second, \n",
    "\n",
    "# print(f\"{floors}\")\n"
   ]
  },
  {
   "cell_type": "code",
   "execution_count": 23,
   "metadata": {},
   "outputs": [],
   "source": [
    "class Solution:\n",
    "    def convert(self, s: str, numRows: int) -> str:\n",
    "        if numRows == 1:\n",
    "            return s\n",
    "\n",
    "        res = []\n",
    "        jump = (numRows - 1) * 2\n",
    "\n",
    "        for r in range(numRows):\n",
    "            for i in range(r, len(s), jump):\n",
    "                res.append(s[i])  # Collect characters in the result list\n",
    "                if r > 0 and r < numRows - 1 and i + jump - 2 * r < len(s):\n",
    "                    # Add the middle row character for the zigzag\n",
    "                    res.append(s[i + jump - 2 * r])\n",
    "\n",
    "        return ''.join(res)  # Join the list of characters to form the final string\n"
   ]
  },
  {
   "cell_type": "code",
   "execution_count": null,
   "metadata": {},
   "outputs": [],
   "source": []
  },
  {
   "cell_type": "code",
   "execution_count": null,
   "metadata": {},
   "outputs": [],
   "source": []
  },
  {
   "cell_type": "code",
   "execution_count": null,
   "metadata": {},
   "outputs": [],
   "source": []
  },
  {
   "cell_type": "code",
   "execution_count": null,
   "metadata": {},
   "outputs": [],
   "source": []
  },
  {
   "cell_type": "code",
   "execution_count": null,
   "metadata": {},
   "outputs": [],
   "source": []
  },
  {
   "cell_type": "code",
   "execution_count": null,
   "metadata": {},
   "outputs": [],
   "source": []
  },
  {
   "cell_type": "code",
   "execution_count": null,
   "metadata": {},
   "outputs": [],
   "source": []
  },
  {
   "cell_type": "code",
   "execution_count": null,
   "metadata": {},
   "outputs": [],
   "source": [
    "ord('a')"
   ]
  },
  {
   "cell_type": "markdown",
   "metadata": {},
   "source": [
    "# 125. Valid Palindrome\n"
   ]
  },
  {
   "cell_type": "code",
   "execution_count": null,
   "metadata": {},
   "outputs": [],
   "source": [
    "s = \"A man, a plan, a canal: Panama\"\n",
    "\n",
    "\n",
    "s = \"\".join(char for char in s.lower() if char.isalnum())\n",
    "# \"\".join(s), \"\".join()\n",
    "# cleaned_string = ''.join(char for char in s if char.isalnum())\n",
    "# print(cleaned_string)\n",
    "\n",
    "print(f\"{s=}\")\n",
    "\n",
    "len(s), s[len(s)-1]\n",
    "\n",
    "\n",
    "def is_plaindome(s):\n",
    "    for i in range(0, len(s)//2):\n",
    "        if s[i]!=s[len(s)-i-1]:\n",
    "            print(False)\n",
    "            return False\n",
    "\n",
    "    return True\n",
    "\n",
    "is_plaindome(s)\n",
    "\n",
    "\n"
   ]
  },
  {
   "cell_type": "code",
   "execution_count": null,
   "metadata": {},
   "outputs": [],
   "source": [
    "def is_plaindome(s):\n",
    " s = \"\".join(char for char in s.lower() if char.isalnum())\n",
    " return all(s[i]== s[len(s)-i-1] for i in range(len(s)//2))\n",
    "is_plaindome(s)"
   ]
  },
  {
   "cell_type": "code",
   "execution_count": null,
   "metadata": {},
   "outputs": [],
   "source": [
    "def is_palindrome(s):\n",
    "    # Clean the string in one go and convert to lowercase\n",
    "    s = \"\".join(char for char in s.lower() if char.isalnum())\n",
    "    \n",
    "    # Compare the cleaned string with its reverse\n",
    "    return s == s[::-1]\n",
    "\n",
    "# Example usage\n",
    "s = \"A man, a plan, a canal: Panama\"\n",
    "print(is_palindrome(s))  # Output: True\n"
   ]
  },
  {
   "cell_type": "code",
   "execution_count": null,
   "metadata": {},
   "outputs": [],
   "source": []
  },
  {
   "cell_type": "code",
   "execution_count": null,
   "metadata": {},
   "outputs": [],
   "source": []
  },
  {
   "cell_type": "code",
   "execution_count": null,
   "metadata": {},
   "outputs": [],
   "source": [
    "def is_plaindome(s):\n",
    "    s = \"\".join(char for char in s.lower() if char.isalnum())\n",
    "    n= len(s)\n",
    "    return all(s[i] == s[n-i-1] for i in range(n//2))\n",
    "\n",
    "is_plaindome(s)\n"
   ]
  },
  {
   "cell_type": "code",
   "execution_count": null,
   "metadata": {},
   "outputs": [],
   "source": [
    "class Solution:\n",
    "    def isPalindrome(self, s: str) -> bool:\n",
    "        left = 0\n",
    "        right = len(s) - 1\n",
    "\n",
    "        while left < right:\n",
    "            # Move left pointer to the next alphanumeric character\n",
    "            while left < right and not s[left].isalnum():\n",
    "                left += 1\n",
    "            # Move right pointer to the previous alphanumeric character\n",
    "            while right > left and not s[right].isalnum():\n",
    "                right -= 1\n",
    "            \n",
    "            # Compare the characters at the pointers\n",
    "            if s[left].lower() != s[right].lower():\n",
    "                return False\n",
    "            \n",
    "            # Move pointers towards the center\n",
    "            left += 1\n",
    "            right -= 1\n",
    "        \n",
    "        return True\n"
   ]
  },
  {
   "cell_type": "code",
   "execution_count": null,
   "metadata": {},
   "outputs": [],
   "source": []
  },
  {
   "cell_type": "code",
   "execution_count": null,
   "metadata": {},
   "outputs": [],
   "source": []
  },
  {
   "cell_type": "code",
   "execution_count": null,
   "metadata": {},
   "outputs": [],
   "source": []
  },
  {
   "cell_type": "code",
   "execution_count": null,
   "metadata": {},
   "outputs": [],
   "source": []
  },
  {
   "cell_type": "code",
   "execution_count": null,
   "metadata": {},
   "outputs": [],
   "source": []
  },
  {
   "cell_type": "markdown",
   "metadata": {},
   "source": [
    "Here’s a list of other string operations like `char.isalnum()` that you can use in Python for checking or manipulating characters in a string:\n",
    "\n",
    "### Character Check Methods:\n",
    "1. **`char.isalpha()`**: Returns `True` if all characters in the string are alphabetic (letters only).\n",
    "   ```python\n",
    "   \"abc\".isalpha()  # True\n",
    "   \"abc123\".isalpha()  # False\n",
    "   ```\n",
    "\n",
    "2. **`char.isdigit()`**: Returns `True` if all characters in the string are digits (0-9).\n",
    "   ```python\n",
    "   \"123\".isdigit()  # True\n",
    "   \"abc123\".isdigit()  # False\n",
    "   ```\n",
    "\n",
    "3. **`char.isnumeric()`**: Returns `True` if all characters are numeric, including special numeric characters like superscripts.\n",
    "   ```python\n",
    "   \"123\".isnumeric()  # True\n",
    "   \"⅕\".isnumeric()  # True (Fraction character)\n",
    "   ```\n",
    "\n",
    "4. **`char.isdecimal()`**: Returns `True` if all characters are decimal characters (base-10 digits). Similar to `isdigit`, but stricter.\n",
    "   ```python\n",
    "   \"123\".isdecimal()  # True\n",
    "   \"123.5\".isdecimal()  # False\n",
    "   ```\n",
    "\n",
    "5. **`char.islower()`**: Returns `True` if all alphabetic characters in the string are lowercase.\n",
    "   ```python\n",
    "   \"abc\".islower()  # True\n",
    "   \"Abc\".islower()  # False\n",
    "   ```\n",
    "\n",
    "6. **`char.isupper()`**: Returns `True` if all alphabetic characters in the string are uppercase.\n",
    "   ```python\n",
    "   \"ABC\".isupper()  # True\n",
    "   \"AbC\".isupper()  # False\n",
    "   ```\n",
    "\n",
    "7. **`char.isspace()`**: Returns `True` if all characters are whitespace characters (spaces, tabs, newlines, etc.).\n",
    "   ```python\n",
    "   \"   \".isspace()  # True\n",
    "   \"\\n\".isspace()  # True\n",
    "   ```\n",
    "\n",
    "8. **`char.istitle()`**: Returns `True` if the string follows title case (first letter of each word is capitalized, rest are lowercase).\n",
    "   ```python\n",
    "   \"This Is A Title\".istitle()  # True\n",
    "   \"This is a Title\".istitle()  # False\n",
    "   ```\n",
    "\n",
    "9. **`char.isprintable()`**: Returns `True` if all characters in the string are printable, which excludes control characters like `\\n`.\n",
    "   ```python\n",
    "   \"abc\".isprintable()  # True\n",
    "   \"\\n\".isprintable()  # False\n",
    "   ```\n",
    "\n",
    "10. **`char.isidentifier()`**: Returns `True` if the string is a valid Python identifier (can be used as a variable name).\n",
    "    ```python\n",
    "    \"variable_name\".isidentifier()  # True\n",
    "    \"123abc\".isidentifier()  # False\n",
    "    ```\n",
    "\n",
    "---\n",
    "\n",
    "### Other Useful String Methods for Manipulation:\n",
    "\n",
    "1. **`char.upper()`**: Converts all characters to uppercase.\n",
    "   ```python\n",
    "   \"abc\".upper()  # \"ABC\"\n",
    "   ```\n",
    "\n",
    "2. **`char.lower()`**: Converts all characters to lowercase.\n",
    "   ```python\n",
    "   \"ABC\".lower()  # \"abc\"\n",
    "   ```\n",
    "\n",
    "3. **`char.capitalize()`**: Capitalizes the first character of the string.\n",
    "   ```python\n",
    "   \"hello world\".capitalize()  # \"Hello world\"\n",
    "   ```\n",
    "\n",
    "4. **`char.swapcase()`**: Converts uppercase characters to lowercase and vice versa.\n",
    "   ```python\n",
    "   \"Hello\".swapcase()  # \"hELLO\"\n",
    "   ```\n",
    "\n",
    "5. **`char.title()`**: Converts the first letter of every word to uppercase (title case).\n",
    "   ```python\n",
    "   \"hello world\".title()  # \"Hello World\"\n",
    "   ```\n",
    "\n",
    "6. **`char.strip()`**: Removes leading and trailing whitespace (or other specified characters).\n",
    "   ```python\n",
    "   \"   hello   \".strip()  # \"hello\"\n",
    "   ```\n",
    "\n",
    "7. **`char.lstrip()`**: Removes leading whitespace (or other specified characters).\n",
    "   ```python\n",
    "   \"   hello   \".lstrip()  # \"hello   \"\n",
    "   ```\n",
    "\n",
    "8. **`char.rstrip()`**: Removes trailing whitespace (or other specified characters).\n",
    "   ```python\n",
    "   \"   hello   \".rstrip()  # \"   hello\"\n",
    "   ```\n",
    "\n",
    "9. **`char.startswith(prefix)`**: Returns `True` if the string starts with the specified prefix.\n",
    "   ```python\n",
    "   \"hello\".startswith(\"he\")  # True\n",
    "   ```\n",
    "\n",
    "10. **`char.endswith(suffix)`**: Returns `True` if the string ends with the specified suffix.\n",
    "    ```python\n",
    "    \"hello\".endswith(\"lo\")  # True\n",
    "    ```\n",
    "\n",
    "These methods can help you manipulate and check strings in Python in various ways, depending on what you need!"
   ]
  },
  {
   "cell_type": "code",
   "execution_count": null,
   "metadata": {},
   "outputs": [],
   "source": []
  },
  {
   "cell_type": "code",
   "execution_count": null,
   "metadata": {},
   "outputs": [],
   "source": []
  },
  {
   "cell_type": "code",
   "execution_count": null,
   "metadata": {},
   "outputs": [],
   "source": []
  },
  {
   "cell_type": "code",
   "execution_count": null,
   "metadata": {},
   "outputs": [],
   "source": []
  },
  {
   "cell_type": "code",
   "execution_count": null,
   "metadata": {},
   "outputs": [],
   "source": []
  },
  {
   "cell_type": "code",
   "execution_count": null,
   "metadata": {},
   "outputs": [],
   "source": []
  },
  {
   "cell_type": "markdown",
   "metadata": {},
   "source": [
    "# 209. Minimum Size Subarray Sum\n",
    "\n",
    "Given an array of positive integers nums and a positive integer target, return the minimal length of a\n",
    "subarray\n",
    "whose sum is greater than or equal to target. If there is no such subarray, return 0 instead"
   ]
  },
  {
   "cell_type": "code",
   "execution_count": null,
   "metadata": {},
   "outputs": [],
   "source": [
    "target = 7; nums = [2,3,1,2,4,3]\n",
    "target = 4;nums = [1,4,4]\n",
    "target = 11; nums = [1,1,1,1,1,1,1,1]\n",
    "minLength = float('inf')\n",
    "n= len(nums)\n",
    "for i in range(n):\n",
    "    # silding window\n",
    "    sum = 0;j=i\n",
    "\n",
    "    while(sum<target and j< n):\n",
    "        sum += nums[j]\n",
    "        # print(f'{i=};       {sum=};  {j=}; {nums[j]=}; ')\n",
    "        j+=1\n",
    "    # break;)\n",
    "\n",
    "    difference = j-i\n",
    "    if sum >= target and difference<minLength:\n",
    "        minLength = difference\n",
    "        print(f\"\\n{j-i=}\\t {sum=}; {target=}\")\n",
    "        # print(f\"{minLength=}\")\n",
    "        \n",
    "    # else:\n",
    "    #     print(0)\n",
    "\n",
    "print(minLength if minLength!=float('inf') else 0)"
   ]
  },
  {
   "cell_type": "code",
   "execution_count": null,
   "metadata": {},
   "outputs": [],
   "source": [
    "target = 7; nums = [2,3,1,2,4,3]\n",
    "# target = 4;nums = [1,4,4]\n",
    "# target = 11; nums = [1,1,1,1,1,1,1,1]\n",
    "minLength = float('inf')\n",
    "n= len(nums)\n",
    "sum =0 \n",
    "left =0\n",
    "for i in range(n):\n",
    "    sum += nums[i]\n",
    "    # silding window\n",
    "    # print(f\"{sum=}, {i=}\")\n",
    "    while(sum >= target):\n",
    "        minLength = min(minLength, i - left + 1)\n",
    "        sum -= nums[left]\n",
    "        left+=1\n",
    "\n",
    "\n",
    "\n",
    "#     while(sum<target and j< n):\n",
    "#         sum += nums[j]\n",
    "#         # print(f'{i=};       {sum=};  {j=}; {nums[j]=}; ')\n",
    "#         j+=1\n",
    "#     # break;)\n",
    "\n",
    "#     difference = j-i\n",
    "#     if sum >= target and difference<minLength:\n",
    "#         minLength = difference\n",
    "#         print(f\"\\n{j-i=}\\t {sum=}; {target=}\")\n",
    "#         # print(f\"{minLength=}\")\n",
    "        \n",
    "#     # else:\n",
    "#     #     print(0)\n",
    "\n",
    "print(minLength if minLength!=float('inf') else 0)"
   ]
  },
  {
   "cell_type": "code",
   "execution_count": null,
   "metadata": {},
   "outputs": [],
   "source": [
    "class Solution:\n",
    "    def minSubArrayLen(self, target: int, nums: List[int]) -> int:\n",
    "        minLength = float('inf')\n",
    "        current_sum = 0\n",
    "        left = 0\n",
    "        \n",
    "        for right in range(len(nums)):\n",
    "            current_sum += nums[right]  # Expand the window by adding the current element\n",
    "            \n",
    "            # Shrink the window from the left as long as the sum is >= target\n",
    "            while current_sum >= target:\n",
    "                minLength = min(minLength, right - left + 1)  # Update the minimum length\n",
    "                current_sum -= nums[left]  # Shrink the window\n",
    "                left += 1\n",
    "        \n",
    "        return minLength if minLength != float('inf') else 0\n"
   ]
  },
  {
   "cell_type": "code",
   "execution_count": null,
   "metadata": {},
   "outputs": [],
   "source": [
    "#include <stdio.h>\n",
    "#include <limits.h> // For INT_MAX\n",
    "\n",
    "int minSubArrayLen(int target, int* nums, int numsSize) {\n",
    "    int minLength = INT_MAX;\n",
    "    int current_sum = 0;\n",
    "    int left = 0;\n",
    "\n",
    "    for (int right = 0; right < numsSize; ++right) {\n",
    "        current_sum += nums[right]; // Expand the window by adding the current element\n",
    "\n",
    "        // Shrink the window from the left as long as the sum is >= target\n",
    "        while (current_sum >= target) {\n",
    "            minLength = (minLength < (right - left + 1)) ? minLength : (right - left + 1); // Update the minimum length\n",
    "            current_sum -= nums[left]; // Shrink the window\n",
    "            left++;\n",
    "        }\n",
    "    }\n",
    "\n",
    "    return (minLength != INT_MAX) ? minLength : 0;\n",
    "}\n",
    "\n",
    "// Example usage\n",
    "int main() {\n",
    "    int nums[] = {2, 3, 1, 2, 4, 3};\n",
    "    int target = 7;\n",
    "    int numsSize = sizeof(nums) / sizeof(nums[0]);\n",
    "    int result = minSubArrayLen(target, nums, numsSize);\n",
    "    printf(\"Minimum length of subarray: %d\\n\", result);\n",
    "    return 0;\n",
    "}\n"
   ]
  },
  {
   "cell_type": "code",
   "execution_count": null,
   "metadata": {},
   "outputs": [],
   "source": [
    "#include <iostream>\n",
    "#include <vector>\n",
    "#include <climits> // For INT_MAX\n",
    "\n",
    "class Solution {\n",
    "public:\n",
    "    int minSubArrayLen(int target, const std::vector<int>& nums) {\n",
    "        int minLength = INT_MAX;\n",
    "        int current_sum = 0;\n",
    "        int left = 0;\n",
    "\n",
    "        for (int right = 0; right < nums.size(); ++right) {\n",
    "            current_sum += nums[right]; // Expand the window by adding the current element\n",
    "\n",
    "            // Shrink the window from the left as long as the sum is >= target\n",
    "            while (current_sum >= target) {\n",
    "                minLength = std::min(minLength, right - left + 1); // Update the minimum length\n",
    "                current_sum -= nums[left]; // Shrink the window\n",
    "                ++left;\n",
    "            }\n",
    "        }\n",
    "\n",
    "        return (minLength != INT_MAX) ? minLength : 0;\n",
    "    }\n",
    "};\n",
    "\n",
    "// Example usage\n",
    "int main() {\n",
    "    Solution solution;\n",
    "    std::vector<int> nums = {2, 3, 1, 2, 4, 3};\n",
    "    int target = 7;\n",
    "    int result = solution.minSubArrayLen(target, nums);\n",
    "    std::cout << \"Minimum length of subarray: \" << result << std::endl;\n",
    "    return 0;\n",
    "}\n"
   ]
  },
  {
   "cell_type": "code",
   "execution_count": null,
   "metadata": {},
   "outputs": [],
   "source": []
  },
  {
   "cell_type": "code",
   "execution_count": null,
   "metadata": {},
   "outputs": [],
   "source": []
  },
  {
   "cell_type": "code",
   "execution_count": null,
   "metadata": {},
   "outputs": [],
   "source": []
  },
  {
   "cell_type": "code",
   "execution_count": null,
   "metadata": {},
   "outputs": [],
   "source": []
  },
  {
   "cell_type": "code",
   "execution_count": null,
   "metadata": {},
   "outputs": [],
   "source": []
  },
  {
   "cell_type": "code",
   "execution_count": null,
   "metadata": {},
   "outputs": [],
   "source": []
  },
  {
   "cell_type": "code",
   "execution_count": null,
   "metadata": {},
   "outputs": [],
   "source": []
  },
  {
   "cell_type": "code",
   "execution_count": null,
   "metadata": {},
   "outputs": [],
   "source": []
  },
  {
   "cell_type": "markdown",
   "metadata": {},
   "source": [
    "# 380. Insert Delete GetRandom O(1)\n"
   ]
  },
  {
   "cell_type": "code",
   "execution_count": null,
   "metadata": {},
   "outputs": [],
   "source": [
    "x = {1,2,3}\n",
    "x.add(4)\n",
    "x.remove(2)\n",
    "x, len(x)"
   ]
  },
  {
   "cell_type": "code",
   "execution_count": null,
   "metadata": {},
   "outputs": [],
   "source": [
    "thisset = {1, \"apple\", \"banana\", \"cherry\", False, True, 0}  # False and 0 are same thing\n",
    "thisset = list(thisset)\n",
    "thisset[0], thisset"
   ]
  },
  {
   "cell_type": "code",
   "execution_count": null,
   "metadata": {},
   "outputs": [],
   "source": [
    "thisset = set((\"apple\", \"banana\", \"cherry\")) # note the double round-brackets\n",
    "print(thisset) "
   ]
  },
  {
   "cell_type": "code",
   "execution_count": null,
   "metadata": {},
   "outputs": [],
   "source": []
  },
  {
   "cell_type": "code",
   "execution_count": null,
   "metadata": {},
   "outputs": [],
   "source": [
    "import random\n",
    "class RandomizedSet:\n",
    "\n",
    "    def __init__(self):\n",
    "        self.dict_to_store_indices = dict()\n",
    "        self.nums = []\n",
    "\n",
    "        \n",
    "\n",
    "    def insert(self, val: int) -> bool:\n",
    "        if val in self.dict_to_store_indices:\n",
    "            return False\n",
    "        self.nums.append(val)\n",
    "        self.dict_to_store_indices[val] = len(self.nums)-1\n",
    "        return True\n",
    "    \n",
    "\n",
    "# if i in list: O(n)\n",
    "# if i in dict(): O(1)\n",
    "\n",
    "        \n",
    "\n",
    "    def remove(self, val: int) -> bool:\n",
    "        if val not in self.dict_to_store_indices:\n",
    "            return False\n",
    "        # swapping\n",
    "        currentIndex = self.dict_to_store_indices[val]\n",
    "        last_val = self.nums[-1]\n",
    "        print(f\"{self.nums=}; {self.dict_to_store_indices=}; \")\n",
    "        self.nums[currentIndex] = last_val\n",
    "        self.dict_to_store_indices[last_val] = currentIndex\n",
    "        del self.dict_to_store_indices[val]\n",
    "\n",
    "       # pop last element\n",
    "        self.nums.pop() \n",
    "        print(f\"{self.nums=}; {self.dict_to_store_indices=}; \")\n",
    "\n",
    "        return True\n",
    "        \n",
    "\n",
    "    def getRandom(self) -> int:\n",
    "        return random.choice(self.values)\n",
    "        \n",
    "\n",
    "\n",
    "# Your RandomizedSet object will be instantiated and called as such:\n",
    "# obj = RandomizedSet()\n",
    "# param_1 = obj.insert(val)\n",
    "# param_2 = obj.remove(val)\n",
    "# param_3 = obj.getRandom()\n",
    "\n",
    "randomizedset = RandomizedSet()\n",
    "print(f\"{randomizedset.nums=};        {randomizedset.dict_to_store_indices=}\")\n",
    "\n",
    "randomizedset.insert(2)\n",
    "randomizedset.insert(3)\n",
    "randomizedset.insert(4)\n",
    "randomizedset.insert(5)\n",
    "\n",
    "print(f\"{randomizedset.nums=};        {randomizedset.dict_to_store_indices=}\")\n",
    "randomizedset.remove(3)\n",
    "print(randomizedset.dict_to_store_indices, randomizedset.nums)"
   ]
  },
  {
   "cell_type": "code",
   "execution_count": 29,
   "metadata": {},
   "outputs": [],
   "source": [
    "import random\n",
    "\n",
    "class RandomizedSet:\n",
    "    def __init__(self):\n",
    "        # Dictionary to store the value and its index in the list\n",
    "        self.val_to_index = {}\n",
    "        # List to store the values\n",
    "        self.values = []\n",
    "\n",
    "    def insert(self, val: int) -> bool:\n",
    "        if val in self.val_to_index:\n",
    "            return False\n",
    "        # Append the value to the list\n",
    "        self.values.append(val)\n",
    "        # Store the index of the value in the dictionary\n",
    "        self.val_to_index[val] = len(self.values) - 1\n",
    "        return True\n",
    "\n",
    "    def remove(self, val: int) -> bool:\n",
    "        if val not in self.val_to_index:\n",
    "            return False\n",
    "        # Get the index of the value to remove\n",
    "        index = self.val_to_index[val]\n",
    "        # Swap the value with the last value in the list\n",
    "        last_val = self.values[-1]\n",
    "        self.values[index] = last_val\n",
    "        # Update the index of the last value in the dictionary\n",
    "        self.val_to_index[last_val] = index\n",
    "        # Remove the last element from the list and delete the value from the dictionary\n",
    "        self.values.pop()\n",
    "        del self.val_to_index[val]\n",
    "        return True\n",
    "\n",
    "    def getRandom(self) -> int:\n",
    "        # Return a random element from the list\n",
    "        return random.choice(self.values)\n"
   ]
  },
  {
   "cell_type": "code",
   "execution_count": null,
   "metadata": {},
   "outputs": [],
   "source": []
  },
  {
   "cell_type": "code",
   "execution_count": null,
   "metadata": {},
   "outputs": [],
   "source": []
  },
  {
   "cell_type": "code",
   "execution_count": null,
   "metadata": {},
   "outputs": [],
   "source": []
  },
  {
   "cell_type": "code",
   "execution_count": null,
   "metadata": {},
   "outputs": [],
   "source": [
    "x= [1,2,3,4]\n",
    "x[2],x[1]=x[1],x[2]\n",
    "\n",
    "print(x)\n",
    "\n",
    "a = x[2]\n",
    "b = x[1]\n",
    "\n",
    "a,b = b,a\n",
    "x\n"
   ]
  },
  {
   "cell_type": "code",
   "execution_count": null,
   "metadata": {},
   "outputs": [],
   "source": []
  },
  {
   "cell_type": "markdown",
   "metadata": {},
   "source": [
    "That's correct! In Python, sets are unordered collections of unique elements. While you can't change the elements in a set directly (since they are immutable), you can remove existing elements and add new ones. Here are some examples of how to manage elements in a set:\n",
    "\n",
    "1. **Adding new items**: Use the `add()` method.\n",
    "   ```python\n",
    "   my_set = {1, 2, 3}\n",
    "   my_set.add(4)  # Adds 4 to the set\n",
    "   print(my_set)  # Output: {1, 2, 3, 4}\n",
    "   ```\n",
    "\n",
    "2. **Removing items**: Use the `remove()` or `discard()` methods.\n",
    "   ```python\n",
    "   my_set.remove(2)  # Removes 2 from the set\n",
    "   # my_set.discard(2)  # Similar to remove, but doesn't raise an error if the item doesn't exist\n",
    "   print(my_set)  # Output: {1, 3, 4}\n",
    "   ```\n",
    "\n",
    "3. **Clearing the set**: Use `clear()` to remove all items.\n",
    "   ```python\n",
    "   my_set.clear()\n",
    "   print(my_set)  # Output: set()\n",
    "   ```\n",
    "\n",
    "You can add and remove items freely, just not modify them directly."
   ]
  },
  {
   "cell_type": "markdown",
   "metadata": {},
   "source": []
  },
  {
   "cell_type": "markdown",
   "metadata": {},
   "source": []
  },
  {
   "cell_type": "markdown",
   "metadata": {},
   "source": [
    "Yes, the **O(1)** average time complexity for `in` checks in sets is due to how sets are implemented using **hash tables**. Here's why this happens:\n",
    "\n",
    "### Hash Tables in Sets:\n",
    "- When you check `if i in nums` for a set, Python uses a **hash function** to compute a hash value for the element `i`.\n",
    "- It then looks for this hash value in the underlying hash table that stores the elements.\n",
    "- Since the hash function directly computes the location in constant time, checking for membership on average takes **O(1)** time.\n",
    "  \n",
    "However, this **O(1)** time is an **average case** scenario. The actual time can vary due to:\n",
    "1. **Collisions**: When two elements have the same hash value (though rare), it may take longer to resolve the collision, leading to multiple comparisons. This can degrade the complexity to **O(n)** in the worst case.\n",
    "2. **Load Factor**: As the set grows, it may need to resize and rehash its elements. During resizing, the performance can briefly degrade, but this is amortized across operations.\n",
    "\n",
    "Thus, under typical conditions, **`in` checks on sets are O(1)** on average due to the efficiency of hash table lookups."
   ]
  },
  {
   "cell_type": "code",
   "execution_count": null,
   "metadata": {},
   "outputs": [],
   "source": []
  },
  {
   "cell_type": "code",
   "execution_count": null,
   "metadata": {},
   "outputs": [],
   "source": []
  },
  {
   "cell_type": "code",
   "execution_count": null,
   "metadata": {},
   "outputs": [],
   "source": []
  },
  {
   "cell_type": "code",
   "execution_count": null,
   "metadata": {},
   "outputs": [],
   "source": []
  },
  {
   "cell_type": "markdown",
   "metadata": {},
   "source": [
    "# 238. Product of Array Except Self\n",
    "Medium\n",
    "Topics\n",
    "Companies\n",
    "Hint\n",
    "\n",
    "Given an integer array nums, return an array answer such that answer[i] is equal to the product of all the elements of nums except nums[i].\n",
    "\n",
    "The product of any prefix or suffix of nums is guaranteed to fit in a 32-bit integer.\n",
    "\n",
    "You must write an algorithm that runs in O(n) time and without using the division operation."
   ]
  },
  {
   "cell_type": "markdown",
   "metadata": {},
   "source": []
  },
  {
   "cell_type": "code",
   "execution_count": null,
   "metadata": {},
   "outputs": [],
   "source": []
  },
  {
   "cell_type": "code",
   "execution_count": 1,
   "metadata": {},
   "outputs": [],
   "source": [
    "nums = [1,2,3,4]\n",
    "Output= [24,12,8,6]\n",
    "\n"
   ]
  },
  {
   "cell_type": "code",
   "execution_count": null,
   "metadata": {},
   "outputs": [],
   "source": [
    "def product_except_self(nums):\n",
    "    n = len(nums)\n",
    "    prefix_array = [1] * n  # Initialize the result array with 1s\n",
    "    postfix_array = [1] * n  # Initialize the result array with 1s\n",
    "    result = [1] * n  # Initialize the result array with 1s\n",
    "\n",
    "    prefix = 1\n",
    "    \n",
    "    for i in range(n):\n",
    "        prefix_array[i] = prefix\n",
    "        prefix *= nums[i]\n",
    "\n",
    "    # return prefix_array\n",
    "    postfix =1\n",
    "\n",
    "    for i in range(n-1, -1, -1):\n",
    "        postfix_array[i] = postfix\n",
    "        postfix *= nums[i]\n",
    "    \n",
    "\n",
    "    for i in range(n):\n",
    "        result[i] = prefix_array[i] * postfix_array[i]\n",
    "\n",
    "    return prefix_array, postfix_array, result\n",
    "\n",
    "# Example usage:\n",
    "nums = [1, 2, 3, 4]\n",
    "print(product_except_self(nums))  # Output: [24, 12, 8, 6]\n"
   ]
  },
  {
   "cell_type": "code",
   "execution_count": null,
   "metadata": {},
   "outputs": [],
   "source": [
    "def product_except_self(nums):\n",
    "    n = len(nums)\n",
    "    result = [1] * n  # Initialize the result array with 1s\n",
    "\n",
    "    prefix = 1\n",
    "\n",
    "    for i in range(n):\n",
    "        result[i] =prefix\n",
    "        prefix *= nums[i]\n",
    "\n",
    "\n",
    "    print(f\"{result}\")\n",
    "        \n",
    "    postfix = 1\n",
    "    for i in range(n-1, -1, -1):\n",
    "        result[i] *= postfix\n",
    "        postfix *= nums[i]\n",
    "    print(f\"{result}\")\n",
    "    return result\n",
    "# Example usage:\n",
    "nums = [1, 2, 3, 4]\n",
    "print(product_except_self(nums))  # Output: [24, 12, 8, 6]"
   ]
  },
  {
   "cell_type": "code",
   "execution_count": null,
   "metadata": {},
   "outputs": [],
   "source": []
  },
  {
   "cell_type": "code",
   "execution_count": null,
   "metadata": {},
   "outputs": [],
   "source": []
  },
  {
   "cell_type": "markdown",
   "metadata": {},
   "source": [
    "# 88. Merge Sorted Array\n",
    "You are given two integer arrays nums1 and nums2, sorted in non-decreasing order, and two integers m and n, representing the number of elements in nums1 and nums2 respectively.\n",
    "\n",
    "Merge nums1 and nums2 into a single array sorted in non-decreasing order.\n",
    "\n",
    "The final sorted array should not be returned by the function, but instead be stored inside the array nums1. To accommodate this, nums1 has a length of m + n, where the first m elements denote the elements that should be merged, and the last n elements are set to 0 and should be ignored. nums2 has a length of n.\n"
   ]
  },
  {
   "cell_type": "code",
   "execution_count": 2,
   "metadata": {},
   "outputs": [],
   "source": [
    "nums1 = [1,2,3,0,0,0]; m = 3; nums2 = [2,5,6]; n = 3"
   ]
  },
  {
   "cell_type": "code",
   "execution_count": null,
   "metadata": {},
   "outputs": [],
   "source": [
    "nums1 = [1,2,3,0,0,0]; m = 3; nums2 = [2,5,6]; n = 3\n",
    "\n",
    "\n",
    "\n",
    "# arrays are sorted\n",
    "p1 = m-1;# end of nums1,excluding extra values\n",
    "p2 = n-1;# end of nums2\n",
    "\n",
    "p = m+n-1 # including extra values\n",
    "\n",
    "\n",
    "\n",
    "while(p2>=0):\n",
    "    print(f\"{p1=}; {p2=}; {p=}\")\n",
    "\n",
    "    if nums2[p2]>nums1[p1]:\n",
    "        nums1[p]= nums2[p2]\n",
    "        \n",
    "        p2-=1\n",
    "        p1-=1\n",
    "\n",
    "    else:\n",
    "        nums1[p]= nums1[p1]\n",
    "        nums1[p1]=nums2[p2]\n",
    "        \n",
    "        p1-=1\n",
    "        p2-=1\n",
    "    p-=1\n",
    "    print(nums1)\n",
    "\n",
    "# nums1"
   ]
  },
  {
   "cell_type": "code",
   "execution_count": null,
   "metadata": {},
   "outputs": [],
   "source": [
    "nums1 = [1,2,3,0,0,0]\n",
    "m = 3\n",
    "nums2 = [2,5,6]\n",
    "n = 3\n",
    "\n",
    "# pointers\n",
    "last = m + n - 1  # end of nums1 (including extra 0s)\n",
    "\n",
    "\n",
    "\n",
    "# Start merging from the back\n",
    "while m > 0 and n>0:\n",
    "    print(f\"{p1=}; {p2=}; {p=}\")\n",
    "\n",
    "    if nums1[m-1] > nums2[n-1]:\n",
    "        nums1[last] = nums1[m-1]  # Place the larger element from nums1\n",
    "        m-=1\n",
    "    else:\n",
    "        nums1[last] = nums2[n-1]  # Place the element from nums2\n",
    "        n -= 1\n",
    "    last -= 1  # Move the pointer in nums1\n",
    "\n",
    "\n",
    "while(n>0):\n",
    "    nums1[last]= nums2[n-1]\n",
    "    n, last=n-1, last-1\n",
    "print(nums1)\n"
   ]
  },
  {
   "cell_type": "code",
   "execution_count": null,
   "metadata": {},
   "outputs": [],
   "source": []
  },
  {
   "cell_type": "code",
   "execution_count": null,
   "metadata": {},
   "outputs": [],
   "source": [
    "def merge(nums1, m, nums2, n):\n",
    "    # Start merging from the back\n",
    "    p1 = m - 1  # Last index of the valid part of nums1\n",
    "    p2 = n - 1  # Last index of nums2\n",
    "    p = m + n - 1  # Last index of nums1 (the full array with extra zeros)\n",
    "    \n",
    "    # While there are elements in both nums1 and nums2\n",
    "    while p1 >= 0 and p2 >= 0:\n",
    "        if nums1[p1] > nums2[p2]:\n",
    "            nums1[p] = nums1[p1]\n",
    "            p1 -= 1\n",
    "        else:\n",
    "            nums1[p] = nums2[p2]\n",
    "            p2 -= 1\n",
    "        p -= 1\n",
    "    \n",
    "    # If nums2 is not fully merged, add the remaining elements of nums2\n",
    "    # If nums1 is already fully processed, we don't need to copy nums1 as it's already in place\n",
    "    nums1[:p2 + 1] = nums2[:p2 + 1]\n"
   ]
  },
  {
   "cell_type": "code",
   "execution_count": null,
   "metadata": {},
   "outputs": [],
   "source": []
  },
  {
   "cell_type": "code",
   "execution_count": null,
   "metadata": {},
   "outputs": [],
   "source": []
  },
  {
   "cell_type": "code",
   "execution_count": null,
   "metadata": {},
   "outputs": [],
   "source": []
  },
  {
   "cell_type": "code",
   "execution_count": null,
   "metadata": {},
   "outputs": [],
   "source": []
  },
  {
   "cell_type": "code",
   "execution_count": null,
   "metadata": {},
   "outputs": [],
   "source": [
    "nums1 = [1,2,3,0,0,0]\n",
    "m = 3\n",
    "nums2 = [2,5,6]\n",
    "n = 3\n",
    "\n",
    "# pointers\n",
    "p1 = m - 1  # end of nums1 (excluding extra 0s)\n",
    "p2 = n - 1  # end of nums2\n",
    "p = m + n - 1  # end of nums1 (including extra 0s)\n",
    "\n",
    "# Start merging from the back\n",
    "while p2 >= 0:\n",
    "    print(f\"{p1=}; {p2=}; {p=}\")\n",
    "\n",
    "    if p1 >= 0 and nums1[p1] > nums2[p2]:\n",
    "        nums1[p] = nums1[p1]  # Place the larger element from nums1\n",
    "        p1 -= 1\n",
    "    else:\n",
    "        nums1[p] = nums2[p2]  # Place the element from nums2\n",
    "        p2 -= 1\n",
    "    p -= 1  # Move the pointer in nums1\n",
    "\n",
    "    print(nums1)\n"
   ]
  },
  {
   "cell_type": "code",
   "execution_count": null,
   "metadata": {},
   "outputs": [],
   "source": []
  },
  {
   "cell_type": "code",
   "execution_count": null,
   "metadata": {},
   "outputs": [],
   "source": []
  },
  {
   "cell_type": "markdown",
   "metadata": {},
   "source": [
    "# 58. Length of Last Word\n",
    "Given a string s consisting of words and spaces, return the length of the last word in the string.\n",
    "\n",
    "A word is a maximal\n",
    "substring\n",
    "consisting of non-space characters only."
   ]
  },
  {
   "cell_type": "code",
   "execution_count": null,
   "metadata": {},
   "outputs": [],
   "source": [
    "s = \"  Hello World  \"\n",
    "\n",
    "len(s.strip().split()[-1])"
   ]
  },
  {
   "cell_type": "code",
   "execution_count": null,
   "metadata": {},
   "outputs": [],
   "source": []
  },
  {
   "cell_type": "code",
   "execution_count": null,
   "metadata": {},
   "outputs": [],
   "source": []
  },
  {
   "cell_type": "markdown",
   "metadata": {},
   "source": [
    "# 392. Is Subsequence\n",
    "\n",
    "Given two strings s and t, return true if s is a subsequence of t, or false otherwise.\n",
    "\n",
    "A subsequence of a string is a new string that is formed from the original string by deleting some (can be none) of the characters without disturbing the relative positions of the remaining characters. (i.e., \"ace\" is a subsequence of \"abcde\" while \"aec\" is not)."
   ]
  },
  {
   "cell_type": "code",
   "execution_count": null,
   "metadata": {},
   "outputs": [],
   "source": [
    "s = \"abc\"; t = \"ahbgdc\"\n",
    "\n",
    "\n",
    "index= 0 \n",
    "for i in range(len(t)):\n",
    "    if s[index] == t[i]:\n",
    "        print(f\"{s[index]=}; {t[i]=}\")\n",
    "        index+=1 "
   ]
  },
  {
   "cell_type": "code",
   "execution_count": null,
   "metadata": {},
   "outputs": [],
   "source": [
    "s_pointer, t_pointer = 0, 0\n",
    "\n",
    "while(s_pointer< len(s) and t_pointer< len(t)):\n",
    "    if s[s_pointer] == t[t_pointer]:\n",
    "        # print(f\"{s[s_pointer]=}, {t[t_pointer]=}\")\n",
    "        s_pointer+=1\n",
    "    t_pointer+=1\n",
    "\n",
    "\n",
    "print(s_pointer == len(s))\n",
    "\n",
    "\n"
   ]
  },
  {
   "cell_type": "code",
   "execution_count": null,
   "metadata": {},
   "outputs": [],
   "source": []
  },
  {
   "cell_type": "code",
   "execution_count": null,
   "metadata": {},
   "outputs": [],
   "source": []
  },
  {
   "cell_type": "markdown",
   "metadata": {},
   "source": [
    "# 14. Longest Common Prefix\n"
   ]
  },
  {
   "cell_type": "code",
   "execution_count": 34,
   "metadata": {},
   "outputs": [],
   "source": [
    "strs = [\"flower\",\"flow\",\"floight\"]\n",
    "# Output: \"fl\""
   ]
  },
  {
   "cell_type": "code",
   "execution_count": null,
   "metadata": {},
   "outputs": [],
   "source": [
    "prefix=\"\"\n",
    "s = len(strs)\n",
    "s = len(min(strs, key=len))# length of shortest word\n",
    "index = 0\n",
    "for i in range(s):\n",
    "    contains = True\n",
    "    current = strs[0][i]\n",
    "    # print(f\"{current=}\")\n",
    "    for w in strs:\n",
    "        if w[i] == current:\n",
    "        #  print(f\"{current=}, {w=}\")\n",
    "         pass\n",
    "        else: \n",
    "           contains =False\n",
    "           break;\n",
    "\n",
    "    if contains:\n",
    "        prefix+=current\n",
    "    print(f\"{prefix=}\")\n",
    "# for w in strs:\n",
    "\n"
   ]
  },
  {
   "cell_type": "code",
   "execution_count": null,
   "metadata": {},
   "outputs": [],
   "source": [
    "min(strs, key=len)"
   ]
  },
  {
   "cell_type": "code",
   "execution_count": null,
   "metadata": {},
   "outputs": [],
   "source": [
    "prefix=[]\n",
    "s = len(min(strs, key=len))# length of shortest word\n",
    "for i in range(s):\n",
    "    contains = True\n",
    "    current = strs[0][i]\n",
    "    # print(f\"{current=}\")\n",
    "    for w in strs:\n",
    "        if w[i] != current:\n",
    "           contains =False\n",
    "           break;\n",
    "    if contains:\n",
    "        prefix.append(current)\n",
    "print(f\"{prefix=}\")\n",
    "# for w in strs:\n",
    "\n"
   ]
  },
  {
   "cell_type": "code",
   "execution_count": null,
   "metadata": {},
   "outputs": [],
   "source": [
    "def longestCommonPrefix(strs):\n",
    "    if not strs:\n",
    "        return \"\"\n",
    "\n",
    "    # Find the shortest word in the list (to limit the comparison)\n",
    "    shortest_word = min(strs, key=len)\n",
    "    \n",
    "    # Initialize the result prefix\n",
    "    prefix = \"\"\n",
    "\n",
    "    # Loop through the characters of the shortest word\n",
    "    for i in range(len(shortest_word)):\n",
    "        current_char = shortest_word[i]\n",
    "        \n",
    "        # Check if all words have the same character at position i\n",
    "        if all(word[i] == current_char for word in strs):\n",
    "            prefix += current_char\n",
    "        else:\n",
    "            break  # Exit early if a mismatch is found\n",
    "\n",
    "    return prefix\n",
    "\n",
    "# Example usage:\n",
    "strs = [\"flower\", \"flow\", \"flight\"]\n",
    "result = longestCommonPrefix(strs)\n",
    "print(f\"Longest Common Prefix: {result}\")\n"
   ]
  },
  {
   "cell_type": "code",
   "execution_count": null,
   "metadata": {},
   "outputs": [],
   "source": []
  },
  {
   "cell_type": "code",
   "execution_count": null,
   "metadata": {},
   "outputs": [],
   "source": []
  },
  {
   "cell_type": "code",
   "execution_count": null,
   "metadata": {},
   "outputs": [],
   "source": []
  },
  {
   "cell_type": "code",
   "execution_count": null,
   "metadata": {},
   "outputs": [],
   "source": []
  },
  {
   "cell_type": "code",
   "execution_count": null,
   "metadata": {},
   "outputs": [],
   "source": []
  },
  {
   "cell_type": "markdown",
   "metadata": {},
   "source": [
    "# 134. Gas Station\n"
   ]
  },
  {
   "cell_type": "code",
   "execution_count": null,
   "metadata": {},
   "outputs": [],
   "source": [
    "gas = [1,2,3,4,5]; cost = [3,4,5,1,2]\n",
    "\n",
    "gas = [2,3,4]; cost = [3,4,3]\n",
    "if sum(gas) >= sum(cost):\n",
    "    print(\"ENOUGH GAS\")\n",
    "else:\n",
    "    print(\"NOT ENOUGH GAS\")\n",
    "\n",
    "\n",
    "import numpy as np\n",
    "\n",
    "gas = np.array(gas)\n",
    "cost = np.array(cost)\n",
    "\n",
    "diff = gas -cost\n",
    "print(f\"{diff=}, {sum(diff)=}\")\n",
    "# max(diff)\n",
    "[np.argmax(diff)]\n"
   ]
  },
  {
   "cell_type": "code",
   "execution_count": 35,
   "metadata": {},
   "outputs": [],
   "source": [
    "\n",
    "\n",
    "def canCompleteCircuit(gas, cost):\n",
    "    if sum(gas) < sum(cost):\n",
    "        return -1\n",
    "\n",
    "    # diff = [g - c for g, c in zip(gas, cost)]\n",
    "    # print(f\"diff = {diff}, sum(diff) = {sum(diff)}\")\n",
    "\n",
    "\n",
    "    # whenever \n",
    "    strat=0\n",
    "    total=0\n",
    "    # Find the index of the maximum value in diff\n",
    "    for i in range(len(gas)):\n",
    "        total+=(gas[i] - cost[i])\n",
    "        if total<0:\n",
    "            total =0\n",
    "            start=i+1\n",
    "\n",
    "\n",
    "\n",
    "    \n",
    "\n",
    "    \n",
    "    \n",
    "\n",
    "\n",
    "            \n",
    "            \n",
    "gas = [1,2,3,4,5]; cost = [3,4,5,1,2]\n",
    "\n",
    "# gas = [2,3,4]; cost = [3,4,3]\n",
    "\n",
    "\n",
    "\n",
    "\n",
    "canCompleteCircuit(gas, cost)"
   ]
  },
  {
   "cell_type": "code",
   "execution_count": null,
   "metadata": {},
   "outputs": [],
   "source": []
  },
  {
   "cell_type": "code",
   "execution_count": null,
   "metadata": {},
   "outputs": [],
   "source": []
  },
  {
   "cell_type": "code",
   "execution_count": null,
   "metadata": {},
   "outputs": [],
   "source": [
    "\n",
    "# we are just trying to find index starting from whihch sum of all numbers after that is +ve\n",
    "gas = [1,2,3,4,5]; cost = [3,4,5,1,2]\n",
    "\n",
    "# gas = [2,3,4]; cost = [3,4,3]\n",
    "\n",
    "def canCompleteCircuit(gas , cost):\n",
    "    print(f\"{gas  = };  \\n{cost = }\")\n",
    "    if sum(gas) < sum(cost):\n",
    "        return -1\n",
    "    total=0\n",
    "    starting_index =  0\n",
    "    for g,c in zip(gas, cost):\n",
    "        total+=(g-c)\n",
    "        print(f\"{(g+c)=}, {total=}\")\n",
    "        if total<0:\n",
    "            total=0\n",
    "            starting_index+=1\n",
    "\n",
    "    return starting_index\n",
    "\n",
    "canCompleteCircuit(gas, cost)"
   ]
  },
  {
   "cell_type": "markdown",
   "metadata": {},
   "source": [
    "### # we are just trying to find index starting from whihch sum of all numbers after that is +ve\n"
   ]
  },
  {
   "cell_type": "code",
   "execution_count": null,
   "metadata": {},
   "outputs": [],
   "source": [
    "\n",
    "\n",
    "class Solution:\n",
    "    def canCompleteCircuit(self, gas, cost) -> int:\n",
    "        if sum(gas) < sum(cost):\n",
    "            return -1\n",
    "        \n",
    "        total = 0\n",
    "        starting_index = 0\n",
    "        current_gas = 0\n",
    "        \n",
    "        for i in range(len(gas)):\n",
    "            current_gas += gas[i] - cost[i]\n",
    "            print(f\"\\t{current_gas=}; {starting_index=}\")\n",
    "            if current_gas < 0:\n",
    "                print(f\"{starting_index=}\")\n",
    "                # If you can't complete the trip from current start\n",
    "                starting_index = i + 1  # Set the next index as the new starting point\n",
    "                current_gas = 0  # Reset the current gas to 0\n",
    "        \n",
    "        return starting_index\n",
    "    \n",
    "s =Solution()\n",
    "s.canCompleteCircuit(gas, cost)\n"
   ]
  },
  {
   "cell_type": "code",
   "execution_count": null,
   "metadata": {},
   "outputs": [],
   "source": [
    "class Solution:\n",
    "    def canCompleteCircuit(self, gas: List[int], cost: List[int]) -> int:\n",
    "        if sum(gas) < sum(cost):\n",
    "            return -1\n",
    "        \n",
    "        total = 0\n",
    "        starting_index = 0\n",
    "        current_gas = 0\n",
    "        \n",
    "        for i, (g, c) in enumerate(zip(gas, cost)):\n",
    "            current_gas += g - c\n",
    "            if current_gas < 0:\n",
    "                # If you can't complete the trip from current start\n",
    "                starting_index = i + 1  # Set the next index as the new starting point\n",
    "                current_gas = 0  # Reset the current gas to 0\n",
    "        \n",
    "        return starting_index\n"
   ]
  },
  {
   "cell_type": "code",
   "execution_count": null,
   "metadata": {},
   "outputs": [],
   "source": []
  },
  {
   "cell_type": "code",
   "execution_count": null,
   "metadata": {},
   "outputs": [],
   "source": []
  },
  {
   "cell_type": "markdown",
   "metadata": {},
   "source": [
    "# 3. Longest Substring Without Repeating Characters\n",
    "Given a string s, find the length of the longest\n",
    "substring"
   ]
  },
  {
   "cell_type": "code",
   "execution_count": 38,
   "metadata": {},
   "outputs": [],
   "source": [
    "s = \"abcabcbb\"\n",
    "s = \"bbbbb\"\n",
    "s = \"pwwkew\"\n",
    "target = 3"
   ]
  },
  {
   "cell_type": "code",
   "execution_count": null,
   "metadata": {},
   "outputs": [],
   "source": [
    "index = 0\n",
    "subsets = []\n",
    "subset=\"\"\n",
    "for i in range(len(s)):\n",
    "    if s[i] not in subset:\n",
    "        subset+=s[i]\n",
    "        print(f\"{i=}; {index=};{s[i]=}; {s[index:i]=}; {subset=}\")\n",
    "    else:\n",
    "        \n",
    "        subsets.append(subset)\n",
    "        subset=\"\"\n",
    "        index +=1\n",
    "subsets.append(subset)\n",
    "\n",
    "print(f\"{subsets=}\")"
   ]
  },
  {
   "cell_type": "code",
   "execution_count": 26,
   "metadata": {},
   "outputs": [],
   "source": [
    "s = \"abcabcbb\"\n",
    "# s = \"bbbbb\"\n",
    "# s = \"pwwkew\"\n",
    "target = 3"
   ]
  },
  {
   "cell_type": "code",
   "execution_count": null,
   "metadata": {},
   "outputs": [],
   "source": [
    "index =0\n",
    "\n",
    "length = len(s)\n",
    "print(f\"{length=}\")\n",
    "subsets=[]\n",
    "i = 0\n",
    "subset=\"\"\n",
    "while(i< length):\n",
    "    # print(f\"{s[index:i]=}\")\n",
    "    # subset+=s[i]\n",
    "    # index+=1\n",
    "    print(f\"{s[i]=}\")\n",
    "\n",
    "    if s[i] in subset or i == length-1:\n",
    "        print(f\"\\t\\t### {subset=}\")\n",
    "        subsets.append(subset)\n",
    "        index+=1\n",
    "        i = index\n",
    "        print(f\"\\t\\t{index=}; {i=}; {subset=}\")\n",
    "        subset=\"\"\n",
    "    else:\n",
    "        subset+=s[i]\n",
    "        i+=1\n",
    "\n",
    "\n",
    "print(f\"{subsets=}\")\n",
    "\n",
    "\n",
    "\n",
    "\n"
   ]
  },
  {
   "cell_type": "code",
   "execution_count": null,
   "metadata": {},
   "outputs": [],
   "source": [
    "index =0\n",
    "s=\"au\"\n",
    "length = len(s)\n",
    "print(f\"{length=}\")\n",
    "subsets=[]\n",
    "i = 0\n",
    "max_length = 0\n",
    "subset=\"\"\n",
    "subset_lengths =[]\n",
    "subset_length = 0\n",
    "while(i< length):\n",
    "    # print(f\"{s[index:i]=}\")\n",
    "    # subset+=s[i]\n",
    "    # index+=1\n",
    "    print(f\"{s[i]=}\")\n",
    "\n",
    "    if s[i] in subset or i == length-1:\n",
    "        print(f\"\\t\\t### {subset=}\")\n",
    "        subset_length = i - index\n",
    "        max_length = max(i-index, max_length)\n",
    "        subset_lengths.append(subset_length)\n",
    "        subsets.append(subset)\n",
    "        index+=1\n",
    "        i = index\n",
    "        print(f\"\\t\\t{index=}; {i=}; {subset=}\")\n",
    "        subset=\"\"\n",
    "    else:\n",
    "        subset+=s[i]\n",
    "        i+=1\n",
    "\n",
    "\n",
    "print(f\"{subsets=}, {subset_lengths}, {max_length=}\")\n"
   ]
  },
  {
   "cell_type": "code",
   "execution_count": null,
   "metadata": {},
   "outputs": [],
   "source": []
  },
  {
   "cell_type": "code",
   "execution_count": null,
   "metadata": {},
   "outputs": [],
   "source": [
    "index =0\n",
    "\n",
    "length = len(s)\n",
    "subset =\"\"\n",
    "set_len = len(set(s))\n",
    "\n",
    "i = 0\n",
    "max_length = 0\n",
    "while(i< length):\n",
    "    if s[i] in subset or i == length-1:\n",
    "        max_length = max(i-index, max_length)\n",
    "        if max_length == set_len:\n",
    "            print(f\"Resturn\")\n",
    "        index+=1\n",
    "        i = index\n",
    "        subset=\"\"\n",
    "    else:\n",
    "        subset+=s[i]\n",
    "        i+=1\n",
    "\n",
    "\n",
    "print(f\"{subsets=}, {subset_lengths}, {max_length=}\")"
   ]
  },
  {
   "cell_type": "code",
   "execution_count": null,
   "metadata": {},
   "outputs": [],
   "source": [
    "def longest_sbstr(s):\n",
    "    index =0\n",
    "\n",
    "    subset=\"\"\n",
    "    length = len(s)\n",
    "    set_len = len(set(s))\n",
    "\n",
    "    if set_len<2:\n",
    "        return set_len\n",
    "    print(f\"{length=}; {set_len=}\")\n",
    "    i = 0\n",
    "    max_length = 0\n",
    "    while(i< length):\n",
    "        print(f\"{subset=}\")\n",
    "        if s[i] in subset or i == length-1:\n",
    "            max_length = max(i-index, max_length)\n",
    "            if max_length == set_len:\n",
    "                # print(f\"returned\")\n",
    "                return max_length\n",
    "            index+=1\n",
    "            i = index\n",
    "            subset=\"\"\n",
    "        else:\n",
    "            subset+=s[i]\n",
    "            i+=1\n",
    "\n",
    "    # print(f\"{subsets=}, {subset_lengths=}, {max_length=}\")\n",
    "    return max_length\n",
    "\n",
    "s = \"au\"\n",
    "longest_sbstr(s)\n",
    "\n"
   ]
  },
  {
   "cell_type": "code",
   "execution_count": null,
   "metadata": {},
   "outputs": [],
   "source": [
    "s = [\"\", \" \", \"  \"]\n",
    "s"
   ]
  },
  {
   "cell_type": "code",
   "execution_count": null,
   "metadata": {},
   "outputs": [],
   "source": [
    "set(s)"
   ]
  },
  {
   "cell_type": "code",
   "execution_count": null,
   "metadata": {},
   "outputs": [],
   "source": [
    "for i in s:\n",
    "    print(f\"|{i}|\")"
   ]
  },
  {
   "cell_type": "code",
   "execution_count": null,
   "metadata": {},
   "outputs": [],
   "source": [
    "def longest_sbstr(s):\n",
    "    index = 0\n",
    "    subset = \"\"\n",
    "    length = len(s)\n",
    "    set_len = len(set(s))\n",
    "\n",
    "    if set_len < 2:\n",
    "        return set_len\n",
    "\n",
    "    print(f\"{length=}; {set_len=}\")\n",
    "    i = 0\n",
    "    max_length = 0\n",
    "\n",
    "    while i < length:\n",
    "        print(f\"{subset=}\")\n",
    "\n",
    "        if s[i] in subset:\n",
    "            max_length = max(i - index, max_length)\n",
    "\n",
    "            if max_length == set_len:\n",
    "                return max_length\n",
    "\n",
    "            index += 1\n",
    "            i = index\n",
    "            subset = \"\"\n",
    "        else:\n",
    "            subset += s[i]\n",
    "            i += 1\n",
    "    max_length = max(i - index, max_length)\n",
    "\n",
    "    return max_length  # Return max_length without extra print\n",
    "\n",
    "# Example usage\n",
    "s = \"au\"\n",
    "print(longest_sbstr(s))\n"
   ]
  },
  {
   "cell_type": "markdown",
   "metadata": {},
   "source": []
  },
  {
   "cell_type": "markdown",
   "metadata": {},
   "source": [
    "### you have to capture last substring separrately"
   ]
  },
  {
   "cell_type": "code",
   "execution_count": null,
   "metadata": {},
   "outputs": [],
   "source": [
    "def longest_sbstr(s):\n",
    "    index = 0\n",
    "    subset = \"\"\n",
    "    length = len(s)\n",
    "    set_len = len(set(s))\n",
    "\n",
    "    if set_len < 2:\n",
    "        return length  # Return the length since there's only one unique character\n",
    "\n",
    "    print(f\"{length=}; {set_len=}\")\n",
    "    i = 0\n",
    "    max_length = 0\n",
    "\n",
    "    while i < length:\n",
    "        print(f\"{subset=}\")\n",
    "\n",
    "        if s[i] in subset:\n",
    "            max_length = max(len(subset), max_length)\n",
    "            index += 1\n",
    "            i = index\n",
    "            subset = \"\"\n",
    "        else:\n",
    "            subset += s[i]\n",
    "            i += 1\n",
    "\n",
    "    # After the loop, check the last formed subset\n",
    "    max_length = max(len(subset), max_length)\n",
    "    return max_length\n",
    "\n",
    "# Example usage\n",
    "s = \"bbbbbb\"\n",
    "print(longest_sbstr(s))  # Output: 2\n"
   ]
  },
  {
   "cell_type": "code",
   "execution_count": null,
   "metadata": {},
   "outputs": [],
   "source": []
  },
  {
   "cell_type": "code",
   "execution_count": null,
   "metadata": {},
   "outputs": [],
   "source": [
    "s = 'abccabcbbd'\n",
    "print(f\"{s=}\")\n",
    "char_set =set()\n",
    "left =0\n",
    "max_length = 0\n",
    "\n",
    "\n",
    "for i in range(len(s)):\n",
    "\n",
    "    while s[i] in char_set:\n",
    "        char_set.remove(s[left])\n",
    "        left+=1\n",
    "        print(f\"\\t\\t\\t subtracted-  {char_set=}\")\n",
    "\n",
    "    char_set.add(s[i])\n",
    "\n",
    "    print(f\"\\t\\t added- {char_set=}\")\n",
    "    max_length = max(max_length, i - left + 1)\n",
    "\n",
    "print(max_length)\n",
    "\n",
    "\n",
    "\n",
    "print(f\"{char_set}\")\n"
   ]
  },
  {
   "cell_type": "code",
   "execution_count": null,
   "metadata": {},
   "outputs": [],
   "source": []
  },
  {
   "cell_type": "code",
   "execution_count": null,
   "metadata": {},
   "outputs": [],
   "source": [
    "class Solution:\n",
    "    def lengthOfLongestSubstring(self, s: str) -> int:\n",
    "        char_set = set()\n",
    "        left = 0\n",
    "        max_length = 0\n",
    "\n",
    "        for right in range(len(s)):\n",
    "            # If the character at 'right' is in the set, shrink the window from the left\n",
    "            while s[right] in char_set:\n",
    "                char_set.remove(s[left])\n",
    "                left += 1\n",
    "            \n",
    "            # Add the current character and update the max length\n",
    "            char_set.add(s[right])\n",
    "            max_length = max(max_length, right - left + 1)\n",
    "\n",
    "        return max_length\n",
    "\n",
    "# Example usage\n",
    "s = \"au\"\n",
    "solution = Solution()\n",
    "print(solution.lengthOfLongestSubstring(s))  # Output: 2\n",
    "\n",
    "\n",
    "\n",
    "s = Solution()\n",
    "\n",
    "s.lengthOfLongestSubstring('au')\n"
   ]
  },
  {
   "cell_type": "markdown",
   "metadata": {},
   "source": [
    "Key Optimizations:\n",
    "\n",
    "    Sliding Window: Instead of starting over when a duplicate is found, the sliding window technique shrinks the window from the left whenever a repeating character is encountered.\n",
    "    Set for Lookup: The char_set ensures that checking for duplicates is O(1)O(1), making the overall complexity linear, O(n)O(n)."
   ]
  },
  {
   "cell_type": "code",
   "execution_count": null,
   "metadata": {},
   "outputs": [],
   "source": []
  },
  {
   "cell_type": "code",
   "execution_count": null,
   "metadata": {},
   "outputs": [],
   "source": []
  },
  {
   "cell_type": "code",
   "execution_count": null,
   "metadata": {},
   "outputs": [],
   "source": []
  },
  {
   "cell_type": "code",
   "execution_count": null,
   "metadata": {},
   "outputs": [],
   "source": []
  },
  {
   "cell_type": "markdown",
   "metadata": {},
   "source": [
    "# 76. Minimum Window Substring\n",
    "\n",
    "Given two strings s and t of lengths m and n respectively, return the minimum window\n",
    "substring\n",
    "of s such that every character in t (including duplicates) is included in the window. If there is no such substring, return the empty string \"\".\n",
    "\n",
    "The testcases will be generated such that the answer is unique."
   ]
  },
  {
   "cell_type": "code",
   "execution_count": null,
   "metadata": {},
   "outputs": [],
   "source": [
    "s = \"ADOBECODEBANC\";t = \"ABC\"\n",
    "target = \"BANC\"\n",
    "s = \"a\"; t = \"aa\"\n",
    "\n",
    "\n",
    "print(f\"{s=}; {t=}\")\n",
    "subsets = []\n",
    "left =0\n",
    "# for right in range(len(s)):\n",
    "right =0 \n",
    "while(right<len(s)):\n",
    "    # print(f\"{left=}, {right=}\")\n",
    "\n",
    "    if all(i in s[left:right+1] for  i in t ):\n",
    "        subsets.append(s[left:right+1])\n",
    "        left+=1\n",
    "        print(f\"\\t\\t{left=}; {right=}; {subsets[-1]=}\")\n",
    "        right = left\n",
    "    else:\n",
    "\n",
    "\n",
    "        right+=1\n",
    "\n",
    "        \n",
    "\n",
    "\n",
    "print(f\"{subsets=}; {min(subsets, key=len)}\")\n",
    "    \n",
    "\n"
   ]
  },
  {
   "cell_type": "code",
   "execution_count": null,
   "metadata": {},
   "outputs": [],
   "source": []
  },
  {
   "cell_type": "code",
   "execution_count": 2,
   "metadata": {},
   "outputs": [
    {
     "data": {
      "text/plain": [
       "True"
      ]
     },
     "execution_count": 2,
     "metadata": {},
     "output_type": "execute_result"
    }
   ],
   "source": [
    "def counting_dict(s):\n",
    "    count_dict= {}\n",
    "\n",
    "    for i in s:\n",
    "        count_dict[i] =count_dict.get(i, 0)+1\n",
    "    return count_dict\n",
    "\n",
    "\n",
    "def comparing_dict(s_dict, t_dict):\n",
    "    # print(f\"{s_dict=}; {t_dict=}\")\n",
    "\n",
    "    return all (s_dict[t_key]>=t_dict[t_key] if t_key in s_dict else 0 for t_key in t_dict )\n",
    "\n",
    "comparing_dict(counting_dict(\"ABACDDOO\"), counting_dict(\"ABCDO\"))"
   ]
  },
  {
   "cell_type": "code",
   "execution_count": 25,
   "metadata": {},
   "outputs": [
    {
     "name": "stdout",
     "output_type": "stream",
     "text": [
      "s='ADOBECODEBANC'; t='ABC'\n",
      "target_dict={'A': 1, 'B': 1, 'C': 1}\n",
      "current_subset='ADOBEC', right - left +1 =6; len(current_subset)=6 \n",
      "current_subset='EBANC', right - left +1 =5; len(current_subset)=5 \n",
      "current_subset='BANC', right - left +1 =4; len(current_subset)=4 \n"
     ]
    },
    {
     "data": {
      "text/plain": [
       "'BANC'"
      ]
     },
     "execution_count": 25,
     "metadata": {},
     "output_type": "execute_result"
    }
   ],
   "source": [
    "s = \"ADOBECODEBANC\";t = \"ABC\"\n",
    "target = \"BANC\"\n",
    "# s = \"a\"; t = \"aa\"\n",
    "\n",
    "\n",
    "print(f\"{s=}; {t=}\")\n",
    "length = len(s)\n",
    "\n",
    "target_dict = counting_dict(t)\n",
    "\n",
    "print(f\"{target_dict=}\")\n",
    "right = 0;\n",
    "left = 0\n",
    "subset_set = set()\n",
    "\n",
    "current_subset = s\n",
    "\n",
    "\n",
    "\n",
    "while(right<length):\n",
    "    count_dict = counting_dict(s[left:right+1])\n",
    "    # print(f\"{len(s[left:right+1])=}; {right-left+1=}; {left=}; {right=}\")\n",
    "\n",
    "    # break;\n",
    "    \n",
    "    while comparing_dict(count_dict, target_dict) and left < right:\n",
    "        # current_subset = s[left:right+1]\n",
    "        \n",
    "        if (right-left+1) < len(current_subset):\n",
    "            current_subset = s[left:right+1]\n",
    "            print(f\"{current_subset=}, {right - left +1 =}; {len(current_subset)=} \")\n",
    "\n",
    "        # print(f\"\\n{current_subset=}; {len(current_subset)=};{ right-left+1=}\")\n",
    "\n",
    "\n",
    "        # print(f)\n",
    "        # print(f\"status: { comparing_dict(count_dict, target_dict)}; {s[left:right+1]=}; {left=}; {right=} {count_dict=}; {target_dict=}\")\n",
    "        \n",
    "        left+=1\n",
    "        count_dict = counting_dict(s[left:right+1])\n",
    "    right+=1\n",
    "\n",
    "\n",
    "\n",
    "current_subset\n",
    "\n",
    "\n",
    "\n",
    "\n",
    "   #  print(f\"{s[left:right+1]=}\")\n",
    "\n",
    "\n",
    "    \n",
    "    \n",
    "    \n",
    "    \n",
    "\n",
    "\n"
   ]
  },
  {
   "cell_type": "code",
   "execution_count": null,
   "metadata": {},
   "outputs": [],
   "source": [
    "# "
   ]
  },
  {
   "cell_type": "code",
   "execution_count": null,
   "metadata": {},
   "outputs": [],
   "source": []
  },
  {
   "cell_type": "code",
   "execution_count": null,
   "metadata": {},
   "outputs": [],
   "source": []
  },
  {
   "cell_type": "code",
   "execution_count": null,
   "metadata": {},
   "outputs": [],
   "source": []
  },
  {
   "cell_type": "code",
   "execution_count": 12,
   "metadata": {},
   "outputs": [
    {
     "name": "stdout",
     "output_type": "stream",
     "text": [
      "s='a'; t='aa'\n",
      "target_dict={'a': 2}\n"
     ]
    },
    {
     "data": {
      "text/plain": [
       "''"
      ]
     },
     "execution_count": 12,
     "metadata": {},
     "output_type": "execute_result"
    }
   ],
   "source": [
    "def counting_dict(s):\n",
    "    count_dict= {}\n",
    "\n",
    "    for i in s:\n",
    "        count_dict[i] =count_dict.get(i, 0)+1\n",
    "    return count_dict\n",
    "\n",
    "\n",
    "def comparing_dict(s_dict, t_dict):\n",
    "    # print(f\"{s_dict=}; {t_dict=}\")\n",
    "\n",
    "    return all (s_dict[t_key]>=t_dict[t_key] if t_key in s_dict else 0 for t_key in t_dict )\n",
    "\n",
    "\n",
    "s = \"ADOBECODEBANC\";t = \"ABC\"\n",
    "target = \"BANC\"\n",
    "\n",
    "s = \"a\"; t = \"aa\"\n",
    "\n",
    "print(f\"{s=}; {t=}\")\n",
    "length = len(s)\n",
    "\n",
    "target_dict = counting_dict(t)\n",
    "\n",
    "print(f\"{target_dict=}\")\n",
    "right = 0;\n",
    "left = 0\n",
    "subset_set = set()\n",
    "\n",
    "current_subset = \"\"\n",
    "\n",
    "\n",
    "\n",
    "while(right<length):\n",
    "    count_dict = counting_dict(s[left:right+1])\n",
    "    while comparing_dict(count_dict, target_dict) and left < right:\n",
    "        # current_subset = s[left:right+1]\n",
    "        # count_dict = counting_dict(s[left:right+1])\n",
    "        if not current_subset or (right-left+1) < len(current_subset):\n",
    "            current_subset = s[left:right+1]\n",
    "            print(f\"{current_subset=}, {right - left +1 =}; {len(current_subset)=} \")\n",
    "        left+=1\n",
    "        count_dict = counting_dict(s[left:right+1]) \n",
    "    right+=1\n",
    "\n",
    "\n",
    "\n",
    "current_subset\n"
   ]
  },
  {
   "cell_type": "code",
   "execution_count": null,
   "metadata": {},
   "outputs": [],
   "source": []
  },
  {
   "cell_type": "code",
   "execution_count": 8,
   "metadata": {},
   "outputs": [
    {
     "name": "stdout",
     "output_type": "stream",
     "text": [
      "BANC\n",
      "a\n",
      "\n"
     ]
    }
   ],
   "source": [
    "# optmized from chatgpt\n",
    "def counting_dict(s):\n",
    "\n",
    "    \"\"\"Counts the occurrences of each character in the string s.\"\"\"\n",
    "    count_dict = {}\n",
    "    for char in s:\n",
    "        count_dict[char] = count_dict.get(char, 0) + 1\n",
    "    return count_dict\n",
    "\n",
    "def comparing_dict(s_dict, t_dict):\n",
    "    \"\"\"Checks if s_dict has all characters in t_dict with sufficient counts.\"\"\"\n",
    "    return all(s_dict.get(t_key, 0) >= t_dict[t_key] for t_key in t_dict)\n",
    "\n",
    "def min_window(s, t):\n",
    "    \"\"\"Finds the minimum window substring of s that contains all characters of t.\"\"\"\n",
    "    if not s or not t:\n",
    "        return \"\"\n",
    "\n",
    "    target_dict = counting_dict(t)\n",
    "    current_count = {}\n",
    "    left, right = 0, 0\n",
    "    min_length = float('inf')\n",
    "    min_window = \"\"\n",
    "\n",
    "    while right < len(s):\n",
    "        # Add character from the right pointer to the current_count\n",
    "        current_count[s[right]] = current_count.get(s[right], 0) + 1\n",
    "        \n",
    "        # Check if current window contains all characters of t\n",
    "        while comparing_dict(current_count, target_dict):\n",
    "            # Update min_window if a smaller valid window is found\n",
    "            if right - left + 1 < min_length:\n",
    "                min_length = right - left + 1\n",
    "                min_window = s[left:right + 1]\n",
    "                \n",
    "            # Remove the character at the left pointer from current_count\n",
    "            current_count[s[left]] -= 1\n",
    "            if current_count[s[left]] == 0:\n",
    "                del current_count[s[left]]  # Remove the key if count is 0\n",
    "            left += 1  # Move left pointer to minimize the window\n",
    "\n",
    "        right += 1  # Move right pointer to expand the window\n",
    "\n",
    "    return min_window\n",
    "\n",
    "# Test cases\n",
    "s1 = \"ADOBECODEBANC\"\n",
    "t1 = \"ABC\"\n",
    "print(min_window(s1, t1))  # Output: \"BANC\"\n",
    "\n",
    "s2 = \"a\"\n",
    "t2 = \"a\"\n",
    "print(min_window(s2, t2))  # Output: \"a\"\n",
    "\n",
    "s3 = \"a\"\n",
    "t3 = \"aa\"\n",
    "print(min_window(s3, t3))  # Output: \"\"\n"
   ]
  },
  {
   "cell_type": "code",
   "execution_count": null,
   "metadata": {},
   "outputs": [],
   "source": []
  },
  {
   "cell_type": "code",
   "execution_count": null,
   "metadata": {},
   "outputs": [],
   "source": []
  },
  {
   "cell_type": "code",
   "execution_count": null,
   "metadata": {},
   "outputs": [],
   "source": []
  },
  {
   "cell_type": "code",
   "execution_count": 6,
   "metadata": {},
   "outputs": [
    {
     "name": "stdout",
     "output_type": "stream",
     "text": [
      "BANC\n",
      "\n",
      "\n"
     ]
    },
    {
     "data": {
      "text/plain": [
       "'BANC'"
      ]
     },
     "execution_count": 6,
     "metadata": {},
     "output_type": "execute_result"
    }
   ],
   "source": [
    "# optmizing \n",
    "class Solution:\n",
    "\n",
    "    def counting_dict(self, s):\n",
    "        count_dict= {}\n",
    "\n",
    "        for i in s:\n",
    "            count_dict[i] =count_dict.get(i, 0)+1\n",
    "        return count_dict\n",
    "\n",
    "\n",
    "    def comparing_dict(self, s_dict, t_dict):\n",
    "        # print(f\"{s_dict=}; {t_dict=}\")\n",
    "\n",
    "        return all (s_dict[t_key]>=t_dict[t_key] if t_key in s_dict else 0 for t_key in t_dict )\n",
    "\n",
    "    def minWindow(self, s: str, t: str) -> str:\n",
    "        length = len(s)\n",
    "        target_dict = self.counting_dict(t)\n",
    "        right = 0;\n",
    "        left = 0\n",
    "        current_subset = \"\"\n",
    "        while(right<length):\n",
    "            count_dict = self.counting_dict(s[left:right+1])\n",
    "            while self.comparing_dict(count_dict, target_dict) and left < right:\n",
    "                if not current_subset or (right-left+1) < len(current_subset):\n",
    "                    current_subset = s[left:right+1]\n",
    "                left+=1\n",
    "                count_dict = self.counting_dict(s[left:right+1]) \n",
    "            right+=1\n",
    "        return current_subset\n",
    "    \n",
    "s= Solution()\n",
    "\n",
    "s1 = \"ADOBECODEBANC\"\n",
    "t1 = \"ABC\"\n",
    "print(s.minWindow(s1, t1))  # Output: \"BANC\"\n",
    "\n",
    "s2 = \"a\"\n",
    "t2 = \"a\"\n",
    "print(s.minWindow(s2, t2))  # Output: \"a\"\n",
    "\n",
    "s3 = \"a\"\n",
    "t3 = \"aa\"\n",
    "print(s.minWindow(s3, t3))  # Output: \"\"\n",
    "s.minWindow(s1, t1)\n",
    "\n",
    "        "
   ]
  },
  {
   "cell_type": "code",
   "execution_count": null,
   "metadata": {},
   "outputs": [],
   "source": [
    "class Solution:\n",
    "\n",
    "    def counting_dict(self, s):\n",
    "        count_dict= {}\n",
    "\n",
    "        for i in s:\n",
    "            count_dict[i] =count_dict.get(i, 0)+1\n",
    "        return count_dict\n",
    "\n",
    "\n",
    "    def comparing_dict(self, s_dict, t_dict):\n",
    "        # print(f\"{s_dict=}; {t_dict=}\")\n",
    "\n",
    "        return all (s_dict[t_key]>=t_dict[t_key] if t_key in s_dict else 0 for t_key in t_dict )\n",
    "\n",
    "    def minWindow(self, s: str, t: str) -> str:\n",
    "        length = len(s)\n",
    "        target_dict = self.counting_dict(t)\n",
    "        right = 0;\n",
    "        left = 0\n",
    "        current_subset = \"\"\n",
    "        while(right<length):\n",
    "            count_dict = self.counting_dict(s[left:right+1])\n",
    "            while self.comparing_dict(count_dict, target_dict) and left < right:\n",
    "                if not current_subset or (right-left+1) < len(current_subset):\n",
    "                    current_subset = s[left:right+1]\n",
    "                left+=1\n",
    "                count_dict = self.counting_dict(s[left:right+1]) \n",
    "            right+=1\n",
    "        return current_subset\n",
    "    \n",
    "s= Solution()\n",
    "\n",
    "s1 = \"ADOBECODEBANC\"\n",
    "t1 = \"ABC\"\n",
    "print(s.minWindow(s1, t1))  # Output: \"BANC\"\n",
    "\n",
    "s2 = \"a\"\n",
    "t2 = \"a\"\n",
    "print(s.minWindow(s2, t2))  # Output: \"a\"\n",
    "\n",
    "s3 = \"a\"\n",
    "t3 = \"aa\"\n",
    "print(s.minWindow(s3, t3))  # Output: \"\"\n",
    "s.minWindow(s1, t1)"
   ]
  },
  {
   "cell_type": "code",
   "execution_count": null,
   "metadata": {},
   "outputs": [],
   "source": []
  },
  {
   "cell_type": "code",
   "execution_count": 13,
   "metadata": {},
   "outputs": [
    {
     "name": "stdout",
     "output_type": "stream",
     "text": [
      "BANC\n",
      "a\n",
      "\n"
     ]
    }
   ],
   "source": [
    "class Solution:\n",
    "    def minWindow(self, s: str, t: str) -> str:\n",
    "        if not s or not t:\n",
    "            return \"\"\n",
    "        \n",
    "        # Dictionary to store the character frequencies of `t`\n",
    "        target_dict = {}\n",
    "        for char in t:\n",
    "            target_dict[char] = target_dict.get(char, 0) + 1\n",
    "        \n",
    "        # Number of unique characters in `t` that need to be in the window\n",
    "        required = len(target_dict)\n",
    "        \n",
    "        # Left and right pointer for the window\n",
    "        left, right = 0, 0\n",
    "        \n",
    "        # Dictionary to store the character frequencies in the current window\n",
    "        window_counts = {}\n",
    "        \n",
    "        # Number of characters that match the frequency in `t`\n",
    "        formed = 0\n",
    "        \n",
    "        # To store the result (window length, left pointer, right pointer)\n",
    "        ans = float(\"inf\"), None, None\n",
    "        \n",
    "        while right < len(s):\n",
    "            # Add the character from the right pointer to the window\n",
    "            char = s[right]\n",
    "            window_counts[char] = window_counts.get(char, 0) + 1\n",
    "            \n",
    "            # If the current character's frequency matches the target in `t`, increment formed\n",
    "            if char in target_dict and window_counts[char] == target_dict[char]:\n",
    "                formed += 1\n",
    "            \n",
    "            # Try to contract the window if all characters are matched\n",
    "            while left <= right and formed == required:\n",
    "                char = s[left]\n",
    "                \n",
    "                # Update the result if the current window is smaller\n",
    "                if right - left + 1 < ans[0]:\n",
    "                    ans = (right - left + 1, left, right)\n",
    "                \n",
    "                # Remove the character at the left pointer from the window\n",
    "                window_counts[char] -= 1\n",
    "                if char in target_dict and window_counts[char] < target_dict[char]:\n",
    "                    formed -= 1\n",
    "                \n",
    "                # Move the left pointer to contract the window\n",
    "                left += 1\n",
    "            \n",
    "            # Expand the window by moving the right pointer\n",
    "            right += 1\n",
    "        \n",
    "        # Return the minimum window, or an empty string if no such window exists\n",
    "        return \"\" if ans[0] == float(\"inf\") else s[ans[1]: ans[2] + 1]\n",
    "\n",
    "\n",
    "# Example usage\n",
    "s = Solution()\n",
    "\n",
    "s1 = \"ADOBECODEBANC\"\n",
    "t1 = \"ABC\"\n",
    "print(s.minWindow(s1, t1))  # Output: \"BANC\"\n",
    "\n",
    "s2 = \"a\"\n",
    "t2 = \"a\"\n",
    "print(s.minWindow(s2, t2))  # Output: \"a\"\n",
    "\n",
    "s3 = \"a\"\n",
    "t3 = \"aa\"\n",
    "print(s.minWindow(s3, t3))  # Output: \"\"\n"
   ]
  },
  {
   "cell_type": "code",
   "execution_count": 14,
   "metadata": {},
   "outputs": [
    {
     "name": "stdout",
     "output_type": "stream",
     "text": [
      "BANC\n",
      "a\n",
      "\n"
     ]
    }
   ],
   "source": [
    "# submitted \n",
    "\n",
    "class Solution:\n",
    "    def minWindow(self, s: str, t: str) -> str:\n",
    "        if not s or not t:\n",
    "            return \"\"\n",
    "        \n",
    "        # Dictionary to store the character frequencies of `t`\n",
    "        target_dict = {}\n",
    "        for char in t:\n",
    "            target_dict[char] = target_dict.get(char, 0) + 1\n",
    "        \n",
    "        # Number of unique characters in `t` that need to be in the window\n",
    "        required = len(target_dict)\n",
    "        \n",
    "        # Left and right pointer for the window\n",
    "        left, right = 0, 0\n",
    "        \n",
    "        # Dictionary to store the character frequencies in the current window\n",
    "        window_counts = {}\n",
    "        \n",
    "        # Number of characters that match the frequency in `t`\n",
    "        formed = 0\n",
    "        \n",
    "        # To store the result (window length, left pointer, right pointer)\n",
    "        ans = float(\"inf\"), None, None\n",
    "        \n",
    "        while right < len(s):\n",
    "            # Add the character from the right pointer to the window\n",
    "            char = s[right]\n",
    "            window_counts[char] = window_counts.get(char, 0) + 1\n",
    "            \n",
    "            # If the current character's frequency matches the target in `t`, increment formed\n",
    "            if char in target_dict and window_counts[char] == target_dict[char]:\n",
    "                formed += 1\n",
    "            \n",
    "            # Try to contract the window if all characters are matched\n",
    "            while left <= right and formed == required:\n",
    "                char = s[left]\n",
    "                \n",
    "                # Update the result if the current window is smaller\n",
    "                if right - left + 1 < ans[0]:\n",
    "                    ans = (right - left + 1, left, right)\n",
    "                \n",
    "                # Remove the character at the left pointer from the window\n",
    "                window_counts[char] -= 1\n",
    "                if char in target_dict and window_counts[char] < target_dict[char]:\n",
    "                    formed -= 1\n",
    "                \n",
    "                # Move the left pointer to contract the window\n",
    "                left += 1\n",
    "            \n",
    "            # Expand the window by moving the right pointer\n",
    "            right += 1\n",
    "        \n",
    "        # Return the minimum window, or an empty string if no such window exists\n",
    "        return \"\" if ans[0] == float(\"inf\") else s[ans[1]: ans[2] + 1]\n",
    "\n",
    "\n",
    "# Example usage\n",
    "s = Solution()\n",
    "\n",
    "s1 = \"ADOBECODEBANC\"\n",
    "t1 = \"ABC\"\n",
    "print(s.minWindow(s1, t1))  # Output: \"BANC\"\n",
    "\n",
    "s2 = \"a\"\n",
    "t2 = \"a\"\n",
    "print(s.minWindow(s2, t2))  # Output: \"a\"\n",
    "\n",
    "s3 = \"a\"\n",
    "t3 = \"aa\"\n",
    "print(s.minWindow(s3, t3))  # Output: \"\"\n"
   ]
  },
  {
   "cell_type": "code",
   "execution_count": null,
   "metadata": {},
   "outputs": [],
   "source": [
    "s = \"a\"\n",
    "t = \"aa\"\n",
    "\n",
    "# Initialize count_dict with 0 for each character in t\n",
    "count_dict = {i: 0 for i in t}\n",
    "\n",
    "# This will update the counts, but is less efficient than a loop\n",
    "target_dict = {value: count_dict.get(value, 0) + 1 for value in t}\n",
    "\n",
    "print(f\"{count_dict=}; {target_dict=}\")\n"
   ]
  },
  {
   "cell_type": "code",
   "execution_count": null,
   "metadata": {},
   "outputs": [],
   "source": [
    "s = \"a\"\n",
    "t = \"aa\"\n",
    "\n",
    "# Initialize count_dict with 0 for each character in t\n",
    "count_dict = {i: 0 for i in t}\n",
    "\n",
    "# Increment count for each character in t\n",
    "for i in t:\n",
    "    count_dict[i] = count_dict.get(i, 0) + 1\n",
    "\n",
    "print(f\"{count_dict=}\")\n"
   ]
  },
  {
   "cell_type": "code",
   "execution_count": null,
   "metadata": {},
   "outputs": [],
   "source": []
  },
  {
   "cell_type": "code",
   "execution_count": null,
   "metadata": {},
   "outputs": [],
   "source": []
  },
  {
   "cell_type": "code",
   "execution_count": null,
   "metadata": {},
   "outputs": [],
   "source": [
    "dict1 = {'a': 1, 'b': 2}\n",
    "dict2 = {'a': 1, 'b': 2}\n",
    "dict3 = {'a': 1, 'b': 3}\n",
    "\n",
    "# Check if dict1 and dict2 are equal\n",
    "print(dict1 == dict2)  # Output: True\n",
    "\n",
    "# Check if dict1 and dict3 are equal\n",
    "print(dict1 == dict3)  # Output: False\n"
   ]
  },
  {
   "cell_type": "code",
   "execution_count": null,
   "metadata": {},
   "outputs": [],
   "source": []
  },
  {
   "cell_type": "code",
   "execution_count": null,
   "metadata": {},
   "outputs": [],
   "source": [
    "'A' in s"
   ]
  },
  {
   "cell_type": "code",
   "execution_count": null,
   "metadata": {},
   "outputs": [],
   "source": [
    "s = ['a', 'b', 'c', 'd', 'e']\n",
    "t = ['b', 'c']\n",
    "\n",
    "left = 1\n",
    "right = 4\n",
    "\n",
    "if all(i in s[left:right] for i in t):\n",
    "    print(\"All elements of t are in s[left:right]\")\n",
    "else:\n",
    "    print(\"Not all elements of t are in s[left:right]\")\n",
    "\n",
    "for i in t:\n",
    "    print(i in s[left:right])"
   ]
  },
  {
   "cell_type": "code",
   "execution_count": null,
   "metadata": {},
   "outputs": [],
   "source": []
  },
  {
   "cell_type": "code",
   "execution_count": null,
   "metadata": {},
   "outputs": [],
   "source": [
    "for "
   ]
  },
  {
   "cell_type": "code",
   "execution_count": null,
   "metadata": {},
   "outputs": [],
   "source": []
  },
  {
   "cell_type": "markdown",
   "metadata": {},
   "source": [
    "The difference in results between the loop-based approach and the dictionary comprehension comes from how they process the input.\n",
    "\n",
    "### Let's break down what's happening in each case:\n",
    "\n",
    "#### 1. **Loop-Based Approach**:\n",
    "\n",
    "```python\n",
    "s = \"a\"\n",
    "t = \"aa\"\n",
    "\n",
    "# Initialize an empty dictionary\n",
    "count_dict = {}\n",
    "\n",
    "# Iterate over each character in t\n",
    "for i in t:\n",
    "    # Retrieve the current count of the character from count_dict, defaulting to 0 if it doesn't exist\n",
    "    count_dict[i] = count_dict.get(i, 0) + 1\n",
    "\n",
    "print(count_dict)\n",
    "```\n",
    "\n",
    "Here’s what happens step-by-step:\n",
    "- You initialize an empty dictionary `count_dict`.\n",
    "- The `for` loop iterates over each character in `t`, updating the dictionary for every occurrence.\n",
    "  - When it sees `'a'`, it checks `count_dict.get('a', 0)` (initially `0`), adds `1`, and updates the value in `count_dict`. \n",
    "  - This process repeats for the second `'a'`, updating the count again. \n",
    "\n",
    "The final `count_dict` will correctly show the count of each character in `t`. For `t = \"aa\"`, the result will be:\n",
    "```python\n",
    "count_dict = {'a': 2}\n",
    "```\n",
    "\n",
    "#### 2. **Dictionary Comprehension**:\n",
    "\n",
    "```python\n",
    "s = \"a\"\n",
    "t = \"aa\"\n",
    "\n",
    "# Initialize count_dict with 0 for each character in t\n",
    "count_dict = {i: 0 for i in t}\n",
    "\n",
    "# Use dictionary comprehension to create a new dictionary (target_dict)\n",
    "target_dict = {value: count_dict.get(value, 0) + 1 for value in t}\n",
    "\n",
    "print(f\"{count_dict=}; {target_dict=}\")\n",
    "```\n",
    "\n",
    "Here’s what happens step-by-step:\n",
    "- You first create `count_dict` using `{i: 0 for i in t}`. This initializes every unique character in `t` to `0`. For `t = \"aa\"`, this results in:\n",
    "  ```python\n",
    "  count_dict = {'a': 0}\n",
    "  ```\n",
    "- In the next step, you create `target_dict` using comprehension. The comprehension iterates over each `value` in `t` and adds `1` to the current count in `count_dict`. However, this does **not modify** `count_dict` as comprehensions in Python are a different context, and modifying variables inside comprehensions doesn't affect their outer scope.\n",
    "\n",
    "Thus, `target_dict` will have the following values:\n",
    "```python\n",
    "target_dict = {'a': 1}  # After comprehension\n",
    "```\n",
    "\n",
    "In short:\n",
    "- The **loop-based approach** updates `count_dict` each time the character is processed, and thus correctly counts the occurrences.\n",
    "- The **dictionary comprehension** creates a new dictionary `target_dict` without modifying the original `count_dict`. This is why the count is always `+1` but doesn’t carry over the updates from the previous step.\n",
    "\n",
    "### Conclusion:\n",
    "The dictionary comprehension in this case does **not accumulate counts** because it’s only performing the addition once for each iteration. To accumulate counts as expected, the loop approach should be used.\n",
    "\n",
    "If you're aiming to **update the dictionary** during iteration (which requires accumulating values across multiple passes), the loop is a better choice."
   ]
  },
  {
   "cell_type": "code",
   "execution_count": null,
   "metadata": {},
   "outputs": [],
   "source": [
    "\n",
    "\n"
   ]
  },
  {
   "cell_type": "code",
   "execution_count": null,
   "metadata": {},
   "outputs": [],
   "source": []
  },
  {
   "cell_type": "code",
   "execution_count": 19,
   "metadata": {},
   "outputs": [],
   "source": [
    "s =['a', 'b']\n",
    "\n",
    "for i in s:\n",
    "    if i == 'b':\n",
    "        print(\"matched\")\n",
    "\n",
    "\n",
    "\n",
    "\n",
    "\n",
    "if s[0] == 'b' or s[1]=='b':\n",
    "    print(\"matched\")\n",
    "\n",
    "\n",
    "s ={'a', 'b'}\n",
    "\n",
    "for i in s:\n",
    "    if i == 'b':\n",
    "        print(\"matched\")\n",
    "\n",
    "\n",
    "if s[0] == 'b' or s[1]=='b':\n",
    "    print(\"matched\")"
   ]
  },
  {
   "cell_type": "code",
   "execution_count": null,
   "metadata": {},
   "outputs": [],
   "source": [
    "s =['a', 'b']\n",
    "\n",
    "if 'b' in s:\n",
    "    print(\"matched\")\n",
    "\n",
    "\n",
    "\n",
    "\n",
    "\n",
    "\n",
    "\n",
    "s ={'a', 'b'}\n",
    "\n",
    "if 'b' in s:\n",
    "    print(\"matched\")\n",
    "\n"
   ]
  },
  {
   "cell_type": "code",
   "execution_count": null,
   "metadata": {},
   "outputs": [],
   "source": []
  },
  {
   "cell_type": "code",
   "execution_count": null,
   "metadata": {},
   "outputs": [],
   "source": []
  },
  {
   "cell_type": "code",
   "execution_count": null,
   "metadata": {},
   "outputs": [],
   "source": []
  },
  {
   "cell_type": "code",
   "execution_count": null,
   "metadata": {},
   "outputs": [],
   "source": []
  },
  {
   "cell_type": "markdown",
   "metadata": {},
   "source": [
    "# 11. Container With Most Water\n",
    "You are given an integer array height of length n. There are n vertical lines drawn such that the two endpoints of the ith line are (i, 0) and (i, height[i]).\n",
    "\n",
    "Find two lines that together with the x-axis form a container, such that the container contains the most water.\n",
    "\n",
    "Return the maximum amount of water a container can store.\n",
    "\n",
    "Notice that you may not slant the container.\n",
    "\n"
   ]
  },
  {
   "cell_type": "code",
   "execution_count": 2,
   "metadata": {},
   "outputs": [],
   "source": [
    "height = [1,8,6,2,5,4,8,3,7]\n",
    "target = 49\n",
    "\n"
   ]
  },
  {
   "cell_type": "code",
   "execution_count": 5,
   "metadata": {},
   "outputs": [
    {
     "name": "stdout",
     "output_type": "stream",
     "text": [
      "height[left]=1; height[right]=7; current_area=8\n",
      "height[left]=8; height[right]=7; current_area=49\n",
      "height[left]=8; height[right]=3; current_area=18\n",
      "height[left]=8; height[right]=8; current_area=40\n",
      "height[left]=8; height[right]=4; current_area=16\n",
      "height[left]=8; height[right]=5; current_area=15\n",
      "height[left]=8; height[right]=2; current_area=4\n",
      "height[left]=8; height[right]=6; current_area=6\n"
     ]
    }
   ],
   "source": [
    "left = 0;\n",
    "right = len(height)-1\n",
    "max_area = 0\n",
    "while(left<right):\n",
    "    current_area = min(height[left], height[right])* (right-left)\n",
    "    max_area = max(current_area, max_area)\n",
    "\n",
    "\n",
    "    print(f\"{height[left]=}; {height[right]=}; {current_area=}\")\n",
    "    if height[left]<height[right]:\n",
    "        left +=1\n",
    "    else:\n",
    "        right-=1"
   ]
  },
  {
   "cell_type": "code",
   "execution_count": null,
   "metadata": {},
   "outputs": [],
   "source": []
  },
  {
   "cell_type": "code",
   "execution_count": null,
   "metadata": {},
   "outputs": [],
   "source": []
  },
  {
   "cell_type": "code",
   "execution_count": null,
   "metadata": {},
   "outputs": [],
   "source": []
  },
  {
   "cell_type": "code",
   "execution_count": null,
   "metadata": {},
   "outputs": [],
   "source": []
  },
  {
   "cell_type": "code",
   "execution_count": null,
   "metadata": {},
   "outputs": [],
   "source": []
  },
  {
   "cell_type": "markdown",
   "metadata": {},
   "source": [
    "# 36. Valid Sudoku    "
   ]
  },
  {
   "cell_type": "markdown",
   "metadata": {},
   "source": []
  },
  {
   "cell_type": "code",
   "execution_count": 14,
   "metadata": {},
   "outputs": [
    {
     "data": {
      "text/plain": [
       "[['5', '3', '.', '.', '7', '.', '.', '.', '.'],\n",
       " ['6', '.', '.', '1', '9', '5', '.', '.', '.'],\n",
       " ['.', '9', '8', '.', '.', '.', '.', '6', '.'],\n",
       " ['8', '.', '.', '.', '6', '.', '.', '.', '3'],\n",
       " ['4', '.', '.', '8', '.', '3', '.', '.', '1'],\n",
       " ['7', '.', '.', '.', '2', '.', '.', '.', '6'],\n",
       " ['.', '6', '.', '.', '.', '.', '2', '8', '.'],\n",
       " ['.', '.', '.', '4', '1', '9', '.', '.', '5'],\n",
       " ['.', '.', '.', '.', '8', '.', '.', '7', '9']]"
      ]
     },
     "execution_count": 14,
     "metadata": {},
     "output_type": "execute_result"
    }
   ],
   "source": [
    "board = [[\"5\",\"3\",\".\",\".\",\"7\",\".\",\".\",\".\",\".\"],[\"6\",\".\",\".\",\"1\",\"9\",\"5\",\".\",\".\",\".\"],[\".\",\"9\",\"8\",\".\",\".\",\".\",\".\",\"6\",\".\"],[\"8\",\".\",\".\",\".\",\"6\",\".\",\".\",\".\",\"3\"],[\"4\",\".\",\".\",\"8\",\".\",\"3\",\".\",\".\",\"1\"],[\"7\",\".\",\".\",\".\",\"2\",\".\",\".\",\".\",\"6\"],[\".\",\"6\",\".\",\".\",\".\",\".\",\"2\",\"8\",\".\"],[\".\",\".\",\".\",\"4\",\"1\",\"9\",\".\",\".\",\"5\"],[\".\",\".\",\".\",\".\",\"8\",\".\",\".\",\"7\",\"9\"]]\n",
    "board"
   ]
  },
  {
   "cell_type": "code",
   "execution_count": 15,
   "metadata": {},
   "outputs": [
    {
     "ename": "SyntaxError",
     "evalue": "invalid syntax (3443454875.py, line 11)",
     "output_type": "error",
     "traceback": [
      "\u001b[0;36m  Cell \u001b[0;32mIn[15], line 11\u001b[0;36m\u001b[0m\n\u001b[0;31m    elif item not '.':\u001b[0m\n\u001b[0m                  ^\u001b[0m\n\u001b[0;31mSyntaxError\u001b[0m\u001b[0;31m:\u001b[0m invalid syntax\n"
     ]
    }
   ],
   "source": [
    "def isValidSudoku():\n",
    "    rows, cols =9,9\n",
    "    # 1. valid rows\n",
    "    for i in range(rows):  # rows\n",
    "        s = set()  # for \n",
    "\n",
    "        for j in range(cols):\n",
    "            item = board[i][j]\n",
    "            if item in s:\n",
    "                return False\n",
    "            elif item not '.':\n",
    "                s.add(item)\n",
    "        print(f\"row: {s= }\")\n",
    "\n",
    "    # 2. valid cols\n",
    "    for i in range(rows):  # rows\n",
    "        s = set()  # for \n",
    "\n",
    "        for j in range(cols):\n",
    "            item = board[j][i                                                                                                                                                                                                       ]\n",
    "            if item in s:\n",
    "                return False\n",
    "            elif item not '.':\n",
    "                s.add(item)\n",
    "        print(f\"col: {s= }\")\n",
    "\n",
    "\n",
    "\n",
    "    # 3. valid boxes"
   ]
  },
  {
   "cell_type": "code",
   "execution_count": 17,
   "metadata": {},
   "outputs": [
    {
     "name": "stdout",
     "output_type": "stream",
     "text": [
      "row: s= {'7', '5', '3'}\n",
      "row: s= {'9', '1', '6', '5'}\n",
      "row: s= {'9', '6', '8'}\n",
      "row: s= {'6', '3', '8'}\n",
      "row: s= {'1', '4', '3', '8'}\n",
      "row: s= {'7', '2', '6'}\n",
      "row: s= {'2', '6', '8'}\n",
      "row: s= {'9', '1', '4', '5'}\n",
      "row: s= {'9', '7', '8'}\n",
      "col: s= {'8', '6', '5', '4', '7'}\n",
      "col: s= {'9', '6', '3'}\n",
      "col: s= {'8'}\n",
      "col: s= {'1', '4', '8'}\n",
      "col: s= {'8', '6', '1', '9', '7', '2'}\n",
      "col: s= {'9', '5', '3'}\n",
      "col: s= {'2'}\n",
      "col: s= {'7', '6', '8'}\n",
      "col: s= {'3', '6', '1', '5', '9'}\n",
      "3x3 box starting at (0, 0): ['5', '3', '.', '6', '.', '.', '.', '9', '8']\n",
      "3x3 box starting at (0, 3): ['.', '7', '.', '1', '9', '5', '.', '.', '.']\n",
      "3x3 box starting at (0, 6): ['.', '.', '.', '.', '.', '.', '.', '6', '.']\n",
      "3x3 box starting at (3, 0): ['8', '.', '.', '4', '.', '.', '7', '.', '.']\n",
      "3x3 box starting at (3, 3): ['.', '6', '.', '8', '.', '3', '.', '2', '.']\n",
      "3x3 box starting at (3, 6): ['.', '.', '3', '.', '.', '1', '.', '.', '6']\n",
      "3x3 box starting at (6, 0): ['.', '6', '.', '.', '.', '.', '.', '.', '.']\n",
      "3x3 box starting at (6, 3): ['.', '.', '.', '4', '1', '9', '.', '8', '.']\n",
      "3x3 box starting at (6, 6): ['2', '8', '.', '.', '.', '5', '.', '7', '9']\n"
     ]
    },
    {
     "data": {
      "text/plain": [
       "True"
      ]
     },
     "execution_count": 17,
     "metadata": {},
     "output_type": "execute_result"
    }
   ],
   "source": [
    "def isValidSudoku(board):\n",
    "    rows, cols = 9, 9\n",
    "    \n",
    "    # 1. Check valid rows\n",
    "    for i in range(rows):  # Iterate over rows\n",
    "        s = set()  # Set to track seen numbers\n",
    "        for j in range(cols):\n",
    "            item = board[i][j]\n",
    "            if item in s:\n",
    "                return False  # Duplicate found\n",
    "            elif item != '.':  # Check for empty cell\n",
    "                s.add(item)\n",
    "        print(f\"row: {s= }\")\n",
    "\n",
    "    # 2. Check valid columns\n",
    "    for i in range(cols):  # Iterate over columns\n",
    "        s = set()  # Set to track seen numbers\n",
    "        for j in range(rows):\n",
    "            item = board[j][i]  # Corrected indexing for columns\n",
    "            if item in s:\n",
    "                return False  # Duplicate found\n",
    "            elif item != '.':  # Check for empty cell\n",
    "                s.add(item)\n",
    "        print(f\"col: {s= }\")\n",
    "\n",
    "\n",
    "    for i in range(0, 9, 3):  # Iterate over row indices for the starting points (0, 3, 6)\n",
    "        for j in range(0, 9, 3):  # Iterate over column indices for the starting points (0, 3, 6)\n",
    "            s=set()\n",
    "            # Abecause lists dont allow nested slicing\n",
    "            box = []\n",
    "            for x in range(i, i+3):  # Rows within the 3x3 box\n",
    "                for y in range(j, j+3):  # Columns within the 3x3 box\n",
    "                    box.append(board[x][y])\n",
    "                    val = board[x][y]\n",
    "                    if val in s:\n",
    "                        return False\n",
    "                    elif val != '.':\n",
    "                        s.add(val)\n",
    "            print(f\"3x3 box starting at ({i}, {j}): {box}\")\n",
    "\n",
    "            \n",
    "\n",
    "    return True  # All checks passed, return True\n",
    "\n",
    "\n",
    "isValidSudoku(board)"
   ]
  },
  {
   "cell_type": "code",
   "execution_count": 18,
   "metadata": {},
   "outputs": [],
   "source": [
    "\n",
    "def isValidSudoku(board):\n",
    "    rows, cols = 9, 9\n",
    "    \n",
    "    row_sets = [set() for _ in range(rows)]  # Track numbers in each row\n",
    "    col_sets = [set() for _ in range(cols)]  # Track numbers in each column\n",
    "    box_sets = [set() for _ in range(9)]     # Track numbers in each 3x3 box\n",
    "\n",
    "    for i in range(rows):\n",
    "        for j in range(cols):\n",
    "            num = board[i][j]\n",
    "\n",
    "            if num == '.':\n",
    "                continue  # Skip empty cells\n",
    "            \n",
    "            # Check rows\n",
    "            if num in row_sets[i]:\n",
    "                return False\n",
    "            row_sets[i].add(num)\n",
    "\n",
    "            # Check columns\n",
    "            if num in col_sets[j]:\n",
    "                return False\n",
    "            col_sets[j].add(num)\n",
    "\n",
    "            # Check 3x3 box\n",
    "            box_index = (i // 3) * 3 + (j // 3)  # Map (i, j) to the correct box index\n",
    "            if num in box_sets[box_index]:\n",
    "                return False\n",
    "            box_sets[box_index].add(num)\n",
    "\n",
    "    return True  # All checks passed\n"
   ]
  },
  {
   "cell_type": "code",
   "execution_count": 7,
   "metadata": {},
   "outputs": [
    {
     "data": {
      "text/plain": [
       "[['5', '3', '.', '.', '7', '.', '.', '.', '.'],\n",
       " ['6', '.', '.', '1', '9', '5', '.', '.', '.'],\n",
       " ['.', '9', '8', '.', '.', '.', '.', '6', '.'],\n",
       " ['8', '.', '.', '.', '6', '.', '.', '.', '3'],\n",
       " ['4', '.', '.', '8', '.', '3', '.', '.', '1'],\n",
       " ['7', '.', '.', '.', '2', '.', '.', '.', '6'],\n",
       " ['.', '6', '.', '.', '.', '.', '2', '8', '.'],\n",
       " ['.', '.', '.', '4', '1', '9', '.', '.', '5'],\n",
       " ['.', '.', '.', '.', '8', '.', '.', '7', '9']]"
      ]
     },
     "execution_count": 7,
     "metadata": {},
     "output_type": "execute_result"
    }
   ],
   "source": [
    "board"
   ]
  },
  {
   "cell_type": "code",
   "execution_count": 2,
   "metadata": {},
   "outputs": [
    {
     "name": "stdout",
     "output_type": "stream",
     "text": [
      "3x3 box starting at (0, 0):\n",
      "[[1 2 3]\n",
      " [1 2 3]\n",
      " [1 2 3]]\n",
      "\n",
      "3x3 box starting at (0, 3):\n",
      "[[4 5 6]\n",
      " [4 5 6]\n",
      " [4 5 6]]\n",
      "\n",
      "3x3 box starting at (0, 6):\n",
      "[[7 8 9]\n",
      " [7 8 9]\n",
      " [7 8 9]]\n",
      "\n",
      "3x3 box starting at (3, 0):\n",
      "[[1 2 3]\n",
      " [1 2 3]\n",
      " [1 2 3]]\n",
      "\n",
      "3x3 box starting at (3, 3):\n",
      "[[4 5 6]\n",
      " [4 5 6]\n",
      " [4 5 6]]\n",
      "\n",
      "3x3 box starting at (3, 6):\n",
      "[[7 8 9]\n",
      " [7 8 9]\n",
      " [7 8 9]]\n",
      "\n",
      "3x3 box starting at (6, 0):\n",
      "[[1 2 3]\n",
      " [1 2 3]\n",
      " [1 2 3]]\n",
      "\n",
      "3x3 box starting at (6, 3):\n",
      "[[4 5 6]\n",
      " [4 5 6]\n",
      " [4 5 6]]\n",
      "\n",
      "3x3 box starting at (6, 6):\n",
      "[[7 8 9]\n",
      " [7 8 9]\n",
      " [7 8 9]]\n",
      "\n"
     ]
    }
   ],
   "source": [
    "import numpy as np\n",
    "\n",
    "# Create a 9x9 NumPy array (simulating a Sudoku board)\n",
    "boardn = np.array([\n",
    "    [1, 2, 3, 4, 5, 6, 7, 8, 9],\n",
    "    [1, 2, 3, 4, 5, 6, 7, 8, 9],\n",
    "    [1, 2, 3, 4, 5, 6, 7, 8, 9],\n",
    "    [1, 2, 3, 4, 5, 6, 7, 8, 9],\n",
    "    [1, 2, 3, 4, 5, 6, 7, 8, 9],\n",
    "    [1, 2, 3, 4, 5, 6, 7, 8, 9],\n",
    "    [1, 2, 3, 4, 5, 6, 7, 8, 9],\n",
    "    [1, 2, 3, 4, 5, 6, 7, 8, 9],\n",
    "    [1, 2, 3, 4, 5, 6, 7, 8, 9]\n",
    "])\n",
    "\n",
    "# Iterate over the 3x3 boxes\n",
    "for i in range(0, 9, 3):\n",
    "    for j in range(0, 9, 3):\n",
    "        # Slice out the 3x3 sub-box\n",
    "        sub_box = boardn[i:i+3, j:j+3]\n",
    "        print(f\"3x3 box starting at ({i}, {j}):\\n{sub_box}\\n\")"
   ]
  },
  {
   "cell_type": "code",
   "execution_count": null,
   "metadata": {},
   "outputs": [],
   "source": []
  },
  {
   "cell_type": "code",
   "execution_count": null,
   "metadata": {},
   "outputs": [],
   "source": []
  },
  {
   "cell_type": "code",
   "execution_count": null,
   "metadata": {},
   "outputs": [],
   "source": []
  },
  {
   "cell_type": "code",
   "execution_count": null,
   "metadata": {},
   "outputs": [],
   "source": []
  },
  {
   "cell_type": "code",
   "execution_count": null,
   "metadata": {},
   "outputs": [],
   "source": []
  },
  {
   "cell_type": "markdown",
   "metadata": {},
   "source": [
    "# 1. Two Sum\n",
    "\n",
    "Given an array of integers nums and an integer target, return indices of the two numbers such that they add up to target.\n",
    "\n",
    "You may assume that each input would have exactly one solution, and you may not use the same element twice.\n",
    "\n",
    "You can return the answer in any order."
   ]
  },
  {
   "cell_type": "code",
   "execution_count": 14,
   "metadata": {},
   "outputs": [
    {
     "data": {
      "text/plain": [
       "([3, 2, 4], 6)"
      ]
     },
     "execution_count": 14,
     "metadata": {},
     "output_type": "execute_result"
    }
   ],
   "source": [
    "nums = [2,7,11,15]; target = 9\n",
    "nums = [3,2,4]; target = 6\n",
    "# nums = [3,2,4]\n",
    "\n",
    "nums , target"
   ]
  },
  {
   "cell_type": "code",
   "execution_count": 12,
   "metadata": {},
   "outputs": [
    {
     "data": {
      "text/plain": [
       "(0, 2)"
      ]
     },
     "execution_count": 12,
     "metadata": {},
     "output_type": "execute_result"
    }
   ],
   "source": [
    "left = 0; right = len(nums)-1\n",
    "i=0\n",
    "\n",
    "\n",
    "def twosum(nums):\n",
    "    nums = sorted(nums)\n",
    "    left = 0; right = len(nums)-1\n",
    "    while(left< right):\n",
    "        # print(f\"{nums[left]=}; {nums[len(nums)-i-1]=}\")\n",
    "        \n",
    "        sum = nums[left] + nums[right]\n",
    "\n",
    "        if sum == target:\n",
    "            return (left, right)\n",
    "        elif (sum> target):\n",
    "            right -=1\n",
    "        else:\n",
    "            left+=1\n",
    "\n",
    "    return [] \n",
    "    \n",
    "twosum(nums)"
   ]
  },
  {
   "cell_type": "code",
   "execution_count": 13,
   "metadata": {},
   "outputs": [
    {
     "name": "stdout",
     "output_type": "stream",
     "text": [
      "(0, 1)\n"
     ]
    }
   ],
   "source": [
    "def two_sum(nums, target):\n",
    "    # Sort the array to use the two-pointer technique\n",
    "    nums = sorted(nums)\n",
    "    \n",
    "    # Initialize pointers\n",
    "    left, right = 0, len(nums) - 1\n",
    "\n",
    "    # Loop until the pointers meet\n",
    "    while left < right:\n",
    "        current_sum = nums[left] + nums[right]\n",
    "        \n",
    "        if current_sum == target:\n",
    "            return (left, right)  # Return the indices of the found elements\n",
    "        elif current_sum > target:\n",
    "            right -= 1  # Move right pointer leftwards to reduce sum\n",
    "        else:\n",
    "            left += 1  # Move left pointer rightwards to increase sum\n",
    "\n",
    "    # Return an empty list if no valid pair is found\n",
    "    return []\n",
    "\n",
    "# Example usage\n",
    "nums = [2, 7, 11, 15]\n",
    "target = 9\n",
    "print(two_sum(nums, target))\n"
   ]
  },
  {
   "cell_type": "code",
   "execution_count": null,
   "metadata": {},
   "outputs": [],
   "source": []
  },
  {
   "cell_type": "code",
   "execution_count": 15,
   "metadata": {},
   "outputs": [
    {
     "name": "stdout",
     "output_type": "stream",
     "text": [
      "[1, 2]\n"
     ]
    }
   ],
   "source": [
    "# sorting is modifying indexes.. resulting in ambious indees.. we need to give answer relative to input list\n",
    "\n",
    "\n",
    "def two_sum(nums, target):\n",
    "    # Pair each number with its index and sort by number values\n",
    "    indexed_nums = sorted((value, index) for index, value in enumerate(nums))\n",
    "    \n",
    "    # Initialize pointers\n",
    "    left, right = 0, len(nums) - 1\n",
    "\n",
    "    # Loop until the pointers meet\n",
    "    while left < right:\n",
    "        current_sum = indexed_nums[left][0] + indexed_nums[right][0]\n",
    "        \n",
    "        if current_sum == target:\n",
    "            # Return the original indices of the found elements\n",
    "            return [indexed_nums[left][1], indexed_nums[right][1]]\n",
    "        elif current_sum > target:\n",
    "            right -= 1  # Move right pointer leftwards to reduce sum\n",
    "        else:\n",
    "            left += 1  # Move left pointer rightwards to increase sum\n",
    "\n",
    "    # Return an empty list if no valid pair is found\n",
    "    return []\n",
    "\n",
    "# Example usage\n",
    "nums = [3, 2, 4]\n",
    "target = 6\n",
    "print(two_sum(nums, target))  # Expected output: [1, 2]\n"
   ]
  },
  {
   "cell_type": "code",
   "execution_count": 16,
   "metadata": {},
   "outputs": [
    {
     "ename": "NameError",
     "evalue": "name 'List' is not defined",
     "output_type": "error",
     "traceback": [
      "\u001b[0;31m---------------------------------------------------------------------------\u001b[0m",
      "\u001b[0;31mNameError\u001b[0m                                 Traceback (most recent call last)",
      "Cell \u001b[0;32mIn[16], line 1\u001b[0m\n\u001b[0;32m----> 1\u001b[0m \u001b[38;5;28;43;01mclass\u001b[39;49;00m\u001b[43m \u001b[49m\u001b[38;5;21;43;01mSolution\u001b[39;49;00m\u001b[43m:\u001b[49m\n\u001b[1;32m      3\u001b[0m \u001b[43m    \u001b[49m\u001b[38;5;28;43;01mdef\u001b[39;49;00m\u001b[43m \u001b[49m\u001b[38;5;21;43mtwoSum\u001b[39;49m\u001b[43m(\u001b[49m\u001b[38;5;28;43mself\u001b[39;49m\u001b[43m,\u001b[49m\u001b[43m \u001b[49m\u001b[43mnums\u001b[49m\u001b[43m:\u001b[49m\u001b[43m \u001b[49m\u001b[43mList\u001b[49m\u001b[43m[\u001b[49m\u001b[38;5;28;43mint\u001b[39;49m\u001b[43m]\u001b[49m\u001b[43m,\u001b[49m\u001b[43m \u001b[49m\u001b[43mtarget\u001b[49m\u001b[43m:\u001b[49m\u001b[43m \u001b[49m\u001b[38;5;28;43mint\u001b[39;49m\u001b[43m)\u001b[49m\u001b[43m \u001b[49m\u001b[38;5;241;43m-\u001b[39;49m\u001b[38;5;241;43m>\u001b[39;49m\u001b[43m \u001b[49m\u001b[43mList\u001b[49m\u001b[43m[\u001b[49m\u001b[38;5;28;43mint\u001b[39;49m\u001b[43m]\u001b[49m\u001b[43m:\u001b[49m\n\u001b[1;32m      4\u001b[0m \u001b[43m        \u001b[49m\u001b[43mdic\u001b[49m\u001b[38;5;241;43m=\u001b[39;49m\u001b[38;5;28;43mdict\u001b[39;49m\u001b[43m(\u001b[49m\u001b[43m)\u001b[49m\n",
      "Cell \u001b[0;32mIn[16], line 3\u001b[0m, in \u001b[0;36mSolution\u001b[0;34m()\u001b[0m\n\u001b[1;32m      1\u001b[0m \u001b[38;5;28;01mclass\u001b[39;00m \u001b[38;5;21;01mSolution\u001b[39;00m:\n\u001b[0;32m----> 3\u001b[0m     \u001b[38;5;28;01mdef\u001b[39;00m \u001b[38;5;21mtwoSum\u001b[39m(\u001b[38;5;28mself\u001b[39m, nums: \u001b[43mList\u001b[49m[\u001b[38;5;28mint\u001b[39m], target: \u001b[38;5;28mint\u001b[39m) \u001b[38;5;241m-\u001b[39m\u001b[38;5;241m>\u001b[39m List[\u001b[38;5;28mint\u001b[39m]:\n\u001b[1;32m      4\u001b[0m         dic\u001b[38;5;241m=\u001b[39m\u001b[38;5;28mdict\u001b[39m()\n\u001b[1;32m      6\u001b[0m         \u001b[38;5;28;01mfor\u001b[39;00m i \u001b[38;5;129;01min\u001b[39;00m \u001b[38;5;28mrange\u001b[39m(\u001b[38;5;28mlen\u001b[39m(nums)):\n",
      "\u001b[0;31mNameError\u001b[0m: name 'List' is not defined"
     ]
    }
   ],
   "source": [
    "class Solution:\n",
    "   \n",
    "    def twoSum(self, nums: List[int], target: int) -> List[int]:\n",
    "        dic=dict()\n",
    "        \n",
    "        for i in range(len(nums)):\n",
    "\n",
    "            if (target - nums[i]) in dic.keys():\n",
    "                return (i, dic[target-nums[i]])\n",
    "            else:    \n",
    "                dic[nums[i]] = i\n",
    "\n",
    "\n",
    "\n",
    "\n",
    "\n"
   ]
  },
  {
   "cell_type": "code",
   "execution_count": null,
   "metadata": {},
   "outputs": [],
   "source": []
  },
  {
   "cell_type": "code",
   "execution_count": null,
   "metadata": {},
   "outputs": [],
   "source": []
  },
  {
   "cell_type": "code",
   "execution_count": null,
   "metadata": {},
   "outputs": [],
   "source": []
  },
  {
   "cell_type": "markdown",
   "metadata": {},
   "source": [
    "# 15. 3Sum\n",
    "\n",
    "## index can't be same\n",
    "## unqiue triplets\n"
   ]
  },
  {
   "cell_type": "code",
   "execution_count": 1,
   "metadata": {},
   "outputs": [
    {
     "data": {
      "text/plain": [
       "[-1, 0, 1, 2, -1, -4]"
      ]
     },
     "execution_count": 1,
     "metadata": {},
     "output_type": "execute_result"
    }
   ],
   "source": [
    "nums = [-1,0,1,2,-1,-4]\n",
    "target = [[-1,-1,2],[-1,0,1]]\n",
    "nums"
   ]
  },
  {
   "cell_type": "code",
   "execution_count": 2,
   "metadata": {},
   "outputs": [
    {
     "name": "stdout",
     "output_type": "stream",
     "text": [
      "i=-1; j=0; k=1;\t\ti+j+k=0\n",
      "i=0; j=1; k=2;\t\ti+j+k=3\n",
      "i=1; j=2; k=-1;\t\ti+j+k=2\n",
      "i=2; j=-1; k=-4;\t\ti+j+k=-3\n"
     ]
    }
   ],
   "source": [
    "for i,j,k in zip(nums, nums[1:], nums[2:]):\n",
    "    print(f\"{i=}; {j=}; {k=};\\t\\t{i+j+k=}\")\n",
    "    "
   ]
  },
  {
   "cell_type": "code",
   "execution_count": 5,
   "metadata": {},
   "outputs": [
    {
     "name": "stdout",
     "output_type": "stream",
     "text": [
      "nums=[-1, 0, 1, 2, -1, -4]\n",
      "nums=[-4, -1, -1, 0, 1, 2]\n",
      "\tnums[left]=-1; nums[i]=-1; nums[right]=2\n",
      "\tnums[left]=0; nums[i]=-1; nums[right]=1\n",
      "\tnums[left]=0; nums[i]=-1; nums[right]=1\n"
     ]
    }
   ],
   "source": [
    "nums = [-1,0,1,2,-1,-4]\n",
    "left = 0; right = len(nums)-1\n",
    "print(f\"{nums=}\")\n",
    "nums = sorted(nums)\n",
    "\n",
    "i = 0\n",
    "\n",
    "\n",
    "print(f\"{nums=}\")\n",
    "for i in range(0,len(nums)-2):\n",
    "    left = i+1;\n",
    "    right = len(nums)-1\n",
    "    while(left<right):\n",
    "            \n",
    "\n",
    "        # print(f\"{nums[left:right+1]=}\")\n",
    "\n",
    "        sum = nums[left] + nums[i]+ nums[right]\n",
    "        # print(f\"{nums[left]=}; {nums[i]=}; {nums[right]=}\")\n",
    "\n",
    "        if sum ==0:\n",
    "            # print(\"ZERO\")\n",
    "            print(f\"\\t{nums[left]=}; {nums[i]=}; {nums[right]=}\")\n",
    "            left+=1\n",
    "        # print(\"\\n\\n\\n\")    \n",
    "        else:\n",
    "            if sum > 0:\n",
    "                right-=1\n",
    "            else:\n",
    "                left+=1\n",
    "\n"
   ]
  },
  {
   "cell_type": "code",
   "execution_count": null,
   "metadata": {},
   "outputs": [],
   "source": []
  },
  {
   "cell_type": "code",
   "execution_count": 19,
   "metadata": {},
   "outputs": [
    {
     "name": "stdout",
     "output_type": "stream",
     "text": [
      "nums=[-1, 0, 1, 2, -1, -4]\n",
      "nums=[-4, -1, -1, 0, 1, 2]\n",
      "\tnums[left]=-1; nums[i]=-1; nums[right]=2\n",
      "\tnums[left]=0; nums[i]=-1; nums[right]=1\n",
      "\tnums[left]=0; nums[i]=-1; nums[right]=1\n"
     ]
    },
    {
     "data": {
      "text/plain": [
       "{(0, -1, 2), (1, -1, 1)}"
      ]
     },
     "execution_count": 19,
     "metadata": {},
     "output_type": "execute_result"
    }
   ],
   "source": [
    "# extreme \n",
    "\n",
    "\n",
    "nums = [-1,0,1,2,-1,-4]\n",
    "\n",
    "\n",
    "def threesum(nums):\n",
    "    left = 0; right = len(nums)-1\n",
    "    subsets = set()\n",
    "\n",
    "    print(f\"{nums=}\")\n",
    "    nums = sorted(nums)\n",
    "\n",
    "    i = 0\n",
    "\n",
    "\n",
    "    print(f\"{nums=}\")\n",
    "    for i in range(0,len(nums)-2):\n",
    "        left = i+1;\n",
    "        right = len(nums)-1\n",
    "        while(left<right):\n",
    "                \n",
    "\n",
    "            # print(f\"{nums[left:right+1]=}\")\n",
    "\n",
    "            sum = nums[left] + nums[i]+ nums[right]\n",
    "            # print(f\"{nums[left]=}; {nums[i]=}; {nums[right]=}\")\n",
    "\n",
    "            if sum ==0:\n",
    "                # print(\"ZERO\")\n",
    "                print(f\"\\t{nums[left]=}; {nums[i]=}; {nums[right]=}\")\n",
    "                left+=1\n",
    "                subsets.add((nums[left], nums[i], nums[right]))\n",
    "                subset.add(tuple(sorted((nums[left], nums[i],nums[right]))))\n",
    "\n",
    "            # print(\"\\n\\n\\n\")    \n",
    "            else:\n",
    "                if sum > 0:\n",
    "                    right-=1\n",
    "                else:\n",
    "                    left+=1\n",
    "    \n",
    "    return subsets\n",
    "threesum(nums)"
   ]
  },
  {
   "cell_type": "code",
   "execution_count": 20,
   "metadata": {},
   "outputs": [
    {
     "data": {
      "text/plain": [
       "{(-1, 0, 2), (-1, 1, 1), (1, 2, 3)}"
      ]
     },
     "execution_count": 20,
     "metadata": {},
     "output_type": "execute_result"
    }
   ],
   "source": [
    "subset"
   ]
  },
  {
   "cell_type": "code",
   "execution_count": 18,
   "metadata": {},
   "outputs": [
    {
     "name": "stdout",
     "output_type": "stream",
     "text": [
      "{(1, 2, 3)}\n"
     ]
    }
   ],
   "source": [
    "subset = {(1, 2, 3)}\n",
    "\n",
    "# Sort the tuple and convert it back to a tuple\n",
    "subset.add(tuple(sorted((3, 2, 1))))\n",
    "\n",
    "print(subset)\n"
   ]
  },
  {
   "cell_type": "code",
   "execution_count": null,
   "metadata": {},
   "outputs": [],
   "source": []
  },
  {
   "cell_type": "code",
   "execution_count": null,
   "metadata": {},
   "outputs": [],
   "source": [
    "def threesum(nums):\n",
    "    nums.sort()\n",
    "    subsets = set()\n",
    "\n",
    "    for i in range(len(nums) - 2):\n",
    "        left = i + 1\n",
    "        right = len(nums) - 1\n",
    "        while left < right:\n",
    "            current_sum = nums[i] + nums[left] + nums[right]\n",
    "            if current_sum == 0:\n",
    "                # Add a sorted tuple to avoid duplicates\n",
    "                subsets.add((nums[i], nums[left], nums[right]))\n",
    "                # Skip over duplicates for left\n",
    "                left += 1\n",
    "                while left < right and nums[left] == nums[left - 1]:\n",
    "                    left += 1\n",
    "                # Skip over duplicates for right\n",
    "                right -= 1\n",
    "                while left < right and nums[right] == nums[right + 1]:\n",
    "                    right -= 1\n",
    "            elif current_sum > 0:\n",
    "                right -= 1\n",
    "            else:\n",
    "                left += 1\n",
    "    \n",
    "    return subsets\n",
    "\n",
    "# Test the function\n",
    "nums = [-1, 0, 1, 2, -1, -4]\n",
    "print(threesum(nums))\n"
   ]
  },
  {
   "cell_type": "code",
   "execution_count": 47,
   "metadata": {},
   "outputs": [
    {
     "name": "stdout",
     "output_type": "stream",
     "text": [
      "nums=[-4, -1, -1, 0, 1, 2]\n",
      "i=1; nums[i]=-1; nums[left]=-1; nums[right]=2; current_sum=0\n",
      "i=1; nums[i]=-1; nums[left]=0; nums[right]=1; current_sum=0\n",
      "[[-1, -1, 2], [-1, 0, 1]]\n"
     ]
    }
   ],
   "source": [
    "def threesum(nums):\n",
    "    nums.sort()\n",
    "    print(f\"{nums=}\")\n",
    "    # subsets = set()\n",
    "    results = []\n",
    "\n",
    "\n",
    "    for i in range(len(nums)-2):\n",
    "\n",
    "        if nums[i] == nums[i-1] and i >0:\n",
    "            continue;\n",
    "\n",
    "        left = i+1;right = len(nums)-1\n",
    "        while left<right:\n",
    "            current_sum = nums[i] + nums[left] + nums[right]\n",
    "            if current_sum>0:\n",
    "                right-=1\n",
    "            elif current_sum<0:\n",
    "                left+=1\n",
    "            else:\n",
    "                # triplet found\n",
    "                print(f\"{i=}; {nums[i]=}; {nums[left]=}; {nums[right]=}; {current_sum=}\")\n",
    "                results.append([nums[i], nums[left], nums[right]])\n",
    "\n",
    "                # ignore duplicates\n",
    "\n",
    "                while left<right and nums[left] == nums[left+1]:\n",
    "                    left+=1\n",
    "                while left<right and nums[right] == nums[right-1]:\n",
    "                    right-=1\n",
    "                \n",
    "\n",
    "                left+=1\n",
    "                right-=1\n",
    "                \n",
    "\n",
    "\n",
    "        \n",
    "    return results\n",
    "\n",
    "# Test the function\n",
    "nums = [-1, 0, 1, 2, -1, -4]\n",
    "nums = [-1,0,1,2,-1,-4]\n",
    "print(threesum(nums))\n"
   ]
  },
  {
   "cell_type": "code",
   "execution_count": 46,
   "metadata": {},
   "outputs": [
    {
     "name": "stdout",
     "output_type": "stream",
     "text": [
      "nums=[-4, -1, -1, 0, 1, 2]\n",
      "i=1; nums[i]=-1; nums[left]=-1; nums[right]=2; current_sum=0\n",
      "i=1; nums[i]=-1; nums[left]=0; nums[right]=1; current_sum=0\n",
      "[[-1, -1, 2], [-1, 0, 1]]\n"
     ]
    }
   ],
   "source": [
    "def threesum(nums):\n",
    "    nums.sort()  # Sort the input array\n",
    "    print(f\"{nums=}\")\n",
    "    results = []\n",
    "\n",
    "    for i in range(len(nums) - 2):\n",
    "        # Skip the same value to avoid duplicates\n",
    "        if i > 0 and nums[i] == nums[i - 1]:\n",
    "            continue\n",
    "        \n",
    "        left, right = i + 1, len(nums) - 1\n",
    "        \n",
    "        while left < right:\n",
    "            current_sum = nums[i] + nums[left] + nums[right]\n",
    "            if current_sum > 0:\n",
    "                right -= 1  # Need a smaller sum\n",
    "            elif current_sum < 0:\n",
    "                left += 1  # Need a larger sum\n",
    "            else:\n",
    "                # Triplet found\n",
    "                print(f\"{i=}; {nums[i]=}; {nums[left]=}; {nums[right]=}; {current_sum=}\")\n",
    "                results.append([nums[i], nums[left], nums[right]])\n",
    "\n",
    "                # Skip the same value to avoid duplicates\n",
    "                while left < right and nums[left] == nums[left + 1]:\n",
    "                    left += 1\n",
    "                while left < right and nums[right] == nums[right - 1]:\n",
    "                    right -= 1\n",
    "                \n",
    "                # Move both pointers after finding a valid triplet\n",
    "                left += 1\n",
    "                right -= 1\n",
    "\n",
    "    return results\n",
    "\n",
    "# Test the function\n",
    "nums = [-1, 0, 1, 2, -1, -4]\n",
    "print(threesum(nums))\n"
   ]
  },
  {
   "cell_type": "code",
   "execution_count": null,
   "metadata": {},
   "outputs": [],
   "source": []
  },
  {
   "cell_type": "code",
   "execution_count": 50,
   "metadata": {},
   "outputs": [
    {
     "name": "stdout",
     "output_type": "stream",
     "text": [
      "nums=[-4, -1, -1, 0, 1, 2]\n",
      "i=1; nums[i]=-1; nums[left]=-1; nums[right]=2; current_sum=0\n",
      "i=1; nums[i]=-1; nums[left]=0; nums[right]=1; current_sum=0\n",
      "[[-1, -1, 2], [-1, 0, 1]]\n"
     ]
    }
   ],
   "source": [
    "def threesum(nums):\n",
    "    nums.sort()  # Sort the input array\n",
    "    print(f\"{nums=}\")\n",
    "    results = []\n",
    "\n",
    "    for i in range(len(nums) - 2):\n",
    "        # Skip the same value to avoid duplicates\n",
    "        if i > 0 and nums[i] == nums[i - 1]:\n",
    "            continue\n",
    "        \n",
    "        left, right = i + 1, len(nums) - 1\n",
    "        \n",
    "        while left < right:\n",
    "            current_sum = nums[i] + nums[left] + nums[right]\n",
    "\n",
    "            if current_sum > 0:\n",
    "                right -= 1  # Decrease the right pointer to reduce the sum\n",
    "            elif current_sum < 0:\n",
    "                left += 1  # Increase the left pointer to increase the sum\n",
    "            else:\n",
    "                # Triplet found\n",
    "                print(f\"{i=}; {nums[i]=}; {nums[left]=}; {nums[right]=}; {current_sum=}\")\n",
    "                results.append([nums[i], nums[left], nums[right]])\n",
    "\n",
    "                # Skip duplicates for left pointer\n",
    "                while left < right and nums[left] == nums[left + 1]:\n",
    "                    left += 1\n",
    "                # Skip duplicates for right pointer\n",
    "                while left < right and nums[right] == nums[right - 1]:\n",
    "                    right -= 1\n",
    "                \n",
    "                # Move both pointers after finding a valid triplet\n",
    "                left += 1\n",
    "                right -= 1\n",
    "\n",
    "    return results\n",
    "\n",
    "# Test the function\n",
    "nums = [-1, 0, 1, 2, -1, -4]\n",
    "print(threesum(nums))\n"
   ]
  },
  {
   "cell_type": "code",
   "execution_count": null,
   "metadata": {},
   "outputs": [],
   "source": [
    "\n"
   ]
  },
  {
   "cell_type": "code",
   "execution_count": null,
   "metadata": {},
   "outputs": [],
   "source": []
  },
  {
   "cell_type": "code",
   "execution_count": null,
   "metadata": {},
   "outputs": [],
   "source": []
  },
  {
   "cell_type": "markdown",
   "metadata": {},
   "source": [
    "# 167. Two Sum II - Input Array Is Sorted\n",
    "\n",
    "Given a 1-indexed array of integers numbers that is already sorted in non-decreasing order, find two numbers such that they add up to a specific target number. Let these two numbers be numbers[index1] and numbers[index2] where 1 <= index1 < index2 <= numbers.length.\n",
    "\n",
    "Return the indices of the two numbers, index1 and index2, added by one as an integer array [index1, index2] of length 2.\n",
    "\n",
    "The tests are generated such that there is exactly one solution. You may not use the same element twice.\n",
    "\n",
    "Your solution must use only constant extra space."
   ]
  },
  {
   "cell_type": "code",
   "execution_count": 2,
   "metadata": {},
   "outputs": [
    {
     "name": "stdout",
     "output_type": "stream",
     "text": [
      "current_sum=9\n"
     ]
    }
   ],
   "source": [
    "numbers = [2,7,11,15]; target = 9\n",
    "# target = [1,2]\n",
    "\n",
    "\n",
    "index_to_id = { val:i for i, val in enumerate(numbers)}\n",
    "\n",
    "index_to_id\n",
    "current_sum =0\n",
    "\n",
    "\n",
    "left = 0; right =len(numbers)-1\n",
    "\n",
    "left, right, len(numbers)\n",
    "\n",
    "while(left<right):\n",
    "    current_sum = numbers[left] + numbers[right]\n",
    "    # print(f\"{current_sum=}\")\n",
    "\n",
    "    if current_sum> target:\n",
    "        right-=1\n",
    "    elif current_sum< target:\n",
    "        left+=1\n",
    "    else:\n",
    "        print(f\"{current_sum=}\")\n",
    "        left+=1\n",
    "        right-=1\n",
    "\n"
   ]
  },
  {
   "cell_type": "code",
   "execution_count": null,
   "metadata": {},
   "outputs": [],
   "source": []
  },
  {
   "cell_type": "code",
   "execution_count": 4,
   "metadata": {},
   "outputs": [
    {
     "name": "stdout",
     "output_type": "stream",
     "text": [
      "current_sum=9; left+1=1; right+1=2\n"
     ]
    }
   ],
   "source": [
    "umbers = [2,7,11,15]; target = 9\n",
    "# target = [1,2]\n",
    "\n",
    "\n",
    "current_sum =0\n",
    "left = 0; right =len(numbers)-1\n",
    "\n",
    "while(left<right):\n",
    "    current_sum = numbers[left] + numbers[right]\n",
    "    # print(f\"{current_sum=}\")\n",
    "\n",
    "    if current_sum> target:\n",
    "        right-=1\n",
    "    elif current_sum< target:\n",
    "        left+=1\n",
    "    else:\n",
    "        print(f\"{current_sum=}; {left+1=}; {right+1=}\")\n",
    "        left+=1\n",
    "        right-=1"
   ]
  },
  {
   "cell_type": "code",
   "execution_count": null,
   "metadata": {},
   "outputs": [],
   "source": [
    "def two_sum(numbers, target):\n",
    "    left = 0\n",
    "    right = len(numbers) - 1\n",
    "\n",
    "    while left < right:\n",
    "        current_sum = numbers[left] + numbers[right]\n",
    "\n",
    "        if current_sum == target:\n",
    "            return [left + 1, right + 1]  # return indices in 1-based format\n",
    "        elif current_sum < target:\n",
    "            left += 1  # increase sum\n",
    "        else:\n",
    "            right -= 1  # decrease sum\n",
    "\n",
    "# Example usage\n",
    "numbers = [2, 7, 11, 15]\n",
    "target = 9\n",
    "result = two_sum(numbers, target)\n",
    "print(result)  # Output: [1, 2]\n"
   ]
  },
  {
   "cell_type": "code",
   "execution_count": null,
   "metadata": {},
   "outputs": [],
   "source": []
  },
  {
   "cell_type": "code",
   "execution_count": null,
   "metadata": {},
   "outputs": [],
   "source": []
  },
  {
   "cell_type": "code",
   "execution_count": null,
   "metadata": {},
   "outputs": [],
   "source": []
  },
  {
   "cell_type": "markdown",
   "metadata": {},
   "source": [
    "# 135. Candy\n"
   ]
  },
  {
   "cell_type": "code",
   "execution_count": 59,
   "metadata": {},
   "outputs": [
    {
     "name": "stdout",
     "output_type": "stream",
     "text": [
      "ratings=[1, 0, 2]\n",
      "initial: [1, 1, 1]\n",
      "forward: [1, 1, 2]\n",
      "reverse: [2, 1, 2]\n"
     ]
    }
   ],
   "source": [
    "ratings = [1,0,2]\n",
    "print(f\"{ratings=}\")\n",
    "# ratings = [ 0 , 1,2,3,4,5,6,7]\n",
    "total_candies =  5\n",
    "\n",
    "\n",
    "candies_allotment = [1]* len(ratings)\n",
    "\n",
    "ratings, candies_allotment\n",
    "\n",
    "\n",
    "print(f\"initial: {candies_allotment}\")\n",
    "\n",
    "for i in range(1, len(candies_allotment)):\n",
    "    if(ratings[i]>ratings[i-1]):\n",
    "        candies_allotment[i] = candies_allotment[i] + 1\n",
    "\n",
    "\n",
    "print(f\"forward: {candies_allotment}\")\n",
    "\n",
    "\n",
    "# reverse pass\n",
    "\n",
    "\n",
    "\n",
    "for i in   range(len(ratings)-2, -1, -1):\n",
    "    if ratings[i] > ratings[i+1]:\n",
    "        candies_allotment[i] = max(candies_allotment[i+1], candies_allotment[i]+1)\n",
    "\n",
    "print(f\"reverse: {candies_allotment}\")\n"
   ]
  },
  {
   "cell_type": "code",
   "execution_count": 61,
   "metadata": {},
   "outputs": [
    {
     "name": "stdout",
     "output_type": "stream",
     "text": [
      "ratings=[1, 0, 2]\n",
      "initial: [1, 1, 1]\n",
      "forward: [1, 1, 2]\n",
      "reverse: [2, 1, 2]\n",
      "Total candies needed: 5\n"
     ]
    }
   ],
   "source": [
    "ratings = [1, 0, 2]\n",
    "print(f\"{ratings=}\")\n",
    "\n",
    "# Initialize candies allotment\n",
    "candies_allotment = [1] * len(ratings)\n",
    "\n",
    "print(f\"initial: {candies_allotment}\")\n",
    "\n",
    "# Forward pass\n",
    "for i in range(1, len(candies_allotment)):\n",
    "    if ratings[i] > ratings[i - 1]:\n",
    "        candies_allotment[i] = candies_allotment[i - 1] + 1\n",
    "\n",
    "print(f\"forward: {candies_allotment}\")\n",
    "\n",
    "# Reverse pass\n",
    "for i in range(len(ratings) - 2, -1, -1):\n",
    "    if ratings[i] > ratings[i + 1]:\n",
    "        candies_allotment[i] = max(candies_allotment[i], candies_allotment[i + 1] + 1)\n",
    "\n",
    "print(f\"reverse: {candies_allotment}\")\n",
    "\n",
    "# Calculate total candies\n",
    "total_candies = sum(candies_allotment)\n",
    "print(f\"Total candies needed: {total_candies}\")\n"
   ]
  },
  {
   "cell_type": "code",
   "execution_count": 40,
   "metadata": {},
   "outputs": [
    {
     "name": "stdout",
     "output_type": "stream",
     "text": [
      "5\n",
      "4\n"
     ]
    }
   ],
   "source": [
    "def candy(ratings):\n",
    "    n = len(ratings)\n",
    "    if n == 0:\n",
    "        return 0\n",
    "    \n",
    "    # Step 1: Initialize candies array\n",
    "    candies = [1] * n\n",
    "\n",
    "    # Step 2: Left to right pass\n",
    "    for i in range(1, n):\n",
    "        if ratings[i] > ratings[i - 1]:\n",
    "            candies[i] = candies[i - 1] + 1\n",
    "\n",
    "    # Step 3: Right to left pass\n",
    "    for i in range(n - 2, -1, -1):\n",
    "        if ratings[i] > ratings[i + 1]:\n",
    "            candies[i] = max(candies[i], candies[i + 1] + 1)\n",
    "\n",
    "    # Step 4: Calculate total candies\n",
    "    total_candies = sum(candies)\n",
    "\n",
    "    return total_candies\n",
    "\n",
    "\n",
    "ratings = [1, 0, 2]\n",
    "print(candy(ratings))  # Output: 5\n",
    "\n",
    "ratings = [1, 2, 2]\n",
    "print(candy(ratings))  # Output: 4\n"
   ]
  },
  {
   "cell_type": "code",
   "execution_count": null,
   "metadata": {},
   "outputs": [],
   "source": []
  },
  {
   "cell_type": "code",
   "execution_count": 62,
   "metadata": {},
   "outputs": [],
   "source": [
    "from typing import List\n",
    "\n",
    "class Solution:\n",
    "    def candy(self, ratings: List[int]) -> int:\n",
    "        n = len(ratings)\n",
    "        if n == 0:\n",
    "            return 0\n",
    "        \n",
    "        # Initialize candies to 1 for each child\n",
    "        total_candies = 0\n",
    "        candies = [1] * n\n",
    "        \n",
    "        # Forward pass\n",
    "        for i in range(1, n):\n",
    "            if ratings[i] > ratings[i - 1]:\n",
    "                candies[i] = candies[i - 1] + 1\n",
    "\n",
    "        # Reverse pass\n",
    "        for i in range(n - 2, -1, -1):\n",
    "            if ratings[i] > ratings[i + 1]:\n",
    "                candies[i] = max(candies[i], candies[i + 1] + 1)\n",
    "\n",
    "        # Calculate total candies in one loop\n",
    "        total_candies = sum(candies)\n",
    "        return total_candies\n"
   ]
  },
  {
   "cell_type": "code",
   "execution_count": null,
   "metadata": {},
   "outputs": [],
   "source": []
  },
  {
   "cell_type": "code",
   "execution_count": null,
   "metadata": {},
   "outputs": [],
   "source": []
  },
  {
   "cell_type": "code",
   "execution_count": null,
   "metadata": {},
   "outputs": [],
   "source": []
  },
  {
   "cell_type": "code",
   "execution_count": null,
   "metadata": {},
   "outputs": [],
   "source": []
  },
  {
   "cell_type": "code",
   "execution_count": null,
   "metadata": {},
   "outputs": [],
   "source": []
  },
  {
   "cell_type": "code",
   "execution_count": null,
   "metadata": {},
   "outputs": [],
   "source": []
  },
  {
   "cell_type": "code",
   "execution_count": null,
   "metadata": {},
   "outputs": [],
   "source": []
  },
  {
   "cell_type": "code",
   "execution_count": null,
   "metadata": {},
   "outputs": [],
   "source": []
  },
  {
   "cell_type": "code",
   "execution_count": null,
   "metadata": {},
   "outputs": [],
   "source": []
  },
  {
   "cell_type": "code",
   "execution_count": null,
   "metadata": {},
   "outputs": [],
   "source": [
    "# "
   ]
  },
  {
   "cell_type": "markdown",
   "metadata": {},
   "source": [
    "# 228. Summary Ranges\n"
   ]
  },
  {
   "cell_type": "code",
   "execution_count": 10,
   "metadata": {},
   "outputs": [
    {
     "data": {
      "text/plain": [
       "['0->2', '4->5', '7']"
      ]
     },
     "execution_count": 10,
     "metadata": {},
     "output_type": "execute_result"
    }
   ],
   "source": [
    "nums = [0,1,2,4,5,7]\n",
    "target = [\"0->2\",\"4->5\",\"7\"]\n",
    "\n",
    "\n",
    "\n",
    "def summaryRanges(nums):\n",
    "\n",
    "    result=[]\n",
    "    i =0\n",
    "    s = len(nums)\n",
    "    while(i<s):\n",
    "\n",
    "\n",
    "        start = nums[i]\n",
    "\n",
    "        while i< len(nums)-1 and nums[i]+1 == nums[i+1]:\n",
    "            # print(f\"\\tconsectutive: {nums[i]=}; {nums[i+1]=}\")\n",
    "            \n",
    "            i+=1\n",
    "\n",
    "        \n",
    "        if start != nums[i]:\n",
    "            # print(f\"{start = } ->  {nums[i]=}\")\n",
    "            result.append(str(start) +'->'+ str(nums[i]))\n",
    "        else:\n",
    "            # print(f\"{start=}\")\n",
    "            result.append(str(nums[i]))\n",
    "        i+=1\n",
    "\n",
    "    return result\n",
    "\n",
    "\n",
    "    \n",
    "\n",
    "\n",
    "\n",
    "\n",
    "\n",
    "\n",
    "summaryRanges(nums)"
   ]
  },
  {
   "cell_type": "code",
   "execution_count": null,
   "metadata": {},
   "outputs": [],
   "source": []
  },
  {
   "cell_type": "code",
   "execution_count": null,
   "metadata": {},
   "outputs": [],
   "source": []
  },
  {
   "cell_type": "markdown",
   "metadata": {},
   "source": [
    "# 383. Ransom Note\n",
    "Given two strings ransomNote and magazine, return true if ransomNote can be constructed by using the letters from magazine and false otherwise."
   ]
  },
  {
   "cell_type": "code",
   "execution_count": 14,
   "metadata": {},
   "outputs": [
    {
     "name": "stdout",
     "output_type": "stream",
     "text": [
      "m_dict={'a': 2, 'b': 1}\n",
      "r_dict={'a': 2}\n",
      "\trk='a'\n"
     ]
    }
   ],
   "source": [
    "ransomNote = \"a\"; magazine = \"b\"\n",
    "ransomNote = \"aa\"; magazine = \"ab\"\n",
    "ransomNote = \"aa\"; magazine = \"aab\"\n",
    "\n",
    "\n",
    "magazine_dict ={i:0 for i in magazine}\n",
    "magazine_dict\n",
    "\n",
    "m_dict={}\n",
    "for k in magazine:\n",
    "    m_dict[k] = m_dict.get(k, 0)+1\n",
    "\n",
    "m_dict\n",
    "print(f\"{m_dict=}\")\n",
    "\n",
    "r_dict={}\n",
    "for k in ransomNote:\n",
    "    r_dict[k] = r_dict.get(k, 0)+1\n",
    "\n",
    "r_dict\n",
    "print(f\"{r_dict=}\")\n",
    "\n",
    "# {for rk in ransomNote if r in magazine\n",
    "# result = [f\"{rk=}\" if rk in m_dict and r_dict[rk] <= m_dict[rk] else \"xxx\" for rk in r_dict]\n",
    "\n",
    "\n",
    "for rk in r_dict:\n",
    "    if rk in m_dict:\n",
    "        r_dict[rk] <= m_dict[rk]\n",
    "        print(f\"\\t{rk=}\")\n",
    "    else:\n",
    "        print(f\"xxx\")        "
   ]
  },
  {
   "cell_type": "code",
   "execution_count": null,
   "metadata": {},
   "outputs": [],
   "source": [
    "class Solution:\n",
    "    def canConstruct(self, ransomNote: str, magazine: str) -> bool:\n",
    "        char_count = {}\n",
    "        for char in magazine:\n",
    "            char_count[char] = char_count.get(char, 0) + 1\n",
    "\n",
    "        for char in ransomNote:\n",
    "            if char not in char_count or char_count[char] == 0:\n",
    "                return False\n",
    "            char_count[char] -= 1\n",
    "        else:\n",
    "            return True\n",
    "        "
   ]
  },
  {
   "cell_type": "code",
   "execution_count": null,
   "metadata": {},
   "outputs": [],
   "source": [
    "ransomNote = \"aa\"\n",
    "magazine = \"aab\"\n",
    "\n",
    "# Count the occurrences of each character in magazine\n",
    "m_dict = {}\n",
    "for k in magazine:\n",
    "    m_dict[k] = m_dict.get(k, 0) + 1\n",
    "print(f\"{m_dict=}\")\n",
    "\n",
    "# Count the occurrences of each character in ransomNote\n",
    "r_dict = {}\n",
    "for k in ransomNote:\n",
    "    r_dict[k] = r_dict.get(k, 0) + 1\n",
    "print(f\"{r_dict=}\")\n",
    "\n",
    "# Check if ransomNote can be constructed from magazine\n",
    "can_construct = True\n",
    "for rk in r_dict:\n",
    "    if rk in m_dict:\n",
    "        if r_dict[rk] > m_dict[rk]:\n",
    "            can_construct = False\n",
    "            break\n",
    "    else:\n",
    "        can_construct = False\n",
    "        break\n",
    "\n",
    "print(\"Can construct ransom note:\", can_construct)\n"
   ]
  },
  {
   "cell_type": "code",
   "execution_count": null,
   "metadata": {},
   "outputs": [],
   "source": []
  },
  {
   "cell_type": "code",
   "execution_count": 15,
   "metadata": {},
   "outputs": [
    {
     "name": "stdout",
     "output_type": "stream",
     "text": [
      "Can construct ransom note: True\n"
     ]
    }
   ],
   "source": [
    "ransomNote = \"aa\"\n",
    "magazine = \"aab\"\n",
    "\n",
    "# Create a dictionary to count the characters in magazine\n",
    "char_count = {}\n",
    "for char in magazine:\n",
    "    char_count[char] = char_count.get(char, 0) + 1\n",
    "\n",
    "# Check if ransomNote can be constructed\n",
    "for char in ransomNote:\n",
    "    if char not in char_count or char_count[char] == 0:\n",
    "        print(\"Can construct ransom note:\", False)\n",
    "        break\n",
    "    char_count[char] -= 1\n",
    "else:\n",
    "    print(\"Can construct ransom note:\", True)\n"
   ]
  },
  {
   "cell_type": "code",
   "execution_count": 16,
   "metadata": {},
   "outputs": [],
   "source": [
    "class Solution:\n",
    "    def canConstruct(self, ransomNote: str, magazine: str) -> bool:\n",
    "        char_count = {}\n",
    "        for char in magazine:\n",
    "            char_count[char] = char_count.get(char, 0) + 1\n",
    "\n",
    "        for char in ransomNote:\n",
    "            if char not in char_count or char_count[char] == 0:\n",
    "                return False\n",
    "            char_count[char] -= 1\n",
    "        else:\n",
    "            return True\n",
    "        "
   ]
  },
  {
   "cell_type": "code",
   "execution_count": 17,
   "metadata": {},
   "outputs": [
    {
     "name": "stdout",
     "output_type": "stream",
     "text": [
      "m_dict={'a': 2, 'b': 1}\n",
      "r_dict={'a': 2}\n",
      "[\"rk='a'\"]\n"
     ]
    }
   ],
   "source": [
    "ransomNote = \"aa\"\n",
    "magazine = \"aab\"\n",
    "\n",
    "# Creating m_dict and r_dict with dictionary comprehensions\n",
    "m_dict = {k: magazine.count(k) for k in set(magazine)}\n",
    "r_dict = {k: ransomNote.count(k) for k in set(ransomNote)}\n",
    "\n",
    "# Printing dictionaries for debugging\n",
    "print(f\"{m_dict=}\")\n",
    "print(f\"{r_dict=}\")\n",
    "\n",
    "# Using a list comprehension to check each character in r_dict against m_dict\n",
    "result = [f\"{rk=}\" if rk in m_dict and r_dict[rk] <= m_dict[rk] else \"xxx\" for rk in r_dict]\n",
    "\n",
    "# Printing the result\n",
    "print(result)\n"
   ]
  },
  {
   "cell_type": "code",
   "execution_count": 22,
   "metadata": {},
   "outputs": [
    {
     "data": {
      "text/plain": [
       "True"
      ]
     },
     "execution_count": 22,
     "metadata": {},
     "output_type": "execute_result"
    }
   ],
   "source": [
    "ransomNote = \"aa\"\n",
    "magazine = \"aab\"\n",
    "\n",
    "\n",
    "def canConstruct(ransomNote, magazine):\n",
    "\n",
    "# Creating m_dict and r_dict with dictionary comprehensions\n",
    "    m_dict = {k: magazine.count(k) for k in set(magazine)}\n",
    "    r_dict = {k: ransomNote.count(k) for k in set(ransomNote)}\n",
    "\n",
    "    # Using a list comprehension to check each character in r_dict against m_dict\n",
    "    return all(True if rk in m_dict and r_dict[rk] <= m_dict[rk] else False for rk in r_dict)\n",
    "\n",
    "canConstruct(ransomNote, magazine)\n"
   ]
  },
  {
   "cell_type": "code",
   "execution_count": null,
   "metadata": {},
   "outputs": [],
   "source": []
  },
  {
   "cell_type": "code",
   "execution_count": null,
   "metadata": {},
   "outputs": [],
   "source": []
  },
  {
   "cell_type": "code",
   "execution_count": null,
   "metadata": {},
   "outputs": [],
   "source": []
  },
  {
   "cell_type": "code",
   "execution_count": null,
   "metadata": {},
   "outputs": [],
   "source": []
  },
  {
   "cell_type": "code",
   "execution_count": null,
   "metadata": {},
   "outputs": [],
   "source": []
  },
  {
   "cell_type": "code",
   "execution_count": null,
   "metadata": {},
   "outputs": [],
   "source": []
  },
  {
   "cell_type": "code",
   "execution_count": null,
   "metadata": {},
   "outputs": [],
   "source": []
  },
  {
   "cell_type": "code",
   "execution_count": null,
   "metadata": {},
   "outputs": [],
   "source": []
  },
  {
   "cell_type": "code",
   "execution_count": null,
   "metadata": {},
   "outputs": [],
   "source": []
  },
  {
   "cell_type": "code",
   "execution_count": null,
   "metadata": {},
   "outputs": [],
   "source": []
  },
  {
   "cell_type": "code",
   "execution_count": null,
   "metadata": {},
   "outputs": [],
   "source": []
  },
  {
   "cell_type": "code",
   "execution_count": null,
   "metadata": {},
   "outputs": [],
   "source": []
  },
  {
   "cell_type": "code",
   "execution_count": null,
   "metadata": {},
   "outputs": [],
   "source": []
  },
  {
   "cell_type": "code",
   "execution_count": null,
   "metadata": {},
   "outputs": [],
   "source": []
  },
  {
   "cell_type": "code",
   "execution_count": null,
   "metadata": {},
   "outputs": [],
   "source": []
  },
  {
   "cell_type": "code",
   "execution_count": null,
   "metadata": {},
   "outputs": [],
   "source": []
  },
  {
   "cell_type": "markdown",
   "metadata": {},
   "source": [
    "# stack vs cat"
   ]
  },
  {
   "cell_type": "code",
   "execution_count": 7,
   "metadata": {},
   "outputs": [
    {
     "name": "stdout",
     "output_type": "stream",
     "text": [
      "input1.shape=torch.Size([5, 2]); input2.shape=torch.Size([5, 2])\n",
      "tensor([-0.7216,  0.9574,  0.9827,  0.4755, -0.3795])\n"
     ]
    }
   ],
   "source": [
    "import torch\n",
    "import torch.nn.functional as F\n",
    "input1 = torch.randn(5, 2)\n",
    "input2 = torch.randn(5, 2)\n",
    "print(f\"{input1.shape=}; {input2.shape=}\")\n",
    "output = F.cosine_similarity(input1, input2)\n",
    "print(output)"
   ]
  },
  {
   "cell_type": "code",
   "execution_count": 37,
   "metadata": {},
   "outputs": [
    {
     "name": "stdout",
     "output_type": "stream",
     "text": [
      "input1.shape=torch.Size([5, 2]); input2.shape=torch.Size([5, 2])\n",
      "Cosine Similarity: tensor([0.9487, 0.9899, 0.9959, 0.9978, 0.9986])\n"
     ]
    }
   ],
   "source": [
    "import torch\n",
    "import torch.nn.functional as F\n",
    "\n",
    "# Create identical tensors for maximum cosine similarity\n",
    "input1 = torch.tensor([[1.0, 2.0], [3.0, 4.0], [5.0, 6.0], [7.0, 8.0], [9.0, 10.0]])\n",
    "input2 = torch.ones(5,2)\n",
    "\n",
    "print(f\"{input1.shape=}; {input2.shape=}\")\n",
    "output = F.cosine_similarity(input1, input2)\n",
    "print(\"Cosine Similarity:\", output)\n"
   ]
  },
  {
   "cell_type": "code",
   "execution_count": 38,
   "metadata": {},
   "outputs": [
    {
     "name": "stdout",
     "output_type": "stream",
     "text": [
      "input1.shape=torch.Size([5, 2]); input2.shape=torch.Size([2])\n",
      "Cosine Similarity: tensor([0.9487, 0.9899, 0.9959, 0.9978, 0.9986])\n"
     ]
    }
   ],
   "source": [
    "import torch\n",
    "import torch.nn.functional as F\n",
    "\n",
    "# Define input tensors\n",
    "input1 = torch.tensor([[1.0, 2.0], [3.0, 4.0], [5.0, 6.0], [7.0, 8.0], [9.0, 10.0]])\n",
    "input2 = torch.tensor([1,1])\n",
    "\n",
    "print(f\"{input1.shape=}; {input2.shape=}\")\n",
    "\n",
    "# Calculate cosine similarity\n",
    "output = F.cosine_similarity(input1, input2)\n",
    "print(\"Cosine Similarity:\", output)\n"
   ]
  },
  {
   "cell_type": "code",
   "execution_count": null,
   "metadata": {},
   "outputs": [],
   "source": [
    "import torch\n",
    "\n",
    "# Example lists\n",
    "list1 = [1.0, 2.0, 3.0]\n",
    "list2 = [4.0, 5.0, 6.0]\n",
    "list3 = [7.0, 8.0, 9.0]\n",
    "\n",
    "# Combine lists into a 2D list\n",
    "combined_lists = [list1, list2, list3]\n",
    "\n",
    "# Create a tensor from the 2D list\n",
    "input1 = torch.tensor(combined_lists)\n",
    "\n",
    "print(\"Tensor input1:\", input1)\n"
   ]
  },
  {
   "cell_type": "code",
   "execution_count": null,
   "metadata": {},
   "outputs": [],
   "source": [
    "import torch\n",
    "\n",
    "# Example lists\n",
    "list1 = [1.0, 2.0, 3.0]\n",
    "list2 = [4.0, 5.0, 6.0]\n",
    "list3 = [7.0, 8.0, 9.0]\n",
    "\n",
    "# Convert lists to tensors and stack them\n",
    "input1 = torch.stack([torch.tensor(list1), torch.tensor(list2), torch.tensor(list3)])\n",
    "\n",
    "print(\"Optimized Tensor input1:\", input1)\n"
   ]
  },
  {
   "cell_type": "code",
   "execution_count": 21,
   "metadata": {},
   "outputs": [
    {
     "ename": "NameError",
     "evalue": "name 'combined_lists' is not defined",
     "output_type": "error",
     "traceback": [
      "\u001b[0;31m---------------------------------------------------------------------------\u001b[0m",
      "\u001b[0;31mNameError\u001b[0m                                 Traceback (most recent call last)",
      "Cell \u001b[0;32mIn[21], line 2\u001b[0m\n\u001b[1;32m      1\u001b[0m \u001b[38;5;66;03m# Directly stack lists using list comprehension\u001b[39;00m\n\u001b[0;32m----> 2\u001b[0m input1 \u001b[38;5;241m=\u001b[39m torch\u001b[38;5;241m.\u001b[39mstack([torch\u001b[38;5;241m.\u001b[39mtensor(lst) \u001b[38;5;28;01mfor\u001b[39;00m lst \u001b[38;5;129;01min\u001b[39;00m \u001b[43mcombined_lists\u001b[49m])\n\u001b[1;32m      4\u001b[0m \u001b[38;5;28mprint\u001b[39m(\u001b[38;5;124m\"\u001b[39m\u001b[38;5;124mOptimized Tensor input1:\u001b[39m\u001b[38;5;124m\"\u001b[39m, input1)\n",
      "\u001b[0;31mNameError\u001b[0m: name 'combined_lists' is not defined"
     ]
    }
   ],
   "source": [
    "# Directly stack lists using list comprehension\n",
    "input1 = torch.stack([torch.tensor(lst) for lst in combined_lists])\n",
    "\n",
    "print(\"Optimized Tensor input1:\", input1)\n"
   ]
  },
  {
   "cell_type": "code",
   "execution_count": 22,
   "metadata": {},
   "outputs": [
    {
     "name": "stdout",
     "output_type": "stream",
     "text": [
      "Using torch.stack:\n",
      "tensor([[1, 2, 3],\n",
      "        [4, 5, 6],\n",
      "        [7, 8, 9]])\n",
      "Shape of stacked tensor: torch.Size([3, 3])\n",
      "\n",
      "Using torch.cat:\n",
      "tensor([[1, 2, 3],\n",
      "        [4, 5, 6],\n",
      "        [7, 8, 9]])\n",
      "Shape of concatenated tensor: torch.Size([3, 3])\n",
      "\n",
      "Stacking along dimension 1:\n",
      "tensor([[1, 4, 7],\n",
      "        [2, 5, 8],\n",
      "        [3, 6, 9]])\n",
      "Shape of stacked tensor along dim=1: torch.Size([3, 3])\n",
      "\n",
      "Concatenating along dimension 0:\n",
      "tensor([[1],\n",
      "        [2],\n",
      "        [3],\n",
      "        [4],\n",
      "        [5],\n",
      "        [6],\n",
      "        [7],\n",
      "        [8],\n",
      "        [9]])\n",
      "Shape of concatenated tensor along dim=0: torch.Size([9, 1])\n"
     ]
    }
   ],
   "source": [
    "import torch\n",
    "\n",
    "# Create some example tensors (1D)\n",
    "tensor1 = torch.tensor([1, 2, 3])\n",
    "tensor2 = torch.tensor([4, 5, 6])\n",
    "tensor3 = torch.tensor([7, 8, 9])\n",
    "\n",
    "# Using torch.stack\n",
    "stacked_tensor = torch.stack([tensor1, tensor2, tensor3])\n",
    "print(\"Using torch.stack:\")\n",
    "print(stacked_tensor)\n",
    "print(\"Shape of stacked tensor:\", stacked_tensor.shape)  # Output: torch.Size([3, 3])\n",
    "\n",
    "# Using torch.cat\n",
    "# To use cat, we need to ensure all tensors have the same number of dimensions.\n",
    "# We can add an additional dimension to each tensor to concatenate along the first dimension.\n",
    "cat_tensor = torch.cat([tensor1.unsqueeze(0), tensor2.unsqueeze(0), tensor3.unsqueeze(0)])\n",
    "print(\"\\nUsing torch.cat:\")\n",
    "print(cat_tensor)\n",
    "print(\"Shape of concatenated tensor:\", cat_tensor.shape)  # Output: torch.Size([3, 3])\n",
    "\n",
    "# Demonstrating different dimension stacking\n",
    "# Let's stack along a different dimension\n",
    "stacked_tensor_dim1 = torch.stack([tensor1, tensor2, tensor3], dim=1)\n",
    "print(\"\\nStacking along dimension 1:\")\n",
    "print(stacked_tensor_dim1)\n",
    "print(\"Shape of stacked tensor along dim=1:\", stacked_tensor_dim1.shape)  # Output: torch.Size([3, 3])\n",
    "\n",
    "# Using torch.cat with a different dimension\n",
    "# To concatenate along dimension 0 (as in default), we first need to add an extra dimension.\n",
    "cat_tensor_dim0 = torch.cat([tensor1.unsqueeze(1), tensor2.unsqueeze(1), tensor3.unsqueeze(1)], dim=0)\n",
    "print(\"\\nConcatenating along dimension 0:\")\n",
    "print(cat_tensor_dim0)\n",
    "print(\"Shape of concatenated tensor along dim=0:\", cat_tensor_dim0.shape)  # Output: torch.Size([3, 3])\n"
   ]
  },
  {
   "cell_type": "code",
   "execution_count": null,
   "metadata": {},
   "outputs": [],
   "source": []
  },
  {
   "cell_type": "code",
   "execution_count": null,
   "metadata": {},
   "outputs": [],
   "source": []
  },
  {
   "cell_type": "code",
   "execution_count": null,
   "metadata": {},
   "outputs": [],
   "source": []
  },
  {
   "cell_type": "code",
   "execution_count": null,
   "metadata": {},
   "outputs": [],
   "source": []
  },
  {
   "cell_type": "code",
   "execution_count": null,
   "metadata": {},
   "outputs": [],
   "source": []
  },
  {
   "cell_type": "code",
   "execution_count": null,
   "metadata": {},
   "outputs": [],
   "source": []
  },
  {
   "cell_type": "code",
   "execution_count": null,
   "metadata": {},
   "outputs": [],
   "source": []
  },
  {
   "cell_type": "code",
   "execution_count": null,
   "metadata": {},
   "outputs": [],
   "source": []
  },
  {
   "cell_type": "code",
   "execution_count": null,
   "metadata": {},
   "outputs": [],
   "source": []
  },
  {
   "cell_type": "code",
   "execution_count": null,
   "metadata": {},
   "outputs": [],
   "source": []
  },
  {
   "cell_type": "code",
   "execution_count": null,
   "metadata": {},
   "outputs": [],
   "source": []
  },
  {
   "cell_type": "code",
   "execution_count": null,
   "metadata": {},
   "outputs": [],
   "source": []
  },
  {
   "cell_type": "markdown",
   "metadata": {},
   "source": [
    "# 56. Merge Intervals\n",
    "\n",
    "Given an array of intervals where intervals[i] = [starti, endi], merge all overlapping intervals, and return an array of the non-overlapping intervals that cover all the intervals in the input."
   ]
  },
  {
   "cell_type": "code",
   "execution_count": 1,
   "metadata": {},
   "outputs": [],
   "source": [
    "intervals = [[1,3],[2,6],[8,10],[15,18]]\n",
    "target =  [[1,6],[8,10],[15,18]]"
   ]
  },
  {
   "cell_type": "code",
   "execution_count": 4,
   "metadata": {},
   "outputs": [
    {
     "name": "stdout",
     "output_type": "stream",
     "text": [
      "i=1; j=3\n",
      "i=2; j=6\n",
      "i=8; j=10\n",
      "i=15; j=18\n"
     ]
    }
   ],
   "source": [
    "for i, j in intervals:\n",
    "    print(f\"{i=}; {j=}\")"
   ]
  },
  {
   "cell_type": "code",
   "execution_count": 30,
   "metadata": {},
   "outputs": [],
   "source": [
    "intervals = [[1,3],[2,6],[8,10],[15,18]]\n",
    "target =  [[1,6],[8,10],[15,18]]\n",
    "intervals =sorted(intervals, key=lambda x:x[0])\n",
    "previous_interval = intervals[0]\n",
    "results = []\n",
    "for current_interval in intervals[1:]:\n",
    "    # print(f\"{current_interval[0]=}; {current_interval[1]=}\")\n",
    "    if current_interval[0]>previous_interval[1]:\n",
    "        # print(f\"not merged:{current_interval}\")\n",
    "        # result.append(current_interval)\n",
    "        previous_interval = current_interval\n",
    "    else:\n",
    "        # print(f\"\\tmerging: [{previous_interval[0]} -> {max(current_interval[1], previous_interval[1])}]\")\n",
    "        previous_interval = [previous_interval[0], max(current_interval[1], previous_interval[1])]\n",
    "        # print(f\"nerged_interval: {previous_interval}\")\n",
    "        \n",
    "    results.append(previous_interval)\n",
    "assert results==target, \"not matched\""
   ]
  },
  {
   "cell_type": "code",
   "execution_count": null,
   "metadata": {},
   "outputs": [],
   "source": []
  },
  {
   "cell_type": "code",
   "execution_count": 31,
   "metadata": {},
   "outputs": [
    {
     "name": "stdout",
     "output_type": "stream",
     "text": [
      "Merged Intervals: [[1, 6], [8, 10], [15, 18]]\n"
     ]
    }
   ],
   "source": [
    "intervals = [[1, 3], [2, 6], [8, 10], [15, 18]]\n",
    "target = [[1, 6], [8, 10], [15, 18]]\n",
    "\n",
    "# Sort intervals by the starting point\n",
    "intervals = sorted(intervals, key=lambda x: x[0])\n",
    "\n",
    "previous_interval = intervals[0]\n",
    "results = []\n",
    "\n",
    "for current_interval in intervals[1:]:\n",
    "    if current_interval[0] > previous_interval[1]:\n",
    "        # No overlap, so add the previous interval to the results\n",
    "        results.append(previous_interval)\n",
    "        previous_interval = current_interval\n",
    "    else:\n",
    "        # Overlapping intervals, merge them\n",
    "        previous_interval = [previous_interval[0], max(previous_interval[1], current_interval[1])]\n",
    "\n",
    "# Add the last interval after the loop\n",
    "results.append(previous_interval)\n",
    "\n",
    "assert results == target, \"not matched\"\n",
    "print(\"Merged Intervals:\", results)\n"
   ]
  },
  {
   "cell_type": "code",
   "execution_count": 10,
   "metadata": {},
   "outputs": [
    {
     "data": {
      "text/plain": [
       "[[1, 3], [2, 6], [8, 10], [15, 18]]"
      ]
     },
     "execution_count": 10,
     "metadata": {},
     "output_type": "execute_result"
    }
   ],
   "source": []
  },
  {
   "cell_type": "code",
   "execution_count": null,
   "metadata": {},
   "outputs": [],
   "source": [
    "class Solution:\n",
    "    def merge(self, intervals: List[List[int]]) -> List[List[int]]:\n",
    "        # Sort intervals by the starting point\n",
    "        intervals.sort(key=lambda x: x[0])\n",
    "\n",
    "        results = []\n",
    "        previous_interval = intervals[0]\n",
    "\n",
    "        for current_interval in intervals[1:]:\n",
    "            if current_interval[0] > previous_interval[1]:\n",
    "                results.append(previous_interval)\n",
    "                previous_interval = current_interval\n",
    "            else:\n",
    "                # Modify previous_interval in place\n",
    "                previous_interval[1] = max(previous_interval[1], current_interval[1])\n",
    "\n",
    "        # Append the last interval\n",
    "        results.append(previous_interval)\n",
    "        return results\n"
   ]
  },
  {
   "cell_type": "code",
   "execution_count": null,
   "metadata": {},
   "outputs": [],
   "source": []
  },
  {
   "cell_type": "code",
   "execution_count": null,
   "metadata": {},
   "outputs": [],
   "source": []
  },
  {
   "cell_type": "code",
   "execution_count": null,
   "metadata": {},
   "outputs": [],
   "source": []
  },
  {
   "cell_type": "code",
   "execution_count": null,
   "metadata": {},
   "outputs": [],
   "source": []
  },
  {
   "cell_type": "code",
   "execution_count": null,
   "metadata": {},
   "outputs": [],
   "source": []
  },
  {
   "cell_type": "markdown",
   "metadata": {},
   "source": [
    "# 13. Roman to Integer\n",
    "\n",
    "\n",
    "Roman numerals are represented by seven different symbols: I, V, X, L, C, D and M.\n",
    "\n",
    "    Symbol       Value\n",
    "    I             1\n",
    "    V             5\n",
    "    X             10\n",
    "    L             50\n",
    "    C             100\n",
    "    D             500\n",
    "    M             1000\n",
    "\n",
    "For example, 2 is written as II in Roman numeral, just two ones added together. 12 is written as XII, which is simply X + II. The number 27 is written as XXVII, which is XX + V + II.\n",
    "\n",
    "Roman numerals are usually written largest to smallest from left to right. However, the numeral for four is not IIII. Instead, the number four is written as IV. Because the one is before the five we subtract it making four. The same principle applies to the number nine, which is written as IX. There are six instances where subtraction is used:\n",
    "\n",
    "    I can be placed before V (5) and X (10) to make 4 and 9. \n",
    "    X can be placed before L (50) and C (100) to make 40 and 90. \n",
    "    C can be placed before D (500) and M (1000) to make 400 and 900.\n",
    "\n",
    "Given a roman numeral, convert it to an integer.\n",
    "\n",
    " "
   ]
  },
  {
   "cell_type": "code",
   "execution_count": 23,
   "metadata": {},
   "outputs": [
    {
     "name": "stdout",
     "output_type": "stream",
     "text": [
      "add: 1000\n",
      "i=1; s[i]='C'; 100\n",
      "add: 1000\n",
      "i=3; s[i]='X'; 10\n",
      "add: 100\n",
      "i=5; s[i]='I'; 1\n",
      "add: 5\n"
     ]
    },
    {
     "data": {
      "text/plain": [
       "1994"
      ]
     },
     "execution_count": 23,
     "metadata": {},
     "output_type": "execute_result"
    }
   ],
   "source": [
    "s = \"III\"\n",
    "output= 3\n",
    "\n",
    "\n",
    "s = \"LVIII\"\n",
    "# output= 58\n",
    "\n",
    "\n",
    "s = \"MCMXCIV\"\n",
    "# output= 1994\n",
    "\n",
    "\n",
    "\n",
    "m = {\n",
    "            'I': 1,\n",
    "            'V': 5,\n",
    "            'X': 10,\n",
    "            'L': 50,\n",
    "            'C': 100,\n",
    "            'D': 500,\n",
    "            'M': 1000\n",
    "        }\n",
    "\n",
    "total = 0\n",
    "for i in range(len(s)):\n",
    "    if i<len(s)-1 and m[s[i]]< m[s[i+1]]:\n",
    "        print(F\"{i=}; {s[i]=}; {m[s[i]]}\")\n",
    "        total-=m[s[i]]\n",
    "    else:\n",
    "        print(f\"add: { m[s[i]]}\")\n",
    "        total+=m[s[i]]\n",
    "total"
   ]
  },
  {
   "cell_type": "code",
   "execution_count": null,
   "metadata": {},
   "outputs": [],
   "source": []
  },
  {
   "cell_type": "code",
   "execution_count": 24,
   "metadata": {},
   "outputs": [],
   "source": [
    "class Solution:\n",
    "    def romanToInt(self, s: str) -> int:\n",
    "        # Roman numeral map\n",
    "        m = {\n",
    "            'I': 1, 'V': 5, 'X': 10, 'L': 50,\n",
    "            'C': 100, 'D': 500, 'M': 1000\n",
    "        }\n",
    "\n",
    "        total = 0\n",
    "        n = len(s)  # Precompute the length\n",
    "\n",
    "        # Iterate through the string with index and value\n",
    "        for i, char in enumerate(s):\n",
    "            value = m[char]  # Access the value once\n",
    "            # If the next character is larger, subtract the current value\n",
    "            if i < n - 1 and value < m[s[i + 1]]:\n",
    "                total -= value\n",
    "            else:\n",
    "                total += value\n",
    "\n",
    "        return total\n"
   ]
  },
  {
   "cell_type": "code",
   "execution_count": null,
   "metadata": {},
   "outputs": [],
   "source": []
  },
  {
   "cell_type": "code",
   "execution_count": null,
   "metadata": {},
   "outputs": [],
   "source": []
  },
  {
   "cell_type": "code",
   "execution_count": null,
   "metadata": {},
   "outputs": [],
   "source": []
  },
  {
   "cell_type": "code",
   "execution_count": null,
   "metadata": {},
   "outputs": [],
   "source": []
  },
  {
   "cell_type": "code",
   "execution_count": null,
   "metadata": {},
   "outputs": [],
   "source": []
  }
 ],
 "metadata": {
  "kernelspec": {
   "display_name": "Python 3",
   "language": "python",
   "name": "python3"
  },
  "language_info": {
   "codemirror_mode": {
    "name": "ipython",
    "version": 3
   },
   "file_extension": ".py",
   "mimetype": "text/x-python",
   "name": "python",
   "nbconvert_exporter": "python",
   "pygments_lexer": "ipython3",
   "version": "3.12.5"
  }
 },
 "nbformat": 4,
 "nbformat_minor": 2
}
