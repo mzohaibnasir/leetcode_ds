{
 "cells": [
  {
   "cell_type": "markdown",
   "metadata": {},
   "source": [
    "# leetcode 33: Search in Rotated Sorted Array\n"
   ]
  },
  {
   "cell_type": "code",
   "execution_count": 27,
   "metadata": {},
   "outputs": [
    {
     "name": "stdout",
     "output_type": "stream",
     "text": [
      "nums:  [4, 5, 6, 7, 0, 1, 2] target:  2\n"
     ]
    },
    {
     "data": {
      "text/plain": [
       "6"
      ]
     },
     "execution_count": 27,
     "metadata": {},
     "output_type": "execute_result"
    }
   ],
   "source": [
    "def search(nums, target):\n",
    "    \"\"\"\n",
    "    :type nums: List[int]\n",
    "    :type target: int\n",
    "    :rtype: int\n",
    "    \"\"\"\n",
    "    print(\"nums: \", nums, \"target: \", target)\n",
    "\n",
    "    left = 0\n",
    "    right = len(nums) - 1\n",
    "    i = 0\n",
    "\n",
    "    while left <= right:\n",
    "\n",
    "        # avoid overflow\n",
    "        mid = left + (right - left) // 2\n",
    "\n",
    "        if target == nums[mid]:\n",
    "            return mid\n",
    "        # one part must be sorted\n",
    "        if nums[left] <= nums[mid]:\n",
    "            # if right half is sorted\n",
    "            if nums[left] <= target and target <= nums[mid]:\n",
    "                print(\"key is in left half\")\n",
    "\n",
    "                right = mid - 1\n",
    "\n",
    "            else:\n",
    "                left = mid + 1\n",
    "\n",
    "        else:\n",
    "            # if right half is sorted\n",
    "\n",
    "            print(\"right - half is sorted\")\n",
    "            if nums[mid] <= target and target <= nums[right]:\n",
    "                # if key is in left half\n",
    "                left = mid + 1\n",
    "            else:\n",
    "                right = mid - 1\n",
    "\n",
    "    return -1\n",
    "\n",
    "\n",
    "nums = [4, 5, 6, 7, 0, 1, 2]\n",
    "search(nums, target=2)"
   ]
  },
  {
   "cell_type": "code",
   "execution_count": 28,
   "metadata": {},
   "outputs": [
    {
     "data": {
      "text/plain": [
       "6"
      ]
     },
     "execution_count": 28,
     "metadata": {},
     "output_type": "execute_result"
    }
   ],
   "source": [
    "def search(nums, target):\n",
    "    left, right = 0, len(nums) - 1\n",
    "\n",
    "    while left <= right:\n",
    "        mid = left + (right - left) // 2\n",
    "        if nums[mid] == target:\n",
    "            return mid\n",
    "\n",
    "        # one of side must be sorted\n",
    "\n",
    "        # bisecting fo rbinary tree search\n",
    "        if nums[left] <= nums[mid]:\n",
    "            #\n",
    "\n",
    "            # if target is on left\n",
    "            if nums[left] <= target <= nums[mid]:\n",
    "                right = mid - 1\n",
    "            else:\n",
    "                left = mid + 1  # switch to other side\n",
    "        else:\n",
    "\n",
    "            if nums[mid] <= target <= nums[right]:\n",
    "                left = mid + 1\n",
    "            else:\n",
    "                right = mid - 1\n",
    "\n",
    "    return -1\n",
    "\n",
    "\n",
    "nums = [4, 5, 6, 7, 0, 1, 2]\n",
    "search(nums, target=2)"
   ]
  },
  {
   "cell_type": "code",
   "execution_count": null,
   "metadata": {},
   "outputs": [],
   "source": []
  },
  {
   "cell_type": "markdown",
   "metadata": {},
   "source": [
    "# Refined\n"
   ]
  },
  {
   "cell_type": "code",
   "execution_count": 29,
   "metadata": {},
   "outputs": [
    {
     "name": "stdout",
     "output_type": "stream",
     "text": [
      "nums: [4, 5, 6, 7, 0, 1, 2], target:2\n",
      "left: 0, right:6, nums:mid:7\n",
      "going to left bcz target is less than/equal to middle\n",
      "shifting: target is in right part\n",
      "left: 4, right:6, nums:mid:1\n",
      "going to right bcz target is greater than middle\n",
      "confirmed: target is in right part and right part is ordered\n",
      "left: 6, right:6, nums:mid:2\n"
     ]
    },
    {
     "data": {
      "text/plain": [
       "6"
      ]
     },
     "execution_count": 29,
     "metadata": {},
     "output_type": "execute_result"
    }
   ],
   "source": [
    "def search(nums, target):\n",
    "    print(f\"nums: {nums}, target:{target}\")\n",
    "\n",
    "    left = 0\n",
    "    right = len(nums) - 1\n",
    "\n",
    "    while left <= right:\n",
    "        mid = left + (right - left) // 2\n",
    "        print(f\"left: {left}, right:{right}, nums:mid:{nums[mid]}\")\n",
    "        if nums[mid] == target:\n",
    "            return mid\n",
    "\n",
    "        # left side\n",
    "        if target <= nums[mid]:\n",
    "            print(f\"going to left bcz target is less than/equal to middle\")\n",
    "\n",
    "            if nums[left] <= target <= nums[mid]:\n",
    "                print(\"confirmed: target is in left part and left part is ordered\")\n",
    "                right = mid - 1\n",
    "            else:\n",
    "                print(\"shifting: target is in right part\")\n",
    "                left = mid + 1\n",
    "\n",
    "        else:\n",
    "            print(f\"going to right bcz target is greater than middle\")\n",
    "\n",
    "            if nums[mid] <= target <= nums[right]:\n",
    "                print(\"confirmed: target is in right part and right part is ordered\")\n",
    "                left = mid + 1\n",
    "            else:\n",
    "                print(\"shifting: target is in left part\")\n",
    "                right = mid - 1\n",
    "\n",
    "    return -1\n",
    "\n",
    "\n",
    "nums = [4, 5, 6, 7, 0, 1, 2]\n",
    "search(nums, target=2)"
   ]
  },
  {
   "cell_type": "code",
   "execution_count": null,
   "metadata": {},
   "outputs": [],
   "source": []
  },
  {
   "cell_type": "code",
   "execution_count": 30,
   "metadata": {},
   "outputs": [
    {
     "name": "stdout",
     "output_type": "stream",
     "text": [
      "1\n",
      "2\n",
      "3\n",
      "2\n",
      "1\n"
     ]
    }
   ],
   "source": [
    "s = \"dfa12321afd\"\n",
    "s.split()\n",
    "\n",
    "\n",
    "for i in s:\n",
    "    # print(i)\n",
    "    if i.isdigit():\n",
    "        print(i)"
   ]
  },
  {
   "cell_type": "markdown",
   "metadata": {},
   "source": [
    "## 1796. Second Largest Digit in a String\n"
   ]
  },
  {
   "cell_type": "code",
   "execution_count": 31,
   "metadata": {},
   "outputs": [
    {
     "name": "stdout",
     "output_type": "stream",
     "text": [
      "2\n"
     ]
    }
   ],
   "source": [
    "s = \"abc1123\"\n",
    "numeric = [int(i) for i in s if i.isdigit()]\n",
    "\n",
    "\n",
    "max = -1\n",
    "secondMax = -1\n",
    "for n in numeric:\n",
    "    if n > max:\n",
    "        secondMax = max\n",
    "        max = n\n",
    "    elif n > secondMax and n < max:\n",
    "        secondMax = n\n",
    "print(secondMax)"
   ]
  },
  {
   "cell_type": "code",
   "execution_count": null,
   "metadata": {},
   "outputs": [],
   "source": []
  },
  {
   "cell_type": "markdown",
   "metadata": {},
   "source": [
    "## 283. Move Zeroes\n"
   ]
  },
  {
   "cell_type": "code",
   "execution_count": 32,
   "metadata": {},
   "outputs": [],
   "source": [
    "# swap(nums, 1, 3)"
   ]
  },
  {
   "cell_type": "code",
   "execution_count": 33,
   "metadata": {},
   "outputs": [
    {
     "name": "stdout",
     "output_type": "stream",
     "text": [
      "[1, 3, 12, 0, 0, 0, 0]\n"
     ]
    }
   ],
   "source": [
    "nums = [0, 0, 1, 0, 0, 3, 12]\n",
    "\n",
    "\n",
    "def move_zeros_to_end(arr):\n",
    "    non_zero_pos = 0  # Position to place the next non-zero element\n",
    "\n",
    "    # Iterate through the array\n",
    "    for current in range(len(arr)):\n",
    "        if arr[current] != 0:\n",
    "            # Swap the elements at non_zero_pos and current\n",
    "            arr[non_zero_pos], arr[current] = arr[current], arr[non_zero_pos]\n",
    "            non_zero_pos += 1  # Move the non-zero position to the right\n",
    "\n",
    "    print(arr)\n",
    "\n",
    "\n",
    "move_zeros_to_end(nums)"
   ]
  },
  {
   "cell_type": "code",
   "execution_count": 34,
   "metadata": {},
   "outputs": [],
   "source": [
    "# nums = [0, 0, 1, 0, 0, 3, 12]\n",
    "\n",
    "\n",
    "# non_zero_pos = 0\n",
    "\n",
    "\n",
    "# for current in range(len(nums)):\n",
    "\n",
    "#     print(\n",
    "#         f\"idx: {current}, non_zero_pos: {nums[non_zero_pos]}, current: {nums[current]}\"\n",
    "#     )\n",
    "\n",
    "#     if nums[current] != 0:\n",
    "#         # print(current)\n",
    "#         print(f\"non_zero_pos: {nums[non_zero_pos]}, current: {nums[current]}\")\n",
    "#         print(\"\\t entered\")\n",
    "\n",
    "#         print(f\"\\t non_zero_pos: {nums[non_zero_pos]}, current: {nums[current]}\")\n",
    "#         nums[non_zero_pos], nums[current] = nums[current], nums[non_zero_pos]\n",
    "#         non_zero_pos += 1\n",
    "\n",
    "# print(nums)"
   ]
  },
  {
   "cell_type": "code",
   "execution_count": 35,
   "metadata": {},
   "outputs": [
    {
     "name": "stdout",
     "output_type": "stream",
     "text": [
      "0\n",
      "0\n",
      "1\n",
      "0\n",
      "0\n",
      "3\n",
      "12\n",
      "[1, 3, 12, 0, 0, 0, 0]\n"
     ]
    }
   ],
   "source": [
    "nums = [0, 0, 1, 0, 0, 3, 12]\n",
    "\n",
    "left = 0  # permanent\n",
    "current = 0\n",
    "\n",
    "\n",
    "while current < len(nums):\n",
    "    print(nums[current])\n",
    "\n",
    "    if nums[current] != 0:\n",
    "        nums[left], nums[current] = nums[current], nums[left]\n",
    "        left += 1\n",
    "\n",
    "    current += 1\n",
    "\n",
    "\n",
    "print(nums)"
   ]
  },
  {
   "cell_type": "code",
   "execution_count": 36,
   "metadata": {},
   "outputs": [
    {
     "data": {
      "text/plain": [
       "[1, 3, 12, 0, 0, 0, 0]"
      ]
     },
     "execution_count": 36,
     "metadata": {},
     "output_type": "execute_result"
    }
   ],
   "source": [
    "def moveZeroes(nums):\n",
    "    \"\"\"\n",
    "    :type nums: List[int]\n",
    "    :rtype: None Do not return anything, modify nums in-place instead.\n",
    "    \"\"\"\n",
    "    zero_count = nums.count(0)\n",
    "    l = 0\n",
    "    for n in nums:\n",
    "        if n != 0:\n",
    "            nums[l] = n\n",
    "            l += 1\n",
    "    for zero in range(1, zero_count + 1):\n",
    "        nums[-zero] = 0\n",
    "\n",
    "    return nums\n",
    "\n",
    "\n",
    "moveZeroes(nums)"
   ]
  },
  {
   "cell_type": "code",
   "execution_count": null,
   "metadata": {},
   "outputs": [],
   "source": []
  },
  {
   "cell_type": "code",
   "execution_count": null,
   "metadata": {},
   "outputs": [],
   "source": []
  },
  {
   "cell_type": "code",
   "execution_count": null,
   "metadata": {},
   "outputs": [],
   "source": []
  },
  {
   "cell_type": "code",
   "execution_count": null,
   "metadata": {},
   "outputs": [],
   "source": []
  },
  {
   "cell_type": "code",
   "execution_count": null,
   "metadata": {},
   "outputs": [],
   "source": []
  },
  {
   "cell_type": "markdown",
   "metadata": {},
   "source": [
    "# 7: Given a signed 32-bit integer x, return x with its digits reversed. If reversing x causes the value to go outside the signed 32-bit integer range [-231, 231 - 1], then return 0.\n"
   ]
  },
  {
   "cell_type": "code",
   "execution_count": 37,
   "metadata": {},
   "outputs": [
    {
     "data": {
      "text/plain": [
       "-321"
      ]
     },
     "execution_count": 37,
     "metadata": {},
     "output_type": "execute_result"
    }
   ],
   "source": [
    "def reverseInt(x):\n",
    "    sign = 1 if x > 0 else -1\n",
    "    reversed_no = 0\n",
    "    x = abs(x)\n",
    "\n",
    "    while x > 0:\n",
    "        digit = x % 10\n",
    "        x = x // 10\n",
    "        reversed_no = reversed_no * 10 + digit  # 32 = 3 *10 +2\n",
    "\n",
    "    return sign * reversed_no\n",
    "\n",
    "\n",
    "x = -123\n",
    "\n",
    "reverseInt(x)"
   ]
  },
  {
   "cell_type": "code",
   "execution_count": 38,
   "metadata": {},
   "outputs": [
    {
     "data": {
      "text/plain": [
       "0"
      ]
     },
     "execution_count": 38,
     "metadata": {},
     "output_type": "execute_result"
    }
   ],
   "source": [
    "def reverseInt(x):\n",
    "\n",
    "    MAX_INT = 2**31 - 1  # 2,147,483,647\n",
    "    MIN_INT = -(2**31)  # -2,147,483,648\n",
    "\n",
    "    sign = 1 if x > 0 else -1\n",
    "    reversed_no = 0\n",
    "    x = abs(x)\n",
    "\n",
    "    while x > 0:\n",
    "        if (\n",
    "            reversed_no > MAX_INT / 10 or reversed_no < MIN_INT / 10\n",
    "        ):  # MIN_INT / 10: not including units place\n",
    "            return 0\n",
    "        digit = x % 10\n",
    "        x = x // 10\n",
    "        reversed_no = reversed_no * 10 + digit\n",
    "\n",
    "    return sign * reversed_no\n",
    "\n",
    "\n",
    "x = -123123123312313123\n",
    "\n",
    "reverseInt(x)"
   ]
  },
  {
   "cell_type": "code",
   "execution_count": null,
   "metadata": {},
   "outputs": [],
   "source": []
  },
  {
   "cell_type": "code",
   "execution_count": null,
   "metadata": {},
   "outputs": [],
   "source": []
  },
  {
   "cell_type": "markdown",
   "metadata": {},
   "source": [
    "# revserse an array\n"
   ]
  },
  {
   "cell_type": "code",
   "execution_count": 39,
   "metadata": {},
   "outputs": [
    {
     "data": {
      "text/plain": [
       "[3, 2, 1]"
      ]
     },
     "execution_count": 39,
     "metadata": {},
     "output_type": "execute_result"
    }
   ],
   "source": [
    "def reverseArray(array):\n",
    "    left = 0\n",
    "    right = len(nums) - 1\n",
    "    while left < right:\n",
    "        nums[left], nums[right] = nums[right], nums[left]\n",
    "        left += 1\n",
    "        right -= 1\n",
    "\n",
    "    return nums\n",
    "\n",
    "\n",
    "nums = [1, 2, 3]\n",
    "reverseArray(nums)"
   ]
  },
  {
   "cell_type": "code",
   "execution_count": 40,
   "metadata": {},
   "outputs": [
    {
     "data": {
      "text/plain": [
       "'ers'"
      ]
     },
     "execution_count": 40,
     "metadata": {},
     "output_type": "execute_result"
    }
   ],
   "source": [
    "s = \"sre\"\n",
    "\n",
    "s[::-1]"
   ]
  },
  {
   "cell_type": "code",
   "execution_count": 41,
   "metadata": {},
   "outputs": [
    {
     "data": {
      "text/plain": [
       "[]"
      ]
     },
     "execution_count": 41,
     "metadata": {},
     "output_type": "execute_result"
    }
   ],
   "source": [
    "my_list = [[1, 2, 3], [4, 5, 6], [7, 8, 9]]\n",
    "\n",
    "\n",
    "my_list[0:0:-1]"
   ]
  },
  {
   "cell_type": "code",
   "execution_count": null,
   "metadata": {},
   "outputs": [],
   "source": []
  },
  {
   "cell_type": "markdown",
   "metadata": {},
   "source": [
    "## 268. Missing Number\n",
    "\n",
    "Given an array nums containing n distinct numbers in the range [0, n], return the only number in the range that is missing from the array.\n"
   ]
  },
  {
   "cell_type": "code",
   "execution_count": 42,
   "metadata": {},
   "outputs": [
    {
     "data": {
      "text/plain": [
       "8"
      ]
     },
     "execution_count": 42,
     "metadata": {},
     "output_type": "execute_result"
    }
   ],
   "source": [
    "def missingNumber(nums):\n",
    "    n = len(nums)\n",
    "    expected_sum = n * (n + 1) // 2\n",
    "    return expected_sum - sum(nums)\n",
    "\n",
    "\n",
    "nums = [9, 6, 4, 2, 3, 5, 7, 0, 1]\n",
    "\n",
    "missingNumber(nums)"
   ]
  },
  {
   "cell_type": "code",
   "execution_count": null,
   "metadata": {},
   "outputs": [],
   "source": []
  },
  {
   "cell_type": "code",
   "execution_count": null,
   "metadata": {},
   "outputs": [],
   "source": []
  },
  {
   "cell_type": "code",
   "execution_count": 43,
   "metadata": {},
   "outputs": [],
   "source": [
    "def gcdOfStrings(str1: str, str2: str) -> str:\n",
    "    # Check if concatenated strings are equal or not, if not return \"\"\n",
    "    if str1 + str2 != str2 + str1:\n",
    "        return \"\"\n",
    "    # If strings are equal than return the substring from 0 to gcd of size(str1), size(str2)\n",
    "    from math import gcd\n",
    "\n",
    "    print(f\"s1: {len(str1)}, s2: {len(str2)}\")\n",
    "    return str1[: gcd(len(str1), len(str2))]"
   ]
  },
  {
   "cell_type": "code",
   "execution_count": 44,
   "metadata": {},
   "outputs": [
    {
     "data": {
      "text/plain": [
       "2"
      ]
     },
     "execution_count": 44,
     "metadata": {},
     "output_type": "execute_result"
    }
   ],
   "source": [
    "import math\n",
    "from math import gcd\n",
    "\n",
    "gcd(10, 12)"
   ]
  },
  {
   "cell_type": "code",
   "execution_count": 45,
   "metadata": {},
   "outputs": [
    {
     "name": "stdout",
     "output_type": "stream",
     "text": [
      "s1: 6, s2: 2\n"
     ]
    },
    {
     "data": {
      "text/plain": [
       "'AB'"
      ]
     },
     "execution_count": 45,
     "metadata": {},
     "output_type": "execute_result"
    }
   ],
   "source": [
    "gcdOfStrings(\"ABABAB\", \"AB\")"
   ]
  },
  {
   "cell_type": "code",
   "execution_count": null,
   "metadata": {},
   "outputs": [],
   "source": []
  },
  {
   "cell_type": "code",
   "execution_count": null,
   "metadata": {},
   "outputs": [],
   "source": []
  },
  {
   "cell_type": "markdown",
   "metadata": {},
   "source": [
    "# sumsTwo\n"
   ]
  },
  {
   "cell_type": "code",
   "execution_count": 46,
   "metadata": {},
   "outputs": [],
   "source": [
    "nums = [16, 4, 23, 8, 15, 42, 1, 2]\n",
    "target = 19"
   ]
  },
  {
   "cell_type": "code",
   "execution_count": 47,
   "metadata": {},
   "outputs": [
    {
     "name": "stdout",
     "output_type": "stream",
     "text": [
      "[1, 2, 4, 8, 15, 16, 23, 42]\n"
     ]
    }
   ],
   "source": [
    "nums.sort()\n",
    "print(nums)"
   ]
  },
  {
   "cell_type": "code",
   "execution_count": 48,
   "metadata": {},
   "outputs": [],
   "source": [
    "p = 0\n",
    "q = len(nums) - 1"
   ]
  },
  {
   "cell_type": "code",
   "execution_count": 49,
   "metadata": {},
   "outputs": [
    {
     "data": {
      "text/plain": [
       "42"
      ]
     },
     "execution_count": 49,
     "metadata": {},
     "output_type": "execute_result"
    }
   ],
   "source": [
    "nums[q]"
   ]
  },
  {
   "cell_type": "code",
   "execution_count": 50,
   "metadata": {},
   "outputs": [],
   "source": [
    "# if( nums[p] + nums[q] > target) and nums[q] > target :\n",
    "#     q-=1"
   ]
  },
  {
   "cell_type": "code",
   "execution_count": 51,
   "metadata": {},
   "outputs": [
    {
     "name": "stdout",
     "output_type": "stream",
     "text": [
      "2 + 16  = 18\n",
      "4 + 16  = 20\n",
      "8 + 15  = 23\n",
      "15 + 8  = 23\n",
      "16 + 4  = 20\n",
      "23 + 2  = 25\n",
      "42 + 1  = 43\n",
      "42 + 23  = 65\n"
     ]
    },
    {
     "ename": "IndexError",
     "evalue": "list index out of range",
     "output_type": "error",
     "traceback": [
      "\u001b[0;31m---------------------------------------------------------------------------\u001b[0m",
      "\u001b[0;31mIndexError\u001b[0m                                Traceback (most recent call last)",
      "Cell \u001b[0;32mIn[51], line 14\u001b[0m\n\u001b[1;32m     11\u001b[0m \u001b[38;5;28;01mif\u001b[39;00m nums[q] \u001b[38;5;241m<\u001b[39m target:\n\u001b[1;32m     12\u001b[0m     p \u001b[38;5;241m+\u001b[39m\u001b[38;5;241m=\u001b[39m \u001b[38;5;241m1\u001b[39m\n\u001b[0;32m---> 14\u001b[0m \u001b[38;5;28mprint\u001b[39m(\u001b[38;5;124mf\u001b[39m\u001b[38;5;124m\"\u001b[39m\u001b[38;5;132;01m{\u001b[39;00m\u001b[43mnums\u001b[49m\u001b[43m[\u001b[49m\u001b[43mp\u001b[49m\u001b[43m]\u001b[49m\u001b[38;5;132;01m}\u001b[39;00m\u001b[38;5;124m + \u001b[39m\u001b[38;5;132;01m{\u001b[39;00mnums[q]\u001b[38;5;132;01m}\u001b[39;00m\u001b[38;5;124m  = \u001b[39m\u001b[38;5;132;01m{\u001b[39;00mnums[p]\u001b[38;5;250m \u001b[39m\u001b[38;5;241m+\u001b[39m\u001b[38;5;250m \u001b[39mnums[q]\u001b[38;5;132;01m}\u001b[39;00m\u001b[38;5;124m\"\u001b[39m)\n",
      "\u001b[0;31mIndexError\u001b[0m: list index out of range"
     ]
    }
   ],
   "source": [
    "while nums[p] + nums[q] != target:\n",
    "    #     if( nums[p] + nums[q] > target) and nums[q] > target :\n",
    "    #         q-=1\n",
    "    #     if( nums[p] + nums[q] > target) and nums[q] < target :\n",
    "    #         p+=1\n",
    "    if nums[p] + nums[q] > target:\n",
    "        q -= 1\n",
    "\n",
    "    if nums[q] > target:\n",
    "        q -= 1\n",
    "    if nums[q] < target:\n",
    "        p += 1\n",
    "\n",
    "    print(f\"{nums[p]} + {nums[q]}  = {nums[p] + nums[q]}\")"
   ]
  },
  {
   "cell_type": "code",
   "execution_count": null,
   "metadata": {},
   "outputs": [],
   "source": [
    "if (nums[p] + nums[q] > target) and p < 10:\n",
    "    p += 1"
   ]
  },
  {
   "cell_type": "code",
   "execution_count": null,
   "metadata": {},
   "outputs": [],
   "source": [
    "dict = {}"
   ]
  },
  {
   "cell_type": "code",
   "execution_count": null,
   "metadata": {},
   "outputs": [],
   "source": [
    "nums = [16, 4, 23, 8, 15, 42, 1, 2]\n",
    "target = 58"
   ]
  },
  {
   "cell_type": "code",
   "execution_count": null,
   "metadata": {},
   "outputs": [],
   "source": [
    "nums.sort()\n",
    "print(nums)"
   ]
  },
  {
   "cell_type": "code",
   "execution_count": null,
   "metadata": {},
   "outputs": [],
   "source": [
    "def fn(nums):\n",
    "    for i, val in enumerate(nums):\n",
    "        print([(i, j) for i, j in dict.items()])\n",
    "        if (target - val) in dict.keys():\n",
    "            return (i, dict[target - val])\n",
    "        else:\n",
    "            dict[val] = i\n",
    "\n",
    "\n",
    "fn(nums)"
   ]
  },
  {
   "cell_type": "code",
   "execution_count": null,
   "metadata": {},
   "outputs": [],
   "source": [
    "%%time"
   ]
  },
  {
   "cell_type": "code",
   "execution_count": null,
   "metadata": {},
   "outputs": [],
   "source": [
    "nums = [16, 4, 23, 8, 15, 42, 1, 2]\n",
    "target = 58\n",
    "nums.sort()\n",
    "print(nums)"
   ]
  },
  {
   "cell_type": "code",
   "execution_count": null,
   "metadata": {},
   "outputs": [],
   "source": [
    "%%time\n",
    "\n",
    "\n",
    "def fn(nums):\n",
    "    dic=dict()\n",
    "\n",
    "    for i in range(len(nums)):\n",
    "        if( (target - nums[i]) in dic.keys() ):\n",
    "            return (dic[target - nums[i]], i)\n",
    "        else:\n",
    "            dic[nums[i]] = i\n",
    "fn(nums)        "
   ]
  },
  {
   "cell_type": "code",
   "execution_count": null,
   "metadata": {},
   "outputs": [],
   "source": [
    "%%time\n",
    "\n",
    "\n",
    "def fn(nums):\n",
    "    dic=dict()\n",
    "\n",
    "    for i in range(len(nums)):\n",
    "\n",
    "        rem = target - nums[i]\n",
    "        if( (rem) in dic.keys() ):\n",
    "            return (dic[rem], i)\n",
    "        else:\n",
    "            dic[nums[i]] = i\n",
    "fn(nums)        "
   ]
  },
  {
   "cell_type": "code",
   "execution_count": null,
   "metadata": {},
   "outputs": [],
   "source": [
    "%%time\n",
    "prices = [7,1,5,3,6,4]\n",
    "prices =[1,2]\n",
    "def maxProfit(prices):\n",
    "    buy = prices.index(min(prices))\n",
    "#     print(f\"BUY| day:{buy} , value:{prices[buy]}\")\n",
    "    maxProfit = max(prices[buy:])\n",
    "    sell =  prices.index(maxProfit)+1 if(maxProfit>prices[buy])  else 0   # +1 for 0 indexing\n",
    "#     print(f\"SELL| day:{sell} , value:{prices[sell]}\")\n",
    "    \n",
    "#     \n",
    "    return sell\n",
    "\n",
    "maxProfit(prices) "
   ]
  },
  {
   "cell_type": "code",
   "execution_count": null,
   "metadata": {},
   "outputs": [],
   "source": [
    "%%time\n",
    "prices = [7,1,5,3,6,4]\n",
    "prices =[1,2]\n",
    "def maxProfit(prices):\n",
    "    buy = prices.index(min(prices))\n",
    "    print(f\"BUY| day:{buy} , value:{prices[buy]}\")\n",
    "    sell = prices.index(max(prices[buy:]))\n",
    "#     sell =  prices.index(maxProfit)+1 if(maxProfit>prices[buy])  else 0   # +1 for 0 indexing\n",
    "    print(buy,sell)\n",
    "    profit = prices[sell] - prices[buy]\n",
    "    return profit if(profit) > 0 else 0\n",
    "#     print(f\"SELL| day:{sell} , value:{prices[sell]}\")\n",
    "    \n",
    "#     \n",
    "#     return sell\n",
    "\n",
    "maxProfit(prices) "
   ]
  },
  {
   "cell_type": "code",
   "execution_count": null,
   "metadata": {},
   "outputs": [],
   "source": [
    "# from memory_profiler import profile\n",
    "# @profile(precision=4)\n",
    "\n",
    "\n",
    "prices = [7, 1, 5, 3, 6, 4]\n",
    "prices = [1, 2]\n",
    "margin = 0\n",
    "left = 0\n",
    "right = 1\n",
    "\n",
    "while right < len(prices):\n",
    "    if prices[right] < prices[left]:  # buy at min\n",
    "        left = right\n",
    "    if prices[right] >= prices[left]:\n",
    "        margin = (\n",
    "            prices[right] - prices[left]\n",
    "            if prices[right] - prices[left] > margin\n",
    "            else margin\n",
    "        )\n",
    "\n",
    "        right += 1\n",
    "margin"
   ]
  },
  {
   "cell_type": "code",
   "execution_count": null,
   "metadata": {},
   "outputs": [],
   "source": [
    "# from memory_profiler import profile\n",
    "# @profile(precision=4)\n",
    "\n",
    "\n",
    "prices = [7, 1, 5, 3, 6, 4]\n",
    "prices = [1, 2]\n",
    "margin = 0\n",
    "left = 0\n",
    "right = 1\n",
    "\n",
    "while right < len(prices):\n",
    "    if prices[right] > prices[left]:\n",
    "        margin = max(margin, prices[right] - prices[left])\n",
    "    else:\n",
    "        left += 1\n",
    "    right += 1\n",
    "margin"
   ]
  },
  {
   "cell_type": "code",
   "execution_count": null,
   "metadata": {},
   "outputs": [],
   "source": []
  },
  {
   "cell_type": "code",
   "execution_count": null,
   "metadata": {},
   "outputs": [],
   "source": []
  },
  {
   "cell_type": "code",
   "execution_count": null,
   "metadata": {},
   "outputs": [],
   "source": []
  },
  {
   "cell_type": "markdown",
   "metadata": {},
   "source": [
    "# X\n"
   ]
  },
  {
   "cell_type": "code",
   "execution_count": null,
   "metadata": {},
   "outputs": [],
   "source": []
  },
  {
   "cell_type": "code",
   "execution_count": null,
   "metadata": {},
   "outputs": [],
   "source": [
    "txt = \"A shallow copy creates a new object, but it does not create copies of the objects that the original object referencesddd.\"\n",
    "txt = txt.lower().replace(',', \"\").replace('.', \"\").replace(' ', \"\")"
   ]
  },
  {
   "cell_type": "code",
   "execution_count": null,
   "metadata": {},
   "outputs": [],
   "source": [
    "alphabets = ['a', 'b', 'c', 'd', 'e', 'f', 'g', 'h', 'i', 'j', 'k', 'l', 'm', 'n', 'o', 'p', 'q', 'r', 's', 't', 'u', 'v', 'w', 'x', 'y', 'z']\n",
    "\n",
    "for i, c in enumerate(alpahabets):\n",
    "    print(f\"char:{c}, index:{i}, count:{txt.count(c)}\") if txt.count(c) == i+1 else \"\"\n",
    "    # print(f\"c:{c}, i:{i}, count:{txt.count(c)}\")\n",
    "    "
   ]
  },
  {
   "cell_type": "code",
   "execution_count": null,
   "metadata": {},
   "outputs": [],
   "source": [
    "txt = \"A shallow copy creates a new object, but it does not create copies of the objects that the original object referencesddd.\"\n",
    "txt = txt.lower().replace(',', \"\").replace('.', \"\").replace(' ', \"\")\n",
    "alphabets = ['a', 'b', 'c', 'd', 'e', 'f', 'g', 'h', 'i', 'j', 'k', 'l', 'm', 'n', 'o', 'p', 'q', 'r', 's', 't', 'u', 'v', 'w', 'x', 'y', 'z']\n",
    "\n",
    "\n",
    "dict={}\n",
    "for i, c in enumerate(alphabets):\n",
    "    dict[c] = txt.count(c) if txt.count(c) == i+1 else None\n",
    "    # print(f\"c:{c}, i:{i}, count:{txt.count(c)}\")\n",
    "print(dict)"
   ]
  },
  {
   "cell_type": "code",
   "execution_count": null,
   "metadata": {},
   "outputs": [],
   "source": []
  },
  {
   "cell_type": "code",
   "execution_count": null,
   "metadata": {},
   "outputs": [],
   "source": [
    "txt = \"A shallow copy creates a new object, but it does not create copies of the objects that the original object referencesddd.\"\n",
    "alphabets = ['a', 'b', 'c', 'd', 'e', 'f', 'g', 'h', 'i', 'j', 'k', 'l', 'm', 'n', 'o', 'p', 'q', 'r', 's', 't', 'u', 'v', 'w', 'x', 'y', 'z']\n",
    "txt = txt.lower().replace(',', \"\").replace('.', \"\").replace(' ', \"\")\n",
    "{ c: txt.count(c) for i,c in enumerate(alphabets) if txt.count(c) == i+1}\n"
   ]
  },
  {
   "cell_type": "code",
   "execution_count": null,
   "metadata": {},
   "outputs": [],
   "source": [
    "ord('a')"
   ]
  },
  {
   "cell_type": "code",
   "execution_count": null,
   "metadata": {},
   "outputs": [],
   "source": [
    "chr(97)"
   ]
  },
  {
   "cell_type": "markdown",
   "metadata": {},
   "source": [
    "#\n"
   ]
  },
  {
   "cell_type": "code",
   "execution_count": null,
   "metadata": {},
   "outputs": [],
   "source": [
    "# final\n",
    "alphabets = [chr(i) for i in range(ord('a'), ord('z')+1)]\n",
    "txt = \"A shallow copy creates a new object, but it does not create copies of the objects that the original object referencesddd.\"\n",
    "txt = txt.lower().replace(',', \"\").replace('.', \"\").replace(' ', \"\")\n",
    "{ c: txt.count(c) for i,c in enumerate(alphabets) if txt.count(c) == i+1}\n"
   ]
  },
  {
   "cell_type": "code",
   "execution_count": null,
   "metadata": {},
   "outputs": [],
   "source": []
  },
  {
   "cell_type": "code",
   "execution_count": null,
   "metadata": {},
   "outputs": [],
   "source": []
  },
  {
   "cell_type": "markdown",
   "metadata": {},
   "source": [
    "# 451. Sort Characters By Frequency\n"
   ]
  },
  {
   "cell_type": "code",
   "execution_count": null,
   "metadata": {},
   "outputs": [],
   "source": []
  },
  {
   "cell_type": "code",
   "execution_count": null,
   "metadata": {},
   "outputs": [],
   "source": [
    "txt= \"treefffftzzzzz\"\n",
    "\n",
    "unique = set(txt)\n",
    "unique\n",
    "\n",
    "# x = { s.count(char) for char in unique} # set\n",
    "\n",
    "dic = { char:txt.count(char) for char in unique} # dict\n",
    "dic"
   ]
  },
  {
   "cell_type": "code",
   "execution_count": null,
   "metadata": {},
   "outputs": [],
   "source": [
    "# sorted(dic,  key = lambda item: dic[item])  # sorted but only keys\n",
    "\n"
   ]
  },
  {
   "cell_type": "code",
   "execution_count": null,
   "metadata": {},
   "outputs": [],
   "source": [
    "sorted_dic = sorted(dic.items(), key = lambda item: item[1], reverse = True)\n",
    "sorted_dic = dict(sorted_dic)\n",
    "sorted_dic"
   ]
  },
  {
   "cell_type": "code",
   "execution_count": null,
   "metadata": {},
   "outputs": [],
   "source": []
  },
  {
   "cell_type": "code",
   "execution_count": null,
   "metadata": {},
   "outputs": [],
   "source": [
    "result = \"\"\n",
    "for index, value in sorted_dic.items():\n",
    "    # print(f\"index: {index} value: {value}\")\n",
    "    result += index*value\n",
    "print(result) "
   ]
  },
  {
   "cell_type": "code",
   "execution_count": null,
   "metadata": {},
   "outputs": [],
   "source": []
  },
  {
   "cell_type": "code",
   "execution_count": null,
   "metadata": {},
   "outputs": [],
   "source": [
    "''.join(['1','2','3'])"
   ]
  },
  {
   "cell_type": "code",
   "execution_count": null,
   "metadata": {},
   "outputs": [],
   "source": [
    "''.join(sorted_dic.keys())"
   ]
  },
  {
   "cell_type": "code",
   "execution_count": null,
   "metadata": {},
   "outputs": [],
   "source": [
    "# final\n",
    "txt= \"treefffftzzzzz\"\n",
    "# result = \"\"\n",
    "\n",
    "unique = set(txt)\n",
    "dic = { char:txt.count(char) for char in unique} # dict\n",
    "sorted_dic = sorted(dic.items(), key = lambda item: item[1], reverse = True)\n",
    "sorted_dic = dict(sorted_dic)\n",
    "# for index, value in sorted_dic.items():\n",
    "#     result += index*value\n",
    "''.join(key*value for key, value in sorted_dic.items())\n",
    "print(result) "
   ]
  },
  {
   "cell_type": "code",
   "execution_count": null,
   "metadata": {},
   "outputs": [],
   "source": []
  },
  {
   "cell_type": "code",
   "execution_count": null,
   "metadata": {},
   "outputs": [],
   "source": [
    "dic"
   ]
  },
  {
   "cell_type": "markdown",
   "metadata": {},
   "source": []
  },
  {
   "cell_type": "code",
   "execution_count": null,
   "metadata": {},
   "outputs": [],
   "source": [
    "# final\n",
    "txt= \"tree\"\n",
    "\n",
    "unique = set(txt)\n",
    "dic = { char:txt.count(char) for char in unique} # dict\n",
    "sorted_dic = sorted(dic.items(), key = lambda item: item[1], reverse = True)\n",
    "print(sorted_dic)\n",
    "# sorted_dic = dict(sorted_dic)\n",
    "# ''.join(key*value for key, value in sorted_dic.items())\n",
    "''.join(char*count for char, count in sorted_dic)\n"
   ]
  },
  {
   "cell_type": "code",
   "execution_count": null,
   "metadata": {},
   "outputs": [],
   "source": [
    "class Solution(object):\n",
    "    def frequencySort(self, s):\n",
    "        \"\"\"\n",
    "        :type s: str\n",
    "        :rtype: str\n",
    "        \"\"\"\n",
    "        unique = set(s)\n",
    "        dic = { char:s.count(char) for char in unique} # dict\n",
    "        sorted_dic = sorted(dic.items(), key = lambda item: item[1], reverse = True)\n",
    "        s = ''.join(char*count for char, count in sorted_dic)\n",
    "        return ''.join(char*count for char, count in sorted_dic)\n",
    "\n"
   ]
  },
  {
   "cell_type": "code",
   "execution_count": null,
   "metadata": {},
   "outputs": [],
   "source": []
  },
  {
   "cell_type": "code",
   "execution_count": null,
   "metadata": {},
   "outputs": [],
   "source": []
  },
  {
   "cell_type": "code",
   "execution_count": null,
   "metadata": {},
   "outputs": [],
   "source": []
  },
  {
   "cell_type": "code",
   "execution_count": null,
   "metadata": {},
   "outputs": [],
   "source": []
  },
  {
   "cell_type": "markdown",
   "metadata": {},
   "source": [
    "# 647. Palindromic Substrings\n"
   ]
  },
  {
   "cell_type": "code",
   "execution_count": null,
   "metadata": {},
   "outputs": [],
   "source": [
    "\n",
    "str= \"abcde\"\n",
    "\n",
    "# for i in range(len(\"abcde\")//2):\n",
    "i=0\n",
    "while(i< len(str)//2):\n",
    "      print(i)\n",
    "      \n",
    "      i+=1"
   ]
  },
  {
   "cell_type": "code",
   "execution_count": null,
   "metadata": {},
   "outputs": [],
   "source": [
    "round(len(\"abc\"))//2, len(\"abc\")//2"
   ]
  },
  {
   "cell_type": "code",
   "execution_count": null,
   "metadata": {},
   "outputs": [],
   "source": []
  },
  {
   "cell_type": "code",
   "execution_count": null,
   "metadata": {},
   "outputs": [],
   "source": [
    "def palindrome(s, i=0, j=None):\n",
    "    \n",
    "    if j is None:\n",
    "        j=len(s)-1\n",
    "    print(f\"s:{s}, i:{i}, j:{j}, s[i]:{s[i]}, s[j]:{s[j]}\")\n",
    "    if(i>=j):\n",
    "        return True\n",
    "    if(s[i] != s[j]): \n",
    "        return False\n",
    "    # i+=1;j-=1\n",
    "    # print(s, i, j)\n",
    "    return palindrome(s, i+1, j-1)   # necessary to return True   otherwise result will be lost\n",
    " \n",
    "s = \"abcba\"\n",
    "palindrome(s)"
   ]
  },
  {
   "cell_type": "code",
   "execution_count": null,
   "metadata": {},
   "outputs": [],
   "source": []
  },
  {
   "cell_type": "code",
   "execution_count": null,
   "metadata": {},
   "outputs": [],
   "source": []
  },
  {
   "cell_type": "code",
   "execution_count": null,
   "metadata": {},
   "outputs": [],
   "source": []
  },
  {
   "cell_type": "code",
   "execution_count": null,
   "metadata": {},
   "outputs": [],
   "source": []
  },
  {
   "cell_type": "code",
   "execution_count": null,
   "metadata": {},
   "outputs": [],
   "source": []
  },
  {
   "cell_type": "code",
   "execution_count": null,
   "metadata": {},
   "outputs": [],
   "source": []
  },
  {
   "cell_type": "code",
   "execution_count": null,
   "metadata": {},
   "outputs": [],
   "source": []
  },
  {
   "cell_type": "markdown",
   "metadata": {},
   "source": [
    "# Hckerrank: breaking the recored"
   ]
  },
  {
   "cell_type": "code",
   "execution_count": null,
   "metadata": {},
   "outputs": [],
   "source": []
  },
  {
   "cell_type": "code",
   "execution_count": null,
   "metadata": {},
   "outputs": [],
   "source": [
    "min_scores = max_scores = scores[0]\n",
    "min_scores ,max_scores\n",
    "\n",
    "\n",
    "count_min_record_broke = 0\n",
    "count_max_record_broke = 0"
   ]
  },
  {
   "cell_type": "code",
   "execution_count": null,
   "metadata": {},
   "outputs": [],
   "source": [
    "scores = [10, 5, 20, 20, 4, 5, 2, 25, 1]\n",
    "\n",
    "min_scores = max_scores = scores[0]\n",
    "\n",
    "\n",
    "\n",
    "count_min_record_broke = 0\n",
    "count_max_record_broke = 0\n",
    "\n",
    "\n",
    "for index in range(len(scores)):\n",
    "\n",
    "    if scores[index]<min_scores:\n",
    "        min_scores = scores[index]\n",
    "        count_min_record_broke+=1\n",
    "    if scores[index]>max_scores:\n",
    "        max_scores = scores[index]\n",
    "        count_max_record_broke+=1\n",
    "\n",
    "    print(f\"index: {index}, min_scores: {min_scores} , max_scores: {max_scores}\")\n",
    "\n",
    "count_max_record_broke, count_min_record_broke"
   ]
  },
  {
   "cell_type": "code",
   "execution_count": null,
   "metadata": {},
   "outputs": [],
   "source": [
    "scores = [10, 5, 20, 20, 4, 5, 2, 25, 1]\n",
    "\n",
    "min_scores = max_scores = scores[0]\n",
    "\n",
    "count_min_record_broke = 0\n",
    "count_max_record_broke = 0\n",
    "\n",
    "for index, score in enumerate(scores):\n",
    "    if score < min_scores:\n",
    "        min_scores = score\n",
    "        count_min_record_broke += 1\n",
    "    elif score > max_scores:  # Use 'elif' since a score can't be both min and max in the same iteration\n",
    "        max_scores = score\n",
    "        count_max_record_broke += 1\n",
    "\n",
    "    print(f\"index: {index}, min_scores: {min_scores}, max_scores: {max_scores}\")\n",
    "\n",
    "count_max_record_broke, count_min_record_broke\n"
   ]
  },
  {
   "cell_type": "code",
   "execution_count": null,
   "metadata": {},
   "outputs": [],
   "source": []
  },
  {
   "cell_type": "code",
   "execution_count": null,
   "metadata": {},
   "outputs": [],
   "source": []
  },
  {
   "cell_type": "markdown",
   "metadata": {},
   "source": [
    "# 739. Daily Temperatures\n",
    "\n",
    "\n",
    "Given an array of integers temperatures represents the daily temperatures, return an array answer such that answer[i] is the number of days you have to wait after the ith day to get a warmer temperature. If there is no future day for which this is possible, keep answer[i] == 0 instead.\n",
    "\n",
    " \n",
    "\n",
    "Example 1:\n",
    "\n",
    "Input: temperatures = [73,74,75,71,69,72,76,73]\n",
    "\n",
    "Output: [1,1,4,2,1,1,0,0]\n",
    "\n",
    "Example 2:\n",
    "\n",
    "Input: temperatures = [30,40,50,60]\n",
    "\n",
    "Output: [1,1,1,0]\n",
    "\n",
    "Example 3:\n",
    "\n",
    "Input: temperatures = [30,60,90]\n",
    "\n",
    "Output: [1,1,0]\n"
   ]
  },
  {
   "cell_type": "code",
   "execution_count": null,
   "metadata": {},
   "outputs": [],
   "source": [
    "# daily_tempratures = [73,74,75,71,69,72,76,73]\n",
    "\n",
    "days_to_wait= [\"0\"] * len(daily_tempratures)\n",
    "\n",
    "for dailyIndex, dailyT in enumerate(daily_tempratures):\n",
    "\n",
    "    for index in range(dailyIndex , len(daily_tempratures)):\n",
    "        print(f\"index: {index}, dailyIndex:{dailyIndex}\")\n",
    "\n"
   ]
  },
  {
   "cell_type": "code",
   "execution_count": null,
   "metadata": {},
   "outputs": [],
   "source": [
    "def next_hotter(lst, ind):\n",
    "    # print(lst[0])\n",
    "    current = lst[ind]\n",
    "    for i in range(ind, len(lst)):\n",
    "        if(current< lst[i]):\n",
    "            # print(f\"current:{current}, i:{i}, lst[i]:{lst[i]}\")\n",
    "            hotter = i-ind\n",
    "            print(f\"current:{current}, i:{i}, lst[i]:{lst[i]}, hotter:{hotter}\")\n",
    "            return hotter\n",
    "\n",
    "\n",
    "\n",
    "daily_tempratures = [73,70,49,74,75]\n",
    "print(daily_tempratures)\n",
    "next_hotter(daily_tempratures,0)"
   ]
  },
  {
   "cell_type": "code",
   "execution_count": null,
   "metadata": {},
   "outputs": [],
   "source": [
    "def next_hotter_whole(lst):\n",
    "    changes = [0] * len(lst)\n",
    "    # print(changes)\n",
    "    # print(lst[0])\n",
    "    for index, value in enumerate(lst):\n",
    "        print(f\"\\nindex:{index}, value:{value}\")\n",
    "\n",
    "        for i in range(index, len(lst)):\n",
    "            if(value < lst[i]):\n",
    "                # print(f\"current:{current}, i:{i}, lst[i]:{lst[i]}\")\n",
    "                # hotter = i-index-1\n",
    "                print(f\"\\t\\t\\tcurrent:{value}, i:{i}, lst[i]:{lst[i]}, hotter:{i-index}\")\n",
    "                changes[index] = i-index\n",
    "                break;\n",
    "\n",
    "    return changes\n",
    "\n",
    "                \n",
    "\n",
    "\n",
    "\n",
    "daily_tempratures = [73,74,75,71,69,72,76,73]\n",
    "print(daily_tempratures)\n",
    "next_hotter_whole(daily_tempratures)"
   ]
  },
  {
   "cell_type": "code",
   "execution_count": null,
   "metadata": {},
   "outputs": [],
   "source": []
  },
  {
   "cell_type": "code",
   "execution_count": null,
   "metadata": {},
   "outputs": [],
   "source": []
  },
  {
   "cell_type": "code",
   "execution_count": null,
   "metadata": {},
   "outputs": [],
   "source": [
    "daily_tempratures\n",
    "\n"
   ]
  },
  {
   "cell_type": "code",
   "execution_count": null,
   "metadata": {},
   "outputs": [],
   "source": []
  },
  {
   "cell_type": "code",
   "execution_count": null,
   "metadata": {},
   "outputs": [],
   "source": [
    "daily_tempratures = [73, 74, 75, 71, 69, 72, 76, 73]\n",
    "\n",
    "\n",
    "st=[]\n",
    "\n",
    "res = [0] * len(daily_tempratures)\n",
    " \n",
    "for i in range(len(daily_tempratures)):\n",
    "\n",
    "    while st and daily_tempratures[i]  > daily_tempratures[st[-1]]:\n",
    "        print(f\"\\t\\tdaily_tempratures[i]: {daily_tempratures[i]}, daily_tempratures[st[-1]]: {daily_tempratures[st[-1]]}, \\t\\tst: {st}\")\n",
    "        idx = st.pop()\n",
    "        res[idx] = i - idx\n",
    "        print(f\"\\t\\tidx:pop():{idx}, {daily_tempratures[idx]}\\t||, res:{res}\")\n",
    "    st.append(i)\n",
    "    \n",
    "    print(\"status :st:\",st)\n",
    "    print(\"--\")\n"
   ]
  },
  {
   "cell_type": "code",
   "execution_count": null,
   "metadata": {},
   "outputs": [],
   "source": [
    "st"
   ]
  },
  {
   "cell_type": "code",
   "execution_count": null,
   "metadata": {},
   "outputs": [],
   "source": [
    "st.pop()"
   ]
  },
  {
   "cell_type": "code",
   "execution_count": null,
   "metadata": {},
   "outputs": [],
   "source": [
    "st"
   ]
  },
  {
   "cell_type": "code",
   "execution_count": null,
   "metadata": {},
   "outputs": [],
   "source": [
    "st[1], st[-1]"
   ]
  },
  {
   "cell_type": "code",
   "execution_count": null,
   "metadata": {},
   "outputs": [],
   "source": []
  },
  {
   "cell_type": "code",
   "execution_count": null,
   "metadata": {},
   "outputs": [],
   "source": []
  },
  {
   "cell_type": "code",
   "execution_count": null,
   "metadata": {},
   "outputs": [],
   "source": []
  },
  {
   "cell_type": "code",
   "execution_count": null,
   "metadata": {},
   "outputs": [],
   "source": []
  },
  {
   "cell_type": "code",
   "execution_count": null,
   "metadata": {},
   "outputs": [],
   "source": []
  },
  {
   "cell_type": "markdown",
   "metadata": {},
   "source": [
    "# sorting using stack\n"
   ]
  },
  {
   "cell_type": "code",
   "execution_count": null,
   "metadata": {},
   "outputs": [],
   "source": [
    "\n",
    "\n",
    "input_stack = [1,2,3,4,5]\n",
    "input_stack = sorted(input_stack, reverse=True)\n",
    "sorted_stack =[] \n",
    "\n",
    "\n",
    "while(input_stack):\n",
    "    current = input_stack.pop()\n",
    "\n",
    "    while sorted_stack and sorted_stack[-1] > current:\n",
    "        input_stack.append(sorted_stack.pop())\n",
    "    sorted_stack.append(current)\n",
    "    # print(current)\n",
    "\n",
    "\n",
    "    print(f\"Status:\\n\\t\\tinput_stack:{input_stack}, sorted_stack:{sorted_stack}, current:{current}\")\n",
    "\n",
    "\n",
    "\n",
    "# while()"
   ]
  },
  {
   "cell_type": "code",
   "execution_count": null,
   "metadata": {},
   "outputs": [],
   "source": [
    "\n"
   ]
  },
  {
   "cell_type": "code",
   "execution_count": null,
   "metadata": {},
   "outputs": [],
   "source": []
  },
  {
   "cell_type": "code",
   "execution_count": null,
   "metadata": {},
   "outputs": [],
   "source": [
    "\n",
    "\n",
    "input_stack = [1,2,3,4,5]\n",
    "input_stack = sorted(input_stack, reverse=True)\n",
    "sorted_stack =[] \n",
    "\n",
    "\n",
    "while(input_stack):\n",
    "    current = input_stack.pop()\n",
    "\n",
    "    while sorted_stack and sorted_stack[-1] > current:\n",
    "        input_stack.append(sorted_stack.pop())\n",
    "    sorted_stack.append(current)\n",
    "    # print(current)\n",
    "\n",
    "\n",
    "    print(f\"Status:\\n\\t\\tinput_stack:{input_stack}, sorted_stack:{sorted_stack}, current:{current}\")\n",
    "\n",
    "\n",
    "\n",
    "# while()"
   ]
  },
  {
   "cell_type": "code",
   "execution_count": null,
   "metadata": {},
   "outputs": [],
   "source": []
  },
  {
   "cell_type": "markdown",
   "metadata": {},
   "source": [
    "# 739. Daily Temperatures - with stack\n"
   ]
  },
  {
   "cell_type": "code",
   "execution_count": null,
   "metadata": {},
   "outputs": [
    {
     "name": "stdout",
     "output_type": "stream",
     "text": [
      "daily_tempratures: [73, 74, 75, 71, 69, 72, 76, 73]\n",
      "[1, 1, 4, 2, 1, 1, 0, 0]\n"
     ]
    }
   ],
   "source": [
    "\n",
    "# final\n",
    "daily_tempratures = [73, 74, 75, 71, 69, 72, 76, 73]\n",
    "\n",
    "print(f\"daily_tempratures: {daily_tempratures}\")\n",
    "\n",
    "st=[]\n",
    "\n",
    "res = [0] * len(daily_tempratures)\n",
    "\n",
    "for i in range(len(daily_tempratures)):\n",
    "    current = daily_tempratures[i]\n",
    "    # print(f\"\\tcurrent: {current}, i:{i}\")\n",
    "    while(st and daily_tempratures[i]>daily_tempratures[st[-1]]):# current bigger than top of stack\n",
    "        # print(f\"Status:\\t\\tst:{st}, curret:{ daily_tempratures[i]}, top of stack:{daily_tempratures[st[-1]]}\")\n",
    "        idx = st.pop()  # diifernce between \n",
    "        difference = i - idx\n",
    "        res[idx] = difference\n",
    "\n",
    "    st.append(i)\n",
    "\n",
    "print(res)\n",
    "\n",
    "\n"
   ]
  },
  {
   "cell_type": "code",
   "execution_count": null,
   "metadata": {},
   "outputs": [
    {
     "data": {
      "text/plain": [
       "[1, 1, 4, 2, 1, 1, 0, 0]"
      ]
     },
     "execution_count": 10,
     "metadata": {},
     "output_type": "execute_result"
    }
   ],
   "source": [
    "# optimized\n",
    "answer = [0] * len(daily_tempratures)\n",
    "stack = []\n",
    "\n",
    "for index, current_temp in enumerate(daily_tempratures):\n",
    "    while stack and daily_tempratures[stack[-1]] < current_temp:\n",
    "        previous_index = stack.pop()\n",
    "        answer[previous_index] = index - previous_index\n",
    "    stack.append(index)\n",
    "answer"
   ]
  },
  {
   "cell_type": "code",
   "execution_count": null,
   "metadata": {},
   "outputs": [
    {
     "name": "stdout",
     "output_type": "stream",
     "text": [
      "daily_tempratures: [73, 74, 75, 71, 69, 72, 76, 73]\n",
      "[1, 1, 4, 2, 1, 1, 0, 0]\n"
     ]
    }
   ],
   "source": [
    "\n",
    "# final\n",
    "daily_tempratures = [73, 74, 75, 71, 69, 72, 76, 73]\n",
    "\n",
    "print(f\"daily_tempratures: {daily_tempratures}\")\n",
    "st=[]\n",
    "res = [0] * len(daily_tempratures)\n",
    "for index, current in enumerate(daily_tempratures):\n",
    "    while(st and current>daily_tempratures[st[-1]]):# current bigger than top of stack\n",
    "        prev_index = st.pop()  # diifernce between \n",
    "        res[prev_index] = index - prev_index\n",
    "    st.append(index)\n",
    "\n",
    "print(res)\n",
    "\n",
    "\n"
   ]
  },
  {
   "cell_type": "code",
   "execution_count": null,
   "metadata": {},
   "outputs": [],
   "source": []
  },
  {
   "cell_type": "code",
   "execution_count": null,
   "metadata": {},
   "outputs": [],
   "source": []
  },
  {
   "cell_type": "code",
   "execution_count": null,
   "metadata": {},
   "outputs": [],
   "source": []
  },
  {
   "cell_type": "markdown",
   "metadata": {},
   "source": [
    "# Camel Case: 04"
   ]
  },
  {
   "cell_type": "code",
   "execution_count": null,
   "metadata": {},
   "outputs": [
    {
     "name": "stdout",
     "output_type": "stream",
     "text": [
      "input_text: C;C;coffee machine\n",
      "input_txt_operation: C\n",
      "input_txt_type: C\n",
      "input_txt_name: coffee machine\n",
      "We'll be combining... coffee machine\n",
      "['coffee', 'machine']\n",
      "['Coffee', 'Machine']\n"
     ]
    },
    {
     "data": {
      "text/plain": [
       "'CoffeeMachine'"
      ]
     },
     "execution_count": 75,
     "metadata": {},
     "output_type": "execute_result"
    }
   ],
   "source": [
    "def splitting(input_txt_name, input_txt_type):\n",
    "        print(\"We'll be spliting...\", input_txt_name)\n",
    "\n",
    "        names = []\n",
    "        prev_index = 0\n",
    "        length = len(input_txt_name)\n",
    "        for current in range(length):\n",
    "              if input_txt_name[current].isupper():\n",
    "                    names.append(input_txt_name[prev_index:current].lower())\n",
    "                    # print(input_txt_name[prev_index:current].lower())\n",
    "                    prev_index = current\n",
    "                    \n",
    "        \n",
    "        # print(\"input_txt_type\", input_txt_type)\n",
    "        \n",
    "        lastportion = input_txt_name[prev_index:-2] if input_txt_type == 'M' else input_txt_name[prev_index:]\n",
    "        names.append(lastportion.lower())\n",
    "        return \" \".join(names).strip()\n",
    "        \n",
    "\n",
    "\n",
    "\n",
    "def combining(input_txt_name, input_txt_type):\n",
    "        print(\"We'll be combining...\", input_txt_name)\n",
    "        input_txt_name = input_txt_name.split(\" \")\n",
    "        print(input_txt_name)\n",
    "        \n",
    "\n",
    "\n",
    "        # for current in input_txt_name:\n",
    "        #       current = curr\n",
    "\n",
    "        for current in range(len(input_txt_name)):\n",
    "            input_txt_name[current] = input_txt_name[current].title()\n",
    "        \n",
    "        print(input_txt_name)\n",
    "        name = \"\".join(input_txt_name)\n",
    "        \n",
    "        \n",
    "        if input_txt_type == 'C':\n",
    "            return name\n",
    "        return name.lower() + \"()\" if input_txt_type == 'M' else name.lower() \n",
    "        \n",
    "        \n",
    "\n",
    "\n",
    "def parsingInputString(input_txt):\n",
    "    print(f\"input_text: {input_txt}\")\n",
    "\n",
    "\n",
    "    input_txt_operation = input_txt[0:1]\n",
    "    print(f\"input_txt_operation: {input_txt_operation}\")\n",
    "\n",
    "    input_txt_type = input_txt[2:3]\n",
    "    print(f\"input_txt_type: {input_txt_type}\")\n",
    "\n",
    "    input_txt_name = input_txt[4:]\n",
    "    print(f\"input_txt_name: {input_txt_name}\")\n",
    "\n",
    "\n",
    "\n",
    "    if input_txt_operation == 'C':\n",
    "        return combining(input_txt_name, input_txt_type)\n",
    "    if input_txt_operation == 'S':\n",
    "        return splitting(input_txt_name, input_txt_type)\n",
    "    \n",
    "\n",
    "\n",
    "# S;M;plasticCup()\n",
    "# C;V;mobile phone\n",
    "# C;C;coffee machine\n",
    "# S;C;LargeSoftwareBook\n",
    "# C;M;white sheet of paper\n",
    "\n",
    "\n",
    "\n",
    "\n",
    "# input_txt =  \"S;V;pictureFrameNice\"\n",
    "# input_txt = \"S;M;plasticCup()\"\n",
    "# input_txt = \"S;V;pictureFrame\"\n",
    "# input_txt = \"S;C;LargeSoftwareBook\"\n",
    "# input_txt = \"S;V;pictureFrame\"\n",
    "\n",
    "\n",
    "# input_txt = \"C;V;mobile phone\" # mobilePhone\n",
    "input_txt = \"C;C;coffee machine\" # CoffeeMachine\n",
    "# input_txt = \"C;M;white sheet of paper\" # whiteSheetOfPaper()\n",
    "\n",
    "\n",
    "\n",
    "\n",
    "\n",
    "parsingInputString(input_txt)"
   ]
  },
  {
   "cell_type": "code",
   "execution_count": null,
   "metadata": {},
   "outputs": [],
   "source": []
  },
  {
   "cell_type": "code",
   "execution_count": null,
   "metadata": {},
   "outputs": [
    {
     "name": "stdout",
     "output_type": "stream",
     "text": [
      "['Mouse', 'Pad']\n",
      "mousePad\n"
     ]
    },
    {
     "data": {
      "text/plain": [
       "'mousePad()'"
      ]
     },
     "execution_count": 96,
     "metadata": {},
     "output_type": "execute_result"
    }
   ],
   "source": [
    "def splitting(input_txt_name, input_txt_type):\n",
    "        print(\"We'll be spliting...\", input_txt_name)\n",
    "\n",
    "        names = []\n",
    "        prev_index = 0\n",
    "        length = len(input_txt_name)\n",
    "        for current in range(length):\n",
    "              if input_txt_name[current].isupper():\n",
    "                    names.append(input_txt_name[prev_index:current].lower())\n",
    "                    prev_index = current\n",
    "                    \n",
    "        lastportion = input_txt_name[prev_index:-2] if input_txt_type == 'M' else input_txt_name[prev_index:]\n",
    "        names.append(lastportion.lower())\n",
    "        return \" \".join(names).strip()\n",
    "        \n",
    "\n",
    "def combining(input_txt_name, input_txt_type):\n",
    "        input_txt_name = input_txt_name.split(\" \")\n",
    "        for current in range(len(input_txt_name)):\n",
    "            input_txt_name[current] = input_txt_name[current].title()\n",
    "        \n",
    "        print(input_txt_name)\n",
    "        \n",
    "        \n",
    "        \n",
    "        if input_txt_type == 'C':\n",
    "            return \"\".join(input_txt_name)\n",
    "        \n",
    "\n",
    "        input_txt_name[0] = input_txt_name[0].lower()\n",
    "        name = \"\".join(input_txt_name)\n",
    "        # print(name)\n",
    "\n",
    "        # new_name = name[0].lower + name[1:]\n",
    "        # print(new_name)\n",
    "        \n",
    "        return name + \"()\" if input_txt_type == 'M' else name() \n",
    "        \n",
    "\n",
    "def parsingInputString(input_txt):\n",
    "    input_txt_operation = input_txt[0:1]\n",
    "    input_txt_type = input_txt[2:3]\n",
    "    input_txt_name = input_txt[4:]\n",
    "    if input_txt_operation == 'C':\n",
    "        return combining(input_txt_name, input_txt_type)\n",
    "    if input_txt_operation == 'S':\n",
    "        return splitting(input_txt_name, input_txt_type)\n",
    "\n",
    "\n",
    "input_txt = \"C;M;mouse pad\"\n",
    " # CoffeeMachine\n",
    "\n",
    "\n",
    "\n",
    "\n",
    "\n",
    "parsingInputString(input_txt)"
   ]
  },
  {
   "cell_type": "code",
   "execution_count": null,
   "metadata": {},
   "outputs": [
    {
     "ename": "KeyboardInterrupt",
     "evalue": "",
     "output_type": "error",
     "traceback": [
      "\u001b[0;31m---------------------------------------------------------------------------\u001b[0m",
      "\u001b[0;31mKeyboardInterrupt\u001b[0m                         Traceback (most recent call last)",
      "Cell \u001b[0;32mIn[97], line 56\u001b[0m\n\u001b[1;32m     49\u001b[0m     \u001b[38;5;28;01mif\u001b[39;00m input_txt_operation \u001b[38;5;241m==\u001b[39m \u001b[38;5;124m'\u001b[39m\u001b[38;5;124mS\u001b[39m\u001b[38;5;124m'\u001b[39m:\n\u001b[1;32m     50\u001b[0m         \u001b[38;5;28;01mreturn\u001b[39;00m splitting(input_txt_name, input_txt_type)\n\u001b[0;32m---> 56\u001b[0m \u001b[38;5;28;01mfor\u001b[39;00m line \u001b[38;5;129;01min\u001b[39;00m sys\u001b[38;5;241m.\u001b[39mstdin:\n\u001b[1;32m     57\u001b[0m     line \u001b[38;5;241m=\u001b[39m line\u001b[38;5;241m.\u001b[39mstrip()\n\u001b[1;32m     58\u001b[0m     parsingInputString(line)\n",
      "\u001b[0;31mKeyboardInterrupt\u001b[0m: "
     ]
    }
   ],
   "source": [
    "# for hackerrank \n",
    "\n",
    "import sys\n",
    "\n",
    "\n",
    "\n",
    "def splitting(input_txt_name, input_txt_type):\n",
    "        \n",
    "        names = []\n",
    "        prev_index = 0\n",
    "        length = len(input_txt_name)\n",
    "        for current in range(length):\n",
    "              if input_txt_name[current].isupper():\n",
    "                    names.append(input_txt_name[prev_index:current].lower())\n",
    "                    prev_index = current\n",
    "                    \n",
    "        lastportion = input_txt_name[prev_index:-2] if input_txt_type == 'M' else input_txt_name[prev_index:]\n",
    "        names.append(lastportion.lower())\n",
    "        name =  \" \".join(names).strip()\n",
    "        print(name)\n",
    "        return name\n",
    "        \n",
    "\n",
    "def combining(input_txt_name, input_txt_type):\n",
    "        input_txt_name = input_txt_name.split(\" \")\n",
    "        for current in range(len(input_txt_name)):\n",
    "            input_txt_name[current] = input_txt_name[current].title()\n",
    "        \n",
    "        \n",
    "        \n",
    "        if input_txt_type == 'C':\n",
    "            name = \"\".join(input_txt_name)\n",
    "            print(name)\n",
    "            return name\n",
    "        \n",
    "        input_txt_name[0] = input_txt_name[0].lower()\n",
    "        name = \"\".join(input_txt_name)\n",
    "        name = name + \"()\" if input_txt_type == 'M' else name()\n",
    "        print(name)\n",
    "        return name\n",
    "        \n",
    "\n",
    "def parsingInputString(input_txt):\n",
    "    input_txt_operation = input_txt[0:1]\n",
    "    input_txt_type = input_txt[2:3]\n",
    "    input_txt_name = input_txt[4:]\n",
    "    if input_txt_operation == 'C':\n",
    "        return combining(input_txt_name, input_txt_type)\n",
    "    if input_txt_operation == 'S':\n",
    "        return splitting(input_txt_name, input_txt_type)\n",
    "\n",
    "\n",
    "\n",
    "\n",
    "\n",
    "for line in sys.stdin:\n",
    "    line = line.strip()\n",
    "    parsingInputString(line)"
   ]
  },
  {
   "cell_type": "code",
   "execution_count": null,
   "metadata": {},
   "outputs": [
    {
     "name": "stdout",
     "output_type": "stream",
     "text": [
      "['mouse', 'pad']\n",
      "mousePad()\n"
     ]
    },
    {
     "data": {
      "text/plain": [
       "'mousePad()'"
      ]
     },
     "execution_count": 102,
     "metadata": {},
     "output_type": "execute_result"
    }
   ],
   "source": [
    "# submiited \n",
    "\n",
    "import sys\n",
    "\n",
    "def splitting(input_txt_name, input_txt_type):\n",
    "    names = []\n",
    "    start = 0\n",
    "    for i, char in enumerate(input_txt_name):\n",
    "        if char.isupper() and i > 0:\n",
    "            names.append(input_txt_name[start:i].lower())\n",
    "            start = i\n",
    "    \n",
    "    last_part = input_txt_name[start:-2] if input_txt_type == 'M' else input_txt_name[start:]\n",
    "    names.append(last_part.lower())\n",
    "    \n",
    "    name = \" \".join(names).strip()\n",
    "    print(name)\n",
    "    return name\n",
    "\n",
    "def combining(input_txt_name, input_txt_type):\n",
    "    words = input_txt_name.split()\n",
    "    if input_txt_type == 'C':\n",
    "        name = \"\".join(word.capitalize() for word in words)\n",
    "    else:\n",
    "        print(words)\n",
    "        name = words[0].lower() + \"\".join(word.capitalize() for word in words[1:])\n",
    "        name += \"()\" if input_txt_type == 'M' else \"\"\n",
    "    \n",
    "    print(name)\n",
    "    return name\n",
    "\n",
    "def parsingInputString(input_txt):\n",
    "    input_txt_operation = input_txt[0]\n",
    "    input_txt_type = input_txt[2]\n",
    "    input_txt_name = input_txt[4:]\n",
    "    \n",
    "    if input_txt_operation == 'C':\n",
    "        return combining(input_txt_name, input_txt_type)\n",
    "    if input_txt_operation == 'S':\n",
    "        return splitting(input_txt_name, input_txt_type)\n",
    "\n",
    "\n",
    "\n",
    "input_txt = \"C;M;mouse pad\"\n",
    " # CoffeeMachine\n",
    "\n",
    "\n",
    "\n",
    "\n",
    "\n",
    "parsingInputString(input_txt)"
   ]
  },
  {
   "cell_type": "code",
   "execution_count": null,
   "metadata": {},
   "outputs": [
    {
     "data": {
      "text/plain": [
       "'Mousepad'"
      ]
     },
     "execution_count": 99,
     "metadata": {},
     "output_type": "execute_result"
    }
   ],
   "source": [
    "\"mousepad\".capitalize()"
   ]
  },
  {
   "cell_type": "code",
   "execution_count": null,
   "metadata": {},
   "outputs": [
    {
     "data": {
      "text/plain": [
       "'Mousepad'"
      ]
     },
     "execution_count": 100,
     "metadata": {},
     "output_type": "execute_result"
    }
   ],
   "source": [
    "\"mousepad\".title()"
   ]
  },
  {
   "cell_type": "code",
   "execution_count": null,
   "metadata": {},
   "outputs": [],
   "source": []
  },
  {
   "cell_type": "code",
   "execution_count": null,
   "metadata": {},
   "outputs": [],
   "source": []
  },
  {
   "cell_type": "code",
   "execution_count": null,
   "metadata": {},
   "outputs": [],
   "source": []
  },
  {
   "cell_type": "markdown",
   "metadata": {},
   "source": [
    "# hackerrank:  divisble sums pairs"
   ]
  },
  {
   "cell_type": "code",
   "execution_count": null,
   "metadata": {},
   "outputs": [
    {
     "data": {
      "text/plain": [
       "[1, 3, 2, 6, 1, 2]"
      ]
     },
     "execution_count": 24,
     "metadata": {},
     "output_type": "execute_result"
    }
   ],
   "source": [
    "arr = [1, 3, 2, 6, 1, 2]\n",
    "n = 6; k = 3\n",
    "arr"
   ]
  },
  {
   "cell_type": "code",
   "execution_count": null,
   "metadata": {},
   "outputs": [
    {
     "name": "stdout",
     "output_type": "stream",
     "text": [
      "5\n"
     ]
    }
   ],
   "source": [
    "\n",
    "# arr = sorted(arr)\n",
    "\n",
    "count =0\n",
    "for index, value in enumerate(arr):\n",
    "    for i in range(index+1, len(arr)):\n",
    "        # print(\"i:{0}, value:{1}, index:{2}\".format( i, value, index))\n",
    "\n",
    "        if ( True and (value + arr[i])%k==0 ):\n",
    "            # print(value, arr[i])\n",
    "            count+=1\n",
    "\n",
    "\n",
    "print(count)"
   ]
  },
  {
   "cell_type": "code",
   "execution_count": null,
   "metadata": {},
   "outputs": [],
   "source": []
  },
  {
   "cell_type": "code",
   "execution_count": null,
   "metadata": {},
   "outputs": [],
   "source": []
  },
  {
   "cell_type": "code",
   "execution_count": null,
   "metadata": {},
   "outputs": [],
   "source": []
  },
  {
   "cell_type": "markdown",
   "metadata": {},
   "source": [
    "# Sparse arrays\n",
    "\n",
    "There is a collection of input strings and a collection of query strings. For each query string, determine how many times it occurs in the list of input strings. Return an array of the results.\n"
   ]
  },
  {
   "cell_type": "code",
   "execution_count": null,
   "metadata": {},
   "outputs": [
    {
     "data": {
      "text/plain": [
       "(['abcde',\n",
       "  'sdaklfj',\n",
       "  'asdjf',\n",
       "  'na',\n",
       "  'basdn',\n",
       "  'sdaklfj',\n",
       "  'asdjf',\n",
       "  'na',\n",
       "  'asdjf',\n",
       "  'na',\n",
       "  'basdn',\n",
       "  'sdaklfj',\n",
       "  'asdjf'],\n",
       " ['abcde', 'sdaklfj', 'asdjf', 'na', 'basdn'],\n",
       " [0, 0, 0, 0, 0])"
      ]
     },
     "execution_count": 38,
     "metadata": {},
     "output_type": "execute_result"
    }
   ],
   "source": [
    "# strings = ['aba' ,'baba' ,'aba' ,'xzxb']\n",
    "# query = ['aba', 'xzxb', 'ab']\n",
    "\n",
    "strings = ['abcde','sdaklfj','asdjf','na','basdn','sdaklfj','asdjf','na','asdjf','na','basdn','sdaklfj','asdjf']\n",
    "query = ['abcde','sdaklfj','asdjf','na','basdn']\n",
    "count = [0] * len(query)\n",
    "\n",
    "strings, query, count"
   ]
  },
  {
   "cell_type": "code",
   "execution_count": null,
   "metadata": {},
   "outputs": [
    {
     "data": {
      "text/plain": [
       "[1, 3, 4, 3, 2]"
      ]
     },
     "execution_count": 39,
     "metadata": {},
     "output_type": "execute_result"
    }
   ],
   "source": [
    "for qindex, query in enumerate(query):\n",
    "\n",
    "    for string in strings:\n",
    "        if query == string:\n",
    "            count[qindex]+=1\n",
    "\n",
    "\n",
    "count"
   ]
  },
  {
   "cell_type": "code",
   "execution_count": null,
   "metadata": {},
   "outputs": [],
   "source": []
  },
  {
   "cell_type": "code",
   "execution_count": null,
   "metadata": {},
   "outputs": [],
   "source": []
  },
  {
   "cell_type": "markdown",
   "metadata": {},
   "source": [
    "# 347. Top K Frequent Elements\n",
    "Given an integer array nums and an integer k, return the k most frequent elements. You may return the answer in any order.\n",
    "\n",
    "Input: nums = [1,1,1,2,2,3], k = 2\n",
    "Output: [1,2]"
   ]
  },
  {
   "cell_type": "code",
   "execution_count": null,
   "metadata": {},
   "outputs": [
    {
     "name": "stdout",
     "output_type": "stream",
     "text": [
      "[2]\n",
      "[2, 1]\n",
      "[2, 1]\n"
     ]
    },
    {
     "data": {
      "text/plain": [
       "[2]"
      ]
     },
     "execution_count": 22,
     "metadata": {},
     "output_type": "execute_result"
    }
   ],
   "source": [
    "# nums = [1,1,1,2,2,3,3,3,3,3]; k = 2\n",
    "# Output: [1,2]\n",
    "nums = [-1,2,2] \n",
    "k=1\n",
    "\n",
    "result=[]\n",
    "\n",
    "for index, value in enumerate(set(nums)):\n",
    "    result.append(nums.count(value))\n",
    "    print(result)\n",
    "# result = sorted(result)\n",
    "print(result)\n",
    "result[:k]"
   ]
  },
  {
   "cell_type": "code",
   "execution_count": null,
   "metadata": {},
   "outputs": [
    {
     "name": "stdout",
     "output_type": "stream",
     "text": [
      "{1: 3, 2: 2, 3: 1}\n"
     ]
    },
    {
     "data": {
      "text/plain": [
       "[1, 2]"
      ]
     },
     "execution_count": 44,
     "metadata": {},
     "output_type": "execute_result"
    }
   ],
   "source": [
    "# nums = [1,1,1,2,2,3,3,3,3,3]; k = 2\n",
    "# Output: [1,2]\n",
    "nums = [1,1,1,2,2,3]\n",
    "k=2\n",
    "\n",
    "result={}\n",
    "\n",
    "for value in set(nums):\n",
    "    # result.append(nums.count(value))\n",
    "    result[value] = nums.count(value)\n",
    "    # print(result)\n",
    "# result = sorted(result)\n",
    "print(result)\n",
    "\n",
    "\n",
    "sorted_result = sorted(result.items(), key=lambda item: item[1], reverse=True)\n",
    "sorted_result\n",
    "\n",
    "\n",
    "\n",
    "\n",
    "sorted_keys = [ keys for keys, v in sorted_result]\n",
    "sorted_keys[:k]\n"
   ]
  },
  {
   "cell_type": "code",
   "execution_count": null,
   "metadata": {},
   "outputs": [
    {
     "name": "stdout",
     "output_type": "stream",
     "text": [
      "{1: 3, 2: 2, 3: 1}\n"
     ]
    },
    {
     "data": {
      "text/plain": [
       "[1, 2]"
      ]
     },
     "execution_count": 51,
     "metadata": {},
     "output_type": "execute_result"
    }
   ],
   "source": [
    "# nums = [1,1,1,2,2,3,3,3,3,3]; k = 2\n",
    "# Output: [1,2]\n",
    "\n",
    "#beats 86%\n",
    "nums = [1,1,1,2,2,3]\n",
    "k=2\n",
    "\n",
    "result={}\n",
    "\n",
    "\n",
    "for number in nums:\n",
    "    if number in result:\n",
    "        result[number] +=1\n",
    "    else:\n",
    "        result[number] = 1\n",
    "\n",
    "\n",
    "print(result)\n",
    "\n",
    "sorted_result = sorted(result.items(), key=lambda item: item[1], reverse=True)\n",
    "sorted_result\n",
    "\n",
    "\n",
    "\n",
    "\n",
    "sorted_keys = [ keys for keys, v in sorted_result]\n",
    "sorted_keys[:k]\n"
   ]
  },
  {
   "cell_type": "code",
   "execution_count": null,
   "metadata": {},
   "outputs": [
    {
     "data": {
      "text/plain": [
       "2"
      ]
     },
     "execution_count": 2,
     "metadata": {},
     "output_type": "execute_result"
    }
   ],
   "source": [
    "\"aabc\".count(\"a\")"
   ]
  },
  {
   "cell_type": "code",
   "execution_count": null,
   "metadata": {},
   "outputs": [],
   "source": []
  },
  {
   "cell_type": "code",
   "execution_count": null,
   "metadata": {},
   "outputs": [
    {
     "data": {
      "text/plain": [
       "[1, 2]"
      ]
     },
     "execution_count": 47,
     "metadata": {},
     "output_type": "execute_result"
    }
   ],
   "source": [
    "# optimal \n",
    "import heapq\n",
    "freq_map = {}\n",
    "for num in nums:\n",
    "    if num in freq_map:\n",
    "        freq_map[num] += 1\n",
    "    else:\n",
    "        freq_map[num] = 1\n",
    "\n",
    "# Step 2: Use a heap to find the k most frequent elements\n",
    "# The heap will store elements as (-frequency, element) to create a max heap\n",
    "heap = []\n",
    "for num, freq in freq_map.items():\n",
    "    heapq.heappush(heap, (-freq, num))\n",
    "\n",
    "# Step 3: Extract the top k elements from the heap\n",
    "top_k = []\n",
    "for _ in range(k):\n",
    "    top_k.append(heapq.heappop(heap)[1])\n",
    "\n",
    "top_k"
   ]
  },
  {
   "cell_type": "code",
   "execution_count": null,
   "metadata": {},
   "outputs": [],
   "source": []
  },
  {
   "cell_type": "code",
   "execution_count": null,
   "metadata": {},
   "outputs": [],
   "source": []
  },
  {
   "cell_type": "markdown",
   "metadata": {},
   "source": [
    "# String Encode and Decode\n",
    "\n",
    "Input: [\"neet\",\"code\",\"love\",\"you\"]\n",
    "\n",
    "Output:[\"neet\",\"code\",\"love\",\"you\"]\n"
   ]
  },
  {
   "cell_type": "code",
   "execution_count": null,
   "metadata": {},
   "outputs": [
    {
     "name": "stdout",
     "output_type": "stream",
     "text": [
      "encoded \n",
      "['']\n"
     ]
    }
   ],
   "source": [
    "input = [\"\"]\n",
    "\n",
    "encoded = \"#\".join(input)\n",
    "print(\"encoded\", encoded)\n",
    "# decoded = encoded.split(\"#\") if encoded!=\"\" else []\n",
    "\n",
    "decoded = encoded.split(\"#\")\n",
    "print(decoded)\n",
    "\n"
   ]
  },
  {
   "cell_type": "code",
   "execution_count": null,
   "metadata": {},
   "outputs": [
    {
     "data": {
      "text/plain": [
       "('', '')"
      ]
     },
     "execution_count": 70,
     "metadata": {},
     "output_type": "execute_result"
    }
   ],
   "source": [
    "\"#\".join([\"\"]), \"#\".join([])"
   ]
  },
  {
   "cell_type": "markdown",
   "metadata": {},
   "source": [
    "### (len)#(string)"
   ]
  },
  {
   "cell_type": "code",
   "execution_count": null,
   "metadata": {},
   "outputs": [
    {
     "data": {
      "text/plain": [
       "'4#neet4#code4#love3#you'"
      ]
     },
     "execution_count": 38,
     "metadata": {},
     "output_type": "execute_result"
    }
   ],
   "source": [
    "input = [\"neet\",\"code\",\"love\",\"you\"]\n",
    "# input=[]\n",
    "string=\"\"\n",
    "for i in input:\n",
    "    string+=str(len(i))+'#' + i\n",
    "string\n"
   ]
  },
  {
   "cell_type": "code",
   "execution_count": null,
   "metadata": {},
   "outputs": [
    {
     "name": "stdout",
     "output_type": "stream",
     "text": [
      "length: 4\n",
      "neet\n",
      "length: 4\n",
      "code\n",
      "length: 4\n",
      "love\n",
      "length: 3\n",
      "you\n"
     ]
    },
    {
     "data": {
      "text/plain": [
       "['neet', 'code', 'love', 'you']"
      ]
     },
     "execution_count": 72,
     "metadata": {},
     "output_type": "execute_result"
    }
   ],
   "source": [
    "\n",
    "output =[]\n",
    "i=0\n",
    "while(i<len(string)):\n",
    "    length = int(string[i])\n",
    "    print(\"length:\", length)\n",
    "    print(string[i+1+1:i+1+1+length])\n",
    "    output.append(string[i+1+1:i+1+1+length])\n",
    "    i = i+ 1+length+1\n",
    "\n",
    "output\n"
   ]
  },
  {
   "cell_type": "code",
   "execution_count": null,
   "metadata": {},
   "outputs": [],
   "source": []
  },
  {
   "cell_type": "code",
   "execution_count": null,
   "metadata": {},
   "outputs": [
    {
     "name": "stdout",
     "output_type": "stream",
     "text": [
      "0#\n",
      "\n"
     ]
    },
    {
     "data": {
      "text/plain": [
       "['']"
      ]
     },
     "execution_count": 3,
     "metadata": {},
     "output_type": "execute_result"
    }
   ],
   "source": [
    "# accepted\n",
    "# input = [\"neet\",\"code\",\"love\",\"you\"]\n",
    "input=[\"\"]\n",
    "string=\"\"\n",
    "for i in input:\n",
    "    string+=str(len(i))+'#' + i\n",
    "string\n",
    "\n",
    "print(string)\n",
    "res =[]\n",
    "i=0\n",
    "while(i<len(string)):\n",
    "    j=i\n",
    "    while(string[j]!='#'):\n",
    "        j+=1\n",
    "    length=int(string[i:j])\n",
    "\n",
    "    print(string[j+1:j+1+length])\n",
    "    res.append(string[j+1:j+1+length])\n",
    "    i = j+1+length\n",
    "res\n",
    "\n"
   ]
  },
  {
   "cell_type": "code",
   "execution_count": null,
   "metadata": {},
   "outputs": [],
   "source": []
  },
  {
   "cell_type": "code",
   "execution_count": null,
   "metadata": {},
   "outputs": [],
   "source": []
  },
  {
   "cell_type": "code",
   "execution_count": null,
   "metadata": {},
   "outputs": [],
   "source": []
  },
  {
   "cell_type": "code",
   "execution_count": null,
   "metadata": {},
   "outputs": [],
   "source": [
    "\n",
    "Input:\n",
    "\n",
    "[\"\"]\n",
    "\n",
    "Your Output:\n",
    "\n",
    "[]\n",
    "\n",
    "Expected output:\n",
    "\n",
    "[\"\"]"
   ]
  },
  {
   "cell_type": "code",
   "execution_count": null,
   "metadata": {},
   "outputs": [],
   "source": []
  },
  {
   "cell_type": "code",
   "execution_count": null,
   "metadata": {},
   "outputs": [],
   "source": []
  },
  {
   "cell_type": "code",
   "execution_count": null,
   "metadata": {},
   "outputs": [],
   "source": []
  },
  {
   "cell_type": "code",
   "execution_count": null,
   "metadata": {},
   "outputs": [],
   "source": []
  },
  {
   "cell_type": "code",
   "execution_count": null,
   "metadata": {},
   "outputs": [],
   "source": []
  },
  {
   "cell_type": "markdown",
   "metadata": {},
   "source": [
    "## median"
   ]
  },
  {
   "cell_type": "code",
   "execution_count": null,
   "metadata": {},
   "outputs": [
    {
     "name": "stdout",
     "output_type": "stream",
     "text": [
      "3\n",
      "3.5\n"
     ]
    }
   ],
   "source": [
    "arr  = [5,1,2,3,4,6]\n",
    "\n",
    "arr = sorted(arr)\n",
    "arr\n",
    "length =len(arr)\n",
    "\n",
    "if length%2 ==0:\n",
    "    print(length//2)\n",
    "    print((arr[length//2 -1] +  arr[length//2]) / 2)\n",
    "\n",
    "else:\n",
    "    print((length//2))\n",
    "\n",
    "\n",
    "\n"
   ]
  },
  {
   "cell_type": "code",
   "execution_count": null,
   "metadata": {},
   "outputs": [
    {
     "name": "stdout",
     "output_type": "stream",
     "text": [
      "3\n"
     ]
    }
   ],
   "source": [
    "# fina\n",
    "arr  = [5,1,2,3,4,6,7]\n",
    "\n",
    "arr = sorted(arr)\n",
    "arr\n",
    "length =len(arr)\n",
    "\n",
    "if length%2 ==0:\n",
    "    print((arr[length//2 -1] +  arr[length//2]) / 2)\n",
    "\n",
    "else:\n",
    "    print(length//2)\n",
    "\n"
   ]
  },
  {
   "cell_type": "code",
   "execution_count": null,
   "metadata": {},
   "outputs": [
    {
     "data": {
      "text/plain": [
       "(2.3333333333333335, 2, 1)"
      ]
     },
     "execution_count": 50,
     "metadata": {},
     "output_type": "execute_result"
    }
   ],
   "source": [
    "7/3, 7//3, 7%3"
   ]
  },
  {
   "cell_type": "code",
   "execution_count": null,
   "metadata": {},
   "outputs": [],
   "source": [
    "\n",
    "\n"
   ]
  },
  {
   "cell_type": "code",
   "execution_count": null,
   "metadata": {},
   "outputs": [],
   "source": []
  },
  {
   "cell_type": "markdown",
   "metadata": {},
   "source": [
    "## Lonely Integer"
   ]
  },
  {
   "cell_type": "code",
   "execution_count": null,
   "metadata": {},
   "outputs": [
    {
     "data": {
      "text/plain": [
       "[1, 2, 3, 4, 3, 2, 1]"
      ]
     },
     "execution_count": 2,
     "metadata": {},
     "output_type": "execute_result"
    }
   ],
   "source": [
    "a =[1,2,3,4,3,2,1]   # all lements but one occur twixe\n",
    "a\n"
   ]
  },
  {
   "cell_type": "code",
   "execution_count": null,
   "metadata": {},
   "outputs": [
    {
     "name": "stdout",
     "output_type": "stream",
     "text": [
      "1\n",
      "3\n",
      "0\n",
      "4\n",
      "7\n",
      "5\n",
      "4\n"
     ]
    },
    {
     "data": {
      "text/plain": [
       "4"
      ]
     },
     "execution_count": 3,
     "metadata": {},
     "output_type": "execute_result"
    }
   ],
   "source": [
    "def lonelyinteger(a):\n",
    "    result = 0\n",
    "    for num in a:\n",
    "        result ^= num  # XOR each element\n",
    "        print(result)\n",
    "    return result\n",
    "lonelyinteger(a)"
   ]
  },
  {
   "cell_type": "code",
   "execution_count": null,
   "metadata": {},
   "outputs": [
    {
     "data": {
      "text/plain": [
       "4"
      ]
     },
     "execution_count": 16,
     "metadata": {},
     "output_type": "execute_result"
    }
   ],
   "source": [
    "a = [1,2,3]\n",
    "a =[1,2,3,4,3,2,1]   # all lements but one occur twixe\n",
    "\n",
    "# final\n",
    "\n",
    "def lonelyInter(a):\n",
    "    sum_of_arr = sum(set(a)) \n",
    "    # print(sum_of_arr)\n",
    "\n",
    "    return sum_of_arr*2 - sum(a)\n",
    "\n",
    "lonelyInter(a)\n"
   ]
  },
  {
   "cell_type": "code",
   "execution_count": null,
   "metadata": {},
   "outputs": [
    {
     "data": {
      "text/plain": [
       "25"
      ]
     },
     "execution_count": 65,
     "metadata": {},
     "output_type": "execute_result"
    }
   ],
   "source": [
    "5**2"
   ]
  },
  {
   "cell_type": "markdown",
   "metadata": {},
   "source": [
    "## Grading Students\n",
    "\n",
    "\n",
    "\n",
    "1. If the difference between the grade and the next multiple of 5 is less than 3, round grade up to the next multiple of 5.\n",
    "\n",
    "2. If the value of grade is less than 38, no rounding occurs\n"
   ]
  },
  {
   "cell_type": "code",
   "execution_count": null,
   "metadata": {},
   "outputs": [
    {
     "data": {
      "text/plain": [
       "[4, 75, 67, 40, 33]"
      ]
     },
     "execution_count": 53,
     "metadata": {},
     "output_type": "execute_result"
    }
   ],
   "source": [
    "grades = [4, 73, 67, 38, 33]\n",
    "def gradingStudents(grades):\n",
    "    for index, value in enumerate(grades):\n",
    "        if value>=38:\n",
    "            remainder =value%5\n",
    "            if remainder>2:\n",
    "                grades[index] = value + (5 - remainder)\n",
    "    return grades\n",
    "gradingStudents(grades)"
   ]
  },
  {
   "cell_type": "code",
   "execution_count": null,
   "metadata": {},
   "outputs": [],
   "source": []
  },
  {
   "cell_type": "code",
   "execution_count": null,
   "metadata": {},
   "outputs": [],
   "source": []
  },
  {
   "cell_type": "code",
   "execution_count": null,
   "metadata": {},
   "outputs": [],
   "source": []
  },
  {
   "cell_type": "code",
   "execution_count": null,
   "metadata": {},
   "outputs": [],
   "source": []
  },
  {
   "cell_type": "markdown",
   "metadata": {},
   "source": [
    "## diagonal difference \n"
   ]
  },
  {
   "cell_type": "code",
   "execution_count": null,
   "metadata": {},
   "outputs": [
    {
     "data": {
      "text/plain": [
       "[[1, 2, 3], [4, 5, 6], [9, 8, 9]]"
      ]
     },
     "execution_count": 61,
     "metadata": {},
     "output_type": "execute_result"
    }
   ],
   "source": []
  },
  {
   "cell_type": "code",
   "execution_count": null,
   "metadata": {},
   "outputs": [
    {
     "name": "stdout",
     "output_type": "stream",
     "text": [
      "1 3\n",
      "5 5\n",
      "9 9\n"
     ]
    },
    {
     "data": {
      "text/plain": [
       "2"
      ]
     },
     "execution_count": 95,
     "metadata": {},
     "output_type": "execute_result"
    }
   ],
   "source": [
    "# O(n**2)\n",
    "\n",
    "x= [[1, 2 ,3],  \n",
    "     [4 ,5, 6],\n",
    "     [9 ,8, 9 ],]\n",
    "\n",
    "x\n",
    "columns = len(x[0])\n",
    "rows = len(x)\n",
    "# print(columns, rows)\n",
    "\n",
    "\n",
    "diagonal_difference =0\n",
    "for r in range(rows):\n",
    "    for c in range(columns):\n",
    "        if r==c:\n",
    "            print(x[r][c], x[r][columns - r-1])\n",
    "            diagonal_difference+= x[r][c]- x[r][columns - r-1]\n",
    "            # print(\"\\tf:\",r,c, \"r:\", r, columns - r-1])\n",
    "        \n",
    "abs(diagonal_difference)"
   ]
  },
  {
   "cell_type": "code",
   "execution_count": null,
   "metadata": {},
   "outputs": [
    {
     "data": {
      "text/plain": [
       "2"
      ]
     },
     "execution_count": 96,
     "metadata": {},
     "output_type": "execute_result"
    }
   ],
   "source": [
    "# O(n)\n",
    "def diagonal_difference(matrix):\n",
    "  n = len(matrix)\n",
    "  primary_sum = sum(matrix[i][i] for i in range(n))\n",
    "  secondary_sum = sum(matrix[i][n - i - 1] for i in range(n))\n",
    "  return abs(primary_sum - secondary_sum)\n",
    "\n",
    "diagonal_difference(x)"
   ]
  },
  {
   "cell_type": "code",
   "execution_count": null,
   "metadata": {},
   "outputs": [],
   "source": []
  },
  {
   "cell_type": "code",
   "execution_count": null,
   "metadata": {},
   "outputs": [],
   "source": []
  },
  {
   "cell_type": "markdown",
   "metadata": {},
   "source": [
    "# Counting sort 1"
   ]
  },
  {
   "cell_type": "code",
   "execution_count": null,
   "metadata": {},
   "outputs": [
    {
     "data": {
      "text/plain": [
       "([1, 1, 3, 2, 1, 0], [0, 0, 0, 0])"
      ]
     },
     "execution_count": 32,
     "metadata": {},
     "output_type": "execute_result"
    }
   ],
   "source": [
    "arr=[1,1,3,2,1,0]\n",
    "count = [0] * (len(set(arr)))\n",
    "\n",
    "arr, count"
   ]
  },
  {
   "cell_type": "code",
   "execution_count": null,
   "metadata": {},
   "outputs": [
    {
     "name": "stdout",
     "output_type": "stream",
     "text": [
      "3\n"
     ]
    },
    {
     "data": {
      "text/plain": [
       "[0, 3, 1, 1]"
      ]
     },
     "execution_count": 49,
     "metadata": {},
     "output_type": "execute_result"
    }
   ],
   "source": [
    "arr=[1,1,3,2,1]\n",
    "# arr = [63, 54, 17, 78, 43, 70, 32, 97, 16, 94, 74, 18, 60, 61, 35, 83, 13, 56, 75, 52, 70, 12, 24, 37, 17, 0, 16, 64, 34, 81, 82, 24, 69, 2, 30, 61, 83, 37, 97, 16, 70, 53, 0, 61, 12, 17, 97, 67, 33, 30, 49, 70, 11, 40, 67, 94, 84, 60, 35, 58, 19, 81, 16, 14, 68, 46, 42, 81, 75, 87, 13, 84, 33, 34, 14, 96, 7, 59, 17, 98, 79, 47, 71, 75, 8, 27, 73, 66, 64, 12, 29, 35, 80, 78, 80, 6, 5, 24, 49, 82]\n",
    "\n",
    "count = [0] * (max(arr)+1)\n",
    "print(max(arr))\n",
    "for v in arr:\n",
    "  count[v] += 1\n",
    "\n",
    "count"
   ]
  },
  {
   "cell_type": "code",
   "execution_count": null,
   "metadata": {},
   "outputs": [],
   "source": []
  },
  {
   "cell_type": "code",
   "execution_count": null,
   "metadata": {},
   "outputs": [
    {
     "data": {
      "text/plain": [
       "[1, 1, 1, 2, 3]"
      ]
     },
     "execution_count": 60,
     "metadata": {},
     "output_type": "execute_result"
    }
   ],
   "source": [
    "[i for i,v in enumerate(count) for _ in range(v)]"
   ]
  },
  {
   "cell_type": "code",
   "execution_count": null,
   "metadata": {},
   "outputs": [
    {
     "data": {
      "text/plain": [
       "[1, 1, 1, 2, 3]"
      ]
     },
     "execution_count": 59,
     "metadata": {},
     "output_type": "execute_result"
    }
   ],
   "source": [
    "count\n",
    "lst=[]\n",
    "for i, v in enumerate(count):\n",
    "    for _ in range(v):\n",
    "        lst.append(i)\n",
    "lst"
   ]
  },
  {
   "cell_type": "code",
   "execution_count": null,
   "metadata": {},
   "outputs": [],
   "source": []
  },
  {
   "cell_type": "code",
   "execution_count": null,
   "metadata": {},
   "outputs": [],
   "source": []
  },
  {
   "cell_type": "code",
   "execution_count": null,
   "metadata": {},
   "outputs": [
    {
     "name": "stdout",
     "output_type": "stream",
     "text": [
      "3\n"
     ]
    },
    {
     "data": {
      "text/plain": [
       "[1, 1, 1, 2, 3]"
      ]
     },
     "execution_count": 62,
     "metadata": {},
     "output_type": "execute_result"
    }
   ],
   "source": [
    "# sorted\n",
    "arr=[1,1,3,2,1]\n",
    "\n",
    "count = [0] * (max(arr)+1)\n",
    "print(max(arr))\n",
    "for v in arr:\n",
    "  count[v] += 1\n",
    "\n",
    "\n",
    "[i for i,v in enumerate(count) for _ in range(v)]"
   ]
  },
  {
   "cell_type": "code",
   "execution_count": null,
   "metadata": {},
   "outputs": [],
   "source": []
  },
  {
   "cell_type": "code",
   "execution_count": null,
   "metadata": {},
   "outputs": [],
   "source": []
  },
  {
   "cell_type": "code",
   "execution_count": null,
   "metadata": {},
   "outputs": [],
   "source": []
  },
  {
   "cell_type": "code",
   "execution_count": null,
   "metadata": {},
   "outputs": [],
   "source": []
  },
  {
   "cell_type": "code",
   "execution_count": null,
   "metadata": {},
   "outputs": [],
   "source": []
  },
  {
   "cell_type": "code",
   "execution_count": null,
   "metadata": {},
   "outputs": [],
   "source": []
  },
  {
   "cell_type": "code",
   "execution_count": null,
   "metadata": {},
   "outputs": [],
   "source": []
  },
  {
   "cell_type": "code",
   "execution_count": null,
   "metadata": {},
   "outputs": [],
   "source": []
  },
  {
   "cell_type": "code",
   "execution_count": null,
   "metadata": {},
   "outputs": [],
   "source": []
  },
  {
   "cell_type": "code",
   "execution_count": null,
   "metadata": {},
   "outputs": [],
   "source": []
  },
  {
   "cell_type": "code",
   "execution_count": null,
   "metadata": {},
   "outputs": [],
   "source": []
  },
  {
   "cell_type": "code",
   "execution_count": null,
   "metadata": {},
   "outputs": [],
   "source": []
  },
  {
   "cell_type": "code",
   "execution_count": null,
   "metadata": {},
   "outputs": [],
   "source": []
  },
  {
   "cell_type": "code",
   "execution_count": null,
   "metadata": {},
   "outputs": [],
   "source": []
  },
  {
   "cell_type": "code",
   "execution_count": null,
   "metadata": {},
   "outputs": [],
   "source": []
  },
  {
   "cell_type": "code",
   "execution_count": null,
   "metadata": {},
   "outputs": [],
   "source": []
  },
  {
   "cell_type": "code",
   "execution_count": null,
   "metadata": {},
   "outputs": [],
   "source": []
  },
  {
   "cell_type": "code",
   "execution_count": null,
   "metadata": {},
   "outputs": [],
   "source": []
  },
  {
   "cell_type": "markdown",
   "metadata": {},
   "source": [
    "# Panagram"
   ]
  },
  {
   "cell_type": "code",
   "execution_count": null,
   "metadata": {},
   "outputs": [
    {
     "data": {
      "text/plain": [
       "'pagram'"
      ]
     },
     "execution_count": 10,
     "metadata": {},
     "output_type": "execute_result"
    }
   ],
   "source": [
    "s = \"We promptly judged antique ivory buckles for the next prize\"\n",
    "# s =s.split()\n",
    "result = \"pagram\" if 26 == len(set(\"\".join(s.lower().split()))) else \"non pangram\"\n",
    "result"
   ]
  },
  {
   "cell_type": "markdown",
   "metadata": {},
   "source": []
  },
  {
   "cell_type": "code",
   "execution_count": null,
   "metadata": {},
   "outputs": [],
   "source": []
  },
  {
   "cell_type": "code",
   "execution_count": null,
   "metadata": {},
   "outputs": [],
   "source": []
  },
  {
   "cell_type": "markdown",
   "metadata": {},
   "source": [
    "# Mars exploration\n",
    "A space explorer's ship crashed on Mars! They send a series of SOS messages to Earth for help. "
   ]
  },
  {
   "cell_type": "code",
   "execution_count": null,
   "metadata": {},
   "outputs": [
    {
     "data": {
      "text/plain": [
       "'SOSSPSSQSSOR'"
      ]
     },
     "execution_count": 26,
     "metadata": {},
     "output_type": "execute_result"
    }
   ],
   "source": []
  },
  {
   "cell_type": "code",
   "execution_count": null,
   "metadata": {},
   "outputs": [
    {
     "data": {
      "text/plain": [
       "('SOSSPSSQSSOR', 'SOSSOSSOSSOS')"
      ]
     },
     "execution_count": 31,
     "metadata": {},
     "output_type": "execute_result"
    }
   ],
   "source": [
    "S = \"SOSSPSSQSSOR\"\n",
    "target_string = \"SOS\" * (len(S)//3)\n",
    "S, target_string"
   ]
  },
  {
   "cell_type": "code",
   "execution_count": null,
   "metadata": {},
   "outputs": [
    {
     "data": {
      "text/plain": [
       "3"
      ]
     },
     "execution_count": 28,
     "metadata": {},
     "output_type": "execute_result"
    }
   ],
   "source": [
    "discrepancy = 0\n",
    "for current, target in zip(S, target_string):\n",
    "    if target != current:\n",
    "        discrepancy+=1\n",
    "discrepancy"
   ]
  },
  {
   "cell_type": "code",
   "execution_count": null,
   "metadata": {},
   "outputs": [
    {
     "data": {
      "text/plain": [
       "'aaaa'"
      ]
     },
     "execution_count": 19,
     "metadata": {},
     "output_type": "execute_result"
    }
   ],
   "source": [
    "'a'*4"
   ]
  },
  {
   "cell_type": "code",
   "execution_count": null,
   "metadata": {},
   "outputs": [],
   "source": []
  },
  {
   "cell_type": "code",
   "execution_count": null,
   "metadata": {},
   "outputs": [],
   "source": []
  },
  {
   "cell_type": "markdown",
   "metadata": {},
   "source": [
    "# Counting Valleys\n",
    "\n",
    "An avid hiker keeps meticulous records of their hikes. During the last hike that took exactly steps, for every step it was noted if it was an uphill, , or a downhill, step. Hikes always start and end at sea level, and each step up or down represents a\n",
    "\n",
    "unit change in altitude. We define the following terms:\n",
    "\n",
    "    A mountain is a sequence of consecutive steps above sea level, starting with a step up from sea level and ending with a step down to sea level.\n",
    "    A valley is a sequence of consecutive steps below sea level, starting with a step down from sea level and ending with a step up to sea level.\n",
    "\n",
    "Given the sequence of up and down steps during a hike, find and print the number of valleys walked through. "
   ]
  },
  {
   "cell_type": "code",
   "execution_count": null,
   "metadata": {},
   "outputs": [
    {
     "data": {
      "text/plain": [
       "(8, 'UDDDUDUU')"
      ]
     },
     "execution_count": 32,
     "metadata": {},
     "output_type": "execute_result"
    }
   ],
   "source": [
    "number_of_steps = 8\n",
    "steps = \"UDDDUDUU\"\n",
    "\n",
    "number_of_steps, steps"
   ]
  },
  {
   "cell_type": "code",
   "execution_count": null,
   "metadata": {},
   "outputs": [
    {
     "name": "stdout",
     "output_type": "stream",
     "text": [
      "valley-entered\n",
      "valley-exit\n"
     ]
    }
   ],
   "source": [
    "number_of_steps = 8\n",
    "steps = \"UDDDUDUU\"\n",
    "\n",
    "number_of_steps, steps\n",
    "downstate = 0\n",
    "upstate = 0\n",
    "in_valley =False\n",
    "for i, value in enumerate(steps):\n",
    "    if value == 'U':\n",
    "        upstate+=1\n",
    "    if value == 'D':\n",
    "        downstate+=1\n",
    "\n",
    "\n",
    "    if downstate > upstate and not in_valley:\n",
    "        in_valley=True\n",
    "        print(\"valley-entered\")\n",
    "    if upstate == downstate and in_valley:\n",
    "\n",
    "        print(\"valley-exit\")  \n",
    "        in_valley = False  \n",
    "\n",
    "    # print(f\"upstate:{upstate}, downstate:{downstate}, in_valley: {in_valley}\")\n",
    "\n",
    "    \n"
   ]
  },
  {
   "cell_type": "code",
   "execution_count": null,
   "metadata": {},
   "outputs": [
    {
     "name": "stdout",
     "output_type": "stream",
     "text": [
      "elevation:1, in_valley: False\n",
      "elevation:0, in_valley: False\n",
      "valley-entered\n",
      "elevation:-1, in_valley: True\n",
      "elevation:-2, in_valley: True\n",
      "elevation:-1, in_valley: True\n",
      "elevation:-2, in_valley: True\n",
      "elevation:-1, in_valley: True\n",
      "valley-exit\n",
      "elevation:0, in_valley: False\n"
     ]
    }
   ],
   "source": [
    "number_of_steps = 8\n",
    "steps = \"UDDDUDUU\"\n",
    "\n",
    "number_of_steps, steps\n",
    "elevation = 0\n",
    "in_valley =False\n",
    "for i, value in enumerate(steps):\n",
    "    if value == 'U':\n",
    "        elevation +=1\n",
    "    if value == 'D':\n",
    "        elevation -=1\n",
    "\n",
    "\n",
    "    if elevation< 0 and not in_valley:\n",
    "        in_valley=True\n",
    "        print(\"valley-entered\")\n",
    "    if elevation == 0 and in_valley:\n",
    "\n",
    "        print(\"valley-exit\")  \n",
    "        in_valley = False  \n",
    "\n",
    "    # print(f\"elevation:{elevation}, in_valley: {in_valley}\")\n",
    "\n",
    "    \n"
   ]
  },
  {
   "cell_type": "code",
   "execution_count": null,
   "metadata": {},
   "outputs": [
    {
     "data": {
      "text/plain": [
       "1"
      ]
     },
     "execution_count": 53,
     "metadata": {},
     "output_type": "execute_result"
    }
   ],
   "source": [
    "number_of_steps = 8\n",
    "steps = \"UDDDUDUU\"\n",
    "\n",
    "number_of_steps, steps\n",
    "elevation = valleys = 0\n",
    "for i, value in enumerate(steps):\n",
    "    elevation+= 1 if value == 'U' else -1\n",
    "\n",
    "    if elevation == 0 and value == 'U':\n",
    "        valleys += 1\n",
    "\n",
    "    # print(f\"elevation:{elevation}, in_valley: {in_valley}\")\n",
    "\n",
    "    \n",
    "valleys"
   ]
  },
  {
   "cell_type": "code",
   "execution_count": null,
   "metadata": {},
   "outputs": [],
   "source": [
    "def countingValleys(steps, path):\n",
    "    elevation = valleys = 0\n",
    "    for step in path:\n",
    "        elevation += 1 if step == 'U' else -1\n",
    "        if elevation == 0 and step == 'U':\n",
    "            valleys += 1\n",
    "    return valleys"
   ]
  },
  {
   "cell_type": "code",
   "execution_count": null,
   "metadata": {},
   "outputs": [],
   "source": []
  },
  {
   "cell_type": "code",
   "execution_count": null,
   "metadata": {},
   "outputs": [],
   "source": []
  },
  {
   "cell_type": "code",
   "execution_count": null,
   "metadata": {},
   "outputs": [],
   "source": []
  },
  {
   "cell_type": "code",
   "execution_count": null,
   "metadata": {},
   "outputs": [],
   "source": []
  },
  {
   "cell_type": "code",
   "execution_count": null,
   "metadata": {},
   "outputs": [],
   "source": []
  },
  {
   "cell_type": "code",
   "execution_count": null,
   "metadata": {},
   "outputs": [],
   "source": []
  },
  {
   "cell_type": "code",
   "execution_count": null,
   "metadata": {},
   "outputs": [],
   "source": []
  },
  {
   "cell_type": "code",
   "execution_count": null,
   "metadata": {},
   "outputs": [],
   "source": []
  },
  {
   "cell_type": "code",
   "execution_count": null,
   "metadata": {},
   "outputs": [],
   "source": []
  },
  {
   "cell_type": "markdown",
   "metadata": {},
   "source": [
    "# permuting two arrays"
   ]
  },
  {
   "cell_type": "code",
   "execution_count": null,
   "metadata": {},
   "outputs": [],
   "source": []
  },
  {
   "cell_type": "code",
   "execution_count": null,
   "metadata": {},
   "outputs": [
    {
     "data": {
      "text/plain": [
       "True"
      ]
     },
     "execution_count": 15,
     "metadata": {},
     "output_type": "execute_result"
    }
   ],
   "source": [
    "k = 10\n",
    "A = [2, 1, 3]\n",
    "B = [7, 8, 9]\n",
    "\n",
    "def checking_sum(k, A, B):\n",
    "    A.sort()\n",
    "    B.sort(reverse=True)\n",
    "    for a, b in zip(A,B):\n",
    "        if a + b < k:\n",
    "            print(a+b)\n",
    "            return False\n",
    "        \n",
    "    return True\n",
    "\n",
    "\n",
    "checking_sum(k, A, B)"
   ]
  },
  {
   "cell_type": "code",
   "execution_count": null,
   "metadata": {},
   "outputs": [],
   "source": []
  },
  {
   "cell_type": "code",
   "execution_count": null,
   "metadata": {},
   "outputs": [],
   "source": []
  },
  {
   "cell_type": "code",
   "execution_count": null,
   "metadata": {},
   "outputs": [],
   "source": []
  },
  {
   "cell_type": "code",
   "execution_count": null,
   "metadata": {},
   "outputs": [],
   "source": []
  },
  {
   "cell_type": "markdown",
   "metadata": {},
   "source": [
    "# Subarray Division 2\n",
    "Two children, Lily and Ron, want to share a chocolate bar. Each of the squares has an integer on it. "
   ]
  },
  {
   "cell_type": "code",
   "execution_count": null,
   "metadata": {},
   "outputs": [
    {
     "name": "stdout",
     "output_type": "stream",
     "text": [
      "0\n",
      "0 2 [2, 2]\n",
      "1\n",
      "2\n",
      "2 4 [1, 3]\n",
      "3\n"
     ]
    }
   ],
   "source": [
    "s= [2,2,1,3,2]\n",
    "d= 4\n",
    "m=2\n",
    "\n",
    "for i in range(len(s) -m +1):\n",
    "    # print(i)\n",
    "    # sum loop\n",
    "    temp_sum =0\n",
    "    \n",
    "    for t in range(m):\n",
    "        temp_sum += s[i+t]\n",
    "        # print(temp_sum)\n",
    "    if temp_sum == d:\n",
    "        print(i, i+m, s[i:i+m])\n",
    "    "
   ]
  },
  {
   "cell_type": "code",
   "execution_count": null,
   "metadata": {},
   "outputs": [
    {
     "name": "stdout",
     "output_type": "stream",
     "text": [
      "[2, 2]\n",
      "[1, 3]\n"
     ]
    },
    {
     "data": {
      "text/plain": [
       "2"
      ]
     },
     "execution_count": 34,
     "metadata": {},
     "output_type": "execute_result"
    }
   ],
   "source": [
    "s= [2,2,1,3,2]\n",
    "d= 4\n",
    "m=2\n",
    "count=0\n",
    "\n",
    "\n",
    "for i in range(len(s) -m +1):\n",
    "    current_sum =sum(s[i:i+m])\n",
    "    if(current_sum) == d: \n",
    "        count+=1\n",
    "        print(s[i:i+m])\n",
    "\n",
    "count"
   ]
  },
  {
   "cell_type": "code",
   "execution_count": null,
   "metadata": {},
   "outputs": [
    {
     "data": {
      "text/plain": [
       "[2, 2]"
      ]
     },
     "execution_count": 27,
     "metadata": {},
     "output_type": "execute_result"
    }
   ],
   "source": [
    "s[0:0+2]"
   ]
  },
  {
   "cell_type": "code",
   "execution_count": null,
   "metadata": {},
   "outputs": [],
   "source": []
  },
  {
   "cell_type": "code",
   "execution_count": null,
   "metadata": {},
   "outputs": [],
   "source": []
  },
  {
   "cell_type": "code",
   "execution_count": null,
   "metadata": {},
   "outputs": [],
   "source": []
  },
  {
   "cell_type": "code",
   "execution_count": null,
   "metadata": {},
   "outputs": [],
   "source": []
  },
  {
   "cell_type": "code",
   "execution_count": null,
   "metadata": {},
   "outputs": [],
   "source": []
  },
  {
   "cell_type": "code",
   "execution_count": null,
   "metadata": {},
   "outputs": [],
   "source": []
  },
  {
   "cell_type": "markdown",
   "metadata": {},
   "source": []
  },
  {
   "cell_type": "markdown",
   "metadata": {},
   "source": [
    "# Sales by Match"
   ]
  },
  {
   "cell_type": "code",
   "execution_count": null,
   "metadata": {},
   "outputs": [
    {
     "name": "stdout",
     "output_type": "stream",
     "text": [
      "{10: 4, 20: 3, 30: 1, 50: 1}\n"
     ]
    }
   ],
   "source": [
    "ar = [10, 20, 20, 10, 10, 30, 50, 10, 20]\n",
    "\n",
    "color_count={}\n",
    "pairs =0\n",
    "for i in ar:\n",
    "    # print(i)\n",
    "    if i in color_count:\n",
    "        color_count[i] +=1\n",
    "    else:\n",
    "        color_count[i] =1\n",
    "print(color_count)\n",
    "# for count in color_count.values():\n",
    "#     pairs += count//2\n",
    "#     print(count//2)\n",
    "# pairs"
   ]
  },
  {
   "cell_type": "code",
   "execution_count": null,
   "metadata": {},
   "outputs": [],
   "source": []
  },
  {
   "cell_type": "code",
   "execution_count": null,
   "metadata": {},
   "outputs": [],
   "source": []
  },
  {
   "cell_type": "markdown",
   "metadata": {},
   "source": [
    "# Migratory Birds"
   ]
  },
  {
   "cell_type": "code",
   "execution_count": null,
   "metadata": {},
   "outputs": [
    {
     "ename": "SyntaxError",
     "evalue": "invalid syntax (171411469.py, line 3)",
     "output_type": "error",
     "traceback": [
      "\u001b[0;36m  Cell \u001b[0;32mIn[9], line 3\u001b[0;36m\u001b[0m\n\u001b[0;31m    {i:v for i,v in enumerate(arr) if i in }\u001b[0m\n\u001b[0m                                           ^\u001b[0m\n\u001b[0;31mSyntaxError\u001b[0m\u001b[0;31m:\u001b[0m invalid syntax\n"
     ]
    }
   ],
   "source": [
    "arr = [1,1,2,2,3,7]\n",
    "\n",
    "{i:v for i,v in enumerate(arr) if i in }\n",
    "\n",
    "# for i in "
   ]
  },
  {
   "cell_type": "code",
   "execution_count": null,
   "metadata": {},
   "outputs": [
    {
     "name": "stdout",
     "output_type": "stream",
     "text": [
      "{1: 2, 2: 2, 3: 1, 7: 2}\n"
     ]
    },
    {
     "data": {
      "text/plain": [
       "1"
      ]
     },
     "execution_count": 25,
     "metadata": {},
     "output_type": "execute_result"
    }
   ],
   "source": [
    "arr = [1,1,2,2,3, 7,7]\n",
    "\n",
    "count_dict = {}\n",
    "\n",
    "for value in arr:\n",
    "    if value in count_dict:\n",
    "        count_dict[value] += 1\n",
    "    else:\n",
    "        count_dict[value] = 1\n",
    "\n",
    "print(count_dict) \n",
    "\n",
    "sorted_items = sorted(count_dict.items(), key= lambda x: x[1], reverse=True)\n",
    "sorted_items[0][0]"
   ]
  },
  {
   "cell_type": "code",
   "execution_count": null,
   "metadata": {},
   "outputs": [
    {
     "data": {
      "text/plain": [
       "{1: 2, 2: 2, 7: 2, 3: 1}"
      ]
     },
     "execution_count": 24,
     "metadata": {},
     "output_type": "execute_result"
    }
   ],
   "source": [
    "{k:v for k,v in sorted_items}"
   ]
  },
  {
   "cell_type": "code",
   "execution_count": null,
   "metadata": {},
   "outputs": [
    {
     "name": "stdout",
     "output_type": "stream",
     "text": [
      "{1: 2, 2: 2, 3: 1, 7: 3, 6: 3}\n",
      "3\n",
      "6\n"
     ]
    }
   ],
   "source": [
    "arr = [1,1,2,2,3, 7,7,7, 6,6,6]\n",
    "\n",
    "bird_count = {}\n",
    "\n",
    "for value in arr:\n",
    "    if value in bird_count:\n",
    "        bird_count[value] += 1\n",
    "    else:\n",
    "        bird_count[value] = 1\n",
    "        \n",
    "    # Find the bird type with the maximum count\n",
    "print(bird_count)\n",
    "max_count = max(bird_count.values())\n",
    "print(max_count)\n",
    "\n",
    "# Initialize a variable to hold the smallest bird type ID with the max count\n",
    "smallest_bird_id = float('inf')\n",
    "\n",
    "\n",
    "smallest_bird_id = float('inf')\n",
    "for bird_id, count in bird_count.items():\n",
    "    if count == max_count and bird_id<smallest_bird_id:\n",
    "        smallest_bird_id = bird_id\n",
    "\n",
    "print(smallest_bird_id)"
   ]
  },
  {
   "cell_type": "code",
   "execution_count": null,
   "metadata": {},
   "outputs": [],
   "source": []
  },
  {
   "cell_type": "code",
   "execution_count": null,
   "metadata": {},
   "outputs": [],
   "source": []
  },
  {
   "cell_type": "code",
   "execution_count": null,
   "metadata": {},
   "outputs": [],
   "source": []
  },
  {
   "cell_type": "code",
   "execution_count": null,
   "metadata": {},
   "outputs": [],
   "source": []
  },
  {
   "cell_type": "code",
   "execution_count": null,
   "metadata": {},
   "outputs": [],
   "source": []
  },
  {
   "cell_type": "code",
   "execution_count": null,
   "metadata": {},
   "outputs": [],
   "source": []
  },
  {
   "cell_type": "code",
   "execution_count": null,
   "metadata": {},
   "outputs": [],
   "source": []
  },
  {
   "cell_type": "code",
   "execution_count": null,
   "metadata": {},
   "outputs": [],
   "source": []
  },
  {
   "cell_type": "markdown",
   "metadata": {},
   "source": [
    "# XOR strings 3"
   ]
  },
  {
   "cell_type": "code",
   "execution_count": null,
   "metadata": {},
   "outputs": [],
   "source": [
    "s = \"10101\"\n",
    "t = \"00101\"\n"
   ]
  },
  {
   "cell_type": "code",
   "execution_count": null,
   "metadata": {},
   "outputs": [
    {
     "data": {
      "text/plain": [
       "5"
      ]
     },
     "execution_count": 2,
     "metadata": {},
     "output_type": "execute_result"
    }
   ],
   "source": [
    "length = max(len(s), len(t))\n",
    "length    "
   ]
  },
  {
   "cell_type": "code",
   "execution_count": null,
   "metadata": {},
   "outputs": [
    {
     "data": {
      "text/plain": [
       "[1, 0, 0, 0, 0]"
      ]
     },
     "execution_count": 3,
     "metadata": {},
     "output_type": "execute_result"
    }
   ],
   "source": [
    "[0 if s[i] == t[i] else 1 for i in range(len(s))]"
   ]
  },
  {
   "cell_type": "code",
   "execution_count": null,
   "metadata": {},
   "outputs": [],
   "source": []
  },
  {
   "cell_type": "code",
   "execution_count": null,
   "metadata": {},
   "outputs": [],
   "source": []
  },
  {
   "cell_type": "code",
   "execution_count": null,
   "metadata": {},
   "outputs": [],
   "source": []
  },
  {
   "cell_type": "markdown",
   "metadata": {},
   "source": [
    "# Drawing Book\n",
    "A teacher asks the class to open their books to a page number. A student can either start turning pages from the front of the book or from the back of the book. They always turn pages one at a time. When they open the book, page is always on the right side:\n",
    "\n",
    "\n",
    "    int n: the number of pages in the book\n",
    "    int p: the page number to turn to\n"
   ]
  },
  {
   "cell_type": "code",
   "execution_count": null,
   "metadata": {},
   "outputs": [
    {
     "name": "stdout",
     "output_type": "stream",
     "text": [
      "1\n"
     ]
    }
   ],
   "source": [
    "def pageCount(n, p):\n",
    "    from_front = p//2\n",
    "    from_back = (n//2) - (p//2)\n",
    "    return min(from_front, from_back)\n",
    "# Example usage:\n",
    "n = 6  # Total pages\n",
    "p = 4  # Target page\n",
    "print(pageCount(n, p))  # Output: 1\n"
   ]
  },
  {
   "cell_type": "code",
   "execution_count": null,
   "metadata": {},
   "outputs": [],
   "source": []
  },
  {
   "cell_type": "code",
   "execution_count": null,
   "metadata": {},
   "outputs": [],
   "source": []
  },
  {
   "cell_type": "code",
   "execution_count": null,
   "metadata": {},
   "outputs": [],
   "source": []
  },
  {
   "cell_type": "code",
   "execution_count": null,
   "metadata": {},
   "outputs": [],
   "source": []
  },
  {
   "cell_type": "code",
   "execution_count": null,
   "metadata": {},
   "outputs": [],
   "source": []
  },
  {
   "cell_type": "code",
   "execution_count": null,
   "metadata": {},
   "outputs": [],
   "source": []
  },
  {
   "cell_type": "code",
   "execution_count": null,
   "metadata": {},
   "outputs": [],
   "source": []
  },
  {
   "cell_type": "markdown",
   "metadata": {},
   "source": [
    "# Flipping bits"
   ]
  },
  {
   "cell_type": "markdown",
   "metadata": {},
   "source": [
    "You will be given a list of 32 bit unsigned integers. Flip all the bits ( and ) and return the result as an unsigned integer. "
   ]
  },
  {
   "cell_type": "code",
   "execution_count": null,
   "metadata": {},
   "outputs": [
    {
     "name": "stdout",
     "output_type": "stream",
     "text": [
      "00000000000000000000000000001100\n",
      "11111111111111111111111111110011\n",
      "4294967283\n"
     ]
    }
   ],
   "source": [
    "def flipping_bits(n):\n",
    "    bit32='{:032b}'.format(n)\n",
    "    print(bit32)\n",
    "\n",
    "    mutated = \"\".join(['1' if value=='0' else '0' for value in bit32])\n",
    "    # print(mutated)\n",
    "\n",
    "    flipped_numer = ''.join(mutated)\n",
    "    print(flipped_numer)\n",
    "    print(int(flipped_numer,2))\n",
    "    \n",
    "\n",
    "\n",
    "n = 12\n",
    "flipping_bits(n)"
   ]
  },
  {
   "cell_type": "code",
   "execution_count": null,
   "metadata": {},
   "outputs": [
    {
     "name": "stdout",
     "output_type": "stream",
     "text": [
      "Original 32-bit binary: 01111111111111111111111111111111\n",
      "Flipped bits: 10000000000000000000000000000000\n",
      "Flipped integer: 2147483648\n"
     ]
    },
    {
     "data": {
      "text/plain": [
       "2147483648"
      ]
     },
     "execution_count": 8,
     "metadata": {},
     "output_type": "execute_result"
    }
   ],
   "source": [
    "def flipping_bits(n):\n",
    "    bit32 = '{:032b}'.format(n)  # Convert to 32-bit binary string\n",
    "    print(f\"Original 32-bit binary: {bit32}\")\n",
    "\n",
    "    # Flip bits using list comprehension\n",
    "    mutated = ['1' if value == '0' else '0' for value in bit32]\n",
    "    print(f\"Flipped bits: {''.join(mutated)}\")\n",
    "\n",
    "    # Convert back to integer\n",
    "    flipped_number = int(''.join(mutated), 2) #int(..., 2): Converts the binary string back to an integer. The 2 indicates that the string is in base 2 (binary).\n",
    "    print(f\"Flipped integer: {flipped_number}\")\n",
    "\n",
    "    return flipped_number\n",
    "\n",
    "# Example usage\n",
    "n = 2147483647\n",
    "flipping_bits(n)\n"
   ]
  },
  {
   "cell_type": "code",
   "execution_count": null,
   "metadata": {},
   "outputs": [
    {
     "data": {
      "text/plain": [
       "66571993088"
      ]
     },
     "execution_count": 17,
     "metadata": {},
     "output_type": "execute_result"
    }
   ],
   "source": [
    "def flipping_bits(n):\n",
    "   return n ^ 0xFFFFFFFFF  # 32-BIT\n",
    "\n",
    "# Example usage\n",
    "n = 2147483647\n",
    "flipping_bits(n)\n"
   ]
  },
  {
   "cell_type": "code",
   "execution_count": null,
   "metadata": {},
   "outputs": [
    {
     "name": "stdout",
     "output_type": "stream",
     "text": [
      "Original 32-bit binary: 01111111111110011110010101111111\n",
      "Original 32-bit binary: 10000000000001100001101010000000\n",
      "Flipped integer: 2147883648\n"
     ]
    },
    {
     "data": {
      "text/plain": [
       "2147883648"
      ]
     },
     "execution_count": 23,
     "metadata": {},
     "output_type": "execute_result"
    }
   ],
   "source": [
    "def flipping_bits(n):\n",
    "    bit32 = '{:032b}'.format(n)  # Convert to 32-bit binary string\n",
    "    print(f\"Original 32-bit binary: {bit32}\")\n",
    "\n",
    "    flipped_number = n ^ 0xFFFFFFFF\n",
    "    # Flip bits using list comprehension\n",
    "    \n",
    "    # Convert back to integer from \n",
    "    # flipped_number = int(''.join(mutated), 2) #int(..., 2): Converts the binary string back to an integer. The 2 indicates that the string is in base 2 (binary).\n",
    "    \n",
    "    flippedbit32 = '{:032b}'.format(flipped_number)  # Convert to 32-bit binary string\n",
    "    print(f\"Original 32-bit binary: {flippedbit32}\")\n",
    "    print(f\"Flipped integer: {flipped_number}\")\n",
    "\n",
    "    return flipped_number\n",
    "\n",
    "# Example usage\n",
    "n = 2147083647\n",
    "flipping_bits(n)\n"
   ]
  },
  {
   "cell_type": "code",
   "execution_count": null,
   "metadata": {},
   "outputs": [
    {
     "data": {
      "text/plain": [
       "5"
      ]
     },
     "execution_count": 24,
     "metadata": {},
     "output_type": "execute_result"
    }
   ],
   "source": [
    "2^7"
   ]
  },
  {
   "cell_type": "code",
   "execution_count": null,
   "metadata": {},
   "outputs": [
    {
     "name": "stdout",
     "output_type": "stream",
     "text": [
      "Original 32-bit binary: 0010\n",
      "Original 32-bit binary: 0111\n",
      "Original 32-bit binary: 0101\n"
     ]
    }
   ],
   "source": [
    "    bit32 = '{:04b}'.format(2)  # Convert to 32-bit binary string\n",
    "    print(f\"Original 32-bit binary: {bit32}\")\n",
    "    bit32 = '{:04b}'.format(7)  # Convert to 32-bit binary string\n",
    "    print(f\"Original 32-bit binary: {bit32}\")\n",
    "    x = 2^7\n",
    "    bit32 = '{:04b}'.format(x)  # Convert to 32-bit binary string\n",
    "    print(f\"Original 32-bit binary: {bit32}\")\n",
    "     \n"
   ]
  },
  {
   "cell_type": "markdown",
   "metadata": {},
   "source": [
    "##### XOR\n",
    "1. different:1\n",
    "2. same:0"
   ]
  },
  {
   "cell_type": "code",
   "execution_count": null,
   "metadata": {},
   "outputs": [],
   "source": []
  },
  {
   "cell_type": "code",
   "execution_count": null,
   "metadata": {},
   "outputs": [],
   "source": []
  },
  {
   "cell_type": "code",
   "execution_count": null,
   "metadata": {},
   "outputs": [],
   "source": []
  },
  {
   "cell_type": "code",
   "execution_count": null,
   "metadata": {},
   "outputs": [],
   "source": [
    "#"
   ]
  },
  {
   "cell_type": "markdown",
   "metadata": {},
   "source": [
    "# swapping variables using bit"
   ]
  },
  {
   "cell_type": "code",
   "execution_count": null,
   "metadata": {},
   "outputs": [
    {
     "name": "stdout",
     "output_type": "stream",
     "text": [
      "5 - 8-bit binary: 00000101\n",
      "7 - 8-bit binary: 00000111\n",
      "2 - 8-bit binary: 00000010\n",
      "7 - 8-bit binary: 00000111\n",
      "2 - 8-bit binary: 00000010\n",
      "5 - 8-bit binary: 00000101\n",
      "7 - 8-bit binary: 00000111\n",
      "5 - 8-bit binary: 00000101\n"
     ]
    }
   ],
   "source": [
    "a=5;b= 7\n",
    "bit32 = '{:08b}'.format(a)  # Convert to 32-bit binary string\n",
    "print(f\"{a} - 8-bit binary: {bit32}\")\n",
    "\n",
    "bit32 = '{:08b}'.format(b)  # Convert to 32-bit binary string\n",
    "print(f\"{b} - 8-bit binary: {bit32}\")\n",
    "\n",
    "a = a^b # a contains a^b and b is unchanged a:a^b\n",
    "bit32 = '{:08b}'.format(a)  # Convert to 32-bit binary string\n",
    "print(f\"{a} - 8-bit binary: {bit32}\")\n",
    "bit32 = '{:08b}'.format(b)  # Convert to 32-bit binary string\n",
    "print(f\"{b} - 8-bit binary: {bit32}\")\n",
    "\n",
    "b = a^b  # b:(a^b)^b  ; b^b=0\n",
    "\n",
    "bit32 = '{:08b}'.format(a)  # Convert to 32-bit binary string\n",
    "print(f\"{a} - 8-bit binary: {bit32}\")\n",
    "bit32 = '{:08b}'.format(b)  # Convert to 32-bit binary string\n",
    "print(f\"{b} - 8-bit binary: {bit32}\")\n",
    "\n",
    "a = a ^ b # (a^(a^b)) ; a^a=0 = b\n",
    "\n",
    "bit32 = '{:08b}'.format(a)  # Convert to 32-bit binary string\n",
    "print(f\"{a} - 8-bit binary: {bit32}\")\n",
    "bit32 = '{:08b}'.format(b)  # Convert to 32-bit binary string\n",
    "print(f\"{b} - 8-bit binary: {bit32}\")\n"
   ]
  },
  {
   "cell_type": "code",
   "execution_count": null,
   "metadata": {},
   "outputs": [
    {
     "data": {
      "text/plain": [
       "(7, 5)"
      ]
     },
     "execution_count": 35,
     "metadata": {},
     "output_type": "execute_result"
    }
   ],
   "source": [
    "a, b = 5,7 \n",
    "\n",
    "a = a ^ b\n",
    "b = a^b # a^ a ^b\n",
    "a = a^b # a^b ^b \n",
    "a,b"
   ]
  },
  {
   "cell_type": "code",
   "execution_count": null,
   "metadata": {},
   "outputs": [
    {
     "data": {
      "text/plain": [
       "5"
      ]
     },
     "execution_count": 32,
     "metadata": {},
     "output_type": "execute_result"
    }
   ],
   "source": [
    "a=5\n",
    "b=7\n",
    "x = a^b\n",
    "x^b"
   ]
  },
  {
   "cell_type": "code",
   "execution_count": null,
   "metadata": {},
   "outputs": [
    {
     "name": "stdout",
     "output_type": "stream",
     "text": [
      "Original value: 7\n",
      "After a ^ a: 0 (Binary: 00000000)\n",
      "After a ^ original: 7 (Binary: 00000111)\n"
     ]
    }
   ],
   "source": []
  },
  {
   "cell_type": "code",
   "execution_count": null,
   "metadata": {},
   "outputs": [
    {
     "name": "stdout",
     "output_type": "stream",
     "text": [
      "Original value: 7 (Binary: 00000111)\n",
      "After a ^ a: 0 (Binary: 00000000)\n",
      "After a ^ 7: 7 (Binary: 00000111)\n"
     ]
    }
   ],
   "source": [
    "# Initial value\n",
    "a = 7\n",
    "print(f\"Original value: {a} (Binary: {a:08b})\")\n",
    "\n",
    "# XOR with itself results in 0\n",
    "a = a ^ a\n",
    "print(f\"After a ^ a: {a} (Binary: {a:08b})\")\n",
    "\n",
    "# XOR with the original number restores the original value\n",
    "a = a ^ 7\n",
    "print(f\"After a ^ 7: {a} (Binary: {a:08b})\")\n"
   ]
  },
  {
   "cell_type": "code",
   "execution_count": null,
   "metadata": {},
   "outputs": [],
   "source": []
  },
  {
   "cell_type": "markdown",
   "metadata": {},
   "source": [
    "# leetcode reverse bits"
   ]
  },
  {
   "cell_type": "code",
   "execution_count": null,
   "metadata": {},
   "outputs": [
    {
     "data": {
      "text/plain": [
       "964176192"
      ]
     },
     "execution_count": 39,
     "metadata": {},
     "output_type": "execute_result"
    }
   ],
   "source": [
    "def reverseBits( n):\n",
    "    bit32 = '{:032b}'.format(n)  # Convert to 32-bit binary string\n",
    "    \n",
    "    # Flip bits using list comprehension\n",
    "    reversed_bits = bit32[::-1]\n",
    "\n",
    "    flipped_number = int(''.join(reversed_bits), 2) #int(..., 2): Converts the binary string back to an integer. \n",
    "    \n",
    "    return flipped_number\n",
    "\n",
    "reverseBits(43261596)"
   ]
  },
  {
   "cell_type": "code",
   "execution_count": null,
   "metadata": {},
   "outputs": [],
   "source": []
  },
  {
   "cell_type": "code",
   "execution_count": null,
   "metadata": {},
   "outputs": [],
   "source": []
  },
  {
   "cell_type": "code",
   "execution_count": null,
   "metadata": {},
   "outputs": [],
   "source": []
  },
  {
   "cell_type": "code",
   "execution_count": null,
   "metadata": {},
   "outputs": [],
   "source": []
  },
  {
   "cell_type": "code",
   "execution_count": null,
   "metadata": {},
   "outputs": [],
   "source": []
  },
  {
   "cell_type": "code",
   "execution_count": null,
   "metadata": {},
   "outputs": [],
   "source": []
  },
  {
   "cell_type": "markdown",
   "metadata": {},
   "source": [
    "# 136 single number"
   ]
  },
  {
   "cell_type": "code",
   "execution_count": null,
   "metadata": {},
   "outputs": [],
   "source": []
  },
  {
   "cell_type": "code",
   "execution_count": null,
   "metadata": {},
   "outputs": [
    {
     "name": "stdout",
     "output_type": "stream",
     "text": [
      "4 in bits: 00000100 | 4 in bits: 00000100\n",
      "1 in bits: 00000001 | 5 in bits: 00000101\n",
      "2 in bits: 00000010 | 7 in bits: 00000111\n",
      "2 in bits: 00000010 | 5 in bits: 00000101\n",
      "1 in bits: 00000001 | 4 in bits: 00000100\n",
      "4\n"
     ]
    }
   ],
   "source": [
    "n = [4,1,2,2,1]\n",
    "x=0\n",
    "for i in n:\n",
    "    x= x^i\n",
    "    print(f\"{i} in bits: {i:08b} | {x} in bits: {x:08b}\")\n",
    "\n",
    "print(x)"
   ]
  },
  {
   "cell_type": "code",
   "execution_count": null,
   "metadata": {},
   "outputs": [],
   "source": [
    "# \n",
    "from functools import reduce\n",
    "\n",
    "class Solution:\n",
    "    def singleNumber(self, nums):\n",
    "        \"\"\"\n",
    "        Find the single number in a list where every other number appears exactly twice.\n",
    "        \n",
    "        :type nums: List[int]\n",
    "        :rtype: int\n",
    "        \"\"\"\n",
    "        return reduce(lambda x, y: x ^ y, nums)"
   ]
  },
  {
   "cell_type": "markdown",
   "metadata": {},
   "source": [
    "### The reduce(fun,seq) function is used to apply a particular function passed in its argument to all of the list elements mentioned in the sequence passed along.This function is defined in “functools” module."
   ]
  },
  {
   "cell_type": "code",
   "execution_count": null,
   "metadata": {},
   "outputs": [],
   "source": []
  },
  {
   "cell_type": "markdown",
   "metadata": {},
   "source": [
    "# flipping matrix"
   ]
  },
  {
   "cell_type": "code",
   "execution_count": 1,
   "metadata": {},
   "outputs": [
    {
     "data": {
      "text/plain": [
       "tensor([[112,  42,  83, 119],\n",
       "        [ 56, 125,  56,  49],\n",
       "        [ 15,  78, 101,  43],\n",
       "        [ 62,  98, 114, 108]])"
      ]
     },
     "execution_count": 1,
     "metadata": {},
     "output_type": "execute_result"
    }
   ],
   "source": [
    "import torch\n",
    "torch.arange(1,5).reshape(2,2)\n",
    "sample_input = torch.tensor([[112,42, 83, 119],[56, 125, 56, 49],[15,78,101,43],[62,98,114,108]])\n",
    "sample_input"
   ]
  },
  {
   "cell_type": "code",
   "execution_count": null,
   "metadata": {},
   "outputs": [],
   "source": []
  },
  {
   "cell_type": "code",
   "execution_count": 2,
   "metadata": {},
   "outputs": [],
   "source": [
    "# for i in range(len(sample_input)):\n",
    "#     # print(f\"{sample_input[i,:]}: {sum(sample_input[i,:])}  ; {sample_input[:,i]}: {sum(sample_input[:,i])}\")\n",
    "#     print(f\"{sample_input[i,:]}: {torch.max(sample_input[i,:])}  ; {sample_input[:,i]}: {torch.max(sample_input[:,i])}\")\n",
    "    "
   ]
  },
  {
   "cell_type": "code",
   "execution_count": 8,
   "metadata": {},
   "outputs": [
    {
     "name": "stdout",
     "output_type": "stream",
     "text": [
      "tensor(112) | tensor(119) \n",
      " tensor(62) | tensor(108) \t tensor(119) \n",
      "\n",
      "tensor(42) | tensor(83) \n",
      " tensor(98) | tensor(114) \t tensor(233) \n",
      "\n",
      "tensor(56) | tensor(49) \n",
      " tensor(15) | tensor(43) \t tensor(289) \n",
      "\n",
      "tensor(125) | tensor(56) \n",
      " tensor(78) | tensor(101) \t tensor(414) \n",
      "\n",
      "tensor(414)\n"
     ]
    }
   ],
   "source": [
    "sum = 0\n",
    "length = len(sample_input)\n",
    "\n",
    "for r in range(length//2):\n",
    "    for c in range(length//2):\n",
    "\n",
    "        sum+= max(\n",
    "            sample_input[r,c],\n",
    "            sample_input[r, length-1-c],\n",
    "            sample_input[length - 1- r, c ],\n",
    "            sample_input[length - 1 -r , length -1 -c]   \n",
    "            )\n",
    "        print(sample_input[r,c],\"|\",\n",
    "            sample_input[r, length-1-c],\"\\n\",\n",
    "            sample_input[length - 1- r, c ],\"|\",\n",
    "            sample_input[length - 1 -r , length -1 -c],\"\\t\", sum,\"\\n\",\n",
    "            )\n",
    "print(sum)"
   ]
  },
  {
   "cell_type": "code",
   "execution_count": null,
   "metadata": {},
   "outputs": [],
   "source": []
  },
  {
   "cell_type": "markdown",
   "metadata": {},
   "source": [
    "To maximize the sum of the `n x n` top-left quadrant of a `2n x 2n` matrix, we need to carefully consider each element `(i, j)` in this quadrant. For each such element, you can potentially place any one of four elements into this position by flipping rows and/or columns. \n",
    "\n",
    "### Step-by-Step Explanation:\n",
    "\n",
    "For each position `(i, j)` in the top-left `n x n` submatrix, the four potential candidates are:\n",
    "1. **Top-left element**: The element at `(i, j)` itself.\n",
    "2. **Top-right element**: The element at `(i, 2n-1-j)`. This element is found by flipping the column that contains `(i, j)`.\n",
    "3. **Bottom-left element**: The element at `(2n-1-i, j)`. This element is found by flipping the row that contains `(i, j)`.\n",
    "4. **Bottom-right element**: The element at `(2n-1-i, 2n-1-j)`. This element is found by flipping both the row and column that contain `(i, j)`.\n",
    "\n",
    "![alt text](flipping_matrix.png)\n",
    "\n",
    "\n",
    "\n",
    "\n",
    "\n",
    "### Example Matrix\n",
    "Let's take a `4x4` matrix (for `n=2`) as an example:\n",
    "```plaintext\n",
    "Matrix:\n",
    "112  42  83 119\n",
    " 56 125  56  49\n",
    " 15  78 101  43\n",
    " 62  98 114 108\n",
    "```\n",
    "\n",
    "### Analyze Each Position in the Top-Left `2x2` Submatrix:\n",
    "\n",
    "#### Position (0, 0)\n",
    "- Candidates:\n",
    "  1. Top-left: `matrix[0][0] = 112`\n",
    "  2. Top-right: `matrix[0][3] = 119`\n",
    "  3. Bottom-left: `matrix[3][0] = 62`\n",
    "  4. Bottom-right: `matrix[3][3] = 108`\n",
    "- **Maximum Value**: `max(112, 119, 62, 108) = 119`\n",
    "\n",
    "#### Position (0, 1)\n",
    "- Candidates:\n",
    "  1. Top-left: `matrix[0][1] = 42`\n",
    "  2. Top-right: `matrix[0][2] = 83`\n",
    "  3. Bottom-left: `matrix[3][1] = 98`\n",
    "  4. Bottom-right: `matrix[3][2] = 114`\n",
    "- **Maximum Value**: `max(42, 83, 98, 114) = 114`\n",
    "\n",
    "#### Position (1, 0)\n",
    "- Candidates:\n",
    "  1. Top-left: `matrix[1][0] = 56`\n",
    "  2. Top-right: `matrix[1][3] = 49`\n",
    "  3. Bottom-left: `matrix[2][0] = 15`\n",
    "  4. Bottom-right: `matrix[2][3] = 43`\n",
    "- **Maximum Value**: `max(56, 49, 15, 43) = 56`\n",
    "\n",
    "#### Position (1, 1)\n",
    "- Candidates:\n",
    "  1. Top-left: `matrix[1][1] = 125`\n",
    "  2. Top-right: `matrix[1][2] = 56`\n",
    "  3. Bottom-left: `matrix[2][1] = 78`\n",
    "  4. Bottom-right: `matrix[2][2] = 101`\n",
    "- **Maximum Value**: `max(125, 56, 78, 101) = 125`\n",
    "\n",
    "### Resulting Maximum Top-Left Quadrant\n",
    "- The top-left quadrant after choosing the maximum possible values:\n",
    "```plaintext\n",
    "119  114\n",
    " 56  125\n",
    "```\n",
    "\n",
    "### Final Sum\n",
    "- The sum of this quadrant is `119 + 114 + 56 + 125 = 414`.\n",
    "\n",
    "This approach ensures that the sum of the elements in the top-left quadrant of the matrix is maximized after any number of flips."
   ]
  },
  {
   "cell_type": "code",
   "execution_count": null,
   "metadata": {},
   "outputs": [],
   "source": []
  },
  {
   "cell_type": "code",
   "execution_count": null,
   "metadata": {},
   "outputs": [],
   "source": []
  },
  {
   "cell_type": "code",
   "execution_count": null,
   "metadata": {},
   "outputs": [],
   "source": []
  },
  {
   "cell_type": "code",
   "execution_count": null,
   "metadata": {},
   "outputs": [],
   "source": []
  },
  {
   "cell_type": "code",
   "execution_count": null,
   "metadata": {},
   "outputs": [],
   "source": []
  },
  {
   "cell_type": "code",
   "execution_count": 58,
   "metadata": {},
   "outputs": [
    {
     "data": {
      "text/plain": [
       "tensor([[4, 2],\n",
       "        [1, 3]])"
      ]
     },
     "execution_count": 58,
     "metadata": {},
     "output_type": "execute_result"
    }
   ],
   "source": [
    "# sample_output = torch.tensor([[4,2],[1,3]])\n",
    "# sample_output"
   ]
  },
  {
   "cell_type": "markdown",
   "metadata": {},
   "source": []
  }
 ],
 "metadata": {
  "kernelspec": {
   "display_name": "Python 3",
   "language": "python",
   "name": "python3"
  },
  "language_info": {
   "codemirror_mode": {
    "name": "ipython",
    "version": 3
   },
   "file_extension": ".py",
   "mimetype": "text/x-python",
   "name": "python",
   "nbconvert_exporter": "python",
   "pygments_lexer": "ipython3",
   "version": "3.10.14"
  }
 },
 "nbformat": 4,
 "nbformat_minor": 2
}
