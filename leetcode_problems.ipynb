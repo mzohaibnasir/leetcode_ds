{
 "cells": [
  {
   "cell_type": "markdown",
   "metadata": {},
   "source": [
    "# leetcode 33: Search in Rotated Sorted Array\n"
   ]
  },
  {
   "cell_type": "code",
   "execution_count": 6,
   "metadata": {},
   "outputs": [
    {
     "name": "stdout",
     "output_type": "stream",
     "text": [
      "nums:  [4, 5, 6, 7, 0, 1, 2] target:  2\n"
     ]
    },
    {
     "data": {
      "text/plain": [
       "6"
      ]
     },
     "execution_count": 6,
     "metadata": {},
     "output_type": "execute_result"
    }
   ],
   "source": [
    "def search(nums, target):\n",
    "    \"\"\"\n",
    "    :type nums: List[int]\n",
    "    :type target: int\n",
    "    :rtype: int\n",
    "    \"\"\"\n",
    "    print(\"nums: \", nums, \"target: \", target)\n",
    "\n",
    "    left = 0\n",
    "    right = len(nums) - 1\n",
    "    i = 0\n",
    "\n",
    "    while left <= right:\n",
    "\n",
    "        # avoid overflow\n",
    "        mid = left + (right - left) // 2\n",
    "\n",
    "        if target == nums[mid]:\n",
    "            return mid\n",
    "        # one part must be sorted\n",
    "        if nums[left] <= nums[mid]:\n",
    "            # if right half is sorted\n",
    "            if nums[left] <= target and target <= nums[mid]:\n",
    "                print(\"key is in left half\")\n",
    "\n",
    "                right = mid - 1\n",
    "\n",
    "            else:\n",
    "                left = mid + 1\n",
    "\n",
    "        else:\n",
    "            # if right half is sorted\n",
    "\n",
    "            print(\"right - half is sorted\")\n",
    "            if nums[mid] <= target and target <= nums[right]:\n",
    "                # if key is in left half\n",
    "                left = mid + 1\n",
    "            else:\n",
    "                right = mid - 1\n",
    "\n",
    "    return -1\n",
    "\n",
    "\n",
    "nums = [4, 5, 6, 7, 0, 1, 2]\n",
    "search(nums, target=2)"
   ]
  },
  {
   "cell_type": "code",
   "execution_count": 7,
   "metadata": {},
   "outputs": [
    {
     "data": {
      "text/plain": [
       "6"
      ]
     },
     "execution_count": 7,
     "metadata": {},
     "output_type": "execute_result"
    }
   ],
   "source": [
    "def search(nums, target):\n",
    "    left, right = 0, len(nums) - 1\n",
    "\n",
    "    while left <= right:\n",
    "        mid = left + (right - left) // 2\n",
    "        if nums[mid] == target:\n",
    "            return mid\n",
    "\n",
    "        # one of side must be sorted\n",
    "\n",
    "        # bisecting fo rbinary tree search\n",
    "        if nums[left] <= nums[mid]:\n",
    "            #\n",
    "\n",
    "            # if target is on left\n",
    "            if nums[left] <= target <= nums[mid]:\n",
    "                right = mid - 1\n",
    "            else:\n",
    "                left = mid + 1  # switch to other side\n",
    "        else:\n",
    "\n",
    "            if nums[mid] <= target <= nums[right]:\n",
    "                left = mid + 1\n",
    "            else:\n",
    "                right = mid - 1\n",
    "\n",
    "    return -1\n",
    "\n",
    "\n",
    "nums = [4, 5, 6, 7, 0, 1, 2]\n",
    "search(nums, target=2)"
   ]
  },
  {
   "cell_type": "code",
   "execution_count": null,
   "metadata": {},
   "outputs": [],
   "source": []
  },
  {
   "cell_type": "markdown",
   "metadata": {},
   "source": [
    "# Refined\n"
   ]
  },
  {
   "cell_type": "code",
   "execution_count": 8,
   "metadata": {},
   "outputs": [
    {
     "name": "stdout",
     "output_type": "stream",
     "text": [
      "nums: [4, 5, 6, 7, 0, 1, 2], target:2\n",
      "left: 0, right:6, nums:mid:7\n",
      "going to left bcz target is less than/equal to middle\n",
      "shifting: target is in right part\n",
      "left: 4, right:6, nums:mid:1\n",
      "going to right bcz target is greater than middle\n",
      "confirmed: target is in right part and right part is ordered\n",
      "left: 6, right:6, nums:mid:2\n"
     ]
    },
    {
     "data": {
      "text/plain": [
       "6"
      ]
     },
     "execution_count": 8,
     "metadata": {},
     "output_type": "execute_result"
    }
   ],
   "source": [
    "def search(nums, target):\n",
    "    print(f\"nums: {nums}, target:{target}\")\n",
    "\n",
    "    left = 0\n",
    "    right = len(nums) - 1\n",
    "\n",
    "    while left <= right:\n",
    "        mid = left + (right - left) // 2\n",
    "        print(f\"left: {left}, right:{right}, nums:mid:{nums[mid]}\")\n",
    "        if nums[mid] == target:\n",
    "            return mid\n",
    "\n",
    "        # left side\n",
    "        if target <= nums[mid]:\n",
    "            print(f\"going to left bcz target is less than/equal to middle\")\n",
    "\n",
    "            if nums[left] <= target <= nums[mid]:\n",
    "                print(\"confirmed: target is in left part and left part is ordered\")\n",
    "                right = mid - 1\n",
    "            else:\n",
    "                print(\"shifting: target is in right part\")\n",
    "                left = mid + 1\n",
    "\n",
    "        else:\n",
    "            print(f\"going to right bcz target is greater than middle\")\n",
    "\n",
    "            if nums[mid] <= target <= nums[right]:\n",
    "                print(\"confirmed: target is in right part and right part is ordered\")\n",
    "                left = mid + 1\n",
    "            else:\n",
    "                print(\"shifting: target is in left part\")\n",
    "                right = mid - 1\n",
    "\n",
    "    return -1\n",
    "\n",
    "\n",
    "nums = [4, 5, 6, 7, 0, 1, 2]\n",
    "search(nums, target=2)"
   ]
  },
  {
   "cell_type": "code",
   "execution_count": null,
   "metadata": {},
   "outputs": [],
   "source": []
  },
  {
   "cell_type": "code",
   "execution_count": 9,
   "metadata": {},
   "outputs": [
    {
     "name": "stdout",
     "output_type": "stream",
     "text": [
      "1\n",
      "2\n",
      "3\n",
      "2\n",
      "1\n"
     ]
    }
   ],
   "source": [
    "s = \"dfa12321afd\"\n",
    "s.split()\n",
    "\n",
    "\n",
    "for i in s:\n",
    "    # print(i)\n",
    "    if i.isdigit():\n",
    "        print(i)"
   ]
  },
  {
   "cell_type": "markdown",
   "metadata": {},
   "source": [
    "## 1796. Second Largest Digit in a String\n"
   ]
  },
  {
   "cell_type": "code",
   "execution_count": 10,
   "metadata": {},
   "outputs": [
    {
     "name": "stdout",
     "output_type": "stream",
     "text": [
      "2\n"
     ]
    }
   ],
   "source": [
    "s = \"abc1123\"\n",
    "numeric = [int(i) for i in s if i.isdigit()]\n",
    "\n",
    "\n",
    "max = -1\n",
    "secondMax = -1\n",
    "for n in numeric:\n",
    "    if n > max:\n",
    "        secondMax = max\n",
    "        max = n\n",
    "    elif n > secondMax and n < max:\n",
    "        secondMax = n\n",
    "print(secondMax)"
   ]
  },
  {
   "cell_type": "code",
   "execution_count": null,
   "metadata": {},
   "outputs": [],
   "source": []
  },
  {
   "cell_type": "markdown",
   "metadata": {},
   "source": [
    "## 283. Move Zeroes\n"
   ]
  },
  {
   "cell_type": "code",
   "execution_count": 11,
   "metadata": {},
   "outputs": [],
   "source": [
    "# swap(nums, 1, 3)"
   ]
  },
  {
   "cell_type": "code",
   "execution_count": 12,
   "metadata": {},
   "outputs": [
    {
     "name": "stdout",
     "output_type": "stream",
     "text": [
      "[1, 3, 12, 0, 0, 0, 0]\n"
     ]
    }
   ],
   "source": [
    "nums = [0, 0, 1, 0, 0, 3, 12]\n",
    "\n",
    "\n",
    "def move_zeros_to_end(arr):\n",
    "    non_zero_pos = 0  # Position to place the next non-zero element\n",
    "\n",
    "    # Iterate through the array\n",
    "    for current in range(len(arr)):\n",
    "        if arr[current] != 0:\n",
    "            # Swap the elements at non_zero_pos and current\n",
    "            arr[non_zero_pos], arr[current] = arr[current], arr[non_zero_pos]\n",
    "            non_zero_pos += 1  # Move the non-zero position to the right\n",
    "\n",
    "    print(arr)\n",
    "\n",
    "\n",
    "move_zeros_to_end(nums)"
   ]
  },
  {
   "cell_type": "code",
   "execution_count": 13,
   "metadata": {},
   "outputs": [],
   "source": [
    "# nums = [0, 0, 1, 0, 0, 3, 12]\n",
    "\n",
    "\n",
    "# non_zero_pos = 0\n",
    "\n",
    "\n",
    "# for current in range(len(nums)):\n",
    "\n",
    "#     print(\n",
    "#         f\"idx: {current}, non_zero_pos: {nums[non_zero_pos]}, current: {nums[current]}\"\n",
    "#     )\n",
    "\n",
    "#     if nums[current] != 0:\n",
    "#         # print(current)\n",
    "#         print(f\"non_zero_pos: {nums[non_zero_pos]}, current: {nums[current]}\")\n",
    "#         print(\"\\t entered\")\n",
    "\n",
    "#         print(f\"\\t non_zero_pos: {nums[non_zero_pos]}, current: {nums[current]}\")\n",
    "#         nums[non_zero_pos], nums[current] = nums[current], nums[non_zero_pos]\n",
    "#         non_zero_pos += 1\n",
    "\n",
    "# print(nums)"
   ]
  },
  {
   "cell_type": "code",
   "execution_count": 14,
   "metadata": {},
   "outputs": [
    {
     "name": "stdout",
     "output_type": "stream",
     "text": [
      "0\n",
      "0\n",
      "1\n",
      "0\n",
      "0\n",
      "3\n",
      "12\n",
      "[1, 3, 12, 0, 0, 0, 0]\n"
     ]
    }
   ],
   "source": [
    "nums = [0, 0, 1, 0, 0, 3, 12]\n",
    "\n",
    "left = 0  # permanent\n",
    "current = 0\n",
    "\n",
    "\n",
    "while current < len(nums):\n",
    "    print(nums[current])\n",
    "\n",
    "    if nums[current] != 0:\n",
    "        nums[left], nums[current] = nums[current], nums[left]\n",
    "        left += 1\n",
    "\n",
    "    current += 1\n",
    "\n",
    "\n",
    "print(nums)"
   ]
  },
  {
   "cell_type": "code",
   "execution_count": 15,
   "metadata": {},
   "outputs": [
    {
     "data": {
      "text/plain": [
       "[1, 3, 12, 0, 0, 0, 0]"
      ]
     },
     "execution_count": 15,
     "metadata": {},
     "output_type": "execute_result"
    }
   ],
   "source": [
    "def moveZeroes(nums):\n",
    "    \"\"\"\n",
    "    :type nums: List[int]\n",
    "    :rtype: None Do not return anything, modify nums in-place instead.\n",
    "    \"\"\"\n",
    "    zero_count = nums.count(0)\n",
    "    l = 0\n",
    "    for n in nums:\n",
    "        if n != 0:\n",
    "            nums[l] = n\n",
    "            l += 1\n",
    "    for zero in range(1, zero_count + 1):\n",
    "        nums[-zero] = 0\n",
    "\n",
    "    return nums\n",
    "\n",
    "\n",
    "moveZeroes(nums)"
   ]
  },
  {
   "cell_type": "code",
   "execution_count": null,
   "metadata": {},
   "outputs": [],
   "source": []
  },
  {
   "cell_type": "code",
   "execution_count": null,
   "metadata": {},
   "outputs": [],
   "source": []
  },
  {
   "cell_type": "code",
   "execution_count": null,
   "metadata": {},
   "outputs": [],
   "source": []
  },
  {
   "cell_type": "code",
   "execution_count": null,
   "metadata": {},
   "outputs": [],
   "source": []
  },
  {
   "cell_type": "code",
   "execution_count": null,
   "metadata": {},
   "outputs": [],
   "source": []
  },
  {
   "cell_type": "markdown",
   "metadata": {},
   "source": [
    "# 7: Given a signed 32-bit integer x, return x with its digits reversed. If reversing x causes the value to go outside the signed 32-bit integer range [-231, 231 - 1], then return 0.\n"
   ]
  },
  {
   "cell_type": "code",
   "execution_count": 16,
   "metadata": {},
   "outputs": [
    {
     "data": {
      "text/plain": [
       "-321"
      ]
     },
     "execution_count": 16,
     "metadata": {},
     "output_type": "execute_result"
    }
   ],
   "source": [
    "def reverseInt(x):\n",
    "    sign = 1 if x > 0 else -1\n",
    "    reversed_no = 0\n",
    "    x = abs(x)\n",
    "\n",
    "    while x > 0:\n",
    "        digit = x % 10\n",
    "        x = x // 10\n",
    "        reversed_no = reversed_no * 10 + digit  # 32 = 3 *10 +2\n",
    "\n",
    "    return sign * reversed_no\n",
    "\n",
    "\n",
    "x = -123\n",
    "\n",
    "reverseInt(x)"
   ]
  },
  {
   "cell_type": "code",
   "execution_count": 17,
   "metadata": {},
   "outputs": [
    {
     "data": {
      "text/plain": [
       "0"
      ]
     },
     "execution_count": 17,
     "metadata": {},
     "output_type": "execute_result"
    }
   ],
   "source": [
    "def reverseInt(x):\n",
    "\n",
    "    MAX_INT = 2**31 - 1  # 2,147,483,647\n",
    "    MIN_INT = -(2**31)  # -2,147,483,648\n",
    "\n",
    "    sign = 1 if x > 0 else -1\n",
    "    reversed_no = 0\n",
    "    x = abs(x)\n",
    "\n",
    "    while x > 0:\n",
    "        if (\n",
    "            reversed_no > MAX_INT / 10 or reversed_no < MIN_INT / 10\n",
    "        ):  # MIN_INT / 10: not including units place\n",
    "            return 0\n",
    "        digit = x % 10\n",
    "        x = x // 10\n",
    "        reversed_no = reversed_no * 10 + digit\n",
    "\n",
    "    return sign * reversed_no\n",
    "\n",
    "\n",
    "x = -123123123312313123\n",
    "\n",
    "reverseInt(x)"
   ]
  },
  {
   "cell_type": "code",
   "execution_count": null,
   "metadata": {},
   "outputs": [],
   "source": []
  },
  {
   "cell_type": "code",
   "execution_count": null,
   "metadata": {},
   "outputs": [],
   "source": []
  },
  {
   "cell_type": "markdown",
   "metadata": {},
   "source": [
    "# revserse an array\n"
   ]
  },
  {
   "cell_type": "code",
   "execution_count": 18,
   "metadata": {},
   "outputs": [
    {
     "data": {
      "text/plain": [
       "[3, 2, 1]"
      ]
     },
     "execution_count": 18,
     "metadata": {},
     "output_type": "execute_result"
    }
   ],
   "source": [
    "def reverseArray(array):\n",
    "    left = 0\n",
    "    right = len(nums) - 1\n",
    "    while left < right:\n",
    "        nums[left], nums[right] = nums[right], nums[left]\n",
    "        left += 1\n",
    "        right -= 1\n",
    "\n",
    "    return nums\n",
    "\n",
    "\n",
    "nums = [1, 2, 3]\n",
    "reverseArray(nums)"
   ]
  },
  {
   "cell_type": "code",
   "execution_count": 19,
   "metadata": {},
   "outputs": [
    {
     "data": {
      "text/plain": [
       "'ers'"
      ]
     },
     "execution_count": 19,
     "metadata": {},
     "output_type": "execute_result"
    }
   ],
   "source": [
    "s = \"sre\"\n",
    "\n",
    "s[::-1]"
   ]
  },
  {
   "cell_type": "code",
   "execution_count": 20,
   "metadata": {},
   "outputs": [
    {
     "data": {
      "text/plain": [
       "[]"
      ]
     },
     "execution_count": 20,
     "metadata": {},
     "output_type": "execute_result"
    }
   ],
   "source": [
    "my_list = [[1, 2, 3], [4, 5, 6], [7, 8, 9]]\n",
    "\n",
    "\n",
    "my_list[0:0:-1]"
   ]
  },
  {
   "cell_type": "code",
   "execution_count": null,
   "metadata": {},
   "outputs": [],
   "source": []
  },
  {
   "cell_type": "markdown",
   "metadata": {},
   "source": [
    "## 268. Missing Number\n",
    "\n",
    "Given an array nums containing n distinct numbers in the range [0, n], return the only number in the range that is missing from the array.\n"
   ]
  },
  {
   "cell_type": "code",
   "execution_count": 21,
   "metadata": {},
   "outputs": [
    {
     "data": {
      "text/plain": [
       "8"
      ]
     },
     "execution_count": 21,
     "metadata": {},
     "output_type": "execute_result"
    }
   ],
   "source": [
    "def missingNumber(nums):\n",
    "    n = len(nums)\n",
    "    expected_sum = n * (n + 1) // 2\n",
    "    return expected_sum - sum(nums)\n",
    "\n",
    "\n",
    "nums = [9, 6, 4, 2, 3, 5, 7, 0, 1]\n",
    "\n",
    "missingNumber(nums)"
   ]
  },
  {
   "cell_type": "code",
   "execution_count": null,
   "metadata": {},
   "outputs": [],
   "source": []
  },
  {
   "cell_type": "code",
   "execution_count": null,
   "metadata": {},
   "outputs": [],
   "source": []
  },
  {
   "cell_type": "code",
   "execution_count": 22,
   "metadata": {},
   "outputs": [],
   "source": [
    "def gcdOfStrings(str1: str, str2: str) -> str:\n",
    "    # Check if concatenated strings are equal or not, if not return \"\"\n",
    "    if str1 + str2 != str2 + str1:\n",
    "        return \"\"\n",
    "    # If strings are equal than return the substring from 0 to gcd of size(str1), size(str2)\n",
    "    from math import gcd\n",
    "\n",
    "    print(f\"s1: {len(str1)}, s2: {len(str2)}\")\n",
    "    return str1[: gcd(len(str1), len(str2))]"
   ]
  },
  {
   "cell_type": "code",
   "execution_count": 23,
   "metadata": {},
   "outputs": [
    {
     "data": {
      "text/plain": [
       "2"
      ]
     },
     "execution_count": 23,
     "metadata": {},
     "output_type": "execute_result"
    }
   ],
   "source": [
    "import math\n",
    "from math import gcd\n",
    "\n",
    "gcd(10, 12)"
   ]
  },
  {
   "cell_type": "code",
   "execution_count": 24,
   "metadata": {},
   "outputs": [
    {
     "name": "stdout",
     "output_type": "stream",
     "text": [
      "s1: 6, s2: 2\n"
     ]
    },
    {
     "data": {
      "text/plain": [
       "'AB'"
      ]
     },
     "execution_count": 24,
     "metadata": {},
     "output_type": "execute_result"
    }
   ],
   "source": [
    "gcdOfStrings(\"ABABAB\", \"AB\")"
   ]
  },
  {
   "cell_type": "code",
   "execution_count": null,
   "metadata": {},
   "outputs": [],
   "source": []
  },
  {
   "cell_type": "code",
   "execution_count": null,
   "metadata": {},
   "outputs": [],
   "source": []
  },
  {
   "cell_type": "markdown",
   "metadata": {},
   "source": [
    "# sumsTwo\n"
   ]
  },
  {
   "cell_type": "code",
   "execution_count": 25,
   "metadata": {},
   "outputs": [],
   "source": [
    "nums = [16, 4, 23, 8, 15, 42, 1, 2]\n",
    "target = 19"
   ]
  },
  {
   "cell_type": "code",
   "execution_count": 26,
   "metadata": {},
   "outputs": [
    {
     "name": "stdout",
     "output_type": "stream",
     "text": [
      "[1, 2, 4, 8, 15, 16, 23, 42]\n"
     ]
    }
   ],
   "source": [
    "nums.sort()\n",
    "print(nums)"
   ]
  },
  {
   "cell_type": "code",
   "execution_count": 27,
   "metadata": {},
   "outputs": [],
   "source": [
    "p = 0\n",
    "q = len(nums) - 1"
   ]
  },
  {
   "cell_type": "code",
   "execution_count": 28,
   "metadata": {},
   "outputs": [
    {
     "data": {
      "text/plain": [
       "42"
      ]
     },
     "execution_count": 28,
     "metadata": {},
     "output_type": "execute_result"
    }
   ],
   "source": [
    "nums[q]"
   ]
  },
  {
   "cell_type": "code",
   "execution_count": 29,
   "metadata": {},
   "outputs": [],
   "source": [
    "# if( nums[p] + nums[q] > target) and nums[q] > target :\n",
    "#     q-=1"
   ]
  },
  {
   "cell_type": "code",
   "execution_count": 30,
   "metadata": {},
   "outputs": [
    {
     "name": "stdout",
     "output_type": "stream",
     "text": [
      "2 + 16  = 18\n",
      "4 + 16  = 20\n",
      "8 + 15  = 23\n",
      "15 + 8  = 23\n",
      "16 + 4  = 20\n",
      "23 + 2  = 25\n",
      "42 + 1  = 43\n",
      "42 + 23  = 65\n"
     ]
    },
    {
     "ename": "IndexError",
     "evalue": "list index out of range",
     "output_type": "error",
     "traceback": [
      "\u001b[0;31m---------------------------------------------------------------------------\u001b[0m",
      "\u001b[0;31mIndexError\u001b[0m                                Traceback (most recent call last)",
      "Cell \u001b[0;32mIn[30], line 14\u001b[0m\n\u001b[1;32m     11\u001b[0m \u001b[38;5;28;01mif\u001b[39;00m nums[q] \u001b[38;5;241m<\u001b[39m target:\n\u001b[1;32m     12\u001b[0m     p \u001b[38;5;241m+\u001b[39m\u001b[38;5;241m=\u001b[39m \u001b[38;5;241m1\u001b[39m\n\u001b[0;32m---> 14\u001b[0m \u001b[38;5;28mprint\u001b[39m(\u001b[38;5;124mf\u001b[39m\u001b[38;5;124m\"\u001b[39m\u001b[38;5;132;01m{\u001b[39;00m\u001b[43mnums\u001b[49m\u001b[43m[\u001b[49m\u001b[43mp\u001b[49m\u001b[43m]\u001b[49m\u001b[38;5;132;01m}\u001b[39;00m\u001b[38;5;124m + \u001b[39m\u001b[38;5;132;01m{\u001b[39;00mnums[q]\u001b[38;5;132;01m}\u001b[39;00m\u001b[38;5;124m  = \u001b[39m\u001b[38;5;132;01m{\u001b[39;00mnums[p]\u001b[38;5;250m \u001b[39m\u001b[38;5;241m+\u001b[39m\u001b[38;5;250m \u001b[39mnums[q]\u001b[38;5;132;01m}\u001b[39;00m\u001b[38;5;124m\"\u001b[39m)\n",
      "\u001b[0;31mIndexError\u001b[0m: list index out of range"
     ]
    }
   ],
   "source": [
    "while nums[p] + nums[q] != target:\n",
    "    #     if( nums[p] + nums[q] > target) and nums[q] > target :\n",
    "    #         q-=1\n",
    "    #     if( nums[p] + nums[q] > target) and nums[q] < target :\n",
    "    #         p+=1\n",
    "    if nums[p] + nums[q] > target:\n",
    "        q -= 1\n",
    "\n",
    "    if nums[q] > target:\n",
    "        q -= 1\n",
    "    if nums[q] < target:\n",
    "        p += 1\n",
    "\n",
    "    print(f\"{nums[p]} + {nums[q]}  = {nums[p] + nums[q]}\")"
   ]
  },
  {
   "cell_type": "code",
   "execution_count": null,
   "metadata": {},
   "outputs": [],
   "source": [
    "if (nums[p] + nums[q] > target) and p < 10:\n",
    "    p += 1"
   ]
  },
  {
   "cell_type": "code",
   "execution_count": null,
   "metadata": {},
   "outputs": [],
   "source": [
    "dict = {}"
   ]
  },
  {
   "cell_type": "code",
   "execution_count": null,
   "metadata": {},
   "outputs": [],
   "source": [
    "nums = [16, 4, 23, 8, 15, 42, 1, 2]\n",
    "target = 58"
   ]
  },
  {
   "cell_type": "code",
   "execution_count": null,
   "metadata": {},
   "outputs": [],
   "source": [
    "nums.sort()\n",
    "print(nums)"
   ]
  },
  {
   "cell_type": "code",
   "execution_count": null,
   "metadata": {},
   "outputs": [],
   "source": [
    "def fn(nums):\n",
    "    for i, val in enumerate(nums):\n",
    "        print([(i, j) for i, j in dict.items()])\n",
    "        if (target - val) in dict.keys():\n",
    "            return (i, dict[target - val])\n",
    "        else:\n",
    "            dict[val] = i\n",
    "\n",
    "\n",
    "fn(nums)"
   ]
  },
  {
   "cell_type": "code",
   "execution_count": null,
   "metadata": {},
   "outputs": [],
   "source": [
    "%%time"
   ]
  },
  {
   "cell_type": "code",
   "execution_count": null,
   "metadata": {},
   "outputs": [],
   "source": [
    "nums = [16, 4, 23, 8, 15, 42, 1, 2]\n",
    "target = 58\n",
    "nums.sort()\n",
    "print(nums)"
   ]
  },
  {
   "cell_type": "code",
   "execution_count": null,
   "metadata": {},
   "outputs": [],
   "source": [
    "%%time\n",
    "\n",
    "\n",
    "def fn(nums):\n",
    "    dic=dict()\n",
    "\n",
    "    for i in range(len(nums)):\n",
    "        if( (target - nums[i]) in dic.keys() ):\n",
    "            return (dic[target - nums[i]], i)\n",
    "        else:\n",
    "            dic[nums[i]] = i\n",
    "fn(nums)        "
   ]
  },
  {
   "cell_type": "code",
   "execution_count": null,
   "metadata": {},
   "outputs": [],
   "source": [
    "%%time\n",
    "\n",
    "\n",
    "def fn(nums):\n",
    "    dic=dict()\n",
    "\n",
    "    for i in range(len(nums)):\n",
    "\n",
    "        rem = target - nums[i]\n",
    "        if( (rem) in dic.keys() ):\n",
    "            return (dic[rem], i)\n",
    "        else:\n",
    "            dic[nums[i]] = i\n",
    "fn(nums)        "
   ]
  },
  {
   "cell_type": "code",
   "execution_count": null,
   "metadata": {},
   "outputs": [],
   "source": [
    "%%time\n",
    "prices = [7,1,5,3,6,4]\n",
    "prices =[1,2]\n",
    "def maxProfit(prices):\n",
    "    buy = prices.index(min(prices))\n",
    "#     print(f\"BUY| day:{buy} , value:{prices[buy]}\")\n",
    "    maxProfit = max(prices[buy:])\n",
    "    sell =  prices.index(maxProfit)+1 if(maxProfit>prices[buy])  else 0   # +1 for 0 indexing\n",
    "#     print(f\"SELL| day:{sell} , value:{prices[sell]}\")\n",
    "    \n",
    "#     \n",
    "    return sell\n",
    "\n",
    "maxProfit(prices) "
   ]
  },
  {
   "cell_type": "code",
   "execution_count": null,
   "metadata": {},
   "outputs": [],
   "source": [
    "%%time\n",
    "prices = [7,1,5,3,6,4]\n",
    "prices =[1,2]\n",
    "def maxProfit(prices):\n",
    "    buy = prices.index(min(prices))\n",
    "    print(f\"BUY| day:{buy} , value:{prices[buy]}\")\n",
    "    sell = prices.index(max(prices[buy:]))\n",
    "#     sell =  prices.index(maxProfit)+1 if(maxProfit>prices[buy])  else 0   # +1 for 0 indexing\n",
    "    print(buy,sell)\n",
    "    profit = prices[sell] - prices[buy]\n",
    "    return profit if(profit) > 0 else 0\n",
    "#     print(f\"SELL| day:{sell} , value:{prices[sell]}\")\n",
    "    \n",
    "#     \n",
    "#     return sell\n",
    "\n",
    "maxProfit(prices) "
   ]
  },
  {
   "cell_type": "code",
   "execution_count": null,
   "metadata": {},
   "outputs": [],
   "source": [
    "# from memory_profiler import profile\n",
    "# @profile(precision=4)\n",
    "\n",
    "\n",
    "prices = [7, 1, 5, 3, 6, 4]\n",
    "prices = [1, 2]\n",
    "margin = 0\n",
    "left = 0\n",
    "right = 1\n",
    "\n",
    "while right < len(prices):\n",
    "    if prices[right] < prices[left]:  # buy at min\n",
    "        left = right\n",
    "    if prices[right] >= prices[left]:\n",
    "        margin = (\n",
    "            prices[right] - prices[left]\n",
    "            if prices[right] - prices[left] > margin\n",
    "            else margin\n",
    "        )\n",
    "\n",
    "        right += 1\n",
    "margin"
   ]
  },
  {
   "cell_type": "code",
   "execution_count": null,
   "metadata": {},
   "outputs": [],
   "source": [
    "# from memory_profiler import profile\n",
    "# @profile(precision=4)\n",
    "\n",
    "\n",
    "prices = [7, 1, 5, 3, 6, 4]\n",
    "prices = [1, 2]\n",
    "margin = 0\n",
    "left = 0\n",
    "right = 1\n",
    "\n",
    "while right < len(prices):\n",
    "    if prices[right] > prices[left]:\n",
    "        margin = max(margin, prices[right] - prices[left])\n",
    "    else:\n",
    "        left += 1\n",
    "    right += 1\n",
    "margin"
   ]
  },
  {
   "cell_type": "code",
   "execution_count": null,
   "metadata": {},
   "outputs": [],
   "source": []
  },
  {
   "cell_type": "code",
   "execution_count": null,
   "metadata": {},
   "outputs": [],
   "source": []
  },
  {
   "cell_type": "code",
   "execution_count": null,
   "metadata": {},
   "outputs": [],
   "source": []
  },
  {
   "cell_type": "markdown",
   "metadata": {},
   "source": [
    "# X\n"
   ]
  },
  {
   "cell_type": "code",
   "execution_count": null,
   "metadata": {},
   "outputs": [],
   "source": []
  },
  {
   "cell_type": "code",
   "execution_count": null,
   "metadata": {},
   "outputs": [],
   "source": [
    "txt = \"A shallow copy creates a new object, but it does not create copies of the objects that the original object referencesddd.\"\n",
    "txt = txt.lower().replace(',', \"\").replace('.', \"\").replace(' ', \"\")"
   ]
  },
  {
   "cell_type": "code",
   "execution_count": null,
   "metadata": {},
   "outputs": [],
   "source": [
    "alphabets = ['a', 'b', 'c', 'd', 'e', 'f', 'g', 'h', 'i', 'j', 'k', 'l', 'm', 'n', 'o', 'p', 'q', 'r', 's', 't', 'u', 'v', 'w', 'x', 'y', 'z']\n",
    "\n",
    "for i, c in enumerate(alpahabets):\n",
    "    print(f\"char:{c}, index:{i}, count:{txt.count(c)}\") if txt.count(c) == i+1 else \"\"\n",
    "    # print(f\"c:{c}, i:{i}, count:{txt.count(c)}\")\n",
    "    "
   ]
  },
  {
   "cell_type": "code",
   "execution_count": null,
   "metadata": {},
   "outputs": [],
   "source": [
    "txt = \"A shallow copy creates a new object, but it does not create copies of the objects that the original object referencesddd.\"\n",
    "txt = txt.lower().replace(',', \"\").replace('.', \"\").replace(' ', \"\")\n",
    "alphabets = ['a', 'b', 'c', 'd', 'e', 'f', 'g', 'h', 'i', 'j', 'k', 'l', 'm', 'n', 'o', 'p', 'q', 'r', 's', 't', 'u', 'v', 'w', 'x', 'y', 'z']\n",
    "\n",
    "\n",
    "dict={}\n",
    "for i, c in enumerate(alphabets):\n",
    "    dict[c] = txt.count(c) if txt.count(c) == i+1 else None\n",
    "    # print(f\"c:{c}, i:{i}, count:{txt.count(c)}\")\n",
    "print(dict)"
   ]
  },
  {
   "cell_type": "code",
   "execution_count": null,
   "metadata": {},
   "outputs": [],
   "source": []
  },
  {
   "cell_type": "code",
   "execution_count": null,
   "metadata": {},
   "outputs": [],
   "source": [
    "txt = \"A shallow copy creates a new object, but it does not create copies of the objects that the original object referencesddd.\"\n",
    "alphabets = ['a', 'b', 'c', 'd', 'e', 'f', 'g', 'h', 'i', 'j', 'k', 'l', 'm', 'n', 'o', 'p', 'q', 'r', 's', 't', 'u', 'v', 'w', 'x', 'y', 'z']\n",
    "txt = txt.lower().replace(',', \"\").replace('.', \"\").replace(' ', \"\")\n",
    "{ c: txt.count(c) for i,c in enumerate(alphabets) if txt.count(c) == i+1}\n"
   ]
  },
  {
   "cell_type": "code",
   "execution_count": null,
   "metadata": {},
   "outputs": [],
   "source": [
    "ord('a')"
   ]
  },
  {
   "cell_type": "code",
   "execution_count": null,
   "metadata": {},
   "outputs": [],
   "source": [
    "chr(97)"
   ]
  },
  {
   "cell_type": "markdown",
   "metadata": {},
   "source": [
    "#\n"
   ]
  },
  {
   "cell_type": "code",
   "execution_count": null,
   "metadata": {},
   "outputs": [],
   "source": [
    "# final\n",
    "alphabets = [chr(i) for i in range(ord('a'), ord('z')+1)]\n",
    "txt = \"A shallow copy creates a new object, but it does not create copies of the objects that the original object referencesddd.\"\n",
    "txt = txt.lower().replace(',', \"\").replace('.', \"\").replace(' ', \"\")\n",
    "{ c: txt.count(c) for i,c in enumerate(alphabets) if txt.count(c) == i+1}\n"
   ]
  },
  {
   "cell_type": "code",
   "execution_count": null,
   "metadata": {},
   "outputs": [],
   "source": []
  },
  {
   "cell_type": "code",
   "execution_count": null,
   "metadata": {},
   "outputs": [],
   "source": []
  },
  {
   "cell_type": "markdown",
   "metadata": {},
   "source": [
    "# 451. Sort Characters By Frequency\n"
   ]
  },
  {
   "cell_type": "code",
   "execution_count": null,
   "metadata": {},
   "outputs": [],
   "source": []
  },
  {
   "cell_type": "code",
   "execution_count": null,
   "metadata": {},
   "outputs": [],
   "source": [
    "txt= \"treefffftzzzzz\"\n",
    "\n",
    "unique = set(txt)\n",
    "unique\n",
    "\n",
    "# x = { s.count(char) for char in unique} # set\n",
    "\n",
    "dic = { char:txt.count(char) for char in unique} # dict\n",
    "dic"
   ]
  },
  {
   "cell_type": "code",
   "execution_count": null,
   "metadata": {},
   "outputs": [],
   "source": [
    "# sorted(dic,  key = lambda item: dic[item])  # sorted but only keys\n",
    "\n"
   ]
  },
  {
   "cell_type": "code",
   "execution_count": null,
   "metadata": {},
   "outputs": [],
   "source": [
    "sorted_dic = sorted(dic.items(), key = lambda item: item[1], reverse = True)\n",
    "sorted_dic = dict(sorted_dic)\n",
    "sorted_dic"
   ]
  },
  {
   "cell_type": "code",
   "execution_count": null,
   "metadata": {},
   "outputs": [],
   "source": []
  },
  {
   "cell_type": "code",
   "execution_count": null,
   "metadata": {},
   "outputs": [],
   "source": [
    "result = \"\"\n",
    "for index, value in sorted_dic.items():\n",
    "    # print(f\"index: {index} value: {value}\")\n",
    "    result += index*value\n",
    "print(result) "
   ]
  },
  {
   "cell_type": "code",
   "execution_count": null,
   "metadata": {},
   "outputs": [],
   "source": []
  },
  {
   "cell_type": "code",
   "execution_count": null,
   "metadata": {},
   "outputs": [],
   "source": [
    "''.join(['1','2','3'])"
   ]
  },
  {
   "cell_type": "code",
   "execution_count": null,
   "metadata": {},
   "outputs": [],
   "source": [
    "''.join(sorted_dic.keys())"
   ]
  },
  {
   "cell_type": "code",
   "execution_count": null,
   "metadata": {},
   "outputs": [],
   "source": [
    "# final\n",
    "txt= \"treefffftzzzzz\"\n",
    "# result = \"\"\n",
    "\n",
    "unique = set(txt)\n",
    "dic = { char:txt.count(char) for char in unique} # dict\n",
    "sorted_dic = sorted(dic.items(), key = lambda item: item[1], reverse = True)\n",
    "sorted_dic = dict(sorted_dic)\n",
    "# for index, value in sorted_dic.items():\n",
    "#     result += index*value\n",
    "''.join(key*value for key, value in sorted_dic.items())\n",
    "print(result) "
   ]
  },
  {
   "cell_type": "code",
   "execution_count": null,
   "metadata": {},
   "outputs": [],
   "source": []
  },
  {
   "cell_type": "code",
   "execution_count": null,
   "metadata": {},
   "outputs": [],
   "source": [
    "dic"
   ]
  },
  {
   "cell_type": "markdown",
   "metadata": {},
   "source": []
  },
  {
   "cell_type": "code",
   "execution_count": null,
   "metadata": {},
   "outputs": [],
   "source": [
    "# final\n",
    "txt= \"tree\"\n",
    "\n",
    "unique = set(txt)\n",
    "dic = { char:txt.count(char) for char in unique} # dict\n",
    "sorted_dic = sorted(dic.items(), key = lambda item: item[1], reverse = True)\n",
    "print(sorted_dic)\n",
    "# sorted_dic = dict(sorted_dic)\n",
    "# ''.join(key*value for key, value in sorted_dic.items())\n",
    "''.join(char*count for char, count in sorted_dic)\n"
   ]
  },
  {
   "cell_type": "code",
   "execution_count": null,
   "metadata": {},
   "outputs": [],
   "source": [
    "class Solution(object):\n",
    "    def frequencySort(self, s):\n",
    "        \"\"\"\n",
    "        :type s: str\n",
    "        :rtype: str\n",
    "        \"\"\"\n",
    "        unique = set(s)\n",
    "        dic = { char:s.count(char) for char in unique} # dict\n",
    "        sorted_dic = sorted(dic.items(), key = lambda item: item[1], reverse = True)\n",
    "        s = ''.join(char*count for char, count in sorted_dic)\n",
    "        return ''.join(char*count for char, count in sorted_dic)\n",
    "\n"
   ]
  },
  {
   "cell_type": "code",
   "execution_count": null,
   "metadata": {},
   "outputs": [],
   "source": []
  },
  {
   "cell_type": "code",
   "execution_count": null,
   "metadata": {},
   "outputs": [],
   "source": []
  },
  {
   "cell_type": "code",
   "execution_count": null,
   "metadata": {},
   "outputs": [],
   "source": []
  },
  {
   "cell_type": "code",
   "execution_count": null,
   "metadata": {},
   "outputs": [],
   "source": []
  },
  {
   "cell_type": "markdown",
   "metadata": {},
   "source": [
    "# 647. Palindromic Substrings\n"
   ]
  },
  {
   "cell_type": "code",
   "execution_count": null,
   "metadata": {},
   "outputs": [],
   "source": [
    "\n",
    "str= \"abcde\"\n",
    "\n",
    "# for i in range(len(\"abcde\")//2):\n",
    "i=0\n",
    "while(i< len(str)//2):\n",
    "      print(i)\n",
    "      \n",
    "      i+=1"
   ]
  },
  {
   "cell_type": "code",
   "execution_count": null,
   "metadata": {},
   "outputs": [],
   "source": [
    "round(len(\"abc\"))//2, len(\"abc\")//2"
   ]
  },
  {
   "cell_type": "code",
   "execution_count": null,
   "metadata": {},
   "outputs": [],
   "source": []
  },
  {
   "cell_type": "code",
   "execution_count": null,
   "metadata": {},
   "outputs": [],
   "source": [
    "def palindrome(s, i=0, j=None):\n",
    "    \n",
    "    if j is None:\n",
    "        j=len(s)-1\n",
    "    print(f\"s:{s}, i:{i}, j:{j}, s[i]:{s[i]}, s[j]:{s[j]}\")\n",
    "    if(i>=j):\n",
    "        return True\n",
    "    if(s[i] != s[j]): \n",
    "        return False\n",
    "    # i+=1;j-=1\n",
    "    # print(s, i, j)\n",
    "    return palindrome(s, i+1, j-1)   # necessary to return True   otherwise result will be lost\n",
    " \n",
    "s = \"abcba\"\n",
    "palindrome(s)"
   ]
  },
  {
   "cell_type": "code",
   "execution_count": null,
   "metadata": {},
   "outputs": [],
   "source": []
  },
  {
   "cell_type": "code",
   "execution_count": null,
   "metadata": {},
   "outputs": [],
   "source": []
  },
  {
   "cell_type": "code",
   "execution_count": null,
   "metadata": {},
   "outputs": [],
   "source": []
  },
  {
   "cell_type": "code",
   "execution_count": null,
   "metadata": {},
   "outputs": [],
   "source": []
  },
  {
   "cell_type": "code",
   "execution_count": null,
   "metadata": {},
   "outputs": [],
   "source": []
  },
  {
   "cell_type": "code",
   "execution_count": null,
   "metadata": {},
   "outputs": [],
   "source": []
  },
  {
   "cell_type": "code",
   "execution_count": null,
   "metadata": {},
   "outputs": [],
   "source": []
  },
  {
   "cell_type": "markdown",
   "metadata": {},
   "source": [
    "# Hckerrank: breaking the recored"
   ]
  },
  {
   "cell_type": "code",
   "execution_count": null,
   "metadata": {},
   "outputs": [],
   "source": []
  },
  {
   "cell_type": "code",
   "execution_count": null,
   "metadata": {},
   "outputs": [],
   "source": [
    "min_scores = max_scores = scores[0]\n",
    "min_scores ,max_scores\n",
    "\n",
    "\n",
    "count_min_record_broke = 0\n",
    "count_max_record_broke = 0"
   ]
  },
  {
   "cell_type": "code",
   "execution_count": null,
   "metadata": {},
   "outputs": [],
   "source": [
    "scores = [10, 5, 20, 20, 4, 5, 2, 25, 1]\n",
    "\n",
    "min_scores = max_scores = scores[0]\n",
    "\n",
    "\n",
    "\n",
    "count_min_record_broke = 0\n",
    "count_max_record_broke = 0\n",
    "\n",
    "\n",
    "for index in range(len(scores)):\n",
    "\n",
    "    if scores[index]<min_scores:\n",
    "        min_scores = scores[index]\n",
    "        count_min_record_broke+=1\n",
    "    if scores[index]>max_scores:\n",
    "        max_scores = scores[index]\n",
    "        count_max_record_broke+=1\n",
    "\n",
    "    print(f\"index: {index}, min_scores: {min_scores} , max_scores: {max_scores}\")\n",
    "\n",
    "count_max_record_broke, count_min_record_broke"
   ]
  },
  {
   "cell_type": "code",
   "execution_count": null,
   "metadata": {},
   "outputs": [],
   "source": [
    "scores = [10, 5, 20, 20, 4, 5, 2, 25, 1]\n",
    "\n",
    "min_scores = max_scores = scores[0]\n",
    "\n",
    "count_min_record_broke = 0\n",
    "count_max_record_broke = 0\n",
    "\n",
    "for index, score in enumerate(scores):\n",
    "    if score < min_scores:\n",
    "        min_scores = score\n",
    "        count_min_record_broke += 1\n",
    "    elif score > max_scores:  # Use 'elif' since a score can't be both min and max in the same iteration\n",
    "        max_scores = score\n",
    "        count_max_record_broke += 1\n",
    "\n",
    "    print(f\"index: {index}, min_scores: {min_scores}, max_scores: {max_scores}\")\n",
    "\n",
    "count_max_record_broke, count_min_record_broke\n"
   ]
  },
  {
   "cell_type": "code",
   "execution_count": null,
   "metadata": {},
   "outputs": [],
   "source": []
  },
  {
   "cell_type": "code",
   "execution_count": null,
   "metadata": {},
   "outputs": [],
   "source": []
  },
  {
   "cell_type": "markdown",
   "metadata": {},
   "source": [
    "# 739. Daily Temperatures\n",
    "\n",
    "\n",
    "Given an array of integers temperatures represents the daily temperatures, return an array answer such that answer[i] is the number of days you have to wait after the ith day to get a warmer temperature. If there is no future day for which this is possible, keep answer[i] == 0 instead.\n",
    "\n",
    " \n",
    "\n",
    "Example 1:\n",
    "\n",
    "Input: temperatures = [73,74,75,71,69,72,76,73]\n",
    "\n",
    "Output: [1,1,4,2,1,1,0,0]\n",
    "\n",
    "Example 2:\n",
    "\n",
    "Input: temperatures = [30,40,50,60]\n",
    "\n",
    "Output: [1,1,1,0]\n",
    "\n",
    "Example 3:\n",
    "\n",
    "Input: temperatures = [30,60,90]\n",
    "\n",
    "Output: [1,1,0]\n"
   ]
  },
  {
   "cell_type": "code",
   "execution_count": null,
   "metadata": {},
   "outputs": [],
   "source": [
    "# daily_tempratures = [73,74,75,71,69,72,76,73]\n",
    "\n",
    "days_to_wait= [\"0\"] * len(daily_tempratures)\n",
    "\n",
    "for dailyIndex, dailyT in enumerate(daily_tempratures):\n",
    "\n",
    "    for index in range(dailyIndex , len(daily_tempratures)):\n",
    "        print(f\"index: {index}, dailyIndex:{dailyIndex}\")\n",
    "\n"
   ]
  },
  {
   "cell_type": "code",
   "execution_count": null,
   "metadata": {},
   "outputs": [],
   "source": [
    "def next_hotter(lst, ind):\n",
    "    # print(lst[0])\n",
    "    current = lst[ind]\n",
    "    for i in range(ind, len(lst)):\n",
    "        if(current< lst[i]):\n",
    "            # print(f\"current:{current}, i:{i}, lst[i]:{lst[i]}\")\n",
    "            hotter = i-ind\n",
    "            print(f\"current:{current}, i:{i}, lst[i]:{lst[i]}, hotter:{hotter}\")\n",
    "            return hotter\n",
    "\n",
    "\n",
    "\n",
    "daily_tempratures = [73,70,49,74,75]\n",
    "print(daily_tempratures)\n",
    "next_hotter(daily_tempratures,0)"
   ]
  },
  {
   "cell_type": "code",
   "execution_count": null,
   "metadata": {},
   "outputs": [],
   "source": [
    "def next_hotter_whole(lst):\n",
    "    changes = [0] * len(lst)\n",
    "    # print(changes)\n",
    "    # print(lst[0])\n",
    "    for index, value in enumerate(lst):\n",
    "        print(f\"\\nindex:{index}, value:{value}\")\n",
    "\n",
    "        for i in range(index, len(lst)):\n",
    "            if(value < lst[i]):\n",
    "                # print(f\"current:{current}, i:{i}, lst[i]:{lst[i]}\")\n",
    "                # hotter = i-index-1\n",
    "                print(f\"\\t\\t\\tcurrent:{value}, i:{i}, lst[i]:{lst[i]}, hotter:{i-index}\")\n",
    "                changes[index] = i-index\n",
    "                break;\n",
    "\n",
    "    return changes\n",
    "\n",
    "                \n",
    "\n",
    "\n",
    "\n",
    "daily_tempratures = [73,74,75,71,69,72,76,73]\n",
    "print(daily_tempratures)\n",
    "next_hotter_whole(daily_tempratures)"
   ]
  },
  {
   "cell_type": "code",
   "execution_count": null,
   "metadata": {},
   "outputs": [],
   "source": []
  },
  {
   "cell_type": "code",
   "execution_count": null,
   "metadata": {},
   "outputs": [],
   "source": []
  },
  {
   "cell_type": "code",
   "execution_count": null,
   "metadata": {},
   "outputs": [],
   "source": [
    "daily_tempratures\n",
    "\n"
   ]
  },
  {
   "cell_type": "code",
   "execution_count": null,
   "metadata": {},
   "outputs": [],
   "source": []
  },
  {
   "cell_type": "code",
   "execution_count": null,
   "metadata": {},
   "outputs": [],
   "source": [
    "daily_tempratures = [73, 74, 75, 71, 69, 72, 76, 73]\n",
    "\n",
    "\n",
    "st=[]\n",
    "\n",
    "res = [0] * len(daily_tempratures)\n",
    " \n",
    "for i in range(len(daily_tempratures)):\n",
    "\n",
    "    while st and daily_tempratures[i]  > daily_tempratures[st[-1]]:\n",
    "        print(f\"\\t\\tdaily_tempratures[i]: {daily_tempratures[i]}, daily_tempratures[st[-1]]: {daily_tempratures[st[-1]]}, \\t\\tst: {st}\")\n",
    "        idx = st.pop()\n",
    "        res[idx] = i - idx\n",
    "        print(f\"\\t\\tidx:pop():{idx}, {daily_tempratures[idx]}\\t||, res:{res}\")\n",
    "    st.append(i)\n",
    "    \n",
    "    print(\"status :st:\",st)\n",
    "    print(\"--\")\n"
   ]
  },
  {
   "cell_type": "code",
   "execution_count": null,
   "metadata": {},
   "outputs": [],
   "source": [
    "st"
   ]
  },
  {
   "cell_type": "code",
   "execution_count": null,
   "metadata": {},
   "outputs": [],
   "source": [
    "st.pop()"
   ]
  },
  {
   "cell_type": "code",
   "execution_count": null,
   "metadata": {},
   "outputs": [],
   "source": [
    "st"
   ]
  },
  {
   "cell_type": "code",
   "execution_count": null,
   "metadata": {},
   "outputs": [],
   "source": [
    "st[1], st[-1]"
   ]
  },
  {
   "cell_type": "code",
   "execution_count": null,
   "metadata": {},
   "outputs": [],
   "source": []
  },
  {
   "cell_type": "code",
   "execution_count": null,
   "metadata": {},
   "outputs": [],
   "source": []
  },
  {
   "cell_type": "code",
   "execution_count": null,
   "metadata": {},
   "outputs": [],
   "source": []
  },
  {
   "cell_type": "code",
   "execution_count": null,
   "metadata": {},
   "outputs": [],
   "source": []
  },
  {
   "cell_type": "code",
   "execution_count": null,
   "metadata": {},
   "outputs": [],
   "source": []
  },
  {
   "cell_type": "markdown",
   "metadata": {},
   "source": [
    "# sorting using stack\n"
   ]
  },
  {
   "cell_type": "code",
   "execution_count": null,
   "metadata": {},
   "outputs": [],
   "source": [
    "\n",
    "\n",
    "input_stack = [1,2,3,4,5]\n",
    "input_stack = sorted(input_stack, reverse=True)\n",
    "sorted_stack =[] \n",
    "\n",
    "\n",
    "while(input_stack):\n",
    "    current = input_stack.pop()\n",
    "\n",
    "    while sorted_stack and sorted_stack[-1] > current:\n",
    "        input_stack.append(sorted_stack.pop())\n",
    "    sorted_stack.append(current)\n",
    "    # print(current)\n",
    "\n",
    "\n",
    "    print(f\"Status:\\n\\t\\tinput_stack:{input_stack}, sorted_stack:{sorted_stack}, current:{current}\")\n",
    "\n",
    "\n",
    "\n",
    "# while()"
   ]
  },
  {
   "cell_type": "code",
   "execution_count": null,
   "metadata": {},
   "outputs": [],
   "source": [
    "\n"
   ]
  },
  {
   "cell_type": "code",
   "execution_count": null,
   "metadata": {},
   "outputs": [],
   "source": []
  },
  {
   "cell_type": "code",
   "execution_count": null,
   "metadata": {},
   "outputs": [],
   "source": [
    "\n",
    "\n",
    "input_stack = [1,2,3,4,5]\n",
    "input_stack = sorted(input_stack, reverse=True)\n",
    "sorted_stack =[] \n",
    "\n",
    "\n",
    "while(input_stack):\n",
    "    current = input_stack.pop()\n",
    "\n",
    "    while sorted_stack and sorted_stack[-1] > current:\n",
    "        input_stack.append(sorted_stack.pop())\n",
    "    sorted_stack.append(current)\n",
    "    # print(current)\n",
    "\n",
    "\n",
    "    print(f\"Status:\\n\\t\\tinput_stack:{input_stack}, sorted_stack:{sorted_stack}, current:{current}\")\n",
    "\n",
    "\n",
    "\n",
    "# while()"
   ]
  },
  {
   "cell_type": "code",
   "execution_count": null,
   "metadata": {},
   "outputs": [],
   "source": []
  },
  {
   "cell_type": "markdown",
   "metadata": {},
   "source": [
    "# 739. Daily Temperatures - with stack\n"
   ]
  },
  {
   "cell_type": "code",
   "execution_count": null,
   "metadata": {},
   "outputs": [],
   "source": [
    "\n",
    "# final\n",
    "daily_tempratures = [73, 74, 75, 71, 69, 72, 76, 73]\n",
    "\n",
    "print(f\"daily_tempratures: {daily_tempratures}\")\n",
    "\n",
    "st=[]\n",
    "\n",
    "res = [0] * len(daily_tempratures)\n",
    "\n",
    "for i in range(len(daily_tempratures)):\n",
    "    current = daily_tempratures[i]\n",
    "    # print(f\"\\tcurrent: {current}, i:{i}\")\n",
    "    while(st and daily_tempratures[i]>daily_tempratures[st[-1]]):# current bigger than top of stack\n",
    "        # print(f\"Status:\\t\\tst:{st}, curret:{ daily_tempratures[i]}, top of stack:{daily_tempratures[st[-1]]}\")\n",
    "        idx = st.pop()  # diifernce between \n",
    "        difference = i - idx\n",
    "        res[idx] = difference\n",
    "\n",
    "    st.append(i)\n",
    "\n",
    "print(res)\n",
    "\n",
    "\n"
   ]
  },
  {
   "cell_type": "code",
   "execution_count": null,
   "metadata": {},
   "outputs": [],
   "source": [
    "# optimized\n",
    "answer = [0] * len(daily_tempratures)\n",
    "stack = []\n",
    "\n",
    "for index, current_temp in enumerate(daily_tempratures):\n",
    "    while stack and daily_tempratures[stack[-1]] < current_temp:\n",
    "        previous_index = stack.pop()\n",
    "        answer[previous_index] = index - previous_index\n",
    "    stack.append(index)\n",
    "answer"
   ]
  },
  {
   "cell_type": "code",
   "execution_count": null,
   "metadata": {},
   "outputs": [],
   "source": [
    "\n",
    "# final\n",
    "daily_tempratures = [73, 74, 75, 71, 69, 72, 76, 73]\n",
    "\n",
    "print(f\"daily_tempratures: {daily_tempratures}\")\n",
    "st=[]\n",
    "res = [0] * len(daily_tempratures)\n",
    "for index, current in enumerate(daily_tempratures):\n",
    "    while(st and current>daily_tempratures[st[-1]]):# current bigger than top of stack\n",
    "        prev_index = st.pop()  # diifernce between \n",
    "        res[prev_index] = index - prev_index\n",
    "    st.append(index)\n",
    "\n",
    "print(res)\n",
    "\n",
    "\n"
   ]
  },
  {
   "cell_type": "code",
   "execution_count": null,
   "metadata": {},
   "outputs": [],
   "source": []
  },
  {
   "cell_type": "code",
   "execution_count": null,
   "metadata": {},
   "outputs": [],
   "source": []
  },
  {
   "cell_type": "code",
   "execution_count": null,
   "metadata": {},
   "outputs": [],
   "source": []
  },
  {
   "cell_type": "markdown",
   "metadata": {},
   "source": [
    "# Camel Case: 04"
   ]
  },
  {
   "cell_type": "code",
   "execution_count": null,
   "metadata": {},
   "outputs": [],
   "source": [
    "def splitting(input_txt_name, input_txt_type):\n",
    "        print(\"We'll be spliting...\", input_txt_name)\n",
    "\n",
    "        names = []\n",
    "        prev_index = 0\n",
    "        length = len(input_txt_name)\n",
    "        for current in range(length):\n",
    "              if input_txt_name[current].isupper():\n",
    "                    names.append(input_txt_name[prev_index:current].lower())\n",
    "                    # print(input_txt_name[prev_index:current].lower())\n",
    "                    prev_index = current\n",
    "                    \n",
    "        \n",
    "        # print(\"input_txt_type\", input_txt_type)\n",
    "        \n",
    "        lastportion = input_txt_name[prev_index:-2] if input_txt_type == 'M' else input_txt_name[prev_index:]\n",
    "        names.append(lastportion.lower())\n",
    "        return \" \".join(names).strip()\n",
    "        \n",
    "\n",
    "\n",
    "\n",
    "def combining(input_txt_name, input_txt_type):\n",
    "        print(\"We'll be combining...\", input_txt_name)\n",
    "        input_txt_name = input_txt_name.split(\" \")\n",
    "        print(input_txt_name)\n",
    "        \n",
    "\n",
    "\n",
    "        # for current in input_txt_name:\n",
    "        #       current = curr\n",
    "\n",
    "        for current in range(len(input_txt_name)):\n",
    "            input_txt_name[current] = input_txt_name[current].title()\n",
    "        \n",
    "        print(input_txt_name)\n",
    "        name = \"\".join(input_txt_name)\n",
    "        \n",
    "        \n",
    "        if input_txt_type == 'C':\n",
    "            return name\n",
    "        return name.lower() + \"()\" if input_txt_type == 'M' else name.lower() \n",
    "        \n",
    "        \n",
    "\n",
    "\n",
    "def parsingInputString(input_txt):\n",
    "    print(f\"input_text: {input_txt}\")\n",
    "\n",
    "\n",
    "    input_txt_operation = input_txt[0:1]\n",
    "    print(f\"input_txt_operation: {input_txt_operation}\")\n",
    "\n",
    "    input_txt_type = input_txt[2:3]\n",
    "    print(f\"input_txt_type: {input_txt_type}\")\n",
    "\n",
    "    input_txt_name = input_txt[4:]\n",
    "    print(f\"input_txt_name: {input_txt_name}\")\n",
    "\n",
    "\n",
    "\n",
    "    if input_txt_operation == 'C':\n",
    "        return combining(input_txt_name, input_txt_type)\n",
    "    if input_txt_operation == 'S':\n",
    "        return splitting(input_txt_name, input_txt_type)\n",
    "    \n",
    "\n",
    "\n",
    "# S;M;plasticCup()\n",
    "# C;V;mobile phone\n",
    "# C;C;coffee machine\n",
    "# S;C;LargeSoftwareBook\n",
    "# C;M;white sheet of paper\n",
    "\n",
    "\n",
    "\n",
    "\n",
    "# input_txt =  \"S;V;pictureFrameNice\"\n",
    "# input_txt = \"S;M;plasticCup()\"\n",
    "# input_txt = \"S;V;pictureFrame\"\n",
    "# input_txt = \"S;C;LargeSoftwareBook\"\n",
    "# input_txt = \"S;V;pictureFrame\"\n",
    "\n",
    "\n",
    "# input_txt = \"C;V;mobile phone\" # mobilePhone\n",
    "input_txt = \"C;C;coffee machine\" # CoffeeMachine\n",
    "# input_txt = \"C;M;white sheet of paper\" # whiteSheetOfPaper()\n",
    "\n",
    "\n",
    "\n",
    "\n",
    "\n",
    "parsingInputString(input_txt)"
   ]
  },
  {
   "cell_type": "code",
   "execution_count": null,
   "metadata": {},
   "outputs": [],
   "source": []
  },
  {
   "cell_type": "code",
   "execution_count": null,
   "metadata": {},
   "outputs": [],
   "source": [
    "def splitting(input_txt_name, input_txt_type):\n",
    "        print(\"We'll be spliting...\", input_txt_name)\n",
    "\n",
    "        names = []\n",
    "        prev_index = 0\n",
    "        length = len(input_txt_name)\n",
    "        for current in range(length):\n",
    "              if input_txt_name[current].isupper():\n",
    "                    names.append(input_txt_name[prev_index:current].lower())\n",
    "                    prev_index = current\n",
    "                    \n",
    "        lastportion = input_txt_name[prev_index:-2] if input_txt_type == 'M' else input_txt_name[prev_index:]\n",
    "        names.append(lastportion.lower())\n",
    "        return \" \".join(names).strip()\n",
    "        \n",
    "\n",
    "def combining(input_txt_name, input_txt_type):\n",
    "        input_txt_name = input_txt_name.split(\" \")\n",
    "        for current in range(len(input_txt_name)):\n",
    "            input_txt_name[current] = input_txt_name[current].title()\n",
    "        \n",
    "        print(input_txt_name)\n",
    "        \n",
    "        \n",
    "        \n",
    "        if input_txt_type == 'C':\n",
    "            return \"\".join(input_txt_name)\n",
    "        \n",
    "\n",
    "        input_txt_name[0] = input_txt_name[0].lower()\n",
    "        name = \"\".join(input_txt_name)\n",
    "        # print(name)\n",
    "\n",
    "        # new_name = name[0].lower + name[1:]\n",
    "        # print(new_name)\n",
    "        \n",
    "        return name + \"()\" if input_txt_type == 'M' else name() \n",
    "        \n",
    "\n",
    "def parsingInputString(input_txt):\n",
    "    input_txt_operation = input_txt[0:1]\n",
    "    input_txt_type = input_txt[2:3]\n",
    "    input_txt_name = input_txt[4:]\n",
    "    if input_txt_operation == 'C':\n",
    "        return combining(input_txt_name, input_txt_type)\n",
    "    if input_txt_operation == 'S':\n",
    "        return splitting(input_txt_name, input_txt_type)\n",
    "\n",
    "\n",
    "input_txt = \"C;M;mouse pad\"\n",
    " # CoffeeMachine\n",
    "\n",
    "\n",
    "\n",
    "\n",
    "\n",
    "parsingInputString(input_txt)"
   ]
  },
  {
   "cell_type": "code",
   "execution_count": null,
   "metadata": {},
   "outputs": [],
   "source": [
    "# for hackerrank \n",
    "\n",
    "import sys\n",
    "\n",
    "\n",
    "\n",
    "def splitting(input_txt_name, input_txt_type):\n",
    "        \n",
    "        names = []\n",
    "        prev_index = 0\n",
    "        length = len(input_txt_name)\n",
    "        for current in range(length):\n",
    "              if input_txt_name[current].isupper():\n",
    "                    names.append(input_txt_name[prev_index:current].lower())\n",
    "                    prev_index = current\n",
    "                    \n",
    "        lastportion = input_txt_name[prev_index:-2] if input_txt_type == 'M' else input_txt_name[prev_index:]\n",
    "        names.append(lastportion.lower())\n",
    "        name =  \" \".join(names).strip()\n",
    "        print(name)\n",
    "        return name\n",
    "        \n",
    "\n",
    "def combining(input_txt_name, input_txt_type):\n",
    "        input_txt_name = input_txt_name.split(\" \")\n",
    "        for current in range(len(input_txt_name)):\n",
    "            input_txt_name[current] = input_txt_name[current].title()\n",
    "        \n",
    "        \n",
    "        \n",
    "        if input_txt_type == 'C':\n",
    "            name = \"\".join(input_txt_name)\n",
    "            print(name)\n",
    "            return name\n",
    "        \n",
    "        input_txt_name[0] = input_txt_name[0].lower()\n",
    "        name = \"\".join(input_txt_name)\n",
    "        name = name + \"()\" if input_txt_type == 'M' else name()\n",
    "        print(name)\n",
    "        return name\n",
    "        \n",
    "\n",
    "def parsingInputString(input_txt):\n",
    "    input_txt_operation = input_txt[0:1]\n",
    "    input_txt_type = input_txt[2:3]\n",
    "    input_txt_name = input_txt[4:]\n",
    "    if input_txt_operation == 'C':\n",
    "        return combining(input_txt_name, input_txt_type)\n",
    "    if input_txt_operation == 'S':\n",
    "        return splitting(input_txt_name, input_txt_type)\n",
    "\n",
    "\n",
    "\n",
    "\n",
    "\n",
    "for line in sys.stdin:\n",
    "    line = line.strip()\n",
    "    parsingInputString(line)"
   ]
  },
  {
   "cell_type": "code",
   "execution_count": null,
   "metadata": {},
   "outputs": [],
   "source": [
    "# submiited \n",
    "\n",
    "import sys\n",
    "\n",
    "def splitting(input_txt_name, input_txt_type):\n",
    "    names = []\n",
    "    start = 0\n",
    "    for i, char in enumerate(input_txt_name):\n",
    "        if char.isupper() and i > 0:\n",
    "            names.append(input_txt_name[start:i].lower())\n",
    "            start = i\n",
    "    \n",
    "    last_part = input_txt_name[start:-2] if input_txt_type == 'M' else input_txt_name[start:]\n",
    "    names.append(last_part.lower())\n",
    "    \n",
    "    name = \" \".join(names).strip()\n",
    "    print(name)\n",
    "    return name\n",
    "\n",
    "def combining(input_txt_name, input_txt_type):\n",
    "    words = input_txt_name.split()\n",
    "    if input_txt_type == 'C':\n",
    "        name = \"\".join(word.capitalize() for word in words)\n",
    "    else:\n",
    "        print(words)\n",
    "        name = words[0].lower() + \"\".join(word.capitalize() for word in words[1:])\n",
    "        name += \"()\" if input_txt_type == 'M' else \"\"\n",
    "    \n",
    "    print(name)\n",
    "    return name\n",
    "\n",
    "def parsingInputString(input_txt):\n",
    "    input_txt_operation = input_txt[0]\n",
    "    input_txt_type = input_txt[2]\n",
    "    input_txt_name = input_txt[4:]\n",
    "    \n",
    "    if input_txt_operation == 'C':\n",
    "        return combining(input_txt_name, input_txt_type)\n",
    "    if input_txt_operation == 'S':\n",
    "        return splitting(input_txt_name, input_txt_type)\n",
    "\n",
    "\n",
    "\n",
    "input_txt = \"C;M;mouse pad\"\n",
    " # CoffeeMachine\n",
    "\n",
    "\n",
    "\n",
    "\n",
    "\n",
    "parsingInputString(input_txt)"
   ]
  },
  {
   "cell_type": "code",
   "execution_count": null,
   "metadata": {},
   "outputs": [],
   "source": [
    "\"mousepad\".capitalize()"
   ]
  },
  {
   "cell_type": "code",
   "execution_count": null,
   "metadata": {},
   "outputs": [],
   "source": [
    "\"mousepad\".title()"
   ]
  },
  {
   "cell_type": "code",
   "execution_count": null,
   "metadata": {},
   "outputs": [],
   "source": []
  },
  {
   "cell_type": "code",
   "execution_count": null,
   "metadata": {},
   "outputs": [],
   "source": []
  },
  {
   "cell_type": "code",
   "execution_count": null,
   "metadata": {},
   "outputs": [],
   "source": []
  },
  {
   "cell_type": "markdown",
   "metadata": {},
   "source": [
    "# hackerrank:  divisble sums pairs"
   ]
  },
  {
   "cell_type": "code",
   "execution_count": null,
   "metadata": {},
   "outputs": [],
   "source": [
    "arr = [1, 3, 2, 6, 1, 2]\n",
    "n = 6; k = 3\n",
    "arr"
   ]
  },
  {
   "cell_type": "code",
   "execution_count": null,
   "metadata": {},
   "outputs": [],
   "source": [
    "\n",
    "# arr = sorted(arr)\n",
    "\n",
    "count =0\n",
    "for index, value in enumerate(arr):\n",
    "    for i in range(index+1, len(arr)):\n",
    "        # print(\"i:{0}, value:{1}, index:{2}\".format( i, value, index))\n",
    "\n",
    "        if ( True and (value + arr[i])%k==0 ):\n",
    "            # print(value, arr[i])\n",
    "            count+=1\n",
    "\n",
    "\n",
    "print(count)"
   ]
  },
  {
   "cell_type": "code",
   "execution_count": null,
   "metadata": {},
   "outputs": [],
   "source": []
  },
  {
   "cell_type": "code",
   "execution_count": null,
   "metadata": {},
   "outputs": [],
   "source": []
  },
  {
   "cell_type": "code",
   "execution_count": null,
   "metadata": {},
   "outputs": [],
   "source": []
  },
  {
   "cell_type": "markdown",
   "metadata": {},
   "source": [
    "# Sparse arrays\n",
    "\n",
    "There is a collection of input strings and a collection of query strings. For each query string, determine how many times it occurs in the list of input strings. Return an array of the results.\n"
   ]
  },
  {
   "cell_type": "code",
   "execution_count": null,
   "metadata": {},
   "outputs": [],
   "source": [
    "# strings = ['aba' ,'baba' ,'aba' ,'xzxb']\n",
    "# query = ['aba', 'xzxb', 'ab']\n",
    "\n",
    "strings = ['abcde','sdaklfj','asdjf','na','basdn','sdaklfj','asdjf','na','asdjf','na','basdn','sdaklfj','asdjf']\n",
    "query = ['abcde','sdaklfj','asdjf','na','basdn']\n",
    "count = [0] * len(query)\n",
    "\n",
    "strings, query, count"
   ]
  },
  {
   "cell_type": "code",
   "execution_count": null,
   "metadata": {},
   "outputs": [],
   "source": [
    "for qindex, query in enumerate(query):\n",
    "\n",
    "    for string in strings:\n",
    "        if query == string:\n",
    "            count[qindex]+=1\n",
    "\n",
    "\n",
    "count"
   ]
  },
  {
   "cell_type": "code",
   "execution_count": null,
   "metadata": {},
   "outputs": [],
   "source": []
  },
  {
   "cell_type": "code",
   "execution_count": null,
   "metadata": {},
   "outputs": [],
   "source": []
  },
  {
   "cell_type": "markdown",
   "metadata": {},
   "source": [
    "# 347. Top K Frequent Elements\n",
    "Given an integer array nums and an integer k, return the k most frequent elements. You may return the answer in any order.\n",
    "\n",
    "Input: nums = [1,1,1,2,2,3], k = 2\n",
    "Output: [1,2]"
   ]
  },
  {
   "cell_type": "code",
   "execution_count": null,
   "metadata": {},
   "outputs": [],
   "source": [
    "# nums = [1,1,1,2,2,3,3,3,3,3]; k = 2\n",
    "# Output: [1,2]\n",
    "nums = [-1,2,2] \n",
    "k=1\n",
    "\n",
    "result=[]\n",
    "\n",
    "for index, value in enumerate(set(nums)):\n",
    "    result.append(nums.count(value))\n",
    "    print(result)\n",
    "# result = sorted(result)\n",
    "print(result)\n",
    "result[:k]"
   ]
  },
  {
   "cell_type": "code",
   "execution_count": null,
   "metadata": {},
   "outputs": [],
   "source": [
    "# nums = [1,1,1,2,2,3,3,3,3,3]; k = 2\n",
    "# Output: [1,2]\n",
    "nums = [1,1,1,2,2,3]\n",
    "k=2\n",
    "\n",
    "result={}\n",
    "\n",
    "for value in set(nums):\n",
    "    # result.append(nums.count(value))\n",
    "    result[value] = nums.count(value)\n",
    "    # print(result)\n",
    "# result = sorted(result)\n",
    "print(result)\n",
    "\n",
    "\n",
    "sorted_result = sorted(result.items(), key=lambda item: item[1], reverse=True)\n",
    "sorted_result\n",
    "\n",
    "\n",
    "\n",
    "\n",
    "sorted_keys = [ keys for keys, v in sorted_result]\n",
    "sorted_keys[:k]\n"
   ]
  },
  {
   "cell_type": "code",
   "execution_count": null,
   "metadata": {},
   "outputs": [],
   "source": [
    "# nums = [1,1,1,2,2,3,3,3,3,3]; k = 2\n",
    "# Output: [1,2]\n",
    "\n",
    "#beats 86%\n",
    "nums = [1,1,1,2,2,3]\n",
    "k=2\n",
    "\n",
    "result={}\n",
    "\n",
    "\n",
    "for number in nums:\n",
    "    if number in result:\n",
    "        result[number] +=1\n",
    "    else:\n",
    "        result[number] = 1\n",
    "\n",
    "\n",
    "print(result)\n",
    "\n",
    "sorted_result = sorted(result.items(), key=lambda item: item[1], reverse=True)\n",
    "sorted_result\n",
    "\n",
    "\n",
    "\n",
    "\n",
    "sorted_keys = [ keys for keys, v in sorted_result]\n",
    "sorted_keys[:k]\n"
   ]
  },
  {
   "cell_type": "code",
   "execution_count": null,
   "metadata": {},
   "outputs": [],
   "source": [
    "\"aabc\".count(\"a\")"
   ]
  },
  {
   "cell_type": "code",
   "execution_count": null,
   "metadata": {},
   "outputs": [],
   "source": []
  },
  {
   "cell_type": "code",
   "execution_count": null,
   "metadata": {},
   "outputs": [],
   "source": [
    "# optimal \n",
    "import heapq\n",
    "freq_map = {}\n",
    "for num in nums:\n",
    "    if num in freq_map:\n",
    "        freq_map[num] += 1\n",
    "    else:\n",
    "        freq_map[num] = 1\n",
    "\n",
    "# Step 2: Use a heap to find the k most frequent elements\n",
    "# The heap will store elements as (-frequency, element) to create a max heap\n",
    "heap = []\n",
    "for num, freq in freq_map.items():\n",
    "    heapq.heappush(heap, (-freq, num))\n",
    "\n",
    "# Step 3: Extract the top k elements from the heap\n",
    "top_k = []\n",
    "for _ in range(k):\n",
    "    top_k.append(heapq.heappop(heap)[1])\n",
    "\n",
    "top_k"
   ]
  },
  {
   "cell_type": "code",
   "execution_count": null,
   "metadata": {},
   "outputs": [],
   "source": []
  },
  {
   "cell_type": "code",
   "execution_count": null,
   "metadata": {},
   "outputs": [],
   "source": []
  },
  {
   "cell_type": "markdown",
   "metadata": {},
   "source": [
    "# String Encode and Decode\n",
    "\n",
    "Input: [\"neet\",\"code\",\"love\",\"you\"]\n",
    "\n",
    "Output:[\"neet\",\"code\",\"love\",\"you\"]\n"
   ]
  },
  {
   "cell_type": "code",
   "execution_count": null,
   "metadata": {},
   "outputs": [],
   "source": [
    "input = [\"\"]\n",
    "\n",
    "encoded = \"#\".join(input)\n",
    "print(\"encoded\", encoded)\n",
    "# decoded = encoded.split(\"#\") if encoded!=\"\" else []\n",
    "\n",
    "decoded = encoded.split(\"#\")\n",
    "print(decoded)\n",
    "\n"
   ]
  },
  {
   "cell_type": "code",
   "execution_count": null,
   "metadata": {},
   "outputs": [],
   "source": [
    "\"#\".join([\"\"]), \"#\".join([])"
   ]
  },
  {
   "cell_type": "markdown",
   "metadata": {},
   "source": [
    "### (len)#(string)"
   ]
  },
  {
   "cell_type": "code",
   "execution_count": null,
   "metadata": {},
   "outputs": [],
   "source": [
    "input = [\"neet\",\"code\",\"love\",\"you\"]\n",
    "# input=[]\n",
    "string=\"\"\n",
    "for i in input:\n",
    "    string+=str(len(i))+'#' + i\n",
    "string\n"
   ]
  },
  {
   "cell_type": "code",
   "execution_count": null,
   "metadata": {},
   "outputs": [],
   "source": [
    "\n",
    "output =[]\n",
    "i=0\n",
    "while(i<len(string)):\n",
    "    length = int(string[i])\n",
    "    print(\"length:\", length)\n",
    "    print(string[i+1+1:i+1+1+length])\n",
    "    output.append(string[i+1+1:i+1+1+length])\n",
    "    i = i+ 1+length+1\n",
    "\n",
    "output\n"
   ]
  },
  {
   "cell_type": "code",
   "execution_count": null,
   "metadata": {},
   "outputs": [],
   "source": []
  },
  {
   "cell_type": "code",
   "execution_count": null,
   "metadata": {},
   "outputs": [],
   "source": [
    "# accepted\n",
    "# input = [\"neet\",\"code\",\"love\",\"you\"]\n",
    "input=[\"\"]\n",
    "string=\"\"\n",
    "for i in input:\n",
    "    string+=str(len(i))+'#' + i\n",
    "string\n",
    "\n",
    "print(string)\n",
    "res =[]\n",
    "i=0\n",
    "while(i<len(string)):\n",
    "    j=i\n",
    "    while(string[j]!='#'):\n",
    "        j+=1\n",
    "    length=int(string[i:j])\n",
    "\n",
    "    print(string[j+1:j+1+length])\n",
    "    res.append(string[j+1:j+1+length])\n",
    "    i = j+1+length\n",
    "res\n",
    "\n"
   ]
  },
  {
   "cell_type": "code",
   "execution_count": null,
   "metadata": {},
   "outputs": [],
   "source": []
  },
  {
   "cell_type": "code",
   "execution_count": null,
   "metadata": {},
   "outputs": [],
   "source": []
  },
  {
   "cell_type": "code",
   "execution_count": null,
   "metadata": {},
   "outputs": [],
   "source": []
  },
  {
   "cell_type": "code",
   "execution_count": null,
   "metadata": {},
   "outputs": [],
   "source": [
    "\n",
    "Input:\n",
    "\n",
    "[\"\"]\n",
    "\n",
    "Your Output:\n",
    "\n",
    "[]\n",
    "\n",
    "Expected output:\n",
    "\n",
    "[\"\"]"
   ]
  },
  {
   "cell_type": "code",
   "execution_count": null,
   "metadata": {},
   "outputs": [],
   "source": []
  },
  {
   "cell_type": "code",
   "execution_count": null,
   "metadata": {},
   "outputs": [],
   "source": []
  },
  {
   "cell_type": "code",
   "execution_count": null,
   "metadata": {},
   "outputs": [],
   "source": []
  },
  {
   "cell_type": "code",
   "execution_count": null,
   "metadata": {},
   "outputs": [],
   "source": []
  },
  {
   "cell_type": "code",
   "execution_count": null,
   "metadata": {},
   "outputs": [],
   "source": []
  },
  {
   "cell_type": "markdown",
   "metadata": {},
   "source": [
    "## median"
   ]
  },
  {
   "cell_type": "code",
   "execution_count": null,
   "metadata": {},
   "outputs": [],
   "source": [
    "arr  = [5,1,2,3,4,6]\n",
    "\n",
    "arr = sorted(arr)\n",
    "arr\n",
    "length =len(arr)\n",
    "\n",
    "if length%2 ==0:\n",
    "    print(length//2)\n",
    "    print((arr[length//2 -1] +  arr[length//2]) / 2)\n",
    "\n",
    "else:\n",
    "    print((length//2))\n",
    "\n",
    "\n",
    "\n"
   ]
  },
  {
   "cell_type": "code",
   "execution_count": null,
   "metadata": {},
   "outputs": [],
   "source": [
    "# fina\n",
    "arr  = [5,1,2,3,4,6,7]\n",
    "\n",
    "arr = sorted(arr)\n",
    "arr\n",
    "length =len(arr)\n",
    "\n",
    "if length%2 ==0:\n",
    "    print((arr[length//2 -1] +  arr[length//2]) / 2)\n",
    "\n",
    "else:\n",
    "    print(length//2)\n",
    "\n"
   ]
  },
  {
   "cell_type": "code",
   "execution_count": null,
   "metadata": {},
   "outputs": [],
   "source": [
    "7/3, 7//3, 7%3"
   ]
  },
  {
   "cell_type": "code",
   "execution_count": null,
   "metadata": {},
   "outputs": [],
   "source": [
    "\n",
    "\n"
   ]
  },
  {
   "cell_type": "code",
   "execution_count": null,
   "metadata": {},
   "outputs": [],
   "source": []
  },
  {
   "cell_type": "markdown",
   "metadata": {},
   "source": [
    "## Lonely Integer"
   ]
  },
  {
   "cell_type": "code",
   "execution_count": null,
   "metadata": {},
   "outputs": [],
   "source": [
    "a =[1,2,3,4,3,2,1]   # all lements but one occur twixe\n",
    "a\n"
   ]
  },
  {
   "cell_type": "code",
   "execution_count": null,
   "metadata": {},
   "outputs": [],
   "source": [
    "def lonelyinteger(a):\n",
    "    result = 0\n",
    "    for num in a:\n",
    "        result ^= num  # XOR each element\n",
    "        print(result)\n",
    "    return result\n",
    "lonelyinteger(a)"
   ]
  },
  {
   "cell_type": "code",
   "execution_count": null,
   "metadata": {},
   "outputs": [],
   "source": [
    "a = [1,2,3]\n",
    "a =[1,2,3,4,3,2,1]   # all lements but one occur twixe\n",
    "\n",
    "# final\n",
    "\n",
    "def lonelyInter(a):\n",
    "    sum_of_arr = sum(set(a)) \n",
    "    # print(sum_of_arr)\n",
    "\n",
    "    return sum_of_arr*2 - sum(a)\n",
    "\n",
    "lonelyInter(a)\n"
   ]
  },
  {
   "cell_type": "code",
   "execution_count": null,
   "metadata": {},
   "outputs": [],
   "source": [
    "5**2"
   ]
  },
  {
   "cell_type": "markdown",
   "metadata": {},
   "source": [
    "## Grading Students\n",
    "\n",
    "\n",
    "\n",
    "1. If the difference between the grade and the next multiple of 5 is less than 3, round grade up to the next multiple of 5.\n",
    "\n",
    "2. If the value of grade is less than 38, no rounding occurs\n"
   ]
  },
  {
   "cell_type": "code",
   "execution_count": null,
   "metadata": {},
   "outputs": [],
   "source": [
    "grades = [4, 73, 67, 38, 33]\n",
    "def gradingStudents(grades):\n",
    "    for index, value in enumerate(grades):\n",
    "        if value>=38:\n",
    "            remainder =value%5\n",
    "            if remainder>2:\n",
    "                grades[index] = value + (5 - remainder)\n",
    "    return grades\n",
    "gradingStudents(grades)"
   ]
  },
  {
   "cell_type": "code",
   "execution_count": null,
   "metadata": {},
   "outputs": [],
   "source": []
  },
  {
   "cell_type": "code",
   "execution_count": null,
   "metadata": {},
   "outputs": [],
   "source": []
  },
  {
   "cell_type": "code",
   "execution_count": null,
   "metadata": {},
   "outputs": [],
   "source": []
  },
  {
   "cell_type": "code",
   "execution_count": null,
   "metadata": {},
   "outputs": [],
   "source": []
  },
  {
   "cell_type": "markdown",
   "metadata": {},
   "source": [
    "## diagonal difference \n"
   ]
  },
  {
   "cell_type": "code",
   "execution_count": null,
   "metadata": {},
   "outputs": [],
   "source": []
  },
  {
   "cell_type": "code",
   "execution_count": null,
   "metadata": {},
   "outputs": [],
   "source": [
    "# O(n**2)\n",
    "\n",
    "x= [[1, 2 ,3],  \n",
    "     [4 ,5, 6],\n",
    "     [9 ,8, 9 ],]\n",
    "\n",
    "x\n",
    "columns = len(x[0])\n",
    "rows = len(x)\n",
    "# print(columns, rows)\n",
    "\n",
    "\n",
    "diagonal_difference =0\n",
    "for r in range(rows):\n",
    "    for c in range(columns):\n",
    "        if r==c:\n",
    "            print(x[r][c], x[r][columns - r-1])\n",
    "            diagonal_difference+= x[r][c]- x[r][columns - r-1]\n",
    "            # print(\"\\tf:\",r,c, \"r:\", r, columns - r-1])\n",
    "        \n",
    "abs(diagonal_difference)"
   ]
  },
  {
   "cell_type": "code",
   "execution_count": null,
   "metadata": {},
   "outputs": [],
   "source": [
    "# O(n)\n",
    "def diagonal_difference(matrix):\n",
    "  n = len(matrix)\n",
    "  primary_sum = sum(matrix[i][i] for i in range(n))\n",
    "  secondary_sum = sum(matrix[i][n - i - 1] for i in range(n))\n",
    "  return abs(primary_sum - secondary_sum)\n",
    "\n",
    "diagonal_difference(x)"
   ]
  },
  {
   "cell_type": "code",
   "execution_count": null,
   "metadata": {},
   "outputs": [],
   "source": []
  },
  {
   "cell_type": "code",
   "execution_count": null,
   "metadata": {},
   "outputs": [],
   "source": []
  },
  {
   "cell_type": "markdown",
   "metadata": {},
   "source": [
    "# Counting sort 1"
   ]
  },
  {
   "cell_type": "code",
   "execution_count": null,
   "metadata": {},
   "outputs": [],
   "source": [
    "arr=[1,1,3,2,1,0]\n",
    "count = [0] * (len(set(arr)))\n",
    "\n",
    "arr, count"
   ]
  },
  {
   "cell_type": "code",
   "execution_count": null,
   "metadata": {},
   "outputs": [],
   "source": [
    "arr=[1,1,3,2,1]\n",
    "# arr = [63, 54, 17, 78, 43, 70, 32, 97, 16, 94, 74, 18, 60, 61, 35, 83, 13, 56, 75, 52, 70, 12, 24, 37, 17, 0, 16, 64, 34, 81, 82, 24, 69, 2, 30, 61, 83, 37, 97, 16, 70, 53, 0, 61, 12, 17, 97, 67, 33, 30, 49, 70, 11, 40, 67, 94, 84, 60, 35, 58, 19, 81, 16, 14, 68, 46, 42, 81, 75, 87, 13, 84, 33, 34, 14, 96, 7, 59, 17, 98, 79, 47, 71, 75, 8, 27, 73, 66, 64, 12, 29, 35, 80, 78, 80, 6, 5, 24, 49, 82]\n",
    "\n",
    "count = [0] * (max(arr)+1)\n",
    "print(max(arr))\n",
    "for v in arr:\n",
    "  count[v] += 1\n",
    "\n",
    "count"
   ]
  },
  {
   "cell_type": "code",
   "execution_count": null,
   "metadata": {},
   "outputs": [],
   "source": []
  },
  {
   "cell_type": "code",
   "execution_count": null,
   "metadata": {},
   "outputs": [],
   "source": [
    "[i for i,v in enumerate(count) for _ in range(v)]"
   ]
  },
  {
   "cell_type": "code",
   "execution_count": null,
   "metadata": {},
   "outputs": [],
   "source": [
    "count\n",
    "lst=[]\n",
    "for i, v in enumerate(count):\n",
    "    for _ in range(v):\n",
    "        lst.append(i)\n",
    "lst"
   ]
  },
  {
   "cell_type": "code",
   "execution_count": null,
   "metadata": {},
   "outputs": [],
   "source": []
  },
  {
   "cell_type": "code",
   "execution_count": null,
   "metadata": {},
   "outputs": [],
   "source": []
  },
  {
   "cell_type": "code",
   "execution_count": null,
   "metadata": {},
   "outputs": [],
   "source": [
    "# sorted\n",
    "arr=[1,1,3,2,1]\n",
    "\n",
    "count = [0] * (max(arr)+1)\n",
    "print(max(arr))\n",
    "for v in arr:\n",
    "  count[v] += 1\n",
    "\n",
    "\n",
    "[i for i,v in enumerate(count) for _ in range(v)]"
   ]
  },
  {
   "cell_type": "code",
   "execution_count": null,
   "metadata": {},
   "outputs": [],
   "source": []
  },
  {
   "cell_type": "code",
   "execution_count": null,
   "metadata": {},
   "outputs": [],
   "source": []
  },
  {
   "cell_type": "code",
   "execution_count": null,
   "metadata": {},
   "outputs": [],
   "source": []
  },
  {
   "cell_type": "code",
   "execution_count": null,
   "metadata": {},
   "outputs": [],
   "source": []
  },
  {
   "cell_type": "code",
   "execution_count": null,
   "metadata": {},
   "outputs": [],
   "source": []
  },
  {
   "cell_type": "code",
   "execution_count": null,
   "metadata": {},
   "outputs": [],
   "source": []
  },
  {
   "cell_type": "code",
   "execution_count": null,
   "metadata": {},
   "outputs": [],
   "source": []
  },
  {
   "cell_type": "code",
   "execution_count": null,
   "metadata": {},
   "outputs": [],
   "source": []
  },
  {
   "cell_type": "code",
   "execution_count": null,
   "metadata": {},
   "outputs": [],
   "source": []
  },
  {
   "cell_type": "code",
   "execution_count": null,
   "metadata": {},
   "outputs": [],
   "source": []
  },
  {
   "cell_type": "code",
   "execution_count": null,
   "metadata": {},
   "outputs": [],
   "source": []
  },
  {
   "cell_type": "code",
   "execution_count": null,
   "metadata": {},
   "outputs": [],
   "source": []
  },
  {
   "cell_type": "code",
   "execution_count": null,
   "metadata": {},
   "outputs": [],
   "source": []
  },
  {
   "cell_type": "code",
   "execution_count": null,
   "metadata": {},
   "outputs": [],
   "source": []
  },
  {
   "cell_type": "code",
   "execution_count": null,
   "metadata": {},
   "outputs": [],
   "source": []
  },
  {
   "cell_type": "code",
   "execution_count": null,
   "metadata": {},
   "outputs": [],
   "source": []
  },
  {
   "cell_type": "code",
   "execution_count": null,
   "metadata": {},
   "outputs": [],
   "source": []
  },
  {
   "cell_type": "code",
   "execution_count": null,
   "metadata": {},
   "outputs": [],
   "source": []
  },
  {
   "cell_type": "markdown",
   "metadata": {},
   "source": [
    "# Panagram"
   ]
  },
  {
   "cell_type": "code",
   "execution_count": null,
   "metadata": {},
   "outputs": [],
   "source": [
    "s = \"We promptly judged antique ivory buckles for the next prize\"\n",
    "# s =s.split()\n",
    "result = \"pagram\" if 26 == len(set(\"\".join(s.lower().split()))) else \"non pangram\"\n",
    "result"
   ]
  },
  {
   "cell_type": "markdown",
   "metadata": {},
   "source": []
  },
  {
   "cell_type": "code",
   "execution_count": null,
   "metadata": {},
   "outputs": [],
   "source": []
  },
  {
   "cell_type": "code",
   "execution_count": null,
   "metadata": {},
   "outputs": [],
   "source": []
  },
  {
   "cell_type": "markdown",
   "metadata": {},
   "source": [
    "# Mars exploration\n",
    "A space explorer's ship crashed on Mars! They send a series of SOS messages to Earth for help. "
   ]
  },
  {
   "cell_type": "code",
   "execution_count": null,
   "metadata": {},
   "outputs": [],
   "source": []
  },
  {
   "cell_type": "code",
   "execution_count": null,
   "metadata": {},
   "outputs": [],
   "source": [
    "S = \"SOSSPSSQSSOR\"\n",
    "target_string = \"SOS\" * (len(S)//3)\n",
    "S, target_string"
   ]
  },
  {
   "cell_type": "code",
   "execution_count": null,
   "metadata": {},
   "outputs": [],
   "source": [
    "discrepancy = 0\n",
    "for current, target in zip(S, target_string):\n",
    "    if target != current:\n",
    "        discrepancy+=1\n",
    "discrepancy"
   ]
  },
  {
   "cell_type": "code",
   "execution_count": null,
   "metadata": {},
   "outputs": [],
   "source": [
    "'a'*4"
   ]
  },
  {
   "cell_type": "code",
   "execution_count": null,
   "metadata": {},
   "outputs": [],
   "source": []
  },
  {
   "cell_type": "code",
   "execution_count": null,
   "metadata": {},
   "outputs": [],
   "source": []
  },
  {
   "cell_type": "markdown",
   "metadata": {},
   "source": [
    "# Counting Valleys\n",
    "\n",
    "An avid hiker keeps meticulous records of their hikes. During the last hike that took exactly steps, for every step it was noted if it was an uphill, , or a downhill, step. Hikes always start and end at sea level, and each step up or down represents a\n",
    "\n",
    "unit change in altitude. We define the following terms:\n",
    "\n",
    "    A mountain is a sequence of consecutive steps above sea level, starting with a step up from sea level and ending with a step down to sea level.\n",
    "    A valley is a sequence of consecutive steps below sea level, starting with a step down from sea level and ending with a step up to sea level.\n",
    "\n",
    "Given the sequence of up and down steps during a hike, find and print the number of valleys walked through. "
   ]
  },
  {
   "cell_type": "code",
   "execution_count": null,
   "metadata": {},
   "outputs": [],
   "source": [
    "number_of_steps = 8\n",
    "steps = \"UDDDUDUU\"\n",
    "\n",
    "number_of_steps, steps"
   ]
  },
  {
   "cell_type": "code",
   "execution_count": null,
   "metadata": {},
   "outputs": [],
   "source": [
    "number_of_steps = 8\n",
    "steps = \"UDDDUDUU\"\n",
    "\n",
    "number_of_steps, steps\n",
    "downstate = 0\n",
    "upstate = 0\n",
    "in_valley =False\n",
    "for i, value in enumerate(steps):\n",
    "    if value == 'U':\n",
    "        upstate+=1\n",
    "    if value == 'D':\n",
    "        downstate+=1\n",
    "\n",
    "\n",
    "    if downstate > upstate and not in_valley:\n",
    "        in_valley=True\n",
    "        print(\"valley-entered\")\n",
    "    if upstate == downstate and in_valley:\n",
    "\n",
    "        print(\"valley-exit\")  \n",
    "        in_valley = False  \n",
    "\n",
    "    # print(f\"upstate:{upstate}, downstate:{downstate}, in_valley: {in_valley}\")\n",
    "\n",
    "    \n"
   ]
  },
  {
   "cell_type": "code",
   "execution_count": null,
   "metadata": {},
   "outputs": [],
   "source": [
    "number_of_steps = 8\n",
    "steps = \"UDDDUDUU\"\n",
    "\n",
    "number_of_steps, steps\n",
    "elevation = 0\n",
    "in_valley =False\n",
    "for i, value in enumerate(steps):\n",
    "    if value == 'U':\n",
    "        elevation +=1\n",
    "    if value == 'D':\n",
    "        elevation -=1\n",
    "\n",
    "\n",
    "    if elevation< 0 and not in_valley:\n",
    "        in_valley=True\n",
    "        print(\"valley-entered\")\n",
    "    if elevation == 0 and in_valley:\n",
    "\n",
    "        print(\"valley-exit\")  \n",
    "        in_valley = False  \n",
    "\n",
    "    # print(f\"elevation:{elevation}, in_valley: {in_valley}\")\n",
    "\n",
    "    \n"
   ]
  },
  {
   "cell_type": "code",
   "execution_count": null,
   "metadata": {},
   "outputs": [],
   "source": [
    "number_of_steps = 8\n",
    "steps = \"UDDDUDUU\"\n",
    "\n",
    "number_of_steps, steps\n",
    "elevation = valleys = 0\n",
    "for i, value in enumerate(steps):\n",
    "    elevation+= 1 if value == 'U' else -1\n",
    "\n",
    "    if elevation == 0 and value == 'U':\n",
    "        valleys += 1\n",
    "\n",
    "    # print(f\"elevation:{elevation}, in_valley: {in_valley}\")\n",
    "\n",
    "    \n",
    "valleys"
   ]
  },
  {
   "cell_type": "code",
   "execution_count": null,
   "metadata": {},
   "outputs": [],
   "source": [
    "def countingValleys(steps, path):\n",
    "    elevation = valleys = 0\n",
    "    for step in path:\n",
    "        elevation += 1 if step == 'U' else -1\n",
    "        if elevation == 0 and step == 'U':\n",
    "            valleys += 1\n",
    "    return valleys"
   ]
  },
  {
   "cell_type": "code",
   "execution_count": null,
   "metadata": {},
   "outputs": [],
   "source": []
  },
  {
   "cell_type": "code",
   "execution_count": null,
   "metadata": {},
   "outputs": [],
   "source": []
  },
  {
   "cell_type": "code",
   "execution_count": null,
   "metadata": {},
   "outputs": [],
   "source": []
  },
  {
   "cell_type": "code",
   "execution_count": null,
   "metadata": {},
   "outputs": [],
   "source": []
  },
  {
   "cell_type": "code",
   "execution_count": null,
   "metadata": {},
   "outputs": [],
   "source": []
  },
  {
   "cell_type": "code",
   "execution_count": null,
   "metadata": {},
   "outputs": [],
   "source": []
  },
  {
   "cell_type": "code",
   "execution_count": null,
   "metadata": {},
   "outputs": [],
   "source": []
  },
  {
   "cell_type": "code",
   "execution_count": null,
   "metadata": {},
   "outputs": [],
   "source": []
  },
  {
   "cell_type": "code",
   "execution_count": null,
   "metadata": {},
   "outputs": [],
   "source": []
  },
  {
   "cell_type": "markdown",
   "metadata": {},
   "source": [
    "# permuting two arrays"
   ]
  },
  {
   "cell_type": "code",
   "execution_count": null,
   "metadata": {},
   "outputs": [],
   "source": []
  },
  {
   "cell_type": "code",
   "execution_count": null,
   "metadata": {},
   "outputs": [],
   "source": [
    "k = 10\n",
    "A = [2, 1, 3]\n",
    "B = [7, 8, 9]\n",
    "\n",
    "def checking_sum(k, A, B):\n",
    "    A.sort()\n",
    "    B.sort(reverse=True)\n",
    "    for a, b in zip(A,B):\n",
    "        if a + b < k:\n",
    "            print(a+b)\n",
    "            return False\n",
    "        \n",
    "    return True\n",
    "\n",
    "\n",
    "checking_sum(k, A, B)"
   ]
  },
  {
   "cell_type": "code",
   "execution_count": null,
   "metadata": {},
   "outputs": [],
   "source": []
  },
  {
   "cell_type": "code",
   "execution_count": null,
   "metadata": {},
   "outputs": [],
   "source": []
  },
  {
   "cell_type": "code",
   "execution_count": null,
   "metadata": {},
   "outputs": [],
   "source": []
  },
  {
   "cell_type": "code",
   "execution_count": null,
   "metadata": {},
   "outputs": [],
   "source": []
  },
  {
   "cell_type": "markdown",
   "metadata": {},
   "source": [
    "# Subarray Division 2\n",
    "Two children, Lily and Ron, want to share a chocolate bar. Each of the squares has an integer on it. "
   ]
  },
  {
   "cell_type": "code",
   "execution_count": null,
   "metadata": {},
   "outputs": [],
   "source": [
    "s= [2,2,1,3,2]\n",
    "d= 4\n",
    "m=2\n",
    "\n",
    "for i in range(len(s) -m +1):\n",
    "    # print(i)\n",
    "    # sum loop\n",
    "    temp_sum =0\n",
    "    \n",
    "    for t in range(m):\n",
    "        temp_sum += s[i+t]\n",
    "        # print(temp_sum)\n",
    "    if temp_sum == d:\n",
    "        print(i, i+m, s[i:i+m])\n",
    "    "
   ]
  },
  {
   "cell_type": "code",
   "execution_count": null,
   "metadata": {},
   "outputs": [],
   "source": [
    "s= [2,2,1,3,2]\n",
    "d= 4\n",
    "m=2\n",
    "count=0\n",
    "\n",
    "\n",
    "for i in range(len(s) -m +1):\n",
    "    current_sum =sum(s[i:i+m])\n",
    "    if(current_sum) == d: \n",
    "        count+=1\n",
    "        print(s[i:i+m])\n",
    "\n",
    "count"
   ]
  },
  {
   "cell_type": "code",
   "execution_count": null,
   "metadata": {},
   "outputs": [],
   "source": [
    "s[0:0+2]"
   ]
  },
  {
   "cell_type": "code",
   "execution_count": null,
   "metadata": {},
   "outputs": [],
   "source": []
  },
  {
   "cell_type": "code",
   "execution_count": null,
   "metadata": {},
   "outputs": [],
   "source": []
  },
  {
   "cell_type": "code",
   "execution_count": null,
   "metadata": {},
   "outputs": [],
   "source": []
  },
  {
   "cell_type": "code",
   "execution_count": null,
   "metadata": {},
   "outputs": [],
   "source": []
  },
  {
   "cell_type": "code",
   "execution_count": null,
   "metadata": {},
   "outputs": [],
   "source": []
  },
  {
   "cell_type": "code",
   "execution_count": null,
   "metadata": {},
   "outputs": [],
   "source": []
  },
  {
   "cell_type": "markdown",
   "metadata": {},
   "source": []
  },
  {
   "cell_type": "markdown",
   "metadata": {},
   "source": [
    "# Sales by Match"
   ]
  },
  {
   "cell_type": "code",
   "execution_count": null,
   "metadata": {},
   "outputs": [],
   "source": [
    "ar = [10, 20, 20, 10, 10, 30, 50, 10, 20]\n",
    "\n",
    "color_count={}\n",
    "pairs =0\n",
    "for i in ar:\n",
    "    # print(i)\n",
    "    if i in color_count:\n",
    "        color_count[i] +=1\n",
    "    else:\n",
    "        color_count[i] =1\n",
    "print(color_count)\n",
    "# for count in color_count.values():\n",
    "#     pairs += count//2\n",
    "#     print(count//2)\n",
    "# pairs"
   ]
  },
  {
   "cell_type": "code",
   "execution_count": null,
   "metadata": {},
   "outputs": [],
   "source": []
  },
  {
   "cell_type": "code",
   "execution_count": null,
   "metadata": {},
   "outputs": [],
   "source": []
  },
  {
   "cell_type": "markdown",
   "metadata": {},
   "source": [
    "# Migratory Birds"
   ]
  },
  {
   "cell_type": "code",
   "execution_count": null,
   "metadata": {},
   "outputs": [],
   "source": [
    "arr = [1,1,2,2,3,7]\n",
    "\n",
    "{i:v for i,v in enumerate(arr) if i in }\n",
    "\n",
    "# for i in "
   ]
  },
  {
   "cell_type": "code",
   "execution_count": null,
   "metadata": {},
   "outputs": [],
   "source": [
    "arr = [1,1,2,2,3, 7,7]\n",
    "\n",
    "count_dict = {}\n",
    "\n",
    "for value in arr:\n",
    "    if value in count_dict:\n",
    "        count_dict[value] += 1\n",
    "    else:\n",
    "        count_dict[value] = 1\n",
    "\n",
    "print(count_dict) \n",
    "\n",
    "sorted_items = sorted(count_dict.items(), key= lambda x: x[1], reverse=True)\n",
    "sorted_items[0][0]"
   ]
  },
  {
   "cell_type": "code",
   "execution_count": null,
   "metadata": {},
   "outputs": [],
   "source": [
    "{k:v for k,v in sorted_items}"
   ]
  },
  {
   "cell_type": "code",
   "execution_count": null,
   "metadata": {},
   "outputs": [],
   "source": [
    "arr = [1,1,2,2,3, 7,7,7, 6,6,6]\n",
    "\n",
    "bird_count = {}\n",
    "\n",
    "for value in arr:\n",
    "    if value in bird_count:\n",
    "        bird_count[value] += 1\n",
    "    else:\n",
    "        bird_count[value] = 1\n",
    "        \n",
    "    # Find the bird type with the maximum count\n",
    "print(bird_count)\n",
    "max_count = max(bird_count.values())\n",
    "print(max_count)\n",
    "\n",
    "# Initialize a variable to hold the smallest bird type ID with the max count\n",
    "smallest_bird_id = float('inf')\n",
    "\n",
    "\n",
    "smallest_bird_id = float('inf')\n",
    "for bird_id, count in bird_count.items():\n",
    "    if count == max_count and bird_id<smallest_bird_id:\n",
    "        smallest_bird_id = bird_id\n",
    "\n",
    "print(smallest_bird_id)"
   ]
  },
  {
   "cell_type": "code",
   "execution_count": null,
   "metadata": {},
   "outputs": [],
   "source": []
  },
  {
   "cell_type": "code",
   "execution_count": null,
   "metadata": {},
   "outputs": [],
   "source": []
  },
  {
   "cell_type": "code",
   "execution_count": null,
   "metadata": {},
   "outputs": [],
   "source": []
  },
  {
   "cell_type": "code",
   "execution_count": null,
   "metadata": {},
   "outputs": [],
   "source": []
  },
  {
   "cell_type": "code",
   "execution_count": null,
   "metadata": {},
   "outputs": [],
   "source": []
  },
  {
   "cell_type": "code",
   "execution_count": null,
   "metadata": {},
   "outputs": [],
   "source": []
  },
  {
   "cell_type": "code",
   "execution_count": null,
   "metadata": {},
   "outputs": [],
   "source": []
  },
  {
   "cell_type": "code",
   "execution_count": null,
   "metadata": {},
   "outputs": [],
   "source": []
  },
  {
   "cell_type": "markdown",
   "metadata": {},
   "source": [
    "# XOR strings 3"
   ]
  },
  {
   "cell_type": "code",
   "execution_count": null,
   "metadata": {},
   "outputs": [],
   "source": [
    "s = \"10101\"\n",
    "t = \"00101\"\n"
   ]
  },
  {
   "cell_type": "code",
   "execution_count": null,
   "metadata": {},
   "outputs": [],
   "source": [
    "length = max(len(s), len(t))\n",
    "length    "
   ]
  },
  {
   "cell_type": "code",
   "execution_count": null,
   "metadata": {},
   "outputs": [],
   "source": [
    "[0 if s[i] == t[i] else 1 for i in range(len(s))]"
   ]
  },
  {
   "cell_type": "code",
   "execution_count": null,
   "metadata": {},
   "outputs": [],
   "source": []
  },
  {
   "cell_type": "code",
   "execution_count": null,
   "metadata": {},
   "outputs": [],
   "source": []
  },
  {
   "cell_type": "code",
   "execution_count": null,
   "metadata": {},
   "outputs": [],
   "source": []
  },
  {
   "cell_type": "markdown",
   "metadata": {},
   "source": [
    "# Drawing Book\n",
    "A teacher asks the class to open their books to a page number. A student can either start turning pages from the front of the book or from the back of the book. They always turn pages one at a time. When they open the book, page is always on the right side:\n",
    "\n",
    "\n",
    "    int n: the number of pages in the book\n",
    "    int p: the page number to turn to\n"
   ]
  },
  {
   "cell_type": "code",
   "execution_count": null,
   "metadata": {},
   "outputs": [],
   "source": [
    "def pageCount(n, p):\n",
    "    from_front = p//2\n",
    "    from_back = (n//2) - (p//2)\n",
    "    return min(from_front, from_back)\n",
    "# Example usage:\n",
    "n = 6  # Total pages\n",
    "p = 4  # Target page\n",
    "print(pageCount(n, p))  # Output: 1\n"
   ]
  },
  {
   "cell_type": "code",
   "execution_count": null,
   "metadata": {},
   "outputs": [],
   "source": []
  },
  {
   "cell_type": "code",
   "execution_count": null,
   "metadata": {},
   "outputs": [],
   "source": []
  },
  {
   "cell_type": "code",
   "execution_count": null,
   "metadata": {},
   "outputs": [],
   "source": []
  },
  {
   "cell_type": "code",
   "execution_count": null,
   "metadata": {},
   "outputs": [],
   "source": []
  },
  {
   "cell_type": "code",
   "execution_count": null,
   "metadata": {},
   "outputs": [],
   "source": []
  },
  {
   "cell_type": "code",
   "execution_count": null,
   "metadata": {},
   "outputs": [],
   "source": []
  },
  {
   "cell_type": "code",
   "execution_count": null,
   "metadata": {},
   "outputs": [],
   "source": []
  },
  {
   "cell_type": "markdown",
   "metadata": {},
   "source": [
    "# Flipping bits"
   ]
  },
  {
   "cell_type": "markdown",
   "metadata": {},
   "source": [
    "You will be given a list of 32 bit unsigned integers. Flip all the bits ( and ) and return the result as an unsigned integer. "
   ]
  },
  {
   "cell_type": "code",
   "execution_count": null,
   "metadata": {},
   "outputs": [],
   "source": [
    "def flipping_bits(n):\n",
    "    bit32='{:032b}'.format(n)\n",
    "    print(bit32)\n",
    "\n",
    "    mutated = \"\".join(['1' if value=='0' else '0' for value in bit32])\n",
    "    # print(mutated)\n",
    "\n",
    "    flipped_numer = ''.join(mutated)\n",
    "    print(flipped_numer)\n",
    "    print(int(flipped_numer,2))\n",
    "    \n",
    "\n",
    "\n",
    "n = 12\n",
    "flipping_bits(n)"
   ]
  },
  {
   "cell_type": "code",
   "execution_count": null,
   "metadata": {},
   "outputs": [],
   "source": [
    "def flipping_bits(n):\n",
    "    bit32 = '{:032b}'.format(n)  # Convert to 32-bit binary string\n",
    "    print(f\"Original 32-bit binary: {bit32}\")\n",
    "\n",
    "    # Flip bits using list comprehension\n",
    "    mutated = ['1' if value == '0' else '0' for value in bit32]\n",
    "    print(f\"Flipped bits: {''.join(mutated)}\")\n",
    "\n",
    "    # Convert back to integer\n",
    "    flipped_number = int(''.join(mutated), 2) #int(..., 2): Converts the binary string back to an integer. The 2 indicates that the string is in base 2 (binary).\n",
    "    print(f\"Flipped integer: {flipped_number}\")\n",
    "\n",
    "    return flipped_number\n",
    "\n",
    "# Example usage\n",
    "n = 2147483647\n",
    "flipping_bits(n)\n"
   ]
  },
  {
   "cell_type": "code",
   "execution_count": null,
   "metadata": {},
   "outputs": [],
   "source": [
    "def flipping_bits(n):\n",
    "   return n ^ 0xFFFFFFFFF  # 32-BIT\n",
    "\n",
    "# Example usage\n",
    "n = 2147483647\n",
    "flipping_bits(n)\n"
   ]
  },
  {
   "cell_type": "code",
   "execution_count": null,
   "metadata": {},
   "outputs": [],
   "source": [
    "def flipping_bits(n):\n",
    "    bit32 = '{:032b}'.format(n)  # Convert to 32-bit binary string\n",
    "    print(f\"Original 32-bit binary: {bit32}\")\n",
    "\n",
    "    flipped_number = n ^ 0xFFFFFFFF\n",
    "    # Flip bits using list comprehension\n",
    "    \n",
    "    # Convert back to integer from \n",
    "    # flipped_number = int(''.join(mutated), 2) #int(..., 2): Converts the binary string back to an integer. The 2 indicates that the string is in base 2 (binary).\n",
    "    \n",
    "    flippedbit32 = '{:032b}'.format(flipped_number)  # Convert to 32-bit binary string\n",
    "    print(f\"Original 32-bit binary: {flippedbit32}\")\n",
    "    print(f\"Flipped integer: {flipped_number}\")\n",
    "\n",
    "    return flipped_number\n",
    "\n",
    "# Example usage\n",
    "n = 2147083647\n",
    "flipping_bits(n)\n"
   ]
  },
  {
   "cell_type": "code",
   "execution_count": null,
   "metadata": {},
   "outputs": [],
   "source": [
    "2^7"
   ]
  },
  {
   "cell_type": "code",
   "execution_count": null,
   "metadata": {},
   "outputs": [],
   "source": [
    "    bit32 = '{:04b}'.format(2)  # Convert to 32-bit binary string\n",
    "    print(f\"Original 32-bit binary: {bit32}\")\n",
    "    bit32 = '{:04b}'.format(7)  # Convert to 32-bit binary string\n",
    "    print(f\"Original 32-bit binary: {bit32}\")\n",
    "    x = 2^7\n",
    "    bit32 = '{:04b}'.format(x)  # Convert to 32-bit binary string\n",
    "    print(f\"Original 32-bit binary: {bit32}\")\n",
    "     \n"
   ]
  },
  {
   "cell_type": "markdown",
   "metadata": {},
   "source": [
    "##### XOR\n",
    "1. different:1\n",
    "2. same:0"
   ]
  },
  {
   "cell_type": "code",
   "execution_count": null,
   "metadata": {},
   "outputs": [],
   "source": []
  },
  {
   "cell_type": "code",
   "execution_count": null,
   "metadata": {},
   "outputs": [],
   "source": []
  },
  {
   "cell_type": "code",
   "execution_count": null,
   "metadata": {},
   "outputs": [],
   "source": []
  },
  {
   "cell_type": "code",
   "execution_count": null,
   "metadata": {},
   "outputs": [],
   "source": [
    "#"
   ]
  },
  {
   "cell_type": "markdown",
   "metadata": {},
   "source": [
    "# swapping variables using bit"
   ]
  },
  {
   "cell_type": "code",
   "execution_count": null,
   "metadata": {},
   "outputs": [],
   "source": [
    "a=5;b= 7\n",
    "bit32 = '{:08b}'.format(a)  # Convert to 32-bit binary string\n",
    "print(f\"{a} - 8-bit binary: {bit32}\")\n",
    "\n",
    "bit32 = '{:08b}'.format(b)  # Convert to 32-bit binary string\n",
    "print(f\"{b} - 8-bit binary: {bit32}\")\n",
    "\n",
    "a = a^b # a contains a^b and b is unchanged a:a^b\n",
    "bit32 = '{:08b}'.format(a)  # Convert to 32-bit binary string\n",
    "print(f\"{a} - 8-bit binary: {bit32}\")\n",
    "bit32 = '{:08b}'.format(b)  # Convert to 32-bit binary string\n",
    "print(f\"{b} - 8-bit binary: {bit32}\")\n",
    "\n",
    "b = a^b  # b:(a^b)^b  ; b^b=0\n",
    "\n",
    "bit32 = '{:08b}'.format(a)  # Convert to 32-bit binary string\n",
    "print(f\"{a} - 8-bit binary: {bit32}\")\n",
    "bit32 = '{:08b}'.format(b)  # Convert to 32-bit binary string\n",
    "print(f\"{b} - 8-bit binary: {bit32}\")\n",
    "\n",
    "a = a ^ b # (a^(a^b)) ; a^a=0 = b\n",
    "\n",
    "bit32 = '{:08b}'.format(a)  # Convert to 32-bit binary string\n",
    "print(f\"{a} - 8-bit binary: {bit32}\")\n",
    "bit32 = '{:08b}'.format(b)  # Convert to 32-bit binary string\n",
    "print(f\"{b} - 8-bit binary: {bit32}\")\n"
   ]
  },
  {
   "cell_type": "code",
   "execution_count": null,
   "metadata": {},
   "outputs": [],
   "source": [
    "a, b = 5,7 \n",
    "\n",
    "a = a ^ b\n",
    "b = a^b # a^ a ^b\n",
    "a = a^b # a^b ^b \n",
    "a,b"
   ]
  },
  {
   "cell_type": "code",
   "execution_count": null,
   "metadata": {},
   "outputs": [],
   "source": [
    "a=5\n",
    "b=7\n",
    "x = a^b\n",
    "x^b"
   ]
  },
  {
   "cell_type": "code",
   "execution_count": null,
   "metadata": {},
   "outputs": [],
   "source": []
  },
  {
   "cell_type": "code",
   "execution_count": null,
   "metadata": {},
   "outputs": [],
   "source": [
    "# Initial value\n",
    "a = 7\n",
    "print(f\"Original value: {a} (Binary: {a:08b})\")\n",
    "\n",
    "# XOR with itself results in 0\n",
    "a = a ^ a\n",
    "print(f\"After a ^ a: {a} (Binary: {a:08b})\")\n",
    "\n",
    "# XOR with the original number restores the original value\n",
    "a = a ^ 7\n",
    "print(f\"After a ^ 7: {a} (Binary: {a:08b})\")\n"
   ]
  },
  {
   "cell_type": "code",
   "execution_count": null,
   "metadata": {},
   "outputs": [],
   "source": []
  },
  {
   "cell_type": "markdown",
   "metadata": {},
   "source": [
    "# leetcode reverse bits"
   ]
  },
  {
   "cell_type": "code",
   "execution_count": null,
   "metadata": {},
   "outputs": [],
   "source": [
    "def reverseBits( n):\n",
    "    bit32 = '{:032b}'.format(n)  # Convert to 32-bit binary string\n",
    "    \n",
    "    # Flip bits using list comprehension\n",
    "    reversed_bits = bit32[::-1]\n",
    "\n",
    "    flipped_number = int(''.join(reversed_bits), 2) #int(..., 2): Converts the binary string back to an integer. \n",
    "    \n",
    "    return flipped_number\n",
    "\n",
    "reverseBits(43261596)"
   ]
  },
  {
   "cell_type": "code",
   "execution_count": null,
   "metadata": {},
   "outputs": [],
   "source": []
  },
  {
   "cell_type": "code",
   "execution_count": null,
   "metadata": {},
   "outputs": [],
   "source": []
  },
  {
   "cell_type": "code",
   "execution_count": null,
   "metadata": {},
   "outputs": [],
   "source": []
  },
  {
   "cell_type": "code",
   "execution_count": null,
   "metadata": {},
   "outputs": [],
   "source": []
  },
  {
   "cell_type": "code",
   "execution_count": null,
   "metadata": {},
   "outputs": [],
   "source": []
  },
  {
   "cell_type": "code",
   "execution_count": null,
   "metadata": {},
   "outputs": [],
   "source": []
  },
  {
   "cell_type": "markdown",
   "metadata": {},
   "source": [
    "# 136 single number"
   ]
  },
  {
   "cell_type": "code",
   "execution_count": null,
   "metadata": {},
   "outputs": [],
   "source": []
  },
  {
   "cell_type": "code",
   "execution_count": null,
   "metadata": {},
   "outputs": [],
   "source": [
    "n = [4,1,2,2,1]\n",
    "x=0\n",
    "for i in n:\n",
    "    x= x^i\n",
    "    print(f\"{i} in bits: {i:08b} | {x} in bits: {x:08b}\")\n",
    "\n",
    "print(x)"
   ]
  },
  {
   "cell_type": "code",
   "execution_count": null,
   "metadata": {},
   "outputs": [],
   "source": [
    "# \n",
    "from functools import reduce\n",
    "\n",
    "class Solution:\n",
    "    def singleNumber(self, nums):\n",
    "        \"\"\"\n",
    "        Find the single number in a list where every other number appears exactly twice.\n",
    "        \n",
    "        :type nums: List[int]\n",
    "        :rtype: int\n",
    "        \"\"\"\n",
    "        return reduce(lambda x, y: x ^ y, nums)"
   ]
  },
  {
   "cell_type": "markdown",
   "metadata": {},
   "source": [
    "### The reduce(fun,seq) function is used to apply a particular function passed in its argument to all of the list elements mentioned in the sequence passed along.This function is defined in “functools” module."
   ]
  },
  {
   "cell_type": "code",
   "execution_count": null,
   "metadata": {},
   "outputs": [],
   "source": []
  },
  {
   "cell_type": "markdown",
   "metadata": {},
   "source": [
    "# flipping matrix"
   ]
  },
  {
   "cell_type": "code",
   "execution_count": null,
   "metadata": {},
   "outputs": [],
   "source": [
    "import torch\n",
    "torch.arange(1,5).reshape(2,2)\n",
    "sample_input = torch.tensor([[112,42, 83, 119],[56, 125, 56, 49],[15,78,101,43],[62,98,114,108]])\n",
    "sample_input"
   ]
  },
  {
   "cell_type": "code",
   "execution_count": null,
   "metadata": {},
   "outputs": [],
   "source": []
  },
  {
   "cell_type": "code",
   "execution_count": null,
   "metadata": {},
   "outputs": [],
   "source": [
    "# for i in range(len(sample_input)):\n",
    "#     # print(f\"{sample_input[i,:]}: {sum(sample_input[i,:])}  ; {sample_input[:,i]}: {sum(sample_input[:,i])}\")\n",
    "#     print(f\"{sample_input[i,:]}: {torch.max(sample_input[i,:])}  ; {sample_input[:,i]}: {torch.max(sample_input[:,i])}\")\n",
    "    "
   ]
  },
  {
   "cell_type": "code",
   "execution_count": null,
   "metadata": {},
   "outputs": [],
   "source": [
    "\n",
    "sum = 0\n",
    "length = len(sample_input)\n",
    "\n",
    "for r in range(length//2):\n",
    "    for c in range(length//2):\n",
    "\n",
    "        sum+= max(\n",
    "            sample_input[r,c],\n",
    "            sample_input[r, length-1-c],\n",
    "            sample_input[length - 1- r, c ],\n",
    "            sample_input[length - 1 -r , length -1 -c]   \n",
    "            )\n",
    "        print(sample_input[r,c],\"|\",\n",
    "            sample_input[r, length-1-c],\"\\n\",\n",
    "            sample_input[length - 1- r, c ],\"|\",\n",
    "            sample_input[length - 1 -r , length -1 -c],\"\\t\", sum,\"\\n\",\n",
    "            )\n",
    "print(sum)"
   ]
  },
  {
   "cell_type": "code",
   "execution_count": null,
   "metadata": {},
   "outputs": [],
   "source": []
  },
  {
   "cell_type": "markdown",
   "metadata": {},
   "source": [
    "To maximize the sum of the `n x n` top-left quadrant of a `2n x 2n` matrix, we need to carefully consider each element `(i, j)` in this quadrant. For each such element, you can potentially place any one of four elements into this position by flipping rows and/or columns. \n",
    "\n",
    "### Step-by-Step Explanation:\n",
    "\n",
    "For each position `(i, j)` in the top-left `n x n` submatrix, the four potential candidates are:\n",
    "1. **Top-left element**: The element at `(i, j)` itself.\n",
    "2. **Top-right element**: The element at `(i, 2n-1-j)`. This element is found by flipping the column that contains `(i, j)`.\n",
    "3. **Bottom-left element**: The element at `(2n-1-i, j)`. This element is found by flipping the row that contains `(i, j)`.\n",
    "4. **Bottom-right element**: The element at `(2n-1-i, 2n-1-j)`. This element is found by flipping both the row and column that contain `(i, j)`.\n",
    "\n",
    "![alt text](flipping_matrix.png)\n",
    "\n",
    "\n",
    "\n",
    "\n",
    "\n",
    "### Example Matrix\n",
    "Let's take a `4x4` matrix (for `n=2`) as an example:\n",
    "```plaintext\n",
    "Matrix:\n",
    "112  42  83 119\n",
    " 56 125  56  49\n",
    " 15  78 101  43\n",
    " 62  98 114 108\n",
    "```\n",
    "\n",
    "### Analyze Each Position in the Top-Left `2x2` Submatrix:\n",
    "\n",
    "#### Position (0, 0)\n",
    "- Candidates:\n",
    "  1. Top-left: `matrix[0][0] = 112`\n",
    "  2. Top-right: `matrix[0][3] = 119`\n",
    "  3. Bottom-left: `matrix[3][0] = 62`\n",
    "  4. Bottom-right: `matrix[3][3] = 108`\n",
    "- **Maximum Value**: `max(112, 119, 62, 108) = 119`\n",
    "\n",
    "#### Position (0, 1)\n",
    "- Candidates:\n",
    "  1. Top-left: `matrix[0][1] = 42`\n",
    "  2. Top-right: `matrix[0][2] = 83`\n",
    "  3. Bottom-left: `matrix[3][1] = 98`\n",
    "  4. Bottom-right: `matrix[3][2] = 114`\n",
    "- **Maximum Value**: `max(42, 83, 98, 114) = 114`\n",
    "\n",
    "#### Position (1, 0)\n",
    "- Candidates:\n",
    "  1. Top-left: `matrix[1][0] = 56`\n",
    "  2. Top-right: `matrix[1][3] = 49`\n",
    "  3. Bottom-left: `matrix[2][0] = 15`\n",
    "  4. Bottom-right: `matrix[2][3] = 43`\n",
    "- **Maximum Value**: `max(56, 49, 15, 43) = 56`\n",
    "\n",
    "#### Position (1, 1)\n",
    "- Candidates:\n",
    "  1. Top-left: `matrix[1][1] = 125`\n",
    "  2. Top-right: `matrix[1][2] = 56`\n",
    "  3. Bottom-left: `matrix[2][1] = 78`\n",
    "  4. Bottom-right: `matrix[2][2] = 101`\n",
    "- **Maximum Value**: `max(125, 56, 78, 101) = 125`\n",
    "\n",
    "### Resulting Maximum Top-Left Quadrant\n",
    "- The top-left quadrant after choosing the maximum possible values:\n",
    "```plaintext\n",
    "119  114\n",
    " 56  125\n",
    "```\n",
    "\n",
    "### Final Sum\n",
    "- The sum of this quadrant is `119 + 114 + 56 + 125 = 414`.\n",
    "\n",
    "This approach ensures that the sum of the elements in the top-left quadrant of the matrix is maximized after any number of flips."
   ]
  },
  {
   "cell_type": "code",
   "execution_count": null,
   "metadata": {},
   "outputs": [],
   "source": []
  },
  {
   "cell_type": "code",
   "execution_count": null,
   "metadata": {},
   "outputs": [],
   "source": [
    "torch.arange(1,36+1).reshape(6,6)\n"
   ]
  },
  {
   "cell_type": "code",
   "execution_count": null,
   "metadata": {},
   "outputs": [],
   "source": [
    "import torch\n",
    "sample_input = torch.arange(1,36+1).reshape(6,6)\n",
    "# sample_input = torch.tensor([[1,2, 3, 119,2,4],[56, 125, 56, 49],[15,78,101,43],[62,98,114,108]])\n",
    "print(sample_input)\n",
    "\n",
    "sum = 0\n",
    "length = len(sample_input)\n",
    "\n",
    "for r in range(length//2):\n",
    "    for c in range(length//2):\n",
    "\n",
    "        sum+= max(\n",
    "            sample_input[r,c],\n",
    "            sample_input[r, length-1-c],\n",
    "            sample_input[length - 1- r, c ],\n",
    "            sample_input[length - 1 -r , length -1 -c]   \n",
    "            )\n",
    "        print(sample_input[r,c],\"|\",\n",
    "            sample_input[r, length-1-c],\"\\n\",\n",
    "            sample_input[length - 1- r, c ],\"|\",\n",
    "            sample_input[length - 1 -r , length -1 -c],\"\\t\", sum,\"\\n\",\n",
    "            )\n",
    "print(sum)"
   ]
  },
  {
   "cell_type": "code",
   "execution_count": null,
   "metadata": {},
   "outputs": [],
   "source": []
  },
  {
   "cell_type": "code",
   "execution_count": null,
   "metadata": {},
   "outputs": [],
   "source": []
  },
  {
   "cell_type": "code",
   "execution_count": null,
   "metadata": {},
   "outputs": [],
   "source": [
    "# sample_output = torch.tensor([[4,2],[1,3]])\n",
    "# sample_output"
   ]
  },
  {
   "cell_type": "markdown",
   "metadata": {},
   "source": []
  },
  {
   "cell_type": "code",
   "execution_count": null,
   "metadata": {},
   "outputs": [],
   "source": []
  },
  {
   "cell_type": "code",
   "execution_count": null,
   "metadata": {},
   "outputs": [],
   "source": []
  },
  {
   "cell_type": "code",
   "execution_count": null,
   "metadata": {},
   "outputs": [],
   "source": []
  },
  {
   "cell_type": "code",
   "execution_count": null,
   "metadata": {},
   "outputs": [],
   "source": []
  },
  {
   "cell_type": "code",
   "execution_count": null,
   "metadata": {},
   "outputs": [],
   "source": []
  },
  {
   "cell_type": "code",
   "execution_count": null,
   "metadata": {},
   "outputs": [],
   "source": []
  },
  {
   "cell_type": "code",
   "execution_count": null,
   "metadata": {},
   "outputs": [],
   "source": []
  },
  {
   "cell_type": "markdown",
   "metadata": {},
   "source": [
    "# Zig-Zag sequence"
   ]
  },
  {
   "cell_type": "code",
   "execution_count": null,
   "metadata": {},
   "outputs": [],
   "source": [
    "input = [2, 3, 5, 1, 4]\n",
    "\n",
    "\n",
    "target = [1, 4, 5, 3, 2]\n",
    "input,target"
   ]
  },
  {
   "cell_type": "code",
   "execution_count": null,
   "metadata": {},
   "outputs": [],
   "source": [
    "def findZigZagSequence(a, n):\n",
    "    \n",
    "    a.sort()\n",
    "    print(f\"list:{a}, n: {n}\")\n",
    "    \n",
    "    mid = int((n + 1)/2)\n",
    "    print(f\"mid: {mid}\")\n",
    "    print(f\"before\\ta[mid]: {a[mid]}, a[n-1]]: {a[n-1]} | list:{a}\")\n",
    "    \n",
    "    a[mid], a[n-1] = a[n-1], a[mid]\n",
    "    print(f\"swapped\\ta[mid]: {a[mid]}, a[n-1]]: {a[n-1]} | list:{a}\")\n",
    "\n",
    "\n",
    "    st = mid + 1\n",
    "    ed = n - 1\n",
    "    while(st <= ed):\n",
    "        a[st], a[ed] = a[ed], a[st]\n",
    "        st = st + 1\n",
    "        ed = ed + 1\n",
    "\n",
    "    for i in range (n):\n",
    "        if i == n-1:\n",
    "            print(a[i])\n",
    "        else:\n",
    "            print(a[i], end = ' ')\n",
    "    return\n",
    "findZigZagSequence(input, len(input))"
   ]
  },
  {
   "cell_type": "code",
   "execution_count": null,
   "metadata": {},
   "outputs": [
    {
     "data": {
      "text/plain": [
       "(3, 3)"
      ]
     },
     "execution_count": 30,
     "metadata": {},
     "output_type": "execute_result"
    }
   ],
   "source": [
    "n=5\n",
    "int((n + 1)/2),(n+1)//2 "
   ]
  },
  {
   "cell_type": "code",
   "execution_count": null,
   "metadata": {},
   "outputs": [
    {
     "data": {
      "text/plain": [
       "'x: \\x1b[1msd'"
      ]
     },
     "execution_count": 31,
     "metadata": {},
     "output_type": "execute_result"
    }
   ],
   "source": []
  },
  {
   "cell_type": "code",
   "execution_count": null,
   "metadata": {},
   "outputs": [],
   "source": [
    "\n",
    "\n"
   ]
  },
  {
   "cell_type": "code",
   "execution_count": null,
   "metadata": {},
   "outputs": [
    {
     "name": "stdout",
     "output_type": "stream",
     "text": [
      "Sorted list:\u001b[1m [1, 2, 3, 4, 5, 6, 7, 8, 9]\u001b[0m, n: \u001b[1m9\u001b[0m, mid: \u001b[1m4\u001b[0m\n",
      "To be swapped: [6, 7, 8, 9]\n",
      "\tafter swapping: [9, 7, 8, 6]\n",
      "\tinitial: 5; end: 8\n",
      "\tafter swapping: [9, 8, 7]\n",
      "\tinitial: 6; end: 7\n",
      "Final list: [1, 2, 3, 4, 5, 9, 8, 7, 6]\n"
     ]
    }
   ],
   "source": [
    "\n",
    "# Initialize the input list and sort it\n",
    "input = [9, 8, 7, 6, 2, 3, 5, 1, 4]\n",
    "a = sorted(input)  # Sort the list\n",
    "n = len(a)\n",
    "\n",
    "# Find the midpoint\n",
    "mid = n // 2\n",
    "print(f\"Sorted list:\\033[1m {a}\\033[0m, n: \\033[1m{n}\\033[0m, mid: \\033[1m{mid}\\033[0m\")\n",
    "\n",
    "# Initialize the range for swapping\n",
    "initial = mid + 1\n",
    "end = n - 1\n",
    "print(f\"To be swapped: {a[initial:end + 1]}\")\n",
    "\n",
    "# Perform the swapping\n",
    "while initial < end:\n",
    "    a[initial], a[end] = a[end], a[initial]\n",
    "    print(f\"\\tafter swapping: {a[mid + 1:end + 1]}\")\n",
    "    print(f\"\\tinitial: {initial}; end: {end}\")\n",
    "    initial += 1\n",
    "    end -= 1\n",
    "\n",
    "# Print the final result\n",
    "print(f\"Final list: {a}\")\n"
   ]
  },
  {
   "cell_type": "code",
   "execution_count": null,
   "metadata": {},
   "outputs": [],
   "source": [
    "# print(\"\\033[1m\" + \"This text will be bold\" + \"\\033[0m\")"
   ]
  },
  {
   "cell_type": "code",
   "execution_count": null,
   "metadata": {},
   "outputs": [],
   "source": [
    "def findZigZagSequence(a, n):\n",
    "    a.sort()  # Sort the array\n",
    "    mid = n // 2  # Find the midpoint\n",
    "    \n",
    "    # Reverse the second half of the array to ensure decreasing order\n",
    "    a[mid+1:] = reversed(a[mid+1:])\n",
    "    \n",
    "    # Print the result\n",
    "    for i in range(n):\n",
    "        if i == n - 1:\n",
    "            print(a[i])\n",
    "        else:\n",
    "            print(a[i], end=' ')\n",
    "    return\n",
    "\n",
    "# Read number of test cases\n",
    "test_cases = int(input())\n",
    "for _ in range(test_cases):\n",
    "    n = int(input())\n",
    "    a = list(map(int, input().split()))\n",
    "    findZigZagSequence(a, n)\n"
   ]
  },
  {
   "cell_type": "code",
   "execution_count": null,
   "metadata": {},
   "outputs": [],
   "source": []
  },
  {
   "cell_type": "code",
   "execution_count": null,
   "metadata": {},
   "outputs": [],
   "source": []
  },
  {
   "cell_type": "code",
   "execution_count": null,
   "metadata": {},
   "outputs": [],
   "source": []
  },
  {
   "cell_type": "code",
   "execution_count": null,
   "metadata": {},
   "outputs": [],
   "source": []
  },
  {
   "cell_type": "code",
   "execution_count": null,
   "metadata": {},
   "outputs": [],
   "source": []
  },
  {
   "cell_type": "markdown",
   "metadata": {},
   "source": [
    "# Picking numbers\n",
    "Given an array of integers, find the longest subarray where the absolute difference between any two elements is less than or equal to . "
   ]
  },
  {
   "cell_type": "code",
   "execution_count": null,
   "metadata": {},
   "outputs": [
    {
     "name": "stdout",
     "output_type": "stream",
     "text": [
      "[1, 1, 2, 2, 4, 4, 5, 5, 5]\n",
      "[0, 2, 2, 0, 2, 3, 0, 0, 0, 0, 0, 0, 0, 0, 0, 0, 0, 0, 0, 0, 0, 0, 0, 0, 0, 0, 0, 0, 0, 0, 0, 0, 0, 0, 0, 0, 0, 0, 0, 0, 0, 0, 0, 0, 0, 0, 0, 0, 0, 0, 0, 0, 0, 0, 0, 0, 0, 0, 0, 0, 0, 0, 0, 0, 0, 0, 0, 0, 0, 0, 0, 0, 0, 0, 0, 0, 0, 0, 0, 0, 0, 0, 0, 0, 0, 0, 0, 0, 0, 0, 0, 0, 0, 0, 0, 0, 0, 0, 0, 0, 0]\n"
     ]
    }
   ],
   "source": [
    "a= [1,1,2,2,4,4,5,5,5]\n",
    "\n",
    "print(a)\n",
    "freq = [0] * 101  # Since the problem constraints say the elements are between 0 and 100\n",
    "\n",
    "for i in range(len(a)):\n",
    "    freq[a[i]]+=1\n",
    "print(freq)"
   ]
  },
  {
   "cell_type": "code",
   "execution_count": null,
   "metadata": {},
   "outputs": [
    {
     "name": "stdout",
     "output_type": "stream",
     "text": [
      "5\n"
     ]
    }
   ],
   "source": [
    "max_len = 0\n",
    "\n",
    "for i in range(0, len(freq)-1):\n",
    "    max_len = max(max_len, freq[i]+freq[i+1])\n",
    "print(max_len)"
   ]
  },
  {
   "cell_type": "code",
   "execution_count": null,
   "metadata": {},
   "outputs": [],
   "source": []
  },
  {
   "cell_type": "markdown",
   "metadata": {},
   "source": [
    "#### list comprehensions are typically used for creating lists rather than mutating them"
   ]
  },
  {
   "cell_type": "code",
   "execution_count": null,
   "metadata": {},
   "outputs": [],
   "source": []
  },
  {
   "cell_type": "markdown",
   "metadata": {},
   "source": [
    "# 1144. Decrease Elements To Make Array Zigzag\n",
    "Given an array nums of integers, a move consists of choosing any element and decreasing it by 1.\n",
    "\n",
    "An array A is a zigzag array if either:\n",
    "\n",
    "    1. Every even-indexed element is greater than adjacent elements, ie. A[0] > A[1] < A[2] > A[3] < A[4] > ...\n",
    "    OR, every odd-indexed element is greater than adjacent elements, ie. A[0] < A[1] > A[2] < A[3] > A[4] < ...\n",
    "\n",
    "Return the minimum number of moves to transform the given array nums into a zigzag array."
   ]
  },
  {
   "cell_type": "code",
   "execution_count": null,
   "metadata": {},
   "outputs": [
    {
     "data": {
      "text/plain": [
       "[9, 6, 1, 6, 2]"
      ]
     },
     "execution_count": 38,
     "metadata": {},
     "output_type": "execute_result"
    }
   ],
   "source": [
    "nums = [9,6,1,6,2]\n",
    "nums"
   ]
  },
  {
   "cell_type": "code",
   "execution_count": null,
   "metadata": {},
   "outputs": [
    {
     "name": "stdout",
     "output_type": "stream",
     "text": [
      "1\n",
      "[9, 6, 1, 6, 2]\n"
     ]
    }
   ],
   "source": [
    "nums = [9,6,1,6,2]\n",
    "\n",
    "# def evenOrOdd(nums):\n",
    "count = 0\n",
    "# [0] is lower\n",
    "for i in range(0, len(nums)):\n",
    "    if i%2 == 0:\n",
    "        if nums [i] > nums[i+1]:\n",
    "            #nums[i+1]-=1\n",
    "            count+=1\n",
    "print(count)\n",
    "\n",
    "\n",
    "\n",
    "print(nums)"
   ]
  },
  {
   "cell_type": "code",
   "execution_count": 55,
   "metadata": {},
   "outputs": [
    {
     "data": {
      "text/plain": [
       "([4, 3, 7, 8, 2, 6, 1], [3, 7, 4, 8, 2, 6, 1])"
      ]
     },
     "execution_count": 55,
     "metadata": {},
     "output_type": "execute_result"
    }
   ],
   "source": [
    "ar = [4,3,7,8,2,6, 1]\n",
    "# inout format:{a, b, c, d, e, f ,g}\n",
    "# resultant format:{a < b > c < d > e < f > g}\n",
    "\n",
    "# resultant_ar =[ 3 < 7 > 4 < 8 > 2 < 6 > 1] \n",
    "# # all even-indexed elements are greater than their neighboring elements\n",
    "# so we sould be traversing even number(odd indexes) and make sue neighbiuring elements are smaller\n",
    "# if i is not greater than i-1 or i+1, swap them\n",
    "\n",
    "resultant_ar =[ 3 , 7 , 4 , 8 , 2 , 6 , 1]\n",
    "ar, resultant_ar"
   ]
  },
  {
   "cell_type": "code",
   "execution_count": 57,
   "metadata": {},
   "outputs": [
    {
     "name": "stdout",
     "output_type": "stream",
     "text": [
      "[4, 3, 7, 8, 2, 6, 1]\n",
      "3  is not greater than  4\n",
      "\t  [3, 4, 7, 8, 2, 6, 1]\n",
      "4  is not grater than  7\n",
      "\t  [3, 7, 4, 8, 2, 6, 1]\n",
      "\t  [3, 7, 4, 8, 2, 6, 1]\n",
      "\t  [3, 7, 4, 8, 2, 6, 1]\n",
      "\t  [3, 7, 4, 8, 2, 6, 1]\n",
      "\t  [3, 7, 4, 8, 2, 6, 1]\n",
      "result: [3, 7, 4, 8, 2, 6, 1]\n"
     ]
    }
   ],
   "source": []
  },
  {
   "cell_type": "code",
   "execution_count": null,
   "metadata": {},
   "outputs": [],
   "source": []
  },
  {
   "cell_type": "code",
   "execution_count": 4,
   "metadata": {},
   "outputs": [
    {
     "name": "stdout",
     "output_type": "stream",
     "text": [
      "[4, 3, 7, 8, 2, 6, 1]\n",
      "result: [3, 7, 4, 8, 2, 6, 1]\n"
     ]
    }
   ],
   "source": []
  },
  {
   "cell_type": "code",
   "execution_count": 28,
   "metadata": {},
   "outputs": [
    {
     "name": "stdout",
     "output_type": "stream",
     "text": [
      "[11, 3, 7, 8, 2, 6, 1]\n",
      "\t 3  is greater than  11 ; difference:  0\n",
      "[3, 11, 7, 8, 2, 6, 1]\n",
      "[3, 11, 7, 8, 2, 6, 1]\n",
      "[3, 11, 7, 8, 2, 6, 1]\n",
      "[3, 11, 7, 8, 2, 6, 1]\n"
     ]
    }
   ],
   "source": [
    "ar = [11,3,7,8,2,6,1]; print(ar)\n",
    "\n",
    "\n",
    "# odd -indexed\n",
    "for i in range(1, len(ar), 2):\n",
    "    difference = 0\n",
    "    if i > 0 and ar[i] < ar[i-1]: # left\n",
    "        # difference += (ar[i] - ar[i-1])  \n",
    "\n",
    "        print(\"\\t\", ar[i], \" is greater than \", ar[i-1], \"; difference: \", difference)\n",
    "        ar[i], ar[i-1] = ar[i-1], ar[i]\n",
    "        print(ar)\n",
    "    #     # break;\n",
    "\n",
    "    if i< len(ar) -1 and ar[i] < ar[i+1]:   \n",
    "        print(\"\\t\", ar[i], \" is greater than \", ar[i+1], \"; difference: \", difference)\n",
    "        ar[i] , ar[i+1] = ar[i+1], ar[i]\n",
    "    \n",
    "\n",
    "    print(ar)\n",
    "# print(difference)\n",
    "\n",
    "\n",
    "        \n",
    "\n"
   ]
  },
  {
   "cell_type": "code",
   "execution_count": 33,
   "metadata": {},
   "outputs": [
    {
     "name": "stdout",
     "output_type": "stream",
     "text": [
      "[11, 3, 7, 8, 2, 6, 1]\n",
      "[11, 3, 8, 2, 7, 1, 6]\n",
      "[3, 11, 2, 8, 1, 7, 6]\n"
     ]
    }
   ],
   "source": []
  },
  {
   "cell_type": "code",
   "execution_count": null,
   "metadata": {},
   "outputs": [],
   "source": []
  },
  {
   "cell_type": "code",
   "execution_count": null,
   "metadata": {},
   "outputs": [],
   "source": []
  },
  {
   "cell_type": "code",
   "execution_count": 36,
   "metadata": {},
   "outputs": [
    {
     "name": "stdout",
     "output_type": "stream",
     "text": [
      "[11, 3, 7, 8, 2, 6, 1]\n",
      "[0, 0]\n",
      "[11, 3, 8, 2, 7, 1, 6]\n",
      "[3, 11, 2, 8, 1, 7, 6]\n"
     ]
    }
   ],
   "source": []
  },
  {
   "cell_type": "code",
   "execution_count": null,
   "metadata": {},
   "outputs": [],
   "source": [
    "\n",
    "\n"
   ]
  },
  {
   "cell_type": "code",
   "execution_count": null,
   "metadata": {},
   "outputs": [],
   "source": []
  },
  {
   "cell_type": "code",
   "execution_count": null,
   "metadata": {},
   "outputs": [],
   "source": []
  },
  {
   "cell_type": "code",
   "execution_count": null,
   "metadata": {},
   "outputs": [],
   "source": []
  },
  {
   "cell_type": "code",
   "execution_count": 64,
   "metadata": {},
   "outputs": [],
   "source": [
    "assert ar == resultant_ar,\" not same\""
   ]
  },
  {
   "cell_type": "code",
   "execution_count": 1,
   "metadata": {},
   "outputs": [],
   "source": [
    "\n",
    "i  = [ 1,1,2]\n",
    "# assert i == resultant_ar,\"note same\""
   ]
  },
  {
   "cell_type": "code",
   "execution_count": 2,
   "metadata": {},
   "outputs": [
    {
     "name": "stdout",
     "output_type": "stream",
     "text": [
      "2\n",
      "4\n"
     ]
    }
   ],
   "source": [
    "def moves_to_make_zigzag(nums):\n",
    "    n = len(nums)\n",
    "    \n",
    "    def count_moves(start):\n",
    "        moves = 0\n",
    "        for i in range(start, n, 2):\n",
    "            left = nums[i-1] if i > 0 else float('inf')\n",
    "            right = nums[i+1] if i < n-1 else float('inf')\n",
    "            if nums[i] >= min(left, right):\n",
    "                moves += nums[i] - min(left, right) + 1\n",
    "        return moves\n",
    "    \n",
    "    return min(count_moves(0), count_moves(1))\n",
    "\n",
    "# Example usage:\n",
    "nums1 = [1, 2, 3]\n",
    "nums2 = [9, 6, 1, 6, 2]\n",
    "\n",
    "print(moves_to_make_zigzag(nums1))  # Output: 2\n",
    "print(moves_to_make_zigzag(nums2))  # Output: 4\n"
   ]
  },
  {
   "cell_type": "code",
   "execution_count": null,
   "metadata": {},
   "outputs": [],
   "source": []
  },
  {
   "cell_type": "code",
   "execution_count": null,
   "metadata": {},
   "outputs": [],
   "source": []
  },
  {
   "cell_type": "code",
   "execution_count": null,
   "metadata": {},
   "outputs": [],
   "source": []
  },
  {
   "cell_type": "code",
   "execution_count": null,
   "metadata": {},
   "outputs": [],
   "source": [
    "\n",
    "\n",
    "\n",
    "# wokring code odd-oven zagg\n",
    "ar = [11,3,7,8,2,6,1]; print(ar)\n",
    "\n",
    "for start in range(2):\n",
    "    \n",
    "    # odd -indexed\n",
    "    for i in range(start, len(ar), 2):\n",
    "        difference = 0\n",
    "        if i > 0 and ar[i] < ar[i-1]: # left\n",
    "            # difference += (ar[i] - ar[i-1])  \n",
    "\n",
    "            # print(\"\\t\", ar[i], \" is greater than \", ar[i-1], \"; difference: \", difference)\n",
    "            ar[i], ar[i-1] = ar[i-1], ar[i]\n",
    "            # print(ar)\n",
    "        #     # break;\n",
    "\n",
    "        if i< len(ar) -1 and ar[i] < ar[i+1]:   \n",
    "            # print(\"\\t\", ar[i], \" is greater than \", ar[i+1], \"; difference: \", difference)\n",
    "            ar[i] , ar[i+1] = ar[i+1], ar[i]\n",
    "        \n",
    "\n",
    "    print(ar)\n",
    "    # print(difference)\n",
    "\n",
    "\n",
    "        \n",
    "\n"
   ]
  },
  {
   "cell_type": "code",
   "execution_count": null,
   "metadata": {},
   "outputs": [],
   "source": [
    "\n",
    "# wokring code odd-oven zagg = difference = difference\n",
    "ar = [11,3,7,8,2,6,1]; print(ar)\n",
    "\n",
    "moves_required = [0] *2\n",
    "print(moves_required)\n",
    "for start in range(2):\n",
    "    \n",
    "    # odd -indexed\n",
    "    for i in range(start, len(ar), 2):\n",
    "        difference = 0\n",
    "        if i > 0 and ar[i] < ar[i-1]: # left\n",
    "            # difference += (ar[i] - ar[i-1])  \n",
    "\n",
    "            # print(\"\\t\", ar[i], \" is greater than \", ar[i-1], \"; difference: \", difference)\n",
    "            ar[i], ar[i-1] = ar[i-1], ar[i]\n",
    "            # print(ar)\n",
    "        #     # break;\n",
    "\n",
    "        if i< len(ar) -1 and ar[i] < ar[i+1]:   \n",
    "            # print(\"\\t\", ar[i], \" is greater than \", ar[i+1], \"; difference: \", difference)\n",
    "            ar[i] , ar[i+1] = ar[i+1], ar[i]\n",
    "        \n",
    "    moves_required[start] = difference\n",
    "        \n",
    "\n",
    "    print(ar)\n",
    "    # print(difference)\n"
   ]
  },
  {
   "cell_type": "code",
   "execution_count": null,
   "metadata": {},
   "outputs": [],
   "source": []
  },
  {
   "cell_type": "code",
   "execution_count": 38,
   "metadata": {},
   "outputs": [
    {
     "name": "stdout",
     "output_type": "stream",
     "text": [
      "Original array: [1, 2, 3]\n",
      "Array after processing scenario 0: [1, 2, 1]\n",
      "Moves required for scenario 0: 2\n",
      "Array after processing scenario 1: [1, 0, 3]\n",
      "Moves required for scenario 1: 2\n",
      "Minimum moves required to make the array zigzag: 2\n"
     ]
    }
   ],
   "source": [
    "ar = [11, 3, 7, 8, 2, 6, 1]\n",
    "ar = [1,2,3]\n",
    "print(\"Original array:\", ar)\n",
    "\n",
    "moves_required = [0, 0]\n",
    "\n",
    "for start in range(2):\n",
    "    temp_ar = ar[:]  # Copy the original array to apply changes for each scenario\n",
    "    for i in range(start, len(temp_ar), 2):\n",
    "        difference = 0\n",
    "        \n",
    "        # Compare with the left neighbor\n",
    "        if i > 0 and temp_ar[i] >= temp_ar[i - 1]:\n",
    "            difference = temp_ar[i] - temp_ar[i - 1] + 1\n",
    "            moves_required[start] += difference\n",
    "            temp_ar[i] -= difference  # Decrease the current element\n",
    "        \n",
    "        # Compare with the right neighbor\n",
    "        if i < len(temp_ar) - 1 and temp_ar[i] >= temp_ar[i + 1]:\n",
    "            difference = temp_ar[i] - temp_ar[i + 1] + 1\n",
    "            moves_required[start] += difference\n",
    "            temp_ar[i] -= difference  # Decrease the current element\n",
    "    \n",
    "    print(f\"Array after processing scenario {start}: {temp_ar}\")\n",
    "    print(f\"Moves required for scenario {start}: {moves_required[start]}\")\n",
    "\n",
    "# Output the minimum number of moves required between the two scenarios\n",
    "min_moves = min(moves_required)\n",
    "print(\"Minimum moves required to make the array zigzag:\", min_moves)\n"
   ]
  },
  {
   "cell_type": "code",
   "execution_count": null,
   "metadata": {},
   "outputs": [],
   "source": []
  },
  {
   "cell_type": "code",
   "execution_count": 39,
   "metadata": {},
   "outputs": [],
   "source": [
    "class Solution(object):\n",
    "    def movesToMakeZigzag(self, nums):\n",
    "        print(\"Original array:\", nums)\n",
    "\n",
    "        moves_required = [0, 0]\n",
    "\n",
    "        for start in range(2):\n",
    "            for i in range(start, len(nums), 2):\n",
    "                difference = 0\n",
    "                \n",
    "                # Compare with the left neighbor\n",
    "                if i > 0 and nums[i] <= nums[i - 1]:\n",
    "                    difference = nums[i - 1] - nums[i] + 1\n",
    "                    moves_required[start] += difference\n",
    "                \n",
    "                # Compare with the right neighbor\n",
    "                if i < len(nums) - 1 and nums[i] <= nums[i + 1]:\n",
    "                    difference = nums[i + 1] - nums[i] + 1\n",
    "                    moves_required[start] += difference\n",
    "            \n",
    "        # Output the minimum number of moves required between the two scenarios\n",
    "        min_moves = min(moves_required)\n",
    "        print(\"Minimum moves required to make the array zigzag:\", min_moves)\n",
    "        return min_moves\n",
    "\n"
   ]
  },
  {
   "cell_type": "code",
   "execution_count": null,
   "metadata": {},
   "outputs": [],
   "source": []
  },
  {
   "cell_type": "code",
   "execution_count": 45,
   "metadata": {},
   "outputs": [
    {
     "name": "stdout",
     "output_type": "stream",
     "text": [
      "[2, 7, 10, 9, 8, 9]\n"
     ]
    },
    {
     "data": {
      "text/plain": [
       "6"
      ]
     },
     "execution_count": 45,
     "metadata": {},
     "output_type": "execute_result"
    }
   ],
   "source": [
    "def movesToMakeZigzag( nums):\n",
    "    def calculate_moves(nums, start):\n",
    "        moves = 0\n",
    "        n = len(nums)\n",
    "        \n",
    "        for i in range(start, n, 2):\n",
    "            # For the current element, check if it's smaller or equal to the previous element\n",
    "            if i > 0 and nums[i] <= nums[i - 1]:\n",
    "                moves += (nums[i - 1] - nums[i] + 1)\n",
    "            \n",
    "            # For the current element, check if it's smaller or equal to the next element\n",
    "            if i < n - 1 and nums[i] <= nums[i + 1]:\n",
    "                moves += (nums[i + 1] - nums[i] + 1)\n",
    "            \n",
    "        return moves\n",
    "\n",
    "    # Calculate the moves required for both scenarios\n",
    "    moves_even_start = calculate_moves(nums, 0)\n",
    "    moves_odd_start = calculate_moves(nums, 1)\n",
    "    \n",
    "    # Return the minimum of the two scenarios\n",
    "    return min(moves_even_start, moves_odd_start)\n",
    "ar = [2,7,10,9,8,9]\n",
    "print(ar)\n",
    "\n",
    "movesToMakeZigzag(ar)\n"
   ]
  },
  {
   "cell_type": "code",
   "execution_count": 50,
   "metadata": {},
   "outputs": [
    {
     "data": {
      "text/plain": [
       "4"
      ]
     },
     "execution_count": 50,
     "metadata": {},
     "output_type": "execute_result"
    }
   ],
   "source": [
    "def movesToMakeZigzag(nums):\n",
    "    def calculate_moves(nums, start):\n",
    "        moves = 0\n",
    "        n = len(nums)\n",
    "        \n",
    "        for i in range(start, n, 2):\n",
    "            left_diff = 0\n",
    "            right_diff = 0\n",
    "            \n",
    "            # Check if the current element is greater than the previous element\n",
    "            if i > 0:\n",
    "                left_diff = max(0, nums[i] - nums[i - 1] + 1)\n",
    "            \n",
    "            # Check if the current element is greater than the next element\n",
    "            if i < n - 1:\n",
    "                right_diff = max(0, nums[i] - nums[i + 1] + 1)\n",
    "            \n",
    "            # The number of moves required is the maximum of the two differences\n",
    "            moves += max(left_diff, right_diff)\n",
    "        \n",
    "        return moves\n",
    "\n",
    "    # Calculate the moves required for both scenarios\n",
    "    moves_even_start = calculate_moves(nums, 0)\n",
    "    moves_odd_start = calculate_moves(nums, 1)\n",
    "    \n",
    "    # Return the minimum of the two scenarios\n",
    "    return min(moves_even_start, moves_odd_start)\n",
    "\n",
    "# Test the function\n",
    "ar = [2, 7, 10, 9, 8, 9]\n",
    "movesToMakeZigzag(ar)  # Output should be 4\n"
   ]
  },
  {
   "cell_type": "code",
   "execution_count": 54,
   "metadata": {},
   "outputs": [
    {
     "name": "stdout",
     "output_type": "stream",
     "text": [
      "4\n"
     ]
    }
   ],
   "source": [
    "# optimized \n",
    "\n",
    "def movesToMakeZigzag(nums):\n",
    "    def calculate_moves(start):\n",
    "        moves = 0\n",
    "        n = len(nums)\n",
    "        \n",
    "        for i in range(start, n, 2):\n",
    "            left_diff = right_diff = 0\n",
    "            \n",
    "            if i > 0:\n",
    "                left_diff = max(0, nums[i] - nums[i - 1] + 1)\n",
    "            \n",
    "            if i < n - 1:\n",
    "                right_diff = max(0, nums[i] - nums[i + 1] + 1)\n",
    "            \n",
    "            moves += max(left_diff, right_diff)\n",
    "        \n",
    "        return moves\n",
    "\n",
    "    return min(calculate_moves(0), calculate_moves(1))\n",
    "\n",
    "# Test the function\n",
    "ar = [2, 7, 10, 9, 8, 9]\n",
    "print(movesToMakeZigzag(ar))  # Output should be 4\n"
   ]
  },
  {
   "cell_type": "code",
   "execution_count": null,
   "metadata": {},
   "outputs": [],
   "source": []
  },
  {
   "cell_type": "code",
   "execution_count": null,
   "metadata": {},
   "outputs": [],
   "source": []
  },
  {
   "cell_type": "code",
   "execution_count": null,
   "metadata": {},
   "outputs": [],
   "source": []
  },
  {
   "cell_type": "code",
   "execution_count": null,
   "metadata": {},
   "outputs": [],
   "source": []
  },
  {
   "cell_type": "code",
   "execution_count": null,
   "metadata": {},
   "outputs": [],
   "source": []
  },
  {
   "cell_type": "code",
   "execution_count": null,
   "metadata": {},
   "outputs": [],
   "source": []
  },
  {
   "cell_type": "code",
   "execution_count": null,
   "metadata": {},
   "outputs": [],
   "source": []
  },
  {
   "cell_type": "markdown",
   "metadata": {},
   "source": []
  },
  {
   "cell_type": "markdown",
   "metadata": {},
   "source": [
    "# left rotation\n",
    "\n",
    "A left rotation operation on an array of size shifts each of the array's elements unit to the left. Given an integer, , rotate the array that many steps left and return the result. "
   ]
  },
  {
   "cell_type": "code",
   "execution_count": 55,
   "metadata": {},
   "outputs": [
    {
     "data": {
      "text/plain": [
       "([3, 4, 5, 1, 2], 2)"
      ]
     },
     "execution_count": 55,
     "metadata": {},
     "output_type": "execute_result"
    }
   ],
   "source": [
    "d=2; arr= [ 3,4,5,1,2]\n",
    "arr,d"
   ]
  },
  {
   "cell_type": "code",
   "execution_count": 71,
   "metadata": {},
   "outputs": [
    {
     "name": "stdout",
     "output_type": "stream",
     "text": [
      "[3, 4, 1, 2, 5]\n",
      "i=0, i+d: 2, j=2\n",
      "i=1, i+d: 3, j=3\n",
      "i=2, i+d: 4, j=4\n",
      "i=3, i+d: 5, j=0\n",
      "i=4, i+d: 6, j=1\n",
      "[4, 3, 5, 1, 2]\n"
     ]
    }
   ],
   "source": [
    "id=2; arr= [ 3,4,5,1,2]\n",
    "arr,d\n",
    "\n",
    "print(arr)\n",
    "n = len(arr)\n",
    "for i in range(n):\n",
    "    j = ((i+d)%(n))\n",
    "    print(f\"{i=}, i+d: {i+d}, {j=}\")\n",
    "    # if i+d <len(arr):\n",
    "        # print(arr[i], arr[i+d])\n",
    "        # pass\n",
    "    arr[i], arr[j] = arr[j], arr[i]\n",
    "print(arr)\n"
   ]
  },
  {
   "cell_type": "code",
   "execution_count": 79,
   "metadata": {},
   "outputs": [
    {
     "name": "stdout",
     "output_type": "stream",
     "text": [
      "[1, 2, 3, 4, 5]\n",
      "temp=[0, 0, 0, 0, 0]\n",
      "[5, 1, 2, 3, 4]\n"
     ]
    }
   ],
   "source": [
    "d=4; arr= [ 1, 2, 3, 4, 5]\n",
    "arr,d\n",
    "\n",
    "print(arr)\n",
    "n = len(arr)\n",
    "temp = [0]* n \n",
    "print(f\"{temp=}\")\n",
    "for i in range(n):\n",
    "    j = abs((i-d)%(n))\n",
    "    # print(f\"{i=}, i+d: {i+d}, {j=}\")\n",
    "    # if i+d <len(arr):\n",
    "        # print(arr[i], arr[i+d])\n",
    "        # pass\n",
    "    temp[j] = arr[i]\n",
    "print(temp)"
   ]
  },
  {
   "cell_type": "code",
   "execution_count": null,
   "metadata": {},
   "outputs": [],
   "source": []
  },
  {
   "cell_type": "code",
   "execution_count": 75,
   "metadata": {},
   "outputs": [
    {
     "name": "stdout",
     "output_type": "stream",
     "text": [
      "Original array: [3, 4, 5, 1, 2]\n",
      "Rotated array: [5, 1, 2, 3, 4]\n"
     ]
    }
   ],
   "source": [
    "def rotate_array(arr, d):\n",
    "    n = len(arr)\n",
    "    d = d % n  # Ensure d is within the bounds of the array size\n",
    "    rotated_arr = arr[d:] + arr[:d]\n",
    "    return rotated_arr\n",
    "\n",
    "# Test\n",
    "arr = [3, 4, 5, 1, 2]\n",
    "d = 2\n",
    "print(\"Original array:\", arr)\n",
    "rotated_arr = rotate_array(arr, d)\n",
    "print(\"Rotated array:\", rotated_arr)\n"
   ]
  },
  {
   "cell_type": "code",
   "execution_count": null,
   "metadata": {},
   "outputs": [],
   "source": []
  },
  {
   "cell_type": "code",
   "execution_count": null,
   "metadata": {},
   "outputs": [],
   "source": []
  },
  {
   "cell_type": "markdown",
   "metadata": {},
   "source": [
    "# Closest Numbers\n",
    "Sorting is useful as the first step in many different tasks. The most common task is to make finding things easier, but there are other uses as well. In this case, it will make it easier to determine which pair or pairs of elements have the smallest absolute difference between them."
   ]
  },
  {
   "cell_type": "code",
   "execution_count": 97,
   "metadata": {},
   "outputs": [
    {
     "data": {
      "text/plain": [
       "[2, 3, 4, 5]"
      ]
     },
     "execution_count": 97,
     "metadata": {},
     "output_type": "execute_result"
    }
   ],
   "source": [
    "arr= [5,4,3,2]    \n",
    "arr= sorted(arr)\n",
    "arr"
   ]
  },
  {
   "cell_type": "code",
   "execution_count": 99,
   "metadata": {},
   "outputs": [
    {
     "name": "stdout",
     "output_type": "stream",
     "text": [
      "arr[i]=2;  arr[i+1]=3; diff=1\n",
      "arr[i]=3;  arr[i+1]=4; diff=1\n",
      "arr[i]=4;  arr[i+1]=5; diff=1\n",
      "{1: [2, 3, 3, 4, 4, 5]}\n"
     ]
    }
   ],
   "source": [
    "temp={}\n",
    "for i in range(len(arr)-1):\n",
    "    diff = arr[i+1]-arr[i]\n",
    "    print(f\"{arr[i]=};  {arr[i+1]=}; {diff=}\")\n",
    "    \n",
    "    if diff in temp:\n",
    "        temp[diff].extend([arr[i], arr[i+1]])\n",
    "    else:\n",
    "        temp[diff] = [arr[i], arr[i+1]]\n",
    "print(temp)"
   ]
  },
  {
   "cell_type": "code",
   "execution_count": 88,
   "metadata": {},
   "outputs": [
    {
     "data": {
      "text/plain": [
       "{}"
      ]
     },
     "execution_count": 88,
     "metadata": {},
     "output_type": "execute_result"
    }
   ],
   "source": [
    "temps={}\n",
    "temps.get(\"x\", 3)\n",
    "temps"
   ]
  },
  {
   "cell_type": "code",
   "execution_count": null,
   "metadata": {},
   "outputs": [],
   "source": []
  },
  {
   "cell_type": "code",
   "execution_count": 100,
   "metadata": {},
   "outputs": [
    {
     "name": "stdout",
     "output_type": "stream",
     "text": [
      "arr[i]=3; arr[i+1]=4; diff=1\n",
      "arr[i]=4; arr[i+1]=5; diff=1\n",
      "arr[i]=5; arr[i+1]=1; diff=-4\n",
      "arr[i]=1; arr[i+1]=2; diff=1\n",
      "defaultdict(<class 'list'>, {1: [3, 4, 4, 5, 1, 2], -4: [5, 1]})\n"
     ]
    }
   ],
   "source": [
    "from collections import defaultdict\n",
    "\n",
    "# Initialize the defaultdict with a list as the default factory\n",
    "temp = defaultdict(list)\n",
    "\n",
    "arr = [3, 4, 5, 1, 2]\n",
    "\n",
    "# Iterate through the array to calculate differences and populate the dictionary\n",
    "for i in range(len(arr) - 1):\n",
    "    diff = arr[i + 1] - arr[i]\n",
    "    print(f\"{arr[i]=}; {arr[i+1]=}; {diff=}\")\n",
    "\n",
    "    # Use defaultdict to handle initialization and updates automatically\n",
    "    temp[diff].extend([arr[i], arr[i + 1]])\n",
    "\n",
    "print(temp)"
   ]
  },
  {
   "cell_type": "code",
   "execution_count": null,
   "metadata": {},
   "outputs": [],
   "source": []
  },
  {
   "cell_type": "code",
   "execution_count": null,
   "metadata": {},
   "outputs": [],
   "source": []
  },
  {
   "cell_type": "code",
   "execution_count": 133,
   "metadata": {},
   "outputs": [
    {
     "name": "stdout",
     "output_type": "stream",
     "text": [
      "arr[i]=2; arr[i+1]=3; diff=1\n",
      "arr[i]=3; arr[i+1]=4; diff=1\n",
      "arr[i]=4; arr[i+1]=5; diff=1\n"
     ]
    },
    {
     "data": {
      "text/plain": [
       "[2, 3, 3, 4, 4, 5]"
      ]
     },
     "execution_count": 133,
     "metadata": {},
     "output_type": "execute_result"
    }
   ],
   "source": [
    "# Initialize an empty dictionary\n",
    "temp = {}\n",
    "\n",
    "arr = [5,4,3,2]\n",
    "arr = sorted(arr)\n",
    "# Iterate through the array to calculate differences and populate the dictionary\n",
    "for i in range(len(arr) - 1):\n",
    "    diff = arr[i + 1] - arr[i]\n",
    "    print(f\"{arr[i]=}; {arr[i+1]=}; {diff=}\")\n",
    "    \n",
    "    # Use dict.get() to initialize the list if the key doesn't exist\n",
    "    if diff not in temp:\n",
    "        temp[diff] = []\n",
    "    temp[diff].extend([arr[i], arr[i + 1]])\n",
    "\n",
    "result = sorted(temp.items(), key=lambda x: x[0])[0][1]\n",
    "\n",
    "result"
   ]
  },
  {
   "cell_type": "code",
   "execution_count": null,
   "metadata": {},
   "outputs": [],
   "source": []
  },
  {
   "cell_type": "code",
   "execution_count": null,
   "metadata": {},
   "outputs": [],
   "source": []
  },
  {
   "cell_type": "code",
   "execution_count": 118,
   "metadata": {},
   "outputs": [
    {
     "data": {
      "text/plain": [
       "(['a', 'b', 'c', 'e'], [('a', 1), ('b', 2), ('c', 3), ('e', 0)])"
      ]
     },
     "execution_count": 118,
     "metadata": {},
     "output_type": "execute_result"
    }
   ],
   "source": [
    "\n",
    "temp = {'e':0,'a': 1, 'b': 2, 'c': 3}\n",
    "sorted(temp), sorted(temp.items(), key=lambda x: x[0])"
   ]
  },
  {
   "cell_type": "code",
   "execution_count": null,
   "metadata": {},
   "outputs": [],
   "source": []
  },
  {
   "cell_type": "code",
   "execution_count": null,
   "metadata": {},
   "outputs": [],
   "source": []
  },
  {
   "cell_type": "code",
   "execution_count": null,
   "metadata": {},
   "outputs": [],
   "source": []
  },
  {
   "cell_type": "code",
   "execution_count": null,
   "metadata": {},
   "outputs": [],
   "source": []
  },
  {
   "cell_type": "code",
   "execution_count": null,
   "metadata": {},
   "outputs": [],
   "source": []
  },
  {
   "cell_type": "markdown",
   "metadata": {},
   "source": [
    "# separate numbers\n",
    "\n",
    "A numeric string, , is beautiful if it can be split into a sequence of two or more positive integers, satisfying the following conditions:\n",
    "\n",
    "for any (i.e., each element in the sequence is\n",
    "more than the previous element).\n",
    "No\n",
    "contains a leading zero. For example, we can split into the sequence , but it is not beautiful because and\n",
    "have leading zeroes.\n",
    "The contents of the sequence cannot be rearranged. For example, we can split\n",
    "into the sequence , but it is not beautiful because it breaks our first constraint (i.e., )."
   ]
  },
  {
   "cell_type": "code",
   "execution_count": 1,
   "metadata": {},
   "outputs": [
    {
     "name": "stdout",
     "output_type": "stream",
     "text": [
      "91011\n"
     ]
    }
   ],
   "source": [
    "s=\"91011\"\n",
    "print(s)\n"
   ]
  },
  {
   "cell_type": "code",
   "execution_count": 5,
   "metadata": {},
   "outputs": [
    {
     "ename": "IndexError",
     "evalue": "string index out of range",
     "output_type": "error",
     "traceback": [
      "\u001b[0;31m---------------------------------------------------------------------------\u001b[0m",
      "\u001b[0;31mIndexError\u001b[0m                                Traceback (most recent call last)",
      "Cell \u001b[0;32mIn[5], line 3\u001b[0m\n\u001b[1;32m      1\u001b[0m temp \u001b[38;5;241m=\u001b[39m\u001b[38;5;124m\"\u001b[39m\u001b[38;5;124m\"\u001b[39m\n\u001b[1;32m      2\u001b[0m \u001b[38;5;28;01mfor\u001b[39;00m i \u001b[38;5;129;01min\u001b[39;00m \u001b[38;5;28mrange\u001b[39m(\u001b[38;5;28mlen\u001b[39m(s),\u001b[38;5;241m0\u001b[39m,  \u001b[38;5;241m-\u001b[39m\u001b[38;5;241m1\u001b[39m):\n\u001b[0;32m----> 3\u001b[0m     \u001b[38;5;28mprint\u001b[39m(\u001b[43ms\u001b[49m\u001b[43m[\u001b[49m\u001b[43mi\u001b[49m\u001b[43m]\u001b[49m)\n",
      "\u001b[0;31mIndexError\u001b[0m: string index out of range"
     ]
    }
   ],
   "source": [
    "temp =\"\"\n",
    "for i in range(len(s),0,  -1):\n",
    "    print(s[i])\n"
   ]
  },
  {
   "cell_type": "code",
   "execution_count": 4,
   "metadata": {},
   "outputs": [
    {
     "data": {
      "text/plain": [
       "['91', '11']"
      ]
     },
     "execution_count": 4,
     "metadata": {},
     "output_type": "execute_result"
    }
   ],
   "source": [
    "s.split('0')"
   ]
  },
  {
   "cell_type": "code",
   "execution_count": 36,
   "metadata": {},
   "outputs": [
    {
     "name": "stdout",
     "output_type": "stream",
     "text": [
      "91011\n",
      "s[i:j]='1' i=4 j=5\n",
      "s[i:j]='1' i=3 j=4\n",
      "s[i:j]='10' i=1 j=3\n",
      "s[i:j]='9' i=0 j=1\n",
      "['1', '1', '10', '9']\n",
      "['9', '10', '1', '1']\n"
     ]
    }
   ],
   "source": [
    "s=\"91011\"; ls=[]\n",
    "print(s);j=len(s)\n",
    "for i in range(len(s)-1, -1, -1): # halt at -1 so 0 index could be reached\n",
    "    if s[i] != '0':\n",
    "        print(f\"{s[i:j]=} {i=} {j=}\")\n",
    "        ls.append(s[i:j])\n",
    "        j=i\n",
    "    \n",
    "print(ls)\n",
    "ls.reverse()\n",
    "print(ls)"
   ]
  },
  {
   "cell_type": "code",
   "execution_count": 40,
   "metadata": {},
   "outputs": [
    {
     "name": "stdout",
     "output_type": "stream",
     "text": [
      "99100\n",
      "s[i:j]='100' i=2 j=5\n"
     ]
    },
    {
     "ename": "IndexError",
     "evalue": "list index out of range",
     "output_type": "error",
     "traceback": [
      "\u001b[0;31m---------------------------------------------------------------------------\u001b[0m",
      "\u001b[0;31mIndexError\u001b[0m                                Traceback (most recent call last)",
      "Cell \u001b[0;32mIn[40], line 6\u001b[0m\n\u001b[1;32m      4\u001b[0m \u001b[38;5;28;01mif\u001b[39;00m s[i] \u001b[38;5;241m!=\u001b[39m \u001b[38;5;124m'\u001b[39m\u001b[38;5;124m0\u001b[39m\u001b[38;5;124m'\u001b[39m:\n\u001b[1;32m      5\u001b[0m     \u001b[38;5;28mprint\u001b[39m(\u001b[38;5;124mf\u001b[39m\u001b[38;5;124m\"\u001b[39m\u001b[38;5;132;01m{\u001b[39;00ms[i:j]\u001b[38;5;132;01m=}\u001b[39;00m\u001b[38;5;124m \u001b[39m\u001b[38;5;132;01m{\u001b[39;00mi\u001b[38;5;132;01m=}\u001b[39;00m\u001b[38;5;124m \u001b[39m\u001b[38;5;132;01m{\u001b[39;00mj\u001b[38;5;132;01m=}\u001b[39;00m\u001b[38;5;124m\"\u001b[39m)\n\u001b[0;32m----> 6\u001b[0m     \u001b[38;5;28mprint\u001b[39m(\u001b[38;5;28mabs\u001b[39m(\u001b[43mls\u001b[49m\u001b[43m[\u001b[49m\u001b[38;5;241;43m-\u001b[39;49m\u001b[38;5;241;43m1\u001b[39;49m\u001b[43m]\u001b[49m \u001b[38;5;241m-\u001b[39m \u001b[38;5;28mint\u001b[39m(s[i:j])))\n\u001b[1;32m      7\u001b[0m     \u001b[38;5;28;01mif\u001b[39;00m ls \u001b[38;5;129;01mand\u001b[39;00m (\u001b[38;5;28mabs\u001b[39m(ls[\u001b[38;5;241m-\u001b[39m\u001b[38;5;241m1\u001b[39m] \u001b[38;5;241m-\u001b[39m \u001b[38;5;28mint\u001b[39m(s[i:j]))\u001b[38;5;241m<\u001b[39m\u001b[38;5;241m2\u001b[39m): \n\u001b[1;32m      8\u001b[0m         ls\u001b[38;5;241m.\u001b[39mappend(\u001b[38;5;28mint\u001b[39m(s[i:j]))\n",
      "\u001b[0;31mIndexError\u001b[0m: list index out of range"
     ]
    }
   ],
   "source": [
    "s=\"99100\"; ls=[]\n",
    "print(s);j=len(s)\n",
    "for i in range(len(s)-1, -1, -1): # halt at -1 so 0 index could be reached\n",
    "    if s[i] != '0':\n",
    "        print(f\"{s[i:j]=} {i=} {j=}\")\n",
    "        print(abs(ls[-1] - int(s[i:j])))\n",
    "        if ls and (abs(ls[-1] - int(s[i:j]))<2): \n",
    "            ls.append(int(s[i:j]))\n",
    "            j=i\n",
    "    \n",
    "print(ls)\n",
    "ls.reverse()\n",
    "print(ls)\n",
    "\n"
   ]
  },
  {
   "cell_type": "code",
   "execution_count": 43,
   "metadata": {},
   "outputs": [
    {
     "name": "stdout",
     "output_type": "stream",
     "text": [
      "91011\n",
      "s[i:j]='1' i=4 j=5\n",
      "s[i:j]='1' i=3 j=4\n",
      "s[i:j]='101' i=1 j=4\n",
      "s[i:j]='9101' i=0 j=4\n",
      "[1]\n",
      "[1]\n"
     ]
    }
   ],
   "source": [
    "s = \"91011\"\n",
    "ls = []\n",
    "\n",
    "print(s)\n",
    "j = len(s)\n",
    "\n",
    "for i in range(len(s)-1, -1, -1): \n",
    "    if s[i] != '0':\n",
    "        current_number = int(s[i:j])\n",
    "        print(f\"{s[i:j]=} {i=} {j=}\")\n",
    "        \n",
    "        if not ls:  # If ls is empty, add the first number\n",
    "            ls.append(current_number)\n",
    "            j = i\n",
    "        elif ls[-1] == current_number + 1:  # Check if the current number is 1 less than the last added number\n",
    "            ls.append(current_number)\n",
    "            j = i\n",
    "\n",
    "print(ls)\n",
    "ls.reverse()  # Reverse the list to get numbers in the original order\n",
    "print(ls)\n"
   ]
  },
  {
   "cell_type": "code",
   "execution_count": null,
   "metadata": {},
   "outputs": [],
   "source": []
  },
  {
   "cell_type": "code",
   "execution_count": null,
   "metadata": {},
   "outputs": [],
   "source": []
  },
  {
   "cell_type": "code",
   "execution_count": 7,
   "metadata": {},
   "outputs": [
    {
     "name": "stdout",
     "output_type": "stream",
     "text": [
      "4\n",
      "1\n",
      "2\n",
      "3\n",
      "4\n"
     ]
    }
   ],
   "source": [
    "# new day\n",
    "s= \"1234\"\n",
    "# s=\"8899100\"\n",
    "\n",
    "\n",
    "# appproach is to check if a[0] and a[1] are consecutive; that's why we ony need to traverse half of string\n",
    "print(len(s))\n",
    "i = 0; d=1\n",
    "while(i<len(s)):\n",
    "    first_digit = s[i:i+d]\n",
    "    print(first_digit)\n",
    "\n",
    "    while(i<len(s)):\n",
    "\n",
    "\n",
    "        i+=d\n",
    "    i+=1;\n"
   ]
  },
  {
   "cell_type": "code",
   "execution_count": 12,
   "metadata": {},
   "outputs": [
    {
     "name": "stdout",
     "output_type": "stream",
     "text": [
      "[1]\n",
      "[1, 2]\n",
      "[1, 2, 3]\n",
      "[1, 2, 3, 4]\n"
     ]
    }
   ],
   "source": [
    "first_digit =int('1')\n",
    "ls = []\n",
    "d = 1\n",
    "i=0\n",
    "\n",
    "while(i < len(\"1234\")):\n",
    "    ls.append(first_digit+i)\n",
    "    i=i+1\n",
    "    print(ls)\n"
   ]
  },
  {
   "cell_type": "code",
   "execution_count": 26,
   "metadata": {},
   "outputs": [
    {
     "name": "stdout",
     "output_type": "stream",
     "text": [
      "['9']\n",
      "['9', '10']\n",
      "['9', '10', '11']\n",
      "DONE\n"
     ]
    }
   ],
   "source": [
    "s='979899100101'\n",
    "s= \"91011\"\n",
    "d=1\n",
    "first_digit =int(s[0:0+d])\n",
    "ls = []\n",
    "# d = 1\n",
    "i=0\n",
    "\n",
    "while(i < len(s)):\n",
    "    # first_digit+=1\n",
    "    ls.append(str(first_digit))\n",
    "    first_digit+=1\n",
    "    i=i+d\n",
    "    print(ls)\n",
    "    if \"\".join(ls) == s:\n",
    "        print(\"DONE\");break;"
   ]
  },
  {
   "cell_type": "code",
   "execution_count": 13,
   "metadata": {},
   "outputs": [
    {
     "data": {
      "text/plain": [
       "'2'"
      ]
     },
     "execution_count": 13,
     "metadata": {},
     "output_type": "execute_result"
    }
   ],
   "source": [
    "str(int('1')+1)"
   ]
  },
  {
   "cell_type": "code",
   "execution_count": 56,
   "metadata": {},
   "outputs": [
    {
     "name": "stdout",
     "output_type": "stream",
     "text": [
      "NO\n",
      "YES 979\n",
      "NO\n"
     ]
    }
   ],
   "source": [
    "\n",
    "\n",
    "\n",
    "\n"
   ]
  },
  {
   "cell_type": "code",
   "execution_count": null,
   "metadata": {},
   "outputs": [],
   "source": []
  },
  {
   "cell_type": "code",
   "execution_count": null,
   "metadata": {},
   "outputs": [],
   "source": []
  },
  {
   "cell_type": "code",
   "execution_count": null,
   "metadata": {},
   "outputs": [],
   "source": [
    "def separateNumbers(s):\n",
    "    for d in range(1, len(s)//2 + 1):\n",
    "        is_valid = True\n",
    "        x = 0\n",
    "        current = int(s[x:x+d])\n",
    "        \n",
    "        while x + d < len(s):\n",
    "            next_num = current + 1\n",
    "            next_str = str(next_num)\n",
    "            len_next_num = len(next_str)\n",
    "\n",
    "            if s[x+d:x+d+len_next_num] != next_str:\n",
    "                is_valid = False\n",
    "                break\n",
    "\n",
    "            x += len_next_num\n",
    "            current = next_num\n",
    "        \n",
    "        if is_valid and x + d == len(s):\n",
    "            print(f\"YES {s[:d]}\")\n",
    "            return\n",
    "    \n",
    "    print(\"NO\")\n",
    "\n",
    "if __name__ == '__main__':\n",
    "    q = int(input().strip())\n",
    "\n",
    "    for q_itr in range(q):\n",
    "        s = input().strip()\n",
    "        separateNumbers(s)\n"
   ]
  },
  {
   "cell_type": "code",
   "execution_count": null,
   "metadata": {},
   "outputs": [],
   "source": []
  },
  {
   "cell_type": "code",
   "execution_count": null,
   "metadata": {},
   "outputs": [],
   "source": []
  },
  {
   "cell_type": "code",
   "execution_count": 59,
   "metadata": {},
   "outputs": [
    {
     "name": "stdout",
     "output_type": "stream",
     "text": [
      "YES 97\n"
     ]
    }
   ],
   "source": [
    "\n",
    "#\n",
    "# Complete the 'separateNumbers' function below.\n",
    "#\n",
    "# The function accepts STRING s as parameter.\n",
    "#\n",
    "def separateNumbers(s):\n",
    "    for d in range(1, len(s)//2 + 1):\n",
    "        is_valid = True\n",
    "        x = 0\n",
    "        current = int(s[x:x+d])\n",
    "        \n",
    "        while x + d < len(s):\n",
    "            next_num = current + 1\n",
    "            next_str = str(next_num)\n",
    "            len_next_num = len(next_str)\n",
    "\n",
    "            if s[x+d:x+d+len_next_num] != next_str:\n",
    "                is_valid = False\n",
    "                break\n",
    "\n",
    "            x += len_next_num\n",
    "            current = next_num\n",
    "        \n",
    "        if is_valid and x + d == len(s):\n",
    "            print(f\"YES {s[:d]}\")\n",
    "            return\n",
    "    \n",
    "    print(\"NO\")\n",
    "\n",
    "separateNumbers(\"979899100101\")"
   ]
  },
  {
   "cell_type": "code",
   "execution_count": null,
   "metadata": {},
   "outputs": [],
   "source": []
  },
  {
   "cell_type": "code",
   "execution_count": null,
   "metadata": {},
   "outputs": [],
   "source": []
  },
  {
   "cell_type": "code",
   "execution_count": null,
   "metadata": {},
   "outputs": [],
   "source": []
  },
  {
   "cell_type": "code",
   "execution_count": null,
   "metadata": {},
   "outputs": [],
   "source": []
  },
  {
   "cell_type": "code",
   "execution_count": null,
   "metadata": {},
   "outputs": [],
   "source": []
  },
  {
   "cell_type": "code",
   "execution_count": null,
   "metadata": {},
   "outputs": [],
   "source": []
  },
  {
   "cell_type": "code",
   "execution_count": null,
   "metadata": {},
   "outputs": [],
   "source": []
  },
  {
   "cell_type": "code",
   "execution_count": null,
   "metadata": {},
   "outputs": [],
   "source": []
  },
  {
   "cell_type": "markdown",
   "metadata": {},
   "source": [
    "# Minimum Absolute Difference in an Array"
   ]
  },
  {
   "cell_type": "code",
   "execution_count": null,
   "metadata": {},
   "outputs": [],
   "source": []
  },
  {
   "cell_type": "code",
   "execution_count": 1,
   "metadata": {},
   "outputs": [
    {
     "name": "stdout",
     "output_type": "stream",
     "text": [
      "3\n"
     ]
    }
   ],
   "source": [
    "def minimumAbsoluteDifference(arr):\n",
    "    # Step 1: Sort the array\n",
    "    arr.sort()\n",
    "    \n",
    "    # Step 2: Initialize a variable to store the minimum difference\n",
    "    min_diff = float('inf')\n",
    "    \n",
    "    # Step 3: Iterate through the sorted array and find the minimum difference\n",
    "    for i in range(1, len(arr)):\n",
    "        diff = abs(arr[i] - arr[i - 1])\n",
    "        if diff < min_diff:\n",
    "            min_diff = diff\n",
    "    \n",
    "    # Step 4: Return the minimum difference found\n",
    "    return min_diff\n",
    "\n",
    "# Example usage:\n",
    "arr = [3, -7, 0]\n",
    "print(minimumAbsoluteDifference(arr))  # Output: 3\n"
   ]
  },
  {
   "cell_type": "code",
   "execution_count": null,
   "metadata": {},
   "outputs": [],
   "source": []
  },
  {
   "cell_type": "code",
   "execution_count": null,
   "metadata": {},
   "outputs": [],
   "source": []
  },
  {
   "cell_type": "code",
   "execution_count": null,
   "metadata": {},
   "outputs": [],
   "source": []
  },
  {
   "cell_type": "code",
   "execution_count": null,
   "metadata": {},
   "outputs": [],
   "source": []
  },
  {
   "cell_type": "markdown",
   "metadata": {},
   "source": [
    "# Ceaser Cipher \n",
    "Julius Caesar protected his confidential information by encrypting it using a cipher. Caesar's cipher shifts each letter by a number of letters. If the shift takes you past the end of the alphabet, just rotate back to the front of the alphabet. In the case of a rotation by 3, w, x, y and z would map to z, a, b and c.\n",
    "\n"
   ]
  },
  {
   "cell_type": "code",
   "execution_count": 29,
   "metadata": {},
   "outputs": [
    {
     "data": {
      "text/plain": [
       "['0',\n",
       " '0',\n",
       " '0',\n",
       " '0',\n",
       " '0',\n",
       " '0',\n",
       " '0',\n",
       " '0',\n",
       " '0',\n",
       " '0',\n",
       " '0',\n",
       " '0',\n",
       " '0',\n",
       " '0',\n",
       " '0',\n",
       " '0',\n",
       " '0',\n",
       " '0',\n",
       " '0',\n",
       " '0',\n",
       " '0',\n",
       " '0',\n",
       " '0',\n",
       " '0',\n",
       " '0',\n",
       " '0']"
      ]
     },
     "execution_count": 29,
     "metadata": {},
     "output_type": "execute_result"
    }
   ],
   "source": [
    "original  = \"abcdefghijklmnopqrstuvwxyz\"\n",
    "target = \"defghijklmnopqrstuvwxyzabc\" # +3\n",
    "rotated = list(\"0\"*len(original))\n",
    "rotated\n"
   ]
  },
  {
   "cell_type": "code",
   "execution_count": 30,
   "metadata": {},
   "outputs": [],
   "source": [
    "itos = { i: chr(v) for i,v in enumerate(range(ord('a'), ord('z')+1))}\n",
    "stoi = {v:k for k,v in itos.items()}"
   ]
  },
  {
   "cell_type": "code",
   "execution_count": 31,
   "metadata": {},
   "outputs": [
    {
     "name": "stdout",
     "output_type": "stream",
     "text": [
      "a d\n",
      "b e\n",
      "c f\n",
      "d g\n",
      "e h\n",
      "f i\n",
      "g j\n",
      "h k\n",
      "i l\n",
      "j m\n",
      "k n\n",
      "l o\n",
      "m p\n",
      "n q\n",
      "o r\n",
      "p s\n",
      "q t\n",
      "r u\n",
      "s v\n",
      "t w\n",
      "u x\n",
      "v y\n",
      "w z\n",
      "x a\n",
      "y b\n",
      "z c\n"
     ]
    }
   ],
   "source": [
    "for i in range(len(original)):\n",
    "    index = stoi[original[i]]\n",
    "    new_index = (index+3)%26\n",
    "    rotated[i] = itos[new_index]\n",
    "    print(original[i], rotated[i])\n",
    "\n",
    "rotated = \"\".join(rotated)\n",
    "assert rotated==target, \"not matched\"\n",
    "\n"
   ]
  },
  {
   "cell_type": "code",
   "execution_count": 32,
   "metadata": {},
   "outputs": [
    {
     "name": "stdout",
     "output_type": "stream",
     "text": [
      "d d\n",
      "e e\n",
      "f f\n",
      "g g\n",
      "h h\n",
      "i i\n",
      "j j\n",
      "k k\n",
      "l l\n",
      "m m\n",
      "n n\n",
      "o o\n",
      "p p\n",
      "q q\n",
      "r r\n",
      "s s\n",
      "t t\n",
      "u u\n",
      "v v\n",
      "w w\n",
      "x x\n",
      "y y\n",
      "z z\n",
      "a a\n",
      "b b\n",
      "c c\n"
     ]
    }
   ],
   "source": [
    "for i,y in zip(target, rotated):\n",
    "    print(i,y)"
   ]
  },
  {
   "cell_type": "code",
   "execution_count": null,
   "metadata": {},
   "outputs": [],
   "source": []
  },
  {
   "cell_type": "code",
   "execution_count": null,
   "metadata": {},
   "outputs": [],
   "source": []
  },
  {
   "cell_type": "code",
   "execution_count": null,
   "metadata": {},
   "outputs": [],
   "source": []
  },
  {
   "cell_type": "code",
   "execution_count": null,
   "metadata": {},
   "outputs": [],
   "source": []
  },
  {
   "cell_type": "code",
   "execution_count": 50,
   "metadata": {},
   "outputs": [
    {
     "data": {
      "text/plain": [
       "('middle-Outz', 'okffng-Qwvb', 'okffng-QwvB')"
      ]
     },
     "execution_count": 50,
     "metadata": {},
     "output_type": "execute_result"
    }
   ],
   "source": [
    "original  = \"middle-Outz\"\n",
    "target = \"okffng-Qwvb\" # +3\n",
    "rotated = ['0']* len(original)\n",
    "rotated\n",
    "k=2\n",
    "itos = { i: chr(v) for i,v in enumerate(range(ord('A'), ord('z')+1))}\n",
    "stoi = {v:k for k,v in itos.items()}\n",
    "\n",
    "\n",
    "\n",
    "for i in range(len(original)):\n",
    "    if original[i] in stoi:\n",
    "        index = stoi[original[i]]\n",
    "        new_index = (index+k)%58\n",
    "        rotated[i] = itos[new_index]\n",
    "    else:\n",
    "        rotated[i] = original[i]\n",
    "        # print(original[i], rotated[i])\n",
    "\n",
    "rotated = \"\".join(rotated)\n",
    "# assert rotated==target, \"not matched\"\n",
    "original, target, rotated"
   ]
  },
  {
   "cell_type": "code",
   "execution_count": null,
   "metadata": {},
   "outputs": [],
   "source": []
  },
  {
   "cell_type": "code",
   "execution_count": 55,
   "metadata": {},
   "outputs": [
    {
     "data": {
      "text/plain": [
       "True"
      ]
     },
     "execution_count": 55,
     "metadata": {},
     "output_type": "execute_result"
    }
   ],
   "source": [
    "'a'<'b'"
   ]
  },
  {
   "cell_type": "code",
   "execution_count": null,
   "metadata": {},
   "outputs": [],
   "source": []
  },
  {
   "cell_type": "code",
   "execution_count": 48,
   "metadata": {},
   "outputs": [
    {
     "data": {
      "text/plain": [
       "({0: 'A',\n",
       "  1: 'B',\n",
       "  2: 'C',\n",
       "  3: 'D',\n",
       "  4: 'E',\n",
       "  5: 'F',\n",
       "  6: 'G',\n",
       "  7: 'H',\n",
       "  8: 'I',\n",
       "  9: 'J',\n",
       "  10: 'K',\n",
       "  11: 'L',\n",
       "  12: 'M',\n",
       "  13: 'N',\n",
       "  14: 'O',\n",
       "  15: 'P',\n",
       "  16: 'Q',\n",
       "  17: 'R',\n",
       "  18: 'S',\n",
       "  19: 'T',\n",
       "  20: 'U',\n",
       "  21: 'V',\n",
       "  22: 'W',\n",
       "  23: 'X',\n",
       "  24: 'Y',\n",
       "  25: 'Z',\n",
       "  26: '[',\n",
       "  27: '\\\\',\n",
       "  28: ']',\n",
       "  29: '^',\n",
       "  30: '_',\n",
       "  31: '`',\n",
       "  32: 'a',\n",
       "  33: 'b',\n",
       "  34: 'c',\n",
       "  35: 'd',\n",
       "  36: 'e',\n",
       "  37: 'f',\n",
       "  38: 'g',\n",
       "  39: 'h',\n",
       "  40: 'i',\n",
       "  41: 'j',\n",
       "  42: 'k',\n",
       "  43: 'l',\n",
       "  44: 'm',\n",
       "  45: 'n',\n",
       "  46: 'o',\n",
       "  47: 'p',\n",
       "  48: 'q',\n",
       "  49: 'r',\n",
       "  50: 's',\n",
       "  51: 't',\n",
       "  52: 'u',\n",
       "  53: 'v',\n",
       "  54: 'w',\n",
       "  55: 'x',\n",
       "  56: 'y',\n",
       "  57: 'z'},\n",
       " {'A': 0,\n",
       "  'B': 1,\n",
       "  'C': 2,\n",
       "  'D': 3,\n",
       "  'E': 4,\n",
       "  'F': 5,\n",
       "  'G': 6,\n",
       "  'H': 7,\n",
       "  'I': 8,\n",
       "  'J': 9,\n",
       "  'K': 10,\n",
       "  'L': 11,\n",
       "  'M': 12,\n",
       "  'N': 13,\n",
       "  'O': 14,\n",
       "  'P': 15,\n",
       "  'Q': 16,\n",
       "  'R': 17,\n",
       "  'S': 18,\n",
       "  'T': 19,\n",
       "  'U': 20,\n",
       "  'V': 21,\n",
       "  'W': 22,\n",
       "  'X': 23,\n",
       "  'Y': 24,\n",
       "  'Z': 25,\n",
       "  '[': 26,\n",
       "  '\\\\': 27,\n",
       "  ']': 28,\n",
       "  '^': 29,\n",
       "  '_': 30,\n",
       "  '`': 31,\n",
       "  'a': 32,\n",
       "  'b': 33,\n",
       "  'c': 34,\n",
       "  'd': 35,\n",
       "  'e': 36,\n",
       "  'f': 37,\n",
       "  'g': 38,\n",
       "  'h': 39,\n",
       "  'i': 40,\n",
       "  'j': 41,\n",
       "  'k': 42,\n",
       "  'l': 43,\n",
       "  'm': 44,\n",
       "  'n': 45,\n",
       "  'o': 46,\n",
       "  'p': 47,\n",
       "  'q': 48,\n",
       "  'r': 49,\n",
       "  's': 50,\n",
       "  't': 51,\n",
       "  'u': 52,\n",
       "  'v': 53,\n",
       "  'w': 54,\n",
       "  'x': 55,\n",
       "  'y': 56,\n",
       "  'z': 57})"
      ]
     },
     "execution_count": 48,
     "metadata": {},
     "output_type": "execute_result"
    }
   ],
   "source": [
    "itos, stoi"
   ]
  },
  {
   "cell_type": "code",
   "execution_count": null,
   "metadata": {},
   "outputs": [],
   "source": []
  },
  {
   "cell_type": "code",
   "execution_count": 33,
   "metadata": {},
   "outputs": [
    {
     "name": "stdout",
     "output_type": "stream",
     "text": [
      "a d\n",
      "b e\n",
      "c f\n",
      "d g\n",
      "e h\n",
      "f i\n",
      "g j\n",
      "h k\n",
      "i l\n",
      "j m\n",
      "k n\n",
      "l o\n",
      "m p\n",
      "n q\n",
      "o r\n",
      "p s\n",
      "q t\n",
      "r u\n",
      "s v\n",
      "t w\n",
      "u x\n",
      "v y\n",
      "w z\n",
      "x a\n",
      "y b\n",
      "z c\n"
     ]
    }
   ],
   "source": [
    "\n",
    "original  = \"abcdefghijklmnopqrstuvwxyz\"\n",
    "target = \"defghijklmnopqrstuvwxyzabc\" # +3\n",
    "rotated = \"\"\n",
    "rotated\n",
    "\n",
    "itos = { i: chr(v) for i,v in enumerate(range(ord('a'), ord('z')+1))}\n",
    "stoi = {v:k for k,v in itos.items()}\n",
    "\n",
    "\n",
    "\n",
    "for i in range(len(original)):\n",
    "    index = stoi[original[i]]\n",
    "    new_index = (index+3)%26\n",
    "    rotated += itos[new_index]\n",
    "    print(original[i], rotated[i])\n",
    "\n",
    "# rotated = \"\".join(rotated)\n",
    "assert rotated==target, \"not matched\""
   ]
  },
  {
   "cell_type": "code",
   "execution_count": null,
   "metadata": {},
   "outputs": [],
   "source": []
  },
  {
   "cell_type": "code",
   "execution_count": null,
   "metadata": {},
   "outputs": [],
   "source": []
  },
  {
   "cell_type": "code",
   "execution_count": 56,
   "metadata": {},
   "outputs": [
    {
     "name": "stdout",
     "output_type": "stream",
     "text": [
      "Original: middle-Outz\n",
      "Target:   okffng-Qwvb\n",
      "Rotated:  okffng-Qwvb\n"
     ]
    }
   ],
   "source": [
    "original = \"middle-Outz\"\n",
    "target = \"okffng-Qwvb\"  # +2\n",
    "rotated = []\n",
    "\n",
    "k = 2  # shift by 2\n",
    "\n",
    "for char in original:\n",
    "    if 'a' <= char <= 'z':  # Handle lowercase\n",
    "        new_char = chr((ord(char) - ord('a') + k) % 26 + ord('a'))\n",
    "        rotated.append(new_char)\n",
    "    elif 'A' <= char <= 'Z':  # Handle uppercase\n",
    "        new_char = chr((ord(char) - ord('A') + k) % 26 + ord('A'))\n",
    "        rotated.append(new_char)\n",
    "    else:\n",
    "        rotated.append(char)  # Keep non-alphabet characters unchanged\n",
    "\n",
    "rotated = \"\".join(rotated)\n",
    "\n",
    "print(f\"Original: {original}\")\n",
    "print(f\"Target:   {target}\")\n",
    "print(f\"Rotated:  {rotated}\")\n",
    "assert rotated == target, \"not matched\"\n"
   ]
  },
  {
   "cell_type": "code",
   "execution_count": null,
   "metadata": {},
   "outputs": [],
   "source": []
  },
  {
   "cell_type": "code",
   "execution_count": null,
   "metadata": {},
   "outputs": [],
   "source": []
  },
  {
   "cell_type": "code",
   "execution_count": null,
   "metadata": {},
   "outputs": [],
   "source": []
  },
  {
   "cell_type": "code",
   "execution_count": null,
   "metadata": {},
   "outputs": [],
   "source": []
  },
  {
   "cell_type": "code",
   "execution_count": null,
   "metadata": {},
   "outputs": [],
   "source": []
  },
  {
   "cell_type": "code",
   "execution_count": null,
   "metadata": {},
   "outputs": [],
   "source": []
  },
  {
   "cell_type": "markdown",
   "metadata": {},
   "source": [
    "# min-max sum\n",
    " Given five positive integers, find the minimum and maximum values that can be calculated by summing exactly four of the five integers. Then print the respective minimum and maximum values as a single line of two space-separated long integers.\n",
    "\n"
   ]
  },
  {
   "cell_type": "markdown",
   "metadata": {},
   "source": []
  },
  {
   "cell_type": "code",
   "execution_count": 3,
   "metadata": {},
   "outputs": [
    {
     "data": {
      "text/plain": [
       "(16, 24)"
      ]
     },
     "execution_count": 3,
     "metadata": {},
     "output_type": "execute_result"
    }
   ],
   "source": [
    "a = [1,3,5,7,9]\n",
    "a.sort()\n",
    "sum(a[:-1]), sum(a[1:])"
   ]
  },
  {
   "cell_type": "code",
   "execution_count": null,
   "metadata": {},
   "outputs": [],
   "source": []
  },
  {
   "cell_type": "code",
   "execution_count": null,
   "metadata": {},
   "outputs": [],
   "source": []
  },
  {
   "cell_type": "code",
   "execution_count": null,
   "metadata": {},
   "outputs": [],
   "source": []
  },
  {
   "cell_type": "code",
   "execution_count": null,
   "metadata": {},
   "outputs": [],
   "source": []
  },
  {
   "cell_type": "markdown",
   "metadata": {},
   "source": [
    "# Between two sets\n",
    "\n",
    "There will be two arrays of integers. Determine all integers that satisfy the following two conditions:\n",
    "\n",
    "    The elements of the first array are all factors of the integer being considered\n",
    "    The integer being considered is a factor of all elements of the second array\n",
    "\n",
    "These numbers are referred to as being between the two arrays. Determine how many such numbers exist."
   ]
  },
  {
   "cell_type": "code",
   "execution_count": 15,
   "metadata": {},
   "outputs": [
    {
     "name": "stdout",
     "output_type": "stream",
     "text": [
      "x=128; y=70; x%y=58\n",
      "x=70; y=58; x%y=12\n",
      "x=58; y=12; x%y=10\n",
      "x=12; y=10; x%y=2\n",
      "x=10; y=2; x%y=0\n",
      "2\n"
     ]
    }
   ],
   "source": [
    "a= [2,6] \n",
    "b = [24, 36]\n",
    "\n",
    "x = 128; y=70\n",
    "while( y):\n",
    "    print(f\"{x=}; {y=}; {x%y=}\")\n",
    "    x,y = y, x % y \n",
    "\n",
    "print(x)"
   ]
  },
  {
   "cell_type": "code",
   "execution_count": null,
   "metadata": {},
   "outputs": [],
   "source": []
  },
  {
   "cell_type": "code",
   "execution_count": null,
   "metadata": {},
   "outputs": [],
   "source": []
  },
  {
   "cell_type": "markdown",
   "metadata": {},
   "source": [
    "We will use the following steps to find the greatest common divisor of (13, 48).\n",
    "\n",
    "Divisors of 13 = 1, and 13.\n",
    "Divisors of 48 = 1, 2, 3, 4, 6, 8, 12, 16, 24 and 48.\n",
    "\n",
    "The common divisor of 13 and 48 is 1.\n",
    "The greatest common divisor of 13 and 48 is 1.\n",
    "\n",
    "Therefore, GCD(13, 48) = 1"
   ]
  },
  {
   "cell_type": "code",
   "execution_count": 17,
   "metadata": {},
   "outputs": [
    {
     "data": {
      "text/plain": [
       "'dividers_of_128'"
      ]
     },
     "execution_count": 17,
     "metadata": {},
     "output_type": "execute_result"
    }
   ],
   "source": [
    "a = 128; b=78\n",
    "f'dividers_of_{a}' "
   ]
  },
  {
   "cell_type": "code",
   "execution_count": 34,
   "metadata": {},
   "outputs": [],
   "source": [
    "reminder = float('inf')\n",
    "a = 128\n",
    "# while reminder:\n",
    "#     x % "
   ]
  },
  {
   "cell_type": "code",
   "execution_count": 44,
   "metadata": {},
   "outputs": [
    {
     "name": "stdout",
     "output_type": "stream",
     "text": [
      "1\n",
      "2\n",
      "3\n",
      "4\n",
      "6\n",
      "8\n",
      "12\n",
      "16\n",
      "24\n",
      "48\n",
      "\t--\t--\t **\n",
      "1\n",
      "2\n",
      "13\n",
      "26\n"
     ]
    }
   ],
   "source": [
    "a = 48\n",
    "\n",
    "for i in range(1,a+1):\n",
    "    # print(i)\n",
    "    if a % i == 0:\n",
    "        print(i)\n",
    "print(\"\\t--\\t--\\t **\")\n",
    "\n",
    "b = 26\n",
    "for i in range(1,b+1):\n",
    "    # print(i)\n",
    "    if b % i == 0:\n",
    "        print(i)\n",
    "    \n",
    "\n",
    "    "
   ]
  },
  {
   "cell_type": "code",
   "execution_count": null,
   "metadata": {},
   "outputs": [],
   "source": []
  },
  {
   "cell_type": "code",
   "execution_count": 46,
   "metadata": {},
   "outputs": [
    {
     "name": "stdout",
     "output_type": "stream",
     "text": [
      "[4, 5]\n",
      "[4, 5]\n"
     ]
    }
   ],
   "source": [
    "list1 = [1, 2, 3, 4, 5]\n",
    "list2 = [4, 5, 6, 7, 8]\n",
    "\n",
    "# Convert lists to sets and find the intersection\n",
    "common_elements = list(set(list1) & set(list2))\n",
    "\n",
    "print(common_elements)  # Output: [4, 5]\n",
    "\n",
    "\n",
    "common_elements = [element for element in list1 if element in list2]\n",
    "\n",
    "print(common_elements)  # Output: [4, 5, 4]"
   ]
  },
  {
   "cell_type": "code",
   "execution_count": 49,
   "metadata": {},
   "outputs": [
    {
     "data": {
      "text/plain": [
       "{4, 5}"
      ]
     },
     "execution_count": 49,
     "metadata": {},
     "output_type": "execute_result"
    }
   ],
   "source": [
    "set(list1) & set(list2)"
   ]
  },
  {
   "cell_type": "code",
   "execution_count": null,
   "metadata": {},
   "outputs": [],
   "source": []
  },
  {
   "cell_type": "code",
   "execution_count": 61,
   "metadata": {},
   "outputs": [
    {
     "name": "stdout",
     "output_type": "stream",
     "text": [
      "x=46; y=128\n",
      "x=128; y=46 \n",
      "\n",
      "\n",
      "x=128; y=46\n",
      "x=46; y=36 \n",
      "\n",
      "\n",
      "x=46; y=36\n",
      "x=36; y=10 \n",
      "\n",
      "\n",
      "x=36; y=10\n",
      "x=10; y=6 \n",
      "\n",
      "\n",
      "x=10; y=6\n",
      "x=6; y=4 \n",
      "\n",
      "\n",
      "x=6; y=4\n",
      "x=4; y=2 \n",
      "\n",
      "\n",
      "x=4; y=2\n",
      "x=2; y=0 \n",
      "\n",
      "\n",
      "2\n"
     ]
    }
   ],
   "source": [
    "a= [2,6] \n",
    "b = [24, 36]\n",
    "\n",
    "x = 128; y=13\n",
    "x = 46; y = 128\n",
    "while( y):\n",
    "    print(f\"{x=}; {y=}\")\n",
    "    x,y = y, x % y \n",
    "    print(f\"{x=}; {y=} \\n\\n\")  # f\"x:{x}\"\"\n",
    "\n",
    "\n",
    "print(x)"
   ]
  },
  {
   "cell_type": "code",
   "execution_count": null,
   "metadata": {},
   "outputs": [],
   "source": []
  },
  {
   "cell_type": "code",
   "execution_count": null,
   "metadata": {},
   "outputs": [],
   "source": []
  },
  {
   "cell_type": "markdown",
   "metadata": {},
   "source": [
    "To explain this code using a more mathematical approach, let's dive into the Euclidean algorithm, which is used to find the greatest common divisor (GCD) of two integers.\n",
    "\n",
    "### Problem Setup:\n",
    "\n",
    "Given two positive integers \\( x \\) and \\( y \\), we want to find their GCD. The GCD is the largest positive integer that divides both \\( x \\) and \\( y \\) without leaving a remainder.\n",
    "\n",
    "### Euclidean Algorithm:\n",
    "\n",
    "The Euclidean algorithm is based on two key observations:\n",
    "\n",
    "1. **If \\( y \\) divides \\( x \\) (i.e., \\( x \\mod y = 0 \\)), then \\( \\text{GCD}(x, y) = y \\).**\n",
    "2. **If \\( y \\) does not divide \\( x \\), then \\( \\text{GCD}(x, y) = \\text{GCD}(y, x \\mod y) \\).**\n",
    "\n",
    "This leads to the recursive definition:\n",
    "\\[\n",
    "\\text{GCD}(x, y) = \\text{GCD}(y, x \\mod y)\n",
    "\\]\n",
    "until \\( y = 0 \\), at which point \\( x \\) is the GCD.\n",
    "\n",
    "### Step-by-Step Explanation of the Code:\n",
    "\n",
    "Given \\( x = 46 \\) and \\( y = 128 \\):\n",
    "\n",
    "1. **Initialization:**\n",
    "   - \\( x = 46 \\)\n",
    "   - \\( y = 128 \\)\n",
    "\n",
    "2. **Iteration Process:**\n",
    "\n",
    "   **First Iteration:**\n",
    "   - Compute \\( x \\mod y \\), which is \\( 46 \\mod 128 = 46 \\).\n",
    "   - Update \\( x \\) to \\( y \\) (i.e., \\( x = 128 \\)).\n",
    "   - Update \\( y \\) to \\( x \\mod y \\) (i.e., \\( y = 46 \\)).\n",
    "\n",
    "   **Second Iteration:**\n",
    "   - Compute \\( x \\mod y \\), which is \\( 128 \\mod 46 = 36 \\).\n",
    "   - Update \\( x \\) to \\( y \\) (i.e., \\( x = 46 \\)).\n",
    "   - Update \\( y \\) to \\( x \\mod y \\) (i.e., \\( y = 36 \\)).\n",
    "\n",
    "   **Third Iteration:**\n",
    "   - Compute \\( x \\mod y \\), which is \\( 46 \\mod 36 = 10 \\).\n",
    "   - Update \\( x \\) to \\( y \\) (i.e., \\( x = 36 \\)).\n",
    "   - Update \\( y \\) to \\( x \\mod y \\) (i.e., \\( y = 10 \\)).\n",
    "\n",
    "   **Fourth Iteration:**\n",
    "   - Compute \\( x \\mod y \\), which is \\( 36 \\mod 10 = 6 \\).\n",
    "   - Update \\( x \\) to \\( y \\) (i.e., \\( x = 10 \\)).\n",
    "   - Update \\( y \\) to \\( x \\mod y \\) (i.e., \\( y = 6 \\)).\n",
    "\n",
    "   **Fifth Iteration:**\n",
    "   - Compute \\( x \\mod y \\), which is \\( 10 \\mod 6 = 4 \\).\n",
    "   - Update \\( x \\) to \\( y \\) (i.e., \\( x = 6 \\)).\n",
    "   - Update \\( y \\) to \\( x \\mod y \\) (i.e., \\( y = 4 \\)).\n",
    "\n",
    "   **Sixth Iteration:**\n",
    "   - Compute \\( x \\mod y \\), which is \\( 6 \\mod 4 = 2 \\).\n",
    "   - Update \\( x \\) to \\( y \\) (i.e., \\( x = 4 \\)).\n",
    "   - Update \\( y \\) to \\( x \\mod y \\) (i.e., \\( y = 2 \\)).\n",
    "\n",
    "   **Seventh Iteration:**\n",
    "   - Compute \\( x \\mod y \\), which is \\( 4 \\mod 2 = 0 \\).\n",
    "   - Update \\( x \\) to \\( y \\) (i.e., \\( x = 2 \\)).\n",
    "   - Update \\( y \\) to \\( x \\mod y \\) (i.e., \\( y = 0 \\)).\n",
    "\n",
    "   Since \\( y \\) is now \\( 0 \\), the algorithm terminates, and the value of \\( x \\) at this point, which is \\( 2 \\), is the GCD.\n",
    "\n",
    "### Mathematical Summary:\n",
    "\n",
    "The Euclidean algorithm repeatedly applies the relation:\n",
    "\\[\n",
    "\\text{GCD}(x, y) = \\text{GCD}(y, x \\mod y)\n",
    "\\]\n",
    "until \\( y = 0 \\). The final non-zero \\( x \\) is the GCD of the original numbers. This algorithm efficiently reduces the problem size in each step and eventually converges to the GCD.\n",
    "\n",
    "In our case:\n",
    "\\[\n",
    "\\text{GCD}(46, 128) = 2\n",
    "\\]"
   ]
  },
  {
   "cell_type": "code",
   "execution_count": null,
   "metadata": {},
   "outputs": [],
   "source": []
  },
  {
   "cell_type": "code",
   "execution_count": 79,
   "metadata": {},
   "outputs": [
    {
     "name": "stdout",
     "output_type": "stream",
     "text": [
      "6\n",
      "12\n"
     ]
    }
   ],
   "source": [
    "a= [2,6] \n",
    "b = [24, 36]\n",
    "\n",
    "# a = [2,4]\n",
    "# b = [16, 32, 96]\n",
    "\n",
    "\n",
    "def product_of_list(lst):\n",
    "    product = 1\n",
    "    for num in lst:\n",
    "        product *= num\n",
    "    return product\n",
    "\n",
    "\n",
    "\n",
    "for i in range(2, product_of_list(a)+1):\n",
    "    # check if i is product of 6,2\n",
    "    if all(i % num == 0 for num in a):\n",
    "\n",
    "        # and factor of 24, 36\n",
    "        # print([j for j in b if j%i==0], i)\n",
    "        print(i)\n"
   ]
  },
  {
   "cell_type": "code",
   "execution_count": 80,
   "metadata": {},
   "outputs": [
    {
     "data": {
      "text/plain": [
       "False"
      ]
     },
     "execution_count": 80,
     "metadata": {},
     "output_type": "execute_result"
    }
   ],
   "source": [
    "all(2 % num == 0 for num in a)"
   ]
  },
  {
   "cell_type": "code",
   "execution_count": null,
   "metadata": {},
   "outputs": [],
   "source": []
  },
  {
   "cell_type": "code",
   "execution_count": 81,
   "metadata": {},
   "outputs": [
    {
     "data": {
      "text/plain": [
       "([2, 6], [24, 36])"
      ]
     },
     "execution_count": 81,
     "metadata": {},
     "output_type": "execute_result"
    }
   ],
   "source": [
    "a, b"
   ]
  },
  {
   "cell_type": "code",
   "execution_count": 82,
   "metadata": {},
   "outputs": [],
   "source": [
    "a = [2,4]\n",
    "b = [16, 32, 96]\n",
    "\n",
    "# to find all mulitples of first array\n",
    "# lowest common multiple of first array: 4\n",
    "\n",
    "\n",
    "\n",
    "# greatest common divioir\n",
    "# higest number than will divide any number in b : 16\n",
    "\n",
    "\n",
    "\n",
    "# then you need to find out common multiples of lcm that also divides gcd"
   ]
  },
  {
   "cell_type": "code",
   "execution_count": null,
   "metadata": {},
   "outputs": [],
   "source": []
  },
  {
   "cell_type": "code",
   "execution_count": null,
   "metadata": {},
   "outputs": [],
   "source": []
  },
  {
   "cell_type": "code",
   "execution_count": 83,
   "metadata": {},
   "outputs": [
    {
     "data": {
      "text/plain": [
       "3"
      ]
     },
     "execution_count": 83,
     "metadata": {},
     "output_type": "execute_result"
    }
   ],
   "source": [
    "res = 0\n",
    "for i in range(max(a), min(b) + 1):\n",
    "    res += (all([i % aa == 0 for aa in a]) and all([bb % i == 0 for bb in b]))\n",
    "res\n"
   ]
  },
  {
   "cell_type": "code",
   "execution_count": null,
   "metadata": {},
   "outputs": [],
   "source": []
  },
  {
   "cell_type": "code",
   "execution_count": null,
   "metadata": {},
   "outputs": [],
   "source": []
  },
  {
   "cell_type": "code",
   "execution_count": null,
   "metadata": {},
   "outputs": [],
   "source": []
  },
  {
   "cell_type": "markdown",
   "metadata": {},
   "source": [
    "# Dynamic Array\n",
    "Declare a 2-dimensional array, , of\n",
    "empty arrays. All arrays are zero indexed.\n",
    "\n",
    "Declare an integer,\n",
    ", and initialize it to\n",
    "\n",
    ".\n",
    "\n",
    "There are\n",
    "\n",
    "types of queries, given as an array of strings for you to parse:\n",
    "\n",
    "    Query: 1 x y\n",
    "        Let \n",
    "\n",
    ".\n",
    "Append the integer\n",
    "to\n",
    "\n",
    "    .\n",
    "\n",
    "Query: 2 x y\n",
    "\n",
    "    Let \n",
    "\n",
    ".\n",
    "Assign the value\n",
    "to\n",
    ".\n",
    "Store the new value of\n",
    "to an answers array."
   ]
  },
  {
   "cell_type": "code",
   "execution_count": 10,
   "metadata": {},
   "outputs": [
    {
     "name": "stdout",
     "output_type": "stream",
     "text": [
      "(2, 2)\n"
     ]
    }
   ],
   "source": [
    "import numpy as np\n",
    "n = 2 # shape\n",
    "\n",
    "[0 for h in range(n)], [ [ 0 for cols in range(n)] for rows in range(n) ], np.zeros((3,3))\n",
    "arr = np.zeros((n,n))\n",
    "print(arr.shape)\n",
    "last_answer = 0\n",
    "answer_lsit = []\n",
    "\n",
    "\n",
    "for i in range(len())\n",
    "\n",
    "\n"
   ]
  },
  {
   "cell_type": "code",
   "execution_count": 38,
   "metadata": {},
   "outputs": [
    {
     "name": "stdout",
     "output_type": "stream",
     "text": [
      "query_type=1         x=0   y=5\n",
      "idx=0\n",
      "query_type=1         x=1   y=7\n",
      "idx=1\n",
      "query_type=1         x=0   y=3\n",
      "idx=0\n",
      "query_type=2         x=1   y=0\n",
      "idx=1\n",
      "query_type=2         x=1   y=1\n",
      "idx=0\n",
      "[7, 3]\n"
     ]
    }
   ],
   "source": [
    "def dynamicArray(n, queries):\n",
    "    arrays = [[] for _ in range(n)]\n",
    "    results=[]\n",
    "    last_ans = 0\n",
    "    for q in queries:\n",
    "        parts = q.split()\n",
    "        parts = map(int, parts)\n",
    "        # print(q, q.split())\n",
    "        query_type, x, y = parts\n",
    "        print(f\"{query_type=}         {x=}   {y=}\")\n",
    "        \n",
    "        idx = (x ^ last_ans) % n\n",
    "        print(f\"{idx=}\")\n",
    "\n",
    "        if query_type==1:\n",
    "            # append y to aray at index idx\n",
    "            arrays[idx].append(y)\n",
    "        \n",
    "        if query_type==2:\n",
    "            # Type 2 query: Find the value at index y of array at index idx\n",
    "            last_ans = arrays[idx][y% len(arrays[idx])]\n",
    "            results.append(last_ans)\n",
    "    return results\n",
    "    \n",
    "\n",
    "\n",
    "n = 2\n",
    "queries = [\n",
    "    \"1 0 5\",\n",
    "    \"1 1 7\",\n",
    "    \"1 0 3\",\n",
    "    \"2 1 0\",\n",
    "    \"2 1 1\"\n",
    "]\n",
    "\n",
    "print(dynamicArray(n, queries))"
   ]
  },
  {
   "cell_type": "code",
   "execution_count": null,
   "metadata": {},
   "outputs": [],
   "source": []
  },
  {
   "cell_type": "code",
   "execution_count": null,
   "metadata": {},
   "outputs": [],
   "source": []
  },
  {
   "cell_type": "code",
   "execution_count": null,
   "metadata": {},
   "outputs": [],
   "source": []
  },
  {
   "cell_type": "markdown",
   "metadata": {},
   "source": [
    "# Missing Numbers \n",
    "Given two arrays of integers, find which elements in the second array are missing from the first array."
   ]
  },
  {
   "cell_type": "code",
   "execution_count": 1,
   "metadata": {},
   "outputs": [],
   "source": [
    "arr = [7, 2, 5, 3, 5, 3]\n",
    "brr = [7, 2, 5, 4, 6, 3, 5, 3]\n",
    "\n",
    "missing_numbers = [4,6]"
   ]
  },
  {
   "cell_type": "code",
   "execution_count": 2,
   "metadata": {},
   "outputs": [
    {
     "name": "stdout",
     "output_type": "stream",
     "text": [
      "4 6\n"
     ]
    }
   ],
   "source": [
    "def missingNumbers(arr, brr):\n",
    "    # Manually count the frequency of elements in arr\n",
    "    arr_count = {}\n",
    "    for num in arr:\n",
    "        if num in arr_count:\n",
    "            arr_count[num] += 1\n",
    "        else:\n",
    "            arr_count[num] = 1\n",
    "    \n",
    "    # Manually count the frequency of elements in brr\n",
    "    brr_count = {}\n",
    "    for num in brr:\n",
    "        if num in brr_count:\n",
    "            brr_count[num] += 1\n",
    "        else:\n",
    "            brr_count[num] = 1\n",
    "    \n",
    "    # List to store missing numbers\n",
    "    missing = []\n",
    "    \n",
    "    # Compare the frequencies of numbers in brr_count and arr_count\n",
    "    for num in brr_count:\n",
    "        if brr_count[num] > arr_count.get(num, 0):\n",
    "            missing.append(num)\n",
    "    \n",
    "    # Return the missing numbers sorted in ascending order\n",
    "    return sorted(missing)\n",
    "\n",
    "\n",
    "# Function Call\n",
    "result = missingNumbers(arr, brr)\n",
    "\n",
    "# Output the result\n",
    "print(\" \".join(map(str, result)))\n",
    "\n"
   ]
  },
  {
   "cell_type": "code",
   "execution_count": null,
   "metadata": {},
   "outputs": [],
   "source": []
  },
  {
   "cell_type": "code",
   "execution_count": null,
   "metadata": {},
   "outputs": [],
   "source": []
  },
  {
   "cell_type": "markdown",
   "metadata": {},
   "source": [
    "# Apple and orange\n",
    "\n",
    "Sam's house has an apple tree and an orange tree that yield an abundance of fruit. Using the information given below, determine the number of apples and oranges that land on Sam's house.\n",
    "\n",
    "In the diagram below:\n",
    "\n",
    "    The red region denotes the house, where \n",
    "\n",
    "is the start point, and\n",
    "is the endpoint. The apple tree is to the left of the house, and the orange tree is to its right.\n",
    "Assume the trees are located on a single point, where the apple tree is at point\n",
    ", and the orange tree is at point\n",
    ".\n",
    "When a fruit falls from its tree, it lands\n",
    "units of distance from its tree of origin along the -axis. *A negative value of means the fruit fell units to the tree's left, and a positive value of means it falls units to the tree's right. *"
   ]
  },
  {
   "cell_type": "code",
   "execution_count": 14,
   "metadata": {},
   "outputs": [
    {
     "name": "stdout",
     "output_type": "stream",
     "text": [
      "house region: s=7:t=10\n",
      "apple location:a=4; orange location:b=12\n",
      "apples: m=3; oranges: n=3\n",
      "apples_distance=[2, 3, -4];  orange_distances=[3, -2, -4]\n"
     ]
    },
    {
     "data": {
      "text/plain": [
       "(1, 2)"
      ]
     },
     "execution_count": 14,
     "metadata": {},
     "output_type": "execute_result"
    }
   ],
   "source": [
    "\n",
    "# s: integer, starting point of Sam's house location.\n",
    "# t: integer, ending location of Sam's house location.\n",
    "# a: integer, location of the Apple tree.\n",
    "# b: integer, location of the Orange tree.\n",
    "# apples: integer array, distances at which each apple falls from the tree.\n",
    "# oranges: integer array, distances at which each orange falls from the tree.\n",
    "\n",
    "\n",
    "# house_region\n",
    "s=7;t=10\n",
    "print(f\"house region: {s=}:{t=}\")\n",
    "# apple tree \n",
    "a=4\n",
    "# orange trree\n",
    "b=12\n",
    "\n",
    "print(f\"apple location:{a=}; orange location:{b=}\")\n",
    "\n",
    "\n",
    "# apples \n",
    "m= 3\n",
    "\n",
    "# oranges \n",
    "n=3\n",
    "\n",
    "print(f\"apples: {m=}; oranges: {n=}\")\n",
    "\n",
    "\n",
    "apples_distance = [2, 3, -4]\n",
    "orange_distances = [3, -2, -4]\n",
    "\n",
    "print(f\"{apples_distance=};  {orange_distances=}\")\n",
    "\n",
    "\n",
    "len([ i+a for i in apples_distance if (i+a>=s )]), len([i+b for i in orange_distances if (i+b) >=t])"
   ]
  },
  {
   "cell_type": "code",
   "execution_count": 15,
   "metadata": {},
   "outputs": [
    {
     "name": "stdout",
     "output_type": "stream",
     "text": [
      "Apples falling within range: 2\n",
      "Oranges falling within range: 1\n"
     ]
    }
   ],
   "source": [
    "# Input variables (example values for s, t, a, and b)\n",
    "s = 7  # Starting point of the house\n",
    "t = 11 # Ending point of the house\n",
    "a = 5  # Position of the apple tree\n",
    "b = 15 # Position of the orange tree\n",
    "\n",
    "# Distance arrays\n",
    "apples_distance = [2, 3, -4]\n",
    "orange_distances = [3, -2, -4]\n",
    "\n",
    "# Calculate the actual positions where apples and oranges fall\n",
    "apples_fall_positions = [a + d for d in apples_distance]\n",
    "oranges_fall_positions = [b + d for d in orange_distances]\n",
    "\n",
    "# Count how many apples and oranges fall within the house boundaries [s, t]\n",
    "apples_in_range = sum(1 for pos in apples_fall_positions if s <= pos <= t)\n",
    "oranges_in_range = sum(1 for pos in oranges_fall_positions if s <= pos <= t)\n",
    "\n",
    "# Output the results\n",
    "print(f\"Apples falling within range: {apples_in_range}\")\n",
    "print(f\"Oranges falling within range: {oranges_in_range}\")\n"
   ]
  },
  {
   "cell_type": "code",
   "execution_count": 17,
   "metadata": {},
   "outputs": [
    {
     "name": "stdout",
     "output_type": "stream",
     "text": [
      "Apples falling within range: 2\n",
      "Oranges falling within range: 1\n"
     ]
    }
   ],
   "source": [
    "# Input variables (example values for s, t, a, and b)\n",
    "s = 7  # Starting point of the house\n",
    "t = 11 # Ending point of the house\n",
    "a = 5  # Position of the apple tree\n",
    "b = 15 # Position of the orange tree\n",
    "\n",
    "# Distance arrays\n",
    "apples_distance = [2, 3, -4]\n",
    "orange_distances = [3, -2, -4]\n",
    "\n",
    "# Directly count apples and oranges within the range without creating new lists\n",
    "apples_in_range = sum(s <= (a + d) <= t for d in apples_distance)\n",
    "oranges_in_range = sum(s <= (b + d) <= t for d in orange_distances)\n",
    "\n",
    "\n",
    "# Output the results\n",
    "print(f\"Apples falling within range: {apples_in_range}\")\n",
    "print(f\"Oranges falling within range: {oranges_in_range}\")\n"
   ]
  },
  {
   "cell_type": "code",
   "execution_count": 20,
   "metadata": {},
   "outputs": [
    {
     "data": {
      "text/plain": [
       "[True, True, False]"
      ]
     },
     "execution_count": 20,
     "metadata": {},
     "output_type": "execute_result"
    }
   ],
   "source": []
  },
  {
   "cell_type": "code",
   "execution_count": 1,
   "metadata": {},
   "outputs": [],
   "source": [
    "# NUMBER LINE JUMPS\n",
    "\n"
   ]
  },
  {
   "cell_type": "code",
   "execution_count": 7,
   "metadata": {},
   "outputs": [
    {
     "data": {
      "text/plain": [
       "'YES'"
      ]
     },
     "execution_count": 7,
     "metadata": {},
     "output_type": "execute_result"
    }
   ],
   "source": [
    "x1,x2,v1,v2 = [0 ,2, 5, 3]\n",
    "def kangaroo(x1, v1, x2, v2):\n",
    "\n",
    "    if x1 < x2 and v1 < v2:\n",
    "        return 'NO'    \n",
    "    else:\n",
    "        if v1!=v2 and (x2-x1)%(v2-v1)==0:\n",
    "            return 'YES' \n",
    "        else:\n",
    "            return 'NO'\n",
    "kangaroo(x1, v1, x2, v2)\n"
   ]
  },
  {
   "cell_type": "code",
   "execution_count": null,
   "metadata": {},
   "outputs": [],
   "source": []
  },
  {
   "cell_type": "code",
   "execution_count": null,
   "metadata": {},
   "outputs": [],
   "source": []
  },
  {
   "cell_type": "code",
   "execution_count": null,
   "metadata": {},
   "outputs": [],
   "source": []
  },
  {
   "cell_type": "code",
   "execution_count": null,
   "metadata": {},
   "outputs": [],
   "source": []
  },
  {
   "cell_type": "code",
   "execution_count": null,
   "metadata": {},
   "outputs": [],
   "source": []
  },
  {
   "cell_type": "code",
   "execution_count": null,
   "metadata": {},
   "outputs": [],
   "source": []
  },
  {
   "cell_type": "code",
   "execution_count": null,
   "metadata": {},
   "outputs": [],
   "source": []
  },
  {
   "cell_type": "markdown",
   "metadata": {},
   "source": [
    "# 997. Find the Town Judge\n"
   ]
  },
  {
   "cell_type": "markdown",
   "metadata": {},
   "source": []
  },
  {
   "cell_type": "code",
   "execution_count": 5,
   "metadata": {},
   "outputs": [
    {
     "data": {
      "text/plain": [
       "([[1, 3]], [[2, 3]])"
      ]
     },
     "execution_count": 5,
     "metadata": {},
     "output_type": "execute_result"
    }
   ],
   "source": [
    "n = 3; trust = [[1,3],[2,3],[3,1]]\n",
    "trust = [[[1,3],[2,3]]]\n",
    "\n",
    "\n",
    "([x for x,y in trust]), [y for x,y in trust]\n",
    "\n"
   ]
  },
  {
   "cell_type": "code",
   "execution_count": 28,
   "metadata": {},
   "outputs": [
    {
     "name": "stdout",
     "output_type": "stream",
     "text": [
      "[1, 2, 3] trusts {1, 3}\n"
     ]
    },
    {
     "data": {
      "text/plain": [
       "-1"
      ]
     },
     "execution_count": 28,
     "metadata": {},
     "output_type": "execute_result"
    }
   ],
   "source": [
    "def judge(n, trust):\n",
    "   \n",
    "    a = [x for x,y in trust] ;b = {y for x,y in trust}\n",
    "\n",
    "    print(f\"{a} trusts {b}\")\n",
    "\n",
    "\n",
    "    judges = []\n",
    "    judge_found = False\n",
    "    for i in b:\n",
    "        if i not in a:\n",
    "            print(\"judge\",i)\n",
    "            judge_found = True\n",
    "            judges.append(i)\n",
    "        \n",
    "\n",
    "    if not judge_found:\n",
    "        return -1\n",
    "    return judges\n",
    "n = 3; trust = [[1,3],[2,3],[3,1]]\n",
    "\n",
    "# n = 3; trust = [[1,3],[2,3]]\n",
    "judge(n, trust)\n"
   ]
  },
  {
   "cell_type": "code",
   "execution_count": null,
   "metadata": {},
   "outputs": [],
   "source": []
  },
  {
   "cell_type": "code",
   "execution_count": 22,
   "metadata": {},
   "outputs": [
    {
     "name": "stdout",
     "output_type": "stream",
     "text": [
      "count=[0, 0, 0, 0]\n",
      "[0, -1, -1, 2]\n",
      "[3]\n"
     ]
    }
   ],
   "source": [
    "n = 3; trust = [[1,3],[2,3],[3,1]]\n",
    "trust = [[1,3],[2,3]]\n",
    "\n",
    "\n",
    "def judge(n, trust):\n",
    "    count = [0] * (n+1)\n",
    "    print(f\"{count=}\")\n",
    "\n",
    "    for truster, trustee in trust:\n",
    "        count[truster]-=1\n",
    "        count[trustee]+=1\n",
    "\n",
    "    print(count)\n",
    "\n",
    "    # for i in range(1, len(count)):\n",
    "    #     if count[i] == (n-1):\n",
    "    #         return i\n",
    "    # return -1\n",
    "\n",
    "\n",
    "\n",
    "    return [ i for i in range(1,len(count)) if count[i]==(n-1)][0]\n",
    "\n",
    "\n",
    "judge(3, trust)\n"
   ]
  },
  {
   "cell_type": "code",
   "execution_count": 18,
   "metadata": {},
   "outputs": [
    {
     "data": {
      "text/plain": [
       "(4, 4)"
      ]
     },
     "execution_count": 18,
     "metadata": {},
     "output_type": "execute_result"
    }
   ],
   "source": [
    "n+1, len(count)"
   ]
  },
  {
   "cell_type": "code",
   "execution_count": 23,
   "metadata": {},
   "outputs": [],
   "source": [
    "class Solution(object):\n",
    "    def findJudge(self, n, trust):\n",
    "        count = [0] * (n+1)\n",
    "        for truster, trustee in trust:\n",
    "            count[truster]-=1\n",
    "            count[trustee]+=1\n",
    "        for i in range(1, len(count)):\n",
    "            if count[i] == (n-1):\n",
    "                return i\n",
    "        return -1\n",
    "\n"
   ]
  },
  {
   "cell_type": "code",
   "execution_count": null,
   "metadata": {},
   "outputs": [],
   "source": []
  },
  {
   "cell_type": "code",
   "execution_count": null,
   "metadata": {},
   "outputs": [],
   "source": []
  },
  {
   "cell_type": "code",
   "execution_count": null,
   "metadata": {},
   "outputs": [],
   "source": []
  },
  {
   "cell_type": "markdown",
   "metadata": {},
   "source": [
    "# 80. Remove Duplicates from Sorted Array II\n",
    "Given an integer array nums sorted in non-decreasing order, remove some duplicates in-place such that each unique element appears at most twice. The relative order of the elements should be kept the same.\n",
    "\n",
    "Since it is impossible to change the length of the array in some languages, you must instead have the result be placed in the first part of the array nums. More formally, if there are k elements after removing the duplicates, then the first k elements of nums should hold the final result. It does not matter what you leave beyond the first k elements.\n",
    "\n",
    "Return k after placing the final result in the first k slots of nums.\n",
    "\n",
    "Do not allocate extra space for another array. You must do this by modifying the input array in-place with O(1) extra memory.\n",
    "\n",
    "Custom Judge:\n",
    "\n",
    "The judge will test your solution with the following code:"
   ]
  },
  {
   "cell_type": "code",
   "execution_count": 1,
   "metadata": {},
   "outputs": [
    {
     "data": {
      "text/plain": [
       "6"
      ]
     },
     "execution_count": 1,
     "metadata": {},
     "output_type": "execute_result"
    }
   ],
   "source": [
    "nums = [1,1,1,2,2,3]\n",
    "Output =  5, \n",
    "target= [1,1,2,2,3,_]\n",
    "\n",
    "outputs = (len(set(nums)))*2\n",
    "outputs"
   ]
  },
  {
   "cell_type": "code",
   "execution_count": 2,
   "metadata": {},
   "outputs": [
    {
     "ename": "SyntaxError",
     "evalue": "expected ':' (1735739852.py, line 1)",
     "output_type": "error",
     "traceback": [
      "\u001b[0;36m  Cell \u001b[0;32mIn[2], line 1\u001b[0;36m\u001b[0m\n\u001b[0;31m    for i in ra\u001b[0m\n\u001b[0m               ^\u001b[0m\n\u001b[0;31mSyntaxError\u001b[0m\u001b[0;31m:\u001b[0m expected ':'\n"
     ]
    }
   ],
   "source": [
    "for i in range(0, len(nums), 2):\n",
    "    if nums"
   ]
  },
  {
   "cell_type": "code",
   "execution_count": 14,
   "metadata": {},
   "outputs": [
    {
     "name": "stdout",
     "output_type": "stream",
     "text": [
      "same i=1;  j=1;  p1=0\n",
      "same i=1;  j=1;  p1=2\n",
      "different i=1;  j=2;  p1=4\n",
      "different i=1;  j=2;  p1=4\n",
      "different i=2;  j=3;  p1=4\n"
     ]
    },
    {
     "data": {
      "text/plain": [
       "[1, 1, 1, 1, 2, 3]"
      ]
     },
     "execution_count": 14,
     "metadata": {},
     "output_type": "execute_result"
    }
   ],
   "source": [
    "nums = [1,1,1,2,2,3]\n",
    "\n",
    "p1 = 0\n",
    "for i,j in zip(nums, nums[1:]):\n",
    "    if i==j:\n",
    "        print(f\"same {i=};  {j=};  {p1=}\")\n",
    "        nums[p1] =i ; nums[p1+1]=j\n",
    "        p1+=2\n",
    "    else: \n",
    "        print(f\"different {i=};  {j=};  {p1=}\")\n",
    "nums"
   ]
  },
  {
   "cell_type": "code",
   "execution_count": 15,
   "metadata": {},
   "outputs": [
    {
     "name": "stdout",
     "output_type": "stream",
     "text": [
      "same i=1;  j=1; \n",
      "same i=1;  j=1; \n",
      "same i=1;  j=1; \n",
      "same i=1;  j=2; \n",
      "same i=2;  j=3; \n"
     ]
    }
   ],
   "source": [
    "for i,j in zip(nums, nums[1:]):\n",
    "    print(f\"same {i=};  {j=}; \")\n",
    "    "
   ]
  },
  {
   "cell_type": "code",
   "execution_count": 20,
   "metadata": {},
   "outputs": [
    {
     "name": "stdout",
     "output_type": "stream",
     "text": [
      "nums[i]=0;  nums[i+1]=0\n",
      "nums[i]=1;  nums[i+1]=1\n",
      "nums[i]=1;  nums[i+1]=1\n",
      "nums[i]=1;  nums[i+1]=1\n",
      "nums[i]=3;  nums[i+1]=3\n"
     ]
    }
   ],
   "source": [
    "nums = [1,1,1,2,2,3]\n",
    "nums = [0,0,1,1,1,1,2,3,3]\n",
    "for i in range(0, len(nums)-1, 1):\n",
    "    if nums[i] == nums[i+1]:\n",
    "        print(f\"{nums[i]=};  {nums[i+1]=}\")\n",
    "        i+=1"
   ]
  },
  {
   "cell_type": "code",
   "execution_count": 37,
   "metadata": {},
   "outputs": [
    {
     "name": "stdout",
     "output_type": "stream",
     "text": [
      "dict_count={-1: 1, 0: 4, 3: 2}\n",
      "nums=[-1, 0, 0, 3, 3, 3, 3]; i=5\n"
     ]
    }
   ],
   "source": [
    "nums = [1,1,1,2,2,3]\n",
    "\n",
    "# nums = [0,0,1,1,1,1,2,3,3]\n",
    "nums = [-1,0,0,0,0,3,3]\n",
    "\n",
    "dict_count={}\n",
    "for i in nums:\n",
    "    dict_count[i] = dict_count.get(i, 0)+1\n",
    "print(f\"{dict_count=}\")\n",
    "\n",
    "\n",
    "i=0\n",
    "for k, v in dict_count.items():\n",
    "    if v==1:\n",
    "        nums[i] = k\n",
    "        i+=1\n",
    "    elif v>=2:\n",
    "        nums[i] = nums[i+1] = k\n",
    "        i+=2\n",
    "\n",
    "nums\n",
    "print(f\"{nums=}; {i=}\")\n",
    "\n"
   ]
  },
  {
   "cell_type": "code",
   "execution_count": null,
   "metadata": {},
   "outputs": [],
   "source": []
  },
  {
   "cell_type": "code",
   "execution_count": null,
   "metadata": {},
   "outputs": [],
   "source": []
  },
  {
   "cell_type": "code",
   "execution_count": null,
   "metadata": {},
   "outputs": [],
   "source": []
  },
  {
   "cell_type": "code",
   "execution_count": 35,
   "metadata": {},
   "outputs": [
    {
     "data": {
      "text/plain": [
       "({-1: 1, 0: 4, 3: 2}, [-1, 0, 3])"
      ]
     },
     "execution_count": 35,
     "metadata": {},
     "output_type": "execute_result"
    }
   ],
   "source": [
    "dict_count, sorted(dict_count)"
   ]
  },
  {
   "cell_type": "code",
   "execution_count": null,
   "metadata": {},
   "outputs": [],
   "source": []
  },
  {
   "cell_type": "code",
   "execution_count": null,
   "metadata": {},
   "outputs": [],
   "source": []
  },
  {
   "cell_type": "code",
   "execution_count": 40,
   "metadata": {},
   "outputs": [
    {
     "data": {
      "text/plain": [
       "5"
      ]
     },
     "execution_count": 40,
     "metadata": {},
     "output_type": "execute_result"
    }
   ],
   "source": [
    "class Solution(object):\n",
    "    def removeDuplicates(self, nums):\n",
    "        \"\"\"\n",
    "        :type nums: List[int]\n",
    "        :rtype: int\n",
    "        \"\"\"\n",
    "\n",
    "        # Step 1: Create a dictionary to count occurrences of each element\n",
    "        dict_count = {}\n",
    "        for num in nums:\n",
    "            dict_count[num] = dict_count.get(num, 0) + 1\n",
    "\n",
    "        i = 0  # Index to modify the list in-place\n",
    "\n",
    "        # Step 2: Iterate over the sorted keys of the dictionary\n",
    "        for k, v in dict_count.items():\n",
    "            if v == 1:  # If the element appears once\n",
    "                nums[i] = k\n",
    "                i += 1\n",
    "            elif v >= 2:  # If the element appears more than once, allow it twice\n",
    "                nums[i] = k\n",
    "                nums[i + 1] = k\n",
    "                i += 2\n",
    "\n",
    "        return i  # Return the new length of the modified list\n",
    "    \n",
    "r = Solution()\n",
    "r.removeDuplicates(nums)\n"
   ]
  },
  {
   "cell_type": "code",
   "execution_count": 41,
   "metadata": {},
   "outputs": [
    {
     "data": {
      "text/plain": [
       "5"
      ]
     },
     "execution_count": 41,
     "metadata": {},
     "output_type": "execute_result"
    }
   ],
   "source": [
    "class Solution(object):\n",
    "    def removeDuplicates(self, nums):\n",
    "        \"\"\"\n",
    "        :type nums: List[int]\n",
    "        :rtype: int\n",
    "        \"\"\"\n",
    "\n",
    "        # Ensure the list is sorted\n",
    "        nums.sort()\n",
    "\n",
    "        i = 0  # Index to place the next element in the modified list\n",
    "        for num in nums:\n",
    "            # If the first two occurrences of each element, add to nums\n",
    "            if i < 2 or nums[i - 2] != num:\n",
    "                nums[i] = num\n",
    "                i += 1\n",
    "\n",
    "        return i \n",
    "    \n",
    "\n",
    "r = Solution()\n",
    "r.removeDuplicates(nums)"
   ]
  },
  {
   "cell_type": "code",
   "execution_count": null,
   "metadata": {},
   "outputs": [],
   "source": []
  },
  {
   "cell_type": "code",
   "execution_count": null,
   "metadata": {},
   "outputs": [],
   "source": []
  },
  {
   "cell_type": "code",
   "execution_count": 48,
   "metadata": {},
   "outputs": [
    {
     "name": "stdout",
     "output_type": "stream",
     "text": [
      "[-1, 0, 0, 0, 0, 3, 3]\n"
     ]
    },
    {
     "data": {
      "text/plain": [
       "5"
      ]
     },
     "execution_count": 48,
     "metadata": {},
     "output_type": "execute_result"
    }
   ],
   "source": [
    "print(nums)\n",
    "i = 0  # Index to place the next element in the modified list\n",
    "for num in nums:\n",
    "    # If the first two occurrences of each element, add to nums\n",
    "    if i < 2 or nums[i - 2] != num:\n",
    "        nums[i] = num\n",
    "        i += 1\n",
    "\n",
    "i "
   ]
  },
  {
   "cell_type": "code",
   "execution_count": 52,
   "metadata": {},
   "outputs": [
    {
     "ename": "SyntaxError",
     "evalue": "expected ':' (2118963431.py, line 11)",
     "output_type": "error",
     "traceback": [
      "\u001b[0;36m  Cell \u001b[0;32mIn[52], line 11\u001b[0;36m\u001b[0m\n\u001b[0;31m    if nums[i] != nums[i-2]\u001b[0m\n\u001b[0m                           ^\u001b[0m\n\u001b[0;31mSyntaxError\u001b[0m\u001b[0;31m:\u001b[0m expected ':'\n"
     ]
    }
   ],
   "source": [
    "nums = [1,1,1,2,2,3]\n",
    "\n",
    "# nums = [0,0,1,1,1,1,2,3,3]\n",
    "nums = [-1,0,0,0,0,3,3]\n",
    "\n",
    "\n",
    "print(nums)\n",
    "\n",
    "\n",
    "for i in range(2,len(nums)):\n",
    "    if nums[i] != nums[i-2]\n",
    "    print(f\"{nums[i]=}; {nums[i-2]}\")\n",
    "    # nums[i]"
   ]
  },
  {
   "cell_type": "code",
   "execution_count": 55,
   "metadata": {},
   "outputs": [
    {
     "data": {
      "text/plain": [
       "([-1, 0, 0, 3, 3, 3, 3], 5)"
      ]
     },
     "execution_count": 55,
     "metadata": {},
     "output_type": "execute_result"
    }
   ],
   "source": [
    "i =0 \n",
    "for n in nums:\n",
    "    if i<2 or nums[i-2] != n:\n",
    "        nums[i] = n \n",
    "        i+=1\n",
    "nums, i\n",
    "\n"
   ]
  },
  {
   "cell_type": "code",
   "execution_count": null,
   "metadata": {},
   "outputs": [],
   "source": []
  },
  {
   "cell_type": "code",
   "execution_count": null,
   "metadata": {},
   "outputs": [],
   "source": []
  },
  {
   "cell_type": "markdown",
   "metadata": {},
   "source": [
    "# 189. Rotate Array\n"
   ]
  },
  {
   "cell_type": "code",
   "execution_count": null,
   "metadata": {},
   "outputs": [],
   "source": []
  },
  {
   "cell_type": "code",
   "execution_count": 83,
   "metadata": {},
   "outputs": [],
   "source": [
    "nums = [1,2,3,4,5,6,7]; k = 3\n",
    "target = [5,6,7,1,2,3,4]\n",
    "s = len(nums)\n",
    "x = [0]* s\n",
    "\n",
    "for i in range(s):\n",
    "    # print(f\"{i=}; {nums[i]=} || {(i+k)%len(nums)=}; {nums[(i-k)%len(nums)]=}\")\n",
    "    # print(f\"{nums[(i-k)%len(nums)]=}; {(i-k)%len(nums)=}; {i=}\")\n",
    "    x[i] = nums[(i-k)%s]\n",
    "\n",
    "\n",
    "\n",
    "x\n",
    "\n",
    "assert target==x, \"NOO\""
   ]
  },
  {
   "cell_type": "code",
   "execution_count": 84,
   "metadata": {},
   "outputs": [
    {
     "data": {
      "text/plain": [
       "[5, 6, 7, 1, 2, 3, 4]"
      ]
     },
     "execution_count": 84,
     "metadata": {},
     "output_type": "execute_result"
    }
   ],
   "source": [
    "nums = [1,2,3,4,5,6,7]; k = 3\n",
    "target = [5,6,7,1,2,3,4]\n",
    "s = len(nums)\n",
    "x = [0]* s\n",
    "\n",
    "for i in range(s):\n",
    "    # print(f\"{i=}; {nums[i]=} || {(i+k)%len(nums)=}; {nums[(i-k)%len(nums)]=}\")\n",
    "    # print(f\"{nums[(i-k)%len(nums)]=}; {(i-k)%len(nums)=}; {i=}\")\n",
    "    x[i] = nums[(i-k)%s]\n",
    "\n",
    "\n",
    "\n",
    "x\n"
   ]
  },
  {
   "cell_type": "code",
   "execution_count": 89,
   "metadata": {},
   "outputs": [
    {
     "name": "stdout",
     "output_type": "stream",
     "text": [
      "nums[-k:]=[5, 6, 7]; k=3;  nums[k]=4;   nums[:-k]=[1, 2, 3, 4]\n",
      "None\n"
     ]
    }
   ],
   "source": [
    "def rotate(nums, k):\n",
    "    n = len(nums)\n",
    "    k %= n  # Normalize k to be within the range of the array length\n",
    "    # return nums[-k:] + nums[:-k]\n",
    "    print(f\"{nums[-k:]=}; {k=};  {nums[k]=};   {nums[:-k]=}\")  \n",
    "    # nums[-k:] gives the last k elements of the list (which will move to the front).\n",
    "    # nums[:-k] gives the rest of the elements before the last k elements.\n",
    "\n",
    "nums = [1, 2, 3, 4, 5, 6, 7]\n",
    "k = 3\n",
    "result = rotate(nums, k)\n",
    "print(result)"
   ]
  },
  {
   "cell_type": "code",
   "execution_count": null,
   "metadata": {},
   "outputs": [],
   "source": []
  }
 ],
 "metadata": {
  "kernelspec": {
   "display_name": "Python 3",
   "language": "python",
   "name": "python3"
  },
  "language_info": {
   "codemirror_mode": {
    "name": "ipython",
    "version": 3
   },
   "file_extension": ".py",
   "mimetype": "text/x-python",
   "name": "python",
   "nbconvert_exporter": "python",
   "pygments_lexer": "ipython3",
   "version": "3.10.14"
  }
 },
 "nbformat": 4,
 "nbformat_minor": 2
}
